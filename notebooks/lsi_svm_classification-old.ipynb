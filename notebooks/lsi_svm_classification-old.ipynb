{
 "cells": [
  {
   "cell_type": "code",
   "execution_count": 1,
   "metadata": {
    "collapsed": true
   },
   "outputs": [],
   "source": [
    "import os\n",
    "import sys\n",
    "import pandas as pd\n",
    "import nltk\n",
    "import numpy as np\n",
    "from scipy.sparse import linalg\n",
    "\n",
    "import newspaper\n",
    "\n",
    "import matplotlib.pyplot as plt\n",
    "%matplotlib inline\n",
    "\n",
    "from sklearn.feature_extraction.text import TfidfVectorizer\n",
    "from sklearn.pipeline import make_pipeline\n",
    "from sklearn import model_selection\n",
    "from sklearn import svm\n",
    "from sklearn.linear_model import RidgeClassifier\n",
    "from sklearn import decomposition\n",
    "from sklearn.metrics import f1_score\n",
    "from sklearn.metrics import precision_score\n",
    "from sklearn.metrics import recall_score\n",
    "from sklearn.model_selection import learning_curve\n",
    "from sklearn.metrics import classification_report\n",
    "from sklearn import exceptions\n",
    "from sklearn.preprocessing import LabelEncoder\n",
    "from sklearn.externals import joblib\n",
    "\n",
    "module_path = os.path.abspath(os.path.join('..'))\n",
    "if module_path not in sys.path:\n",
    "    sys.path.append(module_path)\n",
    "    \n",
    "from internal_displacement.scraper import Scraper\n",
    "from internal_displacement.pipeline import Interpreter\n",
    "\n",
    "import warnings\n",
    "warnings.simplefilter(action = \"ignore\", category = exceptions.UndefinedMetricWarning)"
   ]
  },
  {
   "cell_type": "code",
   "execution_count": 5,
   "metadata": {
    "collapsed": true
   },
   "outputs": [],
   "source": [
    "scraper = Scraper()\n"
   ]
  },
  {
   "cell_type": "code",
   "execution_count": 22,
   "metadata": {
    "collapsed": true
   },
   "outputs": [],
   "source": [
    "df = pd.read_csv('../../article_contents.csv')"
   ]
  },
  {
   "cell_type": "code",
   "execution_count": 74,
   "metadata": {
    "collapsed": true
   },
   "outputs": [],
   "source": [
    "urls = df['url']"
   ]
  },
  {
   "cell_type": "code",
   "execution_count": 8,
   "metadata": {
    "collapsed": true
   },
   "outputs": [],
   "source": [
    "def check_language(article):\n",
    "    '''Identify the language of the article content\n",
    "    and update the article property 'language'\n",
    "    Parameters\n",
    "    ----------\n",
    "    article:        the content of the article:String\n",
    "    '''\n",
    "    try:\n",
    "        language = textacy.text_utils.detect_language(article)\n",
    "    except ValueError:\n",
    "        language = 'na'\n",
    "    return language"
   ]
  },
  {
   "cell_type": "code",
   "execution_count": 11,
   "metadata": {
    "collapsed": true
   },
   "outputs": [],
   "source": [
    "def urls2paragraphs(urls):\n",
    "    content = []\n",
    "    for url in urls:\n",
    "        a = newspaper.Article(url)\n",
    "        a.download()\n",
    "        if a.is_downloaded:\n",
    "            a.parse()\n",
    "            title = a.title\n",
    "            text = a.text\n",
    "            if check_language(text) != 'en':\n",
    "                text = 'not english'\n",
    "            texts = text.split('\\n')\n",
    "            texts = [t for t in texts if len(t) > 3]\n",
    "            for text in texts:\n",
    "                content.append((url, title, text))\n",
    "        else:\n",
    "            content.append((url, title, 'fail'))\n",
    "    return pd.DataFrame(content, columns=['url', 'title', 'paragraph'])"
   ]
  },
  {
   "cell_type": "code",
   "execution_count": 17,
   "metadata": {
    "collapsed": true,
    "scrolled": true
   },
   "outputs": [],
   "source": [
    "df_input = pd.read_csv('../../data/input_urls.csv')"
   ]
  },
  {
   "cell_type": "code",
   "execution_count": 25,
   "metadata": {
    "collapsed": true
   },
   "outputs": [],
   "source": [
    "df_input_sample = df_input.iloc[:3000]"
   ]
  },
  {
   "cell_type": "code",
   "execution_count": 27,
   "metadata": {
    "collapsed": true
   },
   "outputs": [],
   "source": [
    "urls = df_input_sample['DocumentIdentifier']"
   ]
  },
  {
   "cell_type": "code",
   "execution_count": 28,
   "metadata": {},
   "outputs": [
    {
     "name": "stderr",
     "output_type": "stream",
     "text": [
      "Traceback (most recent call last):\n",
      "  File \"/Users/George/miniconda3/envs/d4d-internal-displacement/lib/python3.6/site-packages/newspaper/parsers.py\", line 68, in fromstring\n",
      "    cls.doc = lxml.html.fromstring(html)\n",
      "  File \"/Users/George/miniconda3/envs/d4d-internal-displacement/lib/python3.6/site-packages/lxml/html/__init__.py\", line 876, in fromstring\n",
      "    doc = document_fromstring(html, parser=parser, base_url=base_url, **kw)\n",
      "  File \"/Users/George/miniconda3/envs/d4d-internal-displacement/lib/python3.6/site-packages/lxml/html/__init__.py\", line 765, in document_fromstring\n",
      "    \"Document is empty\")\n",
      "lxml.etree.ParserError: Document is empty\n",
      "Traceback (most recent call last):\n",
      "  File \"/Users/George/miniconda3/envs/d4d-internal-displacement/lib/python3.6/site-packages/newspaper/parsers.py\", line 68, in fromstring\n",
      "    cls.doc = lxml.html.fromstring(html)\n",
      "  File \"/Users/George/miniconda3/envs/d4d-internal-displacement/lib/python3.6/site-packages/lxml/html/__init__.py\", line 876, in fromstring\n",
      "    doc = document_fromstring(html, parser=parser, base_url=base_url, **kw)\n",
      "  File \"/Users/George/miniconda3/envs/d4d-internal-displacement/lib/python3.6/site-packages/lxml/html/__init__.py\", line 762, in document_fromstring\n",
      "    value = etree.fromstring(html, parser, **kw)\n",
      "  File \"src/lxml/lxml.etree.pyx\", line 3213, in lxml.etree.fromstring (src/lxml/lxml.etree.c:79010)\n",
      "  File \"src/lxml/parser.pxi\", line 1848, in lxml.etree._parseMemoryDocument (src/lxml/lxml.etree.c:118341)\n",
      "  File \"src/lxml/parser.pxi\", line 1729, in lxml.etree._parseDoc (src/lxml/lxml.etree.c:116899)\n",
      "  File \"src/lxml/parser.pxi\", line 1063, in lxml.etree._BaseParser._parseUnicodeDoc (src/lxml/lxml.etree.c:110886)\n",
      "  File \"src/lxml/parser.pxi\", line 595, in lxml.etree._ParserContext._handleParseResultDoc (src/lxml/lxml.etree.c:105109)\n",
      "  File \"src/lxml/parser.pxi\", line 706, in lxml.etree._handleParseResult (src/lxml/lxml.etree.c:106817)\n",
      "  File \"src/lxml/parser.pxi\", line 635, in lxml.etree._raiseParseError (src/lxml/lxml.etree.c:105671)\n",
      "  File \"<string>\", line 1\n",
      "lxml.etree.XMLSyntaxError: switching encoding: encoder error, line 1, column 1\n",
      "Traceback (most recent call last):\n",
      "  File \"/Users/George/miniconda3/envs/d4d-internal-displacement/lib/python3.6/site-packages/newspaper/parsers.py\", line 68, in fromstring\n",
      "    cls.doc = lxml.html.fromstring(html)\n",
      "  File \"/Users/George/miniconda3/envs/d4d-internal-displacement/lib/python3.6/site-packages/lxml/html/__init__.py\", line 876, in fromstring\n",
      "    doc = document_fromstring(html, parser=parser, base_url=base_url, **kw)\n",
      "  File \"/Users/George/miniconda3/envs/d4d-internal-displacement/lib/python3.6/site-packages/lxml/html/__init__.py\", line 762, in document_fromstring\n",
      "    value = etree.fromstring(html, parser, **kw)\n",
      "  File \"src/lxml/lxml.etree.pyx\", line 3213, in lxml.etree.fromstring (src/lxml/lxml.etree.c:79010)\n",
      "  File \"src/lxml/parser.pxi\", line 1848, in lxml.etree._parseMemoryDocument (src/lxml/lxml.etree.c:118341)\n",
      "  File \"src/lxml/parser.pxi\", line 1729, in lxml.etree._parseDoc (src/lxml/lxml.etree.c:116899)\n",
      "  File \"src/lxml/parser.pxi\", line 1063, in lxml.etree._BaseParser._parseUnicodeDoc (src/lxml/lxml.etree.c:110886)\n",
      "  File \"src/lxml/parser.pxi\", line 595, in lxml.etree._ParserContext._handleParseResultDoc (src/lxml/lxml.etree.c:105109)\n",
      "  File \"src/lxml/parser.pxi\", line 706, in lxml.etree._handleParseResult (src/lxml/lxml.etree.c:106817)\n",
      "  File \"src/lxml/parser.pxi\", line 635, in lxml.etree._raiseParseError (src/lxml/lxml.etree.c:105671)\n",
      "  File \"<string>\", line 1\n",
      "lxml.etree.XMLSyntaxError: switching encoding: encoder error, line 1, column 1\n",
      "Traceback (most recent call last):\n",
      "  File \"/Users/George/miniconda3/envs/d4d-internal-displacement/lib/python3.6/site-packages/newspaper/parsers.py\", line 68, in fromstring\n",
      "    cls.doc = lxml.html.fromstring(html)\n",
      "  File \"/Users/George/miniconda3/envs/d4d-internal-displacement/lib/python3.6/site-packages/lxml/html/__init__.py\", line 876, in fromstring\n",
      "    doc = document_fromstring(html, parser=parser, base_url=base_url, **kw)\n",
      "  File \"/Users/George/miniconda3/envs/d4d-internal-displacement/lib/python3.6/site-packages/lxml/html/__init__.py\", line 762, in document_fromstring\n",
      "    value = etree.fromstring(html, parser, **kw)\n",
      "  File \"src/lxml/lxml.etree.pyx\", line 3213, in lxml.etree.fromstring (src/lxml/lxml.etree.c:79010)\n",
      "  File \"src/lxml/parser.pxi\", line 1848, in lxml.etree._parseMemoryDocument (src/lxml/lxml.etree.c:118341)\n",
      "  File \"src/lxml/parser.pxi\", line 1729, in lxml.etree._parseDoc (src/lxml/lxml.etree.c:116899)\n",
      "  File \"src/lxml/parser.pxi\", line 1063, in lxml.etree._BaseParser._parseUnicodeDoc (src/lxml/lxml.etree.c:110886)\n",
      "  File \"src/lxml/parser.pxi\", line 595, in lxml.etree._ParserContext._handleParseResultDoc (src/lxml/lxml.etree.c:105109)\n",
      "  File \"src/lxml/parser.pxi\", line 706, in lxml.etree._handleParseResult (src/lxml/lxml.etree.c:106817)\n",
      "  File \"src/lxml/parser.pxi\", line 635, in lxml.etree._raiseParseError (src/lxml/lxml.etree.c:105671)\n",
      "  File \"<string>\", line 1\n",
      "lxml.etree.XMLSyntaxError: switching encoding: encoder error, line 1, column 1\n",
      "Traceback (most recent call last):\n",
      "  File \"/Users/George/miniconda3/envs/d4d-internal-displacement/lib/python3.6/site-packages/newspaper/parsers.py\", line 68, in fromstring\n",
      "    cls.doc = lxml.html.fromstring(html)\n",
      "  File \"/Users/George/miniconda3/envs/d4d-internal-displacement/lib/python3.6/site-packages/lxml/html/__init__.py\", line 876, in fromstring\n",
      "    doc = document_fromstring(html, parser=parser, base_url=base_url, **kw)\n",
      "  File \"/Users/George/miniconda3/envs/d4d-internal-displacement/lib/python3.6/site-packages/lxml/html/__init__.py\", line 762, in document_fromstring\n",
      "    value = etree.fromstring(html, parser, **kw)\n",
      "  File \"src/lxml/lxml.etree.pyx\", line 3213, in lxml.etree.fromstring (src/lxml/lxml.etree.c:79010)\n",
      "  File \"src/lxml/parser.pxi\", line 1848, in lxml.etree._parseMemoryDocument (src/lxml/lxml.etree.c:118341)\n",
      "  File \"src/lxml/parser.pxi\", line 1729, in lxml.etree._parseDoc (src/lxml/lxml.etree.c:116899)\n",
      "  File \"src/lxml/parser.pxi\", line 1063, in lxml.etree._BaseParser._parseUnicodeDoc (src/lxml/lxml.etree.c:110886)\n",
      "  File \"src/lxml/parser.pxi\", line 595, in lxml.etree._ParserContext._handleParseResultDoc (src/lxml/lxml.etree.c:105109)\n",
      "  File \"src/lxml/parser.pxi\", line 706, in lxml.etree._handleParseResult (src/lxml/lxml.etree.c:106817)\n",
      "  File \"src/lxml/parser.pxi\", line 635, in lxml.etree._raiseParseError (src/lxml/lxml.etree.c:105671)\n",
      "  File \"<string>\", line 1\n",
      "lxml.etree.XMLSyntaxError: switching encoding: encoder error, line 1, column 1\n",
      "Traceback (most recent call last):\n",
      "  File \"/Users/George/miniconda3/envs/d4d-internal-displacement/lib/python3.6/site-packages/newspaper/parsers.py\", line 68, in fromstring\n",
      "    cls.doc = lxml.html.fromstring(html)\n",
      "  File \"/Users/George/miniconda3/envs/d4d-internal-displacement/lib/python3.6/site-packages/lxml/html/__init__.py\", line 876, in fromstring\n",
      "    doc = document_fromstring(html, parser=parser, base_url=base_url, **kw)\n",
      "  File \"/Users/George/miniconda3/envs/d4d-internal-displacement/lib/python3.6/site-packages/lxml/html/__init__.py\", line 762, in document_fromstring\n",
      "    value = etree.fromstring(html, parser, **kw)\n",
      "  File \"src/lxml/lxml.etree.pyx\", line 3213, in lxml.etree.fromstring (src/lxml/lxml.etree.c:79010)\n",
      "  File \"src/lxml/parser.pxi\", line 1848, in lxml.etree._parseMemoryDocument (src/lxml/lxml.etree.c:118341)\n",
      "  File \"src/lxml/parser.pxi\", line 1729, in lxml.etree._parseDoc (src/lxml/lxml.etree.c:116899)\n",
      "  File \"src/lxml/parser.pxi\", line 1063, in lxml.etree._BaseParser._parseUnicodeDoc (src/lxml/lxml.etree.c:110886)\n",
      "  File \"src/lxml/parser.pxi\", line 595, in lxml.etree._ParserContext._handleParseResultDoc (src/lxml/lxml.etree.c:105109)\n",
      "  File \"src/lxml/parser.pxi\", line 706, in lxml.etree._handleParseResult (src/lxml/lxml.etree.c:106817)\n",
      "  File \"src/lxml/parser.pxi\", line 635, in lxml.etree._raiseParseError (src/lxml/lxml.etree.c:105671)\n",
      "  File \"<string>\", line 1\n",
      "lxml.etree.XMLSyntaxError: switching encoding: encoder error, line 1, column 1\n",
      "Traceback (most recent call last):\n",
      "  File \"/Users/George/miniconda3/envs/d4d-internal-displacement/lib/python3.6/site-packages/newspaper/parsers.py\", line 68, in fromstring\n",
      "    cls.doc = lxml.html.fromstring(html)\n",
      "  File \"/Users/George/miniconda3/envs/d4d-internal-displacement/lib/python3.6/site-packages/lxml/html/__init__.py\", line 876, in fromstring\n",
      "    doc = document_fromstring(html, parser=parser, base_url=base_url, **kw)\n",
      "  File \"/Users/George/miniconda3/envs/d4d-internal-displacement/lib/python3.6/site-packages/lxml/html/__init__.py\", line 762, in document_fromstring\n",
      "    value = etree.fromstring(html, parser, **kw)\n",
      "  File \"src/lxml/lxml.etree.pyx\", line 3213, in lxml.etree.fromstring (src/lxml/lxml.etree.c:79010)\n",
      "  File \"src/lxml/parser.pxi\", line 1848, in lxml.etree._parseMemoryDocument (src/lxml/lxml.etree.c:118341)\n",
      "  File \"src/lxml/parser.pxi\", line 1729, in lxml.etree._parseDoc (src/lxml/lxml.etree.c:116899)\n",
      "  File \"src/lxml/parser.pxi\", line 1063, in lxml.etree._BaseParser._parseUnicodeDoc (src/lxml/lxml.etree.c:110886)\n",
      "  File \"src/lxml/parser.pxi\", line 595, in lxml.etree._ParserContext._handleParseResultDoc (src/lxml/lxml.etree.c:105109)\n",
      "  File \"src/lxml/parser.pxi\", line 706, in lxml.etree._handleParseResult (src/lxml/lxml.etree.c:106817)\n",
      "  File \"src/lxml/parser.pxi\", line 635, in lxml.etree._raiseParseError (src/lxml/lxml.etree.c:105671)\n",
      "  File \"<string>\", line 1\n",
      "lxml.etree.XMLSyntaxError: switching encoding: encoder error, line 1, column 1\n"
     ]
    },
    {
     "name": "stderr",
     "output_type": "stream",
     "text": [
      "Traceback (most recent call last):\n",
      "  File \"/Users/George/miniconda3/envs/d4d-internal-displacement/lib/python3.6/site-packages/newspaper/parsers.py\", line 68, in fromstring\n",
      "    cls.doc = lxml.html.fromstring(html)\n",
      "  File \"/Users/George/miniconda3/envs/d4d-internal-displacement/lib/python3.6/site-packages/lxml/html/__init__.py\", line 876, in fromstring\n",
      "    doc = document_fromstring(html, parser=parser, base_url=base_url, **kw)\n",
      "  File \"/Users/George/miniconda3/envs/d4d-internal-displacement/lib/python3.6/site-packages/lxml/html/__init__.py\", line 765, in document_fromstring\n",
      "    \"Document is empty\")\n",
      "lxml.etree.ParserError: Document is empty\n",
      "Traceback (most recent call last):\n",
      "  File \"/Users/George/miniconda3/envs/d4d-internal-displacement/lib/python3.6/site-packages/newspaper/parsers.py\", line 68, in fromstring\n",
      "    cls.doc = lxml.html.fromstring(html)\n",
      "  File \"/Users/George/miniconda3/envs/d4d-internal-displacement/lib/python3.6/site-packages/lxml/html/__init__.py\", line 876, in fromstring\n",
      "    doc = document_fromstring(html, parser=parser, base_url=base_url, **kw)\n",
      "  File \"/Users/George/miniconda3/envs/d4d-internal-displacement/lib/python3.6/site-packages/lxml/html/__init__.py\", line 762, in document_fromstring\n",
      "    value = etree.fromstring(html, parser, **kw)\n",
      "  File \"src/lxml/lxml.etree.pyx\", line 3213, in lxml.etree.fromstring (src/lxml/lxml.etree.c:79010)\n",
      "  File \"src/lxml/parser.pxi\", line 1848, in lxml.etree._parseMemoryDocument (src/lxml/lxml.etree.c:118341)\n",
      "  File \"src/lxml/parser.pxi\", line 1729, in lxml.etree._parseDoc (src/lxml/lxml.etree.c:116899)\n",
      "  File \"src/lxml/parser.pxi\", line 1063, in lxml.etree._BaseParser._parseUnicodeDoc (src/lxml/lxml.etree.c:110886)\n",
      "  File \"src/lxml/parser.pxi\", line 595, in lxml.etree._ParserContext._handleParseResultDoc (src/lxml/lxml.etree.c:105109)\n",
      "  File \"src/lxml/parser.pxi\", line 706, in lxml.etree._handleParseResult (src/lxml/lxml.etree.c:106817)\n",
      "  File \"src/lxml/parser.pxi\", line 635, in lxml.etree._raiseParseError (src/lxml/lxml.etree.c:105671)\n",
      "  File \"<string>\", line 1\n",
      "lxml.etree.XMLSyntaxError: switching encoding: encoder error, line 1, column 1\n",
      "Traceback (most recent call last):\n",
      "  File \"/Users/George/miniconda3/envs/d4d-internal-displacement/lib/python3.6/site-packages/newspaper/parsers.py\", line 68, in fromstring\n",
      "    cls.doc = lxml.html.fromstring(html)\n",
      "  File \"/Users/George/miniconda3/envs/d4d-internal-displacement/lib/python3.6/site-packages/lxml/html/__init__.py\", line 876, in fromstring\n",
      "    doc = document_fromstring(html, parser=parser, base_url=base_url, **kw)\n",
      "  File \"/Users/George/miniconda3/envs/d4d-internal-displacement/lib/python3.6/site-packages/lxml/html/__init__.py\", line 762, in document_fromstring\n",
      "    value = etree.fromstring(html, parser, **kw)\n",
      "  File \"src/lxml/lxml.etree.pyx\", line 3213, in lxml.etree.fromstring (src/lxml/lxml.etree.c:79010)\n",
      "  File \"src/lxml/parser.pxi\", line 1848, in lxml.etree._parseMemoryDocument (src/lxml/lxml.etree.c:118341)\n",
      "  File \"src/lxml/parser.pxi\", line 1729, in lxml.etree._parseDoc (src/lxml/lxml.etree.c:116899)\n",
      "  File \"src/lxml/parser.pxi\", line 1063, in lxml.etree._BaseParser._parseUnicodeDoc (src/lxml/lxml.etree.c:110886)\n",
      "  File \"src/lxml/parser.pxi\", line 595, in lxml.etree._ParserContext._handleParseResultDoc (src/lxml/lxml.etree.c:105109)\n",
      "  File \"src/lxml/parser.pxi\", line 706, in lxml.etree._handleParseResult (src/lxml/lxml.etree.c:106817)\n",
      "  File \"src/lxml/parser.pxi\", line 635, in lxml.etree._raiseParseError (src/lxml/lxml.etree.c:105671)\n",
      "  File \"<string>\", line 1\n",
      "lxml.etree.XMLSyntaxError: switching encoding: encoder error, line 1, column 1\n",
      "Traceback (most recent call last):\n",
      "  File \"/Users/George/miniconda3/envs/d4d-internal-displacement/lib/python3.6/site-packages/newspaper/parsers.py\", line 68, in fromstring\n",
      "    cls.doc = lxml.html.fromstring(html)\n",
      "  File \"/Users/George/miniconda3/envs/d4d-internal-displacement/lib/python3.6/site-packages/lxml/html/__init__.py\", line 876, in fromstring\n",
      "    doc = document_fromstring(html, parser=parser, base_url=base_url, **kw)\n",
      "  File \"/Users/George/miniconda3/envs/d4d-internal-displacement/lib/python3.6/site-packages/lxml/html/__init__.py\", line 762, in document_fromstring\n",
      "    value = etree.fromstring(html, parser, **kw)\n",
      "  File \"src/lxml/lxml.etree.pyx\", line 3213, in lxml.etree.fromstring (src/lxml/lxml.etree.c:79010)\n",
      "  File \"src/lxml/parser.pxi\", line 1848, in lxml.etree._parseMemoryDocument (src/lxml/lxml.etree.c:118341)\n",
      "  File \"src/lxml/parser.pxi\", line 1729, in lxml.etree._parseDoc (src/lxml/lxml.etree.c:116899)\n",
      "  File \"src/lxml/parser.pxi\", line 1063, in lxml.etree._BaseParser._parseUnicodeDoc (src/lxml/lxml.etree.c:110886)\n",
      "  File \"src/lxml/parser.pxi\", line 595, in lxml.etree._ParserContext._handleParseResultDoc (src/lxml/lxml.etree.c:105109)\n",
      "  File \"src/lxml/parser.pxi\", line 706, in lxml.etree._handleParseResult (src/lxml/lxml.etree.c:106817)\n",
      "  File \"src/lxml/parser.pxi\", line 635, in lxml.etree._raiseParseError (src/lxml/lxml.etree.c:105671)\n",
      "  File \"<string>\", line 1\n",
      "lxml.etree.XMLSyntaxError: switching encoding: encoder error, line 1, column 1\n",
      "Traceback (most recent call last):\n",
      "  File \"/Users/George/miniconda3/envs/d4d-internal-displacement/lib/python3.6/site-packages/newspaper/parsers.py\", line 68, in fromstring\n",
      "    cls.doc = lxml.html.fromstring(html)\n",
      "  File \"/Users/George/miniconda3/envs/d4d-internal-displacement/lib/python3.6/site-packages/lxml/html/__init__.py\", line 876, in fromstring\n",
      "    doc = document_fromstring(html, parser=parser, base_url=base_url, **kw)\n",
      "  File \"/Users/George/miniconda3/envs/d4d-internal-displacement/lib/python3.6/site-packages/lxml/html/__init__.py\", line 765, in document_fromstring\n",
      "    \"Document is empty\")\n",
      "lxml.etree.ParserError: Document is empty\n",
      "Traceback (most recent call last):\n",
      "  File \"/Users/George/miniconda3/envs/d4d-internal-displacement/lib/python3.6/site-packages/newspaper/parsers.py\", line 68, in fromstring\n",
      "    cls.doc = lxml.html.fromstring(html)\n",
      "  File \"/Users/George/miniconda3/envs/d4d-internal-displacement/lib/python3.6/site-packages/lxml/html/__init__.py\", line 876, in fromstring\n",
      "    doc = document_fromstring(html, parser=parser, base_url=base_url, **kw)\n",
      "  File \"/Users/George/miniconda3/envs/d4d-internal-displacement/lib/python3.6/site-packages/lxml/html/__init__.py\", line 762, in document_fromstring\n",
      "    value = etree.fromstring(html, parser, **kw)\n",
      "  File \"src/lxml/lxml.etree.pyx\", line 3213, in lxml.etree.fromstring (src/lxml/lxml.etree.c:79010)\n",
      "  File \"src/lxml/parser.pxi\", line 1848, in lxml.etree._parseMemoryDocument (src/lxml/lxml.etree.c:118341)\n",
      "  File \"src/lxml/parser.pxi\", line 1729, in lxml.etree._parseDoc (src/lxml/lxml.etree.c:116899)\n",
      "  File \"src/lxml/parser.pxi\", line 1063, in lxml.etree._BaseParser._parseUnicodeDoc (src/lxml/lxml.etree.c:110886)\n",
      "  File \"src/lxml/parser.pxi\", line 595, in lxml.etree._ParserContext._handleParseResultDoc (src/lxml/lxml.etree.c:105109)\n",
      "  File \"src/lxml/parser.pxi\", line 706, in lxml.etree._handleParseResult (src/lxml/lxml.etree.c:106817)\n",
      "  File \"src/lxml/parser.pxi\", line 635, in lxml.etree._raiseParseError (src/lxml/lxml.etree.c:105671)\n",
      "  File \"<string>\", line 1\n",
      "lxml.etree.XMLSyntaxError: switching encoding: encoder error, line 1, column 1\n",
      "Traceback (most recent call last):\n",
      "  File \"/Users/George/miniconda3/envs/d4d-internal-displacement/lib/python3.6/site-packages/newspaper/parsers.py\", line 68, in fromstring\n",
      "    cls.doc = lxml.html.fromstring(html)\n",
      "  File \"/Users/George/miniconda3/envs/d4d-internal-displacement/lib/python3.6/site-packages/lxml/html/__init__.py\", line 876, in fromstring\n",
      "    doc = document_fromstring(html, parser=parser, base_url=base_url, **kw)\n",
      "  File \"/Users/George/miniconda3/envs/d4d-internal-displacement/lib/python3.6/site-packages/lxml/html/__init__.py\", line 762, in document_fromstring\n",
      "    value = etree.fromstring(html, parser, **kw)\n",
      "  File \"src/lxml/lxml.etree.pyx\", line 3213, in lxml.etree.fromstring (src/lxml/lxml.etree.c:79010)\n",
      "  File \"src/lxml/parser.pxi\", line 1848, in lxml.etree._parseMemoryDocument (src/lxml/lxml.etree.c:118341)\n",
      "  File \"src/lxml/parser.pxi\", line 1729, in lxml.etree._parseDoc (src/lxml/lxml.etree.c:116899)\n",
      "  File \"src/lxml/parser.pxi\", line 1063, in lxml.etree._BaseParser._parseUnicodeDoc (src/lxml/lxml.etree.c:110886)\n",
      "  File \"src/lxml/parser.pxi\", line 595, in lxml.etree._ParserContext._handleParseResultDoc (src/lxml/lxml.etree.c:105109)\n",
      "  File \"src/lxml/parser.pxi\", line 706, in lxml.etree._handleParseResult (src/lxml/lxml.etree.c:106817)\n",
      "  File \"src/lxml/parser.pxi\", line 635, in lxml.etree._raiseParseError (src/lxml/lxml.etree.c:105671)\n",
      "  File \"<string>\", line 1\n",
      "lxml.etree.XMLSyntaxError: switching encoding: encoder error, line 1, column 1\n"
     ]
    },
    {
     "name": "stderr",
     "output_type": "stream",
     "text": [
      "Traceback (most recent call last):\n",
      "  File \"/Users/George/miniconda3/envs/d4d-internal-displacement/lib/python3.6/site-packages/newspaper/parsers.py\", line 68, in fromstring\n",
      "    cls.doc = lxml.html.fromstring(html)\n",
      "  File \"/Users/George/miniconda3/envs/d4d-internal-displacement/lib/python3.6/site-packages/lxml/html/__init__.py\", line 876, in fromstring\n",
      "    doc = document_fromstring(html, parser=parser, base_url=base_url, **kw)\n",
      "  File \"/Users/George/miniconda3/envs/d4d-internal-displacement/lib/python3.6/site-packages/lxml/html/__init__.py\", line 762, in document_fromstring\n",
      "    value = etree.fromstring(html, parser, **kw)\n",
      "  File \"src/lxml/lxml.etree.pyx\", line 3213, in lxml.etree.fromstring (src/lxml/lxml.etree.c:79010)\n",
      "  File \"src/lxml/parser.pxi\", line 1848, in lxml.etree._parseMemoryDocument (src/lxml/lxml.etree.c:118341)\n",
      "  File \"src/lxml/parser.pxi\", line 1729, in lxml.etree._parseDoc (src/lxml/lxml.etree.c:116899)\n",
      "  File \"src/lxml/parser.pxi\", line 1063, in lxml.etree._BaseParser._parseUnicodeDoc (src/lxml/lxml.etree.c:110886)\n",
      "  File \"src/lxml/parser.pxi\", line 595, in lxml.etree._ParserContext._handleParseResultDoc (src/lxml/lxml.etree.c:105109)\n",
      "  File \"src/lxml/parser.pxi\", line 706, in lxml.etree._handleParseResult (src/lxml/lxml.etree.c:106817)\n",
      "  File \"src/lxml/parser.pxi\", line 635, in lxml.etree._raiseParseError (src/lxml/lxml.etree.c:105671)\n",
      "  File \"<string>\", line 1\n",
      "lxml.etree.XMLSyntaxError: switching encoding: encoder error, line 1, column 1\n",
      "Traceback (most recent call last):\n",
      "  File \"/Users/George/miniconda3/envs/d4d-internal-displacement/lib/python3.6/site-packages/newspaper/parsers.py\", line 68, in fromstring\n",
      "    cls.doc = lxml.html.fromstring(html)\n",
      "  File \"/Users/George/miniconda3/envs/d4d-internal-displacement/lib/python3.6/site-packages/lxml/html/__init__.py\", line 876, in fromstring\n",
      "    doc = document_fromstring(html, parser=parser, base_url=base_url, **kw)\n",
      "  File \"/Users/George/miniconda3/envs/d4d-internal-displacement/lib/python3.6/site-packages/lxml/html/__init__.py\", line 762, in document_fromstring\n",
      "    value = etree.fromstring(html, parser, **kw)\n",
      "  File \"src/lxml/lxml.etree.pyx\", line 3213, in lxml.etree.fromstring (src/lxml/lxml.etree.c:79010)\n",
      "  File \"src/lxml/parser.pxi\", line 1848, in lxml.etree._parseMemoryDocument (src/lxml/lxml.etree.c:118341)\n",
      "  File \"src/lxml/parser.pxi\", line 1729, in lxml.etree._parseDoc (src/lxml/lxml.etree.c:116899)\n",
      "  File \"src/lxml/parser.pxi\", line 1063, in lxml.etree._BaseParser._parseUnicodeDoc (src/lxml/lxml.etree.c:110886)\n",
      "  File \"src/lxml/parser.pxi\", line 595, in lxml.etree._ParserContext._handleParseResultDoc (src/lxml/lxml.etree.c:105109)\n",
      "  File \"src/lxml/parser.pxi\", line 706, in lxml.etree._handleParseResult (src/lxml/lxml.etree.c:106817)\n",
      "  File \"src/lxml/parser.pxi\", line 635, in lxml.etree._raiseParseError (src/lxml/lxml.etree.c:105671)\n",
      "  File \"<string>\", line 1\n",
      "lxml.etree.XMLSyntaxError: switching encoding: encoder error, line 1, column 1\n",
      "Traceback (most recent call last):\n",
      "  File \"/Users/George/miniconda3/envs/d4d-internal-displacement/lib/python3.6/site-packages/newspaper/parsers.py\", line 68, in fromstring\n",
      "    cls.doc = lxml.html.fromstring(html)\n",
      "  File \"/Users/George/miniconda3/envs/d4d-internal-displacement/lib/python3.6/site-packages/lxml/html/__init__.py\", line 876, in fromstring\n",
      "    doc = document_fromstring(html, parser=parser, base_url=base_url, **kw)\n",
      "  File \"/Users/George/miniconda3/envs/d4d-internal-displacement/lib/python3.6/site-packages/lxml/html/__init__.py\", line 762, in document_fromstring\n",
      "    value = etree.fromstring(html, parser, **kw)\n",
      "  File \"src/lxml/lxml.etree.pyx\", line 3213, in lxml.etree.fromstring (src/lxml/lxml.etree.c:79010)\n",
      "  File \"src/lxml/parser.pxi\", line 1848, in lxml.etree._parseMemoryDocument (src/lxml/lxml.etree.c:118341)\n",
      "  File \"src/lxml/parser.pxi\", line 1729, in lxml.etree._parseDoc (src/lxml/lxml.etree.c:116899)\n",
      "  File \"src/lxml/parser.pxi\", line 1063, in lxml.etree._BaseParser._parseUnicodeDoc (src/lxml/lxml.etree.c:110886)\n",
      "  File \"src/lxml/parser.pxi\", line 595, in lxml.etree._ParserContext._handleParseResultDoc (src/lxml/lxml.etree.c:105109)\n",
      "  File \"src/lxml/parser.pxi\", line 706, in lxml.etree._handleParseResult (src/lxml/lxml.etree.c:106817)\n",
      "  File \"src/lxml/parser.pxi\", line 635, in lxml.etree._raiseParseError (src/lxml/lxml.etree.c:105671)\n",
      "  File \"<string>\", line 1\n",
      "lxml.etree.XMLSyntaxError: switching encoding: encoder error, line 1, column 1\n",
      "Traceback (most recent call last):\n",
      "  File \"/Users/George/miniconda3/envs/d4d-internal-displacement/lib/python3.6/site-packages/newspaper/parsers.py\", line 68, in fromstring\n",
      "    cls.doc = lxml.html.fromstring(html)\n",
      "  File \"/Users/George/miniconda3/envs/d4d-internal-displacement/lib/python3.6/site-packages/lxml/html/__init__.py\", line 876, in fromstring\n",
      "    doc = document_fromstring(html, parser=parser, base_url=base_url, **kw)\n",
      "  File \"/Users/George/miniconda3/envs/d4d-internal-displacement/lib/python3.6/site-packages/lxml/html/__init__.py\", line 762, in document_fromstring\n",
      "    value = etree.fromstring(html, parser, **kw)\n",
      "  File \"src/lxml/lxml.etree.pyx\", line 3213, in lxml.etree.fromstring (src/lxml/lxml.etree.c:79010)\n",
      "  File \"src/lxml/parser.pxi\", line 1848, in lxml.etree._parseMemoryDocument (src/lxml/lxml.etree.c:118341)\n",
      "  File \"src/lxml/parser.pxi\", line 1729, in lxml.etree._parseDoc (src/lxml/lxml.etree.c:116899)\n",
      "  File \"src/lxml/parser.pxi\", line 1063, in lxml.etree._BaseParser._parseUnicodeDoc (src/lxml/lxml.etree.c:110886)\n",
      "  File \"src/lxml/parser.pxi\", line 595, in lxml.etree._ParserContext._handleParseResultDoc (src/lxml/lxml.etree.c:105109)\n",
      "  File \"src/lxml/parser.pxi\", line 706, in lxml.etree._handleParseResult (src/lxml/lxml.etree.c:106817)\n",
      "  File \"src/lxml/parser.pxi\", line 635, in lxml.etree._raiseParseError (src/lxml/lxml.etree.c:105671)\n",
      "  File \"<string>\", line 1\n",
      "lxml.etree.XMLSyntaxError: switching encoding: encoder error, line 1, column 1\n",
      "Traceback (most recent call last):\n",
      "  File \"/Users/George/miniconda3/envs/d4d-internal-displacement/lib/python3.6/site-packages/newspaper/parsers.py\", line 68, in fromstring\n",
      "    cls.doc = lxml.html.fromstring(html)\n",
      "  File \"/Users/George/miniconda3/envs/d4d-internal-displacement/lib/python3.6/site-packages/lxml/html/__init__.py\", line 876, in fromstring\n",
      "    doc = document_fromstring(html, parser=parser, base_url=base_url, **kw)\n",
      "  File \"/Users/George/miniconda3/envs/d4d-internal-displacement/lib/python3.6/site-packages/lxml/html/__init__.py\", line 762, in document_fromstring\n",
      "    value = etree.fromstring(html, parser, **kw)\n",
      "  File \"src/lxml/lxml.etree.pyx\", line 3213, in lxml.etree.fromstring (src/lxml/lxml.etree.c:79010)\n",
      "  File \"src/lxml/parser.pxi\", line 1848, in lxml.etree._parseMemoryDocument (src/lxml/lxml.etree.c:118341)\n",
      "  File \"src/lxml/parser.pxi\", line 1729, in lxml.etree._parseDoc (src/lxml/lxml.etree.c:116899)\n",
      "  File \"src/lxml/parser.pxi\", line 1063, in lxml.etree._BaseParser._parseUnicodeDoc (src/lxml/lxml.etree.c:110886)\n",
      "  File \"src/lxml/parser.pxi\", line 595, in lxml.etree._ParserContext._handleParseResultDoc (src/lxml/lxml.etree.c:105109)\n",
      "  File \"src/lxml/parser.pxi\", line 706, in lxml.etree._handleParseResult (src/lxml/lxml.etree.c:106817)\n",
      "  File \"src/lxml/parser.pxi\", line 635, in lxml.etree._raiseParseError (src/lxml/lxml.etree.c:105671)\n",
      "  File \"<string>\", line 1\n",
      "lxml.etree.XMLSyntaxError: switching encoding: encoder error, line 1, column 1\n",
      "Traceback (most recent call last):\n",
      "  File \"/Users/George/miniconda3/envs/d4d-internal-displacement/lib/python3.6/site-packages/newspaper/parsers.py\", line 68, in fromstring\n",
      "    cls.doc = lxml.html.fromstring(html)\n",
      "  File \"/Users/George/miniconda3/envs/d4d-internal-displacement/lib/python3.6/site-packages/lxml/html/__init__.py\", line 876, in fromstring\n",
      "    doc = document_fromstring(html, parser=parser, base_url=base_url, **kw)\n",
      "  File \"/Users/George/miniconda3/envs/d4d-internal-displacement/lib/python3.6/site-packages/lxml/html/__init__.py\", line 762, in document_fromstring\n",
      "    value = etree.fromstring(html, parser, **kw)\n",
      "  File \"src/lxml/lxml.etree.pyx\", line 3213, in lxml.etree.fromstring (src/lxml/lxml.etree.c:79010)\n",
      "  File \"src/lxml/parser.pxi\", line 1848, in lxml.etree._parseMemoryDocument (src/lxml/lxml.etree.c:118341)\n",
      "  File \"src/lxml/parser.pxi\", line 1729, in lxml.etree._parseDoc (src/lxml/lxml.etree.c:116899)\n",
      "  File \"src/lxml/parser.pxi\", line 1063, in lxml.etree._BaseParser._parseUnicodeDoc (src/lxml/lxml.etree.c:110886)\n",
      "  File \"src/lxml/parser.pxi\", line 595, in lxml.etree._ParserContext._handleParseResultDoc (src/lxml/lxml.etree.c:105109)\n",
      "  File \"src/lxml/parser.pxi\", line 706, in lxml.etree._handleParseResult (src/lxml/lxml.etree.c:106817)\n",
      "  File \"src/lxml/parser.pxi\", line 635, in lxml.etree._raiseParseError (src/lxml/lxml.etree.c:105671)\n",
      "  File \"<string>\", line 1\n",
      "lxml.etree.XMLSyntaxError: switching encoding: encoder error, line 1, column 1\n"
     ]
    },
    {
     "name": "stderr",
     "output_type": "stream",
     "text": [
      "Traceback (most recent call last):\n",
      "  File \"/Users/George/miniconda3/envs/d4d-internal-displacement/lib/python3.6/site-packages/newspaper/parsers.py\", line 68, in fromstring\n",
      "    cls.doc = lxml.html.fromstring(html)\n",
      "  File \"/Users/George/miniconda3/envs/d4d-internal-displacement/lib/python3.6/site-packages/lxml/html/__init__.py\", line 876, in fromstring\n",
      "    doc = document_fromstring(html, parser=parser, base_url=base_url, **kw)\n",
      "  File \"/Users/George/miniconda3/envs/d4d-internal-displacement/lib/python3.6/site-packages/lxml/html/__init__.py\", line 762, in document_fromstring\n",
      "    value = etree.fromstring(html, parser, **kw)\n",
      "  File \"src/lxml/lxml.etree.pyx\", line 3213, in lxml.etree.fromstring (src/lxml/lxml.etree.c:79010)\n",
      "  File \"src/lxml/parser.pxi\", line 1848, in lxml.etree._parseMemoryDocument (src/lxml/lxml.etree.c:118341)\n",
      "  File \"src/lxml/parser.pxi\", line 1729, in lxml.etree._parseDoc (src/lxml/lxml.etree.c:116899)\n",
      "  File \"src/lxml/parser.pxi\", line 1063, in lxml.etree._BaseParser._parseUnicodeDoc (src/lxml/lxml.etree.c:110886)\n",
      "  File \"src/lxml/parser.pxi\", line 595, in lxml.etree._ParserContext._handleParseResultDoc (src/lxml/lxml.etree.c:105109)\n",
      "  File \"src/lxml/parser.pxi\", line 706, in lxml.etree._handleParseResult (src/lxml/lxml.etree.c:106817)\n",
      "  File \"src/lxml/parser.pxi\", line 635, in lxml.etree._raiseParseError (src/lxml/lxml.etree.c:105671)\n",
      "  File \"<string>\", line 1\n",
      "lxml.etree.XMLSyntaxError: switching encoding: encoder error, line 1, column 1\n",
      "Traceback (most recent call last):\n",
      "  File \"/Users/George/miniconda3/envs/d4d-internal-displacement/lib/python3.6/site-packages/newspaper/parsers.py\", line 68, in fromstring\n",
      "    cls.doc = lxml.html.fromstring(html)\n",
      "  File \"/Users/George/miniconda3/envs/d4d-internal-displacement/lib/python3.6/site-packages/lxml/html/__init__.py\", line 876, in fromstring\n",
      "    doc = document_fromstring(html, parser=parser, base_url=base_url, **kw)\n",
      "  File \"/Users/George/miniconda3/envs/d4d-internal-displacement/lib/python3.6/site-packages/lxml/html/__init__.py\", line 762, in document_fromstring\n",
      "    value = etree.fromstring(html, parser, **kw)\n",
      "  File \"src/lxml/lxml.etree.pyx\", line 3213, in lxml.etree.fromstring (src/lxml/lxml.etree.c:79010)\n",
      "  File \"src/lxml/parser.pxi\", line 1848, in lxml.etree._parseMemoryDocument (src/lxml/lxml.etree.c:118341)\n",
      "  File \"src/lxml/parser.pxi\", line 1729, in lxml.etree._parseDoc (src/lxml/lxml.etree.c:116899)\n",
      "  File \"src/lxml/parser.pxi\", line 1063, in lxml.etree._BaseParser._parseUnicodeDoc (src/lxml/lxml.etree.c:110886)\n",
      "  File \"src/lxml/parser.pxi\", line 595, in lxml.etree._ParserContext._handleParseResultDoc (src/lxml/lxml.etree.c:105109)\n",
      "  File \"src/lxml/parser.pxi\", line 706, in lxml.etree._handleParseResult (src/lxml/lxml.etree.c:106817)\n",
      "  File \"src/lxml/parser.pxi\", line 635, in lxml.etree._raiseParseError (src/lxml/lxml.etree.c:105671)\n",
      "  File \"<string>\", line 1\n",
      "lxml.etree.XMLSyntaxError: switching encoding: encoder error, line 1, column 1\n",
      "Traceback (most recent call last):\n",
      "  File \"/Users/George/miniconda3/envs/d4d-internal-displacement/lib/python3.6/site-packages/newspaper/parsers.py\", line 68, in fromstring\n",
      "    cls.doc = lxml.html.fromstring(html)\n",
      "  File \"/Users/George/miniconda3/envs/d4d-internal-displacement/lib/python3.6/site-packages/lxml/html/__init__.py\", line 876, in fromstring\n",
      "    doc = document_fromstring(html, parser=parser, base_url=base_url, **kw)\n",
      "  File \"/Users/George/miniconda3/envs/d4d-internal-displacement/lib/python3.6/site-packages/lxml/html/__init__.py\", line 762, in document_fromstring\n",
      "    value = etree.fromstring(html, parser, **kw)\n",
      "  File \"src/lxml/lxml.etree.pyx\", line 3213, in lxml.etree.fromstring (src/lxml/lxml.etree.c:79010)\n",
      "  File \"src/lxml/parser.pxi\", line 1848, in lxml.etree._parseMemoryDocument (src/lxml/lxml.etree.c:118341)\n",
      "  File \"src/lxml/parser.pxi\", line 1729, in lxml.etree._parseDoc (src/lxml/lxml.etree.c:116899)\n",
      "  File \"src/lxml/parser.pxi\", line 1063, in lxml.etree._BaseParser._parseUnicodeDoc (src/lxml/lxml.etree.c:110886)\n",
      "  File \"src/lxml/parser.pxi\", line 595, in lxml.etree._ParserContext._handleParseResultDoc (src/lxml/lxml.etree.c:105109)\n",
      "  File \"src/lxml/parser.pxi\", line 706, in lxml.etree._handleParseResult (src/lxml/lxml.etree.c:106817)\n",
      "  File \"src/lxml/parser.pxi\", line 635, in lxml.etree._raiseParseError (src/lxml/lxml.etree.c:105671)\n",
      "  File \"<string>\", line 1\n",
      "lxml.etree.XMLSyntaxError: switching encoding: encoder error, line 1, column 1\n",
      "Traceback (most recent call last):\n",
      "  File \"/Users/George/miniconda3/envs/d4d-internal-displacement/lib/python3.6/site-packages/newspaper/parsers.py\", line 68, in fromstring\n",
      "    cls.doc = lxml.html.fromstring(html)\n",
      "  File \"/Users/George/miniconda3/envs/d4d-internal-displacement/lib/python3.6/site-packages/lxml/html/__init__.py\", line 876, in fromstring\n",
      "    doc = document_fromstring(html, parser=parser, base_url=base_url, **kw)\n",
      "  File \"/Users/George/miniconda3/envs/d4d-internal-displacement/lib/python3.6/site-packages/lxml/html/__init__.py\", line 762, in document_fromstring\n",
      "    value = etree.fromstring(html, parser, **kw)\n",
      "  File \"src/lxml/lxml.etree.pyx\", line 3213, in lxml.etree.fromstring (src/lxml/lxml.etree.c:79010)\n",
      "  File \"src/lxml/parser.pxi\", line 1848, in lxml.etree._parseMemoryDocument (src/lxml/lxml.etree.c:118341)\n",
      "  File \"src/lxml/parser.pxi\", line 1729, in lxml.etree._parseDoc (src/lxml/lxml.etree.c:116899)\n",
      "  File \"src/lxml/parser.pxi\", line 1063, in lxml.etree._BaseParser._parseUnicodeDoc (src/lxml/lxml.etree.c:110886)\n",
      "  File \"src/lxml/parser.pxi\", line 595, in lxml.etree._ParserContext._handleParseResultDoc (src/lxml/lxml.etree.c:105109)\n",
      "  File \"src/lxml/parser.pxi\", line 706, in lxml.etree._handleParseResult (src/lxml/lxml.etree.c:106817)\n",
      "  File \"src/lxml/parser.pxi\", line 635, in lxml.etree._raiseParseError (src/lxml/lxml.etree.c:105671)\n",
      "  File \"<string>\", line 1\n",
      "lxml.etree.XMLSyntaxError: switching encoding: encoder error, line 1, column 1\n",
      "Traceback (most recent call last):\n",
      "  File \"/Users/George/miniconda3/envs/d4d-internal-displacement/lib/python3.6/site-packages/newspaper/parsers.py\", line 68, in fromstring\n",
      "    cls.doc = lxml.html.fromstring(html)\n",
      "  File \"/Users/George/miniconda3/envs/d4d-internal-displacement/lib/python3.6/site-packages/lxml/html/__init__.py\", line 876, in fromstring\n",
      "    doc = document_fromstring(html, parser=parser, base_url=base_url, **kw)\n",
      "  File \"/Users/George/miniconda3/envs/d4d-internal-displacement/lib/python3.6/site-packages/lxml/html/__init__.py\", line 762, in document_fromstring\n",
      "    value = etree.fromstring(html, parser, **kw)\n",
      "  File \"src/lxml/lxml.etree.pyx\", line 3213, in lxml.etree.fromstring (src/lxml/lxml.etree.c:79010)\n",
      "  File \"src/lxml/parser.pxi\", line 1848, in lxml.etree._parseMemoryDocument (src/lxml/lxml.etree.c:118341)\n",
      "  File \"src/lxml/parser.pxi\", line 1729, in lxml.etree._parseDoc (src/lxml/lxml.etree.c:116899)\n",
      "  File \"src/lxml/parser.pxi\", line 1063, in lxml.etree._BaseParser._parseUnicodeDoc (src/lxml/lxml.etree.c:110886)\n",
      "  File \"src/lxml/parser.pxi\", line 595, in lxml.etree._ParserContext._handleParseResultDoc (src/lxml/lxml.etree.c:105109)\n",
      "  File \"src/lxml/parser.pxi\", line 706, in lxml.etree._handleParseResult (src/lxml/lxml.etree.c:106817)\n",
      "  File \"src/lxml/parser.pxi\", line 635, in lxml.etree._raiseParseError (src/lxml/lxml.etree.c:105671)\n",
      "  File \"<string>\", line 1\n",
      "lxml.etree.XMLSyntaxError: switching encoding: encoder error, line 1, column 1\n"
     ]
    }
   ],
   "source": [
    "df_urls = urls2paragraphs(urls)"
   ]
  },
  {
   "cell_type": "code",
   "execution_count": 30,
   "metadata": {
    "collapsed": true
   },
   "outputs": [],
   "source": [
    "urls = urls.unique()"
   ]
  },
  {
   "cell_type": "code",
   "execution_count": 32,
   "metadata": {
    "collapsed": true
   },
   "outputs": [],
   "source": [
    "import math\n",
    "\n",
    "def aggregator(df, urls, agg=3):\n",
    "    content = []\n",
    "    for url in urls:\n",
    "        df_temp = df[df['url'] == url]\n",
    "        title = df_temp['title'].iloc[0]\n",
    "        text = list(df_temp['paragraph'])\n",
    "        text_groups = [text[agg*i:agg*i+agg] for i in range(0, math.ceil(len(text)/agg))]\n",
    "        text = [' '.join(t) for t in text_groups]\n",
    "        for t in text:\n",
    "            content.append((url, title, t))\n",
    "    return pd.DataFrame(content, columns=['url', 'title', 'paragraph'])\n"
   ]
  },
  {
   "cell_type": "code",
   "execution_count": 33,
   "metadata": {
    "collapsed": true
   },
   "outputs": [],
   "source": [
    "df_urls = aggregator(df_urls, urls)"
   ]
  },
  {
   "cell_type": "code",
   "execution_count": 36,
   "metadata": {
    "collapsed": true
   },
   "outputs": [],
   "source": [
    "df_urls.to_csv('../../data/input_urls_0_30k.csv', index_label='id')"
   ]
  },
  {
   "cell_type": "markdown",
   "metadata": {},
   "source": [
    "# LSI"
   ]
  },
  {
   "cell_type": "code",
   "execution_count": 95,
   "metadata": {
    "collapsed": true
   },
   "outputs": [],
   "source": [
    "def prepare_data(df):\n",
    "    df['meta_description'].fillna('', inplace=True)\n",
    "    df['content'].fillna('', inplace=True)\n",
    "    df['title'].fillna('', inplace=True)\n",
    "    df['all_text'] = df['title'] + ' ' + df['meta_description'] + ' ' + df['content']\n",
    "    \n",
    "    tokenizer = nltk.tokenize.WordPunctTokenizer()\n",
    "    lemmatizer = nltk.stem.WordNetLemmatizer()\n",
    "    \n",
    "    all_text = df['all_text'].apply(lambda x: tokenizer.tokenize(x))\n",
    "    all_text = all_text.apply(lambda x: [lemmatizer.lemmatize(t) for t in x])\n",
    "    all_text = all_text.apply(lambda x: ' '.join([t for t in x if not any(d.isdigit() for d in t)]))\n",
    "    \n",
    "    \n",
    "    titles = df['title'].apply(lambda x: tokenizer.tokenize(x))\n",
    "    titles = titles.apply(lambda x: [lemmatizer.lemmatize(t) for t in x])\n",
    "    titles = titles.apply(lambda x: ' '.join([t for t in x if not any(d.isdigit() for d in t)]))\n",
    "    \n",
    "    df['tag'].map({'Conflict and violence': 'conflict', 'Disasters': 'disaster'})\n",
    "    le = LabelEncoder()\n",
    "    labels = le.fit_transform(df['tag'])\n",
    "    return all_text, titles, labels, le"
   ]
  },
  {
   "cell_type": "code",
   "execution_count": null,
   "metadata": {
    "collapsed": true
   },
   "outputs": [],
   "source": [
    "def lsi_model(tfidf_text=None, svd_text=None, k=50, seed=42):\n",
    "    tfidf = TfidfVectorizer(ngram_range=(1,4), stop_words='english')\n",
    "    tfidf_model = tfidf.fit(tfidf)"
   ]
  },
  {
   "cell_type": "code",
   "execution_count": 96,
   "metadata": {
    "collapsed": true
   },
   "outputs": [],
   "source": [
    "train_text, train_titles, train_labels, le = prepare_data(df)"
   ]
  },
  {
   "cell_type": "code",
   "execution_count": 8,
   "metadata": {
    "collapsed": true
   },
   "outputs": [],
   "source": [
    "news = nltk.corpus.reuters\n",
    "reuters_docs = [news.raw(n) for n in news.fileids()]"
   ]
  },
  {
   "cell_type": "code",
   "execution_count": 9,
   "metadata": {
    "collapsed": true
   },
   "outputs": [],
   "source": [
    "def remove_newline(text):\n",
    "    ''' Removes new line and &nbsp characters.\n",
    "    '''\n",
    "    text = text.replace('\\n', ' ')\n",
    "    text = text.replace('\\xa0', ' ')\n",
    "    text = text.replace('\\\\', '')\n",
    "    return text\n",
    "\n",
    "for i, _ in enumerate(reuters_docs):\n",
    "    reuters_docs[i] = remove_newline(reuters_docs[i])"
   ]
  },
  {
   "cell_type": "code",
   "execution_count": 10,
   "metadata": {
    "collapsed": true
   },
   "outputs": [],
   "source": [
    "for text in train_text:\n",
    "    reuters_docs.append(text)"
   ]
  },
  {
   "cell_type": "code",
   "execution_count": 11,
   "metadata": {
    "collapsed": true
   },
   "outputs": [],
   "source": [
    "tfidf = TfidfVectorizer(ngram_range=(1,4), stop_words='english')\n",
    "tfidf_reuters = tfidf.fit(reuters_docs)\n",
    "#tfidf_train = tfidf.fit(train_text)"
   ]
  },
  {
   "cell_type": "code",
   "execution_count": 80,
   "metadata": {
    "collapsed": true
   },
   "outputs": [],
   "source": [
    "#train_text_tfidf = tfidf.transform(train_text)\n",
    "train_titles_tfidf = tfidf.transform(train_titles)"
   ]
  },
  {
   "cell_type": "code",
   "execution_count": 163,
   "metadata": {
    "collapsed": true
   },
   "outputs": [],
   "source": [
    "reuters_tfids = tfidf.transform(train_titles)"
   ]
  },
  {
   "cell_type": "code",
   "execution_count": 100,
   "metadata": {},
   "outputs": [
    {
     "data": {
      "text/plain": [
       "<291x1990846 sparse matrix of type '<class 'numpy.float64'>'\n",
       "\twith 5255 stored elements in Compressed Sparse Row format>"
      ]
     },
     "execution_count": 100,
     "metadata": {},
     "output_type": "execute_result"
    }
   ],
   "source": [
    "train_titles_tfidf"
   ]
  },
  {
   "cell_type": "code",
   "execution_count": 35,
   "metadata": {},
   "outputs": [
    {
     "data": {
      "text/plain": [
       "TruncatedSVD(algorithm='randomized', n_components=50, n_iter=5,\n",
       "       random_state=None, tol=0.0)"
      ]
     },
     "execution_count": 35,
     "metadata": {},
     "output_type": "execute_result"
    }
   ],
   "source": [
    "svd = decomposition.TruncatedSVD(n_components=50)\n",
    "#svd.fit(train_text_tfidf)\n",
    "#svd.fit(train_titles_tfidf)\n",
    "svd.fit(train_titles_tfidf)"
   ]
  },
  {
   "cell_type": "code",
   "execution_count": 81,
   "metadata": {
    "collapsed": true
   },
   "outputs": [],
   "source": [
    "#train_text_svd = svd.transform(train_text_tfidf)\n",
    "train_titles_svd = svd.transform(train_titles_tfidf)"
   ]
  },
  {
   "cell_type": "code",
   "execution_count": 83,
   "metadata": {
    "scrolled": true
   },
   "outputs": [
    {
     "data": {
      "text/plain": [
       "[<matplotlib.lines.Line2D at 0x125f21da0>]"
      ]
     },
     "execution_count": 83,
     "metadata": {},
     "output_type": "execute_result"
    },
    {
     "data": {
      "image/png": "[encoded data removed]",
      "text/plain": [
       "<matplotlib.figure.Figure at 0x140367518>"
      ]
     },
     "metadata": {},
     "output_type": "display_data"
    }
   ],
   "source": [
    "plt.plot(svd.explained_variance_)"
   ]
  },
  {
   "cell_type": "code",
   "execution_count": 78,
   "metadata": {
    "collapsed": true
   },
   "outputs": [],
   "source": [
    "param_grid = [{'kernel': ['linear'], \n",
    "              'gamma': [.01, .03, 0.1, 0.3, 1.0, 3.0],\n",
    "              'class_weight':[{0:1,1:1}, {0:1, 1:3}, {0:1, 1:4}, {0:1, 1:5}],\n",
    "              'C': [1/x for x in [.003 , .01, .03, 0.1, 0.3, 1.0, 3.0, 10.0]]}]\n",
    "\n",
    "scores = ['precision', 'recall']\n",
    "\n",
    "svc = svm.SVC()\n",
    "clf = model_selection.GridSearchCV(svc, param_grid=param_grid, cv=5, scoring='f1')"
   ]
  },
  {
   "cell_type": "code",
   "execution_count": 97,
   "metadata": {
    "scrolled": true
   },
   "outputs": [
    {
     "data": {
      "text/plain": [
       "GridSearchCV(cv=5, error_score='raise',\n",
       "       estimator=SVC(C=1.0, cache_size=200, class_weight=None, coef0=0.0,\n",
       "  decision_function_shape=None, degree=3, gamma='auto', kernel='rbf',\n",
       "  max_iter=-1, probability=False, random_state=None, shrinking=True,\n",
       "  tol=0.001, verbose=False),\n",
       "       fit_params={}, iid=True, n_jobs=1,\n",
       "       param_grid=[{'kernel': ['linear'], 'gamma': [0.01, 0.03, 0.1, 0.3, 1.0, 3.0], 'C': [333.3333333333333, 100.0, 33.333333333333336, 10.0, 3.3333333333333335, 1.0, 0.3333333333333333, 0.1], 'class_weight': [{0: 1, 1: 1}, {0: 1, 1: 3}, {0: 1, 1: 4}, {0: 1, 1: 5}]}],\n",
       "       pre_dispatch='2*n_jobs', refit=True, return_train_score=True,\n",
       "       scoring='f1', verbose=0)"
      ]
     },
     "execution_count": 97,
     "metadata": {},
     "output_type": "execute_result"
    }
   ],
   "source": [
    "clf.fit(train_titles_svd, train_labels)"
   ]
  },
  {
   "cell_type": "code",
   "execution_count": 98,
   "metadata": {},
   "outputs": [
    {
     "data": {
      "text/plain": [
       "0.97036773982857727"
      ]
     },
     "execution_count": 98,
     "metadata": {},
     "output_type": "execute_result"
    }
   ],
   "source": [
    "clf.best_score_"
   ]
  },
  {
   "cell_type": "code",
   "execution_count": 99,
   "metadata": {},
   "outputs": [
    {
     "data": {
      "text/plain": [
       "{'C': 10.0, 'class_weight': {0: 1, 1: 1}, 'gamma': 0.01, 'kernel': 'linear'}"
      ]
     },
     "execution_count": 99,
     "metadata": {},
     "output_type": "execute_result"
    }
   ],
   "source": [
    "clf.best_params_"
   ]
  },
  {
   "cell_type": "code",
   "execution_count": 100,
   "metadata": {
    "collapsed": true
   },
   "outputs": [],
   "source": [
    "best_clf = clf.best_estimator_"
   ]
  },
  {
   "cell_type": "code",
   "execution_count": 46,
   "metadata": {
    "collapsed": true
   },
   "outputs": [],
   "source": [
    "best_predictions = clf.predict(train_titles_svd)"
   ]
  },
  {
   "cell_type": "code",
   "execution_count": 201,
   "metadata": {},
   "outputs": [
    {
     "name": "stdout",
     "output_type": "stream",
     "text": [
      "                       precision    recall  f1-score   support\n",
      "\n",
      "            Disasters       0.99      0.94      0.96       260\n",
      "Conflict and violence       0.65      0.90      0.76        31\n",
      "\n",
      "          avg / total       0.95      0.94      0.94       291\n",
      "\n"
     ]
    }
   ],
   "source": [
    "target_names = ['Disasters', 'Conflict and violence']\n",
    "print(classification_report(train_labels, best_predictions, target_names=target_names))"
   ]
  },
  {
   "cell_type": "markdown",
   "metadata": {},
   "source": [
    "# Export Model\n",
    "\n",
    "Pickling these models can take a long time! Only do it if you really want a new one."
   ]
  },
  {
   "cell_type": "code",
   "execution_count": 108,
   "metadata": {
    "collapsed": true
   },
   "outputs": [],
   "source": [
    "default_pipeline = make_pipeline(tfidf, svd, best_clf)"
   ]
  },
  {
   "cell_type": "code",
   "execution_count": 104,
   "metadata": {},
   "outputs": [
    {
     "name": "stdout",
     "output_type": "stream",
     "text": [
      "[0 1]\n"
     ]
    }
   ],
   "source": [
    "test_titles = ['INSIGHT-India-Pakistan clashes escalate into a humanitarian tragedy',\n",
    "              'Afghanistan – Flash Floods in Faryab and Baghlan Leave 8 Dead']\n",
    "\n",
    "test_results = default_pipeline.predict(test_titles)\n",
    "le.inverse_transform(test_results)\n",
    "print(test_results)\n"
   ]
  },
  {
   "cell_type": "code",
   "execution_count": 111,
   "metadata": {},
   "outputs": [
    {
     "data": {
      "text/plain": [
       "['../../default_encoder.pkl']"
      ]
     },
     "execution_count": 111,
     "metadata": {},
     "output_type": "execute_result"
    }
   ],
   "source": [
    "joblib.dump(le, '../../default_encoder.pkl', compress = 1)"
   ]
  },
  {
   "cell_type": "code",
   "execution_count": 113,
   "metadata": {
    "scrolled": true
   },
   "outputs": [
    {
     "data": {
      "text/plain": [
       "['../../default_model.pkl']"
      ]
     },
     "execution_count": 113,
     "metadata": {},
     "output_type": "execute_result"
    }
   ],
   "source": [
    "joblib.dump(default_pipeline, '../../default_model.pkl', compress = 3)"
   ]
  },
  {
   "cell_type": "markdown",
   "metadata": {},
   "source": [
    "# Learning Curves"
   ]
  },
  {
   "cell_type": "code",
   "execution_count": 202,
   "metadata": {
    "collapsed": true
   },
   "outputs": [],
   "source": [
    "train_sizes, train_scores, valid_scores = learning_curve(\n",
    "    best_clf, train_text_svd, train_labels, train_sizes=[50, 60, 100, 150, 200, 231], cv=5)"
   ]
  },
  {
   "cell_type": "code",
   "execution_count": 203,
   "metadata": {
    "collapsed": true
   },
   "outputs": [],
   "source": [
    "train_scores = [np.mean(x) for x in train_scores]\n",
    "valid_scores = [np.mean(x) for x in valid_scores]"
   ]
  },
  {
   "cell_type": "code",
   "execution_count": 204,
   "metadata": {},
   "outputs": [
    {
     "data": {
      "text/plain": [
       "[<matplotlib.lines.Line2D at 0x7ff9370922b0>]"
      ]
     },
     "execution_count": 204,
     "metadata": {},
     "output_type": "execute_result"
    },
    {
     "data": {
      "image/png": "[encoded data removed]",
      "text/plain": [
       "<matplotlib.figure.Figure at 0x7ff937092e80>"
      ]
     },
     "metadata": {},
     "output_type": "display_data"
    }
   ],
   "source": [
    "plt.plot(train_sizes, train_scores)\n",
    "plt.plot(train_sizes, valid_scores)"
   ]
  },
  {
   "cell_type": "markdown",
   "metadata": {},
   "source": [
    "# Testing"
   ]
  },
  {
   "cell_type": "code",
   "execution_count": 3,
   "metadata": {},
   "outputs": [
    {
     "ename": "FileNotFoundError",
     "evalue": "File b'../../data/article_contents2.csv' does not exist",
     "output_type": "error",
     "traceback": [
      "\u001b[0;31m---------------------------------------------------------------------------\u001b[0m",
      "\u001b[0;31mFileNotFoundError\u001b[0m                         Traceback (most recent call last)",
      "\u001b[0;32m<ipython-input-3-81c4712a74a2>\u001b[0m in \u001b[0;36m<module>\u001b[0;34m()\u001b[0m\n\u001b[0;32m----> 1\u001b[0;31m \u001b[0mdf_test\u001b[0m \u001b[0;34m=\u001b[0m \u001b[0mpd\u001b[0m\u001b[0;34m.\u001b[0m\u001b[0mread_csv\u001b[0m\u001b[0;34m(\u001b[0m\u001b[0;34m'../../data/article_contents2.csv'\u001b[0m\u001b[0;34m)\u001b[0m\u001b[0;34m\u001b[0m\u001b[0m\n\u001b[0m",
      "\u001b[0;32m/Users/George/miniconda3/envs/d4d-internal-displacement/lib/python3.6/site-packages/pandas/io/parsers.py\u001b[0m in \u001b[0;36mparser_f\u001b[0;34m(filepath_or_buffer, sep, delimiter, header, names, index_col, usecols, squeeze, prefix, mangle_dupe_cols, dtype, engine, converters, true_values, false_values, skipinitialspace, skiprows, nrows, na_values, keep_default_na, na_filter, verbose, skip_blank_lines, parse_dates, infer_datetime_format, keep_date_col, date_parser, dayfirst, iterator, chunksize, compression, thousands, decimal, lineterminator, quotechar, quoting, escapechar, comment, encoding, dialect, tupleize_cols, error_bad_lines, warn_bad_lines, skipfooter, skip_footer, doublequote, delim_whitespace, as_recarray, compact_ints, use_unsigned, low_memory, buffer_lines, memory_map, float_precision)\u001b[0m\n\u001b[1;32m    644\u001b[0m                     skip_blank_lines=skip_blank_lines)\n\u001b[1;32m    645\u001b[0m \u001b[0;34m\u001b[0m\u001b[0m\n\u001b[0;32m--> 646\u001b[0;31m         \u001b[0;32mreturn\u001b[0m \u001b[0m_read\u001b[0m\u001b[0;34m(\u001b[0m\u001b[0mfilepath_or_buffer\u001b[0m\u001b[0;34m,\u001b[0m \u001b[0mkwds\u001b[0m\u001b[0;34m)\u001b[0m\u001b[0;34m\u001b[0m\u001b[0m\n\u001b[0m\u001b[1;32m    647\u001b[0m \u001b[0;34m\u001b[0m\u001b[0m\n\u001b[1;32m    648\u001b[0m     \u001b[0mparser_f\u001b[0m\u001b[0;34m.\u001b[0m\u001b[0m__name__\u001b[0m \u001b[0;34m=\u001b[0m \u001b[0mname\u001b[0m\u001b[0;34m\u001b[0m\u001b[0m\n",
      "\u001b[0;32m/Users/George/miniconda3/envs/d4d-internal-displacement/lib/python3.6/site-packages/pandas/io/parsers.py\u001b[0m in \u001b[0;36m_read\u001b[0;34m(filepath_or_buffer, kwds)\u001b[0m\n\u001b[1;32m    387\u001b[0m \u001b[0;34m\u001b[0m\u001b[0m\n\u001b[1;32m    388\u001b[0m     \u001b[0;31m# Create the parser.\u001b[0m\u001b[0;34m\u001b[0m\u001b[0;34m\u001b[0m\u001b[0m\n\u001b[0;32m--> 389\u001b[0;31m     \u001b[0mparser\u001b[0m \u001b[0;34m=\u001b[0m \u001b[0mTextFileReader\u001b[0m\u001b[0;34m(\u001b[0m\u001b[0mfilepath_or_buffer\u001b[0m\u001b[0;34m,\u001b[0m \u001b[0;34m**\u001b[0m\u001b[0mkwds\u001b[0m\u001b[0;34m)\u001b[0m\u001b[0;34m\u001b[0m\u001b[0m\n\u001b[0m\u001b[1;32m    390\u001b[0m \u001b[0;34m\u001b[0m\u001b[0m\n\u001b[1;32m    391\u001b[0m     \u001b[0;32mif\u001b[0m \u001b[0;34m(\u001b[0m\u001b[0mnrows\u001b[0m \u001b[0;32mis\u001b[0m \u001b[0;32mnot\u001b[0m \u001b[0;32mNone\u001b[0m\u001b[0;34m)\u001b[0m \u001b[0;32mand\u001b[0m \u001b[0;34m(\u001b[0m\u001b[0mchunksize\u001b[0m \u001b[0;32mis\u001b[0m \u001b[0;32mnot\u001b[0m \u001b[0;32mNone\u001b[0m\u001b[0;34m)\u001b[0m\u001b[0;34m:\u001b[0m\u001b[0;34m\u001b[0m\u001b[0m\n",
      "\u001b[0;32m/Users/George/miniconda3/envs/d4d-internal-displacement/lib/python3.6/site-packages/pandas/io/parsers.py\u001b[0m in \u001b[0;36m__init__\u001b[0;34m(self, f, engine, **kwds)\u001b[0m\n\u001b[1;32m    728\u001b[0m             \u001b[0mself\u001b[0m\u001b[0;34m.\u001b[0m\u001b[0moptions\u001b[0m\u001b[0;34m[\u001b[0m\u001b[0;34m'has_index_names'\u001b[0m\u001b[0;34m]\u001b[0m \u001b[0;34m=\u001b[0m \u001b[0mkwds\u001b[0m\u001b[0;34m[\u001b[0m\u001b[0;34m'has_index_names'\u001b[0m\u001b[0;34m]\u001b[0m\u001b[0;34m\u001b[0m\u001b[0m\n\u001b[1;32m    729\u001b[0m \u001b[0;34m\u001b[0m\u001b[0m\n\u001b[0;32m--> 730\u001b[0;31m         \u001b[0mself\u001b[0m\u001b[0;34m.\u001b[0m\u001b[0m_make_engine\u001b[0m\u001b[0;34m(\u001b[0m\u001b[0mself\u001b[0m\u001b[0;34m.\u001b[0m\u001b[0mengine\u001b[0m\u001b[0;34m)\u001b[0m\u001b[0;34m\u001b[0m\u001b[0m\n\u001b[0m\u001b[1;32m    731\u001b[0m \u001b[0;34m\u001b[0m\u001b[0m\n\u001b[1;32m    732\u001b[0m     \u001b[0;32mdef\u001b[0m \u001b[0mclose\u001b[0m\u001b[0;34m(\u001b[0m\u001b[0mself\u001b[0m\u001b[0;34m)\u001b[0m\u001b[0;34m:\u001b[0m\u001b[0;34m\u001b[0m\u001b[0m\n",
      "\u001b[0;32m/Users/George/miniconda3/envs/d4d-internal-displacement/lib/python3.6/site-packages/pandas/io/parsers.py\u001b[0m in \u001b[0;36m_make_engine\u001b[0;34m(self, engine)\u001b[0m\n\u001b[1;32m    921\u001b[0m     \u001b[0;32mdef\u001b[0m \u001b[0m_make_engine\u001b[0m\u001b[0;34m(\u001b[0m\u001b[0mself\u001b[0m\u001b[0;34m,\u001b[0m \u001b[0mengine\u001b[0m\u001b[0;34m=\u001b[0m\u001b[0;34m'c'\u001b[0m\u001b[0;34m)\u001b[0m\u001b[0;34m:\u001b[0m\u001b[0;34m\u001b[0m\u001b[0m\n\u001b[1;32m    922\u001b[0m         \u001b[0;32mif\u001b[0m \u001b[0mengine\u001b[0m \u001b[0;34m==\u001b[0m \u001b[0;34m'c'\u001b[0m\u001b[0;34m:\u001b[0m\u001b[0;34m\u001b[0m\u001b[0m\n\u001b[0;32m--> 923\u001b[0;31m             \u001b[0mself\u001b[0m\u001b[0;34m.\u001b[0m\u001b[0m_engine\u001b[0m \u001b[0;34m=\u001b[0m \u001b[0mCParserWrapper\u001b[0m\u001b[0;34m(\u001b[0m\u001b[0mself\u001b[0m\u001b[0;34m.\u001b[0m\u001b[0mf\u001b[0m\u001b[0;34m,\u001b[0m \u001b[0;34m**\u001b[0m\u001b[0mself\u001b[0m\u001b[0;34m.\u001b[0m\u001b[0moptions\u001b[0m\u001b[0;34m)\u001b[0m\u001b[0;34m\u001b[0m\u001b[0m\n\u001b[0m\u001b[1;32m    924\u001b[0m         \u001b[0;32melse\u001b[0m\u001b[0;34m:\u001b[0m\u001b[0;34m\u001b[0m\u001b[0m\n\u001b[1;32m    925\u001b[0m             \u001b[0;32mif\u001b[0m \u001b[0mengine\u001b[0m \u001b[0;34m==\u001b[0m \u001b[0;34m'python'\u001b[0m\u001b[0;34m:\u001b[0m\u001b[0;34m\u001b[0m\u001b[0m\n",
      "\u001b[0;32m/Users/George/miniconda3/envs/d4d-internal-displacement/lib/python3.6/site-packages/pandas/io/parsers.py\u001b[0m in \u001b[0;36m__init__\u001b[0;34m(self, src, **kwds)\u001b[0m\n\u001b[1;32m   1388\u001b[0m         \u001b[0mkwds\u001b[0m\u001b[0;34m[\u001b[0m\u001b[0;34m'allow_leading_cols'\u001b[0m\u001b[0;34m]\u001b[0m \u001b[0;34m=\u001b[0m \u001b[0mself\u001b[0m\u001b[0;34m.\u001b[0m\u001b[0mindex_col\u001b[0m \u001b[0;32mis\u001b[0m \u001b[0;32mnot\u001b[0m \u001b[0;32mFalse\u001b[0m\u001b[0;34m\u001b[0m\u001b[0m\n\u001b[1;32m   1389\u001b[0m \u001b[0;34m\u001b[0m\u001b[0m\n\u001b[0;32m-> 1390\u001b[0;31m         \u001b[0mself\u001b[0m\u001b[0;34m.\u001b[0m\u001b[0m_reader\u001b[0m \u001b[0;34m=\u001b[0m \u001b[0m_parser\u001b[0m\u001b[0;34m.\u001b[0m\u001b[0mTextReader\u001b[0m\u001b[0;34m(\u001b[0m\u001b[0msrc\u001b[0m\u001b[0;34m,\u001b[0m \u001b[0;34m**\u001b[0m\u001b[0mkwds\u001b[0m\u001b[0;34m)\u001b[0m\u001b[0;34m\u001b[0m\u001b[0m\n\u001b[0m\u001b[1;32m   1391\u001b[0m \u001b[0;34m\u001b[0m\u001b[0m\n\u001b[1;32m   1392\u001b[0m         \u001b[0;31m# XXX\u001b[0m\u001b[0;34m\u001b[0m\u001b[0;34m\u001b[0m\u001b[0m\n",
      "\u001b[0;32mpandas/parser.pyx\u001b[0m in \u001b[0;36mpandas.parser.TextReader.__cinit__ (pandas/parser.c:4184)\u001b[0;34m()\u001b[0m\n",
      "\u001b[0;32mpandas/parser.pyx\u001b[0m in \u001b[0;36mpandas.parser.TextReader._setup_parser_source (pandas/parser.c:8449)\u001b[0;34m()\u001b[0m\n",
      "\u001b[0;31mFileNotFoundError\u001b[0m: File b'../../data/article_contents2.csv' does not exist"
     ]
    }
   ],
   "source": [
    "df_test = pd.read_csv('.csv')"
   ]
  },
  {
   "cell_type": "code",
   "execution_count": 186,
   "metadata": {},
   "outputs": [
    {
     "data": {
      "text/html": [
       "<div>\n",
       "<table border=\"1\" class=\"dataframe\">\n",
       "  <thead>\n",
       "    <tr style=\"text-align: right;\">\n",
       "      <th></th>\n",
       "      <th>Unnamed: 0</th>\n",
       "      <th>title</th>\n",
       "      <th>meta_description</th>\n",
       "      <th>content</th>\n",
       "      <th>url</th>\n",
       "      <th>tag</th>\n",
       "    </tr>\n",
       "  </thead>\n",
       "  <tbody>\n",
       "    <tr>\n",
       "      <th>0</th>\n",
       "      <td>0</td>\n",
       "      <td>Islamist violence strains a poor nation's warm...</td>\n",
       "      <td>DIFFA, Niger (Reuters) - Unlike many victims o...</td>\n",
       "      <td>DIFFA, Niger (Reuters) - Unlike many victims o...</td>\n",
       "      <td>http://www.thefiscaltimes.com/latestnews/2016/...</td>\n",
       "      <td>Conflict and violence</td>\n",
       "    </tr>\n",
       "  </tbody>\n",
       "</table>\n",
       "</div>"
      ],
      "text/plain": [
       "   Unnamed: 0                                              title  \\\n",
       "0           0  Islamist violence strains a poor nation's warm...   \n",
       "\n",
       "                                    meta_description  \\\n",
       "0  DIFFA, Niger (Reuters) - Unlike many victims o...   \n",
       "\n",
       "                                             content  \\\n",
       "0  DIFFA, Niger (Reuters) - Unlike many victims o...   \n",
       "\n",
       "                                                 url                    tag  \n",
       "0  http://www.thefiscaltimes.com/latestnews/2016/...  Conflict and violence  "
      ]
     },
     "execution_count": 186,
     "metadata": {},
     "output_type": "execute_result"
    }
   ],
   "source": [
    "df_test.head(1)"
   ]
  },
  {
   "cell_type": "code",
   "execution_count": null,
   "metadata": {
    "collapsed": true
   },
   "outputs": [],
   "source": [
    "drop 19, 20"
   ]
  },
  {
   "cell_type": "code",
   "execution_count": 187,
   "metadata": {
    "collapsed": true
   },
   "outputs": [],
   "source": [
    "df_test.drop('Unnamed: 0', axis=1, inplace=True)"
   ]
  },
  {
   "cell_type": "code",
   "execution_count": 188,
   "metadata": {
    "collapsed": true
   },
   "outputs": [],
   "source": [
    "df_test.drop(19, inplace=True)\n",
    "df_test.drop(20, inplace=True)"
   ]
  },
  {
   "cell_type": "code",
   "execution_count": 157,
   "metadata": {
    "collapsed": true
   },
   "outputs": [],
   "source": [
    "df_test.drop(20, inplace=True)"
   ]
  },
  {
   "cell_type": "code",
   "execution_count": 189,
   "metadata": {},
   "outputs": [
    {
     "data": {
      "text/plain": [
       "title               UN to Place This Nation Under Scrutiny for Gha...\n",
       "meta_description    Sudan's president, Omar al-Bashir, is the worl...\n",
       "content             The Sudanese Church of Christ, Bahri, North Kh...\n",
       "url                 http://www.charismanews.com/world/56936-un-to-...\n",
       "tag                                             Conflict and violence\n",
       "Name: 22, dtype: object"
      ]
     },
     "execution_count": 189,
     "metadata": {},
     "output_type": "execute_result"
    }
   ],
   "source": [
    "df_test.iloc[20]"
   ]
  },
  {
   "cell_type": "code",
   "execution_count": 190,
   "metadata": {
    "collapsed": true
   },
   "outputs": [],
   "source": [
    "test_text, test_titles, test_labels = prepare_data(df_test)\n",
    "test_labels.fillna(0, inplace=True)"
   ]
  },
  {
   "cell_type": "code",
   "execution_count": 191,
   "metadata": {
    "collapsed": true
   },
   "outputs": [],
   "source": [
    "test_text_tfidf = tfidf.transform(test_text)\n",
    "test_text_svd = svd.transform(test_text_tfidf)"
   ]
  },
  {
   "cell_type": "code",
   "execution_count": 192,
   "metadata": {
    "collapsed": true
   },
   "outputs": [],
   "source": [
    "test_titles_tfidf = tfidf.transform(test_titles)\n",
    "test_titles_svd = svd.transform(test_titles_tfidf)"
   ]
  },
  {
   "cell_type": "code",
   "execution_count": 205,
   "metadata": {
    "collapsed": true
   },
   "outputs": [],
   "source": [
    "predictions = best_clf.predict(test_titles_svd)"
   ]
  },
  {
   "cell_type": "code",
   "execution_count": 206,
   "metadata": {},
   "outputs": [
    {
     "data": {
      "text/plain": [
       "array([1, 0, 0, 1, 1, 0, 0, 0, 0, 1, 0, 0, 0, 0, 0, 0, 0, 1, 1, 1, 1, 0, 0,\n",
       "       1, 1, 0, 1, 1, 0, 0, 1, 0, 0, 1, 1, 0, 0, 1, 0, 1, 1, 1, 0, 0, 0, 0,\n",
       "       1, 0, 1, 0, 0, 0, 0, 0, 1, 1, 0, 0, 1, 0, 1, 0, 0, 0, 1, 0, 0, 0, 1,\n",
       "       1, 0, 0, 0])"
      ]
     },
     "execution_count": 206,
     "metadata": {},
     "output_type": "execute_result"
    }
   ],
   "source": [
    "predictions"
   ]
  },
  {
   "cell_type": "code",
   "execution_count": 207,
   "metadata": {},
   "outputs": [
    {
     "data": {
      "text/plain": [
       "0.60273972602739723"
      ]
     },
     "execution_count": 207,
     "metadata": {},
     "output_type": "execute_result"
    }
   ],
   "source": [
    "sum(predictions == test_labels)/len(test_labels)"
   ]
  },
  {
   "cell_type": "code",
   "execution_count": 143,
   "metadata": {},
   "outputs": [
    {
     "name": "stdout",
     "output_type": "stream",
     "text": [
      "                       precision    recall  f1-score   support\n",
      "\n",
      "            Disasters       0.76      0.88      0.81        42\n",
      "Conflict and violence       0.81      0.64      0.71        33\n",
      "\n",
      "          avg / total       0.78      0.77      0.77        75\n",
      "\n"
     ]
    }
   ],
   "source": [
    "target_names = ['Disasters', 'Conflict and violence']\n",
    "print(classification_report(test_labels, predictions, target_names=target_names))"
   ]
  },
  {
   "cell_type": "markdown",
   "metadata": {},
   "source": [
    "# Appendix 1 - Approaches"
   ]
  },
  {
   "cell_type": "markdown",
   "metadata": {},
   "source": [
    "## Approach 1\n",
    "\n",
    "0.59\n",
    "\n",
    "1. Fit TfIdf on training data\n",
    "2. Fit SVD on training data (k=200)\n",
    "3. Transform training data with SVD\n",
    "4. Optimise SVM classifier\n",
    "\n",
    "```\n",
    "precision    recall  f1-score   support\n",
    "\n",
    "            Disasters       1.00      0.99      1.00       260\n",
    "Conflict and violence       0.94      1.00      0.97        31\n",
    "\n",
    "          avg / total       0.99      0.99      0.99       291\n",
    "```          \n",
    "5. Best classifier on test data\n",
    "\n",
    "```\n",
    "precision    recall  f1-score   support\n",
    "\n",
    "            Disasters       0.58      1.00      0.74        42\n",
    "Conflict and violence       1.00      0.09      0.17        33\n",
    "\n",
    "          avg / total       0.77      0.60      0.49        75\n",
    "```"
   ]
  },
  {
   "cell_type": "markdown",
   "metadata": {},
   "source": [
    "## Approach 2\n",
    "\n",
    "0.72\n",
    "\n",
    "1. Fit TfIdf on Reuters corpus\n",
    "2. Fit SVD on training data (k=100)\n",
    "3. Transform training data with SVD\n",
    "4. Optimise SVM classifier\n",
    "\n",
    "```\n",
    "                       precision    recall  f1-score   support\n",
    "\n",
    "            Disasters       1.00      0.98      0.99       260\n",
    "Conflict and violence       0.84      1.00      0.91        31\n",
    "\n",
    "          avg / total       0.98      0.98      0.98       291\n",
    "```          \n",
    "5. Best classifier on test data\n",
    "\n",
    "```\n",
    "                       precision    recall  f1-score   support\n",
    "\n",
    "            Disasters       0.67      0.98      0.80        42\n",
    "Conflict and violence       0.93      0.39      0.55        33\n",
    "\n",
    "          avg / total       0.78      0.72      0.69        75\n",
    "```"
   ]
  },
  {
   "cell_type": "markdown",
   "metadata": {},
   "source": [
    "## Approach 3\n",
    "\n",
    "0.57\n",
    "\n",
    "1. Fit TfIdf on Reuters corpus\n",
    "2. Fit SVD on training data (k=50)\n",
    "3. Transform training data with SVD\n",
    "4. Optimise SVM classifier\n",
    "\n",
    "```\n",
    "                       precision    recall  f1-score   support\n",
    "\n",
    "            Disasters       1.00      0.98      0.99       260\n",
    "Conflict and violence       0.84      1.00      0.91        31\n",
    "\n",
    "          avg / total       0.98      0.98      0.98       291\n",
    "```          \n",
    "5. Best classifier on test data\n",
    "\n",
    "```\n",
    "                       precision    recall  f1-score   support\n",
    "\n",
    "            Disasters       0.67      0.98      0.80        42\n",
    "Conflict and violence       0.93      0.39      0.55        33\n",
    "\n",
    "          avg / total       0.78      0.72      0.69        75\n",
    "```"
   ]
  },
  {
   "cell_type": "markdown",
   "metadata": {},
   "source": [
    "## Approach 4\n",
    "\n",
    "0.77\n",
    "\n",
    "1. Fit TfIdf on Reuters corpus\n",
    "2. Fit SVD on training titles (k=50)\n",
    "3. Transform training data with SVD\n",
    "4. Optimise SVM classifier\n",
    "\n",
    "```\n",
    "                       precision    recall  f1-score   support\n",
    "\n",
    "            Disasters       1.00      0.98      0.99       260\n",
    "Conflict and violence       0.88      0.97      0.92        31\n",
    "\n",
    "          avg / total       0.98      0.98      0.98       291\n",
    "```\n",
    "\n",
    "5. Best classifier on test data\n",
    "\n",
    "```\n",
    "                       precision    recall  f1-score   support\n",
    "\n",
    "            Disasters       0.57      0.93      0.71        42\n",
    "Conflict and violence       0.57      0.12      0.20        33\n",
    "\n",
    "          avg / total       0.57      0.57      0.49        75\n",
    "```\n",
    "\n"
   ]
  },
  {
   "cell_type": "markdown",
   "metadata": {
    "collapsed": true
   },
   "source": [
    "# Scraping Test Set"
   ]
  },
  {
   "cell_type": "code",
   "execution_count": 4,
   "metadata": {
    "collapsed": true
   },
   "outputs": [],
   "source": [
    "scraper = Scraper()"
   ]
  },
  {
   "cell_type": "code",
   "execution_count": 36,
   "metadata": {
    "collapsed": true
   },
   "outputs": [],
   "source": [
    "def scrape_urls(urls):\n",
    "    texts = []\n",
    "    indices = []\n",
    "    urls_done = []\n",
    "    for i, url in enumerate(urls):\n",
    "        try:\n",
    "            article = scraper.scrape(url, scrape_pdfs=False)\n",
    "            if article:\n",
    "                text = article[0]\n",
    "                urls_done.append(url)\n",
    "                indices.append(i)\n",
    "                texts.append(text)\n",
    "                print(i)\n",
    "            else:\n",
    "                texts.append('pdf')\n",
    "        except:\n",
    "            texts.append('broken')\n",
    "    return texts, indices, urls_done"
   ]
  },
  {
   "cell_type": "code",
   "execution_count": 26,
   "metadata": {
    "collapsed": true
   },
   "outputs": [],
   "source": [
    "test_urls = pd.read_csv('../../data/test/IDETECT_test_dataset - Tagging.csv')"
   ]
  },
  {
   "cell_type": "code",
   "execution_count": 28,
   "metadata": {},
   "outputs": [],
   "source": [
    "urls = test_urls['url']"
   ]
  },
  {
   "cell_type": "code",
   "execution_count": 33,
   "metadata": {},
   "outputs": [],
   "source": [
    "url_chunks = [urls[x:x+25] for x in range(0, len(urls), 25)]"
   ]
  },
  {
   "cell_type": "code",
   "execution_count": 37,
   "metadata": {},
   "outputs": [
    {
     "name": "stdout",
     "output_type": "stream",
     "text": [
      "1\n",
      "3\n",
      "4\n",
      "5\n",
      "7\n",
      "8\n",
      "9\n",
      "12\n",
      "15\n",
      "16\n",
      "17\n",
      "19\n",
      "20\n",
      "21\n",
      "22\n",
      "23\n",
      "25\n",
      "26\n",
      "27\n",
      "29\n",
      "30\n",
      "32\n",
      "34\n",
      "35\n",
      "36\n",
      "37\n",
      "38\n",
      "39\n",
      "40\n",
      "41\n",
      "42\n",
      "43\n",
      "44\n",
      "45\n",
      "46\n",
      "47\n",
      "48\n",
      "50\n",
      "51\n",
      "53\n",
      "54\n",
      "55\n",
      "56\n",
      "57\n",
      "58\n",
      "59\n",
      "60\n",
      "62\n",
      "63\n",
      "64\n",
      "65\n",
      "66\n"
     ]
    },
    {
     "name": "stderr",
     "output_type": "stream",
     "text": [
      "Some characters could not be decoded, and were replaced with REPLACEMENT CHARACTER.\n"
     ]
    },
    {
     "name": "stdout",
     "output_type": "stream",
     "text": [
      "67\n",
      "68\n",
      "69\n",
      "70\n",
      "71\n",
      "72\n",
      "75\n",
      "77\n",
      "78\n",
      "79\n",
      "80\n",
      "84\n",
      "85\n",
      "86\n",
      "87\n",
      "88\n",
      "89\n",
      "90\n",
      "94\n",
      "95\n",
      "97\n",
      "98\n",
      "101\n",
      "104\n",
      "105\n",
      "106\n",
      "107\n",
      "108\n",
      "109\n",
      "110\n",
      "112\n",
      "113\n",
      "114\n",
      "115\n",
      "118\n",
      "119\n",
      "121\n",
      "122\n",
      "123\n",
      "125\n",
      "126\n",
      "127\n",
      "129\n",
      "130\n",
      "131\n",
      "132\n",
      "133\n",
      "134\n",
      "136\n",
      "137\n",
      "138\n",
      "139\n",
      "140\n",
      "141\n",
      "142\n",
      "144\n",
      "145\n",
      "147\n",
      "148\n",
      "149\n",
      "150\n",
      "151\n",
      "153\n",
      "154\n",
      "155\n",
      "159\n",
      "162\n",
      "164\n",
      "165\n",
      "168\n",
      "169\n",
      "170\n",
      "171\n",
      "172\n",
      "173\n",
      "174\n",
      "176\n",
      "177\n",
      "178\n",
      "179\n",
      "180\n",
      "182\n",
      "184\n",
      "185\n",
      "186\n",
      "187\n",
      "188\n",
      "189\n",
      "191\n",
      "192\n",
      "193\n",
      "195\n",
      "196\n",
      "197\n",
      "198\n",
      "199\n",
      "201\n",
      "202\n",
      "203\n",
      "208\n",
      "209\n",
      "210\n",
      "211\n",
      "212\n",
      "213\n",
      "214\n",
      "215\n",
      "216\n",
      "217\n",
      "218\n",
      "219\n",
      "220\n",
      "221\n",
      "222\n",
      "223\n",
      "224\n",
      "225\n",
      "229\n",
      "230\n",
      "231\n",
      "232\n",
      "233\n",
      "234\n",
      "235\n",
      "236\n",
      "237\n",
      "239\n",
      "240\n",
      "241\n",
      "242\n",
      "243\n",
      "244\n",
      "245\n",
      "246\n",
      "247\n",
      "248\n",
      "249\n",
      "250\n",
      "252\n",
      "253\n",
      "254\n",
      "255\n",
      "258\n",
      "259\n",
      "260\n",
      "261\n",
      "262\n",
      "264\n",
      "265\n",
      "267\n",
      "268\n",
      "269\n",
      "270\n",
      "271\n",
      "273\n",
      "274\n",
      "275\n",
      "277\n",
      "279\n",
      "281\n",
      "289\n",
      "293\n",
      "294\n",
      "295\n",
      "296\n",
      "299\n",
      "301\n",
      "302\n",
      "303\n",
      "304\n",
      "306\n",
      "307\n",
      "308\n",
      "309\n",
      "310\n",
      "311\n",
      "312\n",
      "313\n",
      "314\n",
      "315\n",
      "317\n",
      "318\n",
      "320\n",
      "321\n",
      "323\n",
      "324\n",
      "325\n",
      "327\n",
      "328\n",
      "329\n",
      "330\n",
      "331\n",
      "332\n",
      "333\n",
      "336\n",
      "337\n",
      "338\n",
      "340\n",
      "342\n",
      "343\n",
      "344\n",
      "347\n",
      "348\n",
      "349\n",
      "350\n",
      "351\n",
      "352\n",
      "354\n",
      "356\n",
      "357\n",
      "358\n",
      "359\n",
      "360\n",
      "361\n",
      "362\n",
      "364\n",
      "365\n",
      "366\n",
      "367\n",
      "368\n",
      "369\n",
      "370\n",
      "371\n",
      "373\n",
      "374\n",
      "375\n",
      "376\n",
      "377\n",
      "378\n",
      "379\n",
      "380\n",
      "381\n",
      "382\n",
      "383\n",
      "385\n",
      "386\n",
      "387\n",
      "389\n",
      "391\n",
      "392\n",
      "393\n",
      "394\n",
      "395\n",
      "397\n",
      "398\n",
      "400\n",
      "402\n",
      "403\n",
      "404\n",
      "405\n",
      "406\n",
      "407\n",
      "408\n",
      "409\n",
      "410\n",
      "411\n",
      "412\n",
      "414\n",
      "415\n",
      "416\n",
      "417\n",
      "418\n",
      "419\n",
      "420\n",
      "421\n",
      "422\n",
      "423\n",
      "426\n",
      "427\n",
      "429\n",
      "430\n",
      "431\n",
      "432\n",
      "433\n",
      "435\n",
      "436\n",
      "437\n",
      "438\n",
      "439\n",
      "441\n",
      "443\n",
      "444\n",
      "445\n",
      "447\n",
      "448\n",
      "449\n",
      "450\n",
      "451\n",
      "452\n",
      "453\n",
      "454\n",
      "455\n",
      "456\n",
      "457\n",
      "459\n",
      "460\n",
      "461\n",
      "463\n",
      "464\n",
      "465\n",
      "468\n",
      "469\n",
      "471\n",
      "472\n",
      "473\n",
      "474\n",
      "476\n",
      "477\n",
      "478\n",
      "479\n",
      "480\n",
      "481\n",
      "482\n",
      "483\n",
      "484\n",
      "485\n",
      "487\n",
      "489\n",
      "490\n",
      "492\n",
      "493\n",
      "494\n",
      "495\n",
      "496\n",
      "497\n",
      "498\n",
      "499\n",
      "501\n",
      "503\n",
      "504\n",
      "505\n",
      "506\n",
      "507\n",
      "508\n",
      "511\n",
      "512\n",
      "513\n",
      "514\n",
      "515\n",
      "516\n",
      "517\n",
      "518\n",
      "519\n",
      "520\n",
      "522\n",
      "523\n",
      "524\n",
      "525\n",
      "526\n",
      "527\n",
      "528\n",
      "531\n",
      "533\n",
      "534\n",
      "535\n",
      "538\n",
      "539\n",
      "540\n",
      "542\n",
      "543\n",
      "544\n",
      "545\n",
      "546\n",
      "547\n",
      "548\n",
      "550\n",
      "551\n",
      "552\n",
      "553\n",
      "556\n",
      "558\n",
      "559\n",
      "560\n",
      "561\n",
      "562\n",
      "565\n",
      "566\n",
      "567\n",
      "568\n",
      "569\n",
      "570\n",
      "572\n",
      "573\n",
      "574\n",
      "576\n",
      "577\n",
      "578\n",
      "580\n",
      "582\n",
      "584\n",
      "587\n",
      "589\n",
      "591\n",
      "592\n",
      "594\n",
      "595\n",
      "596\n",
      "598\n",
      "599\n",
      "600\n",
      "601\n",
      "602\n",
      "603\n",
      "604\n",
      "605\n",
      "606\n",
      "608\n",
      "609\n",
      "610\n",
      "611\n",
      "612\n",
      "613\n",
      "615\n",
      "616\n",
      "618\n",
      "619\n",
      "622\n",
      "623\n",
      "625\n",
      "626\n",
      "627\n",
      "628\n",
      "630\n",
      "631\n",
      "632\n",
      "633\n",
      "635\n",
      "636\n",
      "637\n",
      "639\n",
      "640\n",
      "641\n",
      "643\n",
      "644\n",
      "645\n",
      "646\n",
      "648\n",
      "649\n",
      "650\n",
      "651\n",
      "652\n",
      "653\n",
      "654\n",
      "655\n",
      "657\n",
      "659\n",
      "660\n",
      "661\n",
      "662\n",
      "663\n",
      "664\n",
      "666\n",
      "667\n",
      "668\n",
      "669\n",
      "670\n",
      "671\n",
      "672\n",
      "673\n",
      "675\n",
      "677\n",
      "678\n",
      "679\n",
      "681\n",
      "684\n",
      "685\n",
      "687\n",
      "688\n",
      "691\n",
      "693\n",
      "694\n",
      "696\n",
      "697\n",
      "698\n",
      "699\n",
      "700\n",
      "701\n",
      "702\n",
      "703\n",
      "705\n",
      "706\n",
      "707\n",
      "709\n",
      "710\n",
      "711\n",
      "712\n",
      "715\n",
      "717\n",
      "718\n",
      "720\n",
      "721\n",
      "725\n",
      "727\n",
      "728\n",
      "729\n",
      "730\n",
      "733\n",
      "735\n",
      "737\n",
      "738\n",
      "740\n",
      "741\n",
      "742\n",
      "747\n",
      "749\n",
      "750\n",
      "751\n",
      "753\n",
      "755\n",
      "756\n",
      "757\n",
      "758\n",
      "759\n",
      "760\n",
      "761\n",
      "762\n",
      "763\n",
      "764\n",
      "765\n",
      "768\n",
      "769\n",
      "770\n",
      "771\n",
      "772\n",
      "773\n",
      "775\n",
      "776\n",
      "777\n",
      "778\n",
      "779\n",
      "780\n",
      "781\n",
      "783\n",
      "784\n",
      "785\n",
      "786\n",
      "789\n",
      "790\n",
      "791\n",
      "794\n",
      "796\n",
      "797\n",
      "798\n",
      "800\n",
      "802\n",
      "803\n",
      "804\n",
      "805\n",
      "806\n",
      "807\n",
      "809\n",
      "810\n",
      "811\n",
      "812\n",
      "813\n",
      "815\n",
      "816\n",
      "817\n",
      "818\n",
      "819\n",
      "822\n",
      "823\n",
      "824\n",
      "825\n",
      "827\n",
      "828\n",
      "829\n",
      "830\n",
      "831\n",
      "832\n",
      "833\n",
      "834\n",
      "835\n",
      "836\n",
      "839\n",
      "841\n",
      "842\n",
      "843\n",
      "845\n",
      "847\n",
      "848\n",
      "849\n",
      "851\n",
      "853\n",
      "855\n",
      "856\n",
      "859\n",
      "860\n",
      "862\n",
      "864\n",
      "865\n",
      "866\n",
      "867\n",
      "868\n",
      "869\n",
      "871\n",
      "872\n",
      "874\n",
      "875\n",
      "876\n",
      "878\n",
      "879\n",
      "881\n",
      "882\n",
      "883\n",
      "884\n",
      "885\n",
      "886\n",
      "888\n",
      "890\n",
      "891\n",
      "892\n",
      "893\n",
      "895\n",
      "896\n",
      "897\n",
      "898\n",
      "900\n",
      "901\n",
      "902\n",
      "903\n",
      "904\n",
      "905\n",
      "906\n",
      "908\n",
      "911\n",
      "912\n",
      "914\n",
      "916\n",
      "918\n",
      "919\n",
      "920\n",
      "922\n",
      "923\n",
      "924\n",
      "925\n",
      "927\n",
      "928\n",
      "930\n",
      "932\n",
      "933\n",
      "934\n",
      "935\n",
      "936\n",
      "937\n",
      "938\n",
      "939\n",
      "940\n",
      "942\n",
      "943\n",
      "944\n",
      "945\n",
      "946\n",
      "947\n",
      "948\n",
      "949\n",
      "950\n",
      "953\n",
      "954\n",
      "955\n",
      "957\n",
      "958\n",
      "959\n",
      "961\n",
      "963\n",
      "965\n",
      "966\n",
      "968\n",
      "969\n",
      "970\n",
      "971\n"
     ]
    }
   ],
   "source": [
    "texts, indices, urls_done = scrape_urls(urls)"
   ]
  },
  {
   "cell_type": "code",
   "execution_count": 43,
   "metadata": {},
   "outputs": [],
   "source": [
    "d = {'texts':texts}\n",
    "scraped_test_tags = pd.DataFrame(data=d)"
   ]
  },
  {
   "cell_type": "code",
   "execution_count": 50,
   "metadata": {},
   "outputs": [
    {
     "data": {
      "text/plain": [
       "'http://reliefweb.int/report/nicaragua/detallan-da-os-en-localidades-afectadas-por-sismos'"
      ]
     },
     "execution_count": 50,
     "metadata": {},
     "output_type": "execute_result"
    }
   ],
   "source": [
    "urls[180]"
   ]
  },
  {
   "cell_type": "code",
   "execution_count": 55,
   "metadata": {
    "collapsed": true
   },
   "outputs": [],
   "source": [
    "scraped = test_urls.iloc[indices]"
   ]
  },
  {
   "cell_type": "code",
   "execution_count": 57,
   "metadata": {},
   "outputs": [
    {
     "data": {
      "text/plain": [
       "url_id                                                  242\n",
       "url       http://erccportal.jrc.ec.europa.eu/ECHO-Flash/...\n",
       "Name: 241, dtype: object"
      ]
     },
     "execution_count": 57,
     "metadata": {},
     "output_type": "execute_result"
    }
   ],
   "source": [
    "scraped.iloc[180]"
   ]
  },
  {
   "cell_type": "code",
   "execution_count": 52,
   "metadata": {},
   "outputs": [
    {
     "data": {
      "text/html": [
       "<div>\n",
       "<table border=\"1\" class=\"dataframe\">\n",
       "  <thead>\n",
       "    <tr style=\"text-align: right;\">\n",
       "      <th></th>\n",
       "      <th>texts</th>\n",
       "    </tr>\n",
       "  </thead>\n",
       "  <tbody>\n",
       "    <tr>\n",
       "      <th>180</th>\n",
       "      <td>retrieval_failed</td>\n",
       "    </tr>\n",
       "    <tr>\n",
       "      <th>182</th>\n",
       "      <td>retrieval_failed</td>\n",
       "    </tr>\n",
       "    <tr>\n",
       "      <th>184</th>\n",
       "      <td>retrieval_failed</td>\n",
       "    </tr>\n",
       "    <tr>\n",
       "      <th>185</th>\n",
       "      <td>retrieval_failed</td>\n",
       "    </tr>\n",
       "    <tr>\n",
       "      <th>186</th>\n",
       "      <td>retrieval_failed</td>\n",
       "    </tr>\n",
       "    <tr>\n",
       "      <th>187</th>\n",
       "      <td>retrieval_failed</td>\n",
       "    </tr>\n",
       "    <tr>\n",
       "      <th>188</th>\n",
       "      <td>retrieval_failed</td>\n",
       "    </tr>\n",
       "    <tr>\n",
       "      <th>189</th>\n",
       "      <td>retrieval_failed</td>\n",
       "    </tr>\n",
       "    <tr>\n",
       "      <th>191</th>\n",
       "      <td>retrieval_failed</td>\n",
       "    </tr>\n",
       "    <tr>\n",
       "      <th>192</th>\n",
       "      <td>retrieval_failed</td>\n",
       "    </tr>\n",
       "    <tr>\n",
       "      <th>193</th>\n",
       "      <td>retrieval_failed</td>\n",
       "    </tr>\n",
       "    <tr>\n",
       "      <th>195</th>\n",
       "      <td>retrieval_failed</td>\n",
       "    </tr>\n",
       "    <tr>\n",
       "      <th>196</th>\n",
       "      <td>retrieval_failed</td>\n",
       "    </tr>\n",
       "    <tr>\n",
       "      <th>197</th>\n",
       "      <td>retrieval_failed</td>\n",
       "    </tr>\n",
       "    <tr>\n",
       "      <th>198</th>\n",
       "      <td>retrieval_failed</td>\n",
       "    </tr>\n",
       "    <tr>\n",
       "      <th>199</th>\n",
       "      <td>retrieval_failed</td>\n",
       "    </tr>\n",
       "    <tr>\n",
       "      <th>201</th>\n",
       "      <td>retrieval_failed</td>\n",
       "    </tr>\n",
       "    <tr>\n",
       "      <th>202</th>\n",
       "      <td>retrieval_failed</td>\n",
       "    </tr>\n",
       "    <tr>\n",
       "      <th>203</th>\n",
       "      <td>retrieval_failed</td>\n",
       "    </tr>\n",
       "    <tr>\n",
       "      <th>208</th>\n",
       "      <td>retrieval_failed</td>\n",
       "    </tr>\n",
       "    <tr>\n",
       "      <th>209</th>\n",
       "      <td>retrieval_failed</td>\n",
       "    </tr>\n",
       "    <tr>\n",
       "      <th>210</th>\n",
       "      <td>retrieval_failed</td>\n",
       "    </tr>\n",
       "    <tr>\n",
       "      <th>211</th>\n",
       "      <td>retrieval_failed</td>\n",
       "    </tr>\n",
       "    <tr>\n",
       "      <th>212</th>\n",
       "      <td>retrieval_failed</td>\n",
       "    </tr>\n",
       "    <tr>\n",
       "      <th>213</th>\n",
       "      <td>retrieval_failed</td>\n",
       "    </tr>\n",
       "    <tr>\n",
       "      <th>214</th>\n",
       "      <td>retrieval_failed</td>\n",
       "    </tr>\n",
       "    <tr>\n",
       "      <th>215</th>\n",
       "      <td>retrieval_failed</td>\n",
       "    </tr>\n",
       "    <tr>\n",
       "      <th>216</th>\n",
       "      <td>retrieval_failed</td>\n",
       "    </tr>\n",
       "    <tr>\n",
       "      <th>217</th>\n",
       "      <td>retrieval_failed</td>\n",
       "    </tr>\n",
       "    <tr>\n",
       "      <th>218</th>\n",
       "      <td>retrieval_failed</td>\n",
       "    </tr>\n",
       "    <tr>\n",
       "      <th>...</th>\n",
       "      <td>...</td>\n",
       "    </tr>\n",
       "    <tr>\n",
       "      <th>934</th>\n",
       "      <td>retrieval_failed</td>\n",
       "    </tr>\n",
       "    <tr>\n",
       "      <th>935</th>\n",
       "      <td>retrieval_failed</td>\n",
       "    </tr>\n",
       "    <tr>\n",
       "      <th>936</th>\n",
       "      <td>retrieval_failed</td>\n",
       "    </tr>\n",
       "    <tr>\n",
       "      <th>937</th>\n",
       "      <td>retrieval_failed</td>\n",
       "    </tr>\n",
       "    <tr>\n",
       "      <th>938</th>\n",
       "      <td>retrieval_failed</td>\n",
       "    </tr>\n",
       "    <tr>\n",
       "      <th>939</th>\n",
       "      <td>retrieval_failed</td>\n",
       "    </tr>\n",
       "    <tr>\n",
       "      <th>940</th>\n",
       "      <td>retrieval_failed</td>\n",
       "    </tr>\n",
       "    <tr>\n",
       "      <th>942</th>\n",
       "      <td>retrieval_failed</td>\n",
       "    </tr>\n",
       "    <tr>\n",
       "      <th>943</th>\n",
       "      <td>retrieval_failed</td>\n",
       "    </tr>\n",
       "    <tr>\n",
       "      <th>944</th>\n",
       "      <td>retrieval_failed</td>\n",
       "    </tr>\n",
       "    <tr>\n",
       "      <th>945</th>\n",
       "      <td>retrieval_failed</td>\n",
       "    </tr>\n",
       "    <tr>\n",
       "      <th>946</th>\n",
       "      <td>retrieval_failed</td>\n",
       "    </tr>\n",
       "    <tr>\n",
       "      <th>947</th>\n",
       "      <td>retrieval_failed</td>\n",
       "    </tr>\n",
       "    <tr>\n",
       "      <th>948</th>\n",
       "      <td>retrieval_failed</td>\n",
       "    </tr>\n",
       "    <tr>\n",
       "      <th>949</th>\n",
       "      <td>retrieval_failed</td>\n",
       "    </tr>\n",
       "    <tr>\n",
       "      <th>950</th>\n",
       "      <td>retrieval_failed</td>\n",
       "    </tr>\n",
       "    <tr>\n",
       "      <th>953</th>\n",
       "      <td>retrieval_failed</td>\n",
       "    </tr>\n",
       "    <tr>\n",
       "      <th>954</th>\n",
       "      <td>retrieval_failed</td>\n",
       "    </tr>\n",
       "    <tr>\n",
       "      <th>955</th>\n",
       "      <td>retrieval_failed</td>\n",
       "    </tr>\n",
       "    <tr>\n",
       "      <th>957</th>\n",
       "      <td>retrieval_failed</td>\n",
       "    </tr>\n",
       "    <tr>\n",
       "      <th>958</th>\n",
       "      <td>retrieval_failed</td>\n",
       "    </tr>\n",
       "    <tr>\n",
       "      <th>959</th>\n",
       "      <td>retrieval_failed</td>\n",
       "    </tr>\n",
       "    <tr>\n",
       "      <th>961</th>\n",
       "      <td>retrieval_failed</td>\n",
       "    </tr>\n",
       "    <tr>\n",
       "      <th>963</th>\n",
       "      <td>retrieval_failed</td>\n",
       "    </tr>\n",
       "    <tr>\n",
       "      <th>965</th>\n",
       "      <td>retrieval_failed</td>\n",
       "    </tr>\n",
       "    <tr>\n",
       "      <th>966</th>\n",
       "      <td>retrieval_failed</td>\n",
       "    </tr>\n",
       "    <tr>\n",
       "      <th>968</th>\n",
       "      <td>retrieval_failed</td>\n",
       "    </tr>\n",
       "    <tr>\n",
       "      <th>969</th>\n",
       "      <td>retrieval_failed</td>\n",
       "    </tr>\n",
       "    <tr>\n",
       "      <th>970</th>\n",
       "      <td>retrieval_failed</td>\n",
       "    </tr>\n",
       "    <tr>\n",
       "      <th>971</th>\n",
       "      <td>retrieval_failed</td>\n",
       "    </tr>\n",
       "  </tbody>\n",
       "</table>\n",
       "<p>591 rows × 1 columns</p>\n",
       "</div>"
      ],
      "text/plain": [
       "                texts\n",
       "180  retrieval_failed\n",
       "182  retrieval_failed\n",
       "184  retrieval_failed\n",
       "185  retrieval_failed\n",
       "186  retrieval_failed\n",
       "187  retrieval_failed\n",
       "188  retrieval_failed\n",
       "189  retrieval_failed\n",
       "191  retrieval_failed\n",
       "192  retrieval_failed\n",
       "193  retrieval_failed\n",
       "195  retrieval_failed\n",
       "196  retrieval_failed\n",
       "197  retrieval_failed\n",
       "198  retrieval_failed\n",
       "199  retrieval_failed\n",
       "201  retrieval_failed\n",
       "202  retrieval_failed\n",
       "203  retrieval_failed\n",
       "208  retrieval_failed\n",
       "209  retrieval_failed\n",
       "210  retrieval_failed\n",
       "211  retrieval_failed\n",
       "212  retrieval_failed\n",
       "213  retrieval_failed\n",
       "214  retrieval_failed\n",
       "215  retrieval_failed\n",
       "216  retrieval_failed\n",
       "217  retrieval_failed\n",
       "218  retrieval_failed\n",
       "..                ...\n",
       "934  retrieval_failed\n",
       "935  retrieval_failed\n",
       "936  retrieval_failed\n",
       "937  retrieval_failed\n",
       "938  retrieval_failed\n",
       "939  retrieval_failed\n",
       "940  retrieval_failed\n",
       "942  retrieval_failed\n",
       "943  retrieval_failed\n",
       "944  retrieval_failed\n",
       "945  retrieval_failed\n",
       "946  retrieval_failed\n",
       "947  retrieval_failed\n",
       "948  retrieval_failed\n",
       "949  retrieval_failed\n",
       "950  retrieval_failed\n",
       "953  retrieval_failed\n",
       "954  retrieval_failed\n",
       "955  retrieval_failed\n",
       "957  retrieval_failed\n",
       "958  retrieval_failed\n",
       "959  retrieval_failed\n",
       "961  retrieval_failed\n",
       "963  retrieval_failed\n",
       "965  retrieval_failed\n",
       "966  retrieval_failed\n",
       "968  retrieval_failed\n",
       "969  retrieval_failed\n",
       "970  retrieval_failed\n",
       "971  retrieval_failed\n",
       "\n",
       "[591 rows x 1 columns]"
      ]
     },
     "execution_count": 52,
     "metadata": {},
     "output_type": "execute_result"
    }
   ],
   "source": [
    "scraped_test_tags[scraped_test_tags['texts'].str.contains('failed')]"
   ]
  },
  {
   "cell_type": "code",
   "execution_count": null,
   "metadata": {
    "collapsed": true
   },
   "outputs": [],
   "source": []
  }
 ],
 "metadata": {
  "anaconda-cloud": {},
  "kernelspec": {
   "display_name": "Python [d4d-internal-displacement]",
   "language": "python",
   "name": "Python [d4d-internal-displacement]"
  },
  "language_info": {
   "codemirror_mode": {
    "name": "ipython",
    "version": 3
   },
   "file_extension": ".py",
   "mimetype": "text/x-python",
   "name": "python",
   "nbconvert_exporter": "python",
   "pygments_lexer": "ipython3",
   "version": "3.6.0"
  }
 },
 "nbformat": 4,
 "nbformat_minor": 2
}
