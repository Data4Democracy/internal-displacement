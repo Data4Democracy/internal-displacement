{
 "cells": [
  {
   "cell_type": "markdown",
   "metadata": {},
   "source": [
    "# Extracting Facts from Texts\n",
    "\n"
   ]
  },
  {
   "cell_type": "markdown",
   "metadata": {},
   "source": [
    "**Summary of current progress - jlln **\n",
    "- If a sentence contains a reporting unit, a reporting term, and a number, these can be identified and extracted by exploring the graph structure of the parsed sentence.\n",
    "- There are several issues yet to be addressed.\n",
    "     - Poorly formatted numbers eg 1 610 are interpreted incorrectly.\n",
    "     - Implicit units eg dozens stranded are ignored.\n",
    "     - Cannot detect information spread across multiple sentences.\n",
    "     - Does not extract locations or dates.\n",
    " "
   ]
  },
  {
   "cell_type": "markdown",
   "metadata": {},
   "source": [
    "**Aside - How to use the existing codebase to get training data.**"
   ]
  },
  {
   "cell_type": "code",
   "execution_count": 33,
   "metadata": {
    "collapsed": true
   },
   "outputs": [],
   "source": [
    "import pandas as pd\n",
    "import spacy\n",
    "from sklearn.feature_extraction.text import TfidfVectorizer\n",
    "pd.set_option('display.max_colwidth', -1)\n",
    "import re\n",
    "from collections import Counter\n",
    "import os\n",
    "import sys\n",
    "module_path = os.path.abspath(os.path.join('..'))\n",
    "if module_path not in sys.path:\n",
    "    sys.path.append(module_path)\n",
    "from internal_displacement.pipeline import SQLArticleInterface"
   ]
  },
  {
   "cell_type": "code",
   "execution_count": 34,
   "metadata": {
    "collapsed": true
   },
   "outputs": [],
   "source": [
    "nlp = spacy.load('en')"
   ]
  },
  {
   "cell_type": "code",
   "execution_count": 35,
   "metadata": {
    "collapsed": true
   },
   "outputs": [],
   "source": [
    "pipeline = SQLArticleInterface(\"../sql_db.sqlite\") #Connecting to pre-populated database."
   ]
  },
  {
   "cell_type": "code",
   "execution_count": 36,
   "metadata": {
    "collapsed": true
   },
   "outputs": [],
   "source": [
    "labels,features = pipeline.get_training_data()"
   ]
  },
  {
   "cell_type": "markdown",
   "metadata": {},
   "source": [
    "** Examination of text data **\n",
    "\n",
    "Now that the training data is loaded in a useful format, I will begin looking at report extraction.\n",
    "A report in this context describes:\n",
    "    - A collection of entities to which something has happened.\n",
    "    - It will have a reporting term (ie the thing that has happened) for example destruction of a structure.\n",
    "    - It will have a reporting unit (ie the subject of the reporting term), for example a house. Note that this unit may not always be explicitly stated in the text; for example the phrase \"floods left dozens stranded\" implicitly refers to people.\n",
    "    - It will have a quantity, for example 500 houses.\n",
    "    - It should also have a date and and a location.\n",
    "  "
   ]
  },
  {
   "cell_type": "code",
   "execution_count": 37,
   "metadata": {
    "collapsed": false
   },
   "outputs": [
    {
     "data": {
      "text/plain": [
       "('Disasters',\n",
       " \"Flash flooding across Afghanistan and Pakistan has left more than 160 dead and dozens stranded in one of South Asia's worst natural disasters this year, say officials.  The flooding, caused by unusually heavy rain, has left villagers stuck in remote areas without shelter, food or power.  Mountainous Afghanistan was the worst hit, with 61 people killed and approximately 500 traditional mud-brick homes washed away in more than a dozen villages in Sarobi, a rural district less than an hour from Kabul, officials said.  Floods left a village devastated in the remote eastern Afghan province of Nuristan. At least 60 homes were destroyed across three districts, said provincial spokesman Mohammad Yusufi. No one was killed.  Authorities have been unable to deliver aid to some badly affected villages by land as roads in the area are controlled by the Taliban, Yusufi added.  “We have asked the national government for help as have an overwhelming number of locals asking for assistance, but this is a Taliban-ridden area,” Yusufi said.  At least 24 people were also died in two other eastern border provinces, Khost and Nangarhar, according to local officials. More than fifty homes and shops were destroyed and thousands of acres of farmland flooded.  In Pakistan monsoon rains claimed more than 80 lives, local media reported. Houses collapsing, drowning and electrocution all pushed up the death toll, said Sindh Information Minister Sharjeel Inam Memon.  In Karachi, the commercial capital and a southern port city that is home to 18 million people, poor neighborhoods were submerged waist-deep in water and many precincts suffered long power outages. Deaths were also reported in the north and west of the country.  Additional reporting by Reuters\")"
      ]
     },
     "execution_count": 37,
     "metadata": {},
     "output_type": "execute_result"
    }
   ],
   "source": [
    "labels[0],features[0]"
   ]
  },
  {
   "cell_type": "markdown",
   "metadata": {},
   "source": [
    "This single story contains multiple facts:\n",
    "    - more than 160 dead\n",
    "    - dozens stranded\n",
    "    - 61 people killed in Mountainous Afghanistan\n",
    "    - 500 homes washed away in Sarobi\n",
    "    - At least 60 homes were destroyed in Nuristan\n",
    "    - More than fifty homes and shops destroyed in Khost and Nangarhar\n",
    "    - Thousands of acres of farmland flooded in Khost and Nangarhar\n",
    "    - 80 people killed in Pakistan"
   ]
  },
  {
   "cell_type": "markdown",
   "metadata": {},
   "source": [
    "The challenge description describes some reporting terms and reporting units."
   ]
  },
  {
   "cell_type": "code",
   "execution_count": 38,
   "metadata": {
    "collapsed": false
   },
   "outputs": [],
   "source": [
    "reporting_terms = [\n",
    "    'displaced', 'evacuated', 'forced to flee', 'homeless', 'in relief camp',\n",
    "    'sheltered', 'relocated', 'destroyed housing', 'partially destroyed housing',\n",
    "    'uninhabitable housing','stranded','stuck','stranded','washed','swept','damaged','collapsed'\n",
    "]\n",
    "\n",
    "people_reporting_units = [\n",
    "    'people', 'persons','lives', 'individuals', 'children', 'inhabitants', 'residents', 'migrants','dead','fatalities','casualties','deaths'\n",
    "]\n",
    "\n",
    "structure_reporting_units = [\n",
    "    'families', 'households', 'houses', 'homes','dwelling','hut'\n",
    "]"
   ]
  },
  {
   "cell_type": "code",
   "execution_count": 39,
   "metadata": {
    "collapsed": false
   },
   "outputs": [],
   "source": [
    "#Converting to lemmas to allow matching.\n",
    "reporting_term_lemmas = [t.lemma_ for t in nlp(\" \".join(reporting_terms))]\n",
    "structure_unit_lemmas = [t.lemma_ for t in nlp(\" \".join(structure_reporting_units))]"
   ]
  },
  {
   "cell_type": "code",
   "execution_count": 40,
   "metadata": {
    "collapsed": true
   },
   "outputs": [],
   "source": [
    "story_ = nlp(features[0])"
   ]
  },
  {
   "cell_type": "markdown",
   "metadata": {},
   "source": [
    "Find sentences containing numerical tokens."
   ]
  },
  {
   "cell_type": "code",
   "execution_count": 10,
   "metadata": {
    "collapsed": false
   },
   "outputs": [
    {
     "name": "stdout",
     "output_type": "stream",
     "text": [
      "Flash flooding across Afghanistan and Pakistan has left more than 160 dead and dozens stranded in one of South Asia's worst natural disasters this year, say officials.  \n",
      "Mountainous Afghanistan was the worst hit, with 61 people killed and approximately 500 traditional mud-brick homes washed away in more than a dozen villages in Sarobi, a rural district less than an hour from Kabul, officials said.  \n",
      "At least 60 homes were destroyed across three districts, said provincial spokesman Mohammad Yusufi.\n",
      "No one was killed.  \n",
      "At least 24 people were also died in two other eastern border provinces, Khost and Nangarhar, according to local officials.\n",
      "More than fifty homes and shops were destroyed and thousands of acres of farmland flooded.  \n",
      "In Pakistan monsoon rains claimed more than 80 lives, local media reported.\n",
      "In Karachi, the commercial capital and a southern port city that is home to 18 million people, poor neighborhoods were submerged waist-deep in water and many precincts suffered long power outages.\n"
     ]
    }
   ],
   "source": [
    "for sentence in story_.sents:\n",
    "    if any([token.like_num for token in sentence]):\n",
    "        print(sentence)"
   ]
  },
  {
   "cell_type": "code",
   "execution_count": 11,
   "metadata": {
    "collapsed": false
   },
   "outputs": [],
   "source": [
    "numerical_sentences = list(filter(lambda sentence: any([token.like_num for token in sentence]), story_.sents) )"
   ]
  },
  {
   "cell_type": "markdown",
   "metadata": {},
   "source": [
    "Find sentences containing both numerical tokens and reporting term lemmas."
   ]
  },
  {
   "cell_type": "code",
   "execution_count": 12,
   "metadata": {
    "collapsed": false
   },
   "outputs": [
    {
     "name": "stdout",
     "output_type": "stream",
     "text": [
      "Flash flooding across Afghanistan and Pakistan has left more than 160 dead and dozens stranded in one of South Asia's worst natural disasters this year, say officials.  \n",
      "Mountainous Afghanistan was the worst hit, with 61 people killed and approximately 500 traditional mud-brick homes washed away in more than a dozen villages in Sarobi, a rural district less than an hour from Kabul, officials said.  \n",
      "At least 60 homes were destroyed across three districts, said provincial spokesman Mohammad Yusufi.\n",
      "At least 24 people were also died in two other eastern border provinces, Khost and Nangarhar, according to local officials.\n",
      "More than fifty homes and shops were destroyed and thousands of acres of farmland flooded.  \n",
      "In Pakistan monsoon rains claimed more than 80 lives, local media reported.\n",
      "In Karachi, the commercial capital and a southern port city that is home to 18 million people, poor neighborhoods were submerged waist-deep in water and many precincts suffered long power outages.\n"
     ]
    }
   ],
   "source": [
    "for sentence in numerical_sentences:\n",
    "    sentence_lemmas = [token.lemma_ for token in sentence]\n",
    "    if any([sl in reporting_term_lemmas for sl in sentence_lemmas]):\n",
    "        print(sentence)"
   ]
  },
  {
   "cell_type": "code",
   "execution_count": 13,
   "metadata": {
    "collapsed": true
   },
   "outputs": [],
   "source": [
    "def is_reporting_term_lemma_present(sentence):\n",
    "    sentence_lemmas = [token.lemma_ for token in sentence]\n",
    "    return any([sl in reporting_term_lemmas for sl in sentence_lemmas])"
   ]
  },
  {
   "cell_type": "code",
   "execution_count": 14,
   "metadata": {
    "collapsed": false
   },
   "outputs": [],
   "source": [
    "numerical_report_sentences = list(filter(is_reporting_term_lemma_present, numerical_sentences) )"
   ]
  },
  {
   "cell_type": "code",
   "execution_count": 15,
   "metadata": {
    "collapsed": false
   },
   "outputs": [
    {
     "data": {
      "text/plain": [
       "[Flash flooding across Afghanistan and Pakistan has left more than 160 dead and dozens stranded in one of South Asia's worst natural disasters this year, say officials.  ,\n",
       " Mountainous Afghanistan was the worst hit, with 61 people killed and approximately 500 traditional mud-brick homes washed away in more than a dozen villages in Sarobi, a rural district less than an hour from Kabul, officials said.  ,\n",
       " At least 60 homes were destroyed across three districts, said provincial spokesman Mohammad Yusufi.,\n",
       " At least 24 people were also died in two other eastern border provinces, Khost and Nangarhar, according to local officials.,\n",
       " More than fifty homes and shops were destroyed and thousands of acres of farmland flooded.  ,\n",
       " In Pakistan monsoon rains claimed more than 80 lives, local media reported.,\n",
       " In Karachi, the commercial capital and a southern port city that is home to 18 million people, poor neighborhoods were submerged waist-deep in water and many precincts suffered long power outages.]"
      ]
     },
     "execution_count": 15,
     "metadata": {},
     "output_type": "execute_result"
    }
   ],
   "source": [
    "numerical_report_sentences"
   ]
  },
  {
   "cell_type": "markdown",
   "metadata": {},
   "source": [
    "**Find individual phrases where a reporting term relates to a quantity.**\n",
    "\n",
    "While matching the presence of reporting terms and units is somewhat effective in identifying relevent sentences, it might be more useful to find sentences with the desired relationship between terms."
   ]
  },
  {
   "cell_type": "code",
   "execution_count": 17,
   "metadata": {
    "collapsed": false
   },
   "outputs": [],
   "source": [
    "from nltk import Tree"
   ]
  },
  {
   "cell_type": "code",
   "execution_count": 18,
   "metadata": {
    "collapsed": true
   },
   "outputs": [],
   "source": [
    "def to_nltk_tree(node):\n",
    "    if node.n_lefts + node.n_rights > 0:\n",
    "        return Tree(node.orth_, [to_nltk_tree(child) for child in node.children])\n",
    "    else:\n",
    "        return node.orth_"
   ]
  },
  {
   "cell_type": "code",
   "execution_count": 23,
   "metadata": {
    "collapsed": false
   },
   "outputs": [
    {
     "data": {
      "image/png": "[encoded data removed]",
      "text/plain": [
       "Tree('say', [Tree('left', [Tree('flooding', ['Flash', Tree('across', [Tree('Afghanistan', ['and', 'Pakistan'])])]), 'has', Tree('160', ['more', 'than']), 'dead', 'and', Tree('stranded', ['dozens', Tree('in', [Tree('one', [Tree('of', [Tree('disasters', [Tree('Asia', ['South', \"'s\"]), 'worst', 'natural'])])])]), Tree('year', ['this'])])]), ',', 'officials', Tree('.', [' '])])"
      ]
     },
     "execution_count": 23,
     "metadata": {},
     "output_type": "execute_result"
    }
   ],
   "source": [
    "to_nltk_tree(numerical_report_sentences[0].root)"
   ]
  },
  {
   "cell_type": "code",
   "execution_count": 24,
   "metadata": {
    "collapsed": false
   },
   "outputs": [
    {
     "data": {
      "image/png": "[encoded data removed]",
      "text/plain": [
       "Tree('said', [Tree('was', [Tree('Afghanistan', ['Mountainous']), Tree('hit', ['the', 'worst', ',', Tree('with', [Tree('people', ['61'])]), Tree('killed', ['and', Tree('washed', [Tree('homes', [Tree('500', ['approximately']), 'traditional', Tree('brick', ['mud', '-'])]), 'away', Tree('in', [Tree('villages', ['more', Tree('dozen', ['than', 'a']), Tree('in', [Tree('Sarobi', [',']), Tree('district', ['a', 'rural', Tree('less', [Tree('than', [Tree('hour', ['an', Tree('from', ['Kabul'])])])])])])])])])])])]), ',', 'officials', Tree('.', [' '])])"
      ]
     },
     "execution_count": 24,
     "metadata": {},
     "output_type": "execute_result"
    }
   ],
   "source": [
    "to_nltk_tree(numerical_report_sentences[1].root)"
   ]
  },
  {
   "cell_type": "code",
   "execution_count": 25,
   "metadata": {
    "collapsed": false
   },
   "outputs": [
    {
     "data": {
      "text/plain": [
       "At least 24 people were also died in two other eastern border provinces, Khost and Nangarhar, according to local officials."
      ]
     },
     "execution_count": 25,
     "metadata": {},
     "output_type": "execute_result"
    }
   ],
   "source": [
    "numerical_report_sentences[3]"
   ]
  },
  {
   "cell_type": "code",
   "execution_count": 26,
   "metadata": {
    "collapsed": false
   },
   "outputs": [
    {
     "data": {
      "image/png": "[encoded data removed]",
      "text/plain": [
       "Tree('died', [Tree('people', [Tree('24', [Tree('least', ['At'])])]), 'were', 'also', Tree('in', [Tree('provinces', ['two', 'other', 'eastern', 'border', ',', Tree('Khost', ['and', 'Nangarhar'])])]), ',', Tree('according', [Tree('to', [Tree('officials', ['local'])])]), '.'])"
      ]
     },
     "execution_count": 26,
     "metadata": {},
     "output_type": "execute_result"
    }
   ],
   "source": [
    "to_nltk_tree(numerical_report_sentences[3].root)"
   ]
  },
  {
   "cell_type": "code",
   "execution_count": 27,
   "metadata": {
    "collapsed": false
   },
   "outputs": [
    {
     "data": {
      "image/png": "[encoded data removed]",
      "text/plain": [
       "Tree('destroyed', [Tree('homes', [Tree('fifty', ['More', 'than']), 'and', 'shops']), 'were', 'and', Tree('flooded', [Tree('thousands', [Tree('of', [Tree('acres', [Tree('of', ['farmland'])])])]), Tree('.', [' '])])])"
      ]
     },
     "execution_count": 27,
     "metadata": {},
     "output_type": "execute_result"
    }
   ],
   "source": [
    "to_nltk_tree(numerical_report_sentences[4].root)"
   ]
  },
  {
   "cell_type": "code",
   "execution_count": 19,
   "metadata": {
    "collapsed": false
   },
   "outputs": [
    {
     "data": {
      "image/png": "[encoded data removed]",
      "text/plain": [
       "Tree('was', ['It', Tree('Saturday', ['early']), Tree('hit', ['when', Tree('flood', ['a', 'flash']), Tree('area', ['the']), 'and', Tree('washed', ['away', Tree('houses', [Tree('500', ['more', 'than'])]), ','])]), '”'])"
      ]
     },
     "execution_count": 19,
     "metadata": {},
     "output_type": "execute_result"
    }
   ],
   "source": [
    "story2 = nlp(features[4])\n",
    "numerical_sentences = list(filter(lambda sentence: any([token.like_num for token in sentence]), story2.sents) )\n",
    "numerical_report_sentences = list(filter(is_reporting_term_lemma_present, numerical_sentences) )\n",
    "numerical_report_sentences\n",
    "to_nltk_tree(numerical_report_sentences[-2].root)"
   ]
  },
  {
   "cell_type": "markdown",
   "metadata": {},
   "source": [
    "** Examining the dependency graphs, it appears that reporting term is always the parent of reporting unit, which is itself the parent of the numerical quantity. There may be an optional qualifier for the quantity as well.**\n",
    "\n",
    "washed <- houses <- 500 <- more than\n",
    "\n",
    "destroyed <- homes <- fifty <- more than\n",
    "\n",
    "died <- people <- 24 <- at least\n",
    "\n",
    "washed <- homes <- 500 <- approximately\n",
    "\n",
    "dozens <- stranded\n",
    " \n",
    "\n",
    "\n",
    "In some cases the subject (ie the reporting unit) is implicit. (eg flooding left dozens stranded obviously refers to dozens of people). (Do unspecified quantities always refer to people? I guess they could also refer to money?  Is this a a behaviour unique to English? Will we need to consider this when working with translated documents?)\n",
    "\n",
    "**Trying to find a structural relationship between units and terms**\n",
    "\n",
    "1) Identify a reporting term token.\n",
    "\n",
    "2) Search the children of this token for reporting unit tokens.\n",
    "\n",
    "3) Search the children of any reporting unit tokens for numerical terms.\n",
    "\n",
    "4) Return a list of sequences for each reporting-term -> reporting-unit -> numerical-quantity pathway that is discovered.\n",
    "\n",
    "\n",
    "This is a good point to start thinking about the data structure for extracted facts."
   ]
  },
  {
   "cell_type": "code",
   "execution_count": 38,
   "metadata": {
    "collapsed": true
   },
   "outputs": [],
   "source": [
    "class Report:\n",
    "    def __init__(self,reporting_term,reporting_unit,number,sentence):\n",
    "        self.reporting_term = reporting_term,\n",
    "        self.reporting_unit = reporting_unit\n",
    "        self.number = number\n",
    "        self.sentence = sentence\n",
    "        \"\"\"\n",
    "        Should also store date and location.\n",
    "        \"\"\"\n",
    "    def display(self):\n",
    "        print(\"Reporting_Term: {}  Reporting_Unit: {}  Numerical_Term: {}\".format(self.reporting_term,self.reporting_unit,self.number))\n",
    "        print(\"    Original Sentence: {}\".format(self.sentence))\n",
    "        print(\"--------\")"
   ]
  },
  {
   "cell_type": "code",
   "execution_count": 39,
   "metadata": {
    "collapsed": true
   },
   "outputs": [],
   "source": [
    "def is_reporting_term_lemma_present(sentence):\n",
    "    sentence_lemmas = [token.lemma_ for token in sentence]\n",
    "    return any([sl in reporting_term_lemmas for sl in sentence_lemmas])\n",
    "\n",
    "def drill_down_from_term(term_token):\n",
    "    reports = []\n",
    "    children = term_token.children\n",
    "    unit_children = list(filter(lambda x: x.lemma_ in structure_unit_lemmas,children))\n",
    "    for uc in unit_children:\n",
    "        uc_children = uc.children\n",
    "        for token in uc_children:\n",
    "            if token.like_num:\n",
    "                numerical_term = token\n",
    "                reporting_unit = uc\n",
    "                reporting_term = term_token\n",
    "                report = Report(reporting_term,reporting_unit,number)\n",
    "                reports.append(report)\n",
    "    return reports\n",
    "\n",
    "\n",
    "\n",
    "def find_reports(story):\n",
    "    reports = []\n",
    "    for sentence in nlp(story).sents:\n",
    "        for token in sentence:\n",
    "            if token.lemma_ in reporting_term_lemmas:\n",
    "                term_token = token\n",
    "                children = term_token.children\n",
    "                unit_children = list(filter(lambda x: x.lemma_ in structure_unit_lemmas,children))\n",
    "                for uc in unit_children:\n",
    "                    uc_children = uc.children\n",
    "                    for token in uc_children:\n",
    "                        if token.like_num:\n",
    "                            number = token\n",
    "                            reporting_unit = uc\n",
    "                            reporting_term = term_token\n",
    "                            report = Report(reporting_term,reporting_unit,number,sentence.text)\n",
    "                            reports.append(report)\n",
    "                            report.display()\n",
    "    return reports"
   ]
  },
  {
   "cell_type": "code",
   "execution_count": 40,
   "metadata": {
    "collapsed": false,
    "scrolled": false
   },
   "outputs": [
    {
     "name": "stdout",
     "output_type": "stream",
     "text": [
      "Reporting_Term: (washed,)  Reporting_Unit: homes  Numerical_Term: 500\n",
      "    Original Sentence: Mountainous Afghanistan was the worst hit, with 61 people killed and approximately 500 traditional mud-brick homes washed away in more than a dozen villages in Sarobi, a rural district less than an hour from Kabul, officials said.  \n",
      "--------\n",
      "Reporting_Term: (destroyed,)  Reporting_Unit: homes  Numerical_Term: 60\n",
      "    Original Sentence: At least 60 homes were destroyed across three districts, said provincial spokesman Mohammad Yusufi.\n",
      "--------\n",
      "Reporting_Term: (destroyed,)  Reporting_Unit: homes  Numerical_Term: fifty\n",
      "    Original Sentence: More than fifty homes and shops were destroyed and thousands of acres of farmland flooded.  \n",
      "--------\n",
      "Reporting_Term: (damaged,)  Reporting_Unit: homes  Numerical_Term: 1,500\n",
      "    Original Sentence: BNA report that at least 7 people were killed and over 1,500 homes damaged.\n",
      "--------\n",
      "Reporting_Term: (washed,)  Reporting_Unit: houses  Numerical_Term: 500\n",
      "    Original Sentence: It was early Saturday when a flash flood hit the area and washed away more than 500 houses,”\n",
      "--------\n",
      "Reporting_Term: (destroyed,)  Reporting_Unit: houses  Numerical_Term: 120\n",
      "    Original Sentence: Quoting an official from the Badakhshan provincial government, Xinhua also said that the foods had damaged or destroyed more than 120 houses in the district.\n",
      "--------\n",
      "Reporting_Term: (forced,)  Reporting_Unit: families  Numerical_Term: 800\n",
      "    Original Sentence: According to Angola news agency ANGOP, Luanda fire department have reported the flooding has forced at least 800 families from their homes.\n",
      "--------\n",
      "Reporting_Term: (damaged,)  Reporting_Unit: homes  Numerical_Term: 1,770\n",
      "    Original Sentence: Later reports suggest that as many as 1,770 homes have been damaged.\n",
      "--------\n",
      "Reporting_Term: (destroyed,)  Reporting_Unit: houses  Numerical_Term: three\n",
      "    Original Sentence: The report reads that the rains of March 28 and 29 left 2,160 people from Sumbe and Porto Amboim in a situation of dire need, as one was killed, three wounded and 150 houses destroyed, laving 483 homeless.  \n",
      "--------\n",
      "Reporting_Term: (destroyed,)  Reporting_Unit: houses  Numerical_Term: 150\n",
      "    Original Sentence: The report reads that the rains of March 28 and 29 left 2,160 people from Sumbe and Porto Amboim in a situation of dire need, as one was killed, three wounded and 150 houses destroyed, laving 483 homeless.  \n",
      "--------\n",
      "Reporting_Term: (evacuated,)  Reporting_Unit: families  Numerical_Term: 15\n",
      "    Original Sentence: 15 families evacuated Sunday, October 18, 2015 Earthquake in Salta kills a 94-year-old woman, injures 30  The debris of collapsed houses is pictured in El Galpón, Salta province, yesterday.\n",
      "--------\n",
      "Reporting_Term: (evacuated,)  Reporting_Unit: families  Numerical_Term: 15\n",
      "    Original Sentence: Salta Governor Juan Manuel Urtubey rushed to the town, promising to help reconstruct damaged homes and buildings and confirming that 15 families have been evacuated to the town hall as a precaution against collapse.\n",
      "--------\n",
      "Reporting_Term: (destroyed,)  Reporting_Unit: houses  Numerical_Term: 116\n",
      "    Original Sentence: Country Fire Authority deputy incident controller Mark Gunning said 116 houses in Wye River and Separation Creek had been destroyed in the 2200-hectare blaze.  \n",
      "--------\n",
      "Reporting_Term: (displaced,)  Reporting_Unit: families  Numerical_Term: 65,000\n",
      "    Original Sentence: A profiling exercise led by NRC in 2005 found that 65,000 families were displaced during the 1988-1994 conflict between Azerbaijan and Armenia over Nagorno-Karabakh.\n",
      "--------\n",
      "Reporting_Term: (destroyed,)  Reporting_Unit: houses  Numerical_Term: 31\n",
      "    Original Sentence: In Banteay Meanchey, 31 houses were destroyed and more than 300 damaged, while in Battambang, 36 houses were destroyed and 85 damaged.  \n",
      "--------\n",
      "Reporting_Term: (destroyed,)  Reporting_Unit: houses  Numerical_Term: 36\n",
      "    Original Sentence: In Banteay Meanchey, 31 houses were destroyed and more than 300 damaged, while in Battambang, 36 houses were destroyed and 85 damaged.  \n",
      "--------\n",
      "Reporting_Term: (destroyed,)  Reporting_Unit: homes  Numerical_Term: 836\n",
      "    Original Sentence: PRIME Minister Perry Christie said yesterday the government plans to simultaneously rebuild the hurricane-ravaged Family Islands where an estimated 836 homes were completely destroyed.  \n",
      "--------\n",
      "Reporting_Term: (destroyed,)  Reporting_Unit: houses  Numerical_Term: 800\n",
      "    Original Sentence: A sheikh told Radio Dabanga that 800 houses were destroyed by rain and that a number of cattle were killed by floods that “washed the region.”  \n",
      "--------\n",
      "Reporting_Term: (damaged,)  Reporting_Unit: homes  Numerical_Term: 40\n",
      "    Original Sentence: The threat of rising flood waters on the Albany River and sewer back-ups forced the evacuation of 2,000 residents in the northern Ontario First Nation communities of Kashechewan and Attawapiskat around May 11, where 40 homes and buildings were damaged by sewage and flood waters.\n",
      "--------\n",
      "Reporting_Term: (damaged,)  Reporting_Unit: houses  Numerical_Term: 510,000\n",
      "    Original Sentence: It is reported that 193,000 houses have collapsed, and 510,000 houses were severely damaged.  \n",
      "--------\n",
      "Reporting_Term: (damaged,)  Reporting_Unit: homes  Numerical_Term: 11\n",
      "    Original Sentence: The landslide, which covered about 2 sq km (0.8 sq miles), damaged at least 11 homes, Xinhua reported.  \n",
      "--------\n",
      "Reporting_Term: (damaged,)  Reporting_Unit: homes  Numerical_Term: 300\n",
      "    Original Sentence: Chinese officials said that the heavy rain had affected more than 500,000 people in Sichuan and Yunnan provinces, damaged about 300 homes, and forced the evacuation of 36,800 people, Xinhua reported.  \n",
      "--------\n",
      "Reporting_Term: (damaged,)  Reporting_Unit: houses  Numerical_Term: 75,000\n",
      "    Original Sentence: A total of 5.51 million people have been affected in total Around 75,000 houses have either been damaged or destroyed and 447,000 people displaced.  \n",
      "--------\n",
      "Reporting_Term: (destroyed,)  Reporting_Unit: homes  Numerical_Term: 8,700\n",
      "    Original Sentence: 8,700 homes have been destroyed, 66,000 homes damaged and forced 337,000 people to evacuate.\n",
      "--------\n",
      "Reporting_Term: (destroyed,)  Reporting_Unit: homes  Numerical_Term: 66,000\n",
      "    Original Sentence: 8,700 homes have been destroyed, 66,000 homes damaged and forced 337,000 people to evacuate.\n",
      "--------\n",
      "Reporting_Term: (destroyed,)  Reporting_Unit: houses  Numerical_Term: 276\n",
      "    Original Sentence: The quake destroyed 276 houses and damaged scores of others.\n",
      "--------\n",
      "Reporting_Term: (damaged,)  Reporting_Unit: houses  Numerical_Term: 42,000\n",
      "    Original Sentence: The Civil Affairs Ministry also said that:  121,700 people have been displaced by floods and are staying in temporary shelters  42,000 houses have been severely damaged or completely destroyed  Recent floods have caused damage estimated at 3.3 billion yuan ($538 million)  \n",
      "--------\n",
      "Reporting_Term: (destroyed,)  Reporting_Unit: houses  Numerical_Term: 3,000\n",
      "    Original Sentence: More than 3,000 houses were destroyed and 21,000 severely damaged, while 90,000 houses were moderately damaged, forcing the evacuation of a further 45,000 people.\n",
      "--------\n",
      "Reporting_Term: (destroyed,)  Reporting_Unit: houses  Numerical_Term: 63,000\n",
      "    Original Sentence: More than 63,000 houses have been destroyed and 44,900 hectares of crops are unharvestable in these areas, with direct economic losses reaching 5.21 billion yuan (839.8 million U.S. dollars), it added.\n",
      "--------\n",
      "Reporting_Term: (damaged,)  Reporting_Unit: houses  Numerical_Term: 2,000\n",
      "    Original Sentence: A 5.3-magnitude earthquake in rural southwest China has injured at least 21 people and damaged over 2,000 houses.  \n",
      "--------\n",
      "Reporting_Term: (damaged,)  Reporting_Unit: houses  Numerical_Term: 2,731\n",
      "    Original Sentence: Authorities say that 2,731 houses have been damaged and 75 have collapsed – mostly shacks made from stamped soil.  \n",
      "--------\n",
      "Reporting_Term: (destroyed,)  Reporting_Unit: houses  Numerical_Term: 1\n",
      "    Original Sentence: ONEMI reported, as of 04 February at 09.00 UTC, 11 deaths and 7 314 people affected. 1 610 houses have been destroyed and 465 people are in temporary shelters.\n",
      "--------\n",
      "Reporting_Term: (destroyed,)  Reporting_Unit: houses  Numerical_Term: 610\n",
      "    Original Sentence: ONEMI reported, as of 04 February at 09.00 UTC, 11 deaths and 7 314 people affected. 1 610 houses have been destroyed and 465 people are in temporary shelters.\n",
      "--------\n",
      "Reporting_Term: (destroyed,)  Reporting_Unit: houses  Numerical_Term: 354,000\n",
      "    Original Sentence: The main figures are as follows:  123 people killed  15 missing  518,000 displaced or relocated  354,000 required emergency assistance  27,000 houses destroyed  293,000 houses damaged\n",
      "--------\n",
      "Reporting_Term: (destroyed,)  Reporting_Unit: houses  Numerical_Term: 27,000\n",
      "    Original Sentence: The main figures are as follows:  123 people killed  15 missing  518,000 displaced or relocated  354,000 required emergency assistance  27,000 houses destroyed  293,000 houses damaged\n",
      "--------\n",
      "Reporting_Term: (damaged,)  Reporting_Unit: houses  Numerical_Term: 293,000\n",
      "    Original Sentence: The main figures are as follows:  123 people killed  15 missing  518,000 displaced or relocated  354,000 required emergency assistance  27,000 houses destroyed  293,000 houses damaged\n",
      "--------\n",
      "Reporting_Term: (evacuated,)  Reporting_Unit: homes  Numerical_Term: 100\n",
      "    Original Sentence: Henan Province  6 dead  800 people evacuated  Over 100 homes destroyed, 200 damaged  More than 6,700 hectares of crops have been damaged  Shangcheng County worst affected  Shaanxi Province  4 dead, 13 missing  10,400 houses damaged  451,000 people affected  34,000 evacuated  Over 35,00 hectares of crops damaged  Sichuan Province  5 dead, 2 missing  Nanjiang County worst hit  263,000 evacuated  Anhui Province  5 dead, 2 missing  Xinjiang Province  26,000 houses damaged  China National Meteorological Center Warning  Yesterday, 29 June 2015, China’s National Meteorological Center issued warnings for further heavy rainfall over the coming 2 days.  “\n",
      "--------\n",
      "Reporting_Term: (damaged,)  Reporting_Unit: houses  Numerical_Term: 2\n",
      "    Original Sentence: Henan Province  6 dead  800 people evacuated  Over 100 homes destroyed, 200 damaged  More than 6,700 hectares of crops have been damaged  Shangcheng County worst affected  Shaanxi Province  4 dead, 13 missing  10,400 houses damaged  451,000 people affected  34,000 evacuated  Over 35,00 hectares of crops damaged  Sichuan Province  5 dead, 2 missing  Nanjiang County worst hit  263,000 evacuated  Anhui Province  5 dead, 2 missing  Xinjiang Province  26,000 houses damaged  China National Meteorological Center Warning  Yesterday, 29 June 2015, China’s National Meteorological Center issued warnings for further heavy rainfall over the coming 2 days.  “\n",
      "--------\n",
      "Reporting_Term: (damaged,)  Reporting_Unit: houses  Numerical_Term: 26,000\n",
      "    Original Sentence: Henan Province  6 dead  800 people evacuated  Over 100 homes destroyed, 200 damaged  More than 6,700 hectares of crops have been damaged  Shangcheng County worst affected  Shaanxi Province  4 dead, 13 missing  10,400 houses damaged  451,000 people affected  34,000 evacuated  Over 35,00 hectares of crops damaged  Sichuan Province  5 dead, 2 missing  Nanjiang County worst hit  263,000 evacuated  Anhui Province  5 dead, 2 missing  Xinjiang Province  26,000 houses damaged  China National Meteorological Center Warning  Yesterday, 29 June 2015, China’s National Meteorological Center issued warnings for further heavy rainfall over the coming 2 days.  “\n",
      "--------\n"
     ]
    }
   ],
   "source": [
    "report_collection = []\n",
    "for story in features[:100]:\n",
    "    story_reports = find_reports(story)\n",
    "    report_collection.append(story_reports)"
   ]
  },
  {
   "cell_type": "markdown",
   "metadata": {
    "collapsed": true
   },
   "source": []
  },
  {
   "cell_type": "code",
   "execution_count": null,
   "metadata": {
    "collapsed": true
   },
   "outputs": [],
   "source": []
  }
 ],
 "metadata": {
  "kernelspec": {
   "display_name": "Python [Root]",
   "language": "python",
   "name": "Python [Root]"
  },
  "language_info": {
   "codemirror_mode": {
    "name": "ipython",
    "version": 3
   },
   "file_extension": ".py",
   "mimetype": "text/x-python",
   "name": "python",
   "nbconvert_exporter": "python",
   "pygments_lexer": "ipython3",
   "version": "3.5.2"
  }
 },
 "nbformat": 4,
 "nbformat_minor": 0
}
