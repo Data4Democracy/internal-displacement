{
 "cells": [
  {
   "cell_type": "code",
   "execution_count": 98,
   "metadata": {},
   "outputs": [],
   "source": [
    "import gensim\n",
    "import pandas as pd\n",
    "import numpy as np\n",
    "import nltk\n",
    "import sklearn\n",
    "import operator\n",
    "import matplotlib\n",
    "pd.set_option('display.max_colwidth', -1)"
   ]
  },
  {
   "cell_type": "code",
   "execution_count": 99,
   "metadata": {},
   "outputs": [],
   "source": [
    "import seaborn as sns\n",
    "import matplotlib.pyplot as plt\n",
    "%matplotlib inline"
   ]
  },
  {
   "cell_type": "code",
   "execution_count": 3,
   "metadata": {},
   "outputs": [],
   "source": [
    "with open('../data/stop_words_en_long.txt', 'r') as f:\n",
    "    stop_words = f.read()\n",
    "stop_words = stop_words.split('\\n')"
   ]
  },
  {
   "cell_type": "code",
   "execution_count": 112,
   "metadata": {},
   "outputs": [],
   "source": [
    "df = pd.read_csv('../../data/classification_training.csv')\n",
    "df.drop(['url', 'Unnamed: 0', 'Unnamed: 0.1', 'langs'], axis=1, inplace=True)"
   ]
  },
  {
   "cell_type": "code",
   "execution_count": 312,
   "metadata": {},
   "outputs": [],
   "source": [
    "train_cat, test_cat = sklearn.model_selection.train_test_split(df, test_size=0.2)"
   ]
  },
  {
   "cell_type": "markdown",
   "metadata": {},
   "source": [
    "# Key Word Approach"
   ]
  },
  {
   "cell_type": "markdown",
   "metadata": {},
   "source": [
    "The first approach is to take key words that might identify the categories and simply count up their occurences in a text. The decision is made on the majority vote."
   ]
  },
  {
   "cell_type": "code",
   "execution_count": 189,
   "metadata": {},
   "outputs": [],
   "source": [
    "df_keyword = df.copy()\n",
    "tokenizer = nltk.tokenize.WordPunctTokenizer()\n",
    "lemmatizer = nltk.stem.WordNetLemmatizer()\n",
    "stemmer = nltk.stem.PorterStemmer()"
   ]
  },
  {
   "cell_type": "markdown",
   "metadata": {},
   "source": [
    "The whole series of texts is tokenized and stemmed."
   ]
  },
  {
   "cell_type": "code",
   "execution_count": 190,
   "metadata": {
    "collapsed": true
   },
   "outputs": [],
   "source": [
    "def prepare_text(text, stop_words):\n",
    "    tokenizer = nltk.tokenize.WordPunctTokenizer()\n",
    "    stemmer = nltk.stem.PorterStemmer()\n",
    "    \n",
    "    tokens = tokenizer.tokenize(text)\n",
    "    tokens = [t for t in tokens if len(t) > 2]\n",
    "    tokens = [t for t in tokens if t not in stop_words] \n",
    "    stems = [stemmer.stem(t) for t in tokens]\n",
    "    stems = [s.lower() for s in stems]\n",
    "    stems = [s for s in stems if not s.isdigit()]\n",
    "    \n",
    "    return stems"
   ]
  },
  {
   "cell_type": "code",
   "execution_count": 199,
   "metadata": {
    "collapsed": true
   },
   "outputs": [],
   "source": [
    "keyword_stems_full = df_keyword['text'].map(lambda x: prepare_text(x, stop_words))"
   ]
  },
  {
   "cell_type": "markdown",
   "metadata": {},
   "source": [
    "These words were obtained by simply reading through the texts and identifying tokens that might uniquely identify disaster or conflict, or appear many times in those categories."
   ]
  },
  {
   "cell_type": "code",
   "execution_count": 196,
   "metadata": {},
   "outputs": [
    {
     "data": {
      "text/plain": [
       "disaster    1710\n",
       "conflict    854 \n",
       "other       683 \n",
       "Name: category, dtype: int64"
      ]
     },
     "execution_count": 196,
     "metadata": {},
     "output_type": "execute_result"
    }
   ],
   "source": [
    "df_keyword['category'].value_counts()"
   ]
  },
  {
   "cell_type": "code",
   "execution_count": 197,
   "metadata": {},
   "outputs": [
    {
     "name": "stdout",
     "output_type": "stream",
     "text": [
      "['war', 'conflict', 'militari', 'ceasefir', 'terror', 'fight', 'militia', 'rebel', 'violenc', 'violent', 'clash', 'insurg', 'besieg', 'bomb', 'gun', 'combat', 'sieg', 'battl', 'battleground', 'explod', 'explos', 'peac', 'truce', 'airstrik']\n",
      "['flood', 'wildfir', 'fire', 'earthquak', 'mudslid', 'landslid', 'wash', 'hurrican', 'storm', 'rain', 'rainfal', 'river', 'sea', 'disast', 'volcano', 'typhoon', 'blaze', 'tremor', 'drought', 'diseas', 'malnutrit', 'viru', 'health', 'tornado', 'forest', 'snow']\n"
     ]
    }
   ],
   "source": [
    "conflict_tokens = ['war', 'conflict', 'military', 'ceasefire', 'terrorism', 'fighting', 'militia', 'rebels', \n",
    "                  'violence', 'violent', 'clash', 'insurgent', 'besiege', 'bomb', 'gun', 'combat', 'siege',\n",
    "                  'battle', 'battleground', 'explode', 'explosive', 'peace', 'truce', 'airstrike']\n",
    "conflict_stems = [stemmer.stem(token) for token in conflict_tokens]\n",
    "disaster_tokens = ['flood', 'wildfire', 'fire', 'earthquake', 'mudslide', 'landslide', 'washed', 'hurricane',\n",
    "                  'storm', 'rain', 'rainfall', 'river', 'sea', 'disaster', 'volcano', 'typhoon', 'blaze',\n",
    "                 'tremor', 'drought', 'disease', 'malnutrition', 'virus', 'health', 'tornado', 'forest', 'snow']\n",
    "disaster_stems = [stemmer.stem(token) for token in disaster_tokens]\n",
    "print(conflict_stems)\n",
    "print(disaster_stems)"
   ]
  },
  {
   "cell_type": "markdown",
   "metadata": {},
   "source": [
    "The occurence of each word from the lists are counted and compared."
   ]
  },
  {
   "cell_type": "code",
   "execution_count": 477,
   "metadata": {},
   "outputs": [],
   "source": [
    "def tag_by_stem(texts, conflict_stems, disaster_stems):\n",
    "    equals = []\n",
    "    categories = []\n",
    "    tag_dicts = []\n",
    "    for text in texts:\n",
    "        tag_dictionary = {'conflict': 0, 'disaster': 0}\n",
    "        for stem in conflict_stems:\n",
    "            tag_dictionary['conflict'] = tag_dictionary['conflict'] + text.count(stem)\n",
    "        for stem in disaster_stems:\n",
    "            tag_dictionary['disaster'] = tag_dictionary['disaster'] + text.count(stem)\n",
    "        \n",
    "        if tag_dictionary['conflict'] == 0 and tag_dictionary['disaster'] == 0:\n",
    "            category = 'other'\n",
    "            e = True\n",
    "        elif tag_dictionary['conflict'] == tag_dictionary['disaster']:\n",
    "            category = 'unknown'\n",
    "            e = True\n",
    "        else:\n",
    "            category = max(tag_dictionary, key=tag_dictionary.get)\n",
    "            e = False\n",
    "        categories.append(category)\n",
    "        tag_dicts.append(tag_dictionary)\n",
    "        equals.append(e)\n",
    "    return categories"
   ]
  },
  {
   "cell_type": "code",
   "execution_count": 200,
   "metadata": {},
   "outputs": [],
   "source": [
    "manual_tags, tag_dicts, equals = tag_by_stem(keyword_stems_full, conflict_stems, disaster_stems)"
   ]
  },
  {
   "cell_type": "code",
   "execution_count": 201,
   "metadata": {
    "scrolled": true
   },
   "outputs": [
    {
     "name": "stdout",
     "output_type": "stream",
     "text": [
      "             precision    recall  f1-score   support\n",
      "\n",
      "   conflict       0.86      0.69      0.77       854\n",
      "   disaster       0.90      0.89      0.89      1710\n",
      "      other       0.58      0.71      0.64       683\n",
      "    unknown       0.00      0.00      0.00         0\n",
      "\n",
      "avg / total       0.82      0.80      0.81      3247\n",
      "\n"
     ]
    },
    {
     "name": "stderr",
     "output_type": "stream",
     "text": [
      "/Users/George/miniconda3/envs/nlp3/lib/python3.5/site-packages/sklearn/metrics/classification.py:1115: UndefinedMetricWarning: Recall and F-score are ill-defined and being set to 0.0 in labels with no true samples.\n",
      "  'recall', 'true', average, warn_for)\n"
     ]
    }
   ],
   "source": [
    "print(sklearn.metrics.classification_report(df_manual['category'], manual_tags))"
   ]
  },
  {
   "cell_type": "code",
   "execution_count": 202,
   "metadata": {},
   "outputs": [
    {
     "data": {
      "text/plain": [
       "array([[ 589,   53,  179,   33],\n",
       "       [  14, 1516,  166,   14],\n",
       "       [  82,  114,  484,    3],\n",
       "       [   0,    0,    0,    0]])"
      ]
     },
     "execution_count": 202,
     "metadata": {},
     "output_type": "execute_result"
    }
   ],
   "source": [
    "sklearn.metrics.confusion_matrix(df_manual['category'], manual_tags)"
   ]
  },
  {
   "cell_type": "markdown",
   "metadata": {},
   "source": [
    "Overall a keyword tagging approach seems to fare reasonably well. The main challenge is misclassification of *disaster* and *conflict* events as *other*."
   ]
  },
  {
   "cell_type": "markdown",
   "metadata": {},
   "source": [
    "# Machine Learning Approach"
   ]
  },
  {
   "cell_type": "markdown",
   "metadata": {},
   "source": [
    "The general machine learning approach used is to convert documents to a TF-IDF representation, and then to mode topcs (or simply reduce dimensionality) by implementing an LSI algorithm. The resulting vectors can then be used in a standard classification technique, such as random forest or SVM.\n",
    "\n",
    "**Add better text cleaning and combining keyword + ML approaches.**"
   ]
  },
  {
   "cell_type": "code",
   "execution_count": 122,
   "metadata": {
    "collapsed": true
   },
   "outputs": [],
   "source": [
    "def prepare_text(text, stop_words):\n",
    "    tokenizer = nltk.tokenize.WordPunctTokenizer()\n",
    "    stemmer = nltk.stem.PorterStemmer()\n",
    "    \n",
    "    tokens = tokenizer.tokenize(text)\n",
    "    tokens = [t for t in tokens if len(t) > 2]\n",
    "    tokens = [t for t in tokens if t not in stop_words] \n",
    "    stems = [stemmer.stem(t) for t in tokens]\n",
    "    stems = [s.lower() for s in stems]\n",
    "    stems = [s for s in stems if not s.isdigit()]\n",
    "    \n",
    "    return stems"
   ]
  },
  {
   "cell_type": "code",
   "execution_count": 123,
   "metadata": {
    "collapsed": true
   },
   "outputs": [],
   "source": [
    "def regularize(lsi_vecs):\n",
    "    mean_vec = lsi_vecs.mean(axis=0)\n",
    "    std_vec = lsi_vecs.std(axis=0)\n",
    "    for i, vec in enumerate(lsi_vecs):\n",
    "        lsi_vecs[i] = (mean_vec - vec) / std_vec\n",
    "    return lsi_vecs"
   ]
  },
  {
   "cell_type": "code",
   "execution_count": 124,
   "metadata": {
    "collapsed": true
   },
   "outputs": [],
   "source": [
    "def lsi_to_vecs(corpus_lsi):\n",
    "    lsi_vecs = []\n",
    "\n",
    "    for c in corpus_lsi:\n",
    "        vec = [x[1] for x in c]\n",
    "        lsi_vecs.append(vec)\n",
    "\n",
    "    return np.array(lsi_vecs)"
   ]
  },
  {
   "cell_type": "code",
   "execution_count": 282,
   "metadata": {},
   "outputs": [],
   "source": [
    "def tfidf_transform(texts, dictionary=None, tfidf_model=None):\n",
    "    if not dictionary:\n",
    "        dictionary = gensim.corpora.Dictionary(texts)\n",
    "    corpus = [dictionary.doc2bow(text) for text in texts]\n",
    "    if not tfidf_model:\n",
    "        tfidf_model = gensim.models.TfidfModel(corpus)\n",
    "    corpus_tfidf = tfidf_model[corpus]\n",
    "    return corpus_tfidf, dictionary, tfidf_model\n",
    "\n",
    "def lsi_transform(corpus_tfidf, dictionary, lsi_model=None, dimensions=2):\n",
    "    if not lsi_model:\n",
    "        lsi_model = gensim.models.LsiModel(corpus_tfidf, id2word=dictionary, num_topics=dimensions)\n",
    "    corpus_lsi = lsi_model[corpus_tfidf]\n",
    "    lsi_vecs = lsi_to_vecs(corpus_lsi)\n",
    "    return lsi_vecs, corpus_lsi, lsi_model"
   ]
  },
  {
   "cell_type": "code",
   "execution_count": 125,
   "metadata": {
    "collapsed": true
   },
   "outputs": [],
   "source": [
    "from sklearn.preprocessing import LabelEncoder\n",
    "le = LabelEncoder()"
   ]
  },
  {
   "cell_type": "code",
   "execution_count": 313,
   "metadata": {},
   "outputs": [
    {
     "name": "stderr",
     "output_type": "stream",
     "text": [
      "/Users/George/miniconda3/envs/nlp3/lib/python3.5/site-packages/ipykernel/__main__.py:1: SettingWithCopyWarning: \n",
      "A value is trying to be set on a copy of a slice from a DataFrame.\n",
      "Try using .loc[row_indexer,col_indexer] = value instead\n",
      "\n",
      "See the caveats in the documentation: http://pandas.pydata.org/pandas-docs/stable/indexing.html#indexing-view-versus-copy\n",
      "  if __name__ == '__main__':\n",
      "/Users/George/miniconda3/envs/nlp3/lib/python3.5/site-packages/ipykernel/__main__.py:2: SettingWithCopyWarning: \n",
      "A value is trying to be set on a copy of a slice from a DataFrame.\n",
      "Try using .loc[row_indexer,col_indexer] = value instead\n",
      "\n",
      "See the caveats in the documentation: http://pandas.pydata.org/pandas-docs/stable/indexing.html#indexing-view-versus-copy\n",
      "  from ipykernel import kernelapp as app\n"
     ]
    }
   ],
   "source": [
    "train_cat['text'] = train_cat['text'].map(lambda x: prepare_text(x, stop_words))\n",
    "test_cat['text'] = test_cat['text'].map(lambda x: prepare_text(x, stop_words))"
   ]
  },
  {
   "cell_type": "code",
   "execution_count": 249,
   "metadata": {},
   "outputs": [],
   "source": [
    "tfidf_train_cat, dictionary_train_cat, cat_tfidf_model = tfidf_transform(train_cat['text'])\n",
    "lsi_vecs_train_cat_2d, lsi_corpus_train_cat_2d, lsi_model_train_cat_2d = lsi_transform(tfidf_train_cat, dictionary_train_cat)"
   ]
  },
  {
   "cell_type": "markdown",
   "metadata": {},
   "source": [
    "### 2D Reduction Inspection"
   ]
  },
  {
   "cell_type": "code",
   "execution_count": 224,
   "metadata": {
    "collapsed": true
   },
   "outputs": [],
   "source": [
    "topic_0_2d = [x[0][1] for x in lsi_corpus_train_cat_2d]\n",
    "topic_1_2d = [x[1][1] for x in lsi_corpus_train_cat_2d]"
   ]
  },
  {
   "cell_type": "markdown",
   "metadata": {},
   "source": [
    "From a 2D dimensionality reduction, it looks like there is some significant separation between the three possible categories."
   ]
  },
  {
   "cell_type": "code",
   "execution_count": 227,
   "metadata": {
    "scrolled": true
   },
   "outputs": [
    {
     "data": {
      "text/plain": [
       "<matplotlib.text.Text at 0x11d3b1400>"
      ]
     },
     "execution_count": 227,
     "metadata": {},
     "output_type": "execute_result"
    },
    {
     "data": {
      "image/png": "[encoded data removed]",
      "text/plain": [
       "<matplotlib.figure.Figure at 0x11d47e6d8>"
      ]
     },
     "metadata": {},
     "output_type": "display_data"
    }
   ],
   "source": [
    "ax = plt.figure(figsize=(4.5,3))\n",
    "ax = plt.scatter(topic_0_2d, topic_1_2d, c=le.fit_transform(train_labels_cat), alpha=0.5, s=8, linewidth=0)\n",
    "plt.set_cmap('spring')\n",
    "plt.xlim((0, 0.4))\n",
    "plt.xlabel('Topic 0')\n",
    "plt.ylabel('Topic 1')"
   ]
  },
  {
   "cell_type": "markdown",
   "metadata": {},
   "source": [
    "## Full LSI"
   ]
  },
  {
   "cell_type": "code",
   "execution_count": 323,
   "metadata": {},
   "outputs": [],
   "source": [
    "lsi_vecs_train_cat, lsi_corpus_train_cat, lsi_model_train_cat = lsi_transform(tfidf_train_cat, \n",
    "                                                                                          dictionary_train_cat, \n",
    "                                                                                          dimensions=100)"
   ]
  },
  {
   "cell_type": "code",
   "execution_count": 228,
   "metadata": {
    "collapsed": true
   },
   "outputs": [],
   "source": [
    "train_labels_cat = train_cat['category']"
   ]
  },
  {
   "cell_type": "code",
   "execution_count": 135,
   "metadata": {},
   "outputs": [],
   "source": [
    "from sklearn import naive_bayes\n",
    "from sklearn.grid_search import GridSearchCV\n",
    "from sklearn import svm\n",
    "from sklearn import model_selection\n",
    "from sklearn.ensemble import RandomForestClassifier"
   ]
  },
  {
   "cell_type": "markdown",
   "metadata": {},
   "source": [
    "### Random Forest"
   ]
  },
  {
   "cell_type": "code",
   "execution_count": 482,
   "metadata": {
    "collapsed": true
   },
   "outputs": [],
   "source": [
    "param_grid = [{'max_features': [12, 13, 14, 15, 16],\n",
    "               'n_jobs': [3],\n",
    "              }]\n",
    "\n",
    "rf = RandomForestClassifier(n_estimators=1000, n_jobs=3)\n",
    "clf_cat = model_selection.GridSearchCV(rf, param_grid=param_grid, cv=5)"
   ]
  },
  {
   "cell_type": "code",
   "execution_count": 485,
   "metadata": {
    "scrolled": true
   },
   "outputs": [
    {
     "data": {
      "text/plain": [
       "GridSearchCV(cv=5, error_score='raise',\n",
       "       estimator=RandomForestClassifier(bootstrap=True, class_weight=None, criterion='gini',\n",
       "            max_depth=None, max_features='auto', max_leaf_nodes=None,\n",
       "            min_impurity_split=1e-07, min_samples_leaf=1,\n",
       "            min_samples_split=2, min_weight_fraction_leaf=0.0,\n",
       "            n_estimators=1000, n_jobs=3, oob_score=False,\n",
       "            random_state=None, verbose=0, warm_start=False),\n",
       "       fit_params={}, iid=True, n_jobs=1,\n",
       "       param_grid=[{'max_features': [12, 13, 14, 15, 16], 'n_jobs': [3]}],\n",
       "       pre_dispatch='2*n_jobs', refit=True, return_train_score=True,\n",
       "       scoring=None, verbose=0)"
      ]
     },
     "execution_count": 485,
     "metadata": {},
     "output_type": "execute_result"
    }
   ],
   "source": [
    "clf_cat.fit(lsi_vecs_train_cat, train_labels_cat)"
   ]
  },
  {
   "cell_type": "code",
   "execution_count": 329,
   "metadata": {},
   "outputs": [],
   "source": [
    "tfidf_test_cat, dictionary_test_cat, tfidf_model_test_cat = tfidf_transform(test_cat['text'],\n",
    "                                                                            dictionary=dictionary_train_cat,\n",
    "                                                                            tfidf_model=cat_tfidf_model)"
   ]
  },
  {
   "cell_type": "code",
   "execution_count": 330,
   "metadata": {},
   "outputs": [],
   "source": [
    "lsi_vecs_test_cat, lsi_corpus_test_cat, lsi_model_test_cat = lsi_transform(tfidf_test_cat, dictionary_train_cat, lsi_model=lsi_model_train_cat, dimensions=100)"
   ]
  },
  {
   "cell_type": "code",
   "execution_count": 494,
   "metadata": {},
   "outputs": [],
   "source": [
    "clf_best_cat = clf_cat.best_estimator_"
   ]
  },
  {
   "cell_type": "code",
   "execution_count": 495,
   "metadata": {},
   "outputs": [
    {
     "data": {
      "text/plain": [
       "RandomForestClassifier(bootstrap=True, class_weight=None, criterion='gini',\n",
       "            max_depth=None, max_features=15, max_leaf_nodes=None,\n",
       "            min_impurity_split=1e-07, min_samples_leaf=1,\n",
       "            min_samples_split=2, min_weight_fraction_leaf=0.0,\n",
       "            n_estimators=1000, n_jobs=3, oob_score=False,\n",
       "            random_state=None, verbose=0, warm_start=False)"
      ]
     },
     "execution_count": 495,
     "metadata": {},
     "output_type": "execute_result"
    }
   ],
   "source": [
    "clf_best_cat"
   ]
  },
  {
   "cell_type": "code",
   "execution_count": 496,
   "metadata": {},
   "outputs": [],
   "source": [
    "#predictions = clf_best.predict(lsi_vecs_test_cat_30d)\n",
    "predictions = clf_best_cat.predict(lsi_vecs_test_cat)"
   ]
  },
  {
   "cell_type": "code",
   "execution_count": 491,
   "metadata": {},
   "outputs": [
    {
     "name": "stdout",
     "output_type": "stream",
     "text": [
      "             precision    recall  f1-score   support\n",
      "\n",
      "   conflict       0.98      0.97      0.98       164\n",
      "   disaster       0.98      0.99      0.99       340\n",
      "      other       0.97      0.95      0.96       146\n",
      "\n",
      "avg / total       0.98      0.98      0.98       650\n",
      "\n"
     ]
    }
   ],
   "source": [
    "print(sklearn.metrics.classification_report(test_cat['category'], predictions))"
   ]
  },
  {
   "cell_type": "code",
   "execution_count": 344,
   "metadata": {},
   "outputs": [
    {
     "name": "stdout",
     "output_type": "stream",
     "text": [
      "[[158   2   4]\n",
      " [  0 338   2]\n",
      " [  3   4 139]]\n"
     ]
    }
   ],
   "source": [
    "print(sklearn.metrics.confusion_matrix(test_cat['category'], predictions))"
   ]
  },
  {
   "cell_type": "markdown",
   "metadata": {},
   "source": [
    "### Key Word and RF Combined\n",
    "\n",
    "We can try to combine the keyword approach with the machine learning approach, to see if the keyword method catches any of the failures made by the classifier."
   ]
  },
  {
   "cell_type": "code",
   "execution_count": 339,
   "metadata": {},
   "outputs": [],
   "source": [
    "def combine_predictions(classified, keyword_tagged):\n",
    "    predictions = []\n",
    "    for classifier, keyword in zip(classified, keyword_tagged):\n",
    "        if classifier == keyword:\n",
    "            predictions.append(keyword)\n",
    "        elif keyword == 'unknown':\n",
    "            predictions.append(classifier)\n",
    "        else:\n",
    "            predictions.append(classifier)\n",
    "    return predictions"
   ]
  },
  {
   "cell_type": "code",
   "execution_count": 340,
   "metadata": {},
   "outputs": [],
   "source": [
    "manual_tags, tag_dicts, equals = tag_by_stem(test_cat['text'], conflict_stems, disaster_stems)"
   ]
  },
  {
   "cell_type": "code",
   "execution_count": 341,
   "metadata": {},
   "outputs": [],
   "source": [
    "combined_tags = combine_predictions(predictions, manual_tags)"
   ]
  },
  {
   "cell_type": "code",
   "execution_count": 342,
   "metadata": {},
   "outputs": [
    {
     "name": "stdout",
     "output_type": "stream",
     "text": [
      "             precision    recall  f1-score   support\n",
      "\n",
      "   conflict       0.98      0.96      0.97       164\n",
      "   disaster       0.98      0.99      0.99       340\n",
      "      other       0.96      0.95      0.96       146\n",
      "\n",
      "avg / total       0.98      0.98      0.98       650\n",
      "\n"
     ]
    }
   ],
   "source": [
    "print(sklearn.metrics.classification_report(test_cat['category'], combined_tags))"
   ]
  },
  {
   "cell_type": "code",
   "execution_count": 343,
   "metadata": {},
   "outputs": [
    {
     "name": "stdout",
     "output_type": "stream",
     "text": [
      "[[158   2   4]\n",
      " [  0 338   2]\n",
      " [  3   4 139]]\n"
     ]
    }
   ],
   "source": [
    "print(sklearn.metrics.confusion_matrix(test_cat['category'], combined_tags))"
   ]
  },
  {
   "cell_type": "markdown",
   "metadata": {},
   "source": [
    "We can see that there is no improvement of combining the keyword approach with the machine learning approach on this particular dataset."
   ]
  },
  {
   "cell_type": "markdown",
   "metadata": {},
   "source": [
    "### SVM"
   ]
  },
  {
   "cell_type": "code",
   "execution_count": 321,
   "metadata": {},
   "outputs": [],
   "source": [
    "param_grid = [{'kernel': ['linear'], \n",
    "              'gamma': [.01, .03, 0.1, 0.3, 1.0, 3.0],\n",
    "              'C': [1/x for x in [.003 , .01, .03, 0.1, 0.3, 1.0, 3.0, 10.0]]}]\n",
    "\n",
    "svc = svm.SVC()\n",
    "clf = model_selection.GridSearchCV(svc, param_grid=param_grid, cv=5)"
   ]
  },
  {
   "cell_type": "code",
   "execution_count": 322,
   "metadata": {
    "collapsed": true
   },
   "outputs": [],
   "source": [
    "lsi_vecs_train_cat_30d_reg = regularize(lsi_vecs_train_cat_30d)"
   ]
  },
  {
   "cell_type": "code",
   "execution_count": null,
   "metadata": {
    "collapsed": true
   },
   "outputs": [],
   "source": [
    "clf.fit(lsi_vecs_train_cat_30d, train_labels_cat)"
   ]
  },
  {
   "cell_type": "code",
   "execution_count": 263,
   "metadata": {},
   "outputs": [
    {
     "data": {
      "text/plain": [
       "GridSearchCV(cv=5, error_score='raise',\n",
       "       estimator=SVC(C=1.0, cache_size=200, class_weight=None, coef0=0.0,\n",
       "  decision_function_shape=None, degree=3, gamma='auto', kernel='rbf',\n",
       "  max_iter=-1, probability=False, random_state=None, shrinking=True,\n",
       "  tol=0.001, verbose=False),\n",
       "       fit_params={}, iid=True, n_jobs=1,\n",
       "       param_grid=[{'kernel': ['linear'], 'class_weight': [{0: 1, 1: 1}, {0: 1, 1: 3}, {0: 1, 1: 4}, {0: 1, 1: 5}], 'C': [333.3333333333333, 100.0, 33.333333333333336, 10.0, 3.3333333333333335, 1.0, 0.3333333333333333, 0.1], 'gamma': [0.01, 0.03, 0.1, 0.3, 1.0, 3.0]}],\n",
       "       pre_dispatch='2*n_jobs', refit=True, return_train_score=True,\n",
       "       scoring=None, verbose=0)"
      ]
     },
     "execution_count": 263,
     "metadata": {},
     "output_type": "execute_result"
    }
   ],
   "source": [
    "clf.fit(lsi_vecs, train_labels)"
   ]
  },
  {
   "cell_type": "code",
   "execution_count": 259,
   "metadata": {
    "collapsed": true
   },
   "outputs": [],
   "source": [
    "clf_best = clf.best_estimator_"
   ]
  },
  {
   "cell_type": "code",
   "execution_count": 260,
   "metadata": {
    "collapsed": true
   },
   "outputs": [],
   "source": [
    "predictions = clf_best.predict(test_lsi_vecs)"
   ]
  },
  {
   "cell_type": "code",
   "execution_count": 261,
   "metadata": {
    "scrolled": true
   },
   "outputs": [
    {
     "name": "stdout",
     "output_type": "stream",
     "text": [
      "             precision    recall  f1-score   support\n",
      "\n",
      "          0       0.77      0.81      0.79       168\n",
      "          1       0.91      0.97      0.94       348\n",
      "          2       0.73      0.57      0.64       134\n",
      "\n",
      "avg / total       0.84      0.85      0.84       650\n",
      "\n"
     ]
    }
   ],
   "source": [
    "print(sklearn.metrics.classification_report(test['category'], predictions))"
   ]
  },
  {
   "cell_type": "markdown",
   "metadata": {},
   "source": [
    "# Relevance"
   ]
  },
  {
   "cell_type": "code",
   "execution_count": 347,
   "metadata": {
    "collapsed": true
   },
   "outputs": [],
   "source": [
    "df_relevance = pd.read_csv('../../data/relevance_training.csv')\n",
    "df_relevance.drop(['Unnamed: 0'], axis=1, inplace=True)"
   ]
  },
  {
   "cell_type": "markdown",
   "metadata": {},
   "source": [
    "## Keyword Approach"
   ]
  },
  {
   "cell_type": "code",
   "execution_count": 385,
   "metadata": {
    "collapsed": true
   },
   "outputs": [],
   "source": [
    "keyword_stems_rel = df_relevance['text'].map(lambda x: prepare_text(x, stop_words))"
   ]
  },
  {
   "cell_type": "markdown",
   "metadata": {},
   "source": [
    "These words were obtained by simply reading through the texts and identifying tokens that might uniquely identify disaster or conflict, or appear many times in those categories."
   ]
  },
  {
   "cell_type": "code",
   "execution_count": 384,
   "metadata": {},
   "outputs": [
    {
     "data": {
      "text/plain": [
       "no     1927\n",
       "yes    1313\n",
       "Name: is_displacement, dtype: int64"
      ]
     },
     "execution_count": 384,
     "metadata": {},
     "output_type": "execute_result"
    }
   ],
   "source": [
    "df_relevance['is_displacement'].value_counts()"
   ]
  },
  {
   "cell_type": "code",
   "execution_count": 396,
   "metadata": {},
   "outputs": [
    {
     "name": "stdout",
     "output_type": "stream",
     "text": [
      "['evacu', 'evacue', 'displac', 'displac', 'fled', 'strand', 'homeless', 'flee', 'rescu', 'trap', 'shelter', 'camp', 'escap', 'forc', 'migrant', 'run', 'ran']\n"
     ]
    }
   ],
   "source": [
    "displacement_tokens = ['evacuated', 'evacuee', 'displaced', 'displacement', 'fled', 'stranded', 'homeless', \n",
    "                  'flee', 'rescued', 'trapped', 'shelter', 'camp', 'escape', 'forced', 'migrant', 'run', 'ran']\n",
    "displacement_stems = [stemmer.stem(token) for token in displacement_tokens]\n",
    "print(displacement_stems)"
   ]
  },
  {
   "cell_type": "code",
   "execution_count": 382,
   "metadata": {
    "collapsed": true
   },
   "outputs": [],
   "source": [
    "def displacement_tag(texts, displacement_stems):\n",
    "    is_displacement = []\n",
    "    for text in texts:\n",
    "        mentions = 0\n",
    "        for stem in displacement_stems:\n",
    "            mentions += text.count(stem)\n",
    "        if mentions > 0:\n",
    "            is_displacement.append('yes')\n",
    "        else:\n",
    "            is_displacement.append('no')\n",
    "    return is_displacement"
   ]
  },
  {
   "cell_type": "code",
   "execution_count": 397,
   "metadata": {
    "collapsed": true
   },
   "outputs": [],
   "source": [
    "is_displacement_keywords = displacement_tag(keyword_stems_rel, displacement_stems)"
   ]
  },
  {
   "cell_type": "code",
   "execution_count": 398,
   "metadata": {},
   "outputs": [
    {
     "name": "stdout",
     "output_type": "stream",
     "text": [
      "             precision    recall  f1-score   support\n",
      "\n",
      "         no       0.92      0.75      0.82      1927\n",
      "        yes       0.71      0.90      0.79      1313\n",
      "\n",
      "avg / total       0.83      0.81      0.81      3240\n",
      "\n"
     ]
    }
   ],
   "source": [
    "print(sklearn.metrics.classification_report(df_relevance['is_displacement'], is_displacement_keywords))"
   ]
  },
  {
   "cell_type": "markdown",
   "metadata": {},
   "source": [
    "### Machine Learning Approach"
   ]
  },
  {
   "cell_type": "code",
   "execution_count": 348,
   "metadata": {
    "collapsed": true
   },
   "outputs": [],
   "source": [
    "train_rel, test_rel = sklearn.model_selection.train_test_split(df_relevance, test_size=0.2)"
   ]
  },
  {
   "cell_type": "code",
   "execution_count": 364,
   "metadata": {
    "collapsed": true
   },
   "outputs": [],
   "source": [
    "train_labels_rel = train_rel['is_displacement']\n",
    "test_labels_rel = test_rel['is_displacement']"
   ]
  },
  {
   "cell_type": "code",
   "execution_count": 352,
   "metadata": {
    "scrolled": false
   },
   "outputs": [
    {
     "name": "stderr",
     "output_type": "stream",
     "text": [
      "/Users/George/miniconda3/envs/nlp3/lib/python3.5/site-packages/ipykernel/__main__.py:1: SettingWithCopyWarning: \n",
      "A value is trying to be set on a copy of a slice from a DataFrame.\n",
      "Try using .loc[row_indexer,col_indexer] = value instead\n",
      "\n",
      "See the caveats in the documentation: http://pandas.pydata.org/pandas-docs/stable/indexing.html#indexing-view-versus-copy\n",
      "  if __name__ == '__main__':\n",
      "/Users/George/miniconda3/envs/nlp3/lib/python3.5/site-packages/ipykernel/__main__.py:2: SettingWithCopyWarning: \n",
      "A value is trying to be set on a copy of a slice from a DataFrame.\n",
      "Try using .loc[row_indexer,col_indexer] = value instead\n",
      "\n",
      "See the caveats in the documentation: http://pandas.pydata.org/pandas-docs/stable/indexing.html#indexing-view-versus-copy\n",
      "  from ipykernel import kernelapp as app\n"
     ]
    }
   ],
   "source": [
    "train_rel['text'] = train_rel['text'].map(lambda x: prepare_text(x, stop_words))\n",
    "test_rel['text'] = test_rel['text'].map(lambda x: prepare_text(x, stop_words))"
   ]
  },
  {
   "cell_type": "code",
   "execution_count": 354,
   "metadata": {},
   "outputs": [],
   "source": [
    "tfidf_train_rel, dictionary_train_rel, rel_tfidf_model = tfidf_transform(train_rel['text'])\n",
    "lsi_vecs_train_rel, lsi_corpus_train_rel, lsi_model_train_rel = lsi_transform(tfidf_train_rel, \n",
    "                                                                                          dictionary_train_rel, \n",
    "                                                                                          dimensions=100)"
   ]
  },
  {
   "cell_type": "markdown",
   "metadata": {},
   "source": [
    "#### 2D Reduction Inspection"
   ]
  },
  {
   "cell_type": "code",
   "execution_count": 355,
   "metadata": {
    "collapsed": true
   },
   "outputs": [],
   "source": [
    "lsi_vecs_train_rel_2d, lsi_corpus_train_rel_2d, lsi_model_train_rel_2d = lsi_transform(tfidf_train_rel, \n",
    "                                                                                          dictionary_train_rel, \n",
    "                                                                                          dimensions=2)"
   ]
  },
  {
   "cell_type": "code",
   "execution_count": 24,
   "metadata": {
    "collapsed": true
   },
   "outputs": [],
   "source": [
    "lsi_rel_2d = gensim.models.LsiModel(train_rel_corpus_tfidf, id2word=dictionary_rel, num_topics=2)\n",
    "corpus_rel_lsi_2d = lsi_rel_2d[train_rel_corpus_tfidf]"
   ]
  },
  {
   "cell_type": "code",
   "execution_count": 356,
   "metadata": {},
   "outputs": [],
   "source": [
    "topic_0_2d = [x[0][1] for x in lsi_corpus_train_rel_2d]\n",
    "topic_1_2d = [x[1][1] for x in lsi_corpus_train_rel_2d]"
   ]
  },
  {
   "cell_type": "code",
   "execution_count": 362,
   "metadata": {
    "scrolled": true
   },
   "outputs": [
    {
     "data": {
      "text/plain": [
       "<matplotlib.text.Text at 0x12dc2f940>"
      ]
     },
     "execution_count": 362,
     "metadata": {},
     "output_type": "execute_result"
    },
    {
     "data": {
      "image/png": "[encoded data removed]",
      "text/plain": [
       "<matplotlib.figure.Figure at 0x13bd539b0>"
      ]
     },
     "metadata": {},
     "output_type": "display_data"
    }
   ],
   "source": [
    "ax = plt.figure(figsize=(4.5,3))\n",
    "ax = plt.scatter(topic_0_2d, topic_1_2d, c=le.fit_transform(train_rel['is_displacement']), alpha=0.5, s=8, linewidth=0)\n",
    "plt.set_cmap('spring')\n",
    "plt.xlim((-0.4, 0))\n",
    "plt.xlabel('Topic 0')\n",
    "plt.ylabel('Topic 1')"
   ]
  },
  {
   "cell_type": "markdown",
   "metadata": {},
   "source": [
    "Much more overlap of the classes when determining whether a text concerns displacement or not."
   ]
  },
  {
   "cell_type": "markdown",
   "metadata": {},
   "source": [
    "#### Random Forest"
   ]
  },
  {
   "cell_type": "code",
   "execution_count": 363,
   "metadata": {
    "collapsed": true
   },
   "outputs": [],
   "source": [
    "param_grid = [{'max_features': [7, 8, 9, 10, 11, 12],\n",
    "               'n_jobs': [3],\n",
    "              }]\n",
    "\n",
    "rf = RandomForestClassifier(n_estimators=1000, n_jobs=3)\n",
    "clf = model_selection.GridSearchCV(rf, param_grid=param_grid, cv=5)"
   ]
  },
  {
   "cell_type": "code",
   "execution_count": 365,
   "metadata": {
    "scrolled": true
   },
   "outputs": [
    {
     "data": {
      "text/plain": [
       "GridSearchCV(cv=5, error_score='raise',\n",
       "       estimator=RandomForestClassifier(bootstrap=True, class_weight=None, criterion='gini',\n",
       "            max_depth=None, max_features='auto', max_leaf_nodes=None,\n",
       "            min_impurity_split=1e-07, min_samples_leaf=1,\n",
       "            min_samples_split=2, min_weight_fraction_leaf=0.0,\n",
       "            n_estimators=1000, n_jobs=3, oob_score=False,\n",
       "            random_state=None, verbose=0, warm_start=False),\n",
       "       fit_params={}, iid=True, n_jobs=1,\n",
       "       param_grid=[{'max_features': [7, 8, 9, 10, 11, 12], 'n_jobs': [3]}],\n",
       "       pre_dispatch='2*n_jobs', refit=True, return_train_score=True,\n",
       "       scoring=None, verbose=0)"
      ]
     },
     "execution_count": 365,
     "metadata": {},
     "output_type": "execute_result"
    }
   ],
   "source": [
    "clf.fit(lsi_vecs_train_rel, train_labels_rel)"
   ]
  },
  {
   "cell_type": "code",
   "execution_count": 366,
   "metadata": {
    "collapsed": true
   },
   "outputs": [],
   "source": [
    "tfidf_test_rel, dictionary_test_rel, tfidf_model_test_rel = tfidf_transform(test_rel['text'],\n",
    "                                                                            dictionary=dictionary_train_rel,\n",
    "                                                                            tfidf_model=rel_tfidf_model)"
   ]
  },
  {
   "cell_type": "code",
   "execution_count": 367,
   "metadata": {
    "collapsed": true
   },
   "outputs": [],
   "source": [
    "lsi_vecs_test_rel, lsi_corpus_test_rel, lsi_model_test_rel = lsi_transform(tfidf_test_rel, dictionary_train_rel, lsi_model=lsi_model_train_rel, dimensions=100)"
   ]
  },
  {
   "cell_type": "code",
   "execution_count": 368,
   "metadata": {
    "collapsed": true
   },
   "outputs": [],
   "source": [
    "clf_best = clf.best_estimator_"
   ]
  },
  {
   "cell_type": "code",
   "execution_count": 369,
   "metadata": {},
   "outputs": [
    {
     "data": {
      "text/plain": [
       "RandomForestClassifier(bootstrap=True, class_weight=None, criterion='gini',\n",
       "            max_depth=None, max_features=12, max_leaf_nodes=None,\n",
       "            min_impurity_split=1e-07, min_samples_leaf=1,\n",
       "            min_samples_split=2, min_weight_fraction_leaf=0.0,\n",
       "            n_estimators=1000, n_jobs=3, oob_score=False,\n",
       "            random_state=None, verbose=0, warm_start=False)"
      ]
     },
     "execution_count": 369,
     "metadata": {},
     "output_type": "execute_result"
    }
   ],
   "source": [
    "clf_best"
   ]
  },
  {
   "cell_type": "code",
   "execution_count": 370,
   "metadata": {
    "collapsed": true
   },
   "outputs": [],
   "source": [
    "#predictions = clf_best.predict(lsi_vecs_test_cat_30d)\n",
    "predictions = clf.predict(lsi_vecs_test_rel)"
   ]
  },
  {
   "cell_type": "code",
   "execution_count": 372,
   "metadata": {},
   "outputs": [
    {
     "name": "stdout",
     "output_type": "stream",
     "text": [
      "             precision    recall  f1-score   support\n",
      "\n",
      "         no       0.78      0.89      0.83       376\n",
      "        yes       0.81      0.65      0.72       272\n",
      "\n",
      "avg / total       0.79      0.79      0.78       648\n",
      "\n"
     ]
    }
   ],
   "source": [
    "print(sklearn.metrics.classification_report(test_rel['is_displacement'], predictions))"
   ]
  },
  {
   "cell_type": "code",
   "execution_count": 383,
   "metadata": {},
   "outputs": [
    {
     "name": "stdout",
     "output_type": "stream",
     "text": [
      "[[334  42]\n",
      " [ 96 176]]\n"
     ]
    }
   ],
   "source": [
    "print(sklearn.metrics.confusion_matrix(test_rel['is_displacement'], predictions))"
   ]
  },
  {
   "cell_type": "markdown",
   "metadata": {},
   "source": [
    "#### Keyword and Random Forest Combined"
   ]
  },
  {
   "cell_type": "code",
   "execution_count": 449,
   "metadata": {
    "collapsed": true
   },
   "outputs": [],
   "source": [
    "def combine_relevance_tags(classified, keyword_tagged):\n",
    "    combined = []\n",
    "    for classifier, keyword in zip(classified, keyword_tagged):\n",
    "        if keyword == 'no' and classifier == 'no':\n",
    "            tag = 'no'\n",
    "        elif keyword == 'yes' and classifier == 'yes':\n",
    "            tag = 'yes'\n",
    "        elif keyword == 'no' and classifier == 'yes':\n",
    "            tag = 'yes'\n",
    "        elif keyword == 'yes' and classifier == 'no':\n",
    "            tag = 'yes'\n",
    "        combined.append(tag)\n",
    "    return combined"
   ]
  },
  {
   "cell_type": "code",
   "execution_count": 450,
   "metadata": {},
   "outputs": [],
   "source": [
    "displacement_tags = displacement_tag(test_rel['text'], displacement_stems)"
   ]
  },
  {
   "cell_type": "code",
   "execution_count": 451,
   "metadata": {},
   "outputs": [],
   "source": [
    "combined_predictions = combine_relevance_tags(predictions, displacement_tags)"
   ]
  },
  {
   "cell_type": "code",
   "execution_count": 452,
   "metadata": {},
   "outputs": [
    {
     "name": "stdout",
     "output_type": "stream",
     "text": [
      "             precision    recall  f1-score   support\n",
      "\n",
      "         no       0.95      0.68      0.80       376\n",
      "        yes       0.69      0.95      0.80       272\n",
      "\n",
      "avg / total       0.84      0.80      0.80       648\n",
      "\n"
     ]
    }
   ],
   "source": [
    "print(sklearn.metrics.classification_report(test_rel['is_displacement'], combined_predictions))"
   ]
  },
  {
   "cell_type": "code",
   "execution_count": 448,
   "metadata": {},
   "outputs": [
    {
     "name": "stdout",
     "output_type": "stream",
     "text": [
      "[[278  98]\n",
      " [ 27 245]]\n"
     ]
    }
   ],
   "source": [
    "print(sklearn.metrics.confusion_matrix(test_rel['is_displacement'], combined_predictions))"
   ]
  },
  {
   "cell_type": "markdown",
   "metadata": {},
   "source": [
    "## Predictions on IDMC Test Set"
   ]
  },
  {
   "cell_type": "code",
   "execution_count": 460,
   "metadata": {},
   "outputs": [],
   "source": [
    "df_idmc_test = pd.read_csv('../../data/test/all_scraped_test_urls.csv')"
   ]
  },
  {
   "cell_type": "markdown",
   "metadata": {},
   "source": [
    "### Relevance\n",
    "\n",
    "In a two stage process, we first determine whether an article concerns displacement or not, and then which category it might fall under."
   ]
  },
  {
   "cell_type": "code",
   "execution_count": 465,
   "metadata": {},
   "outputs": [],
   "source": [
    "df_idmc_test['text'] = df_idmc_test['Content'].map(lambda x: prepare_text(str(x), stop_words))"
   ]
  },
  {
   "cell_type": "markdown",
   "metadata": {},
   "source": [
    "Keywords"
   ]
  },
  {
   "cell_type": "code",
   "execution_count": 467,
   "metadata": {
    "collapsed": true
   },
   "outputs": [],
   "source": [
    "keyword_relevance = displacement_tag(df_idmc_test['text'], displacement_stems)"
   ]
  },
  {
   "cell_type": "markdown",
   "metadata": {},
   "source": [
    "Classifier"
   ]
  },
  {
   "cell_type": "code",
   "execution_count": 470,
   "metadata": {},
   "outputs": [],
   "source": [
    "tfidf_rel, dictionary_rel, tfidf_test_rel = tfidf_transform(df_idmc_test['text'],\n",
    "                                                            dictionary=dictionary_train_rel,\n",
    "                                                            tfidf_model=rel_tfidf_model)"
   ]
  },
  {
   "cell_type": "code",
   "execution_count": 471,
   "metadata": {
    "collapsed": true
   },
   "outputs": [],
   "source": [
    "lsi_vecs_rel, lsi_corpus_rel, lsi_model_rel = lsi_transform(tfidf_rel, dictionary_train_rel, lsi_model=lsi_model_train_rel, dimensions=100)"
   ]
  },
  {
   "cell_type": "code",
   "execution_count": 472,
   "metadata": {
    "collapsed": true
   },
   "outputs": [],
   "source": [
    "classified_relevance = clf.predict(lsi_vecs_rel)"
   ]
  },
  {
   "cell_type": "markdown",
   "metadata": {},
   "source": [
    "Combined"
   ]
  },
  {
   "cell_type": "code",
   "execution_count": 504,
   "metadata": {
    "collapsed": true
   },
   "outputs": [],
   "source": [
    "combined_relevance = combine_relevance_tags(classified_relevance, keyword_relevance)"
   ]
  },
  {
   "cell_type": "code",
   "execution_count": 476,
   "metadata": {},
   "outputs": [],
   "source": [
    "df_idmc_test['is_displacement'] = combined_relevance"
   ]
  },
  {
   "cell_type": "markdown",
   "metadata": {},
   "source": [
    "### Category"
   ]
  },
  {
   "cell_type": "markdown",
   "metadata": {},
   "source": [
    "Keyword"
   ]
  },
  {
   "cell_type": "code",
   "execution_count": 479,
   "metadata": {},
   "outputs": [],
   "source": [
    "keyword_category = tag_by_stem(df_idmc_test['text'], conflict_stems, disaster_stems)"
   ]
  },
  {
   "cell_type": "markdown",
   "metadata": {},
   "source": [
    "Classifier"
   ]
  },
  {
   "cell_type": "code",
   "execution_count": 497,
   "metadata": {
    "collapsed": true
   },
   "outputs": [],
   "source": [
    "tfidf_cat, dictionary_cat, tfidf_model_cat = tfidf_transform(df_idmc_test['text'],\n",
    "                                                            dictionary=dictionary_train_cat,\n",
    "                                                            tfidf_model=cat_tfidf_model)"
   ]
  },
  {
   "cell_type": "code",
   "execution_count": 498,
   "metadata": {
    "collapsed": true
   },
   "outputs": [],
   "source": [
    "lsi_vecs_cat, lsi_corpus_cat, lsi_model_cat = lsi_transform(tfidf_cat, dictionary_train_cat, lsi_model=lsi_model_train_cat, dimensions=100)"
   ]
  },
  {
   "cell_type": "code",
   "execution_count": 500,
   "metadata": {},
   "outputs": [],
   "source": [
    "classified_category = clf_best_cat.predict(lsi_vecs_cat)"
   ]
  },
  {
   "cell_type": "markdown",
   "metadata": {},
   "source": [
    "Combined"
   ]
  },
  {
   "cell_type": "code",
   "execution_count": 501,
   "metadata": {
    "collapsed": true
   },
   "outputs": [],
   "source": [
    "combined_category = combine_predictions(classified_category, keyword_category)"
   ]
  },
  {
   "cell_type": "code",
   "execution_count": 502,
   "metadata": {
    "collapsed": true
   },
   "outputs": [],
   "source": [
    "df_idmc_test['category'] = combined_category"
   ]
  },
  {
   "cell_type": "markdown",
   "metadata": {},
   "source": [
    "### Combine Relevance and Category"
   ]
  },
  {
   "cell_type": "code",
   "execution_count": 503,
   "metadata": {
    "collapsed": true
   },
   "outputs": [],
   "source": [
    "def combined_rel_cat(rels, cats):\n",
    "    tags = []\n",
    "    for r, c in zip(rels, cats):\n",
    "        if r == 'no':\n",
    "            tags.append('not relevant')\n",
    "        else:\n",
    "            tags.append(c)\n",
    "    return tags"
   ]
  },
  {
   "cell_type": "code",
   "execution_count": 505,
   "metadata": {
    "collapsed": true
   },
   "outputs": [],
   "source": [
    "final_tags = combined_rel_cat(combined_relevance, combined_category)"
   ]
  },
  {
   "cell_type": "code",
   "execution_count": 507,
   "metadata": {},
   "outputs": [],
   "source": [
    "df_test = pd.read_csv('../../data/test/IDETECT_test_dataset - Tagging.csv')"
   ]
  },
  {
   "cell_type": "code",
   "execution_count": 537,
   "metadata": {
    "collapsed": true
   },
   "outputs": [],
   "source": [
    "df_test['tag'] = final_tags"
   ]
  },
  {
   "cell_type": "code",
   "execution_count": 539,
   "metadata": {},
   "outputs": [],
   "source": [
    "df_test.to_csv('../../data/tagging_test_output.csv')"
   ]
  }
 ],
 "metadata": {
  "kernelspec": {
   "display_name": "Python [nlp3]",
   "language": "python",
   "name": "Python [nlp3]"
  },
  "language_info": {
   "codemirror_mode": {
    "name": "ipython",
    "version": 3
   },
   "file_extension": ".py",
   "mimetype": "text/x-python",
   "name": "python",
   "nbconvert_exporter": "python",
   "pygments_lexer": "ipython3",
   "version": "3.5.2"
  }
 },
 "nbformat": 4,
 "nbformat_minor": 2
}
