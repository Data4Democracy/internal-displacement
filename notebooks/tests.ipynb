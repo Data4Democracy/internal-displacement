{
 "cells": [
  {
   "cell_type": "code",
   "execution_count": 1,
   "metadata": {
    "collapsed": true
   },
   "outputs": [],
   "source": [
    "import pandas as pd"
   ]
  },
  {
   "cell_type": "code",
   "execution_count": 9,
   "metadata": {
    "collapsed": false
   },
   "outputs": [],
   "source": [
    "input_full = pd.read_csv('data/idmc_uniteideas_input_full.csv')"
   ]
  },
  {
   "cell_type": "code",
   "execution_count": 10,
   "metadata": {
    "collapsed": false
   },
   "outputs": [
    {
     "data": {
      "text/html": [
       "<div>\n",
       "<table border=\"1\" class=\"dataframe\">\n",
       "  <thead>\n",
       "    <tr style=\"text-align: right;\">\n",
       "      <th></th>\n",
       "      <th>GKGRECORDID</th>\n",
       "      <th>DATE</th>\n",
       "      <th>SourceCommonName</th>\n",
       "      <th>DocumentIdentifier</th>\n",
       "      <th>V2Counts</th>\n",
       "    </tr>\n",
       "  </thead>\n",
       "  <tbody>\n",
       "    <tr>\n",
       "      <th>0</th>\n",
       "      <td>20160511013000-866</td>\n",
       "      <td>20160511013000</td>\n",
       "      <td>NaN</td>\n",
       "      <td>http://isp.netscape.com?idq=/ff/story/0002/201...</td>\n",
       "      <td>KILL#2000##1#Netherlands#NL#NL#52.5#5.75#NL#10...</td>\n",
       "    </tr>\n",
       "    <tr>\n",
       "      <th>1</th>\n",
       "      <td>20160801181500-1555</td>\n",
       "      <td>20160801181500</td>\n",
       "      <td>af.mil</td>\n",
       "      <td>http://www.malmstrom.af.mil/News/Article-Displ...</td>\n",
       "      <td>AFFECT#6##3#Great Falls, Montana, United State...</td>\n",
       "    </tr>\n",
       "    <tr>\n",
       "      <th>2</th>\n",
       "      <td>20160326010000-891</td>\n",
       "      <td>20160326010000</td>\n",
       "      <td>af.mil</td>\n",
       "      <td>http://www.afrc.af.mil/News/tabid/5048/Article...</td>\n",
       "      <td>KILL#3##4#Havana, Ciudad De La Habana, Cuba#CU...</td>\n",
       "    </tr>\n",
       "    <tr>\n",
       "      <th>3</th>\n",
       "      <td>20160323224500-1767</td>\n",
       "      <td>20160323224500</td>\n",
       "      <td>af.mil</td>\n",
       "      <td>http://www.jber.af.mil/news/story.asp?id=12347...</td>\n",
       "      <td>EVACUATION#245##4#Northwest Passage, Nunavut, ...</td>\n",
       "    </tr>\n",
       "    <tr>\n",
       "      <th>4</th>\n",
       "      <td>20161110190000-876</td>\n",
       "      <td>20161110190000</td>\n",
       "      <td>al.com</td>\n",
       "      <td>http://www.al.com/news/birmingham/index.ssf/20...</td>\n",
       "      <td>AFFECT#24##2#Georgia, United States#US#USGA#32...</td>\n",
       "    </tr>\n",
       "  </tbody>\n",
       "</table>\n",
       "</div>"
      ],
      "text/plain": [
       "           GKGRECORDID            DATE SourceCommonName  \\\n",
       "0   20160511013000-866  20160511013000              NaN   \n",
       "1  20160801181500-1555  20160801181500           af.mil   \n",
       "2   20160326010000-891  20160326010000           af.mil   \n",
       "3  20160323224500-1767  20160323224500           af.mil   \n",
       "4   20161110190000-876  20161110190000           al.com   \n",
       "\n",
       "                                  DocumentIdentifier  \\\n",
       "0  http://isp.netscape.com?idq=/ff/story/0002/201...   \n",
       "1  http://www.malmstrom.af.mil/News/Article-Displ...   \n",
       "2  http://www.afrc.af.mil/News/tabid/5048/Article...   \n",
       "3  http://www.jber.af.mil/news/story.asp?id=12347...   \n",
       "4  http://www.al.com/news/birmingham/index.ssf/20...   \n",
       "\n",
       "                                            V2Counts  \n",
       "0  KILL#2000##1#Netherlands#NL#NL#52.5#5.75#NL#10...  \n",
       "1  AFFECT#6##3#Great Falls, Montana, United State...  \n",
       "2  KILL#3##4#Havana, Ciudad De La Habana, Cuba#CU...  \n",
       "3  EVACUATION#245##4#Northwest Passage, Nunavut, ...  \n",
       "4  AFFECT#24##2#Georgia, United States#US#USGA#32...  "
      ]
     },
     "execution_count": 10,
     "metadata": {},
     "output_type": "execute_result"
    }
   ],
   "source": [
    "input_full.head()"
   ]
  },
  {
   "cell_type": "code",
   "execution_count": 7,
   "metadata": {
    "collapsed": true
   },
   "outputs": [],
   "source": [
    "input_sample = pd.read_csv('data/idmc_uniteideas_input_url.csv')"
   ]
  },
  {
   "cell_type": "code",
   "execution_count": 8,
   "metadata": {
    "collapsed": false
   },
   "outputs": [
    {
     "data": {
      "text/html": [
       "<div>\n",
       "<table border=\"1\" class=\"dataframe\">\n",
       "  <thead>\n",
       "    <tr style=\"text-align: right;\">\n",
       "      <th></th>\n",
       "      <th>GKGRECORDID</th>\n",
       "      <th>DATE</th>\n",
       "      <th>DocumentIdentifier</th>\n",
       "    </tr>\n",
       "  </thead>\n",
       "  <tbody>\n",
       "    <tr>\n",
       "      <th>0</th>\n",
       "      <td>20160512000000-2927</td>\n",
       "      <td>20160512000000</td>\n",
       "      <td>http://www.somalilandpress.com/iom-supports-dr...</td>\n",
       "    </tr>\n",
       "    <tr>\n",
       "      <th>1</th>\n",
       "      <td>20161114080000-854</td>\n",
       "      <td>20161114080000</td>\n",
       "      <td>http://www.9and10news.com/story/33699640/syria...</td>\n",
       "    </tr>\n",
       "    <tr>\n",
       "      <th>2</th>\n",
       "      <td>20161219200000-704</td>\n",
       "      <td>20161219200000</td>\n",
       "      <td>http://tribune.com.pk/story/1268397/saudi-led-...</td>\n",
       "    </tr>\n",
       "    <tr>\n",
       "      <th>3</th>\n",
       "      <td>20161219200000-177</td>\n",
       "      <td>20161219200000</td>\n",
       "      <td>http://www.tv360nigeria.com/nigerias-humanitar...</td>\n",
       "    </tr>\n",
       "    <tr>\n",
       "      <th>4</th>\n",
       "      <td>20161219200000-900</td>\n",
       "      <td>20161219200000</td>\n",
       "      <td>http://www.couriermail.com.au/news/world/ecuad...</td>\n",
       "    </tr>\n",
       "  </tbody>\n",
       "</table>\n",
       "</div>"
      ],
      "text/plain": [
       "           GKGRECORDID            DATE  \\\n",
       "0  20160512000000-2927  20160512000000   \n",
       "1   20161114080000-854  20161114080000   \n",
       "2   20161219200000-704  20161219200000   \n",
       "3   20161219200000-177  20161219200000   \n",
       "4   20161219200000-900  20161219200000   \n",
       "\n",
       "                                  DocumentIdentifier  \n",
       "0  http://www.somalilandpress.com/iom-supports-dr...  \n",
       "1  http://www.9and10news.com/story/33699640/syria...  \n",
       "2  http://tribune.com.pk/story/1268397/saudi-led-...  \n",
       "3  http://www.tv360nigeria.com/nigerias-humanitar...  \n",
       "4  http://www.couriermail.com.au/news/world/ecuad...  "
      ]
     },
     "execution_count": 8,
     "metadata": {},
     "output_type": "execute_result"
    }
   ],
   "source": [
    "input_sample.head()"
   ]
  },
  {
   "cell_type": "code",
   "execution_count": 11,
   "metadata": {
    "collapsed": true
   },
   "outputs": [],
   "source": [
    "counts_evac = pd.read_csv('data/counts_evacuation_idmc_uniteideas_input_full_conflict_tag.csv')"
   ]
  },
  {
   "cell_type": "code",
   "execution_count": 12,
   "metadata": {
    "collapsed": false
   },
   "outputs": [
    {
     "data": {
      "text/html": [
       "<div>\n",
       "<table border=\"1\" class=\"dataframe\">\n",
       "  <thead>\n",
       "    <tr style=\"text-align: right;\">\n",
       "      <th></th>\n",
       "      <th>cartodb_id</th>\n",
       "      <th>the_geom</th>\n",
       "      <th>date</th>\n",
       "      <th>sourcecommonname</th>\n",
       "      <th>url</th>\n",
       "      <th>gdelt_count</th>\n",
       "      <th>count_type</th>\n",
       "      <th>location_fullname</th>\n",
       "      <th>location_longitude</th>\n",
       "      <th>location_latitude</th>\n",
       "      <th>isconflict</th>\n",
       "    </tr>\n",
       "  </thead>\n",
       "  <tbody>\n",
       "    <tr>\n",
       "      <th>0</th>\n",
       "      <td>12019</td>\n",
       "      <td>0101000020E61000000000000000604140000000000080...</td>\n",
       "      <td>2016-01-16</td>\n",
       "      <td>pchrgaza.org</td>\n",
       "      <td>http://pchrgaza.org/en/?p=4433</td>\n",
       "      <td>24</td>\n",
       "      <td>EVACUATION</td>\n",
       "      <td>Israel</td>\n",
       "      <td>34.7500</td>\n",
       "      <td>31.5000</td>\n",
       "      <td>True</td>\n",
       "    </tr>\n",
       "    <tr>\n",
       "      <th>1</th>\n",
       "      <td>927</td>\n",
       "      <td>0101000020E610000000000000004058C0000000000000...</td>\n",
       "      <td>2016-01-01</td>\n",
       "      <td>trust.org</td>\n",
       "      <td>http://www.trust.org/item/20160101162530-vlihs</td>\n",
       "      <td>2000</td>\n",
       "      <td>EVACUATION</td>\n",
       "      <td>United States</td>\n",
       "      <td>-97.0000</td>\n",
       "      <td>38.0000</td>\n",
       "      <td>True</td>\n",
       "    </tr>\n",
       "    <tr>\n",
       "      <th>2</th>\n",
       "      <td>168</td>\n",
       "      <td>0101000020E61000009D8026C2869F56C04A7B832F4C46...</td>\n",
       "      <td>2016-01-01</td>\n",
       "      <td>wfla.com</td>\n",
       "      <td>http://wfla.com/ap/towns-south-of-st-louis-bra...</td>\n",
       "      <td>200</td>\n",
       "      <td>EVACUATION</td>\n",
       "      <td>Valley Park, Missouri, United States</td>\n",
       "      <td>-90.4926</td>\n",
       "      <td>38.5492</td>\n",
       "      <td>False</td>\n",
       "    </tr>\n",
       "    <tr>\n",
       "      <th>3</th>\n",
       "      <td>2076</td>\n",
       "      <td>0101000020E61000000000000000005940000000000000...</td>\n",
       "      <td>2016-01-02</td>\n",
       "      <td>american-reporter.com</td>\n",
       "      <td>http://www.american-reporter.com/5,336W/477.html</td>\n",
       "      <td>2000</td>\n",
       "      <td>EVACUATION</td>\n",
       "      <td>Russia</td>\n",
       "      <td>100.0000</td>\n",
       "      <td>60.0000</td>\n",
       "      <td>True</td>\n",
       "    </tr>\n",
       "    <tr>\n",
       "      <th>4</th>\n",
       "      <td>307</td>\n",
       "      <td>0101000020E6100000D200DE02099656C08BFD65F7E431...</td>\n",
       "      <td>2016-01-01</td>\n",
       "      <td>newsok.com</td>\n",
       "      <td>http://newsok.com/ap-news-in-brief-at-1021-a.m...</td>\n",
       "      <td>200</td>\n",
       "      <td>EVACUATION</td>\n",
       "      <td>Meramec River, Missouri, United States</td>\n",
       "      <td>-90.3443</td>\n",
       "      <td>38.3898</td>\n",
       "      <td>True</td>\n",
       "    </tr>\n",
       "  </tbody>\n",
       "</table>\n",
       "</div>"
      ],
      "text/plain": [
       "   cartodb_id                                           the_geom        date  \\\n",
       "0       12019  0101000020E61000000000000000604140000000000080...  2016-01-16   \n",
       "1         927  0101000020E610000000000000004058C0000000000000...  2016-01-01   \n",
       "2         168  0101000020E61000009D8026C2869F56C04A7B832F4C46...  2016-01-01   \n",
       "3        2076  0101000020E61000000000000000005940000000000000...  2016-01-02   \n",
       "4         307  0101000020E6100000D200DE02099656C08BFD65F7E431...  2016-01-01   \n",
       "\n",
       "        sourcecommonname                                                url  \\\n",
       "0           pchrgaza.org                     http://pchrgaza.org/en/?p=4433   \n",
       "1              trust.org     http://www.trust.org/item/20160101162530-vlihs   \n",
       "2               wfla.com  http://wfla.com/ap/towns-south-of-st-louis-bra...   \n",
       "3  american-reporter.com   http://www.american-reporter.com/5,336W/477.html   \n",
       "4             newsok.com  http://newsok.com/ap-news-in-brief-at-1021-a.m...   \n",
       "\n",
       "   gdelt_count  count_type                       location_fullname  \\\n",
       "0           24  EVACUATION                                  Israel   \n",
       "1         2000  EVACUATION                           United States   \n",
       "2          200  EVACUATION    Valley Park, Missouri, United States   \n",
       "3         2000  EVACUATION                                  Russia   \n",
       "4          200  EVACUATION  Meramec River, Missouri, United States   \n",
       "\n",
       "   location_longitude  location_latitude isconflict  \n",
       "0             34.7500            31.5000       True  \n",
       "1            -97.0000            38.0000       True  \n",
       "2            -90.4926            38.5492      False  \n",
       "3            100.0000            60.0000       True  \n",
       "4            -90.3443            38.3898       True  "
      ]
     },
     "execution_count": 12,
     "metadata": {},
     "output_type": "execute_result"
    }
   ],
   "source": [
    "counts_evac.head()"
   ]
  },
  {
   "cell_type": "code",
   "execution_count": 13,
   "metadata": {
    "collapsed": true
   },
   "outputs": [],
   "source": [
    "counts_disp = pd.read_csv('data/counts_displaced_idmc_uniteideas_input_full_conflict_tag.csv')"
   ]
  },
  {
   "cell_type": "code",
   "execution_count": 14,
   "metadata": {
    "collapsed": false
   },
   "outputs": [
    {
     "data": {
      "text/html": [
       "<div>\n",
       "<table border=\"1\" class=\"dataframe\">\n",
       "  <thead>\n",
       "    <tr style=\"text-align: right;\">\n",
       "      <th></th>\n",
       "      <th>cartodb_id</th>\n",
       "      <th>the_geom</th>\n",
       "      <th>date</th>\n",
       "      <th>sourcecommonname</th>\n",
       "      <th>url</th>\n",
       "      <th>gdelt_count</th>\n",
       "      <th>count_type</th>\n",
       "      <th>location_fullname</th>\n",
       "      <th>location_longitude</th>\n",
       "      <th>location_latitude</th>\n",
       "      <th>isconflict</th>\n",
       "    </tr>\n",
       "  </thead>\n",
       "  <tbody>\n",
       "    <tr>\n",
       "      <th>0</th>\n",
       "      <td>805</td>\n",
       "      <td>0101000020E61000000000000000004340000000000080...</td>\n",
       "      <td>2016-01-03</td>\n",
       "      <td>kuna.net.kw</td>\n",
       "      <td>http://www.kuna.net.kw/ArticleDetails.aspx?id=...</td>\n",
       "      <td>12000000</td>\n",
       "      <td>DISPLACED</td>\n",
       "      <td>Syria</td>\n",
       "      <td>38.00</td>\n",
       "      <td>35.0</td>\n",
       "      <td>True</td>\n",
       "    </tr>\n",
       "    <tr>\n",
       "      <th>1</th>\n",
       "      <td>1423</td>\n",
       "      <td>0101000020E61000000000000000604140000000000080...</td>\n",
       "      <td>2016-01-05</td>\n",
       "      <td>pchrgaza.org</td>\n",
       "      <td>http://pchrgaza.org/en/?p=1605</td>\n",
       "      <td>2000</td>\n",
       "      <td>DISPLACED</td>\n",
       "      <td>Israel</td>\n",
       "      <td>34.75</td>\n",
       "      <td>31.5</td>\n",
       "      <td>True</td>\n",
       "    </tr>\n",
       "    <tr>\n",
       "      <th>2</th>\n",
       "      <td>1</td>\n",
       "      <td>0101000020E610000000000000000052C0000000000000...</td>\n",
       "      <td>2016-01-01</td>\n",
       "      <td>inserbia.info</td>\n",
       "      <td>http://inserbia.info/today/2016/01/colombia-pl...</td>\n",
       "      <td>2000000</td>\n",
       "      <td>DISPLACED</td>\n",
       "      <td>Colombia</td>\n",
       "      <td>-72.00</td>\n",
       "      <td>4.0</td>\n",
       "      <td>True</td>\n",
       "    </tr>\n",
       "    <tr>\n",
       "      <th>3</th>\n",
       "      <td>2417</td>\n",
       "      <td>0101000020E61000000000000000003E40000000000000...</td>\n",
       "      <td>2016-01-08</td>\n",
       "      <td>allafrica.com</td>\n",
       "      <td>http://allafrica.com/stories/201601080376.html</td>\n",
       "      <td>2000</td>\n",
       "      <td>DISPLACED</td>\n",
       "      <td>Zimbabwe</td>\n",
       "      <td>30.00</td>\n",
       "      <td>-20.0</td>\n",
       "      <td>True</td>\n",
       "    </tr>\n",
       "    <tr>\n",
       "      <th>4</th>\n",
       "      <td>2859</td>\n",
       "      <td>0101000020E61000000000000000604140000000000080...</td>\n",
       "      <td>2016-01-09</td>\n",
       "      <td>pchrgaza.org</td>\n",
       "      <td>http://pchrgaza.org/en/?p=1589</td>\n",
       "      <td>240</td>\n",
       "      <td>DISPLACED</td>\n",
       "      <td>Israel</td>\n",
       "      <td>34.75</td>\n",
       "      <td>31.5</td>\n",
       "      <td>True</td>\n",
       "    </tr>\n",
       "  </tbody>\n",
       "</table>\n",
       "</div>"
      ],
      "text/plain": [
       "   cartodb_id                                           the_geom        date  \\\n",
       "0         805  0101000020E61000000000000000004340000000000080...  2016-01-03   \n",
       "1        1423  0101000020E61000000000000000604140000000000080...  2016-01-05   \n",
       "2           1  0101000020E610000000000000000052C0000000000000...  2016-01-01   \n",
       "3        2417  0101000020E61000000000000000003E40000000000000...  2016-01-08   \n",
       "4        2859  0101000020E61000000000000000604140000000000080...  2016-01-09   \n",
       "\n",
       "  sourcecommonname                                                url  \\\n",
       "0      kuna.net.kw  http://www.kuna.net.kw/ArticleDetails.aspx?id=...   \n",
       "1     pchrgaza.org                     http://pchrgaza.org/en/?p=1605   \n",
       "2    inserbia.info  http://inserbia.info/today/2016/01/colombia-pl...   \n",
       "3    allafrica.com     http://allafrica.com/stories/201601080376.html   \n",
       "4     pchrgaza.org                     http://pchrgaza.org/en/?p=1589   \n",
       "\n",
       "   gdelt_count count_type location_fullname  location_longitude  \\\n",
       "0     12000000  DISPLACED             Syria               38.00   \n",
       "1         2000  DISPLACED            Israel               34.75   \n",
       "2      2000000  DISPLACED          Colombia              -72.00   \n",
       "3         2000  DISPLACED          Zimbabwe               30.00   \n",
       "4          240  DISPLACED            Israel               34.75   \n",
       "\n",
       "   location_latitude isconflict  \n",
       "0               35.0       True  \n",
       "1               31.5       True  \n",
       "2                4.0       True  \n",
       "3              -20.0       True  \n",
       "4               31.5       True  "
      ]
     },
     "execution_count": 14,
     "metadata": {},
     "output_type": "execute_result"
    }
   ],
   "source": [
    "counts_disp.head()"
   ]
  },
  {
   "cell_type": "code",
   "execution_count": 15,
   "metadata": {
    "collapsed": true
   },
   "outputs": [],
   "source": [
    "training_data = pd.read_csv('data/training_dataset.csv')"
   ]
  },
  {
   "cell_type": "code",
   "execution_count": 16,
   "metadata": {
    "collapsed": false
   },
   "outputs": [
    {
     "data": {
      "text/html": [
       "<div>\n",
       "<table border=\"1\" class=\"dataframe\">\n",
       "  <thead>\n",
       "    <tr style=\"text-align: right;\">\n",
       "      <th></th>\n",
       "      <th>Country_or_region</th>\n",
       "      <th>URL</th>\n",
       "      <th>Tag</th>\n",
       "    </tr>\n",
       "  </thead>\n",
       "  <tbody>\n",
       "    <tr>\n",
       "      <th>0</th>\n",
       "      <td>Abyei Area</td>\n",
       "      <td>http://www.securitycouncilreport.org/atf/cf/%7...</td>\n",
       "      <td>Conflict and violence</td>\n",
       "    </tr>\n",
       "    <tr>\n",
       "      <th>1</th>\n",
       "      <td>Afghanistan</td>\n",
       "      <td>http://www.independent.co.uk/news/world/asia/1...</td>\n",
       "      <td>Disasters</td>\n",
       "    </tr>\n",
       "    <tr>\n",
       "      <th>2</th>\n",
       "      <td>Afghanistan</td>\n",
       "      <td>http://reliefweb.int/sites/reliefweb.int/files...</td>\n",
       "      <td>Disasters</td>\n",
       "    </tr>\n",
       "    <tr>\n",
       "      <th>3</th>\n",
       "      <td>Afghanistan</td>\n",
       "      <td>https://www.humanitarianresponse.info/en/opera...</td>\n",
       "      <td>Disasters</td>\n",
       "    </tr>\n",
       "    <tr>\n",
       "      <th>4</th>\n",
       "      <td>Afghanistan</td>\n",
       "      <td>http://floodlist.com/asia/afghanistan-flash-fl...</td>\n",
       "      <td>Disasters</td>\n",
       "    </tr>\n",
       "  </tbody>\n",
       "</table>\n",
       "</div>"
      ],
      "text/plain": [
       "  Country_or_region                                                URL  \\\n",
       "0        Abyei Area  http://www.securitycouncilreport.org/atf/cf/%7...   \n",
       "1       Afghanistan  http://www.independent.co.uk/news/world/asia/1...   \n",
       "2       Afghanistan  http://reliefweb.int/sites/reliefweb.int/files...   \n",
       "3       Afghanistan  https://www.humanitarianresponse.info/en/opera...   \n",
       "4       Afghanistan  http://floodlist.com/asia/afghanistan-flash-fl...   \n",
       "\n",
       "                     Tag  \n",
       "0  Conflict and violence  \n",
       "1              Disasters  \n",
       "2              Disasters  \n",
       "3              Disasters  \n",
       "4              Disasters  "
      ]
     },
     "execution_count": 16,
     "metadata": {},
     "output_type": "execute_result"
    }
   ],
   "source": [
    "training_data.head()"
   ]
  },
  {
   "cell_type": "code",
   "execution_count": 11,
   "metadata": {
    "collapsed": false
   },
   "outputs": [],
   "source": [
    "from urllib import request"
   ]
  },
  {
   "cell_type": "code",
   "execution_count": 6,
   "metadata": {
    "collapsed": true
   },
   "outputs": [],
   "source": [
    "from bs4 import BeautifulSoup"
   ]
  },
  {
   "cell_type": "code",
   "execution_count": 137,
   "metadata": {
    "collapsed": false
   },
   "outputs": [],
   "source": [
    "url = request.urlopen('http://pchrgaza.org/en/?p=1605').read()"
   ]
  },
  {
   "cell_type": "code",
   "execution_count": 146,
   "metadata": {
    "collapsed": false
   },
   "outputs": [],
   "source": [
    "soup = BeautifulSoup(url, 'html.parser')"
   ]
  },
  {
   "cell_type": "code",
   "execution_count": 147,
   "metadata": {
    "collapsed": false
   },
   "outputs": [],
   "source": [
    "_extracted = [s.extract() for s in soup(['script', 'link', 'style', 'id', 'class', 'li', 'head' 'a'])]"
   ]
  },
  {
   "cell_type": "code",
   "execution_count": 148,
   "metadata": {
    "collapsed": false
   },
   "outputs": [],
   "source": [
    "text = soup.get_text()"
   ]
  },
  {
   "cell_type": "code",
   "execution_count": 149,
   "metadata": {
    "collapsed": false
   },
   "outputs": [
    {
     "data": {
      "text/plain": [
       "'       On the 25th Day of the Israeli Offensive: Humanitarian Truce Collapse Less Than One Hour of Its Entry into Force; Dozens of Palestinian Civilians Killed and Hundreds Wounded by Israeli Shelling in Rafah; Before Collapse of Truce, Bodies of Dozens of Pales | Palestinian Center for Human Rights                                                    CLOSE                        DONATE NOW   عربي     Monday, January 23, 2017                                                                        Home  PRESS RELEASES  On the 25th Day of the Israeli Offensive: Humanitarian Truce Collapse Less...    On the 25th Day of the Israeli Offensive: Humanitarian Truce Collapse Less Than One Hour of Its Entry into Force; Dozens of Palestinian Civilians Killed and Hundreds Wounded by Israeli Shelling in Rafah; Before Collapse of Truce, Bodies of Dozens of Pales  August 1, 2014 104            Share on Facebook Tweet on Twitter      Print Ref: 111/2014  Time: 07:00 GMT     Since the Beginning of the Israeli Offensive on Gaza: 1,492 Palestinians Killed, of Whom 1,277 Are Civilians, Including 360 Children and 193 Women, and 6,686 Others Wounded, Mostly Civilians, Including 1,846 Children and 1,275 Women;  702 Houses Targeted and Destroyed and Hundreds of Others Extensively Damaged 400,000 Palestinians Forcibly Displaced      Israeli occupation forces have continued their brutal and immoral offensive on the Gaza Strip for the 24th consecutive day, and have continued the policy of collective punishment in disregard for the international law and humanitarian law, which ensure protection for civilians in times of war, and in violation of the principles of necessity, proportionality and distinction. Israeli forces have continued their aerial, ground and sea attacks throughout the Gaza Strip, causing more civilian casualties and damaging civilian facilities. Israeli forces escalated their attacks throughout the Gaza Strip. Electricity supplies have been off in the Gaza Strip for the 4th consecutive day.  Municipalities face extreme difficulties in their work due to the lack of fuel supplies and because if Israeli attacks.  These developments raise concerns regarding public health in Gaza Strip, which is one of the most densely populated areas in the world.  The crisis has further aggravated as at least 400,000 civilians were forcibly displaced from their homes, and were forced to resort to shelters in the centers of towns and refugee camps.    PCHR field workers have been unable to collect information from border areas in the Gaza Strip, because the situation is extremely dangerous in these areas.  Details of the crime that took place in Rafah, which left dozens of deaths, while this update was being written will be published in tomorrow’s update.  The following details are based on the information which the field workers have been able to collect.    From 10:00 on Thursday, 31 July 2014 to 10:00 on Friday, 01 August 2014, according to what PCHR has been able to document, 52 Palestinians, 50 of whom are civilians, including 15 children and 7 women, were killed, and 175 others, including 60 children and 36 women, were wounded.  Medical crews were able to recover the bodies of 4 Palestinians, Four civilians, died of previous wounds.  Additionally, Israeli warplanes and tanks destroyed 22 houses and damaged dozens of flats and public facilities.     The latest developments since the press release issued by PCHR yesterday noon have been as follows:   The Northern Gaza Strip:    Israeli forces launched several airstrikes while Israeli tanks and gunboats fired dozens of artillery shells targeting houses, agricultural plots and open areas.  As a result of these attacks, 39 Palestinian civilians, including 15 children and 7 women, were wounded.  Medical crews recovered the body of a Palestinian civilian.  Israeli forces also targeted and destroyed 2 houses, a chalet, a sheep farm, a dairy products factory and a store of construction materials.    The most significant attacks were as follows:    – On Thursday evening, 31 July 2014, Israeli warplanes launched a number of airstrikes that targeted and destroyed Shuhaiber sheep farm, a house belonging to the guard of al-Fishawi farm, a chalet belonging to the Abu Sahammala family, and a dairy products factory in ‘Aamer Project in the west of Jabalya.  They also targeted and destroyed a house belonging to the Kutkut family in Jabalya.    – At approximately 09:00 on Friday, 01 August 2014, medical crews recovered the body of Zaid Ahmed al-Basyouni, 37, from Beit Hanoun.    Gaza City:    Israeli warplanes launched a number of airstrikes that targeted houses, cars and open areas, while Israeli tanks and gunboats fired dozens of shells at the city.  As a result of these attacks, 7 Palestinian civilians, including a child, were killed, and 11 others, including 2 children and a woman, were wounded.  Medical crews also recovered bodies of 2 young men who were killed a few days ago in al-Shuja’iya neighborhood.     The most significant attacks were as follows:   – At approximately 14:30 on Thursday, 31 July 2014, an Israeli warplane launched a missile at a civilian car in Saladin Street in al-Sha’af neighborhood in the east of Gaza City.  As a result, 2 young men who were traveling in it were killed: Ibrahim Sa’ad Ahmed al-Haddad, 21; and Hamza Fayeq Ahmed al-Haddad, 21.    – At approximately 15:00, Israeli warplanes launched 3 missiles at a 3-storey house belonging to Basheer Ismail al-Ramlawi, in which 20 people live, in al-Jalaa’ Street in the north of Gaza City.  The house was destroyed.  Before the attack, Israeli forces phoned the owner of the house and ordered its evacuation.    – At approximately 15:15, Mousa Hussein Hashem, 80, died of a heart attack, when Israeli warplanes bombarded an open area near his house in al-Sabra neighborhood in the south of Gaza City.   – At approximately 17:30, an Israeli warplane attacked a minibus in Palestinian Square in the center of Gaza City.  As a result, Mohammed and Hussam Ra’fat Na’im, 21 and 16 respectively, were killed.    – At approximately 22:00, Israeli forces positioned in the east of Gaza City opened fire at Maher Ja’far Khalil Hajjaj, 54, when he was on his way back home in al-Tuffah neighborhood in the east of Gaza City.  He was instantly killed by a bullet to the head.  Medical crews were not able to evacuate his body from the area until approximately 08:00 on Friday, 01 August 2014.    – At approximately 08:15 on Friday, 01 August 2014, Israeli forces positioned in the east of Gaza City opened fired at Palestinian civilians who were coming back homes in al-Sha’af neighborhood in the east of Gaza City.  As a result, Amjad Mohammed Hassnain, 21, was killed by a bullet to the head.    – At approximately 09:00, medical crews were able to recover bodies of 2 civilians who were killed by Israeli forces in al-Shuja’iya neighborhood in the east of Gaza City: Ismail Zuhair Mohammadain, 26; and Mo’ammar Fadel Shamali, 35.     The Central Gaza Strip:    Israeli warplanes launched 35 airstrikes and tanks fired dozens of shells at civilians,  houses, a school a number of civilian facilities.  As a result of these attacks, 20 Palestinians, including 7 children and 6 women, were killed, and 51 others, including 23 children and 9 women, were wounded.  Additionally, Israeli warplanes targeted 5 houses and destroyed 3 of them.  Israeli forces also attacked a school.    The most significant attacks were as follows:   – At approximately 10:30 on Thursday, 31 July 2014, Israeli warplanes launched 2 missiles at a 3-storey house belonging to Mohammed Salama Baroud, 42, in which 20 people live, in al-Nussairat refugee camp.  The house was destroyed.    – At approximately 11:30, a number of Israeli artillery shells hit al-Maghazi Preparatory School damaging it.  No casualties were reported.   – At approximately 13:30, medical sources declared that Yasser Yousef Abu Dabbagh, 20, died of previous wounds he had sustained on 25 July 2014 by Israeli shelling.    – At approximately 16:30, an Israeli drone fired a missile at the vicinity of a house belonging Hatem ‘Abdul Karim al-Louh in Deir al-Balah.  As a result, the owner’s son, Kamal, 32, was killed.    – At approximately 17:25, while members of the al-Louh family were on their way to al-Aqsa Martyrs Hospital, an Israeli drone fired a missile at their car.  As a result, 4 members of the family, including a woman, were killed: Amal ‘Abdul Karim al-Masri, 45; Ilham Yahia al-Louh, 27; Ibrahim ‘Abdul Karim al-Louh, 33; and Khaled Jamal al-Louh, 41.    – At approximately 17:30, an Israeli drone fired a missile at Mohammed ‘Ammar Shalat, 10, when he was near his family’s house in al-Zawaida village.  The child was instantly killed.    – At approximately 19:30, an Israeli drone fired a missile at a 2-storey house belonging to Sameer Furaaih al-Jammal, in which 24 people live.  The house was destroyed.    – At approximately 20:00, an Israeli warplane launched a missile without a prior warning at a 3-storey house belonging to the heirs of ‘Abdul Hamid Yousef al-Bayoumi, in which 30 people live, in al-Nussairat refugee camp.  The house was destroyed over the family and their neighbors.  As a result, 12 Palestinian civilians were killed: Ne’ma Darwish Abu Shouqa, 43; Labiba Ibrahim Abu Shouqa, 22; Ilham Ibrahim Abu Shouqa, 18; Malak Shaker Abu Shouqa, 2; Hassan Nasser Zaqqout, 21; ‘Abeer ‘Aamer al-Bayoumi, 27; Aseel ‘Aamer al-Bayoumi, 16; Hadeel ‘Aamer al-Bayoumi, 15; Hassan Mohammed al-Bayoumi, 12; ‘Aabeer Nahidh al-‘Assar, 27, pregnant; Rinad Ashraf al-‘Assar, 1; and Lama Ra’fat al-‘Assar, 6. Additionally, 30 civilians, including 15 children and 4 women, were wounded.    – At approximately 21:30, an Israeli warplane launched a missile at a 3-storey house belonging to Mahmoud ‘Othman al-‘Othmani, in which 12 people live, in al-Maghazi refugee camp.  The house was destroyed and 7 Palestinian civilians, including a child and a woman, were wounded.    – Also at approximately 21:30, an Israeli drone fired a missile at a number of Palestinian civilians in al-Boreij refugee camp.  As a result, 2 civilians were killed: Mahmoud ‘Aadel ‘Aashour, 19; and Zaher Tawfiq Abu Maktouma, 31.    – At approximately 00:00 on Friday, 01 August 2014, medical sources declared that Mohammed Ahmed Hamad, 26, died of wounds he had sustained on 25 July 2014 when Israeli forces shelled al-Nussairat refugee camp.    – In the morning, medical crews were able to recover bodies of 2 members of Palestinian armed groups from Juhor al-Dik village.    Khan Yunis:    Israeli warplanes launched a number of airstrikes and tanks and gunboats fired dozens of shells at Palestinian civilians and property in Khan Yunis.  As a result of these attacks, 19 Palestinians, including 6 children and 2 women, were killed, and 65 others, including 18 children and 16 women, were wounded.  Medical crews recovered the body of a Palestinian civilian.  Twelve houses were also destroyed, and other ones were damaged.    The most significant attacks were as follows:    – On Thursday morning, 31 July 2014, an Israeli drone fired a missile at a 2-storey house belonging to ‘Azmi Salem Qudaih, in which 8 people live, in ‘Abassan village, east of Khan Yunis.  A few minutes later, an Israeli warplane fired a missile at the house and destroyed it.   – At approximately 10:30, an Israeli warplane launched a missile at a store, in which humanitarian aids were destroyed, under a house in Bani Suhaila village.  The store was completely destroyed.    – At approximately 23:50, an Israeli warplane launched a missile at a house belonging to the al-Reqeb family.  The house was largely destroyed.    – At approximately 12:30, an Israeli warplane launched a missile at a house belonging to Saber Fusaifes in Bani Suhaila village.  The house was largely destroyed.    – At approximately 12:20, an Israeli warplane launched a missile at a 4-storey house belonging to Marzouq Abu Shihada in Bani Suhaila village. A few minutes later, an Israeli warplane launched a missile at the house and destroyed it.    – At approximately 14:10, an Israeli drone fired a missile at a 4-storey house belonging to the heirs of Qassem ‘Abdullah Safi, in which 50 people live in al-Farra Street in the center of Khan Yunis.  A few minutes later, an Israeli warplane launched a missile at the house and destroyed it.  A child was wounded.    – At approximately 14:10, an Israeli warplane launched a missile at a 3-storey house belonging to Kamel Saleem al-Saqqa in al-Qarara village.  The house was destroyed.  It should be noted that an Israeli drone fired a missile at the house on 16 July 2014.    – At approximately 17:30, an Israeli drone fired a missile at a house belonging to Taqfiq Abu Shammala in Khan Yunis refugee camp.  A few minutes later, an Israeli warplane launched a missile at the house and destroyed it.    – Also at approximately 17:30, an Israeli drone fired a missile at a 2-storey house belonging to Shadi Baroud in Khan Yunis refugee camp.  A few minutes later, an Israeli warplane launched a missile at the house and destroyed it. A number of neighboring houses were damaged.     – At approximately 19:10, an Israeli warplane launched a missile at a house belonging to Fadel Abu Shahla in Bani Suhaila village.  The house was destroyed and a number of Palestinian civilians were wounded.    – In the evening, medical crews recovered the body of Tha’er Naji al-‘Omour from al-Fukhari area in the southeast of Khan Yunis.  He was killed by Israeli shelling.    – At approximately 20:00, an Israeli warplane launched a missile at a house belonging to Juhad Miqbel Sha’at, in which 4 people live, in Gizan al-Najjar area in the south of Khan Yunis.  The house was destroyed and Sha’at’s wife, Sihab Basheer Sha’at (al-Lahham), 24, was killed, and their child, Mo’tassem, 45 days, was wounded.  Two neighboring houses were also damaged.   – At approximately 20:10, an Israeli warplane launched a missiles at the vicinity of Bani Suhaila Municipality.  The building was damaged.    – At approximately 20:30, an Israeli warplane launched a missile at al-Sahaba Mosque in al-Qarara village, destroying it.    – At approximately 21:00, an Israeli drone fired a missile at a number of Palestinian civilians in al-Qarara village.  As a result, Mohammed Yousef al-‘Abadla, 21.    – Also at approximately 21:00, an Israeli drone fired a missile at a 2-storey house belonging to Mohammed Shareef Abu Daqqa in Bani Suhaila village.  A few minutes later, an Israeli warplane launched a missile at the house and destroyed it.    – In the evening, medical sources in the European Gaza Hospital declared that Ahmed Saleem ‘Aabdin, 21, and Mohammed Ahmed Hamad, died of previous wounds they had sustained by Israeli shelling.    – At approximately 22:45, an Israeli drone fired a missile at a motorbike in Jourat al-‘Aaqqad area in Khan Yunis refugee camp.  As a result, Mahmoud Dahlan was killed.    – At approximately 23:00, an Israeli drone fired a missile at the vicinity of ‘Abdul Hadi gas station in Khan Yunis refugee camp.  As a result, Sameeh Kamal Abu al-Khair, 50, was killed, and 7 others were wounded.    – At approximately 03:10 on Friday, 03:10, Israeli drones fired 3 missiles at a 3-storey house belonging to ‘Abdul Malek ‘Abdul Salam al-Farra, 60, in which 50 people live, in Ma’an area.  The missiles penetrated the second and third floors and caused extensive damage.  A number of members of the family were also wounded.  While the family were trying to leave the house, an Israeli warplane launched a missile at the house when members of the family were less than 50 meters away from the house. As a result, 9 members of the family, including 4 children and 2 women, were killed: ‘Abdul Malek ‘Abdul Salam al-Farra, 60; Ussama ‘Abdul Malek al-Farra, 34; ‘Awatef ‘Aziz al-Din al-Farra, 31, pregnant in  the 8th month; ‘Abdul Rahman and Lujain Bassem al-Farra, 8 and 4, respectively; Nadine, Mohammed and Yara Mahmoud al-Farra, 16, 12 and 8 respectively; and ‘Emad Nasrallah al-Farra, 28.    – At approximately 04:30, Israeli tanks that had moved into al-Zanna area fired a number of shells at houses in al-Saqia Street in Bani Suhaila village.  As a result, 6 Palestinian civilians were killed: Mohammed Salman al-Buraim, 25; Ra’fat Salman al-Buraim, 7; ‘Abdullah ‘Awadh al-Buraim, 23; Hussam and Sami Salman al-Madani, 18 and 20 respectively; and Ra’ed ‘Abdul Latif al-Qarra, 39.      Rafah:   Israeli warplanes launched 35 airstrikes and Israeli tanks and gunboats fired dozens of shells targeting houses, training site,  agricultural plots and open areas.  As a result of these attacks, 6 Palestinians, 4 of whom are civilians, including a child and an old man, were killed, and 8 others, including 2 children and 3 women, were wounded.  A house and a flat were destroyed.    The most significant attacks were as follows:   – At approximately 11:35 on Thursday, 31 July 2014, an Israeli warplane fired a missile at  a motorbike near the eastern cemetery in al-Salam neighborhood in the south of Rafah.  As a result, a member of a Palestinian armed group who was riding the motorbike was killed.     – At approximately 14:20, an Israeli warplane launched a missile at an open area in the east of Rafah.     – At approximately 14:55, an Israeli drone fired a missile at an uninhabited flat in Zo’rob beguiling in the center of Rafah.  The flat was partially destroyed and a  number of nearby houses were damaged.    – At approximately 18:20, an Israeli drone fired a missile at ‘Atiya Salama al-Hashash, 68, when he was on his land in al-Hashash neighborhood in the north of Rafah.  He was instantly killed.   – At approximately 19:05, an Israeli warplane launched a missile at the destroyed Gaza International Airport in the southeast of Rafah.     – At approximately 19:10, an Israeli warplane launched a missile near Abu Mo’ammar pool in al-Shouka village, east of Rafah.    – At approximately 19:25, an Israeli warplane launched a missile at an agricultural plot belonging to the Abu Halawa family in al-Shouka village, east of Rafah.     – At approximately 19:35, an Israeli warplane launched a missile at an open area in al-Tannour neighborhood in the east of Rafah.    – Also at approximately 19:35. An Israeli warplane launched a missile at a site of the ‘Izziddin al-Qassam Brigades (the armed wing of Hamas) in Tabbat Zare’ area in the east of Rafah.   – At approximately 19:45, Israeli warplanes launched 2 missiles at an agricultural plot belonging to the Abu Halawa family in al-Shouka village, east of Rafah.    – At approximately 19:55, an Israeli warplane launched a missile at an open area in al-Shouka village, east of Rafah.    – At approximately 20:00, an Israeli warplane launched a missile at an agricultural plot behind Bahloul gas station in al-Shouka village, east of Rafah.      – At approximately 20:05, an Israeli drone fired a missile at a member of a Palestinian armed group in al-Nasser village, northeast of Rafah, wounding him. When a number of civilians attempted to offer him help, the Israeli drone fired another missile at them.  As a result, ‘Othman Fawzi ‘Abadin, 17, was killed and 3 others were wounded.  The armed group member died of his wounds 2 hours later.   – At approximately 21:35, Israeli warplanes launched 2 missile at an agricultural plot belonging to the Abu Halawa family in al-Shouka village, east of Rafah.    – At approximately 00:25 on Friday, 01 August 2014, Israeli warplanes launched 2 missiles at a site of the ‘Izziddin al-Qassam Brigades (the armed wing of Hamas) in Tabbat Zare’ area in the east of Rafah.    – At approximately 01:20, Israeli warplanes launched 2 missiles at an agricultural plot in al-Salam neighborhood in the south of Rafah.   – At approximately 04:05, an Israeli warplane launched a missile at an open area in the east of Rafah.    – At approximately 04:10, Israeli forces fired dozens of shells at house and agricultural areas in the east of Rafah.    – At approximately 06:55, Israeli warplanes launched 10 missiles at the tunnels area along the Egyptian border, south of Rafah.    – At approximately 07:00, an Israeli warplane launched a missile without a prior warning at a house belonging to Suleiman Zayed Abu ‘Omran, in which 13 people live, in Tabbat Zare’ area in the east of Rafah. The house was destroyed, and 2 of the owner’s relatives were killed: Hilal ‘Eid Abu ‘Omran, 23’ and Mousa Hamad Abu ‘Omran, 45.  Two women were also old wounded.  Other members of the family are still missing under the debris.    – A humanitarian truce entered into force at 08:00, and thousands of Palestinian civilians returned to their homes from which they were displaced in al-Shouka village, east of Rafah.  At approximately 09:15, Israeli tanks and helicopter gunships opened fire indiscriminately at these civilians and at Abu Youef al-Najjar Hospital in al-Junaina neighborhood.  As a result, dozens of Palestinian civilians were killed and hundreds of others were wounded.  (PCHR field workers are currently documenting this crime, and details will be published in the daily update that will be published on Saturday, 02 August 2014).    PCHR reiterates condemnation, expresses utmost concern for these crimes, and:   1) Warns of deterioration of the humanitarian situation in the Gaza Strip in light of this continuous Israeli military escalation, threats to expand military operations, and the continued tightened closure of the Gaza Strip;  2) Calls upon the international community to act immediately to stop these crimes, and renews the call to the High Contracting Parties of the Fourth Geneva Convention to fulfill their obligation under Article 1 of the Convention to ensure that it is respected at all times, and their responsibilities under Article 146 to pursue perpetrators of serious violations of the Convention, which are determined in Article 147, which lists violations of the Convention amounting to war crimes; and 3) Calls for establishing a UN fact-finding mission to investigate suspected war crimes committed by Israeli forces against Palestinian civilians in the Gaza Strip, and take necessary steps to prosecute responsible for them.          SHARE  Facebook Twitter    Previous articleOn the 24th Day of the Israeli Offensive: Indiscriminate Artillery Shelling Most Dangerous to Civilians; 30 Palestinian Civilians, Including 10 Members of One Family Killed in Public Market in al-Shuja’iya; No One Is Immune; 2 Journalists, Paramedic and 2Next articleDuring Protests in the West Bank against the Israeli Offensive on the Gaza Strip, 2 Palestinian Civilians Killed and 95 Others Wounded, Including 30 Children admin   RELATED ARTICLESMORE FROM AUTHOR      PRESS RELEASES   Israeli Naval Forces Continue to Chase Palestinian Fishermen in Gaza Sea; 5 Fishermen Arrested and 2 Fishing Boats Confiscated         Main   PCHR Follows up with Concern Excessive Use of Force by Security Services to Disperse Demonstration in Jabalia Refugee Camp         PRESS RELEASES   Israeli Authorities Continue to Apply Collective Punishment Measures against Palestinian Civilians in Occupied Jerusalem         PRESS RELEASES   Palestinian Authority Continues its Policy of Removing Encroachments on Government-Owned Land: Land Authority in Gaza Strip Notifies 45 houses to be Totally Demolished in American...         PRESS RELEASES   PCHR Condemns Arrest of Civilian on Grounds of Opinion Expression          PRESS RELEASES   Two Death Sentences in Gaza: PCHR Calls upon Palestinian President to End Death Penalty particularly in Light of Division         PRESS RELEASES   Israeli Forces Execute Palestinian Civilian at Point-Blank Range in al-Far’ah Refugee Camp         Main   Increasingly Aggravated Electricity Crisis Reveals Miserable Failure of Parties Administrating Electricity Sector in Gaza; PCHR Calls upon National Unity Government to Take full Responsibility...         Main   PCHR Welcomes UN Resolution On Israeli Settlements         PRESS RELEASES   Five PLC Members Brought to Account after their Immunity Lifted; PCHR Refuses Employing the “Law” to Oppress Political Opponents                         POPULAR CATEGORIES    NEW ARTICLES      Israeli Attacks on Fishermen in the Gaza Sea  January 16, 2017           Weekly Report On Israeli Human Rights Violations in the Occupied Palestinian...  January 19, 2017          READ MORE ..     Weekly Report On Israeli Human Rights Violations in the Occupied Palestinian...  January 19, 2017           Israeli Attacks on Fishermen in the Gaza Sea  January 16, 2017              ABOUT USThe Palestinian Centre for Human Rights (PCHR) is a Non-Governmental Organisation (NGO) based in Gaza City.  ... More FOLLOW US           \\r                     © Copyright 2016 - Palestinian Center for Human Rights                                    '"
      ]
     },
     "execution_count": 149,
     "metadata": {},
     "output_type": "execute_result"
    }
   ],
   "source": [
    "text = text.replace('\\n', ' ')\n",
    "text.replace('\\xa0', ' ')"
   ]
  },
  {
   "cell_type": "code",
   "execution_count": 126,
   "metadata": {
    "collapsed": false
   },
   "outputs": [],
   "source": [
    "cumb = [item.strip() for item in soup.findAll(text=True) if str(item)]"
   ]
  },
  {
   "cell_type": "code",
   "execution_count": 128,
   "metadata": {
    "collapsed": false
   },
   "outputs": [
    {
     "data": {
      "text/plain": [
       "'doctype html  [if IE 8]>    <html class=\"ie8\" lang=\"en\"> <![endif]  [if IE 9]>    <html class=\"ie9\" lang=\"en\"> <![endif]  [if gt IE 8]><!   <![endif]   On the 25th Day of the Israeli Offensive: Humanitarian Truce Collapse Less Than One Hour of Its Entry into Force; Dozens of Palestinian Civilians Killed and Hundreds Wounded by Israeli Shelling in Rafah; Before Collapse of Truce, Bodies of Dozens of Pales | Palestinian Center for Human Rights                                      [if lt IE 9]><script src=\"http://html5shim.googlecode.com/svn/trunk/html5.js\"></script><![endif]   [if lte IE 9]><link rel=\"stylesheet\" type=\"text/css\" href=\"http://pchrgaza.org/en/wp-content/plugins/js_composer/assets/css/vc_lte_ie9.css\" media=\"screen\"><![endif] [if IE  8]><link rel=\"stylesheet\" type=\"text/css\" href=\"http://pchrgaza.org/en/wp-content/plugins/js_composer/assets/css/vc-ie8.css\" media=\"screen\"><![endif]  JS generated by theme   Header style compiled by theme         mobile menu close   CLOSE                   Header style 8      DONATE NOW  عربي     Monday, January 23, 2017                                       Search                                   Home   PRESS RELEASES   On the 25th Day of the Israeli Offensive: Humanitarian Truce Collapse Less...     On the 25th Day of the Israeli Offensive: Humanitarian Truce Collapse Less Than One Hour of Its Entry into Force; Dozens of Palestinian Civilians Killed and Hundreds Wounded by Israeli Shelling in Rafah; Before Collapse of Truce, Bodies of Dozens of Pales   August 1, 2014  104             Share on Facebook  Tweet on Twitter       Print  Ref: 111/2014  Time: 07:00 GMT      Since the Beginning of the Israeli Offensive on Gaza:  1,492 Palestinians Killed, of Whom 1,277 Are Civilians, Including 360 Children and 193 Women, and 6,686 Others Wounded, Mostly Civilians, Including 1,846 Children and 1,275 Women;  702 Houses Targeted and Destroyed  and Hundreds of Others Extensively Damaged  400,000 Palestinians Forcibly Displaced       Israeli occupation forces have continued their brutal and immoral offensive on the Gaza Strip for the 24 th consecutive day, and have continued the policy of collective punishment in disregard for the international law and humanitarian law, which ensure protection for civilians in times of war, and in violation of the principles of necessity, proportionality and distinction. Israeli forces have continued their aerial, ground and sea attacks throughout the Gaza Strip, causing more civilian casualties and damaging civilian facilities. Israeli forces escalated their attacks throughout the Gaza Strip. Electricity supplies have been off in the Gaza Strip for the 4 th consecutive day.\\xa0 Municipalities face extreme difficulties in their work due to the lack of fuel supplies and because if Israeli attacks.\\xa0 These developments raise concerns regarding public health in Gaza Strip, which is one of the most densely populated areas in the world. The crisis has further aggravated as at least 400,000 civilians were forcibly displaced from their homes, and were forced to resort to shelters in the centers of towns and refugee camps.    PCHR field workers have been unable to collect information from border areas in the Gaza Strip, because the situation is extremely dangerous in these areas.\\xa0 Details of the crime that took place in Rafah, which left dozens of deaths, while this update was being written will be published in tomorrow’s update.\\xa0 The following details are based on the information which the field workers have been able to collect.     From 10:00 on Thursday, 31 July 2014 to 10:00 on Friday, 01 August 2014, according to what PCHR has been able to document, 52 Palestinians, 50 of whom are civilians, including 15 children and 7 women, were killed, and 175 others, including 60 children and 36 women, were wounded.\\xa0 Medical crews were able to recover the bodies of 4 Palestinians, Four civilians, died of previous wounds.\\xa0 Additionally, Israeli warplanes and tanks destroyed 22 houses and damaged dozens of flats and public facilities.     The latest developments since the press release issued by PCHR yesterday noon have been as follows:    The Northern Gaza Strip:    Israeli forces launched several airstrikes while Israeli tanks and gunboats fired dozens of artillery shells targeting houses, agricultural plots and open areas.\\xa0 As a result of these attacks, 39 Palestinian civilians, including 15 children and 7 women, were wounded.\\xa0 Medical crews recovered the body of a Palestinian civilian.\\xa0 Israeli forces also targeted and destroyed 2 houses, a chalet, a sheep farm, a dairy products factory and a store of construction materials.    The most significant attacks were as follows:    [if !supportLists] –  [endif] On Thursday evening, 31 July 2014, Israeli warplanes launched a number of airstrikes that targeted and destroyed Shuhaiber sheep farm, a house belonging to the guard of al-Fishawi farm, a chalet belonging to the Abu Sahammala family, and a dairy products factory in ‘Aamer Project in the west of Jabalya.\\xa0 They also targeted and destroyed a house belonging to the Kutkut family in Jabalya.    [if !supportLists] –  [endif] At approximately 09:00 on Friday, 01 August 2014, medical crews recovered the body of Zaid Ahmed al-Basyouni, 37, from Beit Hanoun.    Gaza City:    Israeli warplanes launched a number of airstrikes that targeted houses, cars and open areas, while Israeli tanks and gunboats fired dozens of shells at the city.\\xa0 As a result of these attacks, 7 Palestinian civilians, including a child, were killed, and 11 others, including 2 children and a woman, were wounded.\\xa0 Medical crews also recovered bodies of 2 young men who were killed a few days ago in al-Shuja’iya neighborhood.    The most significant attacks were as follows:    [if !supportLists] –  [endif] At approximately 14:30 on Thursday, 31 July 2014, an Israeli warplane launched a missile at a civilian car in Saladin Street in al-Sha’af neighborhood in the east of Gaza City.\\xa0 As a result, 2 young men who were traveling in it were killed: Ibrahim Sa’ad Ahmed al-Haddad, 21; and Hamza Fayeq Ahmed al-Haddad, 21.    [if !supportLists] –  [endif] At approximately 15:00, Israeli warplanes launched 3 missiles at a 3-storey house belonging to Basheer Ismail al-Ramlawi, in which 20 people live, in al-Jalaa’ Street in the north of Gaza City.\\xa0 The house was destroyed.\\xa0 Before the attack, Israeli forces phoned the owner of the house and ordered its evacuation.    [if !supportLists] –  [endif] At approximately 15:15, Mousa Hussein Hashem, 80, died of a heart attack, when Israeli warplanes bombarded an open area near his house in al-Sabra neighborhood in the south of Gaza City.    [if !supportLists] –  [endif] At approximately 17:30, an Israeli warplane attacked a minibus in Palestinian Square in the center of Gaza City.\\xa0 As a result, Mohammed and Hussam Ra’fat Na’im, 21 and 16 respectively, were killed.    [if !supportLists] –  [endif] At approximately 22:00, Israeli forces positioned in the east of Gaza City opened fire at Maher Ja’far Khalil Hajjaj, 54, when he was on his way back home in al-Tuffah neighborhood in the east of Gaza City.\\xa0 He was instantly killed by a bullet to the head.\\xa0 Medical crews were not able to evacuate his body from the area until approximately 08:00 on Friday, 01 August 2014.    [if !supportLists] –  [endif] At approximately 08:15 on Friday, 01 August 2014, Israeli forces positioned in the east of Gaza City opened fired at Palestinian civilians who were coming back homes in al-Sha’af neighborhood in the east of Gaza City.\\xa0 As a result, Amjad Mohammed Hassnain, 21, was killed by a bullet to the head.    [if !supportLists] –  [endif] At approximately 09:00, medical crews were able to recover bodies of 2 civilians who were killed by Israeli forces in al-Shuja’iya neighborhood in the east of Gaza City: Ismail Zuhair Mohammadain, 26; and Mo’ammar Fadel Shamali, 35.    The Central Gaza Strip:    Israeli warplanes launched 35 airstrikes and tanks fired dozens of shells at civilians, \\xa0houses, a school a number of civilian facilities. As a result of these attacks, 20 Palestinians, including 7 children and 6 women, were killed, and 51 others, including 23 children and 9 women, were wounded.\\xa0 Additionally, Israeli warplanes targeted 5 houses and destroyed 3 of them. Israeli forces also attacked a school.    The most significant attacks were as follows:    [if !supportLists] –  [endif] At approximately 10:30 on Thursday, 31 July 2014, Israeli warplanes launched 2 missiles at a 3-storey house belonging to Mohammed Salama Baroud, 42, in which 20 people live, in al-Nussairat refugee camp. The house was destroyed.    [if !supportLists] –  [endif] At approximately 11:30, a number of Israeli artillery shells hit al-Maghazi Preparatory School damaging it.\\xa0 No casualties were reported.    [if !supportLists] –  [endif] At approximately 13:30, medical sources declared that Yasser Yousef Abu Dabbagh, 20, died of previous wounds he had sustained on 25 July 2014 by Israeli shelling.    [if !supportLists] –  [endif] At approximately 16:30, an Israeli drone fired a missile at the vicinity of a house belonging Hatem ‘Abdul Karim al-Louh in Deir al-Balah.\\xa0 As a result, the owner’s son, Kamal, 32, was killed.    [if !supportLists] –  [endif] At approximately 17:25, while members of the al-Louh family were on their way to al-Aqsa Martyrs Hospital, an Israeli drone fired a missile at their car.\\xa0 As a result, 4 members of the family, including a woman, were killed: Amal ‘Abdul Karim al-Masri, 45; Ilham Yahia al-Louh, 27; Ibrahim ‘Abdul Karim al-Louh, 33; and Khaled Jamal al-Louh, 41.    [if !supportLists] –  [endif] At approximately 17:30, an Israeli drone fired a missile at Mohammed ‘Ammar Shalat, 10, when he was near his family’s house in al-Zawaida village.\\xa0 The child was instantly killed.    [if !supportLists] –  [endif] At approximately 19:30, an Israeli drone fired a missile at a 2-storey house belonging to Sameer Furaaih al-Jammal, in which 24 people live.\\xa0 The house was destroyed.    [if !supportLists] –  [endif] At approximately 20:00, an Israeli warplane launched a missile without a prior warning at a 3-storey house belonging to the heirs of ‘Abdul Hamid Yousef al-Bayoumi, in which 30 people live, in al-Nussairat refugee camp.\\xa0 The house was destroyed over the family and their neighbors.\\xa0 As a result, 12 Palestinian civilians were killed: Ne’ma Darwish Abu Shouqa, 43; Labiba Ibrahim Abu Shouqa, 22; Ilham Ibrahim Abu Shouqa, 18; Malak Shaker Abu Shouqa, 2; Hassan Nasser Zaqqout, 21; ‘Abeer ‘Aamer al-Bayoumi, 27; Aseel ‘Aamer al-Bayoumi, 16; Hadeel ‘Aamer al-Bayoumi, 15; Hassan Mohammed al-Bayoumi, 12; ‘Aabeer Nahidh al-‘Assar, 27, pregnant; Rinad Ashraf al-‘Assar, 1; and Lama Ra’fat al-‘Assar, 6. Additionally, 30 civilians, including 15 children and 4 women, were wounded.    [if !supportLists] –  [endif] At approximately 21:30, an Israeli warplane launched a missile at a 3-storey house belonging to Mahmoud ‘Othman al-‘Othmani, in which 12 people live, in al-Maghazi refugee camp.\\xa0 The house was destroyed and 7 Palestinian civilians, including a child and a woman, were wounded.    [if !supportLists] –  [endif] Also at approximately 21:30, an Israeli drone fired a missile at a number of Palestinian civilians in al-Boreij refugee camp.\\xa0 As a result, 2 civilians were killed:  Mahmoud ‘Aadel ‘Aashour, 19; and Zaher Tawfiq Abu Maktouma, 31.    [if !supportLists] –  [endif] At approximately 00:00 on Friday, 01 August 2014, medical sources declared that Mohammed Ahmed Hamad, 26, died of wounds he had sustained on 25 July 2014 when Israeli forces shelled al-Nussairat refugee camp.    [if !supportLists] –  [endif] In the morning, medical crews were able to recover bodies of 2 members of Palestinian armed groups from Juhor al-Dik village.    Khan Yunis:    Israeli warplanes launched a number of airstrikes and tanks and gunboats fired dozens of shells at Palestinian civilians and property in Khan Yunis.\\xa0 As a result of these attacks, 19 Palestinians, including 6 children and 2 women, were killed, and 65 others, including 18 children and 16 women, were wounded.\\xa0 Medical crews recovered the body of a Palestinian civilian.\\xa0 Twelve houses were also destroyed, and other ones were damaged.    The most significant attacks were as follows:    [if !supportLists] –  [endif] On Thursday morning, 31 July 2014, an Israeli drone fired a missile at a 2-storey house belonging to ‘Azmi Salem Qudaih, in which 8 people live, in ‘Abassan village, east of Khan Yunis.\\xa0 A few minutes later, an Israeli warplane fired a missile at the house and destroyed it.    [if !supportLists] –  [endif] At approximately 10:30, an Israeli warplane launched a missile at a store, in which humanitarian aids were destroyed, under a house in Bani Suhaila village.\\xa0 The store was completely destroyed.    [if !supportLists] –  [endif] At approximately 23:50, an Israeli warplane launched a missile at a house belonging to the al-Reqeb family.\\xa0 The house was largely destroyed.    [if !supportLists] –  [endif] At approximately 12:30, an Israeli warplane launched a missile at a house belonging to Saber Fusaifes in Bani Suhaila village.\\xa0 The house was largely destroyed.    [if !supportLists] –  [endif] At approximately 12:20, an Israeli warplane launched a missile at a 4-storey house belonging to Marzouq Abu Shihada in Bani Suhaila village. A few minutes later, an Israeli warplane launched a missile at the house and destroyed it.    [if !supportLists] –  [endif] At approximately 14:10, an Israeli drone fired a missile at a 4-storey house belonging to the heirs of Qassem ‘Abdullah Safi, in which 50 people live in al-Farra Street in the center of Khan Yunis. A few minutes later, an Israeli warplane launched a missile at the house and destroyed it.\\xa0 A child was wounded.    [if !supportLists] –  [endif] At approximately 14:10, an Israeli warplane launched a missile at a 3-storey house belonging to Kamel Saleem al-Saqqa in al-Qarara village.\\xa0 The house was destroyed.\\xa0 It should be noted that an Israeli drone fired a missile at the house on 16 July 2014.    [if !supportLists] –  [endif] At approximately 17:30, an Israeli drone fired a missile at a house belonging to Taqfiq Abu Shammala in Khan Yunis refugee camp. A few minutes later, an Israeli warplane launched a missile at the house and destroyed it.    [if !supportLists] –  [endif] Also at approximately 17:30, an Israeli drone fired a missile at a 2-storey house belonging to Shadi Baroud in Khan Yunis refugee camp.\\xa0 A few minutes later, an Israeli warplane launched a missile at the house and destroyed it. A number of neighboring houses were damaged.    [if !supportLists] –  [endif] At approximately 19:10, an Israeli warplane launched a missile at a house belonging to Fadel Abu Shahla in Bani Suhaila village.\\xa0 The house was destroyed and a number of Palestinian civilians were wounded.    [if !supportLists] –  [endif] In the evening, medical crews recovered the body of Tha’er Naji al-‘Omour from al-Fukhari area in the southeast of Khan Yunis. He was killed by Israeli shelling.    [if !supportLists] –  [endif] At approximately 20:00, an Israeli warplane launched a missile at a house belonging to Juhad Miqbel Sha’at, in which 4 people live, in Gizan al-Najjar area in the south of Khan Yunis.\\xa0 The house was destroyed and Sha’at’s wife, Sihab Basheer Sha’at (al-Lahham), 24, was killed, and their child, Mo’tassem, 45 days, was wounded.\\xa0 Two neighboring houses were also damaged.    [if !supportLists] –  [endif] At approximately 20:10, an Israeli warplane launched a missiles at the vicinity of Bani Suhaila Municipality.\\xa0 The building was damaged.    [if !supportLists] –  [endif] At approximately 20:30, an Israeli warplane launched a missile at al-Sahaba Mosque in al-Qarara village, destroying it.    [if !supportLists] –  [endif] At approximately 21:00, an Israeli drone fired a missile at a number of Palestinian civilians in al-Qarara village. As a result, Mohammed Yousef al-‘Abadla, 21.    [if !supportLists] –  [endif] Also at approximately 21:00, an Israeli drone fired a missile at a 2-storey house belonging to Mohammed Shareef Abu Daqqa in Bani Suhaila village.\\xa0 A few minutes later, an Israeli warplane launched a missile at the house and destroyed it.    [if !supportLists] –  [endif] In the evening, medical sources in the European Gaza Hospital declared that Ahmed Saleem ‘Aabdin, 21, and Mohammed Ahmed Hamad, died of previous wounds they had sustained by Israeli shelling.    [if !supportLists] –  [endif] At approximately 22:45, an Israeli drone fired a missile at a motorbike in Jourat al-‘Aaqqad area in Khan Yunis refugee camp. As a result, Mahmoud Dahlan was killed.    [if !supportLists] –  [endif] At approximately 23:00, an Israeli drone fired a missile at the vicinity of ‘Abdul Hadi gas station in Khan Yunis refugee camp. As a result, Sameeh Kamal Abu al-Khair, 50, was killed, and 7 others were wounded.    [if !supportLists] –  [endif] At approximately 03:10 on Friday, 03:10, Israeli drones fired 3 missiles at a 3-storey house belonging to ‘Abdul Malek ‘Abdul Salam al-Farra, 60, in which 50 people live, in Ma’an area.\\xa0 The missiles penetrated the second and third floors and caused extensive damage.\\xa0 A number of members of the family were also wounded.\\xa0 While the family were trying to leave the house, an Israeli warplane launched a missile at the house when members of the family were less than 50 meters away from the house. As a result, 9 members of the family, including 4 children and 2 women, were killed: ‘Abdul Malek ‘Abdul Salam al-Farra, 60; Ussama ‘Abdul Malek al-Farra, 34; ‘Awatef ‘Aziz al-Din al-Farra, 31, pregnant in the 8 th month; ‘Abdul Rahman and Lujain Bassem al-Farra, 8 and 4, respectively; Nadine, Mohammed and Yara Mahmoud al-Farra, 16, 12 and 8 respectively; and ‘Emad Nasrallah al-Farra, 28.    [if !supportLists] –  [endif] At approximately 04:30, Israeli tanks that had moved into al-Zanna area fired a number of shells at houses in al-Saqia Street in Bani Suhaila village.\\xa0 As a result, 6 Palestinian civilians were killed: Mohammed Salman al-Buraim, 25; Ra’fat Salman al-Buraim, 7; ‘Abdullah ‘Awadh al-Buraim, 23; Hussam and Sami Salman al-Madani, 18 and 20 respectively; and Ra’ed ‘Abdul Latif al-Qarra, 39.    Rafah:    Israeli warplanes launched 35 airstrikes and Israeli tanks and gunboats fired dozens of shells targeting houses, training site,\\xa0 agricultural plots and open areas.\\xa0 As a result of these attacks, 6 Palestinians, 4 of whom are civilians, including a child and an old man, were killed, and 8 others, including 2 children and 3 women, were wounded.\\xa0 A house and a flat were destroyed.    The most significant attacks were as follows:    [if !supportLists] –  [endif] At approximately 11:35 on Thursday, 31 July 2014, an Israeli warplane fired a missile at\\xa0 a motorbike near the eastern cemetery in al-Salam neighborhood in the south of Rafah.\\xa0 As a result, a member of a Palestinian armed group who was riding the motorbike was killed.     [if !supportLists] –  [endif] At approximately 14:20, an Israeli warplane launched a missile at an open area in the east of Rafah.    [if !supportLists] –  [endif] At approximately 14:55, an Israeli drone fired a missile at an uninhabited flat in Zo’rob beguiling in the center of Rafah. The flat was partially destroyed and a number of nearby houses were damaged.    [if !supportLists] –  [endif] At approximately 18:20, an Israeli drone fired a missile at ‘Atiya Salama al-Hashash, 68, when he was on his land in al-Hashash neighborhood in the north of Rafah.\\xa0 He was instantly killed.    [if !supportLists] –  [endif] At approximately 19:05, an Israeli warplane launched a missile at the destroyed Gaza International Airport in the southeast of Rafah.    [if !supportLists] –  [endif] At approximately 19:10, an Israeli warplane launched a missile near Abu Mo’ammar pool in al-Shouka village, east of Rafah.    [if !supportLists] –  [endif] At approximately 19:25, an Israeli warplane launched a missile at an agricultural plot belonging to the Abu Halawa family in al-Shouka village, east of Rafah.    [if !supportLists] –  [endif] At approximately 19:35, an Israeli warplane launched a missile at an open area in al-Tannour neighborhood in the east of Rafah.    [if !supportLists] –  [endif] Also at approximately 19:35. An Israeli warplane launched a missile at a site of the ‘Izziddin al-Qassam Brigades (the armed wing of Hamas) in Tabbat Zare’ area in the east of Rafah.    [if !supportLists] –  [endif] At approximately 19:45, Israeli warplanes launched 2 missiles at an agricultural plot belonging to the Abu Halawa family in al-Shouka village, east of Rafah.    [if !supportLists] –  [endif] At approximately 19:55, an Israeli warplane launched a missile at an open area in al-Shouka village, east of Rafah.    [if !supportLists] –  [endif] At approximately 20:00, an Israeli warplane launched a missile at an agricultural plot behind Bahloul gas station in al-Shouka village, east of Rafah.    [if !supportLists] –  [endif] At approximately 20:05, an Israeli drone fired a missile at a member of a Palestinian armed group in al-Nasser village, northeast of Rafah, wounding him. When a number of civilians attempted to offer him help, the Israeli drone fired another missile at them.\\xa0 As a result, ‘Othman Fawzi ‘Abadin, 17, was killed and 3 others were wounded.\\xa0 The armed group member died of his wounds 2 hours later.    [if !supportLists] –  [endif] At approximately 21:35, Israeli warplanes launched 2 missile at an agricultural plot belonging to the Abu Halawa family in al-Shouka village, east of Rafah.    [if !supportLists] –  [endif] At approximately 00:25 on Friday, 01 August 2014, Israeli warplanes launched 2 missiles at a site of the ‘Izziddin al-Qassam Brigades (the armed wing of Hamas) in Tabbat Zare’ area in the east of Rafah.    [if !supportLists] –  [endif] At approximately 01:20, Israeli warplanes launched 2 missiles at an agricultural plot in al-Salam neighborhood in the south of Rafah.    [if !supportLists] –  [endif] At approximately 04:05, an Israeli warplane launched a missile at an open area in the east of Rafah.    [if !supportLists] –  [endif] At approximately 04:10, Israeli forces fired dozens of shells at house and agricultural areas in the east of Rafah.    [if !supportLists] –  [endif] At approximately 06:55, Israeli warplanes launched 10 missiles at the tunnels area along the Egyptian border, south of Rafah.    [if !supportLists] –  [endif] At approximately 07:00, an Israeli warplane launched a missile without a prior warning at a house belonging to Suleiman Zayed Abu ‘Omran, in which 13 people live, in Tabbat Zare’ area in the east of Rafah. The house was destroyed, and 2 of the owner’s relatives were killed: Hilal ‘Eid Abu ‘Omran, 23’ and Mousa Hamad Abu ‘Omran, 45.\\xa0 Two women were also old wounded.\\xa0 Other members of the family are still missing under the debris.    [if !supportLists] –  [endif] A humanitarian truce entered into force at 08:00, and thousands of Palestinian civilians returned to their homes from which they were displaced in al-Shouka village, east of Rafah.\\xa0 At approximately 09:15, Israeli tanks and helicopter gunships opened fire indiscriminately at these civilians and at Abu Youef al-Najjar Hospital in al-Junaina neighborhood.\\xa0 As a result, dozens of Palestinian civilians were killed and hundreds of others were wounded.\\xa0 (PCHR field workers are currently documenting this crime, and details will be published in the daily update that will be published on Saturday, 02 August 2014).    PCHR reiterates condemnation, expresses utmost concern for these crimes, and:    [if !supportLists] 1)  [endif] Warns of deterioration of the humanitarian situation in the Gaza Strip in light of this continuous Israeli military escalation, threats to expand military operations, and the continued tightened closure of the Gaza Strip;  [if !supportLists] 2)  [endif] Calls upon the international community to act immediately to stop these crimes, and renews the call to the High Contracting Parties of the Fourth Geneva Convention to fulfill their obligation under Article 1 of the Convention to ensure that it is respected at all times, and their responsibilities under Article 146 to pursue perpetrators of serious violations of the Convention, which are determined in Article 147, which lists violations of the Convention amounting to war crimes; and  [if !supportLists] 3)  [endif] Calls for establishing a UN fact-finding mission to investigate suspected war crimes committed by Israeli forces against Palestinian civilians in the Gaza Strip, and take necessary steps to prosecute responsible for them.         SHARE   Facebook  Twitter     Previous article On the 24th Day of the Israeli Offensive: Indiscriminate Artillery Shelling Most Dangerous to Civilians; 30 Palestinian Civilians, Including 10 Members of One Family Killed in Public Market in al-Shuja’iya; No One Is Immune; 2 Journalists, Paramedic and 2 Next article During Protests in the West Bank against the Israeli Offensive on the Gaza Strip, 2 Palestinian Civilians Killed and 95 Others Wounded, Including 30 Children  admin    RELATED ARTICLES MORE FROM AUTHOR       PRESS RELEASES    Israeli Naval Forces Continue to Chase Palestinian Fishermen in Gaza Sea; 5 Fishermen Arrested and 2 Fishing Boats Confiscated     ./td-related-span4      Main    PCHR Follows up with Concern Excessive Use of Force by Security Services to Disperse Demonstration in Jabalia Refugee Camp     ./td-related-span4      PRESS RELEASES    Israeli Authorities Continue to Apply Collective Punishment Measures against Palestinian Civilians in Occupied Jerusalem     ./td-related-span4      PRESS RELEASES    Palestinian Authority Continues its Policy of Removing Encroachments on Government-Owned Land:\\xa0Land Authority in Gaza Strip Notifies 45 houses to be Totally Demolished in American...     ./td-related-span4      PRESS RELEASES    PCHR Condemns Arrest of Civilian on Grounds of Opinion Expression     ./td-related-span4 ./row-fluid       PRESS RELEASES    Two Death Sentences in Gaza: PCHR Calls upon Palestinian President to End Death Penalty particularly in Light of Division     ./td-related-span4      PRESS RELEASES    Israeli Forces Execute Palestinian Civilian at Point-Blank Range in al-Far’ah Refugee Camp     ./td-related-span4      Main    Increasingly Aggravated Electricity Crisis Reveals Miserable Failure of Parties Administrating Electricity Sector in Gaza; PCHR Calls upon National Unity Government to Take full Responsibility...     ./td-related-span4      Main    PCHR Welcomes UN Resolution On Israeli Settlements     ./td-related-span4      PRESS RELEASES    Five PLC Members Brought to Account after their Immunity Lifted;\\xa0PCHR Refuses Employing the “Law” to Oppress Political Opponents     ./td-related-span4 ./row-fluid  ./block     /.td-pb-row   /.td-container   /.td-post-template-8-box   /.post  Footer          POPULAR CATEGORIES  ./block    NEW ARTICLES      Weekly Report On Israeli Human Rights Violations in the Occupied Palestinian...   January 19, 2017       ./td-block-span12      Israeli Attacks on Fishermen in the Gaza Sea   January 16, 2017       ./td-block-span12  ./block    READ MORE ..      Weekly Report On Israeli Human Rights Violations in the Occupied Palestinian...   January 19, 2017       ./td-block-span12      Israeli Attacks on Fishermen in the Gaza Sea   January 16, 2017       ./td-block-span12  ./block        ABOUT US The Palestinian Centre for Human Rights (PCHR) is a Non-Governmental Organisation (NGO) based in Gaza City. ... More FOLLOW US      Sub Footer       © Copyright 2016 - Palestinian Center for Human Rights     close content div  close td-outer-wrap   Theme: Newspaper by tagDiv 2015\\r\\n        Version: 6.5 (rara)\\r\\n        Deploy mode: deploy\\r\\n        \\r\\n        uid: 58855f66ad4ce           JS generated by theme   '"
      ]
     },
     "execution_count": 128,
     "metadata": {},
     "output_type": "execute_result"
    }
   ],
   "source": [
    "' '.join(cumb)"
   ]
  },
  {
   "cell_type": "code",
   "execution_count": 150,
   "metadata": {
    "collapsed": true
   },
   "outputs": [],
   "source": [
    "a = [1,2,3]"
   ]
  },
  {
   "cell_type": "code",
   "execution_count": 152,
   "metadata": {
    "collapsed": true
   },
   "outputs": [],
   "source": [
    "import pandas as pd"
   ]
  },
  {
   "cell_type": "code",
   "execution_count": 154,
   "metadata": {
    "collapsed": false
   },
   "outputs": [],
   "source": [
    "s = pd.Series(a)"
   ]
  },
  {
   "cell_type": "code",
   "execution_count": 169,
   "metadata": {
    "collapsed": false
   },
   "outputs": [
    {
     "data": {
      "text/plain": [
       "[1, 2, 3]"
      ]
     },
     "execution_count": 169,
     "metadata": {},
     "output_type": "execute_result"
    }
   ],
   "source": [
    "list(s)"
   ]
  },
  {
   "cell_type": "code",
   "execution_count": 161,
   "metadata": {
    "collapsed": false
   },
   "outputs": [
    {
     "data": {
      "text/plain": [
       "True"
      ]
     },
     "execution_count": 161,
     "metadata": {},
     "output_type": "execute_result"
    }
   ],
   "source": [
    "type(s) == pd.Series"
   ]
  },
  {
   "cell_type": "code",
   "execution_count": 165,
   "metadata": {
    "collapsed": true
   },
   "outputs": [],
   "source": [
    "class ListWrap(list):\n",
    "    def __init__(self, obj):\n",
    "        self. l = []\n",
    "        \n",
    "        if isinstance(obj, pd.Series):\n",
    "            l = list(obj)\n",
    "    "
   ]
  },
  {
   "cell_type": "code",
   "execution_count": 166,
   "metadata": {
    "collapsed": true
   },
   "outputs": [],
   "source": [
    "lw = ListWrap(s)"
   ]
  },
  {
   "cell_type": "code",
   "execution_count": 170,
   "metadata": {
    "collapsed": false
   },
   "outputs": [
    {
     "data": {
      "text/plain": [
       "[]"
      ]
     },
     "execution_count": 170,
     "metadata": {},
     "output_type": "execute_result"
    }
   ],
   "source": [
    "lw"
   ]
  },
  {
   "cell_type": "code",
   "execution_count": 171,
   "metadata": {
    "collapsed": true
   },
   "outputs": [],
   "source": [
    "a = 'ergerhe'"
   ]
  },
  {
   "cell_type": "code",
   "execution_count": 172,
   "metadata": {
    "collapsed": false
   },
   "outputs": [
    {
     "data": {
      "text/plain": [
       "0    ergerhe\n",
       "dtype: object"
      ]
     },
     "execution_count": 172,
     "metadata": {},
     "output_type": "execute_result"
    }
   ],
   "source": [
    "pd.Series(a)"
   ]
  },
  {
   "cell_type": "code",
   "execution_count": 1,
   "metadata": {
    "collapsed": false
   },
   "outputs": [
    {
     "ename": "NameError",
     "evalue": "name 'request' is not defined",
     "output_type": "error",
     "traceback": [
      "\u001b[0;31m---------------------------------------------------------------------------\u001b[0m",
      "\u001b[0;31mNameError\u001b[0m                                 Traceback (most recent call last)",
      "\u001b[0;32m<ipython-input-1-39d5fe8ca3e9>\u001b[0m in \u001b[0;36m<module>\u001b[0;34m()\u001b[0m\n\u001b[0;32m----> 1\u001b[0;31m \u001b[0murl\u001b[0m \u001b[0;34m=\u001b[0m \u001b[0mrequest\u001b[0m\u001b[0;34m.\u001b[0m\u001b[0murlopen\u001b[0m\u001b[0;34m(\u001b[0m\u001b[0;34m'http://www.wordsplay.net/'\u001b[0m\u001b[0;34m)\u001b[0m\u001b[0;34m.\u001b[0m\u001b[0mread\u001b[0m\u001b[0;34m(\u001b[0m\u001b[0;34m)\u001b[0m\u001b[0;34m\u001b[0m\u001b[0m\n\u001b[0m",
      "\u001b[0;31mNameError\u001b[0m: name 'request' is not defined"
     ]
    }
   ],
   "source": [
    "url = request.urlopen('http://www.wordsplay.net/').read()"
   ]
  },
  {
   "cell_type": "code",
   "execution_count": null,
   "metadata": {
    "collapsed": true
   },
   "outputs": [],
   "source": [
    "soup = BeautifulSoup(url, 'html.parser')"
   ]
  },
  {
   "cell_type": "code",
   "execution_count": null,
   "metadata": {
    "collapsed": true
   },
   "outputs": [],
   "source": []
  }
 ],
 "metadata": {
  "anaconda-cloud": {},
  "kernelspec": {
   "display_name": "Python [py3k]",
   "language": "python",
   "name": "Python [py3k]"
  },
  "language_info": {
   "codemirror_mode": {
    "name": "ipython",
    "version": 3
   },
   "file_extension": ".py",
   "mimetype": "text/x-python",
   "name": "python",
   "nbconvert_exporter": "python",
   "pygments_lexer": "ipython3",
   "version": "3.5.2"
  }
 },
 "nbformat": 4,
 "nbformat_minor": 0
}
