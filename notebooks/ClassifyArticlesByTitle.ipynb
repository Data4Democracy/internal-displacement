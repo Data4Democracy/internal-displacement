{
 "cells": [
  {
   "cell_type": "markdown",
   "metadata": {},
   "source": [
    "# Classify articles using labeled data"
   ]
  },
  {
   "cell_type": "code",
   "execution_count": 1,
   "metadata": {
    "collapsed": false,
    "deletable": true,
    "editable": true
   },
   "outputs": [],
   "source": [
    "import pandas as pd\n",
    "import numpy as np"
   ]
  },
  {
   "cell_type": "markdown",
   "metadata": {},
   "source": [
    "## Data source is 290 downloaded articles from the Training Data"
   ]
  },
  {
   "cell_type": "code",
   "execution_count": 2,
   "metadata": {
    "collapsed": false,
    "deletable": true,
    "editable": true
   },
   "outputs": [],
   "source": [
    "df = pd.read_csv('https://s3-us-west-1.amazonaws.com/simon.bedford/d4d/article_contents.csv')\n",
    "df = df.fillna('')"
   ]
  },
  {
   "cell_type": "code",
   "execution_count": 3,
   "metadata": {
    "collapsed": false
   },
   "outputs": [
    {
     "data": {
      "text/html": [
       "<div>\n",
       "<table border=\"1\" class=\"dataframe\">\n",
       "  <thead>\n",
       "    <tr style=\"text-align: right;\">\n",
       "      <th></th>\n",
       "      <th>country</th>\n",
       "      <th>url</th>\n",
       "      <th>tag</th>\n",
       "      <th>title</th>\n",
       "      <th>meta_description</th>\n",
       "      <th>content</th>\n",
       "    </tr>\n",
       "  </thead>\n",
       "  <tbody>\n",
       "    <tr>\n",
       "      <th>0</th>\n",
       "      <td>Afghanistan</td>\n",
       "      <td>http://www.independent.co.uk/news/world/asia/1...</td>\n",
       "      <td>Disasters</td>\n",
       "      <td>160 killed and hundreds left stranded by flood...</td>\n",
       "      <td>Flash flooding across Afghanistan and Pakistan...</td>\n",
       "      <td>Flash flooding across Afghanistan and Pakistan...</td>\n",
       "    </tr>\n",
       "    <tr>\n",
       "      <th>1</th>\n",
       "      <td>Afghanistan</td>\n",
       "      <td>http://floodlist.com/asia/afghanistan-flash-fl...</td>\n",
       "      <td>Disasters</td>\n",
       "      <td>Afghanistan – Flash Floods in Faryab and Baghl...</td>\n",
       "      <td></td>\n",
       "      <td>Afghanistan state news agency, Bakhtar News Ag...</td>\n",
       "    </tr>\n",
       "    <tr>\n",
       "      <th>2</th>\n",
       "      <td>Afghanistan</td>\n",
       "      <td>http://floodlist.com/asia/afghanistan-6-dead-f...</td>\n",
       "      <td>Disasters</td>\n",
       "      <td>Afghanistan - 6 Dead as Flash Floods Hit Badak...</td>\n",
       "      <td></td>\n",
       "      <td>Flash floods have struck once again in the Bad...</td>\n",
       "    </tr>\n",
       "    <tr>\n",
       "      <th>3</th>\n",
       "      <td>Afghanistan</td>\n",
       "      <td>http://reliefweb.int/report/afghanistan/afghan...</td>\n",
       "      <td>Disasters</td>\n",
       "      <td>Afghanistan Earthquake: Overview of Assessed N...</td>\n",
       "      <td>Afghanistan Earthquake: OCHA Situation Report ...</td>\n",
       "      <td>UN Office for the Coordination of Humanitarian...</td>\n",
       "    </tr>\n",
       "    <tr>\n",
       "      <th>4</th>\n",
       "      <td>Albania</td>\n",
       "      <td>http://www.euronews.com/2014/11/19/albania-flo...</td>\n",
       "      <td>Disasters</td>\n",
       "      <td>Albania floods kill at least 3 people | Euronews</td>\n",
       "      <td>Flooding in Albania has killed at least three ...</td>\n",
       "      <td>Flooding in Albania has killed at least three ...</td>\n",
       "    </tr>\n",
       "  </tbody>\n",
       "</table>\n",
       "</div>"
      ],
      "text/plain": [
       "       country                                                url        tag  \\\n",
       "0  Afghanistan  http://www.independent.co.uk/news/world/asia/1...  Disasters   \n",
       "1  Afghanistan  http://floodlist.com/asia/afghanistan-flash-fl...  Disasters   \n",
       "2  Afghanistan  http://floodlist.com/asia/afghanistan-6-dead-f...  Disasters   \n",
       "3  Afghanistan  http://reliefweb.int/report/afghanistan/afghan...  Disasters   \n",
       "4      Albania  http://www.euronews.com/2014/11/19/albania-flo...  Disasters   \n",
       "\n",
       "                                               title  \\\n",
       "0  160 killed and hundreds left stranded by flood...   \n",
       "1  Afghanistan – Flash Floods in Faryab and Baghl...   \n",
       "2  Afghanistan - 6 Dead as Flash Floods Hit Badak...   \n",
       "3  Afghanistan Earthquake: Overview of Assessed N...   \n",
       "4   Albania floods kill at least 3 people | Euronews   \n",
       "\n",
       "                                    meta_description  \\\n",
       "0  Flash flooding across Afghanistan and Pakistan...   \n",
       "1                                                      \n",
       "2                                                      \n",
       "3  Afghanistan Earthquake: OCHA Situation Report ...   \n",
       "4  Flooding in Albania has killed at least three ...   \n",
       "\n",
       "                                             content  \n",
       "0  Flash flooding across Afghanistan and Pakistan...  \n",
       "1  Afghanistan state news agency, Bakhtar News Ag...  \n",
       "2  Flash floods have struck once again in the Bad...  \n",
       "3  UN Office for the Coordination of Humanitarian...  \n",
       "4  Flooding in Albania has killed at least three ...  "
      ]
     },
     "execution_count": 3,
     "metadata": {},
     "output_type": "execute_result"
    }
   ],
   "source": [
    "df.head()"
   ]
  },
  {
   "cell_type": "code",
   "execution_count": 4,
   "metadata": {
    "collapsed": false,
    "deletable": true,
    "editable": true
   },
   "outputs": [
    {
     "data": {
      "text/html": [
       "<div>\n",
       "<table border=\"1\" class=\"dataframe\">\n",
       "  <thead>\n",
       "    <tr style=\"text-align: right;\">\n",
       "      <th></th>\n",
       "      <th>country</th>\n",
       "      <th>url</th>\n",
       "      <th>title</th>\n",
       "      <th>meta_description</th>\n",
       "      <th>content</th>\n",
       "    </tr>\n",
       "    <tr>\n",
       "      <th>tag</th>\n",
       "      <th></th>\n",
       "      <th></th>\n",
       "      <th></th>\n",
       "      <th></th>\n",
       "      <th></th>\n",
       "    </tr>\n",
       "  </thead>\n",
       "  <tbody>\n",
       "    <tr>\n",
       "      <th>Conflict and violence</th>\n",
       "      <td>31</td>\n",
       "      <td>31</td>\n",
       "      <td>31</td>\n",
       "      <td>31</td>\n",
       "      <td>31</td>\n",
       "    </tr>\n",
       "    <tr>\n",
       "      <th>Disasters</th>\n",
       "      <td>260</td>\n",
       "      <td>260</td>\n",
       "      <td>260</td>\n",
       "      <td>260</td>\n",
       "      <td>260</td>\n",
       "    </tr>\n",
       "  </tbody>\n",
       "</table>\n",
       "</div>"
      ],
      "text/plain": [
       "                       country  url  title  meta_description  content\n",
       "tag                                                                  \n",
       "Conflict and violence       31   31     31                31       31\n",
       "Disasters                  260  260    260               260      260"
      ]
     },
     "execution_count": 4,
     "metadata": {},
     "output_type": "execute_result"
    }
   ],
   "source": [
    "df.groupby(\"tag\").count()"
   ]
  },
  {
   "cell_type": "markdown",
   "metadata": {},
   "source": [
    "## Define custom Transformers for use in pipelines"
   ]
  },
  {
   "cell_type": "code",
   "execution_count": 5,
   "metadata": {
    "collapsed": false
   },
   "outputs": [],
   "source": [
    "from sklearn.base import BaseEstimator, TransformerMixin\n",
    "from sklearn.feature_extraction.text import CountVectorizer\n",
    "\n",
    "class FSTransformer(BaseEstimator, TransformerMixin):\n",
    "  \"\"\"\n",
    "  Returns the different feature names\n",
    "  \"\"\"\n",
    "  def __init__(self, features):\n",
    "    self.features = features\n",
    "    pass\n",
    "\n",
    "  def fit(self, X, y):\n",
    "    return self\n",
    "  \n",
    "  def transform(self, df):\n",
    "    return df[self.features].as_matrix()\n",
    "\n",
    "  \n",
    "class CountVecTransformer(BaseEstimator, TransformerMixin):\n",
    "  def __init__(self, col):\n",
    "    self.vectorizer = CountVectorizer(binary=False)\n",
    "    self.col = col\n",
    "    pass\n",
    "  \n",
    "  def fit(self, df, y=None):\n",
    "    self.vectorizer.fit(df[self.col])\n",
    "    return self\n",
    "  \n",
    "  def transform(self, df):\n",
    "    return self.vectorizer.transform(df[self.col])\n",
    "\n",
    "cvt = CountVecTransformer(\"url\")\n",
    "X = cvt.fit_transform(df)"
   ]
  },
  {
   "cell_type": "markdown",
   "metadata": {},
   "source": [
    "### Convert string label to integer"
   ]
  },
  {
   "cell_type": "code",
   "execution_count": 6,
   "metadata": {
    "collapsed": false
   },
   "outputs": [],
   "source": [
    "from sklearn.preprocessing import LabelEncoder\n",
    "le = LabelEncoder().fit(df.tag)\n",
    "y = le.transform(df.tag)"
   ]
  },
  {
   "cell_type": "markdown",
   "metadata": {},
   "source": [
    "### Predict class based only on the frequency of the labels"
   ]
  },
  {
   "cell_type": "code",
   "execution_count": 7,
   "metadata": {
    "collapsed": false
   },
   "outputs": [
    {
     "name": "stdout",
     "output_type": "stream",
     "text": [
      "0.810996563574\n",
      "0.790378006873\n",
      "0.824742268041\n",
      "0.810996563574\n",
      "0.776632302405\n"
     ]
    }
   ],
   "source": [
    "from sklearn.dummy import DummyClassifier\n",
    "from sklearn.feature_extraction.text import CountVectorizer\n",
    "\n",
    "for i in range(5):\n",
    "  clf_dummy = DummyClassifier(strategy=\"stratified\", random_state=i).fit(X, y)\n",
    "  print(clf_dummy.score(X, y))"
   ]
  },
  {
   "cell_type": "code",
   "execution_count": 8,
   "metadata": {
    "collapsed": false
   },
   "outputs": [
    {
     "name": "stdout",
     "output_type": "stream",
     "text": [
      "1.0\n"
     ]
    }
   ],
   "source": [
    "from sklearn.linear_model import RidgeClassifier\n",
    "\n",
    "clf_ridge = RidgeClassifier().fit(X, y)\n",
    "print(clf_ridge.score(X, y))"
   ]
  },
  {
   "cell_type": "markdown",
   "metadata": {},
   "source": [
    "### Need to cross-validate"
   ]
  },
  {
   "cell_type": "code",
   "execution_count": 9,
   "metadata": {
    "collapsed": false
   },
   "outputs": [
    {
     "name": "stdout",
     "output_type": "stream",
     "text": [
      "R2_train: 1.0 R2_test: 0.9204545454545454 f1: 0.9575757575757576\n",
      "R2_train: 1.0 R2_test: 0.9090909090909091 f1: 0.9506172839506173\n",
      "R2_train: 1.0 R2_test: 0.9659090909090909 f1: 0.9811320754716981\n",
      "R2_train: 1.0 R2_test: 0.9318181818181818 f1: 0.9634146341463414\n",
      "R2_train: 1.0 R2_test: 0.9204545454545454 f1: 0.9565217391304348\n"
     ]
    }
   ],
   "source": [
    "from sklearn.model_selection import StratifiedShuffleSplit\n",
    "from sklearn.metrics import f1_score\n",
    "\n",
    "def get_model_scores(model, X, y):\n",
    "  sss = StratifiedShuffleSplit(n_splits=5, test_size=0.3, random_state=42)\n",
    "\n",
    "  for train_index, test_index in sss.split(X, y):\n",
    "    X_train, X_test = X[train_index, :], X[test_index, :]\n",
    "    y_train, y_test = y[train_index], y[test_index]\n",
    "\n",
    "    model.fit(X_train, y_train)\n",
    "    r2_train = model.score(X_train, y_train)\n",
    "    r2_test = model.score(X_test, y_test)\n",
    "    y_pred = model.predict(X_test)\n",
    "    f1 = f1_score(y_test, y_pred)\n",
    "    print(\"R2_train: {0} R2_test: {1} f1: {2}\".format(r2_train, r2_test, f1))\n",
    "\n",
    "get_model_scores(clf_ridge, X, y)"
   ]
  },
  {
   "cell_type": "markdown",
   "metadata": {},
   "source": [
    "## TODO: Decide if we need high precision, high recall, or a balance"
   ]
  }
 ],
 "metadata": {
  "anaconda-cloud": {},
  "kernelspec": {
   "display_name": "Python [conda env:d4d-internal-displacement]",
   "language": "python",
   "name": "conda-env-d4d-internal-displacement-py"
  },
  "language_info": {
   "codemirror_mode": {
    "name": "ipython",
    "version": 3
   },
   "file_extension": ".py",
   "mimetype": "text/x-python",
   "name": "python",
   "nbconvert_exporter": "python",
   "pygments_lexer": "ipython3",
   "version": "3.6.0"
  }
 },
 "nbformat": 4,
 "nbformat_minor": 2
}
