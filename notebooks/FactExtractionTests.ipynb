{
 "cells": [
  {
   "cell_type": "markdown",
   "metadata": {},
   "source": [
    "### This notebook demonstrates how the current NLP fact extraction functionality can be used:"
   ]
  },
  {
   "cell_type": "code",
   "execution_count": 1,
   "metadata": {
    "collapsed": false
   },
   "outputs": [],
   "source": [
    "%load_ext autoreload\n",
    "%autoreload 2\n",
    "import pandas as pd\n",
    "import os\n",
    "import sys\n",
    "module_path = os.path.abspath(os.path.join('..'))\n",
    "if module_path not in sys.path:\n",
    "    sys.path.append(module_path)\n",
    "\n",
    "from internal_displacement.report import Report\n",
    "from internal_displacement.article import Article\n",
    "from internal_displacement.interpreter import Interpreter"
   ]
  },
  {
   "cell_type": "code",
   "execution_count": 2,
   "metadata": {
    "collapsed": false
   },
   "outputs": [],
   "source": [
    "def remove_newline(text):\n",
    "    ''' Removes new line and &nbsp characters.\n",
    "    '''\n",
    "    text = text.replace('\\n', ' ')\n",
    "    text = text.replace('\\xa0', ' ')\n",
    "    return text\n",
    "\n",
    "def tag_text(text, spans):\n",
    "    text_blocks = []\n",
    "    text_start_point = 0\n",
    "    for span in spans:\n",
    "            text_blocks.append(text[text_start_point : span['start']])\n",
    "\n",
    "            tagged_text = '<mark data-entity=\"{}\">'.format(span['type'].lower())\n",
    "            tagged_text += text[span['start'] : span['end']]\n",
    "            tagged_text += '</mark>'\n",
    "            text_blocks.append(tagged_text)\n",
    "            text_start_point = span['end']\n",
    "    text_blocks.append(text[text_start_point : ])\n",
    "    return(\"\".join(text_blocks))"
   ]
  },
  {
   "cell_type": "code",
   "execution_count": 3,
   "metadata": {
    "collapsed": false
   },
   "outputs": [],
   "source": [
    "df = pd.read_csv('../data_extract/article_contents.csv')\n",
    "df['content'] = df['content'].apply(lambda x: remove_newline(str(x)))"
   ]
  },
  {
   "cell_type": "markdown",
   "metadata": {},
   "source": [
    "#### Initialize the interpreter"
   ]
  },
  {
   "cell_type": "code",
   "execution_count": 4,
   "metadata": {
    "collapsed": true
   },
   "outputs": [],
   "source": [
    "parser = Interpreter()"
   ]
  },
  {
   "cell_type": "markdown",
   "metadata": {},
   "source": [
    "#### Create an article"
   ]
  },
  {
   "cell_type": "code",
   "execution_count": 5,
   "metadata": {
    "collapsed": true
   },
   "outputs": [],
   "source": [
    "article = Article(df.iloc[0]['content'], '', '', '', '', '', '')"
   ]
  },
  {
   "cell_type": "markdown",
   "metadata": {},
   "source": [
    "#### Extract reports from the article"
   ]
  },
  {
   "cell_type": "code",
   "execution_count": 6,
   "metadata": {
    "collapsed": false
   },
   "outputs": [],
   "source": [
    "article.reports = parser.extract_facts_from_article(article)"
   ]
  },
  {
   "cell_type": "markdown",
   "metadata": {},
   "source": [
    "#### View reports:"
   ]
  },
  {
   "cell_type": "code",
   "execution_count": 7,
   "metadata": {
    "collapsed": false
   },
   "outputs": [
    {
     "name": "stdout",
     "output_type": "stream",
     "text": [
      "==============Report===============\n",
      "Location: ['Nuristan']  DateTime: ['this year']  EventTerm: destroy  SubjectTerm:  home  Quantity: 60\n",
      "==============Spans===============\n",
      "{'start': 628, 'type': 'TERM', 'end': 637}\n",
      "{'start': 617, 'type': 'UNIT', 'end': 622}\n",
      "{'start': 614, 'type': 'NUM', 'end': 616}\n",
      "{'start': 142, 'type': 'DATE', 'end': 151}\n",
      "{'start': 595, 'type': 'LOC', 'end': 603}\n",
      "==============Report===============\n",
      "Location: ['Khost', 'Nangarhar']  DateTime: ['this year']  EventTerm: die  SubjectTerm:  people  Quantity: 24\n",
      "==============Spans===============\n",
      "{'start': 1067, 'type': 'TERM', 'end': 1071}\n",
      "{'start': 1050, 'type': 'UNIT', 'end': 1056}\n",
      "{'start': 1047, 'type': 'NUM', 'end': 1049}\n",
      "{'start': 142, 'type': 'DATE', 'end': 151}\n",
      "{'start': 1111, 'type': 'LOC', 'end': 1116}\n",
      "{'start': 1121, 'type': 'LOC', 'end': 1130}\n",
      "==============Report===============\n",
      "Location: ['Khost', 'Nangarhar']  DateTime: ['this year']  EventTerm: destroy  SubjectTerm:  shop  Quantity: fifty\n",
      "==============Spans===============\n",
      "{'start': 1199, 'type': 'TERM', 'end': 1208}\n",
      "{'start': 1178, 'type': 'UNIT', 'end': 1183}\n",
      "{'start': 1172, 'type': 'NUM', 'end': 1177}\n",
      "{'start': 1188, 'type': 'UNIT', 'end': 1193}\n",
      "{'start': 142, 'type': 'DATE', 'end': 151}\n",
      "{'start': 1111, 'type': 'LOC', 'end': 1116}\n",
      "{'start': 1121, 'type': 'LOC', 'end': 1130}\n",
      "==============Report===============\n",
      "Location: ['Pakistan']  DateTime: ['this year']  EventTerm: collapse  SubjectTerm:  house  Quantity: None\n",
      "==============Spans===============\n",
      "{'start': 1337, 'type': 'TERM', 'end': 1347}\n",
      "{'start': 1330, 'type': 'UNIT', 'end': 1336}\n",
      "{'start': 142, 'type': 'DATE', 'end': 151}\n",
      "{'start': 1257, 'type': 'LOC', 'end': 1265}\n"
     ]
    }
   ],
   "source": [
    "for report in article.reports:\n",
    "    print(\"==============Report===============\")\n",
    "    report.display()\n",
    "    print(\"==============Spans===============\")\n",
    "    for span in report.tag_spans:\n",
    "        print(span)"
   ]
  },
  {
   "cell_type": "markdown",
   "metadata": {},
   "source": [
    "#### Set article relevance"
   ]
  },
  {
   "cell_type": "code",
   "execution_count": 8,
   "metadata": {
    "collapsed": false
   },
   "outputs": [
    {
     "name": "stdout",
     "output_type": "stream",
     "text": [
      "True\n"
     ]
    }
   ],
   "source": [
    "parser.check_relevance(article)\n",
    "print(article.relevance)"
   ]
  },
  {
   "cell_type": "markdown",
   "metadata": {},
   "source": [
    "#### Extract country codes from the article"
   ]
  },
  {
   "cell_type": "code",
   "execution_count": 9,
   "metadata": {
    "collapsed": false
   },
   "outputs": [
    {
     "name": "stdout",
     "output_type": "stream",
     "text": [
      "['PK', 'AF']\n"
     ]
    }
   ],
   "source": [
    "article.country_codes = parser.extract_countries(article)\n",
    "print(article.country_codes)"
   ]
  },
  {
   "cell_type": "markdown",
   "metadata": {
    "collapsed": false
   },
   "source": [
    "#### Tag complete article for visualization:"
   ]
  },
  {
   "cell_type": "code",
   "execution_count": 10,
   "metadata": {
    "collapsed": false
   },
   "outputs": [
    {
     "data": {
      "text/plain": [
       "'Flash flooding across Afghanistan and Pakistan has left more than 160 dead and dozens stranded in one of South Asia\\'s worst natural disasters <mark data-entity=\"date\">this year</mark>, say officials.  The flooding, caused by unusually heavy rain, has left villagers stuck in remote areas without shelter, food or power.  Mountainous Afghanistan was the worst hit, with 61 people killed and approximately 500 traditional mud-brick homes washed away in more than a dozen villages in Sarobi, a rural district less than an hour from Kabul, officials said.  Floods left a village devastated in the remote eastern Afghan province of <mark data-entity=\"loc\">Nuristan</mark>. At least <mark data-entity=\"num\">60</mark> <mark data-entity=\"unit\">homes</mark> were <mark data-entity=\"term\">destroyed</mark> across three districts, said provincial spokesman Mohammad Yusufi. No one was killed.  Authorities have been unable to deliver aid to some badly affected villages by land as roads in the area are controlled by the Taliban, Yusufi added.  “We have asked the national government for help as have an overwhelming number of locals asking for assistance, but this is a Taliban-ridden area,” Yusufi said.  At least <mark data-entity=\"num\">24</mark> <mark data-entity=\"unit\">people</mark> were also <mark data-entity=\"term\">died</mark> in two other eastern border provinces, <mark data-entity=\"loc\">Khost</mark> and <mark data-entity=\"loc\">Nangarhar</mark>, according to local officials. More than <mark data-entity=\"num\">fifty</mark> <mark data-entity=\"unit\">homes</mark> and <mark data-entity=\"unit\">shops</mark> were <mark data-entity=\"term\">destroyed</mark> and thousands of acres of farmland flooded.  In <mark data-entity=\"loc\">Pakistan</mark> monsoon rains claimed more than 80 lives, local media reported. <mark data-entity=\"unit\">Houses</mark> <mark data-entity=\"term\">collapsing</mark>, drowning and electrocution all pushed up the death toll, said Sindh Information Minister Sharjeel Inam Memon.  In Karachi, the commercial capital and a southern port city that is home to 18 million people, poor neighborhoods were submerged waist-deep in water and many precincts suffered long power outages. Deaths were also reported in the north and west of the country.'"
      ]
     },
     "execution_count": 10,
     "metadata": {},
     "output_type": "execute_result"
    }
   ],
   "source": [
    "unique_spans = article.get_unique_tag_spans()\n",
    "tag_text(article.content, unique_spans)"
   ]
  },
  {
   "cell_type": "code",
   "execution_count": null,
   "metadata": {
    "collapsed": true
   },
   "outputs": [],
   "source": []
  }
 ],
 "metadata": {
  "kernelspec": {
   "display_name": "Python 3",
   "language": "python",
   "name": "python3"
  },
  "language_info": {
   "codemirror_mode": {
    "name": "ipython",
    "version": 3
   },
   "file_extension": ".py",
   "mimetype": "text/x-python",
   "name": "python",
   "nbconvert_exporter": "python",
   "pygments_lexer": "ipython3",
   "version": "3.5.1"
  }
 },
 "nbformat": 4,
 "nbformat_minor": 0
}
