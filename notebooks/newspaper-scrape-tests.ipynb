{
 "cells": [
  {
   "cell_type": "code",
   "execution_count": 1,
   "metadata": {
    "collapsed": false
   },
   "outputs": [],
   "source": [
    "import newspaper\n",
    "import csv\n",
    "import pandas as pd"
   ]
  },
  {
   "cell_type": "code",
   "execution_count": 2,
   "metadata": {
    "collapsed": false
   },
   "outputs": [],
   "source": [
    "file = 'data/training_dataset.csv'"
   ]
  },
  {
   "cell_type": "code",
   "execution_count": 3,
   "metadata": {
    "collapsed": false
   },
   "outputs": [],
   "source": [
    "def urls_from_csv(csv_file, column=None):\n",
    "    '''\n",
    "    Takes csv directory and returns list of URLs\n",
    "    '''\n",
    "    with open(csv_file, 'r') as f:\n",
    "        reader = csv.reader(f)\n",
    "        contents = list(reader)\n",
    "    \n",
    "    urls = [line[1] for line in contents[1:]]\n",
    "    return urls, contents"
   ]
  },
  {
   "cell_type": "code",
   "execution_count": 4,
   "metadata": {
    "collapsed": true
   },
   "outputs": [],
   "source": [
    "def urls_to_df(csv_file, column=None):\n",
    "    '''\n",
    "    Takes csv directory and returns list of URLs\n",
    "    '''\n",
    "    df = pd.read_csv(csv_file)\n",
    "    df.columns = [x.lower() for x in df.columns]\n",
    "    urls = list(df['url'])\n",
    "    return urls, df"
   ]
  },
  {
   "cell_type": "code",
   "execution_count": 5,
   "metadata": {
    "collapsed": false
   },
   "outputs": [],
   "source": [
    "urls, contents = urls_from_csv(file)"
   ]
  },
  {
   "cell_type": "code",
   "execution_count": 6,
   "metadata": {
    "collapsed": true
   },
   "outputs": [],
   "source": [
    "def remove_newline(text):\n",
    "    ''' Removes new line and &nbsp characters.\n",
    "    '''\n",
    "    text = text.replace('\\n', ' ')\n",
    "    text = text.replace('\\xa0', ' ')\n",
    "    return text"
   ]
  },
  {
   "cell_type": "code",
   "execution_count": 7,
   "metadata": {
    "collapsed": true
   },
   "outputs": [],
   "source": [
    "def html_report(link, nlp=False):\n",
    "    report = {}\n",
    "    a = newspaper.Article(link)\n",
    "    a.download()\n",
    "    a.parse()\n",
    "    report['domain'] = a.source_url\n",
    "    report['title'] = a.title\n",
    "    report['authors'] = a.authors\n",
    "    report['date_pub'] = a.publish_date\n",
    "    report['text'] = remove_newline(a.text)\n",
    "    # tag the type of article\n",
    "    ## currently default to text but should be able to determine img/video etc\n",
    "    report['type'] = 'text'\n",
    "    return report"
   ]
  },
  {
   "cell_type": "code",
   "execution_count": 8,
   "metadata": {
    "collapsed": false
   },
   "outputs": [],
   "source": [
    "urls, df = urls_to_df(file)"
   ]
  },
  {
   "cell_type": "code",
   "execution_count": 9,
   "metadata": {
    "collapsed": true
   },
   "outputs": [],
   "source": [
    "def scrape_from_urls(urls):\n",
    "    reports = []\n",
    "    for url in urls:\n",
    "        if url[-3:] == 'pdf':\n",
    "            continue\n",
    "        else:\n",
    "            report = html_report(url)\n",
    "            reports.append(report)\n",
    "            \n",
    "    return reports"
   ]
  },
  {
   "cell_type": "code",
   "execution_count": 24,
   "metadata": {
    "collapsed": false
   },
   "outputs": [],
   "source": [
    "url = urls[1]"
   ]
  },
  {
   "cell_type": "code",
   "execution_count": 25,
   "metadata": {
    "collapsed": false
   },
   "outputs": [],
   "source": [
    "a = newspaper.Article(url)"
   ]
  },
  {
   "cell_type": "code",
   "execution_count": 26,
   "metadata": {
    "collapsed": false
   },
   "outputs": [],
   "source": [
    "a.download()"
   ]
  },
  {
   "cell_type": "code",
   "execution_count": 27,
   "metadata": {
    "collapsed": false
   },
   "outputs": [],
   "source": [
    "a.parse()"
   ]
  },
  {
   "cell_type": "code",
   "execution_count": 29,
   "metadata": {
    "collapsed": false
   },
   "outputs": [
    {
     "data": {
      "text/plain": [
       "''"
      ]
     },
     "execution_count": 29,
     "metadata": {},
     "output_type": "execute_result"
    }
   ],
   "source": []
  },
  {
   "cell_type": "code",
   "execution_count": 110,
   "metadata": {
    "collapsed": false
   },
   "outputs": [],
   "source": [
    "keys = report[0].keys()\n",
    "with open('data.csv', 'w') as f:\n",
    "    dict_writer = csv.DictWriter(f, fieldnames=keys)\n",
    "    dict_writer.writeheader()\n",
    "    dict_writer.writerows(report)"
   ]
  },
  {
   "cell_type": "code",
   "execution_count": null,
   "metadata": {
    "collapsed": true
   },
   "outputs": [],
   "source": []
  }
 ],
 "metadata": {
  "anaconda-cloud": {},
  "kernelspec": {
   "display_name": "Python [d4d-internal-displacement]",
   "language": "python",
   "name": "Python [d4d-internal-displacement]"
  },
  "language_info": {
   "codemirror_mode": {
    "name": "ipython",
    "version": 3
   },
   "file_extension": ".py",
   "mimetype": "text/x-python",
   "name": "python",
   "nbconvert_exporter": "python",
   "pygments_lexer": "ipython3",
   "version": "3.6.0"
  }
 },
 "nbformat": 4,
 "nbformat_minor": 0
}
