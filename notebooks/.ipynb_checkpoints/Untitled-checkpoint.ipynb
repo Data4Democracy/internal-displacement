{
 "cells": [
  {
   "cell_type": "code",
   "execution_count": 1,
   "metadata": {
    "collapsed": false
   },
   "outputs": [],
   "source": [
    "import newspaper\n",
    "import csv\n",
    "import pandas as pd"
   ]
  },
  {
   "cell_type": "code",
   "execution_count": 2,
   "metadata": {
    "collapsed": false
   },
   "outputs": [],
   "source": [
    "file = 'data/training_dataset.csv'"
   ]
  },
  {
   "cell_type": "code",
   "execution_count": 3,
   "metadata": {
    "collapsed": false
   },
   "outputs": [],
   "source": [
    "def urls_from_csv(csv_file, column=None):\n",
    "    '''\n",
    "    Takes csv directory and returns list of URLs\n",
    "    '''\n",
    "    with open(csv_file, 'r') as f:\n",
    "        reader = csv.reader(f)\n",
    "        contents = list(reader)\n",
    "    \n",
    "    urls = [line[1] for line in contents[1:]]\n",
    "    return urls, contents"
   ]
  },
  {
   "cell_type": "code",
   "execution_count": 4,
   "metadata": {
    "collapsed": true
   },
   "outputs": [],
   "source": [
    "def urls_to_df(csv_file, column=None):\n",
    "    '''\n",
    "    Takes csv directory and returns list of URLs\n",
    "    '''\n",
    "    df = pd.read_csv(csv_file)\n",
    "    df.columns = [x.lower() for x in df.columns]\n",
    "    urls = list(df['url'])\n",
    "    return urls, df"
   ]
  },
  {
   "cell_type": "code",
   "execution_count": 5,
   "metadata": {
    "collapsed": false
   },
   "outputs": [],
   "source": [
    "urls, contents = urls_from_csv(file)"
   ]
  },
  {
   "cell_type": "code",
   "execution_count": 6,
   "metadata": {
    "collapsed": true
   },
   "outputs": [],
   "source": [
    "def remove_newline(text):\n",
    "    ''' Removes new line and &nbsp characters.\n",
    "    '''\n",
    "    text = text.replace('\\n', ' ')\n",
    "    text = text.replace('\\xa0', ' ')\n",
    "    return text"
   ]
  },
  {
   "cell_type": "code",
   "execution_count": 13,
   "metadata": {
    "collapsed": true
   },
   "outputs": [],
   "source": [
    "def html_report(link, nlp=False):\n",
    "    report = {}\n",
    "    a = newspaper.Article(link)\n",
    "    a.download()\n",
    "    a.parse()\n",
    "    report['domain'] = a.source_url\n",
    "    report['title'] = a.title\n",
    "    report['authors'] = a.authors\n",
    "    report['date_pub'] = a.publish_date\n",
    "    report['text'] = remove_newline(a.text)\n",
    "    # tag the type of article\n",
    "    ## currently default to text but should be able to determine img/video etc\n",
    "    report['type'] = 'text'\n",
    "    return report"
   ]
  },
  {
   "cell_type": "code",
   "execution_count": 8,
   "metadata": {
    "collapsed": false
   },
   "outputs": [],
   "source": [
    "urls, df = urls_to_df(file)"
   ]
  },
  {
   "cell_type": "code",
   "execution_count": 26,
   "metadata": {
    "collapsed": true
   },
   "outputs": [],
   "source": [
    "def scrape_from_urls(urls):\n",
    "    reports = []\n",
    "    for url in urls:\n",
    "        if url[-3:] == 'pdf':\n",
    "            continue\n",
    "        else:\n",
    "            report = html_report(url)\n",
    "            reports.append(report)\n",
    "            \n",
    "    return reports"
   ]
  },
  {
   "cell_type": "code",
   "execution_count": 24,
   "metadata": {
    "collapsed": false
   },
   "outputs": [],
   "source": [
    "url = urls[0]"
   ]
  },
  {
   "cell_type": "code",
   "execution_count": 25,
   "metadata": {
    "collapsed": false
   },
   "outputs": [
    {
     "data": {
      "text/plain": [
       "'p'"
      ]
     },
     "execution_count": 25,
     "metadata": {},
     "output_type": "execute_result"
    }
   ],
   "source": [
    "url[-3]"
   ]
  },
  {
   "cell_type": "code",
   "execution_count": 17,
   "metadata": {
    "collapsed": false
   },
   "outputs": [],
   "source": [
    "urls_test = urls[0:5]"
   ]
  },
  {
   "cell_type": "code",
   "execution_count": 18,
   "metadata": {
    "collapsed": false
   },
   "outputs": [
    {
     "data": {
      "text/plain": [
       "['http://www.securitycouncilreport.org/atf/cf/%7B65BFCF9B-6D27-4E9C-8CD3-CF6E4FF96FF9%7D/S_2015_302.pdf',\n",
       " 'http://www.independent.co.uk/news/world/asia/160-killed-and-hundreds-left-stranded-by-flooding-across-afghanistan-and-pakistan-8746566.html',\n",
       " 'http://reliefweb.int/sites/reliefweb.int/files/resources/Natural%20Hazards%20Update%204-10%20February_1.pdf',\n",
       " 'https://www.humanitarianresponse.info/en/operations/afghanistan/document/rafdump01-jan-2015-till-31-dec-2015-0',\n",
       " 'http://floodlist.com/asia/afghanistan-flash-floods-faryab-baghlan-8-dead']"
      ]
     },
     "execution_count": 18,
     "metadata": {},
     "output_type": "execute_result"
    }
   ],
   "source": [
    "urls_test"
   ]
  },
  {
   "cell_type": "code",
   "execution_count": 21,
   "metadata": {
    "collapsed": false
   },
   "outputs": [],
   "source": [
    "reports = scrape_from_urls(urls_test)"
   ]
  },
  {
   "cell_type": "code",
   "execution_count": 22,
   "metadata": {
    "collapsed": false
   },
   "outputs": [
    {
     "data": {
      "text/plain": [
       "[{'authors': [],\n",
       "  'date_pub': None,\n",
       "  'domain': 'http://www.securitycouncilreport.org',\n",
       "  'text': '',\n",
       "  'title': '',\n",
       "  'type': 'text'},\n",
       " {'authors': ['Heather Saul'],\n",
       "  'date_pub': datetime.datetime(2013, 8, 5, 12, 33, 51, tzinfo=tzoffset(None, 3600)),\n",
       "  'domain': 'http://www.independent.co.uk',\n",
       "  'text': \"Flash flooding across Afghanistan and Pakistan has left more than 160 dead and dozens stranded in one of South Asia's worst natural disasters this year, say officials.  The flooding, caused by unusually heavy rain, has left villagers stuck in remote areas without shelter, food or power.  Mountainous Afghanistan was the worst hit, with 61 people killed and approximately 500 traditional mud-brick homes washed away in more than a dozen villages in Sarobi, a rural district less than an hour from Kabul, officials said.  Floods left a village devastated in the remote eastern Afghan province of Nuristan. At least 60 homes were destroyed across three districts, said provincial spokesman Mohammad Yusufi. No one was killed.  Authorities have been unable to deliver aid to some badly affected villages by land as roads in the area are controlled by the Taliban, Yusufi added.  “We have asked the national government for help as have an overwhelming number of locals asking for assistance, but this is a Taliban-ridden area,” Yusufi said.  At least 24 people were also died in two other eastern border provinces, Khost and Nangarhar, according to local officials. More than fifty homes and shops were destroyed and thousands of acres of farmland flooded.  In Pakistan monsoon rains claimed more than 80 lives, local media reported. Houses collapsing, drowning and electrocution all pushed up the death toll, said Sindh Information Minister Sharjeel Inam Memon.  In Karachi, the commercial capital and a southern port city that is home to 18 million people, poor neighborhoods were submerged waist-deep in water and many precincts suffered long power outages. Deaths were also reported in the north and west of the country.  Additional reporting by Reuters\",\n",
       "  'title': '160 killed and hundreds left stranded by flooding across Afghanistan and Pakistan',\n",
       "  'type': 'text'},\n",
       " {'authors': [],\n",
       "  'date_pub': None,\n",
       "  'domain': 'http://reliefweb.int',\n",
       "  'text': '',\n",
       "  'title': '',\n",
       "  'type': 'text'},\n",
       " {'authors': [],\n",
       "  'date_pub': None,\n",
       "  'domain': 'https://www.humanitarianresponse.info',\n",
       "  'text': '',\n",
       "  'title': 'IOM-HAP RAF Data (01 January 2015 - 31 December 2015)',\n",
       "  'type': 'text'},\n",
       " {'authors': [],\n",
       "  'date_pub': datetime.datetime(2015, 5, 11, 9, 15, 5, tzinfo=tzutc()),\n",
       "  'domain': 'http://floodlist.com',\n",
       "  'text': 'Afghanistan state news agency, Bakhtar News Agency (BNA) report that at least 7 people have been killed in flash floods in Faryab Province in the north of the country. Flash floods in Baghlan Province have killed 1 person and injured around 10 others.  Flash floods struck on 08 May 2015 in Faryab Province after a period of heavy rainfall. The districts of Garyzan, Pashtunkot and Belcheragh were worst affected. BNA report that at least 7 people were killed and over 1,500 homes damaged. The Faizabada-Takhar highway have been closed to traffic and wide areas of crops and orchards have suffered damaged.  Kuwaiti News Agency (KUNA) also report that flooding struck in the Baghlan-i-Markazi district of Baghlan province, where 1 person was killed and several injured early on Saturday 09 May 2015.  “There was heavy rain in Baghlan-e-Markazi district Friday evening and the people left their houses to safer areas. It was early Saturday when a flash flood hit the area and washed away more than 500 houses,” district Governor Gohar Khan Babri told reporters in provincial capital Pul-e-Khumri, 160 km north of Kabul.',\n",
       "  'title': 'Afghanistan – Flash Floods in Faryab and Baghlan Leave 8 Dead',\n",
       "  'type': 'text'}]"
      ]
     },
     "execution_count": 22,
     "metadata": {},
     "output_type": "execute_result"
    }
   ],
   "source": [
    "reports"
   ]
  },
  {
   "cell_type": "code",
   "execution_count": 14,
   "metadata": {
    "collapsed": true
   },
   "outputs": [],
   "source": [
    "report = {}"
   ]
  },
  {
   "cell_type": "code",
   "execution_count": 15,
   "metadata": {
    "collapsed": false
   },
   "outputs": [],
   "source": [
    "report = html_report('http://floodlist.com/asia/afghanistan-flash-floods-faryab-baghlan-8-dead')"
   ]
  },
  {
   "cell_type": "code",
   "execution_count": 16,
   "metadata": {
    "collapsed": false
   },
   "outputs": [
    {
     "data": {
      "text/plain": [
       "{'authors': [],\n",
       " 'date_pub': datetime.datetime(2015, 5, 11, 9, 15, 5, tzinfo=tzutc()),\n",
       " 'domain': 'http://floodlist.com',\n",
       " 'text': 'Afghanistan state news agency, Bakhtar News Agency (BNA) report that at least 7 people have been killed in flash floods in Faryab Province in the north of the country. Flash floods in Baghlan Province have killed 1 person and injured around 10 others.  Flash floods struck on 08 May 2015 in Faryab Province after a period of heavy rainfall. The districts of Garyzan, Pashtunkot and Belcheragh were worst affected. BNA report that at least 7 people were killed and over 1,500 homes damaged. The Faizabada-Takhar highway have been closed to traffic and wide areas of crops and orchards have suffered damaged.  Kuwaiti News Agency (KUNA) also report that flooding struck in the Baghlan-i-Markazi district of Baghlan province, where 1 person was killed and several injured early on Saturday 09 May 2015.  “There was heavy rain in Baghlan-e-Markazi district Friday evening and the people left their houses to safer areas. It was early Saturday when a flash flood hit the area and washed away more than 500 houses,” district Governor Gohar Khan Babri told reporters in provincial capital Pul-e-Khumri, 160 km north of Kabul.',\n",
       " 'title': 'Afghanistan – Flash Floods in Faryab and Baghlan Leave 8 Dead',\n",
       " 'type': 'text'}"
      ]
     },
     "execution_count": 16,
     "metadata": {},
     "output_type": "execute_result"
    }
   ],
   "source": [
    "report"
   ]
  },
  {
   "cell_type": "code",
   "execution_count": 141,
   "metadata": {
    "collapsed": false
   },
   "outputs": [],
   "source": [
    "report = [report]"
   ]
  },
  {
   "cell_type": "code",
   "execution_count": 107,
   "metadata": {
    "collapsed": false
   },
   "outputs": [],
   "source": [
    "keys = report[0].keys()"
   ]
  },
  {
   "cell_type": "code",
   "execution_count": 110,
   "metadata": {
    "collapsed": false
   },
   "outputs": [],
   "source": [
    "with open('data.csv', 'w') as f:\n",
    "    dict_writer = csv.DictWriter(f, fieldnames=keys)\n",
    "    dict_writer.writeheader()\n",
    "    dict_writer.writerows(report)"
   ]
  },
  {
   "cell_type": "code",
   "execution_count": null,
   "metadata": {
    "collapsed": true
   },
   "outputs": [],
   "source": []
  }
 ],
 "metadata": {
  "anaconda-cloud": {},
  "kernelspec": {
   "display_name": "Python [d4d-internal-displacement]",
   "language": "python",
   "name": "Python [d4d-internal-displacement]"
  },
  "language_info": {
   "codemirror_mode": {
    "name": "ipython",
    "version": 3
   },
   "file_extension": ".py",
   "mimetype": "text/x-python",
   "name": "python",
   "nbconvert_exporter": "python",
   "pygments_lexer": "ipython3",
   "version": "3.6.0"
  }
 },
 "nbformat": 4,
 "nbformat_minor": 0
}
