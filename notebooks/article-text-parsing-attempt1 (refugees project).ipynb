{
 "cells": [
  {
   "cell_type": "code",
   "execution_count": 1,
   "metadata": {
    "collapsed": true
   },
   "outputs": [],
   "source": [
    "import pandas as pd\n"
   ]
  },
  {
   "cell_type": "code",
   "execution_count": 2,
   "metadata": {
    "collapsed": true
   },
   "outputs": [],
   "source": [
    "import spacy\n",
    "nlp = spacy.load('en')"
   ]
  },
  {
   "cell_type": "code",
   "execution_count": 3,
   "metadata": {
    "collapsed": true
   },
   "outputs": [],
   "source": [
    "# the csv file is from the training data\n",
    "articleDF = pd.read_csv('datasets/article_contents.csv')"
   ]
  },
  {
   "cell_type": "markdown",
   "metadata": {},
   "source": [
    "<h3>Inspecting what is inside the article_contents</h3>"
   ]
  },
  {
   "cell_type": "code",
   "execution_count": 4,
   "metadata": {
    "collapsed": false
   },
   "outputs": [
    {
     "data": {
      "text/html": [
       "<div>\n",
       "<table border=\"1\" class=\"dataframe\">\n",
       "  <thead>\n",
       "    <tr style=\"text-align: right;\">\n",
       "      <th></th>\n",
       "      <th>country</th>\n",
       "      <th>url</th>\n",
       "      <th>tag</th>\n",
       "      <th>title</th>\n",
       "      <th>meta_description</th>\n",
       "      <th>content</th>\n",
       "    </tr>\n",
       "  </thead>\n",
       "  <tbody>\n",
       "    <tr>\n",
       "      <th>0</th>\n",
       "      <td>Afghanistan</td>\n",
       "      <td>http://www.independent.co.uk/news/world/asia/1...</td>\n",
       "      <td>Disasters</td>\n",
       "      <td>160 killed and hundreds left stranded by flood...</td>\n",
       "      <td>Flash flooding across Afghanistan and Pakistan...</td>\n",
       "      <td>Flash flooding across Afghanistan and Pakistan...</td>\n",
       "    </tr>\n",
       "    <tr>\n",
       "      <th>1</th>\n",
       "      <td>Afghanistan</td>\n",
       "      <td>http://floodlist.com/asia/afghanistan-flash-fl...</td>\n",
       "      <td>Disasters</td>\n",
       "      <td>Afghanistan – Flash Floods in Faryab and Baghl...</td>\n",
       "      <td>NaN</td>\n",
       "      <td>Afghanistan state news agency, Bakhtar News Ag...</td>\n",
       "    </tr>\n",
       "    <tr>\n",
       "      <th>2</th>\n",
       "      <td>Afghanistan</td>\n",
       "      <td>http://floodlist.com/asia/afghanistan-6-dead-f...</td>\n",
       "      <td>Disasters</td>\n",
       "      <td>Afghanistan - 6 Dead as Flash Floods Hit Badak...</td>\n",
       "      <td>NaN</td>\n",
       "      <td>Flash floods have struck once again in the Bad...</td>\n",
       "    </tr>\n",
       "    <tr>\n",
       "      <th>3</th>\n",
       "      <td>Afghanistan</td>\n",
       "      <td>http://reliefweb.int/report/afghanistan/afghan...</td>\n",
       "      <td>Disasters</td>\n",
       "      <td>Afghanistan Earthquake: Overview of Assessed N...</td>\n",
       "      <td>Afghanistan Earthquake: OCHA Situation Report ...</td>\n",
       "      <td>UN Office for the Coordination of Humanitarian...</td>\n",
       "    </tr>\n",
       "    <tr>\n",
       "      <th>4</th>\n",
       "      <td>Albania</td>\n",
       "      <td>http://www.euronews.com/2014/11/19/albania-flo...</td>\n",
       "      <td>Disasters</td>\n",
       "      <td>Albania floods kill at least 3 people | Euronews</td>\n",
       "      <td>Flooding in Albania has killed at least three ...</td>\n",
       "      <td>Flooding in Albania has killed at least three ...</td>\n",
       "    </tr>\n",
       "  </tbody>\n",
       "</table>\n",
       "</div>"
      ],
      "text/plain": [
       "       country                                                url        tag  \\\n",
       "0  Afghanistan  http://www.independent.co.uk/news/world/asia/1...  Disasters   \n",
       "1  Afghanistan  http://floodlist.com/asia/afghanistan-flash-fl...  Disasters   \n",
       "2  Afghanistan  http://floodlist.com/asia/afghanistan-6-dead-f...  Disasters   \n",
       "3  Afghanistan  http://reliefweb.int/report/afghanistan/afghan...  Disasters   \n",
       "4      Albania  http://www.euronews.com/2014/11/19/albania-flo...  Disasters   \n",
       "\n",
       "                                               title  \\\n",
       "0  160 killed and hundreds left stranded by flood...   \n",
       "1  Afghanistan – Flash Floods in Faryab and Baghl...   \n",
       "2  Afghanistan - 6 Dead as Flash Floods Hit Badak...   \n",
       "3  Afghanistan Earthquake: Overview of Assessed N...   \n",
       "4   Albania floods kill at least 3 people | Euronews   \n",
       "\n",
       "                                    meta_description  \\\n",
       "0  Flash flooding across Afghanistan and Pakistan...   \n",
       "1                                                NaN   \n",
       "2                                                NaN   \n",
       "3  Afghanistan Earthquake: OCHA Situation Report ...   \n",
       "4  Flooding in Albania has killed at least three ...   \n",
       "\n",
       "                                             content  \n",
       "0  Flash flooding across Afghanistan and Pakistan...  \n",
       "1  Afghanistan state news agency, Bakhtar News Ag...  \n",
       "2  Flash floods have struck once again in the Bad...  \n",
       "3  UN Office for the Coordination of Humanitarian...  \n",
       "4  Flooding in Albania has killed at least three ...  "
      ]
     },
     "execution_count": 4,
     "metadata": {},
     "output_type": "execute_result"
    }
   ],
   "source": [
    "articleDF.head(5)"
   ]
  },
  {
   "cell_type": "code",
   "execution_count": 10,
   "metadata": {
    "collapsed": false
   },
   "outputs": [
    {
     "name": "stdout",
     "output_type": "stream",
     "text": [
      "160 killed and hundreds left stranded by flooding across Afghanistan\n"
     ]
    }
   ],
   "source": [
    "print(articleDF['title'][0])"
   ]
  },
  {
   "cell_type": "code",
   "execution_count": 11,
   "metadata": {
    "collapsed": false
   },
   "outputs": [
    {
     "name": "stdout",
     "output_type": "stream",
     "text": [
      "Flash flooding across Afghanistan and Pakistan has left more than 160 dead and dozens stranded in one of South Asia's worst natural disasters this year, say officials.\n"
     ]
    }
   ],
   "source": [
    "print(articleDF['meta_description'][0])"
   ]
  },
  {
   "cell_type": "code",
   "execution_count": 6,
   "metadata": {
    "collapsed": false
   },
   "outputs": [
    {
     "data": {
      "text/plain": [
       "\"Flash flooding across Afghanistan and Pakistan has left more than 160 dead and dozens stranded in one of South Asia's worst natural disasters this year, say officials.  The flooding, caused by unusually heavy rain, has left villagers stuck in remote areas without shelter, food or power.  Mountainous Afghanistan was the worst hit, with 61 people killed and approximately 500 traditional mud-brick homes washed away in more than a dozen villages in Sarobi, a rural district less than an hour from Kabul, officials said.  Floods left a village devastated in the remote eastern Afghan province of Nuristan. At least 60 homes were destroyed across three districts, said provincial spokesman Mohammad Yusufi. No one was killed.  Authorities have been unable to deliver aid to some badly affected villages by land as roads in the area are controlled by the Taliban, Yusufi added.  “We have asked the national government for help as have an overwhelming number of locals asking for assistance, but this is a Taliban-ridden area,” Yusufi said.  At least 24 people were also died in two other eastern border provinces, Khost and Nangarhar, according to local officials. More than fifty homes and shops were destroyed and thousands of acres of farmland flooded.  In Pakistan monsoon rains claimed more than 80 lives, local media reported. Houses collapsing, drowning and electrocution all pushed up the death toll, said Sindh Information Minister Sharjeel Inam Memon.  In Karachi, the commercial capital and a southern port city that is home to 18 million people, poor neighborhoods were submerged waist-deep in water and many precincts suffered long power outages. Deaths were also reported in the north and west of the country.\""
      ]
     },
     "execution_count": 6,
     "metadata": {},
     "output_type": "execute_result"
    }
   ],
   "source": [
    "articleDF['content'][0]"
   ]
  },
  {
   "cell_type": "code",
   "execution_count": 7,
   "metadata": {
    "collapsed": false
   },
   "outputs": [
    {
     "data": {
      "text/plain": [
       "array(['Disasters', 'Conflict and violence'], dtype=object)"
      ]
     },
     "execution_count": 7,
     "metadata": {},
     "output_type": "execute_result"
    }
   ],
   "source": [
    "articleDF['tag'].unique()"
   ]
  },
  {
   "cell_type": "markdown",
   "metadata": {},
   "source": [
    "First attempt: running the entire content of 1 article through Spacy"
   ]
  },
  {
   "cell_type": "code",
   "execution_count": 8,
   "metadata": {
    "collapsed": true
   },
   "outputs": [],
   "source": [
    "parsed_text = nlp(articleDF['content'][0])\n",
    "#after running through spacy, some stuff you can do e.g. POS-- \n",
    "\"\"\"for word in parsed_text:\n",
    "    print(word.pos_, word)\"\"\""
   ]
  },
  {
   "cell_type": "code",
   "execution_count": 41,
   "metadata": {
    "collapsed": false
   },
   "outputs": [
    {
     "name": "stdout",
     "output_type": "stream",
     "text": [
      "more than 160 dead and\n",
      "dozens stranded in\n",
      "61 people killed\n",
      "500 traditional mud\n",
      "dozen villages in\n",
      "At least 60 homes were\n",
      "three districts,\n",
      "At least 24 people were\n",
      "two other eastern\n",
      "More than fifty homes and\n",
      "more than 80 lives,\n",
      "18 million people,\n"
     ]
    }
   ],
   "source": [
    "#trying to get all the numbers in the article:\n",
    "#not too bad but need some sort of thinking as to deciding which ones are releavnt!\n",
    "ents = list(parsed_text.ents)\n",
    "for entity in ents:\n",
    "    sentence = entity.sent\n",
    "    for idx, word in enumerate(sentence):\n",
    "        if(word == entity.root and entity.label_ == 'CARDINAL'):\n",
    "            print(entity,sentence[idx + 1: idx + 3])\n"
   ]
  },
  {
   "cell_type": "code",
   "execution_count": 99,
   "metadata": {
    "collapsed": true
   },
   "outputs": [],
   "source": [
    "'''\n",
    "Ignore this for now. I stumbled across a tutuorial for a text processing pipeline using the below-- might come in \n",
    "handy later... Except I can't seem to find the link...!\n",
    "'''\n",
    "def punct_space(token):\n",
    "    \"\"\"\n",
    "    helper function to eliminate tokens\n",
    "    that are pure punctuation or whitespace\n",
    "    \"\"\"\n",
    "    \n",
    "    return token.is_punct or token.is_space\n",
    "\n",
    "def article_review(filename):\n",
    "    \"\"\"\n",
    "    generator function to read in articles from the dataframe\n",
    "    and un-escape the original line breaks in the text\n",
    "    \"\"\"\n",
    "    \n",
    "    with codecs.open(filename, encoding='utf_8') as f:\n",
    "        for review in f:\n",
    "            yield review.replace('\\\\n', '\\n')\n",
    "            \n",
    "def lemmatized_sentence_corpus(filename):\n",
    "    \"\"\"\n",
    "    generator function to use spaCy to parse reviews,\n",
    "    lemmatize the text, and yield sentences\n",
    "    \"\"\"\n",
    "    \n",
    "    for parsed_article in nlp.pipe(article_review(filename), batch_size=10000, n_threads=4):\n",
    "        \n",
    "        for sent in parsed_article.sents:\n",
    "            yield u' '.join([token.lemma_ for token in sent\n",
    "                             if not punct_space(token)])"
   ]
  },
  {
   "cell_type": "code",
   "execution_count": 91,
   "metadata": {
    "collapsed": true
   },
   "outputs": [],
   "source": [
    "# intuition is that the main info would be in the title-- for now just parse \n",
    "# this rather than trying to deal with the whole aritlce\n",
    "def parse_title_for_units(title_text):\n",
    "    parsed_text = nlp(title_text) #run title through spacy pipline\n",
    "    ents = list(parsed_text.ents) #grab the named entities detected\n",
    "    output = []\n",
    "    for entity in ents:\n",
    "         #the sentence in whcih the entity lives-- since for numbers, spacy doesn't include units e.g. 160 rather than 160 peopel\n",
    "        sentence = entity.sent\n",
    "        for idx, word in enumerate(sentence): \n",
    "            # for now, it seems that the only the ones with entity label == cardinal are relevant to the number of reporting units\n",
    "            if(word == entity.root and entity.label_ == 'CARDINAL'):\n",
    "                # the following to grab a few extra words round that entity to get the units\n",
    "                if(len(sentence) > idx + 1):\n",
    "                    output.append(entity.text_with_ws + sentence[idx + 1].text)\n",
    "                else:\n",
    "                    output.append(sentence[idx - 1].text_with_ws + entity.text)\n",
    "    return output\n",
    "\n",
    "    "
   ]
  },
  {
   "cell_type": "code",
   "execution_count": 92,
   "metadata": {
    "collapsed": false
   },
   "outputs": [
    {
     "data": {
      "text/plain": [
       "['160 killed', 'hundreds left']"
      ]
     },
     "execution_count": 92,
     "metadata": {},
     "output_type": "execute_result"
    }
   ],
   "source": [
    "#test the parser for the first title...\n",
    "parse_title_for_units(articleDF['title'][0])"
   ]
  },
  {
   "cell_type": "code",
   "execution_count": 93,
   "metadata": {
    "collapsed": false
   },
   "outputs": [],
   "source": [
    "#seems okay-- run it through the dataframe\n",
    "articleDF['parse_title_for_units'] = articleDF['title'].map(parse_title_for_units)"
   ]
  },
  {
   "cell_type": "code",
   "execution_count": 94,
   "metadata": {
    "collapsed": false
   },
   "outputs": [
    {
     "data": {
      "text/html": [
       "<div>\n",
       "<table border=\"1\" class=\"dataframe\">\n",
       "  <thead>\n",
       "    <tr style=\"text-align: right;\">\n",
       "      <th></th>\n",
       "      <th>country</th>\n",
       "      <th>url</th>\n",
       "      <th>tag</th>\n",
       "      <th>title</th>\n",
       "      <th>meta_description</th>\n",
       "      <th>content</th>\n",
       "      <th>parse_title_for_units</th>\n",
       "    </tr>\n",
       "  </thead>\n",
       "  <tbody>\n",
       "    <tr>\n",
       "      <th>0</th>\n",
       "      <td>Afghanistan</td>\n",
       "      <td>http://www.independent.co.uk/news/world/asia/1...</td>\n",
       "      <td>Disasters</td>\n",
       "      <td>160 killed and hundreds left stranded by flood...</td>\n",
       "      <td>Flash flooding across Afghanistan and Pakistan...</td>\n",
       "      <td>Flash flooding across Afghanistan and Pakistan...</td>\n",
       "      <td>[160 killed, hundreds left]</td>\n",
       "    </tr>\n",
       "    <tr>\n",
       "      <th>1</th>\n",
       "      <td>Afghanistan</td>\n",
       "      <td>http://floodlist.com/asia/afghanistan-flash-fl...</td>\n",
       "      <td>Disasters</td>\n",
       "      <td>Afghanistan – Flash Floods in Faryab and Baghl...</td>\n",
       "      <td>NaN</td>\n",
       "      <td>Afghanistan state news agency, Bakhtar News Ag...</td>\n",
       "      <td>[]</td>\n",
       "    </tr>\n",
       "    <tr>\n",
       "      <th>2</th>\n",
       "      <td>Afghanistan</td>\n",
       "      <td>http://floodlist.com/asia/afghanistan-6-dead-f...</td>\n",
       "      <td>Disasters</td>\n",
       "      <td>Afghanistan - 6 Dead as Flash Floods Hit Badak...</td>\n",
       "      <td>NaN</td>\n",
       "      <td>Flash floods have struck once again in the Bad...</td>\n",
       "      <td>[]</td>\n",
       "    </tr>\n",
       "    <tr>\n",
       "      <th>3</th>\n",
       "      <td>Afghanistan</td>\n",
       "      <td>http://reliefweb.int/report/afghanistan/afghan...</td>\n",
       "      <td>Disasters</td>\n",
       "      <td>Afghanistan Earthquake: Overview of Assessed N...</td>\n",
       "      <td>Afghanistan Earthquake: OCHA Situation Report ...</td>\n",
       "      <td>UN Office for the Coordination of Humanitarian...</td>\n",
       "      <td>[]</td>\n",
       "    </tr>\n",
       "    <tr>\n",
       "      <th>4</th>\n",
       "      <td>Albania</td>\n",
       "      <td>http://www.euronews.com/2014/11/19/albania-flo...</td>\n",
       "      <td>Disasters</td>\n",
       "      <td>Albania floods kill at least 3 people | Euronews</td>\n",
       "      <td>Flooding in Albania has killed at least three ...</td>\n",
       "      <td>Flooding in Albania has killed at least three ...</td>\n",
       "      <td>[at least 3 people]</td>\n",
       "    </tr>\n",
       "    <tr>\n",
       "      <th>5</th>\n",
       "      <td>Algeria</td>\n",
       "      <td>http://floodlist.com/africa/torrential-rains-d...</td>\n",
       "      <td>Disasters</td>\n",
       "      <td>Torrential Rains Destroy 400 Homes in Algeria</td>\n",
       "      <td>NaN</td>\n",
       "      <td>ALGIERS (AA) – Hundreds of homes have been des...</td>\n",
       "      <td>[400 Homes]</td>\n",
       "    </tr>\n",
       "    <tr>\n",
       "      <th>6</th>\n",
       "      <td>Angola</td>\n",
       "      <td>http://floodlist.com/africa/thousands-homes-da...</td>\n",
       "      <td>Disasters</td>\n",
       "      <td>Thousands of Homes Damaged by Floods in Luanda...</td>\n",
       "      <td>NaN</td>\n",
       "      <td>Heavy rain on Monday 09 March 2015 flooded at ...</td>\n",
       "      <td>[Thousands of]</td>\n",
       "    </tr>\n",
       "    <tr>\n",
       "      <th>7</th>\n",
       "      <td>Angola</td>\n",
       "      <td>http://www.portalangop.co.ao/angola/en_us/noti...</td>\n",
       "      <td>Disasters</td>\n",
       "      <td>Cuanza Sul: Over thousand affected by rains</td>\n",
       "      <td>Cuanza Sul: Over thousand affected by rains - ...</td>\n",
       "      <td>The information is contained in a report on th...</td>\n",
       "      <td>[]</td>\n",
       "    </tr>\n",
       "    <tr>\n",
       "      <th>8</th>\n",
       "      <td>Argentina</td>\n",
       "      <td>http://www.argentinaindependent.com/tag/rio-pa...</td>\n",
       "      <td>Disasters</td>\n",
       "      <td>rio parana ‹ The Argentina Independent</td>\n",
       "      <td>NaN</td>\n",
       "      <td>When you boat your way somewhere, even if just...</td>\n",
       "      <td>[]</td>\n",
       "    </tr>\n",
       "    <tr>\n",
       "      <th>9</th>\n",
       "      <td>Argentina</td>\n",
       "      <td>http://www.buenosairesherald.com/article/20115...</td>\n",
       "      <td>Disasters</td>\n",
       "      <td>Earthquake in Salta kills a 94-year-old woman,...</td>\n",
       "      <td>Earthquake in Salta kills a 94-year-old woman,...</td>\n",
       "      <td>The debris of collapsed houses is pictured in ...</td>\n",
       "      <td>[injures 30]</td>\n",
       "    </tr>\n",
       "    <tr>\n",
       "      <th>10</th>\n",
       "      <td>Argentina</td>\n",
       "      <td>https://www-secure.ifrc.org/DMISII/pages/02_Di...</td>\n",
       "      <td>Disasters</td>\n",
       "      <td>Disaster Management Information System (DMIS) ...</td>\n",
       "      <td>NaN</td>\n",
       "      <td>The Disaster Management Information System (DM...</td>\n",
       "      <td>[]</td>\n",
       "    </tr>\n",
       "    <tr>\n",
       "      <th>11</th>\n",
       "      <td>Armenia</td>\n",
       "      <td>http://www.internal-displacement.org/europe-th...</td>\n",
       "      <td>Conflict and violence</td>\n",
       "      <td>IDMC » Armenia IDP Figures Analysis</td>\n",
       "      <td>NaN</td>\n",
       "      <td>A profiling exercise led by NRC in 2005 found ...</td>\n",
       "      <td>[]</td>\n",
       "    </tr>\n",
       "    <tr>\n",
       "      <th>12</th>\n",
       "      <td>Australia</td>\n",
       "      <td>http://www.theage.com.au/victoria/house-washed...</td>\n",
       "      <td>Disasters</td>\n",
       "      <td>House washed away in landslide as storms, heav...</td>\n",
       "      <td>Several homes have been damaged and a woman ha...</td>\n",
       "      <td>Several homes have been damaged and a woman ha...</td>\n",
       "      <td>[]</td>\n",
       "    </tr>\n",
       "    <tr>\n",
       "      <th>13</th>\n",
       "      <td>Australia</td>\n",
       "      <td>http://edition.cnn.com/2015/02/19/world/austra...</td>\n",
       "      <td>Disasters</td>\n",
       "      <td>Tropical Cyclone Marcia pounds Australia</td>\n",
       "      <td>Australia's Queensland coast continued to be l...</td>\n",
       "      <td>Queensland Premier Annastacia Palaszczuk warne...</td>\n",
       "      <td>[]</td>\n",
       "    </tr>\n",
       "    <tr>\n",
       "      <th>14</th>\n",
       "      <td>Australia</td>\n",
       "      <td>http://www.theguardian.com/australia-news/2015...</td>\n",
       "      <td>Disasters</td>\n",
       "      <td>More than 100 homes confirmed lost in Great Oc...</td>\n",
       "      <td>Fire authorities say a final figure of 116 hom...</td>\n",
       "      <td>The number of homes destroyed in the Wye River...</td>\n",
       "      <td>[More than 100 homes]</td>\n",
       "    </tr>\n",
       "  </tbody>\n",
       "</table>\n",
       "</div>"
      ],
      "text/plain": [
       "        country                                                url  \\\n",
       "0   Afghanistan  http://www.independent.co.uk/news/world/asia/1...   \n",
       "1   Afghanistan  http://floodlist.com/asia/afghanistan-flash-fl...   \n",
       "2   Afghanistan  http://floodlist.com/asia/afghanistan-6-dead-f...   \n",
       "3   Afghanistan  http://reliefweb.int/report/afghanistan/afghan...   \n",
       "4       Albania  http://www.euronews.com/2014/11/19/albania-flo...   \n",
       "5       Algeria  http://floodlist.com/africa/torrential-rains-d...   \n",
       "6        Angola  http://floodlist.com/africa/thousands-homes-da...   \n",
       "7        Angola  http://www.portalangop.co.ao/angola/en_us/noti...   \n",
       "8     Argentina  http://www.argentinaindependent.com/tag/rio-pa...   \n",
       "9     Argentina  http://www.buenosairesherald.com/article/20115...   \n",
       "10    Argentina  https://www-secure.ifrc.org/DMISII/pages/02_Di...   \n",
       "11      Armenia  http://www.internal-displacement.org/europe-th...   \n",
       "12    Australia  http://www.theage.com.au/victoria/house-washed...   \n",
       "13    Australia  http://edition.cnn.com/2015/02/19/world/austra...   \n",
       "14    Australia  http://www.theguardian.com/australia-news/2015...   \n",
       "\n",
       "                      tag                                              title  \\\n",
       "0               Disasters  160 killed and hundreds left stranded by flood...   \n",
       "1               Disasters  Afghanistan – Flash Floods in Faryab and Baghl...   \n",
       "2               Disasters  Afghanistan - 6 Dead as Flash Floods Hit Badak...   \n",
       "3               Disasters  Afghanistan Earthquake: Overview of Assessed N...   \n",
       "4               Disasters   Albania floods kill at least 3 people | Euronews   \n",
       "5               Disasters      Torrential Rains Destroy 400 Homes in Algeria   \n",
       "6               Disasters  Thousands of Homes Damaged by Floods in Luanda...   \n",
       "7               Disasters        Cuanza Sul: Over thousand affected by rains   \n",
       "8               Disasters             rio parana ‹ The Argentina Independent   \n",
       "9               Disasters  Earthquake in Salta kills a 94-year-old woman,...   \n",
       "10              Disasters  Disaster Management Information System (DMIS) ...   \n",
       "11  Conflict and violence                IDMC » Armenia IDP Figures Analysis   \n",
       "12              Disasters  House washed away in landslide as storms, heav...   \n",
       "13              Disasters           Tropical Cyclone Marcia pounds Australia   \n",
       "14              Disasters  More than 100 homes confirmed lost in Great Oc...   \n",
       "\n",
       "                                     meta_description  \\\n",
       "0   Flash flooding across Afghanistan and Pakistan...   \n",
       "1                                                 NaN   \n",
       "2                                                 NaN   \n",
       "3   Afghanistan Earthquake: OCHA Situation Report ...   \n",
       "4   Flooding in Albania has killed at least three ...   \n",
       "5                                                 NaN   \n",
       "6                                                 NaN   \n",
       "7   Cuanza Sul: Over thousand affected by rains - ...   \n",
       "8                                                 NaN   \n",
       "9   Earthquake in Salta kills a 94-year-old woman,...   \n",
       "10                                                NaN   \n",
       "11                                                NaN   \n",
       "12  Several homes have been damaged and a woman ha...   \n",
       "13  Australia's Queensland coast continued to be l...   \n",
       "14  Fire authorities say a final figure of 116 hom...   \n",
       "\n",
       "                                              content  \\\n",
       "0   Flash flooding across Afghanistan and Pakistan...   \n",
       "1   Afghanistan state news agency, Bakhtar News Ag...   \n",
       "2   Flash floods have struck once again in the Bad...   \n",
       "3   UN Office for the Coordination of Humanitarian...   \n",
       "4   Flooding in Albania has killed at least three ...   \n",
       "5   ALGIERS (AA) – Hundreds of homes have been des...   \n",
       "6   Heavy rain on Monday 09 March 2015 flooded at ...   \n",
       "7   The information is contained in a report on th...   \n",
       "8   When you boat your way somewhere, even if just...   \n",
       "9   The debris of collapsed houses is pictured in ...   \n",
       "10  The Disaster Management Information System (DM...   \n",
       "11  A profiling exercise led by NRC in 2005 found ...   \n",
       "12  Several homes have been damaged and a woman ha...   \n",
       "13  Queensland Premier Annastacia Palaszczuk warne...   \n",
       "14  The number of homes destroyed in the Wye River...   \n",
       "\n",
       "          parse_title_for_units  \n",
       "0   [160 killed, hundreds left]  \n",
       "1                            []  \n",
       "2                            []  \n",
       "3                            []  \n",
       "4           [at least 3 people]  \n",
       "5                   [400 Homes]  \n",
       "6                [Thousands of]  \n",
       "7                            []  \n",
       "8                            []  \n",
       "9                  [injures 30]  \n",
       "10                           []  \n",
       "11                           []  \n",
       "12                           []  \n",
       "13                           []  \n",
       "14        [More than 100 homes]  "
      ]
     },
     "execution_count": 94,
     "metadata": {},
     "output_type": "execute_result"
    }
   ],
   "source": [
    "articleDF.head(15)"
   ]
  },
  {
   "cell_type": "code",
   "execution_count": 78,
   "metadata": {
    "collapsed": false
   },
   "outputs": [
    {
     "name": "stdout",
     "output_type": "stream",
     "text": [
      "PROPN Afghanistan\n",
      "PUNCT -\n",
      "NUM 6\n",
      "PROPN Dead\n",
      "ADP as\n",
      "PROPN Flash\n",
      "PROPN Floods\n",
      "PROPN Hit\n",
      "PROPN Badakhshan\n",
      "PROPN Province\n",
      "ADV Once\n",
      "ADV Again\n"
     ]
    }
   ],
   "source": []
  },
  {
   "cell_type": "code",
   "execution_count": 95,
   "metadata": {
    "collapsed": true
   },
   "outputs": [],
   "source": [
    "articleDF.to_csv('datasets/refugess_training_text_parsing_test_1.csv')"
   ]
  },
  {
   "cell_type": "code",
   "execution_count": 96,
   "metadata": {
    "collapsed": false
   },
   "outputs": [
    {
     "data": {
      "text/html": [
       "<div>\n",
       "<table border=\"1\" class=\"dataframe\">\n",
       "  <thead>\n",
       "    <tr style=\"text-align: right;\">\n",
       "      <th></th>\n",
       "      <th>country</th>\n",
       "      <th>url</th>\n",
       "      <th>tag</th>\n",
       "      <th>title</th>\n",
       "      <th>meta_description</th>\n",
       "      <th>content</th>\n",
       "      <th>parse_title_for_units</th>\n",
       "    </tr>\n",
       "  </thead>\n",
       "  <tbody>\n",
       "    <tr>\n",
       "      <th>40</th>\n",
       "      <td>China</td>\n",
       "      <td>http://news.xinhuanet.com/english/china/2014-0...</td>\n",
       "      <td>Disasters</td>\n",
       "      <td>China rainstorms kill at least 34</td>\n",
       "      <td>The Ministry of Civil Affairs on Thursday said...</td>\n",
       "      <td>BEIJING, July 17 (Xinhua) -- The Ministry of C...</td>\n",
       "      <td>[least at least 34]</td>\n",
       "    </tr>\n",
       "    <tr>\n",
       "      <th>41</th>\n",
       "      <td>China</td>\n",
       "      <td>http://floodlist.com/asia/14-dead-337000-evacu...</td>\n",
       "      <td>Disasters</td>\n",
       "      <td>14 dead, 337,000 Evacuated in Southern China F...</td>\n",
       "      <td>NaN</td>\n",
       "      <td>Further severe weather, floods and landslides ...</td>\n",
       "      <td>[14 dead, 337,000 Evacuated]</td>\n",
       "    </tr>\n",
       "    <tr>\n",
       "      <th>42</th>\n",
       "      <td>China</td>\n",
       "      <td>http://news.xinhuanet.com/english/china/2014-0...</td>\n",
       "      <td>Disasters</td>\n",
       "      <td>Typhoon Matmo kills 13 in China</td>\n",
       "      <td>Typhoon Matmo has claimed 13 lives in China an...</td>\n",
       "      <td>BEIJING, July 27 (Xinhua) -- Typhoon Matmo has...</td>\n",
       "      <td>[13 in]</td>\n",
       "    </tr>\n",
       "    <tr>\n",
       "      <th>43</th>\n",
       "      <td>China</td>\n",
       "      <td>http://floodlist.com/asia/25-dead-7-days-flood...</td>\n",
       "      <td>Disasters</td>\n",
       "      <td>25 Dead after 7 Days of Flooding in China</td>\n",
       "      <td>NaN</td>\n",
       "      <td>The week-long flooding that has swept across s...</td>\n",
       "      <td>[25 Dead]</td>\n",
       "    </tr>\n",
       "    <tr>\n",
       "      <th>44</th>\n",
       "      <td>China</td>\n",
       "      <td>http://floodlist.com/asia/chongqing-floods-con...</td>\n",
       "      <td>Disasters</td>\n",
       "      <td>Chongqing Floods Continue – Over 40 Killed</td>\n",
       "      <td>NaN</td>\n",
       "      <td>The flooding has continued in south western Ch...</td>\n",
       "      <td>[]</td>\n",
       "    </tr>\n",
       "    <tr>\n",
       "      <th>45</th>\n",
       "      <td>China</td>\n",
       "      <td>http://earthquake-report.com/2014/02/12/very-s...</td>\n",
       "      <td>Disasters</td>\n",
       "      <td>Extremely dangerous earthquake in Xinjiang, Ch...</td>\n",
       "      <td>NaN</td>\n",
       "      <td>The best independent earthquake reporting site...</td>\n",
       "      <td>[60,000 severely, 85,000 people, 11000+ animals]</td>\n",
       "    </tr>\n",
       "    <tr>\n",
       "      <th>46</th>\n",
       "      <td>China</td>\n",
       "      <td>http://news.xinhuanet.com/english/china/2014-1...</td>\n",
       "      <td>Disasters</td>\n",
       "      <td>Grief and rescue after SW China quake</td>\n",
       "      <td>A candlelight vigil was held early Wednesday m...</td>\n",
       "      <td>JINGGU, Yunnan, Oct. 8 (Xinhua) -- A candlelig...</td>\n",
       "      <td>[]</td>\n",
       "    </tr>\n",
       "    <tr>\n",
       "      <th>47</th>\n",
       "      <td>China</td>\n",
       "      <td>http://news.xinhuanet.com/english/china/2014-0...</td>\n",
       "      <td>Disasters</td>\n",
       "      <td>Three dead in south China rainstorms</td>\n",
       "      <td>NaN</td>\n",
       "      <td>CHANGSHA, May 11 (Xinhua) -- Heavy rainstorms ...</td>\n",
       "      <td>[Three dead]</td>\n",
       "    </tr>\n",
       "    <tr>\n",
       "      <th>48</th>\n",
       "      <td>China</td>\n",
       "      <td>http://rt.com/news/china-earthquake-yongshan-y...</td>\n",
       "      <td>Disasters</td>\n",
       "      <td>5.3 quake hits China’s southwest, at least 21 ...</td>\n",
       "      <td>A 5.3-magnitude earthquake in rural southwest ...</td>\n",
       "      <td>A 5.3-magnitude earthquake in rural southwest ...</td>\n",
       "      <td>[5.3 quake]</td>\n",
       "    </tr>\n",
       "    <tr>\n",
       "      <th>49</th>\n",
       "      <td>China</td>\n",
       "      <td>http://www.chinadaily.com.cn/china/2014-04/01/...</td>\n",
       "      <td>Disasters</td>\n",
       "      <td>21 dead, 4 missing in S China rainfall - China...</td>\n",
       "      <td>Deadly rains over the last few days have also ...</td>\n",
       "      <td>BEIJING - Heavy rainfall in South China over t...</td>\n",
       "      <td>[21 dead, 4 missing]</td>\n",
       "    </tr>\n",
       "  </tbody>\n",
       "</table>\n",
       "</div>"
      ],
      "text/plain": [
       "   country                                                url        tag  \\\n",
       "40   China  http://news.xinhuanet.com/english/china/2014-0...  Disasters   \n",
       "41   China  http://floodlist.com/asia/14-dead-337000-evacu...  Disasters   \n",
       "42   China  http://news.xinhuanet.com/english/china/2014-0...  Disasters   \n",
       "43   China  http://floodlist.com/asia/25-dead-7-days-flood...  Disasters   \n",
       "44   China  http://floodlist.com/asia/chongqing-floods-con...  Disasters   \n",
       "45   China  http://earthquake-report.com/2014/02/12/very-s...  Disasters   \n",
       "46   China  http://news.xinhuanet.com/english/china/2014-1...  Disasters   \n",
       "47   China  http://news.xinhuanet.com/english/china/2014-0...  Disasters   \n",
       "48   China  http://rt.com/news/china-earthquake-yongshan-y...  Disasters   \n",
       "49   China  http://www.chinadaily.com.cn/china/2014-04/01/...  Disasters   \n",
       "\n",
       "                                                title  \\\n",
       "40                  China rainstorms kill at least 34   \n",
       "41  14 dead, 337,000 Evacuated in Southern China F...   \n",
       "42                    Typhoon Matmo kills 13 in China   \n",
       "43          25 Dead after 7 Days of Flooding in China   \n",
       "44         Chongqing Floods Continue – Over 40 Killed   \n",
       "45  Extremely dangerous earthquake in Xinjiang, Ch...   \n",
       "46              Grief and rescue after SW China quake   \n",
       "47               Three dead in south China rainstorms   \n",
       "48  5.3 quake hits China’s southwest, at least 21 ...   \n",
       "49  21 dead, 4 missing in S China rainfall - China...   \n",
       "\n",
       "                                     meta_description  \\\n",
       "40  The Ministry of Civil Affairs on Thursday said...   \n",
       "41                                                NaN   \n",
       "42  Typhoon Matmo has claimed 13 lives in China an...   \n",
       "43                                                NaN   \n",
       "44                                                NaN   \n",
       "45                                                NaN   \n",
       "46  A candlelight vigil was held early Wednesday m...   \n",
       "47                                                NaN   \n",
       "48  A 5.3-magnitude earthquake in rural southwest ...   \n",
       "49  Deadly rains over the last few days have also ...   \n",
       "\n",
       "                                              content  \\\n",
       "40  BEIJING, July 17 (Xinhua) -- The Ministry of C...   \n",
       "41  Further severe weather, floods and landslides ...   \n",
       "42  BEIJING, July 27 (Xinhua) -- Typhoon Matmo has...   \n",
       "43  The week-long flooding that has swept across s...   \n",
       "44  The flooding has continued in south western Ch...   \n",
       "45  The best independent earthquake reporting site...   \n",
       "46  JINGGU, Yunnan, Oct. 8 (Xinhua) -- A candlelig...   \n",
       "47  CHANGSHA, May 11 (Xinhua) -- Heavy rainstorms ...   \n",
       "48  A 5.3-magnitude earthquake in rural southwest ...   \n",
       "49  BEIJING - Heavy rainfall in South China over t...   \n",
       "\n",
       "                               parse_title_for_units  \n",
       "40                               [least at least 34]  \n",
       "41                      [14 dead, 337,000 Evacuated]  \n",
       "42                                           [13 in]  \n",
       "43                                         [25 Dead]  \n",
       "44                                                []  \n",
       "45  [60,000 severely, 85,000 people, 11000+ animals]  \n",
       "46                                                []  \n",
       "47                                      [Three dead]  \n",
       "48                                       [5.3 quake]  \n",
       "49                              [21 dead, 4 missing]  "
      ]
     },
     "execution_count": 96,
     "metadata": {},
     "output_type": "execute_result"
    }
   ],
   "source": [
    "articleDF[40:50]"
   ]
  },
  {
   "cell_type": "code",
   "execution_count": null,
   "metadata": {
    "collapsed": true
   },
   "outputs": [],
   "source": []
  }
 ],
 "metadata": {
  "anaconda-cloud": {},
  "kernelspec": {
   "display_name": "Python [conda root]",
   "language": "python",
   "name": "conda-root-py"
  },
  "language_info": {
   "codemirror_mode": {
    "name": "ipython",
    "version": 3
   },
   "file_extension": ".py",
   "mimetype": "text/x-python",
   "name": "python",
   "nbconvert_exporter": "python",
   "pygments_lexer": "ipython3",
   "version": "3.5.2"
  }
 },
 "nbformat": 4,
 "nbformat_minor": 0
}
