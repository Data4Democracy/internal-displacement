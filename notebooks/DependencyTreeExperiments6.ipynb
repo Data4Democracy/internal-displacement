{
 "cells": [
  {
   "cell_type": "markdown",
   "metadata": {},
   "source": [
    "** Start a collection of tricky cases that the solution should be able to deal with **\n",
    "\n",
    "** Improve the methods to deal with some of these cases, including:**\n",
    "\n",
    "Deal with the case where the reporting unit is implied, and the actual subject is a number, i.e.:\n",
    "'2,536 relocated'\n",
    "\n",
    "Deal with two quantities in the same sentence relating to different reporting terms and units, i.e.:\n",
    "'More than 23,000 people have been affected and 2,536 relocated.'\n",
    "\n",
    "Include households as a reporting unit, i.e.:\n",
    "'A total of 1,964 households were displaced.'\n",
    "\n",
    "Include 'affected' as a possible reporting term when certain other keywords are present, for example Storm, Hurricane etc:\n",
    "'As many as 2,214 households have been affected by the rainstorms'\n",
    "\n",
    "Extend the subject / object search to include all tokens with dependency pobj, i.e. to cover sentences like:\n",
    "'A total of 1,964 households were displaced.'\n",
    "where the main subject is identified as being 'A total'\n",
    "\n",
    "Deal with the case where a reporting term is part of a conjunction, i.e.:\n",
    "'16,000 families were affected and evacuated.'\n",
    "\n",
    "Clean-up articles to deal with missing spacing, i.e.:\n",
    "'PeriukanIMPACTS42'\n",
    "'damaged24'\n",
    "\n",
    "Add inundated as a reporting term.\n",
    "\n",
    "**There are still plenty of unusual cases to review and deal with **\n",
    "\n",
    "\n",
    "**JPA Notes 21/02/17**\n",
    "\n",
    "Search for \"Test Articles - jlln\" for my test cases.\n",
    "\n",
    "I've worked through a few extra test cases, and identified (and fixed) some issues. \n",
    "\n",
    "\n",
    "Sentences where there are multiple 'facts' being described but with the same reporting unit (eg8,700 homes have been destroyed, 66,000 homes damaged and forced 337,000 people to evacuate) were only extracting one number, which was shared across all reports. \n",
    "\n",
    "I was able to modify the get_quantities function to deal with this case:\n",
    "\n",
    "Because the get_quantity function was comparing token texts, different tokens with the same text were incorrectly considered to be equivalent.\n",
    "Testing equality of tokens (and therefore testing the membership of a token in a collection) doesn't seem to be properly implemented in spacy. I have tried a few methods to test this, with the best method so far being to compare the .i property (index) of the tokens. \n",
    "\n",
    "When choosing the noun to match a verb, in these cases there will be multiple options. I have extended the branch_search_new function to choose the token with the smallest number of descendents in such cases. This has allowed the correct quantity to be extracted for each report in the southern china test article.\n",
    "\n",
    "\n",
    "Another issue I noticed was the extraction of locations (the first location in the sentence was being used for all reports), but this was easily fixed (just needed to pass the verb to the get_locations functions). A more signi\n",
    "\n",
    "\n",
    "I also noticed a few (ominous) reports where deaths were occuring in the future.\n",
    "\n",
    "I found one example where no reports are generated at all, but I wasn't able to figure out why.\n",
    "\n"
   ]
  },
  {
   "cell_type": "code",
   "execution_count": 1,
   "metadata": {
    "collapsed": true
   },
   "outputs": [],
   "source": [
    "import pandas as pd\n",
    "import spacy\n",
    "import os\n",
    "import sys\n",
    "from nltk import Tree\n",
    "module_path = os.path.abspath(os.path.join('..'))\n",
    "if module_path not in sys.path:\n",
    "    sys.path.append(module_path)\n",
    "from internal_displacement.pipeline import SQLArticleInterface"
   ]
  },
  {
   "cell_type": "code",
   "execution_count": 2,
   "metadata": {
    "collapsed": true
   },
   "outputs": [],
   "source": [
    "import textacy\n",
    "import re"
   ]
  },
  {
   "cell_type": "code",
   "execution_count": 246,
   "metadata": {
    "collapsed": true
   },
   "outputs": [],
   "source": [
    "nlp = spacy.load('en')\n",
    "\n",
    "def to_nltk_tree(node):\n",
    "    if node.n_lefts + node.n_rights > 0:\n",
    "        return Tree(node.orth_, [to_nltk_tree(child) for child in node.children])\n",
    "    else:\n",
    "        return node.orth_"
   ]
  },
  {
   "cell_type": "code",
   "execution_count": 247,
   "metadata": {
    "collapsed": true
   },
   "outputs": [],
   "source": [
    "pipeline = SQLArticleInterface(\"../sql_db.sqlite\") #Connecting to pre-populated database.\n",
    "labels,features = pipeline.get_training_data()"
   ]
  },
  {
   "cell_type": "code",
   "execution_count": 273,
   "metadata": {
    "collapsed": true
   },
   "outputs": [],
   "source": [
    "person_reporting_terms = [\n",
    "    'displaced', 'evacuated', 'forced','flee', 'homeless', 'relief camp',\n",
    "    'sheltered', 'relocated', 'stranded','stuck','stranded',\"killed\",\"dead\",\"died\",\"drown\"\n",
    "]\n",
    "\n",
    "structure_reporting_terms = [\n",
    "    'destroyed','damaged','swept','collapsed','flooded','washed', 'inundated', 'evacuate'\n",
    "]\n",
    "\n",
    "person_reporting_units = [\"families\",\"person\",\"people\",\"individuals\",\"locals\",\"villagers\",\"residents\",\"occupants\",\"citizens\", \"households\"]\n",
    "\n",
    "structure_reporting_units = [\"home\",\"house\",\"hut\",\"dwelling\",\"building\",\"shop\",\"business\",\"apartment\",\"flat\",\"residence\"]\n",
    "\n",
    "\n",
    "person_term_lemmas = [t.lemma_ for t in nlp(\" \".join(person_reporting_terms))]\n",
    "structure_term_lemmas = [t.lemma_ for t in nlp(\" \".join(structure_reporting_terms))]\n",
    "person_unit_lemmas = [t.lemma_ for t in nlp(\" \".join(person_reporting_units))]\n",
    "structure_unit_lemmas = [t.lemma_ for t in nlp(\" \".join(structure_reporting_units))]\n",
    "\n",
    "reporting_term_lemmas = person_term_lemmas + structure_term_lemmas\n",
    "reporting_unit_lemmas = person_unit_lemmas + structure_unit_lemmas\n",
    "\n",
    "relevant_article_terms = ['Rainstorm', 'hurricane', 'tornado', 'rain', 'storm', 'earthquake']\n",
    "relevant_article_lemmas = [t.lemma_ for t in nlp(\" \".join(relevant_article_terms))]"
   ]
  },
  {
   "cell_type": "code",
   "execution_count": 249,
   "metadata": {
    "collapsed": true
   },
   "outputs": [],
   "source": [
    "class Report:\n",
    "    def __init__(self,locations,date_times,event_term,subject_term,quantity,story):\n",
    "        self.locations = locations\n",
    "        if date_times:\n",
    "            self.date_times = [date for date in date_times]\n",
    "        else:\n",
    "            self.date_times = []\n",
    "        self.event_term = event_term\n",
    "        self.subject_term = subject_term\n",
    "        self.quantity = quantity\n",
    "        self.story = story\n",
    "    \n",
    "    def display(self):\n",
    "        print(\"Location: {}  DateTime: {}  EventTerm: {}  SubjectTerm:  {}  Quantity: {}\"\n",
    "              .format(self.locations,self.date_times,self.event_term,self.subject_term,self.quantity))\n",
    "        \n",
    "    def show_story_tree(self):\n",
    "        self.display()\n",
    "        for sentence in nlp(self.story).sents:\n",
    "            for token in sentence:\n",
    "                if token.lemma_ == self.event_term:\n",
    "                    return to_nltk_tree(sentence.root)"
   ]
  },
  {
   "cell_type": "code",
   "execution_count": 320,
   "metadata": {
    "collapsed": false
   },
   "outputs": [],
   "source": [
    "def test_token_equality(token_a,token_b):\n",
    "    if token_a.i == token_b.i:\n",
    "        return True\n",
    "    else:\n",
    "        return False\n",
    "    \n",
    "def check_if_collection_contains_token(token,collection):\n",
    "    for c in collection:\n",
    "        if test_token_equality(token,c):\n",
    "            return True\n",
    "    return False\n",
    "\n",
    "\n",
    "def get_descendents(sentence,root=None):\n",
    "    \"\"\"\n",
    "    Retrieves all tokens that are descended from the specified root token.\n",
    "    param: root: the root token\n",
    "    param: sentence: a span from which to retrieve tokens.\n",
    "    returns: a list of tokens\n",
    "    \"\"\"\n",
    "    if not root:\n",
    "        root = sentence.root\n",
    "    return [t for t in sentence if root.is_ancestor_of(t)]\n",
    "\n",
    "def get_head_descendents(sentence,root=None):\n",
    "    \"\"\"\n",
    "    Retrieves all tokens that are descended from the head of the specified root token.\n",
    "    param: root: the root token\n",
    "    param: sentence: a span from which to retrieve tokens.\n",
    "    returns: a list of tokens\n",
    "    \"\"\"\n",
    "    if not root:\n",
    "        root = sentence.root\n",
    "    else:\n",
    "        root = root.head\n",
    "    return [t for t in sentence if root.is_ancestor_of(t)]\n",
    "    \n",
    "def check_if_entity_contains_token(tokens,entity):\n",
    "    \"\"\"\n",
    "    Function to test if a given entity contains at least one of a list of tokens.\n",
    "    param: tokens: A list of tokens\n",
    "    param: entity: A span\n",
    "    \n",
    "    returns: Boolean\n",
    "    \"\"\"\n",
    "    tokens_ = [t.text for t in tokens]\n",
    "    ret = False\n",
    "    for token in entity:\n",
    "        if token.text in tokens_:\n",
    "            return True\n",
    "    return False\n",
    "    \n",
    "\n",
    "def get_distance_from_root(token,root):\n",
    "    \"\"\"\n",
    "    Gets the parse tree distance between a token and the sentence root.\n",
    "    :param token: a token\n",
    "    :param root: the root token of the sentence\n",
    "    \n",
    "    returns: an integer distance\n",
    "    \"\"\"\n",
    "    if token == root:\n",
    "        return 0\n",
    "    d = 1\n",
    "    p = token.head\n",
    "    while p is not root:\n",
    "        d+=1\n",
    "        p = p.head\n",
    "    return d\n",
    "\n",
    "\n",
    "def get_common_ancestors(tokens):\n",
    "    ancestors = [set(t.ancestors) for t in tokens]\n",
    "    if len(ancestors) == 0:\n",
    "        return []\n",
    "    common_ancestors = ancestors[0].intersection(*ancestors)\n",
    "    return common_ancestors    \n",
    "\n",
    "\n",
    "def get_distance_between_tokens(token_a,token_b):\n",
    "\n",
    "    if token_b in token_a.subtree:\n",
    "        distance = get_distance_from_root(token_b,token_a)\n",
    "    elif token_a in token_b.subtree:\n",
    "        distance = get_distance_from_root(token_a,token_b)\n",
    "    else:\n",
    "        common_ancestors = get_common_ancestors([token_a,token_b])\n",
    "        distance = 10000\n",
    "        for ca in common_ancestors:\n",
    "            distance_a = get_distance_from_root(ca,token_a)\n",
    "            distance_b = get_distance_from_root(ca,token_b)\n",
    "            distance_ab = distance_a + distance_b\n",
    "            if distance_ab < distance:\n",
    "                distance = distance_ab\n",
    "    return distance\n",
    "\n",
    "\n",
    "def get_closest_contiguous_location_block(entity_list,root_node):\n",
    "    location_entity_tokens = [[token for token in sentence] for sentence in entity_list]\n",
    "    token_list =  [item for sublist in location_entity_tokens for item in sublist]\n",
    "    location_tokens_by_distance = sorted([(token,get_distance_between_tokens(token,root_node)) \n",
    "                                          for token in token_list],key= lambda x: x[1])\n",
    "    closest_location = location_tokens_by_distance[0]\n",
    "    contiguous_block = [closest_token]\n",
    "    added_tokens = 1\n",
    "    while added_tokens > 0:\n",
    "        contiguous_block_ancestors = [[token for token in token_list if token.is_ancestor_of(toke)] for toke in contiguous_block ]\n",
    "        contiguous_block_subtrees = [token.subtree for token in contiguous_block]\n",
    "        contiguous_block_neighbours = contiguous_block_ancestors + contiguous_block_subtrees\n",
    "        contiguous_block_neighbours = [item for sublist in contiguous_block_neighbours for item in sublist]\n",
    "        added_tokens = 0\n",
    "        for toke in token_list:\n",
    "            if not check_if_collection_contains_token(toke,contiguous_block):\n",
    "                if toke in contiguous_block_neighbours:\n",
    "                    added_tokens +=1\n",
    "                    contiguous_block.append(toke)\n",
    "    return contiguous_block\n",
    "\n",
    "\n",
    "\n",
    "def get_contiguous_tokens(token_list):\n",
    "    common_ancestor_tokens = get_common_ancestors(token_list)\n",
    "    highest_contiguous_block = []\n",
    "    for toke in token_list:\n",
    "        if check_if_collection_contains_token(toke.head,common_ancestor_tokens):\n",
    "            highest_contiguous_block.append(toke)\n",
    "    added_tokens = 1\n",
    "    while added_tokens > 0:\n",
    "        added_tokens = 0\n",
    "        for toke in token_list:\n",
    "            if check_if_collection_contains_token(toke.head,highest_contiguous_block):\n",
    "                if not check_if_collection_contains_token(toke,highest_contiguous_block):\n",
    "                    highest_contiguous_block.append(toke)\n",
    "                    added_tokens +=1\n",
    "    return highest_contiguous_block\n",
    "\n",
    "def match_entities_in_block(entities,token_block):\n",
    "    matched = []\n",
    "    text_block = [t.text for t in token_block] #For some reason comparing identity on tokens does not always work.\n",
    "    for e in entities:\n",
    "        et = [t.text for t in e]\n",
    "        et_in_b = [t for t in et if t in text_block]\n",
    "        if len(et_in_b) == len(et):\n",
    "            matched.append(e)\n",
    "    return matched\n",
    "\n",
    "def extract_locations(sentence,root=None):\n",
    "    \"\"\"\n",
    "    Examines a sentence and identifies if any of its constituent tokens describe a location.\n",
    "    If a root token is specified, only location tokens below the level of this token in the tree will be examined. \n",
    "    If no root is specified, location tokens will be drawn from the entirety of the span.\n",
    "    param: sentence       a span\n",
    "    param: root           a token\n",
    "    returns: A list of strings, or None\n",
    "    \"\"\"\n",
    "\n",
    "    if not root:\n",
    "        root = sentence.root\n",
    "    descendents = get_descendents(sentence,root)\n",
    "    location_entities = [e for e in nlp(sentence.text).ents if e.label_ == \"GPE\"]\n",
    "    if len(location_entities) > 0:\n",
    "        descendent_location_tokens = []\n",
    "        for location_ent in location_entities:\n",
    "            if check_if_entity_contains_token(location_ent,descendents):\n",
    "                descendent_location_tokens.extend([token for token in location_ent])\n",
    "        contiguous_token_block = get_contiguous_tokens(descendent_location_tokens)\n",
    "\n",
    "        block_locations = match_entities_in_block(location_entities,contiguous_token_block)\n",
    "        if len(block_locations) > 0:\n",
    "            return [location.text for location in block_locations]\n",
    "        else:\n",
    "            return location_entities #If we cannot decide which one is correct, choose them all\n",
    "                                    #and figure it out at the report merging stage.\n",
    "    else:\n",
    "        return []\n",
    "    \n",
    "    \n",
    "    \n",
    "def extract_dates(sentence,root=None):\n",
    "    \"\"\"\n",
    "    Examines a sentence and identifies if any of its constituent tokens describe a date.\n",
    "    If a root token is specified, only date tokens below the level of this token in the tree will be examined. \n",
    "    If no root is specified, date tokens will be drawn from the entirety of the span.\n",
    "    Unlike the extract dates function (which returns a list of strings),\n",
    "    this function returns a list of spacy spans. This is because numerical quantities detected in the \n",
    "    branch_search need to be checked to ensure they are not in fact parts of a date.\n",
    "    \n",
    "    param: sentence       a span\n",
    "    param: root           a token\n",
    "    returns: A list of spacy spans\n",
    "    \"\"\"\n",
    "    if not root:\n",
    "        root = sentence.root\n",
    "    descendents = get_head_descendents(sentence,root)\n",
    "    date_entities = [e for e in nlp(sentence.text).ents if e.label_ == \"DATE\"]\n",
    "    if len(date_entities) > 0:\n",
    "        descendent_date_tokens = []\n",
    "        for date_ent in date_entities:\n",
    "            if check_if_entity_contains_token(date_ent,descendents):\n",
    "                descendent_date_tokens.extend([token for token in date_ent])\n",
    "        contiguous_token_block = get_contiguous_tokens(descendent_date_tokens)\n",
    "\n",
    "        block_dates = match_entities_in_block(date_entities,contiguous_token_block)\n",
    "        return block_dates\n",
    "    else:\n",
    "        return None\n",
    "\n",
    "\n",
    "def basic_number(token):\n",
    "    if token.text in (\"dozens\", \"hundreds\", \"thousands\"):\n",
    "        return True\n",
    "    if token.like_num:\n",
    "        return True\n",
    "    else:\n",
    "        return False"
   ]
  },
  {
   "cell_type": "code",
   "execution_count": 322,
   "metadata": {
    "collapsed": false
   },
   "outputs": [],
   "source": [
    "def process_sentence_new(sentence, dates_memory, locations_memory, story):\n",
    "    \"\"\"\n",
    "    Extracts the main verbs from a sentence as a starting point\n",
    "    for report extraction.\n",
    "    \"\"\"\n",
    "    sentence_reports = []\n",
    "    # Find the verbs\n",
    "    main_verbs = textacy.spacy_utils.get_main_verbs_of_sent(sentence)\n",
    "    for v in main_verbs:\n",
    "        unit_type, verb_lemma = verb_relevance(v, story)\n",
    "        if unit_type:\n",
    "            reports = branch_search_new(v, verb_lemma, unit_type, dates_memory, locations_memory, sentence, story)\n",
    "            sentence_reports.extend(reports)\n",
    "    return sentence_reports\n",
    "\n",
    "def article_relevance(article):\n",
    "    for token in article:\n",
    "        if token.lemma_ in relevant_article_lemmas:\n",
    "            return True\n",
    "\n",
    "def verb_relevance(verb, article):\n",
    "    \"\"\"\n",
    "    Checks a verb for relevance by:\n",
    "    1. Comparing to structure term lemmas\n",
    "    2. Comparing to person term lemmas\n",
    "    3. Looking for special cases such as 'leave homeless'\n",
    "    \"\"\"\n",
    "    if verb.lemma_ in structure_term_lemmas:\n",
    "        return structure_unit_lemmas, verb.lemma_\n",
    "    elif verb.lemma_ in person_term_lemmas:\n",
    "        return person_unit_lemmas, verb.lemma_\n",
    "    elif verb.lemma_ == 'leave':\n",
    "        children = verb.children\n",
    "        obj_predicate = None\n",
    "        for child in children:\n",
    "            if child.dep_ in ('oprd', 'dobj'):\n",
    "                obj_predicate = child\n",
    "        if obj_predicate:\n",
    "            if obj_predicate.lemma_ in structure_term_lemmas:\n",
    "                return structure_unit_lemmas, 'leave ' + obj_predicate.lemma_\n",
    "            elif obj_predicate.lemma_ in person_term_lemmas:\n",
    "                return person_unit_lemmas, 'leave ' + obj_predicate.lemma_\n",
    "    elif verb.lemma_ == 'affect' and article_relevance(article):\n",
    "        return structure_unit_lemmas + person_unit_lemmas , verb.lemma_\n",
    "                \n",
    "        \n",
    "    return None, None\n",
    "\n",
    "def get_quantity_from_phrase(phrase):\n",
    "    \"\"\"\n",
    "    Look for number-like tokens within noun phrase.\n",
    "    \"\"\"\n",
    "    for token in phrase:\n",
    "        if basic_number(token):\n",
    "            return token\n",
    "            \n",
    "def get_quantity(sentence, unit):\n",
    "    \"\"\"\n",
    "    Split a sentence into noun phrases.\n",
    "    Search for quantities within each noun phrase.\n",
    "    If the noun phrase is part of a conjunction, then\n",
    "    search for quantity within preceding noun phrase\n",
    "    \"\"\"\n",
    "    noun_phrases = list(nlp(sentence.text).noun_chunks)\n",
    "    # Case one - see if phrase contains the unit\n",
    "    for i, np in enumerate(noun_phrases):\n",
    "        if check_if_collection_contains_token(unit,np):\n",
    "            if unit.dep_ == 'conj':\n",
    "                return get_quantity_from_phrase(noun_phrases[i-1])\n",
    "            else:\n",
    "                return get_quantity_from_phrase(np)\n",
    "    #Case two - get any numeric child of the unit noun.\n",
    "    for child in unit.children:\n",
    "        if basic_number(child):\n",
    "            return child\n",
    "    \n",
    "\n",
    "def simple_subjects_and_objects(verb):\n",
    "    verb_objects = textacy.spacy_utils.get_objects_of_verb(verb)\n",
    "    verb_subjects = textacy.spacy_utils.get_subjects_of_verb(verb)\n",
    "    verb_objects.extend(verb_subjects)\n",
    "    return verb_objects\n",
    "            \n",
    "def get_subjects_and_objects(story, sentence, verb):\n",
    "    \"\"\"\n",
    "    Identify subjects and objects for a verb\n",
    "    Also check if a reporting unit directly precedes\n",
    "    a verb and is a direct or prepositional object\n",
    "    \"\"\"\n",
    "    # Get simple or standard subjects and objects\n",
    "    verb_objects = simple_subjects_and_objects(verb)\n",
    "    # Special Cases\n",
    "\n",
    "    #see if unit directly precedes verb\n",
    "    if verb.i > 0:\n",
    "        preceding = story[verb.i - 1]\n",
    "        if preceding.dep_ in ('pobj', 'dobj') and preceding not in verb_objects:\n",
    "            verb_objects.append(preceding)\n",
    "\n",
    "    # See if verb is part of a conjunction\n",
    "    if verb.dep_ == 'conj':\n",
    "        lefts = list(verb.lefts)\n",
    "        if len(lefts) > 0:\n",
    "            for token in lefts:\n",
    "                if token.dep_ in ('nsubj', 'nsubjpass'):\n",
    "                    verb_objects.append(token)\n",
    "        else:            \n",
    "            ancestors = verb.ancestors\n",
    "            for anc in ancestors:\n",
    "                verb_objects.extend(simple_subjects_and_objects(anc))\n",
    "            \n",
    "    # Look for 'pobj' in sentence\n",
    "    if verb.dep_ == 'ROOT':\n",
    "        for token in sentence:\n",
    "            if token.dep_ == 'pobj':\n",
    "                verb_objects.append(token)\n",
    "    \n",
    "    return list(set(verb_objects))\n",
    "            \n",
    "def branch_search_new(verb, verb_lemma, search_type, dates_memory, locations_memory, sentence, story):\n",
    "    \"\"\"\n",
    "    Extract reports based upon an identified verb (reporting term).\n",
    "    Extract possible locations or use most recent locations\n",
    "    Extract possible dates or use most recent dates\n",
    "    Identify reporting unit by looking in objects and subjects of reporting term (verb)\n",
    "    Identify quantity by looking in noun phrases.\n",
    "    \"\"\"\n",
    "    possible_locations = extract_locations(sentence,verb)\n",
    "    possible_dates = extract_dates(sentence)\n",
    "    if not possible_locations:\n",
    "        possible_locations = locations_memory\n",
    "    if not possible_dates:\n",
    "        possible_dates = dates_memory\n",
    "    reports = []\n",
    "    quantity = None\n",
    "    verb_objects = get_subjects_and_objects(story, sentence, verb)\n",
    "    #If there are multiple possible nouns and it is unclear which is the correct one\n",
    "    #choose the one with the fewest descendents. A verb object with many descendents is more likely to \n",
    "    #have its own verb as a descendent.\n",
    "    verb_descendent_counts = [(v,len(list(v.subtree))) for v in verb_objects]\n",
    "    verb_objects = [x[0] for x in sorted(verb_descendent_counts,key = lambda x: x[1])]\n",
    "    for o in verb_objects:\n",
    "        if basic_number(o):\n",
    "            quantity = o\n",
    "            if search_type == structure_term_lemmas:\n",
    "                unit = 'house'\n",
    "            else:\n",
    "                unit = 'person'\n",
    "            report = Report(possible_locations, possible_dates, verb_lemma,\n",
    "                                    unit, quantity, story.text)\n",
    "            report.display()\n",
    "            reports.append(report)\n",
    "            break\n",
    "        elif o.lemma_ in search_type:\n",
    "            # Try and get a number\n",
    "            quantity = get_quantity(sentence, o)\n",
    "            report = Report(possible_locations, possible_dates, verb_lemma,\n",
    "                                    o.lemma_, quantity, story.text)\n",
    "            reports.append(report)\n",
    "            report.display()\n",
    "            break\n",
    "    return reports\n",
    "\n",
    "def cleanup(text):\n",
    "    text = re.sub(r'([a-zA-Z0-9])(IMPACT)', r'\\1. \\2', text)\n",
    "    text = re.sub(r'([a-zA-Z0-9])(RESPONSE)', r'\\1. \\2', text)\n",
    "    text = re.sub(r'(IMPACT)([a-zA-Z0-9])', r'\\1. \\2', text)\n",
    "    text = re.sub(r'(RESPONSE)([a-zA-Z0-9])', r'\\1. \\2', text)\n",
    "    text = re.sub(r'([a-zA-Z])(\\d)', r'\\1. \\2', text)\n",
    "    return text\n",
    "\n",
    "def process_article_new(story):\n",
    "    \"\"\"\n",
    "    Process a story once sentence at a time\n",
    "    \"\"\"\n",
    "    story = cleanup(story)\n",
    "    processed_reports = []\n",
    "    story = nlp(story)\n",
    "    sentences = list(story.sents) # Split into sentences\n",
    "    dates_memory = None # Keep a running track of the most recent dates found in articles\n",
    "    locations_memory = None # Keep a running track of the most recent locations found in articles\n",
    "    for sentence in sentences: # Process sentence\n",
    "        reports = []\n",
    "        reports = process_sentence_new(sentence, dates_memory, locations_memory, story)\n",
    "        current_locations = extract_locations(sentence)\n",
    "        if current_locations:\n",
    "            locations_memory = current_locations\n",
    "        current_dates = extract_dates(sentence)\n",
    "        if current_dates:\n",
    "            dates_memory = current_dates\n",
    "        processed_reports.extend(reports)\n",
    "    return list(set(processed_reports))"
   ]
  },
  {
   "cell_type": "code",
   "execution_count": 316,
   "metadata": {
    "collapsed": true
   },
   "outputs": [],
   "source": [
    "features = pd.DataFrame(features, columns=['content'])\n",
    "features = features[~features['content'].isin(['', 'retrieval_failed'])]"
   ]
  },
  {
   "cell_type": "code",
   "execution_count": 253,
   "metadata": {
    "collapsed": true
   },
   "outputs": [],
   "source": [
    "def check_language(text):\n",
    "    try:\n",
    "        lang = textacy.text_utils.detect_language(text)\n",
    "        return lang\n",
    "    except ValueError:\n",
    "        return 'na'"
   ]
  },
  {
   "cell_type": "code",
   "execution_count": 254,
   "metadata": {
    "collapsed": false
   },
   "outputs": [],
   "source": [
    "features['language'] = features['content'].apply(lambda x: check_language(x))"
   ]
  },
  {
   "cell_type": "code",
   "execution_count": 255,
   "metadata": {
    "collapsed": false
   },
   "outputs": [],
   "source": [
    "features = features[features['language'] == 'en'].copy()"
   ]
  },
  {
   "cell_type": "code",
   "execution_count": 257,
   "metadata": {
    "collapsed": true
   },
   "outputs": [
    {
     "name": "stdout",
     "output_type": "stream",
     "text": [
      "Location: ['Afghanistan', 'Pakistan']  DateTime: [this year]  EventTerm: leave dead  SubjectTerm:  person  Quantity: 160\n",
      "Location: [Afghanistan, Pakistan]  DateTime: [this year]  EventTerm: strand  SubjectTerm:  person  Quantity: dozens\n",
      "Location: ['Afghanistan', 'Pakistan']  DateTime: [this year]  EventTerm: stick  SubjectTerm:  villager  Quantity: None\n",
      "Location: ['Sarobi']  DateTime: [this year]  EventTerm: kill  SubjectTerm:  people  Quantity: 61\n",
      "Location: ['Sarobi']  DateTime: [this year]  EventTerm: wash  SubjectTerm:  home  Quantity: 500\n",
      "Location: ['Nuristan']  DateTime: [this year]  EventTerm: destroy  SubjectTerm:  home  Quantity: 60\n",
      "Location: ['Nuristan']  DateTime: [this year]  EventTerm: kill  SubjectTerm:  person  Quantity: one\n",
      "Location: ['Khost', 'Nangarhar']  DateTime: [this year]  EventTerm: die  SubjectTerm:  people  Quantity: 24\n",
      "Location: ['Khost', 'Nangarhar']  DateTime: [this year]  EventTerm: destroy  SubjectTerm:  shop  Quantity: None\n",
      "Location: ['Khost', 'Nangarhar']  DateTime: [this year]  EventTerm: flood  SubjectTerm:  person  Quantity: thousands\n",
      "Location: ['Pakistan']  DateTime: [this year]  EventTerm: collapse  SubjectTerm:  house  Quantity: None\n",
      "Location: ['Faryab Province']  DateTime: []  EventTerm: kill  SubjectTerm:  people  Quantity: 7\n",
      "Location: ['Baghlan Province']  DateTime: []  EventTerm: kill  SubjectTerm:  person  Quantity: 1\n",
      "Location: ['Garyzan', 'Pashtunkot', 'Belcheragh']  DateTime: [08 May 2015]  EventTerm: kill  SubjectTerm:  people  Quantity: 7\n",
      "Location: ['Garyzan', 'Pashtunkot', 'Belcheragh']  DateTime: [08 May 2015]  EventTerm: damage  SubjectTerm:  home  Quantity: 1,500\n",
      "Location: [Baghlan]  DateTime: [Saturday 09 May 2015]  EventTerm: kill  SubjectTerm:  person  Quantity: 1\n",
      "Location: ['Baghlan-e-Markazi']  DateTime: [early Saturday]  EventTerm: wash  SubjectTerm:  house  Quantity: 500\n",
      "Location: ['Tamanrasset']  DateTime: [March 19]  EventTerm: destroy  SubjectTerm:  residence  Quantity: 400\n",
      "Location: ['Kofab']  DateTime: [Saturday, 25 July 2015]  EventTerm: destroy  SubjectTerm:  house  Quantity: 120\n",
      "Location: [Luanda]  DateTime: [Monday 09 March 2015]  EventTerm: force  SubjectTerm:  family  Quantity: 800\n",
      "Location: ['Luanda']  DateTime: [Monday 09 March 2015]  EventTerm: damage  SubjectTerm:  home  Quantity: 1,770\n",
      "Location: ['Sumbe']  DateTime: []  EventTerm: relocate  SubjectTerm:  people  Quantity: None\n",
      "Location: ['Sumbe']  DateTime: []  EventTerm: affect  SubjectTerm:  people  Quantity: None\n",
      "Location: [Sumbe]  DateTime: [March 28]  EventTerm: kill  SubjectTerm:  person  Quantity: one\n",
      "Location: [Sumbe]  DateTime: [March 28]  EventTerm: destroy  SubjectTerm:  house  Quantity: three\n",
      "Location: ['Albania']  DateTime: []  EventTerm: kill  SubjectTerm:  people  Quantity: three\n",
      "Location: ['Tirana']  DateTime: [late Tuesday]  EventTerm: flood  SubjectTerm:  house  Quantity: None\n",
      "Location: ['Tirana']  DateTime: [late Tuesday]  EventTerm: evacuate  SubjectTerm:  building  Quantity: five\n",
      "Location: [Salta, El Galpón, Salta province]  DateTime: [Sunday]  EventTerm: evacuate  SubjectTerm:  house  Quantity: None\n",
      "Location: ['San Juan']  DateTime: [1944]  EventTerm: kill  SubjectTerm:  people  Quantity: 10,000\n",
      "Location: ['Prague']  DateTime: [Monday]  EventTerm: kill  SubjectTerm:  people  Quantity: 10\n",
      "Location: ['the Czech Republic']  DateTime: [2002]  EventTerm: kill  SubjectTerm:  person  Quantity: dozens\n",
      "Location: ['Switzerland']  DateTime: [2002]  EventTerm: die  SubjectTerm:  person  Quantity: None\n",
      "Location: [Austria, Salzburg]  DateTime: [Tuesday]  EventTerm: kill  SubjectTerm:  people  Quantity: two\n",
      "Location: ['Salzburg']  DateTime: [Tuesday]  EventTerm: evacuate  SubjectTerm:  person  Quantity: 1,000\n",
      "Location: ['Victoria']  DateTime: []  EventTerm: damage  SubjectTerm:  home  Quantity: None\n",
      "Location: ['Victoria']  DateTime: []  EventTerm: wash  SubjectTerm:  house  Quantity: None\n",
      "Location: [Ovens, Bright]  DateTime: [Tuesday]  EventTerm: sweep  SubjectTerm:  house  Quantity: None\n",
      "Location: [Ovens, Bright]  DateTime: [Tuesday]  EventTerm: wash  SubjectTerm:  home  Quantity: None\n",
      "Location: ['Wangaratta']  DateTime: [Tuesday]  EventTerm: damage  SubjectTerm:  building  Quantity: 14\n",
      "Location: ['Wangaratta']  DateTime: [Tuesday]  EventTerm: flood  SubjectTerm:  home  Quantity: None\n",
      "Location: None  DateTime: [Christmas Day]  EventTerm: destroy  SubjectTerm:  home  Quantity: None\n",
      "Location: None  DateTime: [Christmas Day]  EventTerm: destroy  SubjectTerm:  house  Quantity: 116\n",
      "Location: ['Azerbaijan', 'Armenia']  DateTime: [2005]  EventTerm: displace  SubjectTerm:  family  Quantity: 65,000\n",
      "Location: None  DateTime: [the past 20 months]  EventTerm: flood  SubjectTerm:  home  Quantity: None\n",
      "Location: None  DateTime: [Monday]  EventTerm: displace  SubjectTerm:  people  Quantity: 90,000\n",
      "Location: None  DateTime: [recent weeks]  EventTerm: die  SubjectTerm:  people  Quantity: 41\n",
      "Location: ['Brazil']  DateTime: [the past few weeks]  EventTerm: die  SubjectTerm:  people  Quantity: 41\n",
      "Location: ['Brazil']  DateTime: [the past few weeks]  EventTerm: leave homeless  SubjectTerm:  person  Quantity: 70,000\n",
      "Location: ['Civil Defence']  DateTime: [the past few weeks]  EventTerm: force  SubjectTerm:  people  Quantity: 61,379\n",
      "Location: ['Civil Defence']  DateTime: [the past few weeks]  EventTerm: force  SubjectTerm:  people  Quantity: 4,150\n",
      "Location: ['Civil Defence']  DateTime: [the past few weeks]  EventTerm: evacuate  SubjectTerm:  home  Quantity: None\n",
      "Location: ['Sardoa']  DateTime: [Last week]  EventTerm: die  SubjectTerm:  person  Quantity: six\n",
      "Location: ['Sardoa']  DateTime: [Last week]  EventTerm: die  SubjectTerm:  family  Quantity: None\n",
      "Location: ['Sardoa']  DateTime: [Last week]  EventTerm: sweep  SubjectTerm:  home  Quantity: None\n",
      "Location: ['Sardoa']  DateTime: [Last week]  EventTerm: affect  SubjectTerm:  person  Quantity: 26\n",
      "Location: [Lajedinho, Bahia]  DateTime: [early December]  EventTerm: leave dead  SubjectTerm:  people  Quantity: 16\n",
      "Location: ['Cambodia']  DateTime: []  EventTerm: affect  SubjectTerm:  family  Quantity: 16,000\n",
      "Location: ['Cambodia']  DateTime: []  EventTerm: inundate  SubjectTerm:  house  Quantity: 3,080\n",
      "Location: [The City of Calgary, Alberta]  DateTime: [last week]  EventTerm: leave dead  SubjectTerm:  person  Quantity: three\n",
      "Location: ['The City of Calgary']  DateTime: [Wednesday]  EventTerm: force  SubjectTerm:  person  Quantity: thousands\n",
      "Location: ['Calgary']  DateTime: [Wednesday]  EventTerm: force  SubjectTerm:  resident  Quantity: 10,000\n",
      "Location: None  DateTime: [the past week]  EventTerm: leave dead  SubjectTerm:  people  Quantity: four\n",
      "Location: None  DateTime: [the past week]  EventTerm: damage  SubjectTerm:  house  Quantity: None\n",
      "Location: [Battambang province]  DateTime: [Wednesday]  EventTerm: collapse  SubjectTerm:  house  Quantity: None\n",
      "Location: ['Battambang']  DateTime: [Wednesday]  EventTerm: destroy  SubjectTerm:  house  Quantity: 31\n",
      "Location: ['Battambang']  DateTime: [Wednesday]  EventTerm: damage  SubjectTerm:  person  Quantity: 300\n",
      "Location: ['Battambang']  DateTime: [Wednesday]  EventTerm: destroy  SubjectTerm:  house  Quantity: 36\n",
      "Location: [Lodgepole, Edmonton]  DateTime: []  EventTerm: force  SubjectTerm:  resident  Quantity: 100\n",
      "Location: [Slave Lake]  DateTime: [Last week]  EventTerm: destroy  SubjectTerm:  person  Quantity: hundreds\n",
      "Location: [Slave Lake]  DateTime: [Last week]  EventTerm: force  SubjectTerm:  person  Quantity: thousands\n",
      "Location: [Slave Lake]  DateTime: [Last week]  EventTerm: force  SubjectTerm:  person  Quantity: hundreds\n",
      "Location: None  DateTime: [yesterday]  EventTerm: destroy  SubjectTerm:  home  Quantity: 836\n",
      "Location: ['Long Island']  DateTime: [winter]  EventTerm: affect  SubjectTerm:  home  Quantity: None\n",
      "Location: ['San Salvador']  DateTime: [winter]  EventTerm: relocate  SubjectTerm:  person  Quantity: five\n",
      "Location: ['Crooked Island']  DateTime: [winter]  EventTerm: destroy  SubjectTerm:  home  Quantity: None\n",
      "Location: ['Acklins']  DateTime: [winter]  EventTerm: destroy  SubjectTerm:  home  Quantity: None\n",
      "Location: ['Acklins']  DateTime: [October 5]  EventTerm: destroy  SubjectTerm:  home  Quantity: None\n",
      "Location: None  DateTime: [today, Dec. 28]  EventTerm: affect  SubjectTerm:  household  Quantity: 2,214\n",
      "Location: None  DateTime: [today, Dec. 28]  EventTerm: displace  SubjectTerm:  household  Quantity: 1,964\n",
      "Location: [Essa Township]  DateTime: [June 17]  EventTerm: leave homeless  SubjectTerm:  family  Quantity: 100\n",
      "Location: [Essa Township, Simcoe County]  DateTime: [June 17]  EventTerm: displace  SubjectTerm:  people  Quantity: 300\n",
      "Location: ['Chad']  DateTime: [Thursday]  EventTerm: collapse  SubjectTerm:  home  Quantity: None\n",
      "Location: ['Kariari']  DateTime: [Thursday]  EventTerm: destroy  SubjectTerm:  house  Quantity: 800\n",
      "Location: ['British Columbia']  DateTime: [20 years]  EventTerm: destroy  SubjectTerm:  home  Quantity: None\n",
      "Location: ['Kelowna']  DateTime: [this year]  EventTerm: force  SubjectTerm:  people  Quantity: 2,500\n",
      "Location: [Canada]  DateTime: [the end of June]  EventTerm: wash  SubjectTerm:  person  Quantity: dozens\n",
      "Location: ['Manitoba']  DateTime: [the end of June]  EventTerm: displace  SubjectTerm:  resident  Quantity: 1,000\n",
      "Location: ['Saskatchewan', 'Manitoba']  DateTime: [recent years]  EventTerm: inundate  SubjectTerm:  home  Quantity: None\n",
      "Location: ['Kashechewan', 'Attawapiskat']  DateTime: [May 11]  EventTerm: force  SubjectTerm:  resident  Quantity: 2,000\n",
      "Location: [Kashechewan, Attawapiskat]  DateTime: [May 11]  EventTerm: damage  SubjectTerm:  building  Quantity: None\n",
      "Location: ['Gansu']  DateTime: [Tuesday]  EventTerm: relocate  SubjectTerm:  people  Quantity: 226,700\n",
      "Location: [China, Sichuan, Beijing, Lushan, Ya’an City, Sichuan]  DateTime: [20 April 2013]  EventTerm: kill  SubjectTerm:  person  Quantity: 14,785\n",
      "Location: [China, Sichuan, Beijing, Lushan, Ya’an City, Sichuan]  DateTime: [20 April 2013]  EventTerm: kill  SubjectTerm:  people  Quantity: 196\n",
      "Location: ['Sichuan']  DateTime: [20 April 2013]  EventTerm: affect  SubjectTerm:  person  Quantity: 237,655\n",
      "Location: [Sichuan]  DateTime: [20 April 2013]  EventTerm: displace  SubjectTerm:  person  Quantity: 237,655\n",
      "Location: ['Sichuan']  DateTime: [20 April 2013]  EventTerm: collapse  SubjectTerm:  house  Quantity: 193,000\n",
      "Location: ['Sichuan']  DateTime: [20 April 2013]  EventTerm: damage  SubjectTerm:  house  Quantity: 510,000\n",
      "Location: [Brazil]  DateTime: [June 2014]  EventTerm: affect  SubjectTerm:  people  Quantity: million\n",
      "Location: ['Santa Catarina']  DateTime: [June 2014]  EventTerm: kill  SubjectTerm:  people  Quantity: None\n",
      "Location: ['China', 'Sichuan']  DateTime: []  EventTerm: wash  SubjectTerm:  building  Quantity: None\n",
      "Location: ['Sichuan', 'Yunnan']  DateTime: [Tuesday]  EventTerm: damage  SubjectTerm:  home  Quantity: None\n",
      "Location: ['Sichuan', 'Yunnan']  DateTime: [Tuesday]  EventTerm: force  SubjectTerm:  person  Quantity: hundreds\n",
      "Location: [China]  DateTime: [Tuesday]  EventTerm: kill  SubjectTerm:  person  Quantity: hundreds\n",
      "Location: [Zhongxing, Sichuan]  DateTime: [2008]  EventTerm: damage  SubjectTerm:  home  Quantity: 11\n",
      "Location: ['Sichuan', 'Yunnan']  DateTime: [Tuesday]  EventTerm: affect  SubjectTerm:  people  Quantity: 500,000\n",
      "Location: [Sichuan, Yunnan]  DateTime: [Tuesday]  EventTerm: damage  SubjectTerm:  home  Quantity: 300\n",
      "Location: [Sichuan, Yunnan]  DateTime: [Tuesday]  EventTerm: force  SubjectTerm:  people  Quantity: 500,000\n",
      "Location: ['Hunan']  DateTime: [May 2014]  EventTerm: affect  SubjectTerm:  people  Quantity: million\n",
      "Location: ['Hunan']  DateTime: [May 2014]  EventTerm: damage  SubjectTerm:  house  Quantity: 75,000\n",
      "Location: ['Hunan']  DateTime: [May 2014]  EventTerm: destroy  SubjectTerm:  house  Quantity: 75,000\n",
      "Location: ['Hunan']  DateTime: [May 2014]  EventTerm: displace  SubjectTerm:  people  Quantity: 447,000\n",
      "Location: [Guangdong]  DateTime: [27 May 2014]  EventTerm: die  SubjectTerm:  people  Quantity: 17\n",
      "Location: ['China']  DateTime: []  EventTerm: leave dead  SubjectTerm:  people  Quantity: 14\n",
      "Location: ['China']  DateTime: [Yesterday]  EventTerm: destroy  SubjectTerm:  home  Quantity: 8,700\n",
      "Location: ['China']  DateTime: [Yesterday]  EventTerm: damage  SubjectTerm:  home  Quantity: 66,000\n",
      "Location: ['China']  DateTime: [Yesterday]  EventTerm: force  SubjectTerm:  people  Quantity: 337,000\n",
      "Location: [China, Hunan Province, Jiangxi, Guangxi]  DateTime: [the next 24 hours]  EventTerm: die  SubjectTerm:  people  Quantity: None\n",
      "Location: ['Hunan']  DateTime: [8 May 2014]  EventTerm: die  SubjectTerm:  people  Quantity: 3\n",
      "Location: ['China']  DateTime: [Earlier this month]  EventTerm: die  SubjectTerm:  people  Quantity: 25\n",
      "Location: ['China', 'Yunnan Province']  DateTime: [April 17]  EventTerm: affect  SubjectTerm:  people  Quantity: 123,000\n",
      "Location: ['Eryuan', 'Yangbi']  DateTime: [April 17]  EventTerm: destroy  SubjectTerm:  house  Quantity: 276\n",
      "Location: [Yunnan]  DateTime: [April 17]  EventTerm: affect  SubjectTerm:  people  Quantity: None\n",
      "Location: ['China']  DateTime: []  EventTerm: kill  SubjectTerm:  people  Quantity: 25\n",
      "Location: [China]  DateTime: []  EventTerm: force  SubjectTerm:  people  Quantity: 239,000\n",
      "Location: [Guizhou, Chongqing, Sichuan province, Guangxi]  DateTime: []  EventTerm: die  SubjectTerm:  people  Quantity: 10\n",
      "Location: [Russia, Mongolia]  DateTime: [the end of May 2014]  EventTerm: displace  SubjectTerm:  people  Quantity: 10,000\n",
      "Location: [China]  DateTime: [Saturday 06 September]  EventTerm: kill  SubjectTerm:  people  Quantity: 44\n",
      "Location: [Chogqing, Sichuan, Guizhou]  DateTime: [31 August 2014]  EventTerm: displace  SubjectTerm:  people  Quantity: 121,700\n",
      "Location: [Chogqing, Sichuan, Guizhou]  DateTime: [31 August 2014]  EventTerm: damage  SubjectTerm:  house  Quantity: 42,000\n",
      "Location: ['Liaoning', 'Jiangsu', 'Zhejiang', 'Anhui', 'Fujian', 'Jiangxi', 'Shandong', 'Guangdong']  DateTime: [Sunday]  EventTerm: relocate  SubjectTerm:  resident  Quantity: 289,000\n",
      "Location: ['China']  DateTime: [this year]  EventTerm: destroy  SubjectTerm:  home  Quantity: None\n",
      "Location: ['China', 'Yunnan Province']  DateTime: [24 and 30]  EventTerm: destroy  SubjectTerm:  house  Quantity: 3,000\n",
      "Location: ['China', 'Yunnan Province']  DateTime: [24 and 30]  EventTerm: damage  SubjectTerm:  person  Quantity: 21,000\n",
      "Location: ['China', 'Yunnan Province']  DateTime: [24 and 30]  EventTerm: affect  SubjectTerm:  people  Quantity: 210,000\n",
      "Location: ['China']  DateTime: [Thursday]  EventTerm: leave dead  SubjectTerm:  people  Quantity: None\n",
      "Location: [Guizhou, Hunan, Jiangxi, Hubei, Sichuan, Yunnan, Anhui, Chongqing]  DateTime: [July 10]  EventTerm: affect  SubjectTerm:  people  Quantity: million\n",
      "Location: ['Guizhou']  DateTime: [July 10]  EventTerm: destroy  SubjectTerm:  house  Quantity: 63,000\n",
      "Location: ['China']  DateTime: []  EventTerm: leave dead  SubjectTerm:  people  Quantity: 21\n",
      "Location: [China, Fujian, Jiangxi, Hunan, Guangdong, Guangxi, Chongqing, Guizhou]  DateTime: [Tuesday]  EventTerm: affect  SubjectTerm:  people  Quantity: million\n",
      "Location: [China, Fujian, Jiangxi, Hunan, Guangdong, Guangxi, Chongqing, Guizhou]  DateTime: [Tuesday]  EventTerm: force  SubjectTerm:  person  Quantity: 17,000\n",
      "Location: [China, Fujian, Jiangxi, Hunan, Guangdong, Guangxi, Chongqing, Guizhou]  DateTime: [Tuesday]  EventTerm: force  SubjectTerm:  people  Quantity: million\n",
      "Location: [China, Fujian, Jiangxi, Hunan, Guangdong, Guangxi, Chongqing, Guizhou]  DateTime: [Tuesday]  EventTerm: damage  SubjectTerm:  person  Quantity: 55,000\n",
      "Location: ['Jinggu County', \"Pu'er\"]  DateTime: [Wednesday]  EventTerm: affect  SubjectTerm:  people  Quantity: 124,600\n",
      "Location: ['Jinggu County', \"Pu'er\"]  DateTime: [Wednesday]  EventTerm: damage  SubjectTerm:  person  Quantity: 13,842\n",
      "Location: ['Jinggu County', \"Pu'er\"]  DateTime: [Wednesday]  EventTerm: damage  SubjectTerm:  building  Quantity: 6,988\n",
      "Location: ['Mangla Village']  DateTime: [August 3]  EventTerm: kill  SubjectTerm:  people  Quantity: 615\n",
      "Location: ['China']  DateTime: [Sunday]  EventTerm: kill  SubjectTerm:  people  Quantity: three\n",
      "Location: ['China']  DateTime: [Sunday]  EventTerm: force  SubjectTerm:  people  Quantity: three\n",
      "Location: ['Jinwutang Township']  DateTime: [Thursday]  EventTerm: kill  SubjectTerm:  villager  Quantity: None\n",
      "Location: ['Jinwutang Township']  DateTime: [Sunday]  EventTerm: affect  SubjectTerm:  people  Quantity: 461,800\n",
      "Location: ['Jinwutang Township']  DateTime: [Sunday]  EventTerm: relocate  SubjectTerm:  people  Quantity: 50,400\n",
      "Location: ['Guangxi']  DateTime: [Sunday]  EventTerm: leave dead  SubjectTerm:  people  Quantity: two\n",
      "Location: [Guangxi]  DateTime: [Sunday]  EventTerm: affect  SubjectTerm:  people  Quantity: two\n",
      "Location: ['Guangxi']  DateTime: [Sunday]  EventTerm: damage  SubjectTerm:  person  Quantity: 888\n",
      "Location: ['Guangxi']  DateTime: [Sunday]  EventTerm: relocate  SubjectTerm:  resident  Quantity: 5,000\n",
      "Location: ['China', 'Yunnan Province']  DateTime: [Sunday]  EventTerm: inundate  SubjectTerm:  house  Quantity: 14\n",
      "Location: ['China', 'Yunnan Province']  DateTime: [Sunday]  EventTerm: relocate  SubjectTerm:  resident  Quantity: None\n",
      "Location: [China]  DateTime: []  EventTerm: damage  SubjectTerm:  house  Quantity: 2,000\n",
      "Location: ['Yongshan County']  DateTime: [Saturday]  EventTerm: damage  SubjectTerm:  house  Quantity: 2,731\n",
      "Location: ['Yongshan County']  DateTime: [Saturday]  EventTerm: collapse  SubjectTerm:  person  Quantity: 75\n",
      "Location: ['Suining']  DateTime: [Saturday]  EventTerm: kill  SubjectTerm:  person  Quantity: None\n",
      "Location: ['China', 'Hunan Province']  DateTime: [Saturday]  EventTerm: kill  SubjectTerm:  person  Quantity: None\n",
      "Location: ['Jinwutang Township']  DateTime: [Saturday]  EventTerm: kill  SubjectTerm:  villager  Quantity: None\n",
      "Location: ['Jinwutang Township']  DateTime: [Saturday]  EventTerm: evacuate  SubjectTerm:  person  Quantity: 10,000\n",
      "Location: ['Fugong County']  DateTime: [Saturday]  EventTerm: inundate  SubjectTerm:  house  Quantity: 14\n",
      "Location: ['Coquimbo', 'Valparaiso', 'Metropolitan', \"O'Higgins\", 'Biobio', 'La Araucania', 'Los Rios']  DateTime: [04, February]  EventTerm: destroy  SubjectTerm:  house  Quantity: 1\n",
      "Location: ['Guizhou']  DateTime: [1949]  EventTerm: affect  SubjectTerm:  people  Quantity: 23,000\n",
      "Location: ['Guizhou']  DateTime: [1949]  EventTerm: relocate  SubjectTerm:  person  Quantity: 2,536\n",
      "Location: [China]  DateTime: [11 May 2015]  EventTerm: die  SubjectTerm:  people  Quantity: 7\n",
      "Location: ['Zhejiang', 'Anhui', 'Fujian', 'Jiangxi', 'Hubei', 'Hunan', 'Chongqing', 'Sichuan', 'Guizhou']  DateTime: [yesterday]  EventTerm: kill  SubjectTerm:  people  Quantity: 10\n",
      "Location: ['Zhejiang', 'Anhui', 'Fujian', 'Jiangxi', 'Hubei', 'Hunan', 'Chongqing', 'Sichuan', 'Guizhou']  DateTime: [yesterday]  EventTerm: collapse  SubjectTerm:  building  Quantity: None\n",
      "Location: [China, China, China]  DateTime: [June 2015]  EventTerm: leave dead  SubjectTerm:  people  Quantity: 123\n",
      "Location: [China, China, China]  DateTime: [June 2015]  EventTerm: affect  SubjectTerm:  people  Quantity: 123\n",
      "Location: [China, China, China]  DateTime: [June 2015]  EventTerm: kill  SubjectTerm:  person  Quantity: 15\n",
      "Location: [China, China, China]  DateTime: [June 2015]  EventTerm: kill  SubjectTerm:  people  Quantity: 123\n",
      "Location: [China, China, China]  DateTime: [June 2015]  EventTerm: relocate  SubjectTerm:  person  Quantity: 15\n",
      "Location: [China, China, China]  DateTime: [June 2015]  EventTerm: relocate  SubjectTerm:  people  Quantity: 123\n",
      "Location: [China, China, China]  DateTime: [June 2015]  EventTerm: destroy  SubjectTerm:  house  Quantity: 354,000\n",
      "Location: [China, China, China]  DateTime: [June 2015]  EventTerm: damage  SubjectTerm:  house  Quantity: 293,000\n",
      "Location: [Henan Province, Shangcheng County, Nanjiang County, China]  DateTime: [29 June 2015]  EventTerm: evacuate  SubjectTerm:  home  Quantity: 100\n",
      "Location: [Henan Province, Shangcheng County, Nanjiang County, China]  DateTime: [29 June 2015]  EventTerm: destroy  SubjectTerm:  home  Quantity: 100\n",
      "Location: [Henan Province, Shangcheng County, Nanjiang County, China]  DateTime: [29 June 2015]  EventTerm: damage  SubjectTerm:  person  Quantity: 200\n",
      "Location: [Henan Province, Shangcheng County, Nanjiang County, China]  DateTime: [29 June 2015]  EventTerm: damage  SubjectTerm:  house  Quantity: 10,400\n",
      "Location: [Henan Province, Shangcheng County, Nanjiang County, China]  DateTime: [29 June 2015]  EventTerm: affect  SubjectTerm:  people  Quantity: 451,000\n",
      "Location: [Henan Province, Shangcheng County, Nanjiang County, China]  DateTime: [29 June 2015]  EventTerm: damage  SubjectTerm:  house  Quantity: 2\n",
      "Location: [China]  DateTime: [April 4]  EventTerm: affect  SubjectTerm:  people  Quantity: None\n",
      "Location: ['China', 'Hunan Province']  DateTime: [Friday]  EventTerm: affect  SubjectTerm:  people  Quantity: 239,500\n",
      "Location: ['China', 'Hunan Province']  DateTime: [Friday]  EventTerm: evacuate  SubjectTerm:  person  Quantity: 12,100\n",
      "Location: ['China', 'Hunan Province']  DateTime: [Friday]  EventTerm: evacuate  SubjectTerm:  person  Quantity: 6\n",
      "Location: [Yueyang City, Hunan]  DateTime: [Friday]  EventTerm: flood  SubjectTerm:  house  Quantity: None\n",
      "Location: ['China', 'Guizhou Province']  DateTime: [Aug. 28, 2014]  EventTerm: kill  SubjectTerm:  person  Quantity: None\n",
      "Location: ['China', 'Guizhou Province']  DateTime: [Aug. 28, 2014]  EventTerm: kill  SubjectTerm:  people  Quantity: six\n",
      "Location: ['Fuquan City']  DateTime: [Aug. 28, 2014]  EventTerm: collapse  SubjectTerm:  house  Quantity: 77\n",
      "Location: ['Soalala']  DateTime: [the coming days]  EventTerm: displace  SubjectTerm:  people  Quantity: 919\n",
      "Location: ['Soalala']  DateTime: [the coming days]  EventTerm: destroy  SubjectTerm:  house  Quantity: 170\n",
      "Location: [Comoros]  DateTime: [the last months]  EventTerm: affect  SubjectTerm:  people  Quantity: 8,800\n",
      "Location: ['Anjouan']  DateTime: [the last months]  EventTerm: displace  SubjectTerm:  people  Quantity: 7,869\n",
      "Location: ['Anjouan']  DateTime: [the last months]  EventTerm: damage  SubjectTerm:  house  Quantity: 720\n",
      "Location: ['Anjouan']  DateTime: [the last months]  EventTerm: destroy  SubjectTerm:  house  Quantity: 180\n",
      "Location: ['Moheli']  DateTime: [the last months]  EventTerm: flood  SubjectTerm:  house  Quantity: None\n",
      "Location: ['Mozambique']  DateTime: [late last week]  EventTerm: affect  SubjectTerm:  household  Quantity: 1,929\n",
      "Location: ['Pemba']  DateTime: [late last week]  EventTerm: destroy  SubjectTerm:  house  Quantity: None\n",
      "Location: [Costa Rica, Heredia, Limón]  DateTime: []  EventTerm: evacuate  SubjectTerm:  home  Quantity: None\n",
      "Location: ['Costa Rica']  DateTime: [21 June 2015]  EventTerm: displace  SubjectTerm:  person  Quantity: hundreds\n",
      "Location: [Baracoa, Guantánamo Province, Cuba, Cuba]  DateTime: []  EventTerm: force  SubjectTerm:  people  Quantity: 2,000\n",
      "Location: [Baracoa, Guantánamo Province, Cuba, Cuba]  DateTime: []  EventTerm: evacuate  SubjectTerm:  home  Quantity: None\n",
      "Location: ['Havana']  DateTime: [the last few days]  EventTerm: flood  SubjectTerm:  person  Quantity: 30\n",
      "Location: ['Havana']  DateTime: [the last few days]  EventTerm: die  SubjectTerm:  people  Quantity: 2\n",
      "Location: ['Havana']  DateTime: [the last few days]  EventTerm: collapse  SubjectTerm:  building  Quantity: None\n",
      "Location: ['Baracoa']  DateTime: [the last few days]  EventTerm: damage  SubjectTerm:  home  Quantity: None\n",
      "Location: ['Baracoa']  DateTime: [the last few days]  EventTerm: damage  SubjectTerm:  home  Quantity: 250\n",
      "Location: ['Baracoa']  DateTime: [the last few days]  EventTerm: destroy  SubjectTerm:  home  Quantity: 4\n",
      "Location: ['the Republic of Congo']  DateTime: [2009]  EventTerm: displace  SubjectTerm:  people  Quantity: None\n",
      "Location: ['Congo']  DateTime: [November 2012]  EventTerm: displace  SubjectTerm:  people  Quantity: None\n",
      "Location: None  DateTime: []  EventTerm: force  SubjectTerm:  people  Quantity: 17,631\n",
      "Location: ['Ningbo City']  DateTime: [Sunday]  EventTerm: affect  SubjectTerm:  people  Quantity: million\n",
      "Location: [Jiangsu Province]  DateTime: [Sunday]  EventTerm: force  SubjectTerm:  people  Quantity: 78,900\n",
      "Location: [Greece, Turkey]  DateTime: [1974]  EventTerm: force  SubjectTerm:  people  Quantity: None\n",
      "Location: ['Turkey']  DateTime: [20 June 2009]  EventTerm: displace  SubjectTerm:  people  Quantity: None\n",
      "Location: ['Peljesac']  DateTime: []  EventTerm: force  SubjectTerm:  people  Quantity: 50\n",
      "Location: ['Puerto Plata', 'Espaillat']  DateTime: [yesterday]  EventTerm: flood  SubjectTerm:  home  Quantity: 3,979\n",
      "Location: ['Puerto Plata', 'Espaillat']  DateTime: [yesterday]  EventTerm: damage  SubjectTerm:  home  Quantity: 3,979\n",
      "Location: ['Puerto Plata', 'Espaillat']  DateTime: [yesterday]  EventTerm: destroy  SubjectTerm:  person  Quantity: 20\n",
      "Location: ['Puerto Plata', 'Espaillat']  DateTime: [23 February 2015]  EventTerm: displace  SubjectTerm:  people  Quantity: 20,000\n",
      "Location: ['Puerto Plata', 'Espaillat']  DateTime: [November 2014]  EventTerm: die  SubjectTerm:  person  Quantity: None\n",
      "Location: ['Haiti']  DateTime: [the November 2014]  EventTerm: die  SubjectTerm:  people  Quantity: 8\n",
      "Location: ['Puerto Rico']  DateTime: [November 2014]  EventTerm: kill  SubjectTerm:  person  Quantity: one\n",
      "Location: ['Puerto Rico']  DateTime: [November 2014]  EventTerm: inundate  SubjectTerm:  home  Quantity: 100\n",
      "Location: [Dajabón]  DateTime: [November 2014]  EventTerm: force  SubjectTerm:  family  Quantity: 100\n",
      "Location: [Dajabón]  DateTime: [November 2014]  EventTerm: inundate  SubjectTerm:  home  Quantity: None\n",
      "Location: ['Guangdong']  DateTime: []  EventTerm: kill  SubjectTerm:  people  Quantity: None\n",
      "Location: [Guangdong]  DateTime: []  EventTerm: die  SubjectTerm:  person  Quantity: seven\n",
      "Location: ['Guangdong']  DateTime: [Sunday]  EventTerm: affect  SubjectTerm:  person  Quantity: hundreds\n",
      "Location: ['Foshan']  DateTime: [Sunday]  EventTerm: kill  SubjectTerm:  people  Quantity: three\n",
      "Location: [Guangdong]  DateTime: [Sunday]  EventTerm: affect  SubjectTerm:  people  Quantity: million\n",
      "Location: ['Guangxi']  DateTime: [Sunday]  EventTerm: kill  SubjectTerm:  person  Quantity: None\n",
      "Location: [Lidong Village, Yaxi Township, Lishui City]  DateTime: [Sunday]  EventTerm: flood  SubjectTerm:  house  Quantity: 21\n",
      "Location: [Democratic Republic of Congo, Kinshasa]  DateTime: [late November]  EventTerm: leave dead  SubjectTerm:  people  Quantity: 20\n",
      "Location: [Kinshasa, the Democratic Republic of Congo]  DateTime: [late November]  EventTerm: leave dead  SubjectTerm:  person  Quantity: dozens\n",
      "Location: [Kinshasa, the Democratic Republic of Congo]  DateTime: [29 November]  EventTerm: die  SubjectTerm:  people  Quantity: 20\n",
      "Location: ['Democratic Republic of Congo']  DateTime: [29 November]  EventTerm: die  SubjectTerm:  people  Quantity: 31\n",
      "Location: ['Équateur province']  DateTime: [December 2015]  EventTerm: leave homeless  SubjectTerm:  person  Quantity: thousands\n",
      "Location: [Mongala District]  DateTime: [December 2015]  EventTerm: destroy  SubjectTerm:  house  Quantity: 400\n",
      "Location: ['Lufu-Toto']  DateTime: [75]  EventTerm: leave homeless  SubjectTerm:  person  Quantity: 75\n",
      "Location: [Democratic Republic of Congo, South Kivu]  DateTime: [December 2015]  EventTerm: die  SubjectTerm:  people  Quantity: 30\n",
      "Location: ['Fizi']  DateTime: [this year]  EventTerm: die  SubjectTerm:  people  Quantity: 14\n",
      "Location: [KINSHASA, Democratic Republic of Congo's, Kinshasa]  DateTime: []  EventTerm: die  SubjectTerm:  people  Quantity: 31\n",
      "Location: [Suijiang, Daguan, Zhenxiong, Zhaotong City, Yongshan]  DateTime: [Sunday]  EventTerm: damage  SubjectTerm:  house  Quantity: 45\n",
      "Location: [Suijiang, Daguan, Zhenxiong, Zhaotong City, Yongshan]  DateTime: [Sunday]  EventTerm: collapse  SubjectTerm:  house  Quantity: 45\n",
      "Location: [Yunnan, Yongshan, Ludian, Zhaotong City]  DateTime: [Aug. 3]  EventTerm: kill  SubjectTerm:  people  Quantity: 600\n",
      "Location: [Yunnan, Yongshan, Ludian, Zhaotong City]  DateTime: [Aug. 3]  EventTerm: destroy  SubjectTerm:  home  Quantity: 80,000\n",
      "Location: ['Wady Al-Sheikh']  DateTime: [Sunday, Monday]  EventTerm: displace  SubjectTerm:  person  Quantity: hundreds\n",
      "Location: ['Luxor']  DateTime: [Thursday]  EventTerm: affect  SubjectTerm:  house  Quantity: 147\n",
      "Location: ['Sohag', 'Youm']  DateTime: [1994]  EventTerm: affect  SubjectTerm:  home  Quantity: None\n",
      "Location: ['Gaza']  DateTime: [Between October 25, 2014, August 15, 2015]  EventTerm: destroy  SubjectTerm:  building  Quantity: None\n",
      "Location: ['Gaza']  DateTime: [February 2014]  EventTerm: destroy  SubjectTerm:  house  Quantity: eight\n",
      "Location: ['North Sinai']  DateTime: [October 29, 2014, the same day]  EventTerm: destroy  SubjectTerm:  home  Quantity: 122\n",
      "Location: ['Yehia']  DateTime: [about December 28]  EventTerm: evacuate  SubjectTerm:  house  Quantity: None\n",
      "Location: ['Gaza']  DateTime: [October 29, 2014]  EventTerm: force  SubjectTerm:  resident  Quantity: None\n",
      "Location: ['Egypt']  DateTime: [the day]  EventTerm: destroy  SubjectTerm:  house  Quantity: None\n",
      "Location: ['Egypt']  DateTime: [early December]  EventTerm: destroy  SubjectTerm:  house  Quantity: None\n",
      "Location: ['Marzouk’s']  DateTime: [two days]  EventTerm: force  SubjectTerm:  person  Quantity: one\n",
      "Location: ['North Sinai']  DateTime: [the first]  EventTerm: destroy  SubjectTerm:  home  Quantity: 1,247\n",
      "Location: ['al-Arish']  DateTime: [August]  EventTerm: displace  SubjectTerm:  family  Quantity: 1,800\n",
      "Location: ['al-Arish']  DateTime: [August]  EventTerm: displace  SubjectTerm:  people  Quantity: None\n",
      "Location: ['Sameh’s']  DateTime: [a week]  EventTerm: destroy  SubjectTerm:  house  Quantity: None\n",
      "Location: ['North Sinai']  DateTime: [2014]  EventTerm: kill  SubjectTerm:  person  Quantity: 2014\n",
      "Location: ['Sinai Province’s']  DateTime: [February 2014]  EventTerm: affect  SubjectTerm:  resident  Quantity: None\n",
      "Location: ['Washington']  DateTime: [July 2013, July 2015]  EventTerm: die  SubjectTerm:  people  Quantity: 3,600\n",
      "Location: ['Washington']  DateTime: [October 24, 2014]  EventTerm: kill  SubjectTerm:  people  Quantity: 2,650\n",
      "Location: ['North Sinai']  DateTime: [October 24, 2014]  EventTerm: kill  SubjectTerm:  people  Quantity: 2,368\n",
      "Location: ['North Sinai']  DateTime: [October 2014, July 2015]  EventTerm: kill  SubjectTerm:  people  Quantity: 283\n",
      "Location: ['North Sinai']  DateTime: [October 2014, July 2015]  EventTerm: die  SubjectTerm:  people  Quantity: 283\n",
      "Location: ['Rafah']  DateTime: [November 2014]  EventTerm: destroy  SubjectTerm:  person  Quantity: thousands\n",
      "Location: ['Egypt']  DateTime: [a month later]  EventTerm: displace  SubjectTerm:  person  Quantity: thousands\n",
      "Location: [Beheira province, Cairo, Egypt]  DateTime: [less than a month]  EventTerm: kill  SubjectTerm:  people  Quantity: None\n",
      "Location: [Alexandria]  DateTime: [Last month]  EventTerm: kill  SubjectTerm:  citizen  Quantity: five\n",
      "Location: ['La Armenia']  DateTime: [14]  EventTerm: flood  SubjectTerm:  home  Quantity: None\n",
      "Location: [Ecuador]  DateTime: [14]  EventTerm: affect  SubjectTerm:  people  Quantity: 121,000\n",
      "Location: ['Ecuador']  DateTime: [14]  EventTerm: evacuate  SubjectTerm:  home  Quantity: None\n",
      "Location: ['Ecuador']  DateTime: [14]  EventTerm: destroy  SubjectTerm:  home  Quantity: None\n",
      "Location: ['Naitasiri']  DateTime: [the weekend]  EventTerm: flood  SubjectTerm:  house  Quantity: None\n",
      "Location: ['Perpignan']  DateTime: [March 2013]  EventTerm: evacuate  SubjectTerm:  home  Quantity: None\n",
      "Location: ['Pyhäjoki']  DateTime: []  EventTerm: inundate  SubjectTerm:  home  Quantity: two\n",
      "Location: [Antibes]  DateTime: [Saturday]  EventTerm: flood  SubjectTerm:  home  Quantity: None\n",
      "Location: ['Antibes']  DateTime: [Saturday]  EventTerm: die  SubjectTerm:  people  Quantity: 16\n",
      "Location: ['Guria', 'Ajara']  DateTime: []  EventTerm: affect  SubjectTerm:  family  Quantity: 4,800\n",
      "Location: ['Samegrelo']  DateTime: [more than]  EventTerm: flood  SubjectTerm:  house  Quantity: None\n",
      "Location: [Athens]  DateTime: [Monday]  EventTerm: flee  SubjectTerm:  resident  Quantity: None\n",
      "Location: ['Marathon']  DateTime: [Monday]  EventTerm: damage  SubjectTerm:  home  Quantity: three\n",
      "Location: ['Marathon']  DateTime: [Monday]  EventTerm: evacuate  SubjectTerm:  home  Quantity: None\n",
      "Location: ['Greece']  DateTime: [10 days]  EventTerm: kill  SubjectTerm:  person  Quantity: 2007\n",
      "Location: ['Greece']  DateTime: [10 days]  EventTerm: kill  SubjectTerm:  people  Quantity: 65\n",
      "Location: [Abkhazia, Abkhazia]  DateTime: [Each month]  EventTerm: displace  SubjectTerm:  people  Quantity: None\n",
      "Location: ['Palliki']  DateTime: [February 5, 2014]  EventTerm: damage  SubjectTerm:  person  Quantity: 1,100\n",
      "Location: ['Kounopetra']  DateTime: [Monday]  EventTerm: collapse  SubjectTerm:  house  Quantity: None\n",
      "Location: [Kounopetra]  DateTime: [Monday]  EventTerm: affect  SubjectTerm:  people  Quantity: None\n",
      "Location: ['Cephalonia']  DateTime: [today]  EventTerm: collapse  SubjectTerm:  house  Quantity: None\n",
      "Location: ['Fiskardo']  DateTime: [today]  EventTerm: affect  SubjectTerm:  building  Quantity: None\n",
      "Location: ['Uganda']  DateTime: [1900]  EventTerm: damage  SubjectTerm:  building  Quantity: None\n",
      "Location: ['Uganda']  DateTime: [1900]  EventTerm: damage  SubjectTerm:  building  Quantity: None\n",
      "Location: ['Uganda']  DateTime: [1900]  EventTerm: damage  SubjectTerm:  building  Quantity: None\n",
      "Location: ['Uganda']  DateTime: [1900]  EventTerm: damage  SubjectTerm:  house  Quantity: None\n",
      "Location: ['Uganda']  DateTime: [1900]  EventTerm: destroy  SubjectTerm:  building  Quantity: None\n",
      "Location: ['Uganda']  DateTime: [1900]  EventTerm: damage  SubjectTerm:  building  Quantity: None\n",
      "Location: ['Uganda']  DateTime: [1900]  EventTerm: damage  SubjectTerm:  building  Quantity: None\n",
      "Location: ['Uganda']  DateTime: [1900]  EventTerm: damage  SubjectTerm:  building  Quantity: None\n",
      "Location: ['Egypt']  DateTime: [1km-deep]  EventTerm: destroy  SubjectTerm:  house  Quantity: None\n",
      "Location: [Ethiopia]  DateTime: [Wednesday, Wednesday]  EventTerm: displace  SubjectTerm:  family  Quantity: 8,000\n",
      "Location: [Chinautla, Guatemala]  DateTime: [11 July 2015]  EventTerm: destroy  SubjectTerm:  house  Quantity: 10\n",
      "Location: [Chinautla, Guatemala]  DateTime: [11 July 2015]  EventTerm: damage  SubjectTerm:  house  Quantity: 10\n",
      "Location: [Nicaragua, Nicaragua]  DateTime: [the first two weeks]  EventTerm: leave dead  SubjectTerm:  people  Quantity: 6\n",
      "Location: [Nicaragua, Nicaragua]  DateTime: [the first two weeks]  EventTerm: affect  SubjectTerm:  person  Quantity: 35,350\n",
      "Location: [Nicaragua, Nicaragua]  DateTime: [the first two weeks]  EventTerm: affect  SubjectTerm:  people  Quantity: 6\n",
      "Location: ['Madriz', 'Carazo']  DateTime: [the last 2 weeks]  EventTerm: flood  SubjectTerm:  home  Quantity: 6,975\n",
      "Location: ['Honduras', 'Honduras']  DateTime: [15 June 2015]  EventTerm: die  SubjectTerm:  people  Quantity: two\n",
      "Location: ['Honduras', 'Honduras']  DateTime: [15 June 2015]  EventTerm: affect  SubjectTerm:  person  Quantity: 500\n",
      "Location: ['Honduras', 'Honduras']  DateTime: [15 June 2015]  EventTerm: damage  SubjectTerm:  home  Quantity: 115\n",
      "Location: [Siguatepeque, Tegucigalpa]  DateTime: [the last few days]  EventTerm: displace  SubjectTerm:  people  Quantity: 100\n",
      "Location: ['Haiti']  DateTime: []  EventTerm: kill  SubjectTerm:  people  Quantity: 17\n",
      "Location: ['Haiti']  DateTime: []  EventTerm: flood  SubjectTerm:  house  Quantity: 15,000\n",
      "Location: ['Haiti']  DateTime: []  EventTerm: destroy  SubjectTerm:  person  Quantity: 90\n",
      "Location: ['Haiti']  DateTime: []  EventTerm: damage  SubjectTerm:  person  Quantity: 800\n",
      "Location: ['Haiti']  DateTime: []  EventTerm: affect  SubjectTerm:  person  Quantity: one\n",
      "Location: None  DateTime: [1997]  EventTerm: displace  SubjectTerm:  people  Quantity: 500,000\n",
      "Location: ['Peten']  DateTime: [2011]  EventTerm: displace  SubjectTerm:  family  Quantity: 470\n",
      "Location: ['Peten']  DateTime: [2011]  EventTerm: displace  SubjectTerm:  family  Quantity: 350\n",
      "Location: None  DateTime: []  EventTerm: affect  SubjectTerm:  people  Quantity: 3.6\n",
      "Location: None  DateTime: []  EventTerm: damage  SubjectTerm:  house  Quantity: 45,000\n",
      "Location: [Jajpur, Puri]  DateTime: [August 9, 2014]  EventTerm: displace  SubjectTerm:  people  Quantity: 709,841\n",
      "Location: [Jajpur, Puri]  DateTime: [August 9, 2014]  EventTerm: damage  SubjectTerm:  house  Quantity: 45,953\n",
      "Location: ['Assam', 'India']  DateTime: [This year]  EventTerm: affect  SubjectTerm:  people  Quantity: 25,000\n",
      "Location: ['Assam', 'India']  DateTime: [This year]  EventTerm: displace  SubjectTerm:  people  Quantity: 10,000\n",
      "Location: [Odisha, Chhattisgarh]  DateTime: [the last few days]  EventTerm: kill  SubjectTerm:  people  Quantity: 5\n",
      "Location: ['Odisha']  DateTime: [the last few days]  EventTerm: displace  SubjectTerm:  people  Quantity: 2,000\n",
      "Location: [Nepal, India]  DateTime: [Saturday]  EventTerm: kill  SubjectTerm:  people  Quantity: 33\n",
      "Location: [Supaul, Saharsa, Madhepura]  DateTime: [the weekend]  EventTerm: shelter  SubjectTerm:  people  Quantity: 100,000\n",
      "Location: ['Bihar']  DateTime: [2008]  EventTerm: kill  SubjectTerm:  people  Quantity: 500\n",
      "Location: ['Bihar']  DateTime: [2008]  EventTerm: affect  SubjectTerm:  people  Quantity: 500\n",
      "Location: ['Koirala']  DateTime: [the past three days]  EventTerm: die  SubjectTerm:  people  Quantity: None\n",
      "Location: ['Uttarakhand']  DateTime: [the past three days]  EventTerm: kill  SubjectTerm:  people  Quantity: 6,000\n",
      "Location: [Jammu, India]  DateTime: [October 2014]  EventTerm: die  SubjectTerm:  people  Quantity: 280\n",
      "Location: [Jammu, India]  DateTime: [October 2014]  EventTerm: affect  SubjectTerm:  people  Quantity: million\n",
      "Location: ['Srinagar']  DateTime: [October 2014]  EventTerm: destroy  SubjectTerm:  home  Quantity: None\n",
      "Location: ['Srinagar']  DateTime: [winter]  EventTerm: destroy  SubjectTerm:  home  Quantity: None\n",
      "Location: ['India']  DateTime: [last July]  EventTerm: affect  SubjectTerm:  people  Quantity: million\n",
      "Location: ['India']  DateTime: [last July]  EventTerm: force  SubjectTerm:  household  Quantity: None\n",
      "Location: ['Uttar']  DateTime: [last July]  EventTerm: affect  SubjectTerm:  people  Quantity: million\n",
      "Location: ['Uttar']  DateTime: [last July]  EventTerm: force  SubjectTerm:  family  Quantity: None\n",
      "Location: [Vadodara]  DateTime: [15 to 20 per cent of]  EventTerm: relocate  SubjectTerm:  person  Quantity: 9,528\n",
      "Location: [India]  DateTime: [Tuesday]  EventTerm: shelter  SubjectTerm:  people  Quantity: one\n",
      "Location: [Manipur, Myanmar]  DateTime: [Tuesday]  EventTerm: die  SubjectTerm:  person  Quantity: 180\n",
      "Location: [Manipur, Myanmar]  DateTime: [Tuesday]  EventTerm: kill  SubjectTerm:  people  Quantity: four\n",
      "Location: [Orissa, Rajasthan]  DateTime: [Friday]  EventTerm: die  SubjectTerm:  people  Quantity: five\n",
      "Location: [India, Bihar]  DateTime: [Thursday]  EventTerm: kill  SubjectTerm:  people  Quantity: 48\n",
      "Location: [India, Bihar]  DateTime: [Thursday]  EventTerm: leave homeless  SubjectTerm:  person  Quantity: thousands\n",
      "Location: [India, Bihar]  DateTime: [Thursday]  EventTerm: leave homeless  SubjectTerm:  people  Quantity: 48\n",
      "Location: [India, Bihar]  DateTime: [Tuesday]  EventTerm: destroy  SubjectTerm:  home  Quantity: 25,000\n",
      "Location: [Bihar, Purnia, Madhepura, Saharsa]  DateTime: [Tuesday]  EventTerm: affect  SubjectTerm:  person  Quantity: 12\n",
      "Location: [Bihar, Purnia, Madhepura, Saharsa]  DateTime: [Tuesday]  EventTerm: destroy  SubjectTerm:  home  Quantity: None\n",
      "Location: ['Bihar']  DateTime: [2008]  EventTerm: leave dead  SubjectTerm:  person  Quantity: 2008\n",
      "Location: ['Bihar']  DateTime: [2008]  EventTerm: leave dead  SubjectTerm:  people  Quantity: 500\n",
      "Location: [Howrah]  DateTime: [today]  EventTerm: destroy  SubjectTerm:  house  Quantity: None\n",
      "Location: ['Panchla']  DateTime: [today]  EventTerm: damage  SubjectTerm:  house  Quantity: 80\n",
      "Location: ['Panchla']  DateTime: [today]  EventTerm: destroy  SubjectTerm:  house  Quantity: 80\n",
      "Location: [Janjgir, Shivrinarian, Chandrapur]  DateTime: [Wednesday]  EventTerm: inundate  SubjectTerm:  home  Quantity: None\n",
      "Location: ['New Delhi']  DateTime: [August 2]  EventTerm: die  SubjectTerm:  people  Quantity: 81\n",
      "Location: [West Bengal, Rajasthan, Odisha]  DateTime: [Sunday]  EventTerm: die  SubjectTerm:  person  Quantity: 28\n",
      "Location: ['West Bengal']  DateTime: [Sunday]  EventTerm: affect  SubjectTerm:  people  Quantity: 36.9\n",
      "Location: [Rajasthan]  DateTime: [today]  EventTerm: die  SubjectTerm:  people  Quantity: 12\n",
      "Location: ['Manipur', 'Chandel']  DateTime: [yesterday]  EventTerm: sweep  SubjectTerm:  house  Quantity: 12\n",
      "Location: ['Manipur']  DateTime: [yesterday]  EventTerm: kill  SubjectTerm:  people  Quantity: None\n",
      "Location: [India, India, Assam, Assam]  DateTime: [Saturday]  EventTerm: kill  SubjectTerm:  person  Quantity: 32\n",
      "Location: [Baksa, Kokrahjar]  DateTime: [Thursday]  EventTerm: kill  SubjectTerm:  villager  Quantity: three\n",
      "Location: ['Bangladesh', 'Bhutan']  DateTime: [Friday]  EventTerm: force  SubjectTerm:  people  Quantity: 5,000\n",
      "Location: ['Baksa']  DateTime: [2012]  EventTerm: kill  SubjectTerm:  person  Quantity: 2012\n",
      "Location: ['Baksa']  DateTime: [2012]  EventTerm: kill  SubjectTerm:  people  Quantity: 100\n",
      "Location: ['Baksa']  DateTime: [2012]  EventTerm: displace  SubjectTerm:  person  Quantity: 400,000\n",
      "Location: ['Baksa']  DateTime: [2012]  EventTerm: displace  SubjectTerm:  people  Quantity: 100\n",
      "Location: [India]  DateTime: [Monday]  EventTerm: kill  SubjectTerm:  person  Quantity: one\n",
      "Location: ['Pakistan']  DateTime: [the past year]  EventTerm: die  SubjectTerm:  people  Quantity: 16\n",
      "Location: ['India']  DateTime: [11 year]  EventTerm: kill  SubjectTerm:  family  Quantity: None\n",
      "Location: ['Basmati']  DateTime: [early Monday]  EventTerm: displace  SubjectTerm:  people  Quantity: None\n",
      "Location: ['Karbi Anglong']  DateTime: [December 27]  EventTerm: displace  SubjectTerm:  people  Quantity: 3,000\n",
      "Location: [Karbis, Chumukedima, Dimapur]  DateTime: [December 27]  EventTerm: kill  SubjectTerm:  person  Quantity: nine\n",
      "Location: ['Sukabumi']  DateTime: [14 December]  EventTerm: die  SubjectTerm:  people  Quantity: None\n",
      "Location: ['Indonesia']  DateTime: [November]  EventTerm: kill  SubjectTerm:  people  Quantity: nine\n",
      "Location: [Cilacap Regency]  DateTime: [yesterday]  EventTerm: flood  SubjectTerm:  home  Quantity: 1,000\n",
      "Location: [Indonesia]  DateTime: []  EventTerm: force  SubjectTerm:  people  Quantity: 19,000\n",
      "Location: ['Sumatra']  DateTime: [Monday]  EventTerm: flee  SubjectTerm:  people  Quantity: 19,126\n",
      "Location: ['Sumatra']  DateTime: [2010]  EventTerm: kill  SubjectTerm:  person  Quantity: 2010\n",
      "Location: ['Sumatra']  DateTime: [2010]  EventTerm: kill  SubjectTerm:  people  Quantity: two\n",
      "Location: ['Banjar.-']  DateTime: []  EventTerm: inundate  SubjectTerm:  house  Quantity: 3,000\n",
      "Location: ['Pamekasan']  DateTime: []  EventTerm: affect  SubjectTerm:  family  Quantity: None\n",
      "Location: [Polaga, Pemalang, Comal, Ulujami, Taman, Petarukan, Pemalang]  DateTime: []  EventTerm: damage  SubjectTerm:  house  Quantity: 180\n",
      "Location: ['Jember', 'Pasuruan', 'Bojonegoro']  DateTime: []  EventTerm: displace  SubjectTerm:  family  Quantity: 300\n",
      "Location: ['Malang']  DateTime: []  EventTerm: inundate  SubjectTerm:  house  Quantity: 336\n",
      "Location: ['Malaka']  DateTime: []  EventTerm: inundate  SubjectTerm:  house  Quantity: 870\n",
      "Location: ['Seluma', 'Bengkulu']  DateTime: []  EventTerm: inundate  SubjectTerm:  house  Quantity: 40\n",
      "Location: ['Sukabumi']  DateTime: []  EventTerm: inundate  SubjectTerm:  house  Quantity: 23\n",
      "Location: ['Sukabumi']  DateTime: []  EventTerm: collapse  SubjectTerm:  house  Quantity: 3\n",
      "Location: ['Padawan']  DateTime: [today]  EventTerm: displace  SubjectTerm:  people  Quantity: 1,000\n",
      "Location: [Indonesia, Aceh province, South Aceh]  DateTime: [one week ago]  EventTerm: damage  SubjectTerm:  house  Quantity: 4,000\n",
      "Location: None  DateTime: [between 2006 and 2015]  EventTerm: displace  SubjectTerm:  person  Quantity: 2014\n",
      "Location: None  DateTime: [between 2006 and 2015]  EventTerm: displace  SubjectTerm:  people  Quantity: 11,979\n",
      "Location: ['Lembata']  DateTime: [July 2015]  EventTerm: displace  SubjectTerm:  people  Quantity: million\n",
      "Location: ['North Sulawesi', 'North Sumatra']  DateTime: [between 2007 and 2013]  EventTerm: displace  SubjectTerm:  people  Quantity: None\n",
      "Location: [Maluku, West Seram]  DateTime: [22 March 2011]  EventTerm: displace  SubjectTerm:  people  Quantity: None\n",
      "Location: ['Pelauw']  DateTime: [recent years]  EventTerm: flee  SubjectTerm:  people  Quantity: 4,000\n",
      "Location: ['Pelauw']  DateTime: [recent years]  EventTerm: flee  SubjectTerm:  person  Quantity: 2014\n",
      "Location: ['Pelauw']  DateTime: [recent years]  EventTerm: flee  SubjectTerm:  people  Quantity: 311\n",
      "Location: ['West Lombok']  DateTime: [recent years]  EventTerm: displace  SubjectTerm:  person  Quantity: 2006\n",
      "Location: ['Papua']  DateTime: [recent years]  EventTerm: displace  SubjectTerm:  people  Quantity: None\n",
      "Location: ['Papua New Guinea']  DateTime: [recent years]  EventTerm: displace  SubjectTerm:  person  Quantity: thousands\n",
      "Location: ['Timika']  DateTime: [recent years]  EventTerm: displace  SubjectTerm:  person  Quantity: 2014\n",
      "Location: ['Timika']  DateTime: [recent years]  EventTerm: displace  SubjectTerm:  people  Quantity: hundred\n",
      "Location: ['Bushehr', 'Fars']  DateTime: [09 April 2013]  EventTerm: shelter  SubjectTerm:  family  Quantity: 1,000\n",
      "Location: [Indonesia]  DateTime: [early Friday]  EventTerm: flee  SubjectTerm:  resident  Quantity: None\n",
      "Location: ['Sorong']  DateTime: [early Friday]  EventTerm: flee  SubjectTerm:  people  Quantity: None\n",
      "Location: ['Sorong']  DateTime: [early Friday]  EventTerm: damage  SubjectTerm:  building  Quantity: None\n",
      "Location: [Aceh, Indonesia]  DateTime: [2004]  EventTerm: kill  SubjectTerm:  people  Quantity: 230,000\n",
      "Location: ['Iran', 'Iraq']  DateTime: [late October]  EventTerm: leave dead  SubjectTerm:  people  Quantity: 70\n",
      "Location: ['Iraq']  DateTime: [late October]  EventTerm: die  SubjectTerm:  people  Quantity: 58\n",
      "Location: [Baghdad]  DateTime: [late October]  EventTerm: affect  SubjectTerm:  resident  Quantity: 65,000\n",
      "Location: [Badra, Aldboney, Iran]  DateTime: [late October]  EventTerm: collapse  SubjectTerm:  house  Quantity: None\n",
      "Location: [Iraq]  DateTime: [late October]  EventTerm: affect  SubjectTerm:  family  Quantity: None\n",
      "Location: ['Iran']  DateTime: [late October 2015]  EventTerm: kill  SubjectTerm:  people  Quantity: 9\n",
      "Location: ['Iran']  DateTime: [late October 2015]  EventTerm: evacuate  SubjectTerm:  person  Quantity: 39\n",
      "Location: ['Iran']  DateTime: [late October 2015]  EventTerm: affect  SubjectTerm:  people  Quantity: 1,400\n",
      "Location: ['Italy']  DateTime: [two days]  EventTerm: die  SubjectTerm:  people  Quantity: 4\n",
      "Location: ['Italy']  DateTime: [several days]  EventTerm: kill  SubjectTerm:  person  Quantity: 4\n",
      "Location: [Italy]  DateTime: [the last 2 days]  EventTerm: die  SubjectTerm:  people  Quantity: 4\n",
      "Location: ['Abruzzo']  DateTime: [the last 2 days]  EventTerm: die  SubjectTerm:  people  Quantity: None\n",
      "Location: ['Karlovac']  DateTime: [yesterday]  EventTerm: affect  SubjectTerm:  people  Quantity: 5,000\n",
      "Location: ['Karlovac']  DateTime: [yesterday]  EventTerm: damage  SubjectTerm:  building  Quantity: None\n",
      "Location: ['Prijedor']  DateTime: [Wednesday, Thursday]  EventTerm: flood  SubjectTerm:  house  Quantity: None\n",
      "Location: [Okinawa]  DateTime: [2015-9-29]  EventTerm: destroy  SubjectTerm:  house  Quantity: 10\n",
      "Location: [Okinawa]  DateTime: [2015-9-29]  EventTerm: damage  SubjectTerm:  house  Quantity: 10\n",
      "Location: [Taiwan, China, Taiwan]  DateTime: [Monday]  EventTerm: kill  SubjectTerm:  people  Quantity: 24\n",
      "Location: ['Japan']  DateTime: [Monday]  EventTerm: affect  SubjectTerm:  people  Quantity: 100,000\n",
      "Location: [Ibaraki, Japan]  DateTime: [2011]  EventTerm: flood  SubjectTerm:  home  Quantity: None\n",
      "Location: [Ibaraki, Japan]  DateTime: [2011]  EventTerm: destroy  SubjectTerm:  home  Quantity: None\n",
      "Location: [Ibaraki, Japan]  DateTime: [2011]  EventTerm: destroy  SubjectTerm:  home  Quantity: 124,690\n",
      "Location: [Ibaraki, Japan]  DateTime: [2011]  EventTerm: damage  SubjectTerm:  home  Quantity: 124,690\n",
      "Location: ['Ibaraki']  DateTime: [Friday, Sept. 18]  EventTerm: destroy  SubjectTerm:  home  Quantity: None\n",
      "Location: ['Ōsaki city']  DateTime: [Saturday]  EventTerm: strand  SubjectTerm:  people  Quantity: 1,000\n",
      "Location: ['Kanuma']  DateTime: [Monday]  EventTerm: leave dead  SubjectTerm:  person  Quantity: one\n",
      "Location: ['Kanuma']  DateTime: [Thursday]  EventTerm: damage  SubjectTerm:  home  Quantity: None\n",
      "Location: ['Nikkō']  DateTime: [Thursday]  EventTerm: strand  SubjectTerm:  people  Quantity: five\n",
      "Location: [Japan]  DateTime: [2009]  EventTerm: kill  SubjectTerm:  people  Quantity: 28\n",
      "Location: [Japan]  DateTime: [2009]  EventTerm: flood  SubjectTerm:  person  Quantity: thousands\n",
      "Location: [Mombasa]  DateTime: []  EventTerm: collapse  SubjectTerm:  house  Quantity: None\n",
      "Location: ['Zaire Village']  DateTime: []  EventTerm: affect  SubjectTerm:  house  Quantity: None\n",
      "Location: ['Khyber Pakhtunkhwa', 'Pakistan']  DateTime: [the last 10 days]  EventTerm: strand  SubjectTerm:  people  Quantity: 300,000\n",
      "Location: ['Luangphabang']  DateTime: [20 July to 5 August 2014]  EventTerm: affect  SubjectTerm:  family  Quantity: 16,481\n",
      "Location: ['Luangphabang']  DateTime: [20 July to 5 August 2014]  EventTerm: affect  SubjectTerm:  people  Quantity: 51,308\n",
      "Location: ['Thailand']  DateTime: [17 September]  EventTerm: die  SubjectTerm:  people  Quantity: 9\n",
      "Location: ['Thailand']  DateTime: [17 September]  EventTerm: affect  SubjectTerm:  people  Quantity: None\n",
      "Location: ['Thailand']  DateTime: [17 September]  EventTerm: damage  SubjectTerm:  house  Quantity: 6,900\n",
      "Location: ['Oudomxay']  DateTime: [August]  EventTerm: kill  SubjectTerm:  people  Quantity: 17\n",
      "Location: ['Oudomxay']  DateTime: [August]  EventTerm: affect  SubjectTerm:  people  Quantity: 9,600\n",
      "Location: ['Oudomxay']  DateTime: [August]  EventTerm: destroy  SubjectTerm:  house  Quantity: 60\n",
      "Location: ['Oudomxay']  DateTime: [August]  EventTerm: damage  SubjectTerm:  house  Quantity: 100\n",
      "Location: [Salavan, Attapeu, Xekong, China]  DateTime: [late last week]  EventTerm: flood  SubjectTerm:  person  Quantity: four\n",
      "Location: ['Champasak']  DateTime: [late last week]  EventTerm: kill  SubjectTerm:  person  Quantity: None\n",
      "Location: ['Champasak']  DateTime: [late last week]  EventTerm: affect  SubjectTerm:  household  Quantity: 21,000\n",
      "Location: ['Champasak']  DateTime: [early last week]  EventTerm: kill  SubjectTerm:  people  Quantity: 24\n",
      "Location: ['Champasak']  DateTime: [early last week]  EventTerm: inundate  SubjectTerm:  house  Quantity: 7,000\n",
      "Location: ['Champasak']  DateTime: [Last year]  EventTerm: kill  SubjectTerm:  people  Quantity: 260\n",
      "Location: ['Cambodia']  DateTime: [the last few weeks]  EventTerm: affect  SubjectTerm:  household  Quantity: 14,076\n",
      "Location: [North Korea]  DateTime: [Wednesday]  EventTerm: destroy  SubjectTerm:  home  Quantity: None\n",
      "Location: [North Korea]  DateTime: [Wednesday]  EventTerm: flood  SubjectTerm:  home  Quantity: None\n",
      "Location: [\"North Korea's\"]  DateTime: [Wednesday]  EventTerm: destroy  SubjectTerm:  building  Quantity: 99\n",
      "Location: ['North Korea']  DateTime: [Tuesday]  EventTerm: damage  SubjectTerm:  building  Quantity: None\n",
      "Location: [Philippines]  DateTime: [Monday]  EventTerm: kill  SubjectTerm:  people  Quantity: 21\n",
      "Location: ['Philippines']  DateTime: [Monday]  EventTerm: kill  SubjectTerm:  people  Quantity: 13\n",
      "Location: ['Philippines']  DateTime: [Saturday]  EventTerm: die  SubjectTerm:  people  Quantity: None\n",
      "Location: ['Zambales']  DateTime: [early Monday]  EventTerm: damage  SubjectTerm:  house  Quantity: 1,000\n",
      "Location: ['Japan']  DateTime: [a month]  EventTerm: kill  SubjectTerm:  people  Quantity: None\n",
      "Location: ['Japan']  DateTime: [a month]  EventTerm: die  SubjectTerm:  person  Quantity: None\n",
      "Location: None  DateTime: [2007-08]  EventTerm: displace  SubjectTerm:  household  Quantity: 173,809\n",
      "Location: ['Kelantan', 'Pahang', 'Perak', 'Terengganu']  DateTime: []  EventTerm: displace  SubjectTerm:  people  Quantity: 247104\n",
      "Location: ['Pahang']  DateTime: []  EventTerm: damage  SubjectTerm:  house  Quantity: 20\n",
      "Location: ['INDONESIA']  DateTime: []  EventTerm: damage  SubjectTerm:  house  Quantity: 42\n",
      "Location: ['Hulu Terengganu']  DateTime: []  EventTerm: inundate  SubjectTerm:  house  Quantity: None\n",
      "Location: None  DateTime: []  EventTerm: displace  SubjectTerm:  people  Quantity: 246\n",
      "Location: [Malaysia]  DateTime: [11 December 2015]  EventTerm: force  SubjectTerm:  people  Quantity: 3,000\n",
      "Location: ['Selangor']  DateTime: [12 December 2015]  EventTerm: force  SubjectTerm:  person  Quantity: 1,500\n",
      "Location: ['Perak']  DateTime: [A day earlier]  EventTerm: evacuate  SubjectTerm:  person  Quantity: 300\n",
      "Location: ['Penang']  DateTime: [14 to 15 December 2015]  EventTerm: affect  SubjectTerm:  home  Quantity: None\n",
      "Location: [Penang]  DateTime: [14 to 15 December 2015]  EventTerm: force  SubjectTerm:  people  Quantity: 21\n",
      "Location: ['Northern Samar']  DateTime: [later this week]  EventTerm: die  SubjectTerm:  person  Quantity: one\n",
      "Location: [Coahuila]  DateTime: []  EventTerm: die  SubjectTerm:  person  Quantity: one\n",
      "Location: [Coahuila]  DateTime: []  EventTerm: damage  SubjectTerm:  house  Quantity: 10,000\n",
      "Location: [Coahuila]  DateTime: []  EventTerm: leave homeless  SubjectTerm:  people  Quantity: 40,000\n",
      "Location: ['Jacarandas']  DateTime: [15 March 2015]  EventTerm: force  SubjectTerm:  resident  Quantity: None\n",
      "Location: ['Apatzingán']  DateTime: [2013]  EventTerm: destroy  SubjectTerm:  house  Quantity: 20\n",
      "Location: ['Atoyac']  DateTime: [2013]  EventTerm: damage  SubjectTerm:  home  Quantity: 90\n",
      "Location: [Acapulco]  DateTime: [September 2013]  EventTerm: strand  SubjectTerm:  person  Quantity: thousands\n",
      "Location: ['Acapulco']  DateTime: [October 2014]  EventTerm: die  SubjectTerm:  people  Quantity: six\n",
      "Location: ['Acapulco']  DateTime: [October 2014]  EventTerm: force  SubjectTerm:  people  Quantity: 4,000\n",
      "Location: ['La Pintada']  DateTime: [Saturday]  EventTerm: kill  SubjectTerm:  people  Quantity: two\n",
      "Location: ['Myanmar']  DateTime: []  EventTerm: displace  SubjectTerm:  people  Quantity: 38,000\n",
      "Location: ['Rakhine']  DateTime: []  EventTerm: relocate  SubjectTerm:  people  Quantity: 79,000\n",
      "Location: ['Zambézia', 'Nampula', 'Niassa']  DateTime: [early January 2015]  EventTerm: affect  SubjectTerm:  individual  Quantity: 160,000\n",
      "Location: [Myanmar, Taninthayi]  DateTime: [late July 2013]  EventTerm: displace  SubjectTerm:  people  Quantity: 38,300\n",
      "Location: [Myanmar, Taninthayi]  DateTime: [late July 2013]  EventTerm: damage  SubjectTerm:  building  Quantity: None\n",
      "Location: [Myanmar, Taninthayi]  DateTime: [September]  EventTerm: displace  SubjectTerm:  people  Quantity: 22,000\n",
      "Location: [Myanmar, Taninthayi]  DateTime: [September]  EventTerm: displace  SubjectTerm:  people  Quantity: None\n",
      "Location: ['Taungoo', 'Yedashe', 'Ottwin']  DateTime: [Sep 2013]  EventTerm: displace  SubjectTerm:  people  Quantity: 50,000\n",
      "Location: [Taungoo, Yedashe, Ottwin]  DateTime: [Sep 2013]  EventTerm: shelter  SubjectTerm:  people  Quantity: 50,000\n",
      "Location: [Sibbinda, Linyanti]  DateTime: [decades]  EventTerm: force  SubjectTerm:  person  Quantity: hundreds\n",
      "Location: ['Makolonga']  DateTime: [decades]  EventTerm: flood  SubjectTerm:  home  Quantity: None\n",
      "Location: [Linyanti]  DateTime: [last week]  EventTerm: affect  SubjectTerm:  household  Quantity: 11\n",
      "Location: ['Mandalay']  DateTime: []  EventTerm: displace  SubjectTerm:  people  Quantity: 4,905\n",
      "Location: ['Mandalay']  DateTime: []  EventTerm: damage  SubjectTerm:  house  Quantity: 1,298\n",
      "Location: ['Tachileik']  DateTime: []  EventTerm: affect  SubjectTerm:  family  Quantity: 1079\n",
      "Location: ['Tachileik']  DateTime: []  EventTerm: inundate  SubjectTerm:  house  Quantity: 900\n",
      "Location: None  DateTime: [yesterday]  EventTerm: evacuate  SubjectTerm:  home  Quantity: None\n",
      "Location: ['Taranaki', 'Horowhenua', 'Manawatu', 'Rangitikei', 'Whanganui']  DateTime: [the weekend]  EventTerm: evacuate  SubjectTerm:  home  Quantity: None\n",
      "Location: ['US']  DateTime: [the weekend]  EventTerm: force  SubjectTerm:  people  Quantity: None\n",
      "Location: ['Whanganui', 'Rangitikei', 'Taranaki']  DateTime: [the weekend]  EventTerm: evacuate  SubjectTerm:  person  Quantity: hundreds\n",
      "Location: ['Managua']  DateTime: [the last few days]  EventTerm: affect  SubjectTerm:  person  Quantity: one\n",
      "Location: [Managua]  DateTime: [the last few days]  EventTerm: die  SubjectTerm:  people  Quantity: 9\n",
      "Location: [Managua]  DateTime: [the last few days]  EventTerm: collapse  SubjectTerm:  house  Quantity: 4\n",
      "Location: ['Managua']  DateTime: [the last few days]  EventTerm: damage  SubjectTerm:  home  Quantity: 4,500\n",
      "Location: ['Managua']  DateTime: [the last few days]  EventTerm: destroy  SubjectTerm:  home  Quantity: 4,500\n",
      "Location: ['Onuebonyi']  DateTime: [three-day]  EventTerm: destroy  SubjectTerm:  house  Quantity: None\n",
      "Location: ['Onuebonyi']  DateTime: [three-day]  EventTerm: displace  SubjectTerm:  family  Quantity: None\n",
      "Location: ['Nigeria']  DateTime: [28, 29]  EventTerm: affect  SubjectTerm:  person  Quantity: 28\n",
      "Location: ['Nigeria']  DateTime: [the end of 2014]  EventTerm: die  SubjectTerm:  people  Quantity: five\n",
      "Location: [Rakhine, Myanmar]  DateTime: [the past several days]  EventTerm: destroy  SubjectTerm:  home  Quantity: None\n",
      "Location: [Gaza, Gaza City]  DateTime: [the past 48 hours]  EventTerm: evacuate  SubjectTerm:  home  Quantity: None\n",
      "Location: [Gaza City]  DateTime: [last week]  EventTerm: displace  SubjectTerm:  people  Quantity: 7,000\n",
      "Location: ['Gaza']  DateTime: [the winter months]  EventTerm: displace  SubjectTerm:  person  Quantity: thousands\n",
      "Location: ['Iniongun']  DateTime: [this year]  EventTerm: displace  SubjectTerm:  people  Quantity: 110\n",
      "Location: [Iniongun]  DateTime: [last year]  EventTerm: destroy  SubjectTerm:  house  Quantity: None\n",
      "Location: ['Iniongun']  DateTime: [September 2012]  EventTerm: affect  SubjectTerm:  family  Quantity: None\n",
      "Location: ['Iniongun', 'Ijaha']  DateTime: [September 2012]  EventTerm: relocate  SubjectTerm:  people  Quantity: None\n",
      "Location: ['KP']  DateTime: [March 2015]  EventTerm: displace  SubjectTerm:  individual  Quantity: None\n",
      "Location: ['Pakistan']  DateTime: [28 July 2010, 23 January 2014]  EventTerm: displace  SubjectTerm:  person  Quantity: 2008\n",
      "Location: ['Pakistan']  DateTime: [28 July 2010, 23 January 2014]  EventTerm: displace  SubjectTerm:  people  Quantity: million\n",
      "Location: [KP, Balochistan]  DateTime: [2014]  EventTerm: displace  SubjectTerm:  person  Quantity: 2014\n",
      "Location: [KP, Balochistan]  DateTime: [2014]  EventTerm: displace  SubjectTerm:  person  Quantity: 907,000\n",
      "Location: [KP, Balochistan]  DateTime: [29 April 2013]  EventTerm: displace  SubjectTerm:  person  Quantity: 2005\n",
      "Location: ['Tauranga city']  DateTime: []  EventTerm: flood  SubjectTerm:  home  Quantity: None\n",
      "Location: [\"Papua New Guinea's\"]  DateTime: [last Friday]  EventTerm: collapse  SubjectTerm:  house  Quantity: 50\n",
      "Location: [\"Papua New Guinea's\"]  DateTime: [last Friday]  EventTerm: collapse  SubjectTerm:  building  Quantity: None\n",
      "Location: [Papua New Guinea, New West Britain]  DateTime: []  EventTerm: affect  SubjectTerm:  people  Quantity: 10,000\n",
      "Location: [Puerta Inca]  DateTime: [28 February 2014]  EventTerm: force  SubjectTerm:  family  Quantity: 30\n",
      "Location: ['Tauli']  DateTime: [Two days later]  EventTerm: affect  SubjectTerm:  people  Quantity: 300\n",
      "Location: ['Tauli']  DateTime: [Two days later]  EventTerm: damage  SubjectTerm:  house  Quantity: 20\n",
      "Location: ['Tauli']  DateTime: [Two days later]  EventTerm: destroy  SubjectTerm:  person  Quantity: five\n",
      "Location: None  DateTime: [2014]  EventTerm: displace  SubjectTerm:  people  Quantity: 1,800\n",
      "Location: None  DateTime: [2014]  EventTerm: displace  SubjectTerm:  people  Quantity: 17,000\n",
      "Location: [Bulolo, Bulolo]  DateTime: [May 2010]  EventTerm: displace  SubjectTerm:  people  Quantity: 4,000\n",
      "Location: ['Kagua Erave']  DateTime: [the end of 2013]  EventTerm: force  SubjectTerm:  person  Quantity: 2013\n",
      "Location: ['Kagua Erave']  DateTime: [the end of 2013]  EventTerm: force  SubjectTerm:  family  Quantity: None\n",
      "Location: [Papua New Guinea]  DateTime: [October 2011]  EventTerm: destroy  SubjectTerm:  home  Quantity: 200\n",
      "Location: ['Papua New Guinea']  DateTime: [October 2011]  EventTerm: displace  SubjectTerm:  people  Quantity: None\n",
      "Location: ['Peru']  DateTime: [several days]  EventTerm: force  SubjectTerm:  family  Quantity: 690\n",
      "Location: [San Martin]  DateTime: [late December 2014]  EventTerm: die  SubjectTerm:  people  Quantity: 2\n",
      "Location: [Asunción, Paraguay]  DateTime: []  EventTerm: evacuate  SubjectTerm:  home  Quantity: None\n",
      "Location: ['Paraguay', 'Argentina', 'Uruguay']  DateTime: []  EventTerm: leave dead  SubjectTerm:  people  Quantity: five\n",
      "Location: ['Paraguay']  DateTime: []  EventTerm: force  SubjectTerm:  people  Quantity: 130,000\n",
      "Location: [Peru, Tumbes, Cajamarca, Lima, Tacna, Moquegua]  DateTime: [22 March 2015]  EventTerm: kill  SubjectTerm:  people  Quantity: 22\n",
      "Location: [Zarumilla, Tumbes]  DateTime: [26 March 2015]  EventTerm: affect  SubjectTerm:  person  Quantity: hundreds\n",
      "Location: [Zarumilla, Tumbes]  DateTime: [26 March 2015]  EventTerm: affect  SubjectTerm:  home  Quantity: 500\n",
      "Location: [Zarumilla, Tumbes]  DateTime: [26 March 2015]  EventTerm: affect  SubjectTerm:  family  Quantity: 1,900\n",
      "Location: [Peru]  DateTime: [26 March 2015]  EventTerm: relocate  SubjectTerm:  resident  Quantity: None\n",
      "Location: ['Cajamarca']  DateTime: [26 March 2015]  EventTerm: die  SubjectTerm:  people  Quantity: 14\n",
      "Location: [Nuevo Horizonte, Sócota, Santa Cruz]  DateTime: [26 March 2015]  EventTerm: die  SubjectTerm:  people  Quantity: None\n",
      "Location: [Lima]  DateTime: [26 March 2015]  EventTerm: kill  SubjectTerm:  people  Quantity: eight\n",
      "Location: [Lima]  DateTime: [26 March 2015]  EventTerm: destroy  SubjectTerm:  house  Quantity: 150\n",
      "Location: [Huarochiri province, Lima]  DateTime: [the same day]  EventTerm: destroy  SubjectTerm:  house  Quantity: 110\n",
      "Location: [Chosica, Peru, Ilabaya, Tacna]  DateTime: [26 March 2015]  EventTerm: damage  SubjectTerm:  house  Quantity: None\n",
      "Location: ['Peru']  DateTime: []  EventTerm: affect  SubjectTerm:  family  Quantity: 2,000\n",
      "Location: ['Peru']  DateTime: []  EventTerm: leave homeless  SubjectTerm:  family  Quantity: 300\n",
      "Location: ['Peru']  DateTime: []  EventTerm: destroy  SubjectTerm:  house  Quantity: 27\n",
      "Location: ['Peru']  DateTime: []  EventTerm: damage  SubjectTerm:  house  Quantity: 276\n",
      "Location: ['San Martin']  DateTime: [the next 48 hours]  EventTerm: die  SubjectTerm:  people  Quantity: None\n",
      "Location: ['San Martin']  DateTime: [a few weeks later]  EventTerm: force  SubjectTerm:  people  Quantity: 3,000\n",
      "Location: [Philippines]  DateTime: []  EventTerm: displace  SubjectTerm:  family  Quantity: 10,000\n",
      "Location: [Sultan Kudarat]  DateTime: [early this week]  EventTerm: displace  SubjectTerm:  person  Quantity: thousands\n",
      "Location: ['Sultan Kudarat']  DateTime: [early this week]  EventTerm: evacuate  SubjectTerm:  person  Quantity: hundreds\n",
      "Location: ['Philippines']  DateTime: [17 January 2014]  EventTerm: displace  SubjectTerm:  people  Quantity: 400,000\n",
      "Location: ['Philippines']  DateTime: [17 January 2014]  EventTerm: affect  SubjectTerm:  people  Quantity: 339,870\n",
      "Location: [Davao]  DateTime: [17 January 2014]  EventTerm: displace  SubjectTerm:  people  Quantity: 199\n",
      "Location: ['Romania']  DateTime: [the last few days]  EventTerm: die  SubjectTerm:  people  Quantity: four\n",
      "Location: None  DateTime: []  EventTerm: destroy  SubjectTerm:  house  Quantity: None\n",
      "Location: None  DateTime: []  EventTerm: wash  SubjectTerm:  house  Quantity: None\n",
      "Location: None  DateTime: [Monday February 11, 2013]  EventTerm: destroy  SubjectTerm:  house  Quantity: 170\n",
      "Location: ['Sugu Valley']  DateTime: [today]  EventTerm: displace  SubjectTerm:  people  Quantity: None\n",
      "Location: ['Sugu Valley']  DateTime: [today]  EventTerm: leave dead  SubjectTerm:  people  Quantity: 40\n",
      "Location: ['Mizia']  DateTime: [Sunday]  EventTerm: collapse  SubjectTerm:  house  Quantity: 50\n",
      "Location: ['Bulgaria', 'Romania']  DateTime: [this summer]  EventTerm: kill  SubjectTerm:  people  Quantity: 15\n",
      "Location: [Honiara, Solomon Islands]  DateTime: []  EventTerm: die  SubjectTerm:  people  Quantity: 23\n",
      "Location: [Rutsiro District, Musanze]  DateTime: []  EventTerm: kill  SubjectTerm:  people  Quantity: None\n",
      "Location: [Rutsiro District, Musanze]  DateTime: []  EventTerm: die  SubjectTerm:  person  Quantity: one\n",
      "Location: [Somalia, Somalia]  DateTime: []  EventTerm: displace  SubjectTerm:  people  Quantity: None\n",
      "Location: ['North Ossetia']  DateTime: [1995]  EventTerm: displace  SubjectTerm:  people  Quantity: None\n",
      "Location: [Dagestan, Chechnya]  DateTime: [1995]  EventTerm: displace  SubjectTerm:  people  Quantity: None\n",
      "Location: ['Warrap state']  DateTime: [November 20, 2013]  EventTerm: displace  SubjectTerm:  people  Quantity: 15783\n",
      "Location: ['County']  DateTime: [November 20, 2013]  EventTerm: displace  SubjectTerm:  people  Quantity: None\n",
      "Location: None  DateTime: [Wednesday]  EventTerm: displace  SubjectTerm:  people  Quantity: 100,000\n",
      "Location: ['Warrap', 'Unity']  DateTime: [Wednesday]  EventTerm: displace  SubjectTerm:  people  Quantity: None\n",
      "Location: ['Twic county']  DateTime: [Wednesday]  EventTerm: force  SubjectTerm:  people  Quantity: 30,000\n",
      "Location: ['Jonglei', 'Twic East']  DateTime: []  EventTerm: displace  SubjectTerm:  people  Quantity: None\n",
      "Location: ['Jonglei', 'Twic East']  DateTime: [three consecutive days]  EventTerm: destroy  SubjectTerm:  person  Quantity: 3\n",
      "Location: ['Baping', 'Dong']  DateTime: [three consecutive days]  EventTerm: displace  SubjectTerm:  people  Quantity: None\n",
      "Location: ['Sudan']  DateTime: [the last few days]  EventTerm: destroy  SubjectTerm:  house  Quantity: 3,000\n",
      "Location: [North Kordofah, Jabrat]  DateTime: [the last few days]  EventTerm: destroy  SubjectTerm:  home  Quantity: 700\n",
      "Location: ['Omdadda']  DateTime: [the last few days]  EventTerm: kill  SubjectTerm:  people  Quantity: 14\n",
      "Location: ['South Sudan']  DateTime: [the last few days]  EventTerm: displace  SubjectTerm:  person  Quantity: 42,000\n",
      "Location: ['Juba']  DateTime: []  EventTerm: relocate  SubjectTerm:  people  Quantity: 10,000\n",
      "Location: [Bor, South Sudan, ’s Jonglei]  DateTime: [last Tuesday]  EventTerm: displace  SubjectTerm:  household  Quantity: 900\n",
      "Location: ['Barcelona']  DateTime: [Sunday]  EventTerm: evacuate  SubjectTerm:  home  Quantity: None\n",
      "Location: [Andratx, Mallorca]  DateTime: [Sunday]  EventTerm: evacuate  SubjectTerm:  home  Quantity: None\n",
      "Location: ['Santa Cruz']  DateTime: [19 October]  EventTerm: flood  SubjectTerm:  house  Quantity: None\n",
      "Location: None  DateTime: []  EventTerm: displace  SubjectTerm:  person  Quantity: thousands\n",
      "Location: ['Nyala']  DateTime: [Sunday]  EventTerm: destroy  SubjectTerm:  house  Quantity: 100\n",
      "Location: ['Nyala']  DateTime: [Sunday]  EventTerm: destroy  SubjectTerm:  house  Quantity: None\n",
      "Location: ['Kalma']  DateTime: [Square 5 and]  EventTerm: destroy  SubjectTerm:  house  Quantity: four\n",
      "Location: ['Kalma']  DateTime: [16 July]  EventTerm: destroy  SubjectTerm:  home  Quantity: 761\n",
      "Location: None  DateTime: []  EventTerm: displace  SubjectTerm:  person  Quantity: thousands\n",
      "Location: ['West Darfur']  DateTime: [Tuesday]  EventTerm: collapse  SubjectTerm:  home  Quantity: 150\n",
      "Location: [\"West Darfur's\"]  DateTime: [Tuesday]  EventTerm: destroy  SubjectTerm:  home  Quantity: 150\n",
      "Location: ['Khartoum', 'Kassala', 'Gezira', 'Northern', 'Sennar', 'North Kordufan', 'South Kordofan', 'River Nile', 'West Darfur']  DateTime: []  EventTerm: affect  SubjectTerm:  people  Quantity: 170,000\n",
      "Location: ['Khartoum', 'Kassala', 'Gezira', 'Northern', 'Sennar', 'North Kordufan', 'South Kordofan', 'River Nile', 'West Darfur']  DateTime: []  EventTerm: die  SubjectTerm:  people  Quantity: 14\n",
      "Location: ['Khartoum', 'Kassala', 'Gezira', 'Northern', 'Sennar', 'North Kordufan', 'South Kordofan', 'River Nile', 'West Darfur']  DateTime: []  EventTerm: destroy  SubjectTerm:  house  Quantity: 28,000\n",
      "Location: ['Gadain']  DateTime: [45]  EventTerm: destroy  SubjectTerm:  house  Quantity: None\n",
      "Location: [China]  DateTime: [years]  EventTerm: affect  SubjectTerm:  people  Quantity: million\n",
      "Location: ['Khabarovsk']  DateTime: [the 120 years]  EventTerm: evacuate  SubjectTerm:  home  Quantity: None\n",
      "Location: ['Philippines']  DateTime: [three days]  EventTerm: leave dead  SubjectTerm:  people  Quantity: 17\n",
      "Location: ['Philippines']  DateTime: [three days]  EventTerm: affect  SubjectTerm:  people  Quantity: 17\n",
      "Location: ['Taiwan']  DateTime: [three days]  EventTerm: force  SubjectTerm:  people  Quantity: 6171\n",
      "Location: [Taiwan]  DateTime: [three days]  EventTerm: evacuate  SubjectTerm:  home  Quantity: None\n",
      "Location: ['France']  DateTime: [Friday]  EventTerm: evacuate  SubjectTerm:  home  Quantity: None\n",
      "Location: [Arties, Casarilh]  DateTime: [Tuesday]  EventTerm: collapse  SubjectTerm:  house  Quantity: None\n",
      "Location: ['Paramaribo']  DateTime: [June 2006]  EventTerm: kill  SubjectTerm:  people  Quantity: three\n",
      "Location: ['Paramaribo']  DateTime: [June 2006]  EventTerm: force  SubjectTerm:  people  Quantity: three\n",
      "Location: ['Marowijne']  DateTime: [This year]  EventTerm: relocate  SubjectTerm:  people  Quantity: 300\n",
      "Location: [Sweden]  DateTime: [Tuesday]  EventTerm: kill  SubjectTerm:  person  Quantity: one\n",
      "Location: [Themi, Simba, Bwawani]  DateTime: [the last few days]  EventTerm: destroy  SubjectTerm:  house  Quantity: 70\n",
      "Location: ['Surin']  DateTime: [17 April 2013]  EventTerm: destroy  SubjectTerm:  house  Quantity: None\n",
      "Location: None  DateTime: [summer]  EventTerm: destroy  SubjectTerm:  house  Quantity: None\n",
      "Location: ['Muang']  DateTime: [11 September 2013]  EventTerm: destroy  SubjectTerm:  home  Quantity: 30\n",
      "Location: ['Thailand', 'Trat Province']  DateTime: [yesterday]  EventTerm: destroy  SubjectTerm:  building  Quantity: None\n",
      "Location: ['Thailand', 'Trat Province']  DateTime: [more than 30 homes]  EventTerm: damage  SubjectTerm:  home  Quantity: 30\n",
      "Location: [Korogwe]  DateTime: []  EventTerm: destroy  SubjectTerm:  house  Quantity: None\n",
      "Location: ['Korogwe']  DateTime: [February 6, this year]  EventTerm: destroy  SubjectTerm:  house  Quantity: None\n",
      "Location: ['Muheza', 'Handeni']  DateTime: [February 6, this year]  EventTerm: destroy  SubjectTerm:  house  Quantity: None\n",
      "Location: ['Udon Thani']  DateTime: [summer]  EventTerm: damage  SubjectTerm:  home  Quantity: 253\n",
      "Location: ['Thailand']  DateTime: [Sept 23]  EventTerm: kill  SubjectTerm:  person  Quantity: 2011\n",
      "Location: ['Thailand']  DateTime: [Sept 23]  EventTerm: kill  SubjectTerm:  people  Quantity: 800\n",
      "Location: ['Thailand']  DateTime: [year]  EventTerm: kill  SubjectTerm:  people  Quantity: None\n",
      "Location: [Ayutthaya, Bangkok]  DateTime: [2011]  EventTerm: inundate  SubjectTerm:  person  Quantity: 2011\n",
      "Location: ['Trang']  DateTime: [11 November 2014]  EventTerm: affect  SubjectTerm:  household  Quantity: 30\n",
      "Location: ['Trang']  DateTime: [the last 4 days]  EventTerm: damage  SubjectTerm:  house  Quantity: None\n",
      "Location: ['Pipoon']  DateTime: [07 November 2014]  EventTerm: affect  SubjectTerm:  people  Quantity: 12,000\n",
      "Location: [Phitsanulok Province, Phrae, Phitsanulok, Lampang]  DateTime: []  EventTerm: destroy  SubjectTerm:  house  Quantity: None\n",
      "Location: [Surin Province]  DateTime: []  EventTerm: kill  SubjectTerm:  people  Quantity: 6\n",
      "Location: [Ubon Ratchathani.-, Surin.-, Mueang]  DateTime: []  EventTerm: damage  SubjectTerm:  house  Quantity: 72\n",
      "Location: [Nakhon, Phitsanulok]  DateTime: []  EventTerm: destroy  SubjectTerm:  house  Quantity: 100\n",
      "Location: ['Phitsanulok']  DateTime: []  EventTerm: damage  SubjectTerm:  house  Quantity: 19\n",
      "Location: None  DateTime: []  EventTerm: displace  SubjectTerm:  household  Quantity: None\n",
      "Location: None  DateTime: [summer]  EventTerm: damage  SubjectTerm:  house  Quantity: 451\n",
      "Location: None  DateTime: [summer]  EventTerm: destroy  SubjectTerm:  person  Quantity: one\n",
      "Location: ['Ghana']  DateTime: [the last 24 hours]  EventTerm: kill  SubjectTerm:  people  Quantity: 90\n",
      "Location: ['Accra']  DateTime: [the last 24 hours]  EventTerm: force  SubjectTerm:  people  Quantity: None\n",
      "Location: ['Accra']  DateTime: [the last 24 hours]  EventTerm: affect  SubjectTerm:  people  Quantity: None\n",
      "Location: [Lome]  DateTime: [June 2015]  EventTerm: kill  SubjectTerm:  person  Quantity: one\n",
      "Location: [Lome]  DateTime: [June 2015]  EventTerm: damage  SubjectTerm:  home  Quantity: None\n",
      "Location: ['Lome']  DateTime: [June 2015]  EventTerm: displace  SubjectTerm:  people  Quantity: 5,000\n",
      "Location: ['Cotonou']  DateTime: [June 2015]  EventTerm: damage  SubjectTerm:  home  Quantity: None\n",
      "Location: ['Cotonou']  DateTime: [2010]  EventTerm: destroy  SubjectTerm:  house  Quantity: 50,000\n",
      "Location: ['Tonga']  DateTime: [December 2014]  EventTerm: affect  SubjectTerm:  people  Quantity: 5,500\n",
      "Location: ['Tonga']  DateTime: [December 2014]  EventTerm: damage  SubjectTerm:  house  Quantity: 1,100\n",
      "Location: ['Tonga']  DateTime: [December 2014]  EventTerm: die  SubjectTerm:  person  Quantity: one\n",
      "Location: [Yala]  DateTime: [Aug 2015]  EventTerm: affect  SubjectTerm:  local  Quantity: None\n",
      "Location: ['Yala']  DateTime: [31 August 2015]  EventTerm: affect  SubjectTerm:  local  Quantity: None\n",
      "Location: [Edirne, Greece, Tunca, Meriç]  DateTime: [Sunday]  EventTerm: evacuate  SubjectTerm:  person  Quantity: hundreds\n",
      "Location: ['Turkey']  DateTime: [between 1986 and 1990]  EventTerm: displace  SubjectTerm:  person  Quantity: None\n",
      "Location: ['Turkey']  DateTime: [between 1986 and 1990]  EventTerm: flee  SubjectTerm:  person  Quantity: 1986\n",
      "Location: ['Turkey']  DateTime: [between 1986 and 1990]  EventTerm: flee  SubjectTerm:  person  Quantity: 1996\n",
      "Location: ['Turkey']  DateTime: [between 1986 and 1990]  EventTerm: flee  SubjectTerm:  person  Quantity: 1991\n",
      "Location: ['Turkey']  DateTime: [between 1986 and 1990]  EventTerm: flee  SubjectTerm:  person  Quantity: None\n",
      "Location: ['Uganda']  DateTime: [Thursday 06 November 2014]  EventTerm: displace  SubjectTerm:  people  Quantity: 16,000\n",
      "Location: ['Ntoroko']  DateTime: [November 2014]  EventTerm: displace  SubjectTerm:  people  Quantity: 500\n",
      "Location: ['Ntoroko']  DateTime: [November 2014]  EventTerm: damage  SubjectTerm:  home  Quantity: None\n",
      "Location: [Ntotoko]  DateTime: [November 2014]  EventTerm: displace  SubjectTerm:  person  Quantity: hundreds\n",
      "Location: [UK, Paris]  DateTime: [this week]  EventTerm: flood  SubjectTerm:  business  Quantity: None\n",
      "Location: [UK, Paris]  DateTime: [this week]  EventTerm: leave homeless  SubjectTerm:  person  Quantity: thousand\n",
      "Location: ['Caledon']  DateTime: [70-year-old]  EventTerm: damage  SubjectTerm:  person  Quantity: thousands\n",
      "Location: [Cumbria, Braithwaite]  DateTime: [Saturday]  EventTerm: force  SubjectTerm:  people  Quantity: None\n",
      "Location: ['Cumbria']  DateTime: [40 to 60]  EventTerm: force  SubjectTerm:  people  Quantity: None\n",
      "Location: ['Cumbria']  DateTime: [40 to 60]  EventTerm: evacuate  SubjectTerm:  home  Quantity: None\n",
      "Location: ['London']  DateTime: [17-year-old]  EventTerm: destroy  SubjectTerm:  house  Quantity: None\n",
      "Location: ['KAMPALA']  DateTime: []  EventTerm: destroy  SubjectTerm:  person  Quantity: thousands\n",
      "Location: ['Lancashire', 'Yorkshire']  DateTime: []  EventTerm: evacuate  SubjectTerm:  home  Quantity: None\n",
      "Location: ['York']  DateTime: []  EventTerm: evacuate  SubjectTerm:  home  Quantity: 2,200\n",
      "Location: ['England', 'Scotland', 'Wales']  DateTime: []  EventTerm: flood  SubjectTerm:  home  Quantity: None\n",
      "Location: [Baildon, West Yorkshire, Mytholmroyd, West Yorkshire, Knaresborough, Wales]  DateTime: [December]  EventTerm: strand  SubjectTerm:  people  Quantity: None\n",
      "Location: ['Iowa']  DateTime: [the last few days]  EventTerm: damage  SubjectTerm:  home  Quantity: None\n",
      "Location: [Pilger, Nebraska]  DateTime: [earlier this week]  EventTerm: die  SubjectTerm:  person  Quantity: one\n",
      "Location: ['Humboldt']  DateTime: [earlier this week]  EventTerm: destroy  SubjectTerm:  home  Quantity: None\n",
      "Location: ['Alvord', 'Lyon County']  DateTime: [Monday 16 June]  EventTerm: evacuate  SubjectTerm:  home  Quantity: None\n",
      "Location: ['Rock Valley']  DateTime: [Monday 16 June]  EventTerm: evacuate  SubjectTerm:  home  Quantity: None\n",
      "Location: [Blair, Nebraska]  DateTime: [Tuesday June 3]  EventTerm: damage  SubjectTerm:  home  Quantity: None\n",
      "Location: [Arkansas]  DateTime: [Thursday]  EventTerm: destroy  SubjectTerm:  building  Quantity: one\n",
      "Location: ['Nebraska']  DateTime: [Thursday]  EventTerm: kill  SubjectTerm:  person  Quantity: one\n",
      "Location: ['Bakersfield']  DateTime: [that day]  EventTerm: evacuate  SubjectTerm:  home  Quantity: hundred\n",
      "Location: ['The City Hall']  DateTime: [five year old]  EventTerm: die  SubjectTerm:  people  Quantity: None\n",
      "Location: ['Wessington Springs', 'South Dakota']  DateTime: [the same day]  EventTerm: damage  SubjectTerm:  business  Quantity: None\n",
      "Location: [Canton, South Dakota]  DateTime: [the week]  EventTerm: destroy  SubjectTerm:  home  Quantity: None\n",
      "Location: ['Wisconsin']  DateTime: [late Monday, early Tuesday]  EventTerm: damage  SubjectTerm:  home  Quantity: 25\n",
      "Location: [Verona, Madison]  DateTime: [late Monday, early Tuesday]  EventTerm: damage  SubjectTerm:  home  Quantity: 19\n",
      "Location: [Washington, Ellensburg]  DateTime: [Saturday]  EventTerm: destroy  SubjectTerm:  home  Quantity: eight\n",
      "Location: ['Glendora']  DateTime: [Thursday]  EventTerm: evacuate  SubjectTerm:  home  Quantity: None\n",
      "Location: ['Britain']  DateTime: []  EventTerm: flood  SubjectTerm:  building  Quantity: None\n",
      "Location: [Humya, Rwenzori]  DateTime: []  EventTerm: leave homeless  SubjectTerm:  resident  Quantity: 1,500\n",
      "Location: ['Ntoroko']  DateTime: [yesterday]  EventTerm: die  SubjectTerm:  people  Quantity: six\n",
      "Location: ['Ntoroko']  DateTime: [yesterday]  EventTerm: displace  SubjectTerm:  person  Quantity: 600\n",
      "Location: ['El Nino']  DateTime: [yesterday]  EventTerm: affect  SubjectTerm:  resident  Quantity: None\n",
      "Location: None  DateTime: [Sunday]  EventTerm: strand  SubjectTerm:  people  Quantity: 2,500\n",
      "Location: None  DateTime: [Sunday]  EventTerm: kill  SubjectTerm:  person  Quantity: None\n",
      "Location: [California]  DateTime: []  EventTerm: kill  SubjectTerm:  person  Quantity: one\n",
      "Location: [California]  DateTime: []  EventTerm: force  SubjectTerm:  person  Quantity: one\n",
      "Location: ['Siskiyou County']  DateTime: []  EventTerm: destroy  SubjectTerm:  home  Quantity: four\n",
      "Location: [Siskiyou County]  DateTime: []  EventTerm: destroy  SubjectTerm:  home  Quantity: four\n",
      "Location: ['California']  DateTime: [early Sunday]  EventTerm: destroy  SubjectTerm:  home  Quantity: four\n",
      "Location: ['Sonoma']  DateTime: [early Sunday]  EventTerm: damage  SubjectTerm:  building  Quantity: None\n",
      "Location: ['Platteville']  DateTime: []  EventTerm: destroy  SubjectTerm:  building  Quantity: one\n",
      "Location: ['Platteville']  DateTime: []  EventTerm: destroy  SubjectTerm:  home  Quantity: 12\n",
      "Location: ['Platteville']  DateTime: []  EventTerm: damage  SubjectTerm:  person  Quantity: 20\n",
      "Location: ['Eratap Village']  DateTime: [October 2014]  EventTerm: damage  SubjectTerm:  home  Quantity: None\n",
      "Location: ['Vietnam']  DateTime: [September 30]  EventTerm: evacuate  SubjectTerm:  person  Quantity: thousands\n",
      "Location: ['Vietnam']  DateTime: [Monday]  EventTerm: evacuate  SubjectTerm:  person  Quantity: thousands\n",
      "Location: ['Quang Tri']  DateTime: [Monday]  EventTerm: evacuate  SubjectTerm:  person  Quantity: thousands\n",
      "Location: [Vietnam, Cambodia, Thailand]  DateTime: [recent weeks]  EventTerm: kill  SubjectTerm:  people  Quantity: 24\n",
      "Location: [China, Hong Kong]  DateTime: [Last week]  EventTerm: leave dead  SubjectTerm:  people  Quantity: 25\n",
      "Location: [China]  DateTime: [Last week]  EventTerm: relocate  SubjectTerm:  people  Quantity: 226,000\n",
      "Location: [China]  DateTime: [Last week]  EventTerm: collapse  SubjectTerm:  house  Quantity: 7,100\n",
      "Location: [Quang Ninh]  DateTime: []  EventTerm: evacuate  SubjectTerm:  person  Quantity: 5,500\n",
      "Location: [Quang Ninh]  DateTime: []  EventTerm: flood  SubjectTerm:  house  Quantity: 6,000\n",
      "Location: [Quang Ninh]  DateTime: []  EventTerm: inundate  SubjectTerm:  house  Quantity: 6,000\n",
      "Location: ['Viet Nam']  DateTime: []  EventTerm: inundate  SubjectTerm:  house  Quantity: 1\n",
      "Location: ['Venezuela']  DateTime: []  EventTerm: affect  SubjectTerm:  people  Quantity: None\n",
      "Location: ['Boconó']  DateTime: []  EventTerm: affect  SubjectTerm:  family  Quantity: 250\n",
      "Location: ['Boconó']  DateTime: []  EventTerm: damage  SubjectTerm:  business  Quantity: None\n",
      "Location: ['Apure state']  DateTime: [last week]  EventTerm: affect  SubjectTerm:  people  Quantity: 40,000\n",
      "Location: ['Sơn La Province']  DateTime: [24 June 2015]  EventTerm: die  SubjectTerm:  people  Quantity: 7\n",
      "Location: ['Sơn La Province']  DateTime: [24 June 2015]  EventTerm: wash  SubjectTerm:  house  Quantity: 23\n",
      "Location: ['Mumbwa']  DateTime: []  EventTerm: collapse  SubjectTerm:  house  Quantity: None\n",
      "Location: ['Mumbwa']  DateTime: [Last week]  EventTerm: collapse  SubjectTerm:  house  Quantity: 662\n",
      "Location: ['Mumbwa']  DateTime: [Last week]  EventTerm: leave homeless  SubjectTerm:  person  Quantity: hundreds\n",
      "Location: ['Kaputa']  DateTime: []  EventTerm: displace  SubjectTerm:  people  Quantity: 1,000\n",
      "Location: ['Kaputa']  DateTime: []  EventTerm: flood  SubjectTerm:  house  Quantity: None\n",
      "Location: [Chilanga]  DateTime: [Jan 1, 2015]  EventTerm: collapse  SubjectTerm:  house  Quantity: None\n",
      "Location: ['Chilanga']  DateTime: [Jan 1, 2015]  EventTerm: collapse  SubjectTerm:  house  Quantity: None\n",
      "Location: ['Zimbabwe']  DateTime: [February 2014]  EventTerm: relocate  SubjectTerm:  family  Quantity: 3,300\n",
      "Location: None  DateTime: [September 18]  EventTerm: force  SubjectTerm:  people  Quantity: 2,819\n",
      "Location: None  DateTime: [September 18]  EventTerm: evacuate  SubjectTerm:  home  Quantity: None\n",
      "Location: [Nha Trang City's, Viet Nam]  DateTime: [yesterday]  EventTerm: force  SubjectTerm:  person  Quantity: thousands\n",
      "Location: [Khanh Hoa]  DateTime: [the next day]  EventTerm: flood  SubjectTerm:  house  Quantity: 1,000\n",
      "Location: [Khanh Hoa]  DateTime: [the next day]  EventTerm: affect  SubjectTerm:  house  Quantity: 1,000\n",
      "Location: [Mazabuka]  DateTime: [Monday]  EventTerm: collapse  SubjectTerm:  house  Quantity: None\n",
      "Location: ['Southern Province']  DateTime: [Monday]  EventTerm: leave homeless  SubjectTerm:  family  Quantity: 120\n",
      "Location: ['Southern Province']  DateTime: [Monday]  EventTerm: collapse  SubjectTerm:  house  Quantity: None\n",
      "Location: ['Zambia', 'Makalanguzu', 'Hillside']  DateTime: [Monday]  EventTerm: affect  SubjectTerm:  household  Quantity: 120\n",
      "Location: ['Zambia', 'Makalanguzu', 'Hillside']  DateTime: [Monday]  EventTerm: collapse  SubjectTerm:  house  Quantity: None\n",
      "Location: ['Mkushi']  DateTime: []  EventTerm: leave homeless  SubjectTerm:  family  Quantity: five\n",
      "Location: [Mkushi]  DateTime: []  EventTerm: damage  SubjectTerm:  house  Quantity: None\n",
      "Location: ['Mkushi']  DateTime: []  EventTerm: flood  SubjectTerm:  house  Quantity: None\n"
     ]
    }
   ],
   "source": [
    "features['new_reports'] = features['content'].apply(lambda x: process_article_new(x))"
   ]
  },
  {
   "cell_type": "code",
   "execution_count": 14,
   "metadata": {
    "collapsed": true
   },
   "outputs": [],
   "source": [
    "features['num_new_reports'] = features['new_reports'].apply(lambda x: len(x))"
   ]
  },
  {
   "cell_type": "code",
   "execution_count": 15,
   "metadata": {
    "collapsed": true
   },
   "outputs": [],
   "source": [
    "fail_cases = features[features['num_new_reports'] == 0]"
   ]
  },
  {
   "cell_type": "code",
   "execution_count": 16,
   "metadata": {
    "collapsed": false
   },
   "outputs": [
    {
     "data": {
      "text/plain": [
       "90"
      ]
     },
     "execution_count": 16,
     "metadata": {},
     "output_type": "execute_result"
    }
   ],
   "source": [
    "len(fail_cases)"
   ]
  },
  {
   "cell_type": "code",
   "execution_count": 17,
   "metadata": {
    "collapsed": false
   },
   "outputs": [],
   "source": [
    "fail_cases_text = (c for c in fail_cases['content'].tolist())"
   ]
  },
  {
   "cell_type": "markdown",
   "metadata": {},
   "source": [
    "**Test Articles - jlln**"
   ]
  },
  {
   "cell_type": "code",
   "execution_count": 323,
   "metadata": {
    "collapsed": false,
    "scrolled": true
   },
   "outputs": [],
   "source": [
    "article = \"Nineteen people are feared dead after violent storms and severe flooding swept the French Riviera, including three people who drowned in a retirement home after a river broke its banks.\"\n",
    "reports = process_article_new(article)\n",
    "for r in reports:\n",
    "    r.display()\n",
    "    \n",
    "#Why does this fail to generate reports?"
   ]
  },
  {
   "cell_type": "code",
   "execution_count": 324,
   "metadata": {
    "collapsed": false
   },
   "outputs": [
    {
     "name": "stdout",
     "output_type": "stream",
     "text": [
      "Location: None  DateTime: []  EventTerm: destroy  SubjectTerm:  shop  Quantity: fifty\n",
      "Location: None  DateTime: []  EventTerm: flood  SubjectTerm:  person  Quantity: thousands\n",
      "Location: None  DateTime: []  EventTerm: flood  SubjectTerm:  person  Quantity: thousands\n",
      "Location: None  DateTime: []  EventTerm: destroy  SubjectTerm:  shop  Quantity: fifty\n"
     ]
    }
   ],
   "source": [
    "article = \"More than fifty homes and shops were destroyed and thousands of acres of farmland flooded.\"\n",
    "reports = process_article_new(article)\n",
    "for r in reports:\n",
    "    r.display()"
   ]
  },
  {
   "cell_type": "code",
   "execution_count": 325,
   "metadata": {
    "collapsed": false
   },
   "outputs": [
    {
     "name": "stdout",
     "output_type": "stream",
     "text": [
      "Location: None  DateTime: []  EventTerm: destroy  SubjectTerm:  house  Quantity: 120\n",
      "Location: None  DateTime: []  EventTerm: destroy  SubjectTerm:  house  Quantity: 120\n"
     ]
    }
   ],
   "source": [
    "article = \"Quoting an official from the Badakhshan provincial government, Xinhua also said that the foods had damaged or destroyed more than 120 houses in the district.\"\n",
    "reports = process_article_new(article)\n",
    "for r in reports:\n",
    "    r.display()\n",
    "#Badakhshan is not recognised as a location by spacy. Could retrain the spacy model."
   ]
  },
  {
   "cell_type": "code",
   "execution_count": 326,
   "metadata": {
    "collapsed": false
   },
   "outputs": [
    {
     "name": "stdout",
     "output_type": "stream",
     "text": [
      "Location: [Essa Township]  DateTime: [June 17]  EventTerm: leave homeless  SubjectTerm:  family  Quantity: 100\n",
      "Location: [Essa Township]  DateTime: [June 17]  EventTerm: leave homeless  SubjectTerm:  family  Quantity: 100\n"
     ]
    }
   ],
   "source": [
    "article = \"The June 17 tornado whipped through Essa Township around the supper hour, leaving 100 families homeless while others had to clean up downed trees and debris.\"\n",
    "reports = process_article_new(article)\n",
    "for r in reports:\n",
    "    r.display()"
   ]
  },
  {
   "cell_type": "code",
   "execution_count": 327,
   "metadata": {
    "collapsed": false
   },
   "outputs": [
    {
     "name": "stdout",
     "output_type": "stream",
     "text": [
      "Location: ['Sarobi']  DateTime: []  EventTerm: kill  SubjectTerm:  people  Quantity: 61\n",
      "Location: ['Sarobi']  DateTime: []  EventTerm: wash  SubjectTerm:  home  Quantity: 500\n",
      "Location: ['Sarobi']  DateTime: []  EventTerm: wash  SubjectTerm:  home  Quantity: 500\n",
      "Location: ['Sarobi']  DateTime: []  EventTerm: kill  SubjectTerm:  people  Quantity: 61\n"
     ]
    }
   ],
   "source": [
    "article = \"Mountainous Afghanistan was the worst hit, with 61 people killed and approximately 500 traditional mud-brick homes washed away in more than a dozen villages in Sarobi, a rural district less than an hour from Kabul, officials said.\"\n",
    "reports = process_article_new(article)\n",
    "for r in reports:\n",
    "    r.display()"
   ]
  },
  {
   "cell_type": "code",
   "execution_count": 328,
   "metadata": {
    "collapsed": false,
    "scrolled": false
   },
   "outputs": [
    {
     "name": "stdout",
     "output_type": "stream",
     "text": [
      "Location: ['China']  DateTime: []  EventTerm: leave dead  SubjectTerm:  people  Quantity: 14\n",
      "Location: ['China']  DateTime: [Yesterday]  EventTerm: destroy  SubjectTerm:  home  Quantity: 8,700\n",
      "Location: ['China']  DateTime: [Yesterday]  EventTerm: damage  SubjectTerm:  home  Quantity: 66,000\n",
      "Location: ['China']  DateTime: [Yesterday]  EventTerm: force  SubjectTerm:  people  Quantity: 337,000\n",
      "Location: [China, Hunan Province, Jiangxi, Guangxi]  DateTime: [the next 24 hours]  EventTerm: die  SubjectTerm:  people  Quantity: None\n",
      "Location: ['Hunan']  DateTime: [8 May 2014]  EventTerm: die  SubjectTerm:  people  Quantity: 3\n",
      "Location: ['China']  DateTime: [Earlier this month]  EventTerm: die  SubjectTerm:  people  Quantity: 25\n"
     ]
    }
   ],
   "source": [
    "#Southern China Test Article - example of a single sentence with multiple facts.\n",
    "test_article = \"Further severe weather, floods and landslides have left 14 people dead and 4 missing in southern China.  Yesterday the Chinese government said that the storms and heavy rainfall from 18 to 22 June 2014 affected nine southern provinces. 8,700 homes have been destroyed, 66,000 homes damaged and forced 337,000 people to evacuate. 42,000 hectares of crops have also been destroyed. Further heavy rainfall is forecast for the next 24 hours.  According to Xinhua:  Seven people have died in central China’s Hunan Province, five in the eastern province of Jiangxi and two in Guangxi Zhuang Autonomous Region, south of the country. Hunan provincial civil affairs bureau confirmed that four people are missing.  Southern China has endured relentless severe weather conditions since 8 May 2014 where 3 people died after flooding in 5 southern provinces.  The flooding continued through May, resulting in a further 19 deaths. Earlier this month 25 people died after floods lasting a week hit much of southern China.\"\n",
    "reports = process_article_new(test_article)"
   ]
  },
  {
   "cell_type": "code",
   "execution_count": 264,
   "metadata": {
    "collapsed": false,
    "scrolled": true
   },
   "outputs": [
    {
     "name": "stdout",
     "output_type": "stream",
     "text": [
      "Location: None  DateTime: [early Saturday]  EventTerm: wash  SubjectTerm:  house  Quantity: 500\n",
      "Location: None  DateTime: [early Saturday]  EventTerm: wash  SubjectTerm:  house  Quantity: 500\n"
     ]
    }
   ],
   "source": [
    "article = \"It was early Saturday when a flash flood hit the area and washed away more than 500 houses\"\n",
    "reports = process_article_new(article)\n",
    "for r in reports:\n",
    "    r.display()"
   ]
  },
  {
   "cell_type": "code",
   "execution_count": 270,
   "metadata": {
    "collapsed": false
   },
   "outputs": [
    {
     "name": "stdout",
     "output_type": "stream",
     "text": [
      "Location: [Essa Township, Simcoe County]  DateTime: []  EventTerm: displace  SubjectTerm:  people  Quantity: 300\n",
      "Location: [Essa Township, Simcoe County]  DateTime: []  EventTerm: displace  SubjectTerm:  people  Quantity: 300\n"
     ]
    }
   ],
   "source": [
    "article = \"Within hours of the storm, Dowdall had declared a state of emergency and brought in Essa Township emergency departments staff, as well Simcoe County administrators, to assist the 300 people displaced by the storm.\"\n",
    "reports = process_article_new(article)\n",
    "for r in reports:\n",
    "    r.display()"
   ]
  },
  {
   "cell_type": "markdown",
   "metadata": {},
   "source": [
    "Special cases text cleaning:\n",
    "    words directly followerd by numbers\n",
    "    KEY words IMPACT and RESPONSE in capitals"
   ]
  },
  {
   "cell_type": "code",
   "execution_count": 266,
   "metadata": {
    "collapsed": false
   },
   "outputs": [
    {
     "name": "stdout",
     "output_type": "stream",
     "text": [
      "'Haikota, 09 August 2013 – Reports indicated that heavy rainfall and the damaging of a major diversion canal in Hashenkit area have caused flooding on the 5th of this month in Haikota sub-zone, thus giving rise to the destruction of 20 residential houses and the washing away of property.  Among the inhabitants, Mr. Mohammed Kerar and Ms. Letemichael Asgedom pointed out that the area has been witnessing fool river floods since the end of July in line with the consistency of heavy rains, and called on the inhabitants in general and herdsmen in particular to practice caution in this connection.  Accordingly, the timing of the flood which occurred at night was a disadvantage for the inhabitants in case of the efforts made to save property.  Mr. Tadese Negash from the Public Technique Service Center in Gash-Barka region disclosed that the available machineries were deployed in the rescuing endeavor.  Mr. Adem Humed, Administrator of Haikota semi-urban center, called for immediate renovation of the destroyed diversion canal, and advised the residents to be vigilant in case of similar incident in the future as heavy showers may continue.      '\n"
     ]
    }
   ],
   "source": [
    "article = \"'Haikota, 09 August 2013 – Reports indicated that heavy rainfall and the damaging of a major diversion canal in Hashenkit area have caused flooding on the 5th of this month in Haikota sub-zone, thus giving rise to the destruction of 20 residential houses and the washing away of property.  Among the inhabitants, Mr. Mohammed Kerar and Ms. Letemichael Asgedom pointed out that the area has been witnessing fool river floods since the end of July in line with the consistency of heavy rains, and called on the inhabitants in general and herdsmen in particular to practice caution in this connection.  Accordingly, the timing of the flood which occurred at night was a disadvantage for the inhabitants in case of the efforts made to save property.  Mr. Tadese Negash from the Public Technique Service Center in Gash-Barka region disclosed that the available machineries were deployed in the rescuing endeavor.  Mr. Adem Humed, Administrator of Haikota semi-urban center, called for immediate renovation of the destroyed diversion canal, and advised the residents to be vigilant in case of similar incident in the future as heavy showers may continue.      '\"\n",
    "print(cleanup(article))\n",
    "reports = process_article_new(article)\n",
    "for report in reports:\n",
    "    report.display()"
   ]
  },
  {
   "cell_type": "code",
   "execution_count": 19,
   "metadata": {
    "collapsed": false
   },
   "outputs": [
    {
     "name": "stdout",
     "output_type": "stream",
     "text": [
      "Costa Rica saw further heavy rainfall and flooding on Monday 06 July and Tuesday 07 July 2015. WMO report that Puerto Limon saw 174.9 mm of rain fall in 24 hours during that period. Costa Rica’s National Meteorological Institute have warned that the heavy rainfall will continue.  Costa Rica’s National Emergency Commission (Comisión Nacional de Prevención de Riesgos y Atención de Emergencias – CNE) issued a red alert for parts of Heredia and Limón provinces.  Authorities say that the rain and flooding has forced a total of 1057 people to evacuate thier homes and move to one of the 13 temporary shelters set up by CNE, many of them in local community halls or churches. Most of those displaced are in the canton of Sarapiqui.  As of 07 July 2015, 94 communities across 15 cantons were facing access problems after roads had been flooded or damaged.  2 Weeks of Flooding  This latest period of heavy rain means that parts of Costa Rica have suffered flooding for over 2 weeks. Floods in the Caribbean and Northern regions on 21 June 2015 left 25 communities isolated and hundreds displaced.  After a short respite, where some of those affected were able to return to thier homes, northern and eastern parts of the country were faced with further torrential rain on 27 June which caused damage to roads, bridges and houses, and affected over 200 communities across 3 provinces of Limón, Heredia and Cartago.  Colombia and Venezuela  The heavy rain is continuing to fall in parts of northern Colombia and Venzuela, both of which have been hit by floods over the last 10 days. Over 50 mm of rain fell in 24 hours between 06 and 07 July in Arauca, Colombia, according to WMO. Guanare in Venezuela saw 53 mm of rain in the same period. A state of emergency was recently declared after heavy rain and floods in the state of Apure, Venezuela.\n",
      "Location: ['Costa Rica']  DateTime: [21 June 2015]  EventTerm: displace  SubjectTerm:  person  Quantity: hundreds\n",
      "Location: [Costa Rica, Heredia, Limón]  DateTime: []  EventTerm: evacuate  SubjectTerm:  home  Quantity: None\n"
     ]
    }
   ],
   "source": [
    "article = \"Costa Rica saw further heavy rainfall and flooding on Monday 06 July and Tuesday 07 July 2015. WMO report that Puerto Limon saw 174.9 mm of rain fall in 24 hours during that period. Costa Rica’s National Meteorological Institute have warned that the heavy rainfall will continue.  Costa Rica’s National Emergency Commission (Comisión Nacional de Prevención de Riesgos y Atención de Emergencias – CNE) issued a red alert for parts of Heredia and Limón provinces.  Authorities say that the rain and flooding has forced a total of 1057 people to evacuate thier homes and move to one of the 13 temporary shelters set up by CNE, many of them in local community halls or churches. Most of those displaced are in the canton of Sarapiqui.  As of 07 July 2015, 94 communities across 15 cantons were facing access problems after roads had been flooded or damaged.  2 Weeks of Flooding  This latest period of heavy rain means that parts of Costa Rica have suffered flooding for over 2 weeks. Floods in the Caribbean and Northern regions on 21 June 2015 left 25 communities isolated and hundreds displaced.  After a short respite, where some of those affected were able to return to thier homes, northern and eastern parts of the country were faced with further torrential rain on 27 June which caused damage to roads, bridges and houses, and affected over 200 communities across 3 provinces of Limón, Heredia and Cartago.  Colombia and Venezuela  The heavy rain is continuing to fall in parts of northern Colombia and Venzuela, both of which have been hit by floods over the last 10 days. Over 50 mm of rain fell in 24 hours between 06 and 07 July in Arauca, Colombia, according to WMO. Guanare in Venezuela saw 53 mm of rain in the same period. A state of emergency was recently declared after heavy rain and floods in the state of Apure, Venezuela.\"\n",
    "print(cleanup(article))\n",
    "reports = process_article_new(article)\n",
    "for report in reports:\n",
    "    report.display()"
   ]
  },
  {
   "cell_type": "code",
   "execution_count": 267,
   "metadata": {
    "collapsed": false
   },
   "outputs": [
    {
     "name": "stdout",
     "output_type": "stream",
     "text": [
      "BEIJING, March 31 (Xinhua) -- The Ministry of Civil Affairs has sent 1,000 tents, 2,000 sleeping bags, 2,000 folding beds and 1,000 sets of folding desks and chairs to Jianhe County in southwestern Guizhou Province after it was hit by a 5.5-magnitude earthquake on Monday morning.  No deaths have been reported, though the quake was Guizhou's biggest in terms of magnitude since 1949. More than 23,000 people have been affected and 2,536 relocated.  Provincial authorities have sent teams to help with the rescue work and allocated 1 million yuan (about 162,880 U.S. dollars) and 206 tents for disaster relief.\n",
      "Location: ['Guizhou']  DateTime: [1949]  EventTerm: affect  SubjectTerm:  people  Quantity: 23,000\n",
      "Location: ['Guizhou']  DateTime: [1949]  EventTerm: relocate  SubjectTerm:  person  Quantity: 2,536\n",
      "Location: ['Guizhou']  DateTime: [1949]  EventTerm: relocate  SubjectTerm:  person  Quantity: 2,536\n",
      "Location: ['Guizhou']  DateTime: [1949]  EventTerm: affect  SubjectTerm:  people  Quantity: 23,000\n"
     ]
    }
   ],
   "source": [
    "article = \"BEIJING, March 31 (Xinhua) -- The Ministry of Civil Affairs has sent 1,000 tents, 2,000 sleeping bags, 2,000 folding beds and 1,000 sets of folding desks and chairs to Jianhe County in southwestern Guizhou Province after it was hit by a 5.5-magnitude earthquake on Monday morning.  No deaths have been reported, though the quake was Guizhou's biggest in terms of magnitude since 1949. More than 23,000 people have been affected and 2,536 relocated.  Provincial authorities have sent teams to help with the rescue work and allocated 1 million yuan (about 162,880 U.S. dollars) and 206 tents for disaster relief.\"\n",
    "print(cleanup(article))\n",
    "reports = process_article_new(article)\n",
    "for report in reports:\n",
    "    report.display()"
   ]
  },
  {
   "cell_type": "code",
   "execution_count": 21,
   "metadata": {
    "collapsed": false
   },
   "outputs": [
    {
     "name": "stdout",
     "output_type": "stream",
     "text": [
      "As many as 2,214 households have been affected by the rainstorms in Rio Grande do Sul, the Emergency Management Service reported today (Dec. 28). A total of 1,964 households were displaced. The storms hit forty municipalities.  According to the government of Rio Grande do Sul, the State Coordination for Emergency Management continues to monitor and provide assistance to the impacted municipalities and communities.  Last Saturday (26), President Rousseff flew over the region, which borders Argentina and Uruguay, and announced the provision of $6.6 million to help communities hit by the floods.  This has been the fifth flood this year in the state, and the most severe. The Quaraí river rose a record 15.28 meters. The situation got even worse with the rise of the Uruguay river.  The rainstorm has disrupted rice harvest in the municipality of Quaraí and caused the Quaraí-Artigas international bridge between Brazil and Uruguay to remain closed off for 22 hours.    Translated by Mayra Borges\n",
      "Location: None  DateTime: [today, Dec. 28]  EventTerm: affect  SubjectTerm:  household  Quantity: 2,214\n",
      "Location: None  DateTime: [today, Dec. 28]  EventTerm: displace  SubjectTerm:  household  Quantity: 1,964\n"
     ]
    }
   ],
   "source": [
    "article = 'As many as 2,214 households have been affected by the rainstorms in Rio Grande do Sul, the Emergency Management Service reported today (Dec. 28). A total of 1,964 households were displaced. The storms hit forty municipalities.  According to the government of Rio Grande do Sul, the State Coordination for Emergency Management continues to monitor and provide assistance to the impacted municipalities and communities.  Last Saturday (26), President Rousseff flew over the region, which borders Argentina and Uruguay, and announced the provision of $6.6 million to help communities hit by the floods.  This has been the fifth flood this year in the state, and the most severe. The Quaraí river rose a record 15.28 meters. The situation got even worse with the rise of the Uruguay river.  The rainstorm has disrupted rice harvest in the municipality of Quaraí and caused the Quaraí-Artigas international bridge between Brazil and Uruguay to remain closed off for 22 hours.    Translated by Mayra Borges'\n",
    "print(cleanup(article))\n",
    "reports = process_article_new(article)\n",
    "for report in reports:\n",
    "    report.display()"
   ]
  },
  {
   "cell_type": "code",
   "execution_count": 268,
   "metadata": {
    "collapsed": false
   },
   "outputs": [
    {
     "name": "stdout",
     "output_type": "stream",
     "text": [
      "As many as 2,214 households have been affected by the rainstorms in Rio Grande do Sul, the Emergency Management Service reported today (Dec. 28). A total of 1,964 households were displaced. The storms hit forty municipalities.  According to the government of Rio Grande do Sul, the State Coordination for Emergency Management continues to monitor and provide assistance to the impacted municipalities and communities.  Last Saturday (26), President Rousseff flew over the region, which borders Argentina and Uruguay, and announced the provision of $6.6 million to help communities hit by the floods.  This has been the fifth flood this year in the state, and the most severe. The Quaraí river rose a record 15.28 meters. The situation got even worse with the rise of the Uruguay river.  The rainstorm has disrupted rice harvest in the municipality of Quaraí and caused the Quaraí-Artigas international bridge between Brazil and Uruguay to remain closed off for 22 hours.    Translated by Mayra Borges\n",
      "Location: None  DateTime: [today, Dec. 28]  EventTerm: affect  SubjectTerm:  household  Quantity: 2,214\n",
      "Location: None  DateTime: [today, Dec. 28]  EventTerm: displace  SubjectTerm:  household  Quantity: 1,964\n",
      "Location: None  DateTime: [today, Dec. 28]  EventTerm: displace  SubjectTerm:  household  Quantity: 1,964\n",
      "Location: None  DateTime: [today, Dec. 28]  EventTerm: affect  SubjectTerm:  household  Quantity: 2,214\n"
     ]
    }
   ],
   "source": [
    "# Extend subject / object to search to include all tokens with dep_ pobj\n",
    "\n",
    "article = 'As many as 2,214 households have been affected by the rainstorms in Rio Grande do Sul, the Emergency Management Service reported today (Dec. 28). A total of 1,964 households were displaced. The storms hit forty municipalities.  According to the government of Rio Grande do Sul, the State Coordination for Emergency Management continues to monitor and provide assistance to the impacted municipalities and communities.  Last Saturday (26), President Rousseff flew over the region, which borders Argentina and Uruguay, and announced the provision of $6.6 million to help communities hit by the floods.  This has been the fifth flood this year in the state, and the most severe. The Quaraí river rose a record 15.28 meters. The situation got even worse with the rise of the Uruguay river.  The rainstorm has disrupted rice harvest in the municipality of Quaraí and caused the Quaraí-Artigas international bridge between Brazil and Uruguay to remain closed off for 22 hours.    Translated by Mayra Borges'\n",
    "print(cleanup(article))\n",
    "reports = process_article_new(article)\n",
    "for report in reports:\n",
    "    report.display()"
   ]
  },
  {
   "cell_type": "code",
   "execution_count": 23,
   "metadata": {
    "collapsed": false
   },
   "outputs": [
    {
     "name": "stdout",
     "output_type": "stream",
     "text": [
      "Verified  Kampong Cham, Kratie, Stung Treng and Kandal  Description  Due to high intensity of rainfall, Mekong River has swell and caused flooding to the surrounding areas. More flooding is expected if the rain continues. The provinces affected so far includes: Kampong Cham, Kratie, Stung Treng and Kandal. 12 out of Cambodia's 25 cities and provinces are suffering from floods caused by monsoon rains and Mekong River flooding. IMPACT. 45 dead. 16,000 families were affected and evacuated. 3,080 houses inundated. 44,069 hectares of rice field were inundated. 5,617 hectares of secondary crops were inundated. RESPONSE. The local authorities provided response to the affected communities. More impact assessment is still conducted by provincial and national authorities.The government also prepared 200 units of heavy equipment in Phnom Penh and the provinces of Takeo, Svay Rieng, Oddar Meanchey and Battambang to divert water or mitigate overflows from inundated homes and farmland\n",
      "Location: ['Cambodia']  DateTime: []  EventTerm: inundate  SubjectTerm:  house  Quantity: 3,080\n",
      "Location: ['Cambodia']  DateTime: []  EventTerm: affect  SubjectTerm:  family  Quantity: 16,000\n"
     ]
    }
   ],
   "source": [
    "### Cleanup article, deal with cases where reporting term is part of conjunction, add inundated\n",
    "\n",
    "article = \"Verified  Kampong Cham, Kratie, Stung Treng and Kandal  Description  Due to high intensity of rainfall, Mekong River has swell and caused flooding to the surrounding areas. More flooding is expected if the rain continues. The provinces affected so far includes: Kampong Cham, Kratie, Stung Treng and Kandal12 out of Cambodia's 25 cities and provinces are suffering from floods caused by monsoon rains and Mekong River floodingIMPACT45 dead16,000 families were affected and evacuated3,080 houses inundated44,069 hectares of rice field were inundated5,617 hectares of secondary crops were inundatedRESPONSEThe local authorities provided response to the affected communities. More impact assessment is still conducted by provincial and national authorities.The government also prepared 200 units of heavy equipment in Phnom Penh and the provinces of Takeo, Svay Rieng, Oddar Meanchey and Battambang to divert water or mitigate overflows from inundated homes and farmland\"\n",
    "print(cleanup(article))\n",
    "reports = process_article_new(article)\n",
    "for report in reports:\n",
    "    report.display()"
   ]
  },
  {
   "cell_type": "code",
   "execution_count": 24,
   "metadata": {
    "collapsed": false
   },
   "outputs": [
    {
     "name": "stdout",
     "output_type": "stream",
     "text": [
      "Vehicles pass through a submerged bridge in Larkipora area in Anantnag in the Kashmir Valley (Press Trust of India photo)  Srinagar: At least 10 people were buried by mudslides and hundreds of people left their homes in Kashmir after heavy rain over the weekend raised fears of floods in the valley.\n"
     ]
    }
   ],
   "source": [
    "article = 'Vehicles pass through a submerged bridge in Larkipora area in Anantnag in the Kashmir Valley (Press Trust of India photo)  Srinagar: At least 10 people were buried by mudslides and hundreds of people left their homes in Kashmir after heavy rain over the weekend raised fears of floods in the valley.'\n",
    "print(cleanup(article))\n",
    "reports = process_article_new(article)\n",
    "for report in reports:\n",
    "    report.display()"
   ]
  },
  {
   "cell_type": "code",
   "execution_count": 25,
   "metadata": {
    "collapsed": false
   },
   "outputs": [
    {
     "name": "stdout",
     "output_type": "stream",
     "text": [
      "pass pass [] [Vehicles, through, )]\n",
      "submerged submerge [] []\n",
      "buried bury [] [Srinagar, :, people, were, by, left, .]\n",
      "left leave [homes] [homes, in, raised]\n",
      "raised raise [fears] [after, rain, fears, in]\n"
     ]
    }
   ],
   "source": [
    "doc = nlp(article)\n",
    "verbs = textacy.spacy_utils.get_main_verbs_of_sent(doc)\n",
    "for v in verbs:\n",
    "    print(v, v.lemma_, textacy.spacy_utils.get_objects_of_verb(v), list(v.children))"
   ]
  },
  {
   "cell_type": "code",
   "execution_count": 26,
   "metadata": {
    "collapsed": false
   },
   "outputs": [
    {
     "name": "stdout",
     "output_type": "stream",
     "text": [
      "Verified  Blang Pidie and Labuhan Haji  Description  Due to continuous heavy rainfall flooding has occurred in 8 districts in Aceh Province (i.e. Aceh Besar, Aceh Jaya, Nagan Raya, West Aceh, Banda Aceh, South Aceh, Abdya and Aceh Singkil)Based on data on 3rd November, the following subdistricts in Aceh Barat is affected:Johan Pahlawan, Kawe, Meureubo, Samatiga, Woyla, Woyla Barat, Woyla Timur and Bubon. IMPACT- 47,524 families or 174,711 affected.- 1,206 families or 4,438 people were displaced.additional 11,966 families or 46,142 people displaced (based on latest 3 Nov 2014 report)- 13,505 houses inundated.- Landslide in Paro Mountain area has disrupted the access from Banda Aceh - Meulaboh (national road).RESPONSE- Local disaster management authorities (BPBA Aceh) responded to the situation and continue the evacuation- The Governor of Aceh declared Provincial Calamity.- National Disaster Management Agency (BNPB) provided 98,000 USD in amount of logistic supplies for the victims.- Indonesian Red Cross Society (PMI) mobilized personnel to conduct assessment and evacuation under the coordination of BPBA(Contributor: Ayu Setiadewi, BNPB)\n"
     ]
    }
   ],
   "source": [
    "article = 'Verified  Blang Pidie and Labuhan Haji  Description  Due to continuous heavy rainfall flooding has occurred in 8 districts in Aceh Province (i.e. Aceh Besar, Aceh Jaya, Nagan Raya, West Aceh, Banda Aceh, South Aceh, Abdya and Aceh Singkil)Based on data on 3rd November, the following subdistricts in Aceh Barat is affected:Johan Pahlawan, Kawe, Meureubo, Samatiga, Woyla, Woyla Barat, Woyla Timur and BubonIMPACT- 47,524 families or 174,711 affected.- 1,206 families or 4,438 people were displaced.additional 11,966 families or 46,142 people displaced (based on latest 3 Nov 2014 report)- 13,505 houses inundated.- Landslide in Paro Mountain area has disrupted the access from Banda Aceh - Meulaboh (national road).RESPONSE- Local disaster management authorities (BPBA Aceh) responded to the situation and continue the evacuation- The Governor of Aceh declared Provincial Calamity.- National Disaster Management Agency (BNPB) provided 98,000 USD in amount of logistic supplies for the victims.- Indonesian Red Cross Society (PMI) mobilized personnel to conduct assessment and evacuation under the coordination of BPBA(Contributor: Ayu Setiadewi, BNPB)'\n",
    "print(cleanup(article))\n",
    "reports = process_article_new(article)\n",
    "for report in reports:\n",
    "    report.display()"
   ]
  },
  {
   "cell_type": "code",
   "execution_count": 27,
   "metadata": {
    "collapsed": false
   },
   "outputs": [
    {
     "data": {
      "text/plain": [
       "'Verified  Ciamis, Pangandaran and Cianjur.  Description  High rainfall intensity has caused flooding in several districts of West Java Province. From the period 22 – 24 December 2014, BNPB reported flood happened in Ciamis, Pangandaran and Cianjur.IMPACT:- In Ciamis, 375 families / 1,116 people were affected and 374 houses and 700 ha of crops were inundated.- In Pangandaras, 69 families were affected and 41 ha of crops were submerged.- In Cianjur, 79 families / 303 people were affected.RESPONSE:- BPBD of each district has evacuated the victims and provided relief items.'"
      ]
     },
     "execution_count": 27,
     "metadata": {},
     "output_type": "execute_result"
    }
   ],
   "source": [
    "'Verified  Ciamis, Pangandaran and Cianjur.  Description  High rainfall intensity has caused flooding in several districts of West Java Province. From the period 22 – 24 December 2014, BNPB reported flood happened in Ciamis, Pangandaran and Cianjur.IMPACT:- In Ciamis, 375 families / 1,116 people were affected and 374 houses and 700 ha of crops were inundated.- In Pangandaras, 69 families were affected and 41 ha of crops were submerged.- In Cianjur, 79 families / 303 people were affected.RESPONSE:- BPBD of each district has evacuated the victims and provided relief items.'"
   ]
  },
  {
   "cell_type": "code",
   "execution_count": 28,
   "metadata": {
    "collapsed": false
   },
   "outputs": [
    {
     "data": {
      "text/plain": [
       "'Verified  karo, North Sumatera  Description  Mt. Sinabung errupted again and emits pyroclastic clouds causing several casualtiesThe affected area includes all villages in the radius of 3 km from the volcanoThe casualties includes:16 death1 injured31,739 people evacuatedBased on research and development agency of Indonesian Ministry of Agriculture the impact of this incident to agriculture:50,921 ha amounted to 1.3 - 1.5 trillion IDR or 114 - 130 millions USDSearch and Rescue team will continue to look for more victims'"
      ]
     },
     "execution_count": 28,
     "metadata": {},
     "output_type": "execute_result"
    }
   ],
   "source": [
    "'Verified  karo, North Sumatera  Description  Mt. Sinabung errupted again and emits pyroclastic clouds causing several casualtiesThe affected area includes all villages in the radius of 3 km from the volcanoThe casualties includes:16 death1 injured31,739 people evacuatedBased on research and development agency of Indonesian Ministry of Agriculture the impact of this incident to agriculture:50,921 ha amounted to 1.3 - 1.5 trillion IDR or 114 - 130 millions USDSearch and Rescue team will continue to look for more victims'"
   ]
  },
  {
   "cell_type": "code",
   "execution_count": 29,
   "metadata": {
    "collapsed": false
   },
   "outputs": [
    {
     "data": {
      "text/plain": [
       "'Verified  East Java  Description  Five municipalities in Sidoarjo, East Java Province have been flooded. It was triggered by the heavy rain.IMPACT- 1,000 houses were submergedRESPONSE- BPBD set up post command and provided assistance.- 2,450 ready-to-eat meal and 1,250 food packages have been distributed to the victims.'"
      ]
     },
     "execution_count": 29,
     "metadata": {},
     "output_type": "execute_result"
    }
   ],
   "source": [
    "'Verified  East Java  Description  Five municipalities in Sidoarjo, East Java Province have been flooded. It was triggered by the heavy rain.IMPACT- 1,000 houses were submergedRESPONSE- BPBD set up post command and provided assistance.- 2,450 ready-to-eat meal and 1,250 food packages have been distributed to the victims.'"
   ]
  },
  {
   "cell_type": "code",
   "execution_count": 30,
   "metadata": {
    "collapsed": false
   },
   "outputs": [
    {
     "data": {
      "text/plain": [
       "'Verified  Banjar, Hulu Sungai  Description  The overflow of Barito River has created flooding in many villages in Banjar and Hulu Sungai District, Province of South Kalimantan.IMPACT:- 13,941 people were affected and 3949 houses were submerged in Banjar.- In Hulu Sungai,about 3,000 houses and 525 ha of agriculture area were inundated.RESPONSE:- Relief items and logistic supplies have been distributed by local government.'"
      ]
     },
     "execution_count": 30,
     "metadata": {},
     "output_type": "execute_result"
    }
   ],
   "source": [
    "'Verified  Banjar, Hulu Sungai  Description  The overflow of Barito River has created flooding in many villages in Banjar and Hulu Sungai District, Province of South Kalimantan.IMPACT:- 13,941 people were affected and 3949 houses were submerged in Banjar.- In Hulu Sungai,about 3,000 houses and 525 ha of agriculture area were inundated.RESPONSE:- Relief items and logistic supplies have been distributed by local government.'"
   ]
  },
  {
   "cell_type": "code",
   "execution_count": 31,
   "metadata": {
    "collapsed": false
   },
   "outputs": [
    {
     "data": {
      "text/plain": [
       "'Verified  Pamekasan, Pasuruan  Description  Many villages in Pamekasan and Pasuruan district, East Java Province were flooded due to the torrential rain. Hundreds of families were reportedly affected by the flooding.IMPACTPamekasan district- 906 houses submergedPasuruan district- 1,777 families were affected- 2 schools and 51 ha of agriculture were inundated.RESPONSE- The local authority set up command post and evacuation center for the victims as well as distributed relief supplies.'"
      ]
     },
     "execution_count": 31,
     "metadata": {},
     "output_type": "execute_result"
    }
   ],
   "source": [
    "'Verified  Pamekasan, Pasuruan  Description  Many villages in Pamekasan and Pasuruan district, East Java Province were flooded due to the torrential rain. Hundreds of families were reportedly affected by the flooding.IMPACTPamekasan district- 906 houses submergedPasuruan district- 1,777 families were affected- 2 schools and 51 ha of agriculture were inundated.RESPONSE- The local authority set up command post and evacuation center for the victims as well as distributed relief supplies.'"
   ]
  },
  {
   "cell_type": "code",
   "execution_count": 32,
   "metadata": {
    "collapsed": false
   },
   "outputs": [
    {
     "data": {
      "text/plain": [
       "'Verified  Musi Rawas Utara, Ogan Hilir  Description  Continuous rain has generated flood which affected many municipalities in Ogan Hilir and Musi Rawas Utara district, Province of South Sumatra.IMPACT- 350 houses submergedRESPONSE- BPBD provided medical services and distributed logistic supplies.'"
      ]
     },
     "execution_count": 32,
     "metadata": {},
     "output_type": "execute_result"
    }
   ],
   "source": [
    "'Verified  Musi Rawas Utara, Ogan Hilir  Description  Continuous rain has generated flood which affected many municipalities in Ogan Hilir and Musi Rawas Utara district, Province of South Sumatra.IMPACT- 350 houses submergedRESPONSE- BPBD provided medical services and distributed logistic supplies.'"
   ]
  },
  {
   "cell_type": "code",
   "execution_count": 33,
   "metadata": {
    "collapsed": false
   },
   "outputs": [
    {
     "data": {
      "text/plain": [
       "'Verified  Banten  Description  Due to heavy rainfall the city of tangerang and Serang district in Banten experience flooding.This incident cause the following casualties- 2000 evacuated- estimated 3540 people affectedLocal disaster management agency and related stakeholder provided the emergency relief'"
      ]
     },
     "execution_count": 33,
     "metadata": {},
     "output_type": "execute_result"
    }
   ],
   "source": [
    "'Verified  Banten  Description  Due to heavy rainfall the city of tangerang and Serang district in Banten experience flooding.This incident cause the following casualties- 2000 evacuated- estimated 3540 people affectedLocal disaster management agency and related stakeholder provided the emergency relief'"
   ]
  },
  {
   "cell_type": "code",
   "execution_count": 34,
   "metadata": {
    "collapsed": false
   },
   "outputs": [
    {
     "data": {
      "text/plain": [
       "'Verified  Garut  Description  Torrential rain has caused Cibarengkok River in Garut to overflow. Consequently, water inundated 10 villages in Banjarwangi and Cikajang sub-district, Garut, Province of West Java.IMPACT- over 2,167 people were affected- 458 houses were damaged- 280 houses were submergedRESPONSE- Evacuation have been conducted by the local government- Relief items have been distributed to the affected communities'"
      ]
     },
     "execution_count": 34,
     "metadata": {},
     "output_type": "execute_result"
    }
   ],
   "source": [
    "'Verified  Garut  Description  Torrential rain has caused Cibarengkok River in Garut to overflow. Consequently, water inundated 10 villages in Banjarwangi and Cikajang sub-district, Garut, Province of West Java.IMPACT- over 2,167 people were affected- 458 houses were damaged- 280 houses were submergedRESPONSE- Evacuation have been conducted by the local government- Relief items have been distributed to the affected communities'"
   ]
  },
  {
   "cell_type": "code",
   "execution_count": 35,
   "metadata": {
    "collapsed": false
   },
   "outputs": [
    {
     "data": {
      "text/plain": [
       "'Verified  Rote Ndao, Malaka  Description  Flood submerged hundreds of houses in Rote Ndao and Malaka District, East Nusa Tenggara Province. The incident was triggered by heavy rain that caused Baa and Benanain River to overflow.IMPACT- In Rote Ndao, the flood has caused 1 death and submerged 185 houses.- In Malaka, 870 houses were inundated.RESPONSE- Evacuation and relief supply distribution have been conducted by the local government to respond the situation.'"
      ]
     },
     "execution_count": 35,
     "metadata": {},
     "output_type": "execute_result"
    }
   ],
   "source": [
    "'Verified  Rote Ndao, Malaka  Description  Flood submerged hundreds of houses in Rote Ndao and Malaka District, East Nusa Tenggara Province. The incident was triggered by heavy rain that caused Baa and Benanain River to overflow.IMPACT- In Rote Ndao, the flood has caused 1 death and submerged 185 houses.- In Malaka, 870 houses were inundated.RESPONSE- Evacuation and relief supply distribution have been conducted by the local government to respond the situation.'"
   ]
  },
  {
   "cell_type": "code",
   "execution_count": 36,
   "metadata": {
    "collapsed": false
   },
   "outputs": [
    {
     "data": {
      "text/plain": [
       "'Unverified  Kutai Kartanegara  Description  Heavy rain has caused flooding and landslide in Kutai Kartanegara, East Kalimantan Province.IMPACT- 165 families were affected- 165 houses were submerged- road damaged due to landslideRESPONSE- BPBD provided assistance for the victims.'"
      ]
     },
     "execution_count": 36,
     "metadata": {},
     "output_type": "execute_result"
    }
   ],
   "source": [
    "'Unverified  Kutai Kartanegara  Description  Heavy rain has caused flooding and landslide in Kutai Kartanegara, East Kalimantan Province.IMPACT- 165 families were affected- 165 houses were submerged- road damaged due to landslideRESPONSE- BPBD provided assistance for the victims.'"
   ]
  },
  {
   "cell_type": "code",
   "execution_count": 37,
   "metadata": {
    "collapsed": false
   },
   "outputs": [
    {
     "data": {
      "text/plain": [
       "'Verified  Bogor  Description  Torrential rain has caused flood and landslide in North Bogor and Sukaraja sub-district in Bogor, Province of West Java.IMPACT- 2 death due to landslide- 113 houses were submergedRESPONSE- Disaster Management Agency of Bogor with the other agencies responded the situation by providing assistance.'"
      ]
     },
     "execution_count": 37,
     "metadata": {},
     "output_type": "execute_result"
    }
   ],
   "source": [
    "'Verified  Bogor  Description  Torrential rain has caused flood and landslide in North Bogor and Sukaraja sub-district in Bogor, Province of West Java.IMPACT- 2 death due to landslide- 113 houses were submergedRESPONSE- Disaster Management Agency of Bogor with the other agencies responded the situation by providing assistance.'"
   ]
  },
  {
   "cell_type": "code",
   "execution_count": 38,
   "metadata": {
    "collapsed": false
   },
   "outputs": [
    {
     "data": {
      "text/plain": [
       "'Verified  Garut  Description  The overflow of Cimanuk River due to the heavy rain has submerged four subdistricts in Garut, West Java. The affected subdistrict are Tarogong Kidul, Cisurupan, Cikajang and Cikeduk. Consequently, 161 families have been impacted.The detail impact numbers as follows:- 161 families were affected- 162 houses and 1 mosque were submergedBPBD Garut mobilised rescue team and evacuation equipment, such as rubber boat and drainage pump. Logistic supplies were also distributed to the the affected community.'"
      ]
     },
     "execution_count": 38,
     "metadata": {},
     "output_type": "execute_result"
    }
   ],
   "source": [
    "'Verified  Garut  Description  The overflow of Cimanuk River due to the heavy rain has submerged four subdistricts in Garut, West Java. The affected subdistrict are Tarogong Kidul, Cisurupan, Cikajang and Cikeduk. Consequently, 161 families have been impacted.The detail impact numbers as follows:- 161 families were affected- 162 houses and 1 mosque were submergedBPBD Garut mobilised rescue team and evacuation equipment, such as rubber boat and drainage pump. Logistic supplies were also distributed to the the affected community.'"
   ]
  },
  {
   "cell_type": "code",
   "execution_count": 39,
   "metadata": {
    "collapsed": false
   },
   "outputs": [
    {
     "data": {
      "text/plain": [
       "'Verified  Bone  Description  Flood affected Bone district in South Sulawesi which caused by the overflow of Awu river.IMPACT- 51 houses were submergedRESPONSE- Evacuation and relief operation have been conducted by the BPBD.'"
      ]
     },
     "execution_count": 39,
     "metadata": {},
     "output_type": "execute_result"
    }
   ],
   "source": [
    "'Verified  Bone  Description  Flood affected Bone district in South Sulawesi which caused by the overflow of Awu river.IMPACT- 51 houses were submergedRESPONSE- Evacuation and relief operation have been conducted by the BPBD.'"
   ]
  },
  {
   "cell_type": "code",
   "execution_count": 40,
   "metadata": {
    "collapsed": false
   },
   "outputs": [
    {
     "data": {
      "text/plain": [
       "'Verified  Pasaman, Padang City  Description  Flashflood happened in Pasaman District and Padang City, West Sumatra Provinci.IMPACT- 1 death- 70 families in Pasaman and 41 families in Padang (216 people) were evacuated- 30 houses and 1 mosque were damagedRESPONSE- Evacuation centre and command post have been set up by BPBD to assist the victims'"
      ]
     },
     "execution_count": 40,
     "metadata": {},
     "output_type": "execute_result"
    }
   ],
   "source": [
    "'Verified  Pasaman, Padang City  Description  Flashflood happened in Pasaman District and Padang City, West Sumatra Provinci.IMPACT- 1 death- 70 families in Pasaman and 41 families in Padang (216 people) were evacuated- 30 houses and 1 mosque were damagedRESPONSE- Evacuation centre and command post have been set up by BPBD to assist the victims'"
   ]
  },
  {
   "cell_type": "code",
   "execution_count": 41,
   "metadata": {
    "collapsed": false
   },
   "outputs": [
    {
     "data": {
      "text/plain": [
       "'Verified  Bengkulu  Description  Due to heavy rainfall, flood was occurred in several subdistricts in Seluma, Bengkulu. The affected subdistricts includes:Seluma Selatan and Air PeriukanIMPACTS42 families evacuated40 houses inundated15 boats damaged40 ha rice field inundatedRESPONSElocal government stakeholders provided emergency response and reliefhttp://adinet.ahacentre.org/reports/view/739'"
      ]
     },
     "execution_count": 41,
     "metadata": {},
     "output_type": "execute_result"
    }
   ],
   "source": [
    "'Verified  Bengkulu  Description  Due to heavy rainfall, flood was occurred in several subdistricts in Seluma, Bengkulu. The affected subdistricts includes:Seluma Selatan and Air PeriukanIMPACTS42 families evacuated40 houses inundated15 boats damaged40 ha rice field inundatedRESPONSElocal government stakeholders provided emergency response and reliefhttp://adinet.ahacentre.org/reports/view/739'"
   ]
  },
  {
   "cell_type": "code",
   "execution_count": 42,
   "metadata": {
    "collapsed": false
   },
   "outputs": [
    {
     "data": {
      "text/plain": [
       "'Verified  Bandung  Description  Torrential rain has triggered landslide incidentin Cipatat, West Bandung district, Province of West Java. The reported impacts are 35 houses and 125 people displaced due to the incident. The local authority distributed relief items to the victim and cleaned out the area.'"
      ]
     },
     "execution_count": 42,
     "metadata": {},
     "output_type": "execute_result"
    }
   ],
   "source": [
    "'Verified  Bandung  Description  Torrential rain has triggered landslide incidentin Cipatat, West Bandung district, Province of West Java. The reported impacts are 35 houses and 125 people displaced due to the incident. The local authority distributed relief items to the victim and cleaned out the area.'"
   ]
  },
  {
   "cell_type": "code",
   "execution_count": 43,
   "metadata": {
    "collapsed": false
   },
   "outputs": [
    {
     "data": {
      "text/plain": [
       "'Verified  Sukabumi  Description  Due to heavy rainfall two sub-districts in Sukabumi experienced flooding. The affected area includes cicurug and cibadak sub-districtsIMPACT1 injured23 houses inundated3 houses collapsedRESPONSESLocal disaster management agency along with related stakeholders provided the relief items and temporary evacuation'"
      ]
     },
     "execution_count": 43,
     "metadata": {},
     "output_type": "execute_result"
    }
   ],
   "source": [
    "'Verified  Sukabumi  Description  Due to heavy rainfall two sub-districts in Sukabumi experienced flooding. The affected area includes cicurug and cibadak sub-districtsIMPACT1 injured23 houses inundated3 houses collapsedRESPONSESLocal disaster management agency along with related stakeholders provided the relief items and temporary evacuation'"
   ]
  },
  {
   "cell_type": "code",
   "execution_count": 44,
   "metadata": {
    "collapsed": false
   },
   "outputs": [
    {
     "data": {
      "text/plain": [
       "'Verified  West Java  Description  Landslide triggered by heavy rain occurred in Tasikmalaya district, West Java Province.IMPACT- 26 houses were damaged- 28 families or 96 people were evacuatedRESPONSE- BPBD is still conducting damage assessment'"
      ]
     },
     "execution_count": 44,
     "metadata": {},
     "output_type": "execute_result"
    }
   ],
   "source": [
    "'Verified  West Java  Description  Landslide triggered by heavy rain occurred in Tasikmalaya district, West Java Province.IMPACT- 26 houses were damaged- 28 families or 96 people were evacuatedRESPONSE- BPBD is still conducting damage assessment'"
   ]
  },
  {
   "cell_type": "code",
   "execution_count": null,
   "metadata": {
    "collapsed": true
   },
   "outputs": [],
   "source": [
    ""
   ]
  }
 ],
 "metadata": {
  "kernelspec": {
   "display_name": "Python [Root]",
   "language": "python",
   "name": "Python [Root]"
  },
  "language_info": {
   "codemirror_mode": {
    "name": "ipython",
    "version": 3.0
   },
   "file_extension": ".py",
   "mimetype": "text/x-python",
   "name": "python",
   "nbconvert_exporter": "python",
   "pygments_lexer": "ipython3",
   "version": "3.5.2"
  }
 },
 "nbformat": 4,
 "nbformat_minor": 0
}