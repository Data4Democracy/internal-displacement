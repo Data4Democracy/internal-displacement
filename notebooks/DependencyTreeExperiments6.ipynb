{
 "cells": [
  {
   "cell_type": "markdown",
   "metadata": {},
   "source": [
    "** Start a collection of tricky cases that the solution should be able to deal with **\n",
    "\n",
    "** Improve the methods to deal with some of these cases, including:**\n",
    "\n",
    "Deal with the case where the reporting unit is implied, and the actual subject is a number, i.e.:\n",
    "'2,536 relocated'\n",
    "\n",
    "Deal with two quantities in the same sentence relating to different reporting terms and units, i.e.:\n",
    "'More than 23,000 people have been affected and 2,536 relocated.'\n",
    "\n",
    "Include households as a reporting unit, i.e.:\n",
    "'A total of 1,964 households were displaced.'\n",
    "\n",
    "Include 'affected' as a possible reporting term when certain other keywords are present, for example Storm, Hurricane etc:\n",
    "'As many as 2,214 households have been affected by the rainstorms'\n",
    "\n",
    "Extend the subject / object search to include all tokens with dependency pobj, i.e. to cover sentences like:\n",
    "'A total of 1,964 households were displaced.'\n",
    "where the main subject is identified as being 'A total'\n",
    "\n",
    "Deal with the case where a reporting term is part of a conjunction, i.e.:\n",
    "'16,000 families were affected and evacuated.'\n",
    "\n",
    "Clean-up articles to deal with missing spacing, i.e.:\n",
    "'PeriukanIMPACTS42'\n",
    "'damaged24'\n",
    "\n",
    "Add inundated as a reporting term.\n",
    "\n",
    "**There are still plenty of unusual cases to review and deal with **\n"
   ]
  },
  {
   "cell_type": "code",
   "execution_count": 1,
   "metadata": {
    "collapsed": true
   },
   "outputs": [],
   "source": [
    "import pandas as pd\n",
    "import spacy\n",
    "import os\n",
    "import sys\n",
    "from nltk import Tree\n",
    "module_path = os.path.abspath(os.path.join('..'))\n",
    "if module_path not in sys.path:\n",
    "    sys.path.append(module_path)\n",
    "from internal_displacement.pipeline import SQLArticleInterface"
   ]
  },
  {
   "cell_type": "code",
   "execution_count": 2,
   "metadata": {
    "collapsed": true
   },
   "outputs": [],
   "source": [
    "import textacy\n",
    "import re"
   ]
  },
  {
   "cell_type": "code",
   "execution_count": 3,
   "metadata": {
    "collapsed": true
   },
   "outputs": [],
   "source": [
    "nlp = spacy.load('en')\n",
    "\n",
    "def to_nltk_tree(node):\n",
    "    if node.n_lefts + node.n_rights > 0:\n",
    "        return Tree(node.orth_, [to_nltk_tree(child) for child in node.children])\n",
    "    else:\n",
    "        return node.orth_"
   ]
  },
  {
   "cell_type": "code",
   "execution_count": 4,
   "metadata": {
    "collapsed": true
   },
   "outputs": [],
   "source": [
    "pipeline = SQLArticleInterface(\"../sql_db.sqlite\") #Connecting to pre-populated database.\n",
    "labels,features = pipeline.get_training_data()"
   ]
  },
  {
   "cell_type": "code",
   "execution_count": 5,
   "metadata": {
    "collapsed": true
   },
   "outputs": [],
   "source": [
    "person_reporting_terms = [\n",
    "    'displaced', 'evacuated', 'forced','flee', 'homeless', 'relief camp',\n",
    "    'sheltered', 'relocated', 'stranded','stuck','stranded',\"killed\",\"dead\",\"died\"\n",
    "]\n",
    "\n",
    "structure_reporting_terms = [\n",
    "    'destroyed','damaged','swept','collapsed','flooded','washed', 'inundated', 'evacuate'\n",
    "]\n",
    "\n",
    "person_reporting_units = [\"families\",\"person\",\"people\",\"individuals\",\"locals\",\"villagers\",\"residents\",\"occupants\",\"citizens\", \"households\"]\n",
    "\n",
    "structure_reporting_units = [\"home\",\"house\",\"hut\",\"dwelling\",\"building\",\"shop\",\"business\",\"apartment\",\"flat\",\"residence\"]\n",
    "\n",
    "\n",
    "person_term_lemmas = [t.lemma_ for t in nlp(\" \".join(person_reporting_terms))]\n",
    "structure_term_lemmas = [t.lemma_ for t in nlp(\" \".join(structure_reporting_terms))]\n",
    "person_unit_lemmas = [t.lemma_ for t in nlp(\" \".join(person_reporting_units))]\n",
    "structure_unit_lemmas = [t.lemma_ for t in nlp(\" \".join(structure_reporting_units))]\n",
    "\n",
    "reporting_term_lemmas = person_term_lemmas + structure_term_lemmas\n",
    "reporting_unit_lemmas = person_unit_lemmas + structure_unit_lemmas\n",
    "\n",
    "relevant_article_terms = ['Rainstorm', 'hurricane', 'tornado', 'rain', 'storm', 'earthquake']\n",
    "relevant_article_lemmas = [t.lemma_ for t in nlp(\" \".join(relevant_article_terms))]"
   ]
  },
  {
   "cell_type": "code",
   "execution_count": 6,
   "metadata": {
    "collapsed": true
   },
   "outputs": [],
   "source": [
    "class Report:\n",
    "    def __init__(self,locations,date_times,event_term,subject_term,quantity,story):\n",
    "        self.locations = locations\n",
    "        if date_times:\n",
    "            self.date_times = [date for date in date_times]\n",
    "        else:\n",
    "            self.date_times = []\n",
    "        self.event_term = event_term\n",
    "        self.subject_term = subject_term\n",
    "        self.quantity = quantity\n",
    "        self.story = story\n",
    "    \n",
    "    def display(self):\n",
    "        print(\"Location: {}  DateTime: {}  EventTerm: {}  SubjectTerm:  {}  Quantity: {}\"\n",
    "              .format(self.locations,self.date_times,self.event_term,self.subject_term,self.quantity))\n",
    "        \n",
    "    def show_story_tree(self):\n",
    "        self.display()\n",
    "        for sentence in nlp(self.story).sents:\n",
    "            for token in sentence:\n",
    "                if token.lemma_ == self.event_term:\n",
    "                    return to_nltk_tree(sentence.root)"
   ]
  },
  {
   "cell_type": "code",
   "execution_count": 7,
   "metadata": {
    "collapsed": true
   },
   "outputs": [],
   "source": [
    "def test_token_equality(token_a,token_b):\n",
    "    if token_a.text == token_b.text:\n",
    "        return True\n",
    "    else:\n",
    "        return False\n",
    "    \n",
    "def check_if_collection_contains_token(token,collection):\n",
    "    if any([test_token_equality(token,t) for t in collection]):\n",
    "        return True\n",
    "    else:\n",
    "        return False\n",
    "\n",
    "def get_descendents(sentence,root=None):\n",
    "    \"\"\"\n",
    "    Retrieves all tokens that are descended from the specified root token.\n",
    "    param: root: the root token\n",
    "    param: sentence: a span from which to retrieve tokens.\n",
    "    returns: a list of tokens\n",
    "    \"\"\"\n",
    "    if not root:\n",
    "        root = sentence.root\n",
    "    return [t for t in sentence if root.is_ancestor_of(t)]\n",
    "\n",
    "def get_head_descendents(sentence,root=None):\n",
    "    \"\"\"\n",
    "    Retrieves all tokens that are descended from the head of the specified root token.\n",
    "    param: root: the root token\n",
    "    param: sentence: a span from which to retrieve tokens.\n",
    "    returns: a list of tokens\n",
    "    \"\"\"\n",
    "    if not root:\n",
    "        root = sentence.root\n",
    "    else:\n",
    "        root = root.head\n",
    "    return [t for t in sentence if root.is_ancestor_of(t)]\n",
    "    \n",
    "def check_if_entity_contains_token(tokens,entity):\n",
    "    \"\"\"\n",
    "    Function to test if a given entity contains at least one of a list of tokens.\n",
    "    param: tokens: A list of tokens\n",
    "    param: entity: A span\n",
    "    \n",
    "    returns: Boolean\n",
    "    \"\"\"\n",
    "    tokens_ = [t.text for t in tokens]\n",
    "    ret = False\n",
    "    for token in entity:\n",
    "        if token.text in tokens_:\n",
    "            return True\n",
    "    return False\n",
    "    \n",
    "\n",
    "def get_distance_from_root(token,root):\n",
    "    \"\"\"\n",
    "    Gets the parse tree distance between a token and the sentence root.\n",
    "    :param token: a token\n",
    "    :param root: the root token of the sentence\n",
    "    \n",
    "    returns: an integer distance\n",
    "    \"\"\"\n",
    "    if token == root:\n",
    "        return 0\n",
    "    d = 1\n",
    "    p = token.head\n",
    "    while p is not root:\n",
    "        d+=1\n",
    "        p = p.head\n",
    "    return d\n",
    "\n",
    "\n",
    "def get_common_ancestors(tokens):\n",
    "    ancestors = [set(t.ancestors) for t in tokens]\n",
    "    if len(ancestors) == 0:\n",
    "        return []\n",
    "    common_ancestors = ancestors[0].intersection(*ancestors)\n",
    "    return common_ancestors    \n",
    "\n",
    "\n",
    "def get_distance_between_tokens(token_a,token_b):\n",
    "\n",
    "    if token_b in token_a.subtree:\n",
    "        distance = get_distance_from_root(token_b,token_a)\n",
    "    elif token_a in token_b.subtree:\n",
    "        distance = get_distance_from_root(token_a,token_b)\n",
    "    else:\n",
    "        common_ancestors = get_common_ancestors([token_a,token_b])\n",
    "        distance = 10000\n",
    "        for ca in common_ancestors:\n",
    "            distance_a = get_distance_from_root(ca,token_a)\n",
    "            distance_b = get_distance_from_root(ca,token_b)\n",
    "            distance_ab = distance_a + distance_b\n",
    "            if distance_ab < distance:\n",
    "                distance = distance_ab\n",
    "    return distance\n",
    "\n",
    "\n",
    "def get_closest_contiguous_location_block(entity_list,root_node):\n",
    "    location_entity_tokens = [[token for token in sentence] for sentence in entity_list]\n",
    "    token_list =  [item for sublist in location_entity_tokens for item in sublist]\n",
    "    location_tokens_by_distance = sorted([(token,get_distance_between_tokens(token,root_node)) \n",
    "                                          for token in token_list],key= lambda x: x[1])\n",
    "    closest_location = location_tokens_by_distance[0]\n",
    "    contiguous_block = [closest_token]\n",
    "    added_tokens = 1\n",
    "    while added_tokens > 0:\n",
    "        contiguous_block_ancestors = [[token for token in token_list if token.is_ancestor_of(toke)] for toke in contiguous_block ]\n",
    "        contiguous_block_subtrees = [token.subtree for token in contiguous_block]\n",
    "        contiguous_block_neighbours = contiguous_block_ancestors + contiguous_block_subtrees\n",
    "        contiguous_block_neighbours = [item for sublist in contiguous_block_neighbours for item in sublist]\n",
    "        added_tokens = 0\n",
    "        for toke in token_list:\n",
    "            if not check_if_collection_contains_token(toke,contiguous_block):\n",
    "                if toke in contiguous_block_neighbours:\n",
    "                    added_tokens +=1\n",
    "                    contiguous_block.append(toke)\n",
    "    return contiguous_block\n",
    "\n",
    "\n",
    "\n",
    "def get_contiguous_tokens(token_list):\n",
    "    common_ancestor_tokens = get_common_ancestors(token_list)\n",
    "    highest_contiguous_block = []\n",
    "    for toke in token_list:\n",
    "        if check_if_collection_contains_token(toke.head,common_ancestor_tokens):\n",
    "            highest_contiguous_block.append(toke)\n",
    "    added_tokens = 1\n",
    "    while added_tokens > 0:\n",
    "        added_tokens = 0\n",
    "        for toke in token_list:\n",
    "            if check_if_collection_contains_token(toke.head,highest_contiguous_block):\n",
    "                if not check_if_collection_contains_token(toke,highest_contiguous_block):\n",
    "                    highest_contiguous_block.append(toke)\n",
    "                    added_tokens +=1\n",
    "    return highest_contiguous_block\n",
    "\n",
    "def match_entities_in_block(entities,token_block):\n",
    "    matched = []\n",
    "    text_block = [t.text for t in token_block] #For some reason comparing identity on tokens does not always work.\n",
    "    for e in entities:\n",
    "        et = [t.text for t in e]\n",
    "        et_in_b = [t for t in et if t in text_block]\n",
    "        if len(et_in_b) == len(et):\n",
    "            matched.append(e)\n",
    "    return matched\n",
    "\n",
    "def extract_locations(sentence,root=None):\n",
    "    \"\"\"\n",
    "    Examines a sentence and identifies if any of its constituent tokens describe a location.\n",
    "    If a root token is specified, only location tokens below the level of this token in the tree will be examined. \n",
    "    If no root is specified, location tokens will be drawn from the entirety of the span.\n",
    "    param: sentence       a span\n",
    "    param: root           a token\n",
    "    returns: A list of strings, or None\n",
    "    \"\"\"\n",
    "    if not root:\n",
    "        root = sentence.root\n",
    "    descendents = get_descendents(sentence,root)\n",
    "    location_entities = [e for e in nlp(sentence.text).ents if e.label_ == \"GPE\"]\n",
    "    if len(location_entities) > 0:\n",
    "        descendent_location_tokens = []\n",
    "        for location_ent in location_entities:\n",
    "            if check_if_entity_contains_token(location_ent,descendents):\n",
    "                descendent_location_tokens.extend([token for token in location_ent])\n",
    "        contiguous_token_block = get_contiguous_tokens(descendent_location_tokens)\n",
    "\n",
    "        block_locations = match_entities_in_block(location_entities,contiguous_token_block)\n",
    "        if len(block_locations) > 0:\n",
    "            return [location.text for location in block_locations]\n",
    "        else:\n",
    "            return location_entities #If we cannot decide which one is correct, choose them all\n",
    "                                    #and figure it out at the report merging stage.\n",
    "    else:\n",
    "        return []\n",
    "def extract_dates(sentence,root=None):\n",
    "    \"\"\"\n",
    "    Examines a sentence and identifies if any of its constituent tokens describe a date.\n",
    "    If a root token is specified, only date tokens below the level of this token in the tree will be examined. \n",
    "    If no root is specified, date tokens will be drawn from the entirety of the span.\n",
    "    Unlike the extract dates function (which returns a list of strings),\n",
    "    this function returns a list of spacy spans. This is because numerical quantities detected in the \n",
    "    branch_search need to be checked to ensure they are not in fact parts of a date.\n",
    "    \n",
    "    param: sentence       a span\n",
    "    param: root           a token\n",
    "    returns: A list of spacy spans\n",
    "    \"\"\"\n",
    "    if not root:\n",
    "        root = sentence.root\n",
    "    descendents = get_head_descendents(sentence,root)\n",
    "    date_entities = [e for e in nlp(sentence.text).ents if e.label_ == \"DATE\"]\n",
    "    if len(date_entities) > 0:\n",
    "        descendent_date_tokens = []\n",
    "        for date_ent in date_entities:\n",
    "            if check_if_entity_contains_token(date_ent,descendents):\n",
    "                descendent_date_tokens.extend([token for token in date_ent])\n",
    "        contiguous_token_block = get_contiguous_tokens(descendent_date_tokens)\n",
    "\n",
    "        block_dates = match_entities_in_block(date_entities,contiguous_token_block)\n",
    "        return block_dates\n",
    "    else:\n",
    "        return None\n",
    "\n",
    "\n",
    "def basic_number(token):\n",
    "    if token.text in (\"dozens\", \"hundreds\", \"thousands\"):\n",
    "        return True\n",
    "    if token.like_num:\n",
    "        return True\n",
    "    else:\n",
    "        return False\n"
   ]
  },
  {
   "cell_type": "code",
   "execution_count": 8,
   "metadata": {
    "collapsed": true
   },
   "outputs": [],
   "source": [
    "def process_sentence_new(sentence, dates_memory, locations_memory, story):\n",
    "    \"\"\"\n",
    "    Extracts the main verbs from a sentence as a starting point\n",
    "    for report extraction.\n",
    "    \"\"\"\n",
    "    sentence_reports = []\n",
    "    # Find the verbs\n",
    "    main_verbs = textacy.spacy_utils.get_main_verbs_of_sent(sentence)\n",
    "    for v in main_verbs:\n",
    "        unit_type, verb_lemma = verb_relevance(v, story)\n",
    "        if unit_type:\n",
    "            reports = branch_search_new(v, verb_lemma, unit_type, dates_memory, locations_memory, sentence, story)\n",
    "            sentence_reports.extend(reports)\n",
    "    return sentence_reports\n",
    "\n",
    "def article_relevance(article):\n",
    "    for token in article:\n",
    "        if token.lemma_ in relevant_article_lemmas:\n",
    "            return True\n",
    "\n",
    "def verb_relevance(verb, article):\n",
    "    \"\"\"\n",
    "    Checks a verb for relevance by:\n",
    "    1. Comparing to structure term lemmas\n",
    "    2. Comparing to person term lemmas\n",
    "    3. Looking for special cases such as 'leave homeless'\n",
    "    \"\"\"\n",
    "    if verb.lemma_ in structure_term_lemmas:\n",
    "        return structure_unit_lemmas, verb.lemma_\n",
    "    elif verb.lemma_ in person_term_lemmas:\n",
    "        return person_unit_lemmas, verb.lemma_\n",
    "    elif verb.lemma_ == 'leave':\n",
    "        children = verb.children\n",
    "        obj_predicate = None\n",
    "        for child in children:\n",
    "            if child.dep_ in ('oprd', 'dobj'):\n",
    "                obj_predicate = child\n",
    "        if obj_predicate:\n",
    "            if obj_predicate.lemma_ in structure_term_lemmas:\n",
    "                return structure_unit_lemmas, 'leave ' + obj_predicate.lemma_\n",
    "            elif obj_predicate.lemma_ in person_term_lemmas:\n",
    "                return person_unit_lemmas, 'leave ' + obj_predicate.lemma_\n",
    "    elif verb.lemma_ == 'affect' and article_relevance(article):\n",
    "        return structure_unit_lemmas + person_unit_lemmas , verb.lemma_\n",
    "                \n",
    "        \n",
    "    return None, None\n",
    "\n",
    "def get_quantity_from_phrase(phrase):\n",
    "    \"\"\"\n",
    "    Look for number-like tokens within noun phrase.\n",
    "    \"\"\"\n",
    "    for token in phrase:\n",
    "        if basic_number(token):\n",
    "            return token\n",
    "            \n",
    "def get_quantity(sentence, unit):\n",
    "    \"\"\"\n",
    "    Split a sentence into noun phrases.\n",
    "    Search for quantities within each noun phrase.\n",
    "    If the noun phrase is part of a conjunction, then\n",
    "    search for quantity within preceding noun phrase\n",
    "    \"\"\"\n",
    "    noun_phrases = list(nlp(sentence.text).noun_chunks)\n",
    "    # Case one - see if phrase contains the unit\n",
    "    for i, np in enumerate(noun_phrases):\n",
    "        if unit.text in np.text:\n",
    "            if unit.dep_ == 'conj':\n",
    "                return get_quantity_from_phrase(noun_phrases[i-1])\n",
    "            else:\n",
    "                return get_quantity_from_phrase(np)\n",
    "\n",
    "def simple_subjects_and_objects(verb):\n",
    "    verb_objects = textacy.spacy_utils.get_objects_of_verb(verb)\n",
    "    verb_subjects = textacy.spacy_utils.get_subjects_of_verb(verb)\n",
    "    verb_objects.extend(verb_subjects)\n",
    "    return verb_objects\n",
    "            \n",
    "def get_subjects_and_objects(story, sentence, verb):\n",
    "    \"\"\"\n",
    "    Identify subjects and objects for a verb\n",
    "    Also check if a reporting unit directly precedes\n",
    "    a verb and is a direct or prepositional object\n",
    "    \"\"\"\n",
    "    # Get simple or standard subjects and objects\n",
    "    verb_objects = simple_subjects_and_objects(verb)\n",
    "    # Special Cases\n",
    "\n",
    "    #see if unit directly precedes verb\n",
    "    if verb.i > 0:\n",
    "        preceding = story[verb.i - 1]\n",
    "        if preceding.dep_ in ('pobj', 'dobj') and preceding not in verb_objects:\n",
    "            verb_objects.append(preceding)\n",
    "\n",
    "    # See if verb is part of a conjunction\n",
    "    if verb.dep_ == 'conj':\n",
    "        lefts = list(verb.lefts)\n",
    "        if len(lefts) > 0:\n",
    "            for token in lefts:\n",
    "                if token.dep_ in ('nsubj', 'nsubjpass'):\n",
    "                    verb_objects.append(token)\n",
    "        else:            \n",
    "            ancestors = verb.ancestors\n",
    "            for anc in ancestors:\n",
    "                verb_objects.extend(simple_subjects_and_objects(anc))\n",
    "            \n",
    "    # Look for 'pobj' in sentence\n",
    "    if verb.dep_ == 'ROOT':\n",
    "        for token in sentence:\n",
    "            if token.dep_ == 'pobj':\n",
    "                verb_objects.append(token)\n",
    "    \n",
    "    return list(set(verb_objects))\n",
    "            \n",
    "def branch_search_new(verb, verb_lemma, search_type, dates_memory, locations_memory, sentence, story):\n",
    "    \"\"\"\n",
    "    Extract reports based upon an identified verb (reporting term).\n",
    "    Extract possible locations or use most recent locations\n",
    "    Extract possible dates or use most recent dates\n",
    "    Identify reporting unit by looking in objects and subjects of reporting term (verb)\n",
    "    Identify quantity by looking in noun phrases.\n",
    "    \"\"\"\n",
    "    possible_locations = extract_locations(sentence)\n",
    "    possible_dates = extract_dates(sentence)\n",
    "    if not possible_locations:\n",
    "        possible_locations = locations_memory\n",
    "    if not possible_dates:\n",
    "        possible_dates = dates_memory\n",
    "\n",
    "    reports = []\n",
    "    quantity = None\n",
    "    verb_objects = get_subjects_and_objects(story, sentence, verb)\n",
    "    for o in verb_objects:\n",
    "        if basic_number(o):\n",
    "            quantity = o\n",
    "            if search_type == structure_term_lemmas:\n",
    "                unit = 'house'\n",
    "            else:\n",
    "                unit = 'person'\n",
    "            report = Report(possible_locations, possible_dates, verb_lemma,\n",
    "                                    unit, quantity, story.text)\n",
    "            reports.append(report)\n",
    "        elif o.lemma_ in search_type:\n",
    "            # Try and get a number\n",
    "            quantity = get_quantity(sentence, o)\n",
    "            report = Report(possible_locations, possible_dates, verb_lemma,\n",
    "                                    o.lemma_, quantity, story.text)\n",
    "            reports.append(report)\n",
    "            #report.display()\n",
    "    return reports\n",
    "\n",
    "def cleanup(text):\n",
    "    text = re.sub(r'([a-zA-Z0-9])(IMPACT)', r'\\1. \\2', text)\n",
    "    text = re.sub(r'([a-zA-Z0-9])(RESPONSE)', r'\\1. \\2', text)\n",
    "    text = re.sub(r'(IMPACT)([a-zA-Z0-9])', r'\\1. \\2', text)\n",
    "    text = re.sub(r'(RESPONSE)([a-zA-Z0-9])', r'\\1. \\2', text)\n",
    "    text = re.sub(r'([a-zA-Z])(\\d)', r'\\1. \\2', text)\n",
    "    return text\n",
    "\n",
    "def process_article_new(story):\n",
    "    \"\"\"\n",
    "    Process a story once sentence at a time\n",
    "    \"\"\"\n",
    "    story = cleanup(story)\n",
    "    processed_reports = []\n",
    "    #if len(story) < 25:\n",
    "    #    return processed_reports\n",
    "    story = nlp(story)\n",
    "    sentences = list(story.sents) # Split into sentences\n",
    "    dates_memory = None # Keep a running track of the most recent dates found in articles\n",
    "    locations_memory = None # Keep a running track of the most recent locations found in articles\n",
    "    for sentence in sentences: # Process sentence\n",
    "        reports = []\n",
    "        reports = process_sentence_new(sentence, dates_memory, locations_memory, story)\n",
    "        current_locations = extract_locations(sentence)\n",
    "        if current_locations:\n",
    "            locations_memory = current_locations\n",
    "        current_dates = extract_dates(sentence)\n",
    "        if current_dates:\n",
    "            dates_memory = current_dates\n",
    "        processed_reports.extend(reports)\n",
    "    return list(set(processed_reports))\n"
   ]
  },
  {
   "cell_type": "code",
   "execution_count": 9,
   "metadata": {
    "collapsed": true
   },
   "outputs": [],
   "source": [
    "features = pd.DataFrame(features, columns=['content'])\n",
    "features = features[~features['content'].isin(['', 'retrieval_failed'])]"
   ]
  },
  {
   "cell_type": "code",
   "execution_count": 10,
   "metadata": {
    "collapsed": true
   },
   "outputs": [],
   "source": [
    "def check_language(text):\n",
    "    try:\n",
    "        lang = textacy.text_utils.detect_language(text)\n",
    "        return lang\n",
    "    except ValueError:\n",
    "        return 'na'"
   ]
  },
  {
   "cell_type": "code",
   "execution_count": 11,
   "metadata": {
    "collapsed": false
   },
   "outputs": [],
   "source": [
    "features['language'] = features['content'].apply(lambda x: check_language(x))"
   ]
  },
  {
   "cell_type": "code",
   "execution_count": 12,
   "metadata": {
    "collapsed": false
   },
   "outputs": [],
   "source": [
    "features = features[features['language'] == 'en'].copy()"
   ]
  },
  {
   "cell_type": "code",
   "execution_count": 13,
   "metadata": {
    "collapsed": false
   },
   "outputs": [],
   "source": [
    "features['new_reports'] = features['content'].apply(lambda x: process_article_new(x))"
   ]
  },
  {
   "cell_type": "code",
   "execution_count": 14,
   "metadata": {
    "collapsed": true
   },
   "outputs": [],
   "source": [
    "features['num_new_reports'] = features['new_reports'].apply(lambda x: len(x))"
   ]
  },
  {
   "cell_type": "code",
   "execution_count": 15,
   "metadata": {
    "collapsed": true
   },
   "outputs": [],
   "source": [
    "fail_cases = features[features['num_new_reports'] == 0]"
   ]
  },
  {
   "cell_type": "code",
   "execution_count": 16,
   "metadata": {
    "collapsed": false
   },
   "outputs": [
    {
     "data": {
      "text/plain": [
       "90"
      ]
     },
     "execution_count": 16,
     "metadata": {},
     "output_type": "execute_result"
    }
   ],
   "source": [
    "len(fail_cases)"
   ]
  },
  {
   "cell_type": "code",
   "execution_count": 17,
   "metadata": {
    "collapsed": false
   },
   "outputs": [],
   "source": [
    "fail_cases_text = (c for c in fail_cases['content'].tolist())"
   ]
  },
  {
   "cell_type": "markdown",
   "metadata": {},
   "source": [
    "Special cases text cleaning:\n",
    "    words directly followerd by numbers\n",
    "    KEY words IMPACT and RESPONSE in capitals"
   ]
  },
  {
   "cell_type": "code",
   "execution_count": 18,
   "metadata": {
    "collapsed": false
   },
   "outputs": [
    {
     "name": "stdout",
     "output_type": "stream",
     "text": [
      "'Haikota, 09 August 2013 – Reports indicated that heavy rainfall and the damaging of a major diversion canal in Hashenkit area have caused flooding on the 5th of this month in Haikota sub-zone, thus giving rise to the destruction of 20 residential houses and the washing away of property.  Among the inhabitants, Mr. Mohammed Kerar and Ms. Letemichael Asgedom pointed out that the area has been witnessing fool river floods since the end of July in line with the consistency of heavy rains, and called on the inhabitants in general and herdsmen in particular to practice caution in this connection.  Accordingly, the timing of the flood which occurred at night was a disadvantage for the inhabitants in case of the efforts made to save property.  Mr. Tadese Negash from the Public Technique Service Center in Gash-Barka region disclosed that the available machineries were deployed in the rescuing endeavor.  Mr. Adem Humed, Administrator of Haikota semi-urban center, called for immediate renovation of the destroyed diversion canal, and advised the residents to be vigilant in case of similar incident in the future as heavy showers may continue.      '\n"
     ]
    }
   ],
   "source": [
    "article = \"'Haikota, 09 August 2013 – Reports indicated that heavy rainfall and the damaging of a major diversion canal in Hashenkit area have caused flooding on the 5th of this month in Haikota sub-zone, thus giving rise to the destruction of 20 residential houses and the washing away of property.  Among the inhabitants, Mr. Mohammed Kerar and Ms. Letemichael Asgedom pointed out that the area has been witnessing fool river floods since the end of July in line with the consistency of heavy rains, and called on the inhabitants in general and herdsmen in particular to practice caution in this connection.  Accordingly, the timing of the flood which occurred at night was a disadvantage for the inhabitants in case of the efforts made to save property.  Mr. Tadese Negash from the Public Technique Service Center in Gash-Barka region disclosed that the available machineries were deployed in the rescuing endeavor.  Mr. Adem Humed, Administrator of Haikota semi-urban center, called for immediate renovation of the destroyed diversion canal, and advised the residents to be vigilant in case of similar incident in the future as heavy showers may continue.      '\"\n",
    "print(cleanup(article))\n",
    "reports = process_article_new(article)\n",
    "for report in reports:\n",
    "    report.display()"
   ]
  },
  {
   "cell_type": "code",
   "execution_count": 19,
   "metadata": {
    "collapsed": false
   },
   "outputs": [
    {
     "name": "stdout",
     "output_type": "stream",
     "text": [
      "Costa Rica saw further heavy rainfall and flooding on Monday 06 July and Tuesday 07 July 2015. WMO report that Puerto Limon saw 174.9 mm of rain fall in 24 hours during that period. Costa Rica’s National Meteorological Institute have warned that the heavy rainfall will continue.  Costa Rica’s National Emergency Commission (Comisión Nacional de Prevención de Riesgos y Atención de Emergencias – CNE) issued a red alert for parts of Heredia and Limón provinces.  Authorities say that the rain and flooding has forced a total of 1057 people to evacuate thier homes and move to one of the 13 temporary shelters set up by CNE, many of them in local community halls or churches. Most of those displaced are in the canton of Sarapiqui.  As of 07 July 2015, 94 communities across 15 cantons were facing access problems after roads had been flooded or damaged.  2 Weeks of Flooding  This latest period of heavy rain means that parts of Costa Rica have suffered flooding for over 2 weeks. Floods in the Caribbean and Northern regions on 21 June 2015 left 25 communities isolated and hundreds displaced.  After a short respite, where some of those affected were able to return to thier homes, northern and eastern parts of the country were faced with further torrential rain on 27 June which caused damage to roads, bridges and houses, and affected over 200 communities across 3 provinces of Limón, Heredia and Cartago.  Colombia and Venezuela  The heavy rain is continuing to fall in parts of northern Colombia and Venzuela, both of which have been hit by floods over the last 10 days. Over 50 mm of rain fell in 24 hours between 06 and 07 July in Arauca, Colombia, according to WMO. Guanare in Venezuela saw 53 mm of rain in the same period. A state of emergency was recently declared after heavy rain and floods in the state of Apure, Venezuela.\n",
      "Location: ['Costa Rica']  DateTime: [21 June 2015]  EventTerm: displace  SubjectTerm:  person  Quantity: hundreds\n",
      "Location: [Costa Rica, Heredia, Limón]  DateTime: []  EventTerm: evacuate  SubjectTerm:  home  Quantity: None\n"
     ]
    }
   ],
   "source": [
    "article = \"Costa Rica saw further heavy rainfall and flooding on Monday 06 July and Tuesday 07 July 2015. WMO report that Puerto Limon saw 174.9 mm of rain fall in 24 hours during that period. Costa Rica’s National Meteorological Institute have warned that the heavy rainfall will continue.  Costa Rica’s National Emergency Commission (Comisión Nacional de Prevención de Riesgos y Atención de Emergencias – CNE) issued a red alert for parts of Heredia and Limón provinces.  Authorities say that the rain and flooding has forced a total of 1057 people to evacuate thier homes and move to one of the 13 temporary shelters set up by CNE, many of them in local community halls or churches. Most of those displaced are in the canton of Sarapiqui.  As of 07 July 2015, 94 communities across 15 cantons were facing access problems after roads had been flooded or damaged.  2 Weeks of Flooding  This latest period of heavy rain means that parts of Costa Rica have suffered flooding for over 2 weeks. Floods in the Caribbean and Northern regions on 21 June 2015 left 25 communities isolated and hundreds displaced.  After a short respite, where some of those affected were able to return to thier homes, northern and eastern parts of the country were faced with further torrential rain on 27 June which caused damage to roads, bridges and houses, and affected over 200 communities across 3 provinces of Limón, Heredia and Cartago.  Colombia and Venezuela  The heavy rain is continuing to fall in parts of northern Colombia and Venzuela, both of which have been hit by floods over the last 10 days. Over 50 mm of rain fell in 24 hours between 06 and 07 July in Arauca, Colombia, according to WMO. Guanare in Venezuela saw 53 mm of rain in the same period. A state of emergency was recently declared after heavy rain and floods in the state of Apure, Venezuela.\"\n",
    "print(cleanup(article))\n",
    "reports = process_article_new(article)\n",
    "for report in reports:\n",
    "    report.display()"
   ]
  },
  {
   "cell_type": "code",
   "execution_count": 20,
   "metadata": {
    "collapsed": false
   },
   "outputs": [
    {
     "name": "stdout",
     "output_type": "stream",
     "text": [
      "BEIJING, March 31 (Xinhua) -- The Ministry of Civil Affairs has sent 1,000 tents, 2,000 sleeping bags, 2,000 folding beds and 1,000 sets of folding desks and chairs to Jianhe County in southwestern Guizhou Province after it was hit by a 5.5-magnitude earthquake on Monday morning.  No deaths have been reported, though the quake was Guizhou's biggest in terms of magnitude since 1949. More than 23,000 people have been affected and 2,536 relocated.  Provincial authorities have sent teams to help with the rescue work and allocated 1 million yuan (about 162,880 U.S. dollars) and 206 tents for disaster relief.\n",
      "Location: ['Guizhou']  DateTime: [1949]  EventTerm: affect  SubjectTerm:  people  Quantity: 23,000\n",
      "Location: ['Guizhou']  DateTime: [1949]  EventTerm: relocate  SubjectTerm:  person  Quantity: 2,536\n"
     ]
    }
   ],
   "source": [
    "article = \"BEIJING, March 31 (Xinhua) -- The Ministry of Civil Affairs has sent 1,000 tents, 2,000 sleeping bags, 2,000 folding beds and 1,000 sets of folding desks and chairs to Jianhe County in southwestern Guizhou Province after it was hit by a 5.5-magnitude earthquake on Monday morning.  No deaths have been reported, though the quake was Guizhou's biggest in terms of magnitude since 1949. More than 23,000 people have been affected and 2,536 relocated.  Provincial authorities have sent teams to help with the rescue work and allocated 1 million yuan (about 162,880 U.S. dollars) and 206 tents for disaster relief.\"\n",
    "print(cleanup(article))\n",
    "reports = process_article_new(article)\n",
    "for report in reports:\n",
    "    report.display()"
   ]
  },
  {
   "cell_type": "code",
   "execution_count": 21,
   "metadata": {
    "collapsed": false
   },
   "outputs": [
    {
     "name": "stdout",
     "output_type": "stream",
     "text": [
      "As many as 2,214 households have been affected by the rainstorms in Rio Grande do Sul, the Emergency Management Service reported today (Dec. 28). A total of 1,964 households were displaced. The storms hit forty municipalities.  According to the government of Rio Grande do Sul, the State Coordination for Emergency Management continues to monitor and provide assistance to the impacted municipalities and communities.  Last Saturday (26), President Rousseff flew over the region, which borders Argentina and Uruguay, and announced the provision of $6.6 million to help communities hit by the floods.  This has been the fifth flood this year in the state, and the most severe. The Quaraí river rose a record 15.28 meters. The situation got even worse with the rise of the Uruguay river.  The rainstorm has disrupted rice harvest in the municipality of Quaraí and caused the Quaraí-Artigas international bridge between Brazil and Uruguay to remain closed off for 22 hours.    Translated by Mayra Borges\n",
      "Location: None  DateTime: [today, Dec. 28]  EventTerm: affect  SubjectTerm:  household  Quantity: 2,214\n",
      "Location: None  DateTime: [today, Dec. 28]  EventTerm: displace  SubjectTerm:  household  Quantity: 1,964\n"
     ]
    }
   ],
   "source": [
    "article = 'As many as 2,214 households have been affected by the rainstorms in Rio Grande do Sul, the Emergency Management Service reported today (Dec. 28). A total of 1,964 households were displaced. The storms hit forty municipalities.  According to the government of Rio Grande do Sul, the State Coordination for Emergency Management continues to monitor and provide assistance to the impacted municipalities and communities.  Last Saturday (26), President Rousseff flew over the region, which borders Argentina and Uruguay, and announced the provision of $6.6 million to help communities hit by the floods.  This has been the fifth flood this year in the state, and the most severe. The Quaraí river rose a record 15.28 meters. The situation got even worse with the rise of the Uruguay river.  The rainstorm has disrupted rice harvest in the municipality of Quaraí and caused the Quaraí-Artigas international bridge between Brazil and Uruguay to remain closed off for 22 hours.    Translated by Mayra Borges'\n",
    "print(cleanup(article))\n",
    "reports = process_article_new(article)\n",
    "for report in reports:\n",
    "    report.display()"
   ]
  },
  {
   "cell_type": "code",
   "execution_count": 22,
   "metadata": {
    "collapsed": false
   },
   "outputs": [
    {
     "name": "stdout",
     "output_type": "stream",
     "text": [
      "As many as 2,214 households have been affected by the rainstorms in Rio Grande do Sul, the Emergency Management Service reported today (Dec. 28). A total of 1,964 households were displaced. The storms hit forty municipalities.  According to the government of Rio Grande do Sul, the State Coordination for Emergency Management continues to monitor and provide assistance to the impacted municipalities and communities.  Last Saturday (26), President Rousseff flew over the region, which borders Argentina and Uruguay, and announced the provision of $6.6 million to help communities hit by the floods.  This has been the fifth flood this year in the state, and the most severe. The Quaraí river rose a record 15.28 meters. The situation got even worse with the rise of the Uruguay river.  The rainstorm has disrupted rice harvest in the municipality of Quaraí and caused the Quaraí-Artigas international bridge between Brazil and Uruguay to remain closed off for 22 hours.    Translated by Mayra Borges\n",
      "Location: None  DateTime: [today, Dec. 28]  EventTerm: affect  SubjectTerm:  household  Quantity: 2,214\n",
      "Location: None  DateTime: [today, Dec. 28]  EventTerm: displace  SubjectTerm:  household  Quantity: 1,964\n"
     ]
    }
   ],
   "source": [
    "# Extend subject / object to search to include all tokens with dep_ pobj\n",
    "\n",
    "article = 'As many as 2,214 households have been affected by the rainstorms in Rio Grande do Sul, the Emergency Management Service reported today (Dec. 28). A total of 1,964 households were displaced. The storms hit forty municipalities.  According to the government of Rio Grande do Sul, the State Coordination for Emergency Management continues to monitor and provide assistance to the impacted municipalities and communities.  Last Saturday (26), President Rousseff flew over the region, which borders Argentina and Uruguay, and announced the provision of $6.6 million to help communities hit by the floods.  This has been the fifth flood this year in the state, and the most severe. The Quaraí river rose a record 15.28 meters. The situation got even worse with the rise of the Uruguay river.  The rainstorm has disrupted rice harvest in the municipality of Quaraí and caused the Quaraí-Artigas international bridge between Brazil and Uruguay to remain closed off for 22 hours.    Translated by Mayra Borges'\n",
    "print(cleanup(article))\n",
    "reports = process_article_new(article)\n",
    "for report in reports:\n",
    "    report.display()"
   ]
  },
  {
   "cell_type": "code",
   "execution_count": 23,
   "metadata": {
    "collapsed": false
   },
   "outputs": [
    {
     "name": "stdout",
     "output_type": "stream",
     "text": [
      "Verified  Kampong Cham, Kratie, Stung Treng and Kandal  Description  Due to high intensity of rainfall, Mekong River has swell and caused flooding to the surrounding areas. More flooding is expected if the rain continues. The provinces affected so far includes: Kampong Cham, Kratie, Stung Treng and Kandal. 12 out of Cambodia's 25 cities and provinces are suffering from floods caused by monsoon rains and Mekong River flooding. IMPACT. 45 dead. 16,000 families were affected and evacuated. 3,080 houses inundated. 44,069 hectares of rice field were inundated. 5,617 hectares of secondary crops were inundated. RESPONSE. The local authorities provided response to the affected communities. More impact assessment is still conducted by provincial and national authorities.The government also prepared 200 units of heavy equipment in Phnom Penh and the provinces of Takeo, Svay Rieng, Oddar Meanchey and Battambang to divert water or mitigate overflows from inundated homes and farmland\n",
      "Location: ['Cambodia']  DateTime: []  EventTerm: inundate  SubjectTerm:  house  Quantity: 3,080\n",
      "Location: ['Cambodia']  DateTime: []  EventTerm: affect  SubjectTerm:  family  Quantity: 16,000\n"
     ]
    }
   ],
   "source": [
    "### Cleanup article, deal with cases where reporting term is part of conjunction, add inundated\n",
    "\n",
    "article = \"Verified  Kampong Cham, Kratie, Stung Treng and Kandal  Description  Due to high intensity of rainfall, Mekong River has swell and caused flooding to the surrounding areas. More flooding is expected if the rain continues. The provinces affected so far includes: Kampong Cham, Kratie, Stung Treng and Kandal12 out of Cambodia's 25 cities and provinces are suffering from floods caused by monsoon rains and Mekong River floodingIMPACT45 dead16,000 families were affected and evacuated3,080 houses inundated44,069 hectares of rice field were inundated5,617 hectares of secondary crops were inundatedRESPONSEThe local authorities provided response to the affected communities. More impact assessment is still conducted by provincial and national authorities.The government also prepared 200 units of heavy equipment in Phnom Penh and the provinces of Takeo, Svay Rieng, Oddar Meanchey and Battambang to divert water or mitigate overflows from inundated homes and farmland\"\n",
    "print(cleanup(article))\n",
    "reports = process_article_new(article)\n",
    "for report in reports:\n",
    "    report.display()"
   ]
  },
  {
   "cell_type": "code",
   "execution_count": 24,
   "metadata": {
    "collapsed": false
   },
   "outputs": [
    {
     "name": "stdout",
     "output_type": "stream",
     "text": [
      "Vehicles pass through a submerged bridge in Larkipora area in Anantnag in the Kashmir Valley (Press Trust of India photo)  Srinagar: At least 10 people were buried by mudslides and hundreds of people left their homes in Kashmir after heavy rain over the weekend raised fears of floods in the valley.\n"
     ]
    }
   ],
   "source": [
    "article = 'Vehicles pass through a submerged bridge in Larkipora area in Anantnag in the Kashmir Valley (Press Trust of India photo)  Srinagar: At least 10 people were buried by mudslides and hundreds of people left their homes in Kashmir after heavy rain over the weekend raised fears of floods in the valley.'\n",
    "print(cleanup(article))\n",
    "reports = process_article_new(article)\n",
    "for report in reports:\n",
    "    report.display()"
   ]
  },
  {
   "cell_type": "code",
   "execution_count": 25,
   "metadata": {
    "collapsed": false
   },
   "outputs": [
    {
     "name": "stdout",
     "output_type": "stream",
     "text": [
      "pass pass [] [Vehicles, through, )]\n",
      "submerged submerge [] []\n",
      "buried bury [] [Srinagar, :, people, were, by, left, .]\n",
      "left leave [homes] [homes, in, raised]\n",
      "raised raise [fears] [after, rain, fears, in]\n"
     ]
    }
   ],
   "source": [
    "doc = nlp(article)\n",
    "verbs = textacy.spacy_utils.get_main_verbs_of_sent(doc)\n",
    "for v in verbs:\n",
    "    print(v, v.lemma_, textacy.spacy_utils.get_objects_of_verb(v), list(v.children))"
   ]
  },
  {
   "cell_type": "code",
   "execution_count": 26,
   "metadata": {
    "collapsed": false
   },
   "outputs": [
    {
     "name": "stdout",
     "output_type": "stream",
     "text": [
      "Verified  Blang Pidie and Labuhan Haji  Description  Due to continuous heavy rainfall flooding has occurred in 8 districts in Aceh Province (i.e. Aceh Besar, Aceh Jaya, Nagan Raya, West Aceh, Banda Aceh, South Aceh, Abdya and Aceh Singkil)Based on data on 3rd November, the following subdistricts in Aceh Barat is affected:Johan Pahlawan, Kawe, Meureubo, Samatiga, Woyla, Woyla Barat, Woyla Timur and Bubon. IMPACT- 47,524 families or 174,711 affected.- 1,206 families or 4,438 people were displaced.additional 11,966 families or 46,142 people displaced (based on latest 3 Nov 2014 report)- 13,505 houses inundated.- Landslide in Paro Mountain area has disrupted the access from Banda Aceh - Meulaboh (national road).RESPONSE- Local disaster management authorities (BPBA Aceh) responded to the situation and continue the evacuation- The Governor of Aceh declared Provincial Calamity.- National Disaster Management Agency (BNPB) provided 98,000 USD in amount of logistic supplies for the victims.- Indonesian Red Cross Society (PMI) mobilized personnel to conduct assessment and evacuation under the coordination of BPBA(Contributor: Ayu Setiadewi, BNPB)\n"
     ]
    }
   ],
   "source": [
    "article = 'Verified  Blang Pidie and Labuhan Haji  Description  Due to continuous heavy rainfall flooding has occurred in 8 districts in Aceh Province (i.e. Aceh Besar, Aceh Jaya, Nagan Raya, West Aceh, Banda Aceh, South Aceh, Abdya and Aceh Singkil)Based on data on 3rd November, the following subdistricts in Aceh Barat is affected:Johan Pahlawan, Kawe, Meureubo, Samatiga, Woyla, Woyla Barat, Woyla Timur and BubonIMPACT- 47,524 families or 174,711 affected.- 1,206 families or 4,438 people were displaced.additional 11,966 families or 46,142 people displaced (based on latest 3 Nov 2014 report)- 13,505 houses inundated.- Landslide in Paro Mountain area has disrupted the access from Banda Aceh - Meulaboh (national road).RESPONSE- Local disaster management authorities (BPBA Aceh) responded to the situation and continue the evacuation- The Governor of Aceh declared Provincial Calamity.- National Disaster Management Agency (BNPB) provided 98,000 USD in amount of logistic supplies for the victims.- Indonesian Red Cross Society (PMI) mobilized personnel to conduct assessment and evacuation under the coordination of BPBA(Contributor: Ayu Setiadewi, BNPB)'\n",
    "print(cleanup(article))\n",
    "reports = process_article_new(article)\n",
    "for report in reports:\n",
    "    report.display()"
   ]
  },
  {
   "cell_type": "code",
   "execution_count": 27,
   "metadata": {
    "collapsed": false
   },
   "outputs": [
    {
     "data": {
      "text/plain": [
       "'Verified  Ciamis, Pangandaran and Cianjur.  Description  High rainfall intensity has caused flooding in several districts of West Java Province. From the period 22 – 24 December 2014, BNPB reported flood happened in Ciamis, Pangandaran and Cianjur.IMPACT:- In Ciamis, 375 families / 1,116 people were affected and 374 houses and 700 ha of crops were inundated.- In Pangandaras, 69 families were affected and 41 ha of crops were submerged.- In Cianjur, 79 families / 303 people were affected.RESPONSE:- BPBD of each district has evacuated the victims and provided relief items.'"
      ]
     },
     "execution_count": 27,
     "metadata": {},
     "output_type": "execute_result"
    }
   ],
   "source": [
    "'Verified  Ciamis, Pangandaran and Cianjur.  Description  High rainfall intensity has caused flooding in several districts of West Java Province. From the period 22 – 24 December 2014, BNPB reported flood happened in Ciamis, Pangandaran and Cianjur.IMPACT:- In Ciamis, 375 families / 1,116 people were affected and 374 houses and 700 ha of crops were inundated.- In Pangandaras, 69 families were affected and 41 ha of crops were submerged.- In Cianjur, 79 families / 303 people were affected.RESPONSE:- BPBD of each district has evacuated the victims and provided relief items.'"
   ]
  },
  {
   "cell_type": "code",
   "execution_count": 28,
   "metadata": {
    "collapsed": false
   },
   "outputs": [
    {
     "data": {
      "text/plain": [
       "'Verified  karo, North Sumatera  Description  Mt. Sinabung errupted again and emits pyroclastic clouds causing several casualtiesThe affected area includes all villages in the radius of 3 km from the volcanoThe casualties includes:16 death1 injured31,739 people evacuatedBased on research and development agency of Indonesian Ministry of Agriculture the impact of this incident to agriculture:50,921 ha amounted to 1.3 - 1.5 trillion IDR or 114 - 130 millions USDSearch and Rescue team will continue to look for more victims'"
      ]
     },
     "execution_count": 28,
     "metadata": {},
     "output_type": "execute_result"
    }
   ],
   "source": [
    "'Verified  karo, North Sumatera  Description  Mt. Sinabung errupted again and emits pyroclastic clouds causing several casualtiesThe affected area includes all villages in the radius of 3 km from the volcanoThe casualties includes:16 death1 injured31,739 people evacuatedBased on research and development agency of Indonesian Ministry of Agriculture the impact of this incident to agriculture:50,921 ha amounted to 1.3 - 1.5 trillion IDR or 114 - 130 millions USDSearch and Rescue team will continue to look for more victims'"
   ]
  },
  {
   "cell_type": "code",
   "execution_count": 29,
   "metadata": {
    "collapsed": false
   },
   "outputs": [
    {
     "data": {
      "text/plain": [
       "'Verified  East Java  Description  Five municipalities in Sidoarjo, East Java Province have been flooded. It was triggered by the heavy rain.IMPACT- 1,000 houses were submergedRESPONSE- BPBD set up post command and provided assistance.- 2,450 ready-to-eat meal and 1,250 food packages have been distributed to the victims.'"
      ]
     },
     "execution_count": 29,
     "metadata": {},
     "output_type": "execute_result"
    }
   ],
   "source": [
    "'Verified  East Java  Description  Five municipalities in Sidoarjo, East Java Province have been flooded. It was triggered by the heavy rain.IMPACT- 1,000 houses were submergedRESPONSE- BPBD set up post command and provided assistance.- 2,450 ready-to-eat meal and 1,250 food packages have been distributed to the victims.'"
   ]
  },
  {
   "cell_type": "code",
   "execution_count": 30,
   "metadata": {
    "collapsed": false
   },
   "outputs": [
    {
     "data": {
      "text/plain": [
       "'Verified  Banjar, Hulu Sungai  Description  The overflow of Barito River has created flooding in many villages in Banjar and Hulu Sungai District, Province of South Kalimantan.IMPACT:- 13,941 people were affected and 3949 houses were submerged in Banjar.- In Hulu Sungai,about 3,000 houses and 525 ha of agriculture area were inundated.RESPONSE:- Relief items and logistic supplies have been distributed by local government.'"
      ]
     },
     "execution_count": 30,
     "metadata": {},
     "output_type": "execute_result"
    }
   ],
   "source": [
    "'Verified  Banjar, Hulu Sungai  Description  The overflow of Barito River has created flooding in many villages in Banjar and Hulu Sungai District, Province of South Kalimantan.IMPACT:- 13,941 people were affected and 3949 houses were submerged in Banjar.- In Hulu Sungai,about 3,000 houses and 525 ha of agriculture area were inundated.RESPONSE:- Relief items and logistic supplies have been distributed by local government.'"
   ]
  },
  {
   "cell_type": "code",
   "execution_count": 31,
   "metadata": {
    "collapsed": false
   },
   "outputs": [
    {
     "data": {
      "text/plain": [
       "'Verified  Pamekasan, Pasuruan  Description  Many villages in Pamekasan and Pasuruan district, East Java Province were flooded due to the torrential rain. Hundreds of families were reportedly affected by the flooding.IMPACTPamekasan district- 906 houses submergedPasuruan district- 1,777 families were affected- 2 schools and 51 ha of agriculture were inundated.RESPONSE- The local authority set up command post and evacuation center for the victims as well as distributed relief supplies.'"
      ]
     },
     "execution_count": 31,
     "metadata": {},
     "output_type": "execute_result"
    }
   ],
   "source": [
    "'Verified  Pamekasan, Pasuruan  Description  Many villages in Pamekasan and Pasuruan district, East Java Province were flooded due to the torrential rain. Hundreds of families were reportedly affected by the flooding.IMPACTPamekasan district- 906 houses submergedPasuruan district- 1,777 families were affected- 2 schools and 51 ha of agriculture were inundated.RESPONSE- The local authority set up command post and evacuation center for the victims as well as distributed relief supplies.'"
   ]
  },
  {
   "cell_type": "code",
   "execution_count": 32,
   "metadata": {
    "collapsed": false
   },
   "outputs": [
    {
     "data": {
      "text/plain": [
       "'Verified  Musi Rawas Utara, Ogan Hilir  Description  Continuous rain has generated flood which affected many municipalities in Ogan Hilir and Musi Rawas Utara district, Province of South Sumatra.IMPACT- 350 houses submergedRESPONSE- BPBD provided medical services and distributed logistic supplies.'"
      ]
     },
     "execution_count": 32,
     "metadata": {},
     "output_type": "execute_result"
    }
   ],
   "source": [
    "'Verified  Musi Rawas Utara, Ogan Hilir  Description  Continuous rain has generated flood which affected many municipalities in Ogan Hilir and Musi Rawas Utara district, Province of South Sumatra.IMPACT- 350 houses submergedRESPONSE- BPBD provided medical services and distributed logistic supplies.'"
   ]
  },
  {
   "cell_type": "code",
   "execution_count": 33,
   "metadata": {
    "collapsed": false
   },
   "outputs": [
    {
     "data": {
      "text/plain": [
       "'Verified  Banten  Description  Due to heavy rainfall the city of tangerang and Serang district in Banten experience flooding.This incident cause the following casualties- 2000 evacuated- estimated 3540 people affectedLocal disaster management agency and related stakeholder provided the emergency relief'"
      ]
     },
     "execution_count": 33,
     "metadata": {},
     "output_type": "execute_result"
    }
   ],
   "source": [
    "'Verified  Banten  Description  Due to heavy rainfall the city of tangerang and Serang district in Banten experience flooding.This incident cause the following casualties- 2000 evacuated- estimated 3540 people affectedLocal disaster management agency and related stakeholder provided the emergency relief'"
   ]
  },
  {
   "cell_type": "code",
   "execution_count": 34,
   "metadata": {
    "collapsed": false
   },
   "outputs": [
    {
     "data": {
      "text/plain": [
       "'Verified  Garut  Description  Torrential rain has caused Cibarengkok River in Garut to overflow. Consequently, water inundated 10 villages in Banjarwangi and Cikajang sub-district, Garut, Province of West Java.IMPACT- over 2,167 people were affected- 458 houses were damaged- 280 houses were submergedRESPONSE- Evacuation have been conducted by the local government- Relief items have been distributed to the affected communities'"
      ]
     },
     "execution_count": 34,
     "metadata": {},
     "output_type": "execute_result"
    }
   ],
   "source": [
    "'Verified  Garut  Description  Torrential rain has caused Cibarengkok River in Garut to overflow. Consequently, water inundated 10 villages in Banjarwangi and Cikajang sub-district, Garut, Province of West Java.IMPACT- over 2,167 people were affected- 458 houses were damaged- 280 houses were submergedRESPONSE- Evacuation have been conducted by the local government- Relief items have been distributed to the affected communities'"
   ]
  },
  {
   "cell_type": "code",
   "execution_count": 35,
   "metadata": {
    "collapsed": false
   },
   "outputs": [
    {
     "data": {
      "text/plain": [
       "'Verified  Rote Ndao, Malaka  Description  Flood submerged hundreds of houses in Rote Ndao and Malaka District, East Nusa Tenggara Province. The incident was triggered by heavy rain that caused Baa and Benanain River to overflow.IMPACT- In Rote Ndao, the flood has caused 1 death and submerged 185 houses.- In Malaka, 870 houses were inundated.RESPONSE- Evacuation and relief supply distribution have been conducted by the local government to respond the situation.'"
      ]
     },
     "execution_count": 35,
     "metadata": {},
     "output_type": "execute_result"
    }
   ],
   "source": [
    "'Verified  Rote Ndao, Malaka  Description  Flood submerged hundreds of houses in Rote Ndao and Malaka District, East Nusa Tenggara Province. The incident was triggered by heavy rain that caused Baa and Benanain River to overflow.IMPACT- In Rote Ndao, the flood has caused 1 death and submerged 185 houses.- In Malaka, 870 houses were inundated.RESPONSE- Evacuation and relief supply distribution have been conducted by the local government to respond the situation.'"
   ]
  },
  {
   "cell_type": "code",
   "execution_count": 36,
   "metadata": {
    "collapsed": false
   },
   "outputs": [
    {
     "data": {
      "text/plain": [
       "'Unverified  Kutai Kartanegara  Description  Heavy rain has caused flooding and landslide in Kutai Kartanegara, East Kalimantan Province.IMPACT- 165 families were affected- 165 houses were submerged- road damaged due to landslideRESPONSE- BPBD provided assistance for the victims.'"
      ]
     },
     "execution_count": 36,
     "metadata": {},
     "output_type": "execute_result"
    }
   ],
   "source": [
    "'Unverified  Kutai Kartanegara  Description  Heavy rain has caused flooding and landslide in Kutai Kartanegara, East Kalimantan Province.IMPACT- 165 families were affected- 165 houses were submerged- road damaged due to landslideRESPONSE- BPBD provided assistance for the victims.'"
   ]
  },
  {
   "cell_type": "code",
   "execution_count": 37,
   "metadata": {
    "collapsed": false
   },
   "outputs": [
    {
     "data": {
      "text/plain": [
       "'Verified  Bogor  Description  Torrential rain has caused flood and landslide in North Bogor and Sukaraja sub-district in Bogor, Province of West Java.IMPACT- 2 death due to landslide- 113 houses were submergedRESPONSE- Disaster Management Agency of Bogor with the other agencies responded the situation by providing assistance.'"
      ]
     },
     "execution_count": 37,
     "metadata": {},
     "output_type": "execute_result"
    }
   ],
   "source": [
    "'Verified  Bogor  Description  Torrential rain has caused flood and landslide in North Bogor and Sukaraja sub-district in Bogor, Province of West Java.IMPACT- 2 death due to landslide- 113 houses were submergedRESPONSE- Disaster Management Agency of Bogor with the other agencies responded the situation by providing assistance.'"
   ]
  },
  {
   "cell_type": "code",
   "execution_count": 38,
   "metadata": {
    "collapsed": false
   },
   "outputs": [
    {
     "data": {
      "text/plain": [
       "'Verified  Garut  Description  The overflow of Cimanuk River due to the heavy rain has submerged four subdistricts in Garut, West Java. The affected subdistrict are Tarogong Kidul, Cisurupan, Cikajang and Cikeduk. Consequently, 161 families have been impacted.The detail impact numbers as follows:- 161 families were affected- 162 houses and 1 mosque were submergedBPBD Garut mobilised rescue team and evacuation equipment, such as rubber boat and drainage pump. Logistic supplies were also distributed to the the affected community.'"
      ]
     },
     "execution_count": 38,
     "metadata": {},
     "output_type": "execute_result"
    }
   ],
   "source": [
    "'Verified  Garut  Description  The overflow of Cimanuk River due to the heavy rain has submerged four subdistricts in Garut, West Java. The affected subdistrict are Tarogong Kidul, Cisurupan, Cikajang and Cikeduk. Consequently, 161 families have been impacted.The detail impact numbers as follows:- 161 families were affected- 162 houses and 1 mosque were submergedBPBD Garut mobilised rescue team and evacuation equipment, such as rubber boat and drainage pump. Logistic supplies were also distributed to the the affected community.'"
   ]
  },
  {
   "cell_type": "code",
   "execution_count": 39,
   "metadata": {
    "collapsed": false
   },
   "outputs": [
    {
     "data": {
      "text/plain": [
       "'Verified  Bone  Description  Flood affected Bone district in South Sulawesi which caused by the overflow of Awu river.IMPACT- 51 houses were submergedRESPONSE- Evacuation and relief operation have been conducted by the BPBD.'"
      ]
     },
     "execution_count": 39,
     "metadata": {},
     "output_type": "execute_result"
    }
   ],
   "source": [
    "'Verified  Bone  Description  Flood affected Bone district in South Sulawesi which caused by the overflow of Awu river.IMPACT- 51 houses were submergedRESPONSE- Evacuation and relief operation have been conducted by the BPBD.'"
   ]
  },
  {
   "cell_type": "code",
   "execution_count": 40,
   "metadata": {
    "collapsed": false
   },
   "outputs": [
    {
     "data": {
      "text/plain": [
       "'Verified  Pasaman, Padang City  Description  Flashflood happened in Pasaman District and Padang City, West Sumatra Provinci.IMPACT- 1 death- 70 families in Pasaman and 41 families in Padang (216 people) were evacuated- 30 houses and 1 mosque were damagedRESPONSE- Evacuation centre and command post have been set up by BPBD to assist the victims'"
      ]
     },
     "execution_count": 40,
     "metadata": {},
     "output_type": "execute_result"
    }
   ],
   "source": [
    "'Verified  Pasaman, Padang City  Description  Flashflood happened in Pasaman District and Padang City, West Sumatra Provinci.IMPACT- 1 death- 70 families in Pasaman and 41 families in Padang (216 people) were evacuated- 30 houses and 1 mosque were damagedRESPONSE- Evacuation centre and command post have been set up by BPBD to assist the victims'"
   ]
  },
  {
   "cell_type": "code",
   "execution_count": 41,
   "metadata": {
    "collapsed": false
   },
   "outputs": [
    {
     "data": {
      "text/plain": [
       "'Verified  Bengkulu  Description  Due to heavy rainfall, flood was occurred in several subdistricts in Seluma, Bengkulu. The affected subdistricts includes:Seluma Selatan and Air PeriukanIMPACTS42 families evacuated40 houses inundated15 boats damaged40 ha rice field inundatedRESPONSElocal government stakeholders provided emergency response and reliefhttp://adinet.ahacentre.org/reports/view/739'"
      ]
     },
     "execution_count": 41,
     "metadata": {},
     "output_type": "execute_result"
    }
   ],
   "source": [
    "'Verified  Bengkulu  Description  Due to heavy rainfall, flood was occurred in several subdistricts in Seluma, Bengkulu. The affected subdistricts includes:Seluma Selatan and Air PeriukanIMPACTS42 families evacuated40 houses inundated15 boats damaged40 ha rice field inundatedRESPONSElocal government stakeholders provided emergency response and reliefhttp://adinet.ahacentre.org/reports/view/739'"
   ]
  },
  {
   "cell_type": "code",
   "execution_count": 42,
   "metadata": {
    "collapsed": false
   },
   "outputs": [
    {
     "data": {
      "text/plain": [
       "'Verified  Bandung  Description  Torrential rain has triggered landslide incidentin Cipatat, West Bandung district, Province of West Java. The reported impacts are 35 houses and 125 people displaced due to the incident. The local authority distributed relief items to the victim and cleaned out the area.'"
      ]
     },
     "execution_count": 42,
     "metadata": {},
     "output_type": "execute_result"
    }
   ],
   "source": [
    "'Verified  Bandung  Description  Torrential rain has triggered landslide incidentin Cipatat, West Bandung district, Province of West Java. The reported impacts are 35 houses and 125 people displaced due to the incident. The local authority distributed relief items to the victim and cleaned out the area.'"
   ]
  },
  {
   "cell_type": "code",
   "execution_count": 43,
   "metadata": {
    "collapsed": false
   },
   "outputs": [
    {
     "data": {
      "text/plain": [
       "'Verified  Sukabumi  Description  Due to heavy rainfall two sub-districts in Sukabumi experienced flooding. The affected area includes cicurug and cibadak sub-districtsIMPACT1 injured23 houses inundated3 houses collapsedRESPONSESLocal disaster management agency along with related stakeholders provided the relief items and temporary evacuation'"
      ]
     },
     "execution_count": 43,
     "metadata": {},
     "output_type": "execute_result"
    }
   ],
   "source": [
    "'Verified  Sukabumi  Description  Due to heavy rainfall two sub-districts in Sukabumi experienced flooding. The affected area includes cicurug and cibadak sub-districtsIMPACT1 injured23 houses inundated3 houses collapsedRESPONSESLocal disaster management agency along with related stakeholders provided the relief items and temporary evacuation'"
   ]
  },
  {
   "cell_type": "code",
   "execution_count": 44,
   "metadata": {
    "collapsed": false
   },
   "outputs": [
    {
     "data": {
      "text/plain": [
       "'Verified  West Java  Description  Landslide triggered by heavy rain occurred in Tasikmalaya district, West Java Province.IMPACT- 26 houses were damaged- 28 families or 96 people were evacuatedRESPONSE- BPBD is still conducting damage assessment'"
      ]
     },
     "execution_count": 44,
     "metadata": {},
     "output_type": "execute_result"
    }
   ],
   "source": [
    "'Verified  West Java  Description  Landslide triggered by heavy rain occurred in Tasikmalaya district, West Java Province.IMPACT- 26 houses were damaged- 28 families or 96 people were evacuatedRESPONSE- BPBD is still conducting damage assessment'"
   ]
  },
  {
   "cell_type": "code",
   "execution_count": null,
   "metadata": {
    "collapsed": true
   },
   "outputs": [],
   "source": []
  }
 ],
 "metadata": {
  "kernelspec": {
   "display_name": "Python 3",
   "language": "python",
   "name": "python3"
  },
  "language_info": {
   "codemirror_mode": {
    "name": "ipython",
    "version": 3
   },
   "file_extension": ".py",
   "mimetype": "text/x-python",
   "name": "python",
   "nbconvert_exporter": "python",
   "pygments_lexer": "ipython3",
   "version": "3.5.1"
  }
 },
 "nbformat": 4,
 "nbformat_minor": 0
}
