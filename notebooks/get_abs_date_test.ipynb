{
 "cells": [
  {
   "cell_type": "code",
   "execution_count": null,
   "metadata": {
    "collapsed": false,
    "deletable": true,
    "editable": true
   },
   "outputs": [],
   "source": [
    "import datetime\n",
    "import parsedatetime\n",
    "from functools import reduce"
   ]
  },
  {
   "cell_type": "code",
   "execution_count": null,
   "metadata": {
    "collapsed": true,
    "deletable": true,
    "editable": true
   },
   "outputs": [],
   "source": [
    "def get_absolute_date(relative_date_string, publication_date=None):\n",
    "    \"\"\"\n",
    "    Turn relative dates into absolute datetimes.\n",
    "    Currently uses API of parsedatetime\n",
    "    https://bear.im/code/parsedatetime/docs/index.html\n",
    "\n",
    "    Parameters:\n",
    "    -----------\n",
    "    relative_date_string        the relative date in an article (e.g. 'Last week'): String\n",
    "    publication_date            the publication_date of the article: datetime\n",
    "    \n",
    "    Returns:\n",
    "    --------\n",
    "    One of: \n",
    "        - a datetime that represents the absolute date of the relative date based on \n",
    "            the publication_date\n",
    "        - None, if parse is not successful\n",
    "    \"\"\"\n",
    "\n",
    "    cal = parsedatetime.Calendar()\n",
    "    parsed_result = cal.nlp(relative_date_string, publication_date)\n",
    "    if parsed_result is not None:\n",
    "        # Parse is successful\n",
    "        parsed_absolute_date = parsed_result[0][0]\n",
    "\n",
    "        # Assumption: input date string is in the past\n",
    "        # If parsed date is in the future (relative to publication_date), \n",
    "        #   we roll it back to the past\n",
    "        \n",
    "        if publication_date and parsed_absolute_date > publication_date:\n",
    "            # parsedatetime returns a date in the future\n",
    "            # likely because year isn't specified or date_string is relative\n",
    "            \n",
    "            # Check a specific date is included\n",
    "            # TODO: Smarter way or regex to check if relative_date_string \n",
    "            #       contains a month name?\n",
    "            months = ['jan', 'feb', 'mar', 'apr', 'may', 'jun', \n",
    "                      'jul', 'aug', 'sep', 'oct', 'nov', 'dec']\n",
    "            contains_month = reduce( \n",
    "                    lambda result, month: result or relative_date_string.lower().find(month) != -1, \n",
    "                    months, False)\n",
    "            \n",
    "            if contains_month:\n",
    "                # TODO: Is it enough to just check for month names to determine if a \n",
    "                #       date_string specifies a particular date?\n",
    "\n",
    "                # If date is specified explicity, and year is not\n",
    "                # roll back 1 year\n",
    "                return datetime.datetime(parsed_absolute_date.year-1, \n",
    "                        parsed_absolute_date.month, parsed_absolute_date.day)\n",
    "            else:\n",
    "                # Use the relative datetime delta and roll back\n",
    "                delta = parsed_absolute_date - publication_date\n",
    "                num_weeks = int(delta.days/7)\n",
    "                and_num_days_after = 7 if delta.days%7 == 0 else delta.days%7\n",
    "                return publication_date - datetime.timedelta(weeks=num_weeks) - \\\n",
    "                        datetime.timedelta(7-and_num_days_after)\n",
    "        else:\n",
    "            # Return if date is in the past already or no publication_date is provided\n",
    "            return parsed_absolute_date\n",
    "    else:\n",
    "        # Parse unsucessful\n",
    "        return None"
   ]
  },
  {
   "cell_type": "markdown",
   "metadata": {
    "deletable": true,
    "editable": true
   },
   "source": [
    "## Year is not specified"
   ]
  },
  {
   "cell_type": "code",
   "execution_count": null,
   "metadata": {
    "collapsed": false,
    "deletable": true,
    "editable": true
   },
   "outputs": [],
   "source": [
    " publication_date = datetime.datetime(2016, 10, 30, 18, 0)"
   ]
  },
  {
   "cell_type": "code",
   "execution_count": null,
   "metadata": {
    "collapsed": false,
    "deletable": true,
    "editable": true
   },
   "outputs": [],
   "source": [
    "# Before publication_date\n",
    "get_absolute_date('28th December', publication_date)"
   ]
  },
  {
   "cell_type": "code",
   "execution_count": null,
   "metadata": {
    "collapsed": false,
    "deletable": true,
    "editable": true
   },
   "outputs": [],
   "source": [
    "# After publication date\n",
    "get_absolute_date('26th October', publication_date)"
   ]
  },
  {
   "cell_type": "code",
   "execution_count": null,
   "metadata": {
    "collapsed": false,
    "deletable": true,
    "editable": true
   },
   "outputs": [],
   "source": [
    "get_absolute_date('1 January', publication_date)"
   ]
  },
  {
   "cell_type": "markdown",
   "metadata": {
    "deletable": true,
    "editable": true
   },
   "source": [
    "## Relative date string"
   ]
  },
  {
   "cell_type": "code",
   "execution_count": null,
   "metadata": {
    "collapsed": false,
    "deletable": true,
    "editable": true
   },
   "outputs": [],
   "source": [
    "get_absolute_date('2 weeks ago', publication_date)"
   ]
  },
  {
   "cell_type": "code",
   "execution_count": null,
   "metadata": {
    "collapsed": false,
    "deletable": true,
    "editable": true
   },
   "outputs": [],
   "source": [
    "get_absolute_date('3:30pm', publication_date)"
   ]
  },
  {
   "cell_type": "markdown",
   "metadata": {
    "deletable": true,
    "editable": true
   },
   "source": [
    "## Year is specified"
   ]
  },
  {
   "cell_type": "code",
   "execution_count": null,
   "metadata": {
    "collapsed": false,
    "deletable": true,
    "editable": true
   },
   "outputs": [],
   "source": [
    "get_absolute_date('March 3 2014', publication_date)"
   ]
  },
  {
   "cell_type": "markdown",
   "metadata": {
    "deletable": true,
    "editable": true
   },
   "source": [
    "This is considered **invalid** for now. Since we are assuming articles only contain dates in the past. (for future enhancement)"
   ]
  },
  {
   "cell_type": "code",
   "execution_count": null,
   "metadata": {
    "collapsed": false,
    "deletable": true,
    "editable": true
   },
   "outputs": [],
   "source": [
    "get_absolute_date('March 3 2018', publication_date)"
   ]
  },
  {
   "cell_type": "code",
   "execution_count": null,
   "metadata": {
    "collapsed": true,
    "deletable": true,
    "editable": true
   },
   "outputs": [],
   "source": []
  }
 ],
 "metadata": {
  "kernelspec": {
   "display_name": "Python 3",
   "language": "python",
   "name": "python3"
  },
  "language_info": {
   "codemirror_mode": {
    "name": "ipython",
    "version": 3
   },
   "file_extension": ".py",
   "mimetype": "text/x-python",
   "name": "python",
   "nbconvert_exporter": "python",
   "pygments_lexer": "ipython3",
   "version": "3.4.4"
  }
 },
 "nbformat": 4,
 "nbformat_minor": 2
}
