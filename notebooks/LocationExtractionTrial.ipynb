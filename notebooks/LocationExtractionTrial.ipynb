{
 "cells": [
  {
   "cell_type": "code",
   "execution_count": 1,
   "metadata": {
    "collapsed": false
   },
   "outputs": [],
   "source": [
    "import pandas as pd\n",
    "import spacy\n",
    "import os\n",
    "import sys\n",
    "module_path = os.path.abspath(os.path.join('..'))\n",
    "if module_path not in sys.path:\n",
    "    sys.path.append(module_path)\n",
    "from internal_displacement.pipeline import SQLArticleInterface\n",
    "# from nltk import StanfordNERTagger\n",
    "# from nltk.tokenize import word_tokenize\n",
    "\n",
    "# st_ner = StanfordNERTagger(\"/home/james/stanford-ner-2016-10-31/classifiers/english.all.3class.distsim.crf.ser.gz\",\n",
    "#                           \"/home/james/stanford-ner-2016-10-31/stanford-ner.jar\",\n",
    "#                           encoding=\"utf-8\")"
   ]
  },
  {
   "cell_type": "markdown",
   "metadata": {},
   "source": [
    "**Manually created some reports to compare with extracted data**\n",
    "\n",
    "**Extracting locations, reporting terms, reporting units, and quantities from raw text: **\n",
    "\n",
    "- Use spacy to detect tokens referring to location.\n",
    "\n",
    "- Tokens tagged with location are used as the location name. \n",
    "\n",
    "- If multiple tokens are tagged with a location, the token closest to the reporting term is used. If a location is not detected in the reporting term sentence, the previous sentence (if there is one) is examined for a location token. The parse tree is constructed for the preceding sentence, and the location closest to the sentence root is extracted.\n",
    "\n",
    "\n",
    "**Issues/possible solutions**: \n",
    "    \n",
    "- Situations where two locations are referred to in equal standing (eg \"At least 24 people also died in two other eastern border provinces, Khost and Nangarhar, according to local officials. More than fifty homes and shops were destroyed and thousands of acres of farmland flooded\") will result in only the first being extracted. \n",
    "    If multiple tokens are at the same distance from the root or reporting term, and this distance is the minimal distance between location and root/reporting term tokens, could try using all of them\n",
    "\n",
    "- Should have structured reports on a per article basis, to make it easier to read and interpret them.\n",
    "\n",
    "\n"
   ]
  },
  {
   "cell_type": "markdown",
   "metadata": {},
   "source": [
    "**Extracted Data will require a suitable data structure**"
   ]
  },
  {
   "cell_type": "code",
   "execution_count": 41,
   "metadata": {
    "collapsed": true
   },
   "outputs": [],
   "source": [
    "class Report:\n",
    "    def __init__(self,place,date_time,event_term,subject_term,quantity,story):\n",
    "        self.place = place\n",
    "        self.date_time = date_time\n",
    "        self.event_term = [t.lemma_ for t in nlp(event_term)][0]\n",
    "        self.subject_term = subject_term\n",
    "        self.quantity = quantity\n",
    "        self.story = story\n",
    "    def show_story_tree(self):\n",
    "        self.display()\n",
    "        for sentence in nlp(self.story).sents:\n",
    "            for token in sentence:\n",
    "                if token.lemma_ == self.event_term:\n",
    "                    return to_nltk_tree(sentence.root)\n",
    "    def display(self):\n",
    "        print(\"Place: {}  DateTime: {}  EventTerm: {}  SubjectTerm:  {}  Quantity: {}\"\n",
    "              .format(self.place,self.date_time,self.event_term,self.subject_term,self.quantity))"
   ]
  },
  {
   "cell_type": "markdown",
   "metadata": {},
   "source": [
    "**Developing the information extraction system will require training data for the evaluation of accuracy. Reports can be manually created.**"
   ]
  },
  {
   "cell_type": "code",
   "execution_count": 3,
   "metadata": {
    "collapsed": false
   },
   "outputs": [],
   "source": [
    "pipeline = SQLArticleInterface(\"../sql_db.sqlite\") #Connecting to pre-populated database."
   ]
  },
  {
   "cell_type": "code",
   "execution_count": 4,
   "metadata": {
    "collapsed": true
   },
   "outputs": [],
   "source": [
    "from nltk import Tree\n",
    "def to_nltk_tree(node):\n",
    "    if node.n_lefts + node.n_rights > 0:\n",
    "        return Tree(node.orth_, [to_nltk_tree(child) for child in node.children])\n",
    "    else:\n",
    "        return node.orth_\n",
    "nlp = spacy.load('en')"
   ]
  },
  {
   "cell_type": "code",
   "execution_count": 5,
   "metadata": {
    "collapsed": true
   },
   "outputs": [],
   "source": [
    "ground_truth_reports = []"
   ]
  },
  {
   "cell_type": "code",
   "execution_count": 6,
   "metadata": {
    "collapsed": true
   },
   "outputs": [],
   "source": [
    "labels,features = pipeline.get_training_data()"
   ]
  },
  {
   "cell_type": "code",
   "execution_count": 7,
   "metadata": {
    "collapsed": false
   },
   "outputs": [
    {
     "data": {
      "text/plain": [
       "\"Flash flooding across Afghanistan and Pakistan has left more than 160 dead and dozens stranded in one of South Asia's worst natural disasters this year, say officials.  The flooding, caused by unusually heavy rain, has left villagers stuck in remote areas without shelter, food or power.  Mountainous Afghanistan was the worst hit, with 61 people killed and approximately 500 traditional mud-brick homes washed away in more than a dozen villages in Sarobi, a rural district less than an hour from Kabul, officials said.  Floods left a village devastated in the remote eastern Afghan province of Nuristan. At least 60 homes were destroyed across three districts, said provincial spokesman Mohammad Yusufi. No one was killed.  Authorities have been unable to deliver aid to some badly affected villages by land as roads in the area are controlled by the Taliban, Yusufi added.  “We have asked the national government for help as have an overwhelming number of locals asking for assistance, but this is a Taliban-ridden area,” Yusufi said.  At least 24 people were also died in two other eastern border provinces, Khost and Nangarhar, according to local officials. More than fifty homes and shops were destroyed and thousands of acres of farmland flooded.  In Pakistan monsoon rains claimed more than 80 lives, local media reported. Houses collapsing, drowning and electrocution all pushed up the death toll, said Sindh Information Minister Sharjeel Inam Memon.  In Karachi, the commercial capital and a southern port city that is home to 18 million people, poor neighborhoods were submerged waist-deep in water and many precincts suffered long power outages. Deaths were also reported in the north and west of the country.  Additional reporting by Reuters\""
      ]
     },
     "execution_count": 7,
     "metadata": {},
     "output_type": "execute_result"
    }
   ],
   "source": [
    "features[0]"
   ]
  },
  {
   "cell_type": "code",
   "execution_count": 8,
   "metadata": {
    "collapsed": false
   },
   "outputs": [],
   "source": [
    "reports = [\n",
    "    Report(\"Sarobi\",\"\",\"washed away\",\"home\",500,features[0]),\n",
    "    Report(\"Nuristan\",\"\",\"devastated\",\"village\",\"a\",features[0]),\n",
    "    Report(\"Nuristan\",\"\",\"destroyed\",\"home\",60,features[0]),\n",
    "    Report(\"Khost and Nangarhar\",\"\",\"destroyed\",\"home\",\"fifty\",features[0]),\n",
    "    Report(\"Pakistan\",\"\",\"house\",\"collapsed\",\"\",features[0])\n",
    "    ]\n",
    "ground_truth_reports.extend(reports)"
   ]
  },
  {
   "cell_type": "code",
   "execution_count": 9,
   "metadata": {
    "collapsed": false
   },
   "outputs": [
    {
     "data": {
      "text/plain": [
       "'Afghanistan state news agency, Bakhtar News Agency (BNA) report that at least 7 people have been killed in flash floods in Faryab Province in the north of the country. Flash floods in Baghlan Province have killed 1 person and injured around 10 others.  Flash floods struck on 08 May 2015 in Faryab Province after a period of heavy rainfall. The districts of Garyzan, Pashtunkot and Belcheragh were worst affected. BNA report that at least 7 people were killed and over 1,500 homes damaged. The Faizabada-Takhar highway have been closed to traffic and wide areas of crops and orchards have suffered damaged.  Kuwaiti News Agency (KUNA) also report that flooding struck in the Baghlan-i-Markazi district of Baghlan province, where 1 person was killed and several injured early on Saturday 09 May 2015.  “There was heavy rain in Baghlan-e-Markazi district Friday evening and the people left their houses to safer areas. It was early Saturday when a flash flood hit the area and washed away more than 500 houses,” district Governor Gohar Khan Babri told reporters in provincial capital Pul-e-Khumri, 160 km north of Kabul.'"
      ]
     },
     "execution_count": 9,
     "metadata": {},
     "output_type": "execute_result"
    }
   ],
   "source": [
    "features[4]"
   ]
  },
  {
   "cell_type": "code",
   "execution_count": 10,
   "metadata": {
    "collapsed": true
   },
   "outputs": [],
   "source": [
    "reports = [\n",
    "    Report(\"Pashtunkot and Belcheragh\",\"\",\"damaged\",\"home\",1500,features[4]),\n",
    "    Report(\"Baghlan-e-Markazi\",\"Saturday\",\"washed_away\",\"house\",500,features[4])\n",
    "]\n",
    "ground_truth_reports.extend(reports)"
   ]
  },
  {
   "cell_type": "code",
   "execution_count": 11,
   "metadata": {
    "collapsed": false
   },
   "outputs": [
    {
     "data": {
      "text/plain": [
       "'ALGIERS (AA) – Hundreds of homes have been destroyed in Algeria‘s southern city of Tamanrasset following several days of torrential rainfall, a local humanitarian aid official said Wednesday.  The city was pounded by rainfall from March 19 to March 24, according to Ghanom Sudani, a member of a government-appointed humanitarian aid committee.  He added that heavy rains had destroyed as many as 400 residences.  “Hundreds of families have had to leave their homes after they were inundated with water,” Sudani told The Anadolu Agency.  www.aa.com.tr/en  Last month neighbouring Tunisia experienced heavy rainfall and flooding in Jendouba City.'"
      ]
     },
     "execution_count": 11,
     "metadata": {},
     "output_type": "execute_result"
    }
   ],
   "source": [
    "features[5]"
   ]
  },
  {
   "cell_type": "code",
   "execution_count": 12,
   "metadata": {
    "collapsed": false
   },
   "outputs": [],
   "source": [
    "reports = [\n",
    "    Report(\"Tamanrasset\",\"Wednesday\",\"destroyed\",\"home\",\"Hundreds\",features[5]),\n",
    "    Report(\"Tamanrasset\",\"\",\"destroyed\",\"home\",400,features[5])\n",
    "]\n",
    "ground_truth_reports.extend(reports)"
   ]
  },
  {
   "cell_type": "code",
   "execution_count": 13,
   "metadata": {
    "collapsed": false
   },
   "outputs": [
    {
     "data": {
      "text/plain": [
       "'Flash floods have struck once again in the Badakhshan province of Afghanistan.  According to reports from Chinese state news agency, Xinhua, flash floods struck in the Kofab district of Badakhshan province on Saturday, 25 July 2015. Six people, including women and children, were reported as killed in the floods.  Quoting an official from the Badakhshan provincial government, Xinhua also said that the foods had damaged or destroyed more than 120 houses in the district. The official added that authorities were trying to provide necessary assistance to the affected people.  This is the second time this month that Badakhshan has seen deadly flash floods. Flash floods struck in the Shuhada district of Badakhshan on 07 July 2015, leaving at least 7 dead and around 300 families affected. Since then the International Organization for Migration (IOM) in Afghanistan have been distributing aid and relief for the flood-affected families in Shuhada.'"
      ]
     },
     "execution_count": 13,
     "metadata": {},
     "output_type": "execute_result"
    }
   ],
   "source": [
    "features[6]"
   ]
  },
  {
   "cell_type": "code",
   "execution_count": 14,
   "metadata": {
    "collapsed": true
   },
   "outputs": [],
   "source": [
    "reports = [\n",
    "    Report(\"Kofab\",\"Saturday, 25 July 2015\",\"destroyed\",\"house\",120,features[6]),\n",
    "    Report(\"Shuhada\",\"07 July 2015\",\"affected\",\"family\",300,features[6])\n",
    "]\n",
    "ground_truth_reports.extend(reports)"
   ]
  },
  {
   "cell_type": "code",
   "execution_count": 15,
   "metadata": {
    "collapsed": false
   },
   "outputs": [
    {
     "data": {
      "text/plain": [
       "'Heavy rain on Monday 09 March 2015 flooded at least 3 municipalities of Luanda, the capital of Angola.  According to Angola news agency ANGOP, Luanda fire department have reported the flooding has forced at least 800 families from their homes. Later reports suggest that as many as 1,770 homes have been damaged. The municipalities of Viana, Cacuaco and Belas are said to be the worst affected.  Some streets have been completely blocked by the floods, making it difficult for the authorities to carry out full assessments of the damage. Provincial deputy governor for technical area, Agostinho da Silva, told ANGOP that the government are providing assistance to those in flood affected areas, and have set up pumps to help remove the flood water.'"
      ]
     },
     "execution_count": 15,
     "metadata": {},
     "output_type": "execute_result"
    }
   ],
   "source": [
    "features[7]"
   ]
  },
  {
   "cell_type": "code",
   "execution_count": 16,
   "metadata": {
    "collapsed": true
   },
   "outputs": [],
   "source": [
    "reports = [\n",
    "    Report(\"Luanda\",\"Monday 08 March 2015\",\"forced\",\"family\",300,features[7]),\n",
    "    Report(\"Luanda\",\"Monday 08 March 2015\",\"destroyed\",\"home\",1770,features[7])\n",
    "]\n",
    "ground_truth_reports.extend(reports)"
   ]
  },
  {
   "cell_type": "code",
   "execution_count": 17,
   "metadata": {
    "collapsed": false
   },
   "outputs": [
    {
     "data": {
      "text/plain": [
       "'The information is contained in a report on the consequences of the rains, released by the Civil Protection commission for the municipalities of Sumbe and Porto Amboim.  According to the report presented by the secretary of State for Local Administration, Fernando Pontes Pereira, who travelled to the region for the purpose, the situation requires strong measures to relocate the people affected into safer places.  The report reads that the rains of March 28 and 29 left 2,160 people from Sumbe and Porto Amboim in a situation of dire need, as one was killed, three wounded and 150 houses destroyed, laving 483 homeless.  The source adds that Cuanza Sul Government is currently busy transferring those affected to safer places in the localities of Pomba Nova , near Sumbe, where tents have been installed for the purpose.'"
      ]
     },
     "execution_count": 17,
     "metadata": {},
     "output_type": "execute_result"
    }
   ],
   "source": [
    "features[11]"
   ]
  },
  {
   "cell_type": "code",
   "execution_count": 18,
   "metadata": {
    "collapsed": true
   },
   "outputs": [],
   "source": [
    "reports = [\n",
    "    Report(\"Sumbe and Porto Amboim\",\"March 28\",\"left\",\"people\",2160,features[11]),\n",
    "    Report(\"Sumbe and Porto Amboim\",\"March 28\",\"destroy\",\"house\",150,features[11]),\n",
    "]\n",
    "ground_truth_reports.extend(reports)"
   ]
  },
  {
   "cell_type": "code",
   "execution_count": 19,
   "metadata": {
    "collapsed": false
   },
   "outputs": [
    {
     "name": "stdout",
     "output_type": "stream",
     "text": [
      "Place: Sumbe and Porto Amboim  DateTime: March 28  EventTerm: destroy  SubjectTerm:  house  Quantity: 150\n"
     ]
    },
    {
     "data": {
      "image/png": "[encoded data removed]",
      "text/plain": [
       "Tree('reads', [Tree('report', ['The']), Tree('left', ['that', Tree('rains', ['the', Tree('of', [Tree('March', ['28', 'and', '29'])])]), Tree('people', ['2,160']), Tree('from', [Tree('Sumbe', ['and', Tree('Amboim', ['Porto'])])]), Tree('in', [Tree('situation', ['a', Tree('of', [Tree('need', ['dire'])])])]), ',', Tree('killed', ['as', 'one', 'was'])]), Tree('destroyed', [',', Tree('houses', [Tree('three', [Tree('wounded', ['and'])]), '150']), ',', Tree('laving', [Tree('homeless', ['483'])])]), Tree('.', [' '])])"
      ]
     },
     "execution_count": 19,
     "metadata": {},
     "output_type": "execute_result"
    }
   ],
   "source": [
    "ground_truth_reports[-1].show_story_tree()"
   ]
  },
  {
   "cell_type": "code",
   "execution_count": 20,
   "metadata": {
    "collapsed": false,
    "scrolled": true
   },
   "outputs": [
    {
     "data": {
      "text/plain": [
       "'Heavy rain on Monday 09 March 2015 flooded at least 3 municipalities of Luanda, the capital of Angola.  According to Angola news agency ANGOP, Luanda fire department have reported the flooding has forced at least 800 families from their homes. Later reports suggest that as many as 1,770 homes have been damaged. The municipalities of Viana, Cacuaco and Belas are said to be the worst affected.  Some streets have been completely blocked by the floods, making it difficult for the authorities to carry out full assessments of the damage. Provincial deputy governor for technical area, Agostinho da Silva, told ANGOP that the government are providing assistance to those in flood affected areas, and have set up pumps to help remove the flood water.'"
      ]
     },
     "execution_count": 20,
     "metadata": {},
     "output_type": "execute_result"
    }
   ],
   "source": [
    "ground_truth_reports[-4].story"
   ]
  },
  {
   "cell_type": "markdown",
   "metadata": {
    "collapsed": true
   },
   "source": [
    "**Automated Data Extraction **"
   ]
  },
  {
   "cell_type": "code",
   "execution_count": 23,
   "metadata": {
    "collapsed": true
   },
   "outputs": [],
   "source": [
    "reporting_terms = [\n",
    "    'displaced', 'evacuated', 'forced flee', 'homeless', 'relief camp',\n",
    "    'sheltered', 'relocated', 'destroyed housing', 'partially destroyed housing',\n",
    "    'uninhabitable housing','stranded','stuck','stranded','washed','swept','damaged','collapsed'\n",
    "]\n",
    "\n",
    "people_reporting_units = [\n",
    "    'people', 'persons','lives', 'individuals', 'children', 'inhabitants', 'residents', 'migrants','dead','fatalities','casualties','deaths'\n",
    "]\n",
    "\n",
    "structure_reporting_units = [\n",
    "    'families', 'households', 'houses', 'homes','dwelling','hut'\n",
    "]\n",
    "#Converting to lemmas to allow matching.\n",
    "reporting_term_lemmas = [t.lemma_ for t in nlp(\" \".join(reporting_terms))]\n",
    "structure_unit_lemmas = [t.lemma_ for t in nlp(\" \".join(structure_reporting_units))]\n",
    "unit_lemmas = [t.lemma_ for t in nlp(\" \".join(structure_reporting_units + people_reporting_units))]"
   ]
  },
  {
   "cell_type": "code",
   "execution_count": 36,
   "metadata": {
    "collapsed": false
   },
   "outputs": [],
   "source": [
    "def is_reporting_term_lemma_present(sentence):\n",
    "    sentence_lemmas = [token.lemma_ for token in sentence]\n",
    "    return any([sl in reporting_term_lemmas for sl in sentence_lemmas])\n",
    "\n",
    "def drill_down_from_term(term_token):\n",
    "    reports = []\n",
    "    children = term_token.children\n",
    "    unit_children = list(filter(lambda x: x.lemma_ in structure_unit_lemmas,children))\n",
    "    for uc in unit_children:\n",
    "        uc_children = uc.children\n",
    "        for token in uc_children:\n",
    "            if token.like_num:\n",
    "                numerical_term = token\n",
    "                reporting_unit = uc\n",
    "                reporting_term = term_token\n",
    "                report = Report(reporting_term,reporting_unit,number)\n",
    "                reports.append(report)\n",
    "    return reports\n",
    "def get_all_descendent_tokens(token):\n",
    "    \"\"\"\n",
    "    Returns a list of all descendents of the specified token.\n",
    "    \"\"\"\n",
    "    children_accum = []\n",
    "    for child in token.children:\n",
    "        children_accum.append(child)\n",
    "        grandchildren = get_all_descendent_tokens(child)\n",
    "        children_accum.extend(grandchildren)\n",
    "    return children_accum\n",
    "\n",
    "\n",
    "def check_prior_sentence_for_locations(sentence):\n",
    "    \"\"\"\n",
    "    It seems like locations are often mentioned in the sentence preceding the reporting term sentence.\n",
    "    This function scans a sentence and extracts the highest placed location (if present) in the parse tree.\n",
    "    \"\"\"\n",
    "    location = \"\"\n",
    "    root_word = sentence.root\n",
    "    sentence_tokens = [root_word] + get_all_descendent_tokens(root_word)\n",
    "    for token in sentence_tokens:\n",
    "        if token.ent_type_ ==\"GPE\":\n",
    "            location = token.text\n",
    "            break #I suspect the true location will have the highest position in the parse graph.\n",
    "    return location\n",
    "            \n",
    "def find_reports(story):\n",
    "    reports = []\n",
    "    sentences = list(nlp(story).sents)\n",
    "    for i,sentence in enumerate(sentences):\n",
    "        for token in sentence:\n",
    "            if token.lemma_ in reporting_term_lemmas:\n",
    "                term_token = token\n",
    "                token_descendents = get_all_descendent_tokens(term_token)\n",
    "                \n",
    "                location = \"\"\n",
    "                for desc_token  in token_descendents:\n",
    "                    if desc_token.ent_type_ == \"GPE\":\n",
    "                        location = desc_token.text\n",
    "                        break   # If multiple locations are detected amongst reporting term descendents, \n",
    "                                # use the location token closest to the reporting term token.\n",
    "                if location == \"\":\n",
    "                    if i > 0:\n",
    "                        location = check_prior_sentence_for_locations(sentences[i-1])\n",
    "                children = term_token.children\n",
    "                unit_children = list(filter(lambda x: x.lemma_ in unit_lemmas,children))\n",
    "                for uc in unit_children:\n",
    "                    uc_children = uc.children\n",
    "                    for token in uc_children:\n",
    "                        if token.like_num:\n",
    "                            number = token\n",
    "                            reporting_unit = uc\n",
    "                            reporting_term = term_token\n",
    "                            report = Report(location,\"\",reporting_term.text,reporting_unit.text,number.text,sentence.text)\n",
    "                            reports.append(report)\n",
    "                            report.display()\n",
    "    return reports"
   ]
  },
  {
   "cell_type": "code",
   "execution_count": 37,
   "metadata": {
    "collapsed": false,
    "scrolled": false
   },
   "outputs": [
    {
     "name": "stdout",
     "output_type": "stream",
     "text": [
      "Place: Sarobi  DateTime:   EventTerm: wash  SubjectTerm:  homes  Quantity: 500\n",
      "Place: Nuristan  DateTime:   EventTerm: destroy  SubjectTerm:  homes  Quantity: 60\n",
      "Place: Khost  DateTime:   EventTerm: destroy  SubjectTerm:  homes  Quantity: fifty\n"
     ]
    },
    {
     "data": {
      "text/plain": [
       "[<__main__.Report at 0x7fcbaee45358>,\n",
       " <__main__.Report at 0x7fcbaee452b0>,\n",
       " <__main__.Report at 0x7fcbaee459e8>]"
      ]
     },
     "execution_count": 37,
     "metadata": {},
     "output_type": "execute_result"
    }
   ],
   "source": [
    "find_reports(ground_truth_reports[0].story)"
   ]
  },
  {
   "cell_type": "code",
   "execution_count": 38,
   "metadata": {
    "collapsed": false,
    "scrolled": false
   },
   "outputs": [
    {
     "name": "stdout",
     "output_type": "stream",
     "text": [
      "Place: Sarobi  DateTime:   EventTerm: wash  SubjectTerm:  home  Quantity: 500\n"
     ]
    }
   ],
   "source": [
    "ground_truth_reports[0].display()"
   ]
  },
  {
   "cell_type": "code",
   "execution_count": 127,
   "metadata": {
    "collapsed": false,
    "scrolled": true
   },
   "outputs": [
    {
     "data": {
      "text/plain": [
       "\"Flash flooding across Afghanistan and Pakistan has left more than 160 dead and dozens stranded in one of South Asia's worst natural disasters this year, say officials.  The flooding, caused by unusually heavy rain, has left villagers stuck in remote areas without shelter, food or power.  Mountainous Afghanistan was the worst hit, with 61 people killed and approximately 500 traditional mud-brick homes washed away in more than a dozen villages in Sarobi, a rural district less than an hour from Kabul, officials said.  Floods left a village devastated in the remote eastern Afghan province of Nuristan. At least 60 homes were destroyed across three districts, said provincial spokesman Mohammad Yusufi. No one was killed.  Authorities have been unable to deliver aid to some badly affected villages by land as roads in the area are controlled by the Taliban, Yusufi added.  “We have asked the national government for help as have an overwhelming number of locals asking for assistance, but this is a Taliban-ridden area,” Yusufi said.  At least 24 people were also died in two other eastern border provinces, Khost and Nangarhar, according to local officials. More than fifty homes and shops were destroyed and thousands of acres of farmland flooded.  In Pakistan monsoon rains claimed more than 80 lives, local media reported. Houses collapsing, drowning and electrocution all pushed up the death toll, said Sindh Information Minister Sharjeel Inam Memon.  In Karachi, the commercial capital and a southern port city that is home to 18 million people, poor neighborhoods were submerged waist-deep in water and many precincts suffered long power outages. Deaths were also reported in the north and west of the country.  Additional reporting by Reuters\""
      ]
     },
     "execution_count": 127,
     "metadata": {},
     "output_type": "execute_result"
    }
   ],
   "source": [
    "ground_truth_reports[0].story"
   ]
  },
  {
   "cell_type": "code",
   "execution_count": 134,
   "metadata": {
    "collapsed": false
   },
   "outputs": [
    {
     "data": {
      "image/png": "[encoded data removed]",
      "text/plain": [
       "Tree('destroyed', [Tree('homes', [Tree('60', [Tree('least', ['At'])])]), 'were', Tree('across', [Tree('districts', ['three'])]), ',', Tree('said', [Tree('Yusufi', [Tree('spokesman', ['provincial']), 'Mohammad']), '.'])])"
      ]
     },
     "execution_count": 134,
     "metadata": {},
     "output_type": "execute_result"
    }
   ],
   "source": [
    "ground_truth_reports[2].show_story_tree()"
   ]
  },
  {
   "cell_type": "code",
   "execution_count": 149,
   "metadata": {
    "collapsed": false
   },
   "outputs": [
    {
     "name": "stdout",
     "output_type": "stream",
     "text": [
      "Afghanistan state news agency, Bakhtar News Agency (BNA) report that at least 7 people have been killed in flash floods in Faryab Province in the north of the country. Flash floods in Baghlan Province have killed 1 person and injured around 10 others.  Flash floods struck on 08 May 2015 in Faryab Province after a period of heavy rainfall. The districts of Garyzan, Pashtunkot and Belcheragh were worst affected. BNA report that at least 7 people were killed and over 1,500 homes damaged. The Faizabada-Takhar highway have been closed to traffic and wide areas of crops and orchards have suffered damaged.  Kuwaiti News Agency (KUNA) also report that flooding struck in the Baghlan-i-Markazi district of Baghlan province, where 1 person was killed and several injured early on Saturday 09 May 2015.  “There was heavy rain in Baghlan-e-Markazi district Friday evening and the people left their houses to safer areas. It was early Saturday when a flash flood hit the area and washed away more than 500 houses,” district Governor Gohar Khan Babri told reporters in provincial capital Pul-e-Khumri, 160 km north of Kabul.\n",
      "Place: Garyzan  DateTime:   EventTerm: damage  SubjectTerm:  homes  Quantity: 1,500\n",
      "Place: Markazi  DateTime:   EventTerm: wash  SubjectTerm:  houses  Quantity: 500\n"
     ]
    },
    {
     "data": {
      "text/plain": [
       "[<__main__.Report at 0x7ff966dd9748>, <__main__.Report at 0x7ff966dd9cc0>]"
      ]
     },
     "execution_count": 149,
     "metadata": {},
     "output_type": "execute_result"
    }
   ],
   "source": [
    "print(ground_truth_reports[5].story)\n",
    "find_reports(ground_truth_reports[5].story)"
   ]
  },
  {
   "cell_type": "code",
   "execution_count": 150,
   "metadata": {
    "collapsed": false
   },
   "outputs": [
    {
     "data": {
      "image/png": "[encoded data removed]",
      "text/plain": [
       "Tree('report', ['BNA', Tree('killed', ['that', Tree('people', [Tree('7', [Tree('least', ['at'])])]), 'were', 'and', Tree('damaged', [Tree('homes', [Tree('1,500', ['over'])])])]), '.'])"
      ]
     },
     "execution_count": 150,
     "metadata": {},
     "output_type": "execute_result"
    }
   ],
   "source": [
    "ground_truth_reports[5].show_story_tree()"
   ]
  },
  {
   "cell_type": "code",
   "execution_count": 42,
   "metadata": {
    "collapsed": false,
    "scrolled": false
   },
   "outputs": [
    {
     "name": "stdout",
     "output_type": "stream",
     "text": [
      "Ground Truth:\n",
      "Place: Sarobi  DateTime:   EventTerm: wash  SubjectTerm:  home  Quantity: 500\n",
      "Extracted Reports:\n",
      "Place: Sarobi  DateTime:   EventTerm: wash  SubjectTerm:  homes  Quantity: 500\n",
      "Place: Nuristan  DateTime:   EventTerm: destroy  SubjectTerm:  homes  Quantity: 60\n",
      "Place: Khost  DateTime:   EventTerm: destroy  SubjectTerm:  homes  Quantity: fifty\n",
      "Place: Sarobi  DateTime:   EventTerm: wash  SubjectTerm:  homes  Quantity: 500\n",
      "Place: Nuristan  DateTime:   EventTerm: destroy  SubjectTerm:  homes  Quantity: 60\n",
      "Place: Khost  DateTime:   EventTerm: destroy  SubjectTerm:  homes  Quantity: fifty\n",
      "----------------------\n",
      "Ground Truth:\n",
      "Place: Nuristan  DateTime:   EventTerm: devastate  SubjectTerm:  village  Quantity: a\n",
      "Extracted Reports:\n",
      "Place: Sarobi  DateTime:   EventTerm: wash  SubjectTerm:  homes  Quantity: 500\n",
      "Place: Nuristan  DateTime:   EventTerm: destroy  SubjectTerm:  homes  Quantity: 60\n",
      "Place: Khost  DateTime:   EventTerm: destroy  SubjectTerm:  homes  Quantity: fifty\n",
      "Place: Sarobi  DateTime:   EventTerm: wash  SubjectTerm:  homes  Quantity: 500\n",
      "Place: Nuristan  DateTime:   EventTerm: destroy  SubjectTerm:  homes  Quantity: 60\n",
      "Place: Khost  DateTime:   EventTerm: destroy  SubjectTerm:  homes  Quantity: fifty\n",
      "----------------------\n",
      "Ground Truth:\n",
      "Place: Nuristan  DateTime:   EventTerm: destroy  SubjectTerm:  home  Quantity: 60\n",
      "Extracted Reports:\n",
      "Place: Sarobi  DateTime:   EventTerm: wash  SubjectTerm:  homes  Quantity: 500\n",
      "Place: Nuristan  DateTime:   EventTerm: destroy  SubjectTerm:  homes  Quantity: 60\n",
      "Place: Khost  DateTime:   EventTerm: destroy  SubjectTerm:  homes  Quantity: fifty\n",
      "Place: Sarobi  DateTime:   EventTerm: wash  SubjectTerm:  homes  Quantity: 500\n",
      "Place: Nuristan  DateTime:   EventTerm: destroy  SubjectTerm:  homes  Quantity: 60\n",
      "Place: Khost  DateTime:   EventTerm: destroy  SubjectTerm:  homes  Quantity: fifty\n",
      "----------------------\n",
      "Ground Truth:\n",
      "Place: Khost and Nangarhar  DateTime:   EventTerm: destroy  SubjectTerm:  home  Quantity: fifty\n",
      "Extracted Reports:\n",
      "Place: Sarobi  DateTime:   EventTerm: wash  SubjectTerm:  homes  Quantity: 500\n",
      "Place: Nuristan  DateTime:   EventTerm: destroy  SubjectTerm:  homes  Quantity: 60\n",
      "Place: Khost  DateTime:   EventTerm: destroy  SubjectTerm:  homes  Quantity: fifty\n",
      "Place: Sarobi  DateTime:   EventTerm: wash  SubjectTerm:  homes  Quantity: 500\n",
      "Place: Nuristan  DateTime:   EventTerm: destroy  SubjectTerm:  homes  Quantity: 60\n",
      "Place: Khost  DateTime:   EventTerm: destroy  SubjectTerm:  homes  Quantity: fifty\n",
      "----------------------\n",
      "Ground Truth:\n",
      "Place: Pakistan  DateTime:   EventTerm: house  SubjectTerm:  collapsed  Quantity: \n",
      "Extracted Reports:\n",
      "Place: Sarobi  DateTime:   EventTerm: wash  SubjectTerm:  homes  Quantity: 500\n",
      "Place: Nuristan  DateTime:   EventTerm: destroy  SubjectTerm:  homes  Quantity: 60\n",
      "Place: Khost  DateTime:   EventTerm: destroy  SubjectTerm:  homes  Quantity: fifty\n",
      "Place: Sarobi  DateTime:   EventTerm: wash  SubjectTerm:  homes  Quantity: 500\n",
      "Place: Nuristan  DateTime:   EventTerm: destroy  SubjectTerm:  homes  Quantity: 60\n",
      "Place: Khost  DateTime:   EventTerm: destroy  SubjectTerm:  homes  Quantity: fifty\n",
      "----------------------\n",
      "Ground Truth:\n",
      "Place: Pashtunkot and Belcheragh  DateTime:   EventTerm: damage  SubjectTerm:  home  Quantity: 1500\n",
      "Extracted Reports:\n",
      "Place: Garyzan  DateTime:   EventTerm: damage  SubjectTerm:  homes  Quantity: 1,500\n",
      "Place: Markazi  DateTime:   EventTerm: wash  SubjectTerm:  houses  Quantity: 500\n",
      "Place: Garyzan  DateTime:   EventTerm: damage  SubjectTerm:  homes  Quantity: 1,500\n",
      "Place: Markazi  DateTime:   EventTerm: wash  SubjectTerm:  houses  Quantity: 500\n",
      "----------------------\n",
      "Ground Truth:\n",
      "Place: Baghlan-e-Markazi  DateTime: Saturday  EventTerm: washed_away  SubjectTerm:  house  Quantity: 500\n",
      "Extracted Reports:\n",
      "Place: Garyzan  DateTime:   EventTerm: damage  SubjectTerm:  homes  Quantity: 1,500\n",
      "Place: Markazi  DateTime:   EventTerm: wash  SubjectTerm:  houses  Quantity: 500\n",
      "Place: Garyzan  DateTime:   EventTerm: damage  SubjectTerm:  homes  Quantity: 1,500\n",
      "Place: Markazi  DateTime:   EventTerm: wash  SubjectTerm:  houses  Quantity: 500\n",
      "----------------------\n",
      "Ground Truth:\n",
      "Place: Tamanrasset  DateTime: Wednesday  EventTerm: destroy  SubjectTerm:  home  Quantity: Hundreds\n",
      "Extracted Reports:\n",
      "----------------------\n",
      "Ground Truth:\n",
      "Place: Tamanrasset  DateTime:   EventTerm: destroy  SubjectTerm:  home  Quantity: 400\n",
      "Extracted Reports:\n",
      "----------------------\n",
      "Ground Truth:\n",
      "Place: Kofab  DateTime: Saturday, 25 July 2015  EventTerm: destroy  SubjectTerm:  house  Quantity: 120\n",
      "Extracted Reports:\n",
      "Place:   DateTime:   EventTerm: destroy  SubjectTerm:  houses  Quantity: 120\n",
      "Place:   DateTime:   EventTerm: destroy  SubjectTerm:  houses  Quantity: 120\n",
      "----------------------\n",
      "Ground Truth:\n",
      "Place: Shuhada  DateTime: 07 July 2015  EventTerm: affect  SubjectTerm:  family  Quantity: 300\n",
      "Extracted Reports:\n",
      "Place:   DateTime:   EventTerm: destroy  SubjectTerm:  houses  Quantity: 120\n",
      "Place:   DateTime:   EventTerm: destroy  SubjectTerm:  houses  Quantity: 120\n",
      "----------------------\n",
      "Ground Truth:\n",
      "Place: Luanda  DateTime: Monday 08 March 2015  EventTerm: force  SubjectTerm:  family  Quantity: 300\n",
      "Extracted Reports:\n",
      "Place: Luanda  DateTime:   EventTerm: force  SubjectTerm:  families  Quantity: 800\n",
      "Place: Angola  DateTime:   EventTerm: damage  SubjectTerm:  homes  Quantity: 1,770\n",
      "Place: Luanda  DateTime:   EventTerm: force  SubjectTerm:  families  Quantity: 800\n",
      "Place: Angola  DateTime:   EventTerm: damage  SubjectTerm:  homes  Quantity: 1,770\n",
      "----------------------\n",
      "Ground Truth:\n",
      "Place: Luanda  DateTime: Monday 08 March 2015  EventTerm: destroy  SubjectTerm:  home  Quantity: 1770\n",
      "Extracted Reports:\n",
      "Place: Luanda  DateTime:   EventTerm: force  SubjectTerm:  families  Quantity: 800\n",
      "Place: Angola  DateTime:   EventTerm: damage  SubjectTerm:  homes  Quantity: 1,770\n",
      "Place: Luanda  DateTime:   EventTerm: force  SubjectTerm:  families  Quantity: 800\n",
      "Place: Angola  DateTime:   EventTerm: damage  SubjectTerm:  homes  Quantity: 1,770\n",
      "----------------------\n",
      "Ground Truth:\n",
      "Place: Sumbe and Porto Amboim  DateTime: March 28  EventTerm: leave  SubjectTerm:  people  Quantity: 2160\n",
      "Extracted Reports:\n",
      "Place:   DateTime:   EventTerm: destroy  SubjectTerm:  houses  Quantity: three\n",
      "Place:   DateTime:   EventTerm: destroy  SubjectTerm:  houses  Quantity: 150\n",
      "Place:   DateTime:   EventTerm: destroy  SubjectTerm:  houses  Quantity: three\n",
      "Place:   DateTime:   EventTerm: destroy  SubjectTerm:  houses  Quantity: 150\n",
      "----------------------\n",
      "Ground Truth:\n",
      "Place: Sumbe and Porto Amboim  DateTime: March 28  EventTerm: destroy  SubjectTerm:  house  Quantity: 150\n",
      "Extracted Reports:\n",
      "Place:   DateTime:   EventTerm: destroy  SubjectTerm:  houses  Quantity: three\n",
      "Place:   DateTime:   EventTerm: destroy  SubjectTerm:  houses  Quantity: 150\n",
      "Place:   DateTime:   EventTerm: destroy  SubjectTerm:  houses  Quantity: three\n",
      "Place:   DateTime:   EventTerm: destroy  SubjectTerm:  houses  Quantity: 150\n",
      "----------------------\n"
     ]
    }
   ],
   "source": [
    "for gtr in ground_truth_reports:\n",
    "    print(\"Ground Truth:\")\n",
    "    gtr.display()\n",
    "    print(\"Extracted Reports:\")\n",
    "    reports = find_reports(gtr.story)\n",
    "    for r in reports:\n",
    "        r.display()\n",
    "    print(\"----------------------\")"
   ]
  },
  {
   "cell_type": "code",
   "execution_count": null,
   "metadata": {
    "collapsed": true
   },
   "outputs": [],
   "source": []
  }
 ],
 "metadata": {
  "kernelspec": {
   "display_name": "Python [Root]",
   "language": "python",
   "name": "Python [Root]"
  },
  "language_info": {
   "codemirror_mode": {
    "name": "ipython",
    "version": 3
   },
   "file_extension": ".py",
   "mimetype": "text/x-python",
   "name": "python",
   "nbconvert_exporter": "python",
   "pygments_lexer": "ipython3",
   "version": "3.5.2"
  }
 },
 "nbformat": 4,
 "nbformat_minor": 2
}
