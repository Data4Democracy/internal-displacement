{
 "cells": [
  {
   "cell_type": "markdown",
   "metadata": {},
   "source": [
    "The aim is to use NLP to identify articles that are 'relevant' to the challenge, that is articles that refer to:\n",
    "    - houses / homes being destroyed, damaged etc etc.\n",
    "    - people / families being displaced, evacuated etc etc.\n",
    "\n",
    "This is some initial exploration of how to use the Spacy library for this task"
   ]
  },
  {
   "cell_type": "code",
   "execution_count": 1,
   "metadata": {
    "collapsed": true
   },
   "outputs": [],
   "source": [
    "import pandas as pd\n",
    "import spacy\n",
    "from sklearn.feature_extraction.text import TfidfVectorizer\n",
    "pd.set_option('display.max_colwidth', -1)\n",
    "import re\n",
    "from collections import Counter"
   ]
  },
  {
   "cell_type": "code",
   "execution_count": 3,
   "metadata": {
    "collapsed": false
   },
   "outputs": [],
   "source": [
    "nlp = spacy.load('en')"
   ]
  },
  {
   "cell_type": "code",
   "execution_count": 242,
   "metadata": {
    "collapsed": true
   },
   "outputs": [],
   "source": [
    "# Data source is 290 downloaded articles from the Training Data\n",
    "df = pd.read_csv('https://s3-us-west-1.amazonaws.com/simon.bedford/d4d/article_contents.csv')\n",
    "df = df.fillna('')"
   ]
  },
  {
   "cell_type": "code",
   "execution_count": 210,
   "metadata": {
    "collapsed": false
   },
   "outputs": [],
   "source": [
    "# Specified reporting terms from challenge description\n",
    "reporting_terms = [\n",
    "    'displaced', 'evacuated', 'forced to flee', 'homeless', 'in relief camp',\n",
    "    'sheltered', 'relocated', 'destroyed housing', 'partially destroyed housing',\n",
    "    'uninhabitable housing'\n",
    "]"
   ]
  },
  {
   "cell_type": "code",
   "execution_count": 211,
   "metadata": {
    "collapsed": false
   },
   "outputs": [],
   "source": [
    "# Specified reporting units from challenge description\n",
    "reporting_units = {\n",
    "    'people': ['people', 'persons', 'individuals', 'children', 'inhabitants', 'residents', 'migrants'],\n",
    "    'households': ['families', 'households', 'houses', 'homes']\n",
    "}"
   ]
  },
  {
   "cell_type": "markdown",
   "metadata": {},
   "source": [
    "#### A quick example"
   ]
  },
  {
   "cell_type": "code",
   "execution_count": 214,
   "metadata": {
    "collapsed": true
   },
   "outputs": [],
   "source": [
    "example_sentence = \"At least 60 homes were destroyed across three districts, said provincial spokesman Mohammad Yusufi.\""
   ]
  },
  {
   "cell_type": "code",
   "execution_count": 215,
   "metadata": {
    "collapsed": false
   },
   "outputs": [
    {
     "name": "stdout",
     "output_type": "stream",
     "text": [
      "At least 60 homes destroyed\n"
     ]
    }
   ],
   "source": [
    "doc = nlp(u\"{}\".format(example_sentence))\n",
    "for np in doc.noun_chunks:\n",
    "    if re.search(r'homes|houses', np.text) and re.search(r'destroyed|damaged|washed away', np.root.head.text):\n",
    "        print(np.text, np.root.head.text)"
   ]
  },
  {
   "cell_type": "markdown",
   "metadata": {},
   "source": [
    "#### What are all verbs that apply to homes or houses?"
   ]
  },
  {
   "cell_type": "code",
   "execution_count": 216,
   "metadata": {
    "collapsed": false
   },
   "outputs": [],
   "source": [
    "verbs = Counter()\n",
    "for i, row in df.iterrows():\n",
    "    doc = nlp(u\"{}\".format(row['content'].lower()))\n",
    "    for np in doc.noun_chunks:\n",
    "        if re.search(r'homes|houses', np.text):\n",
    "            verbs[np.root.head.text] += 1"
   ]
  },
  {
   "cell_type": "code",
   "execution_count": 217,
   "metadata": {
    "collapsed": false
   },
   "outputs": [
    {
     "data": {
      "text/plain": [
       "[('of', 70),\n",
       " ('destroyed', 64),\n",
       " ('damaged', 41),\n",
       " ('from', 34),\n",
       " ('were', 22),\n",
       " ('to', 21),\n",
       " ('leave', 13),\n",
       " ('flooded', 13),\n",
       " ('left', 8),\n",
       " ('inundated', 8),\n",
       " ('in', 7),\n",
       " ('lost', 7),\n",
       " ('fled', 7),\n",
       " ('are', 7),\n",
       " ('destroying', 7),\n",
       " ('evacuate', 7),\n",
       " ('collapsed', 7),\n",
       " ('submerged', 6),\n",
       " ('affected', 5),\n",
       " ('over', 5)]"
      ]
     },
     "execution_count": 217,
     "metadata": {},
     "output_type": "execute_result"
    }
   ],
   "source": [
    "verbs.most_common(20)"
   ]
  },
  {
   "cell_type": "markdown",
   "metadata": {},
   "source": [
    "#### Look across the article samples for similar sentences of events negatively impacting homes"
   ]
  },
  {
   "cell_type": "code",
   "execution_count": 218,
   "metadata": {
    "collapsed": true
   },
   "outputs": [],
   "source": [
    "house_impacts = re.compile('destroyed|damaged|flooded|inundated|lost|collapsed|submerged|washed away')"
   ]
  },
  {
   "cell_type": "code",
   "execution_count": 220,
   "metadata": {
    "collapsed": false
   },
   "outputs": [],
   "source": [
    "example_phrases = []\n",
    "for i, row in df.iterrows():\n",
    "    doc = nlp(u\"{}\".format(row['content'].lower()))\n",
    "    for np in doc.noun_chunks:\n",
    "        if re.search(r'homes|houses', np.text) and re.search(house_impacts, np.root.head.text):\n",
    "            example_phrases.append(\"{}, {}\".format(np.text, np.root.head.text))"
   ]
  },
  {
   "cell_type": "code",
   "execution_count": 221,
   "metadata": {
    "collapsed": false
   },
   "outputs": [
    {
     "data": {
      "text/html": [
       "<div>\n",
       "<table border=\"1\" class=\"dataframe\">\n",
       "  <thead>\n",
       "    <tr style=\"text-align: right;\">\n",
       "      <th></th>\n",
       "      <th>0</th>\n",
       "    </tr>\n",
       "  </thead>\n",
       "  <tbody>\n",
       "    <tr>\n",
       "      <th>0</th>\n",
       "      <td>at least 60 homes, destroyed</td>\n",
       "    </tr>\n",
       "    <tr>\n",
       "      <th>1</th>\n",
       "      <td>more than fifty homes, destroyed</td>\n",
       "    </tr>\n",
       "    <tr>\n",
       "      <th>2</th>\n",
       "      <td>over 1,500 homes, damaged</td>\n",
       "    </tr>\n",
       "    <tr>\n",
       "      <th>3</th>\n",
       "      <td>more than 120 houses, destroyed</td>\n",
       "    </tr>\n",
       "    <tr>\n",
       "      <th>4</th>\n",
       "      <td>as many as 1,770 homes, damaged</td>\n",
       "    </tr>\n",
       "    <tr>\n",
       "      <th>5</th>\n",
       "      <td>three wounded and 150 houses, destroyed</td>\n",
       "    </tr>\n",
       "    <tr>\n",
       "      <th>6</th>\n",
       "      <td>several homes, damaged</td>\n",
       "    </tr>\n",
       "    <tr>\n",
       "      <th>7</th>\n",
       "      <td>four homes, flooded</td>\n",
       "    </tr>\n",
       "    <tr>\n",
       "      <th>8</th>\n",
       "      <td>116 houses, destroyed</td>\n",
       "    </tr>\n",
       "    <tr>\n",
       "      <th>9</th>\n",
       "      <td>their homes, lost</td>\n",
       "    </tr>\n",
       "  </tbody>\n",
       "</table>\n",
       "</div>"
      ],
      "text/plain": [
       "                                         0\n",
       "0  at least 60 homes, destroyed           \n",
       "1  more than fifty homes, destroyed       \n",
       "2  over 1,500 homes, damaged              \n",
       "3  more than 120 houses, destroyed        \n",
       "4  as many as 1,770 homes, damaged        \n",
       "5  three wounded and 150 houses, destroyed\n",
       "6  several homes, damaged                 \n",
       "7  four homes, flooded                    \n",
       "8  116 houses, destroyed                  \n",
       "9  their homes, lost                      "
      ]
     },
     "execution_count": 221,
     "metadata": {},
     "output_type": "execute_result"
    }
   ],
   "source": [
    "example_phrases = pd.DataFrame(example_phrases)\n",
    "example_phrases.head(10)"
   ]
  },
  {
   "cell_type": "markdown",
   "metadata": {},
   "source": [
    "#### Other ways you could say the same thing"
   ]
  },
  {
   "cell_type": "code",
   "execution_count": 222,
   "metadata": {
    "collapsed": true
   },
   "outputs": [],
   "source": [
    "example_sentence = \"A large flood destroyed 100 homes yesterday\""
   ]
  },
  {
   "cell_type": "code",
   "execution_count": 223,
   "metadata": {
    "collapsed": false
   },
   "outputs": [
    {
     "name": "stdout",
     "output_type": "stream",
     "text": [
      "100 homes destroyed\n"
     ]
    }
   ],
   "source": [
    "doc = nlp(u\"{}\".format(example_sentence))\n",
    "for np in doc.noun_chunks:\n",
    "    if re.search(r'homes|houses', np.text) and re.search(house_impacts, np.root.head.text):\n",
    "        print(np.text, np.root.head.text)"
   ]
  },
  {
   "cell_type": "markdown",
   "metadata": {},
   "source": [
    "#### So this is already picked up by the existing code"
   ]
  },
  {
   "cell_type": "markdown",
   "metadata": {},
   "source": [
    "#### What is the broader list of actions that seem to apply to the 'units'"
   ]
  },
  {
   "cell_type": "code",
   "execution_count": 224,
   "metadata": {
    "collapsed": true
   },
   "outputs": [],
   "source": [
    "verbs = Counter()\n",
    "for i, row in df.iterrows():\n",
    "    doc = nlp(u\"{}\".format(row['content'].lower()))\n",
    "    for np in doc.noun_chunks:\n",
    "        if re.search(units_regex, np.text):\n",
    "            verbs[np.root.head.text] += 1"
   ]
  },
  {
   "cell_type": "code",
   "execution_count": 225,
   "metadata": {
    "collapsed": false
   },
   "outputs": [
    {
     "data": {
      "text/plain": [
       "[('of', 255),\n",
       " ('to', 80),\n",
       " ('destroyed', 65),\n",
       " ('evacuated', 57),\n",
       " ('were', 56),\n",
       " ('affected', 48),\n",
       " ('displaced', 43),\n",
       " ('died', 42),\n",
       " ('damaged', 42),\n",
       " ('from', 41),\n",
       " ('killed', 39),\n",
       " ('for', 37),\n",
       " ('left', 32),\n",
       " ('are', 31),\n",
       " ('with', 28),\n",
       " ('forced', 27),\n",
       " ('on', 17),\n",
       " ('said', 17),\n",
       " ('had', 16),\n",
       " ('evacuate', 15),\n",
       " ('injured', 14),\n",
       " ('families', 14),\n",
       " ('flooded', 14),\n",
       " ('told', 14),\n",
       " ('leave', 13),\n",
       " ('leaving', 11),\n",
       " ('reported', 11),\n",
       " ('in', 10),\n",
       " ('lost', 9),\n",
       " ('fled', 9)]"
      ]
     },
     "execution_count": 225,
     "metadata": {},
     "output_type": "execute_result"
    }
   ],
   "source": [
    "verbs.most_common(30)"
   ]
  },
  {
   "cell_type": "code",
   "execution_count": 226,
   "metadata": {
    "collapsed": false
   },
   "outputs": [],
   "source": [
    "# A more broad scan through the document\n",
    "actions_regex = re.compile(\"destroyed|damaged|flooded|inundated|lost|collapsed|submerged|washed away|evacuated|affected|displaced|evacuate|fled\")"
   ]
  },
  {
   "cell_type": "code",
   "execution_count": 227,
   "metadata": {
    "collapsed": false
   },
   "outputs": [],
   "source": [
    "def parse_article(article):\n",
    "    relevant_sentences = []\n",
    "    doc = nlp(u\"{}\".format(article.lower()))\n",
    "    sentences = [s for s in doc.sents]\n",
    "    for s in sentences:\n",
    "        d = nlp(u\"{}\".format(s))\n",
    "        for np in d.noun_chunks:\n",
    "            if re.search(units_regex, np.text) and re.search(actions_regex, np.root.head.text):\n",
    "                relevant_sentences.append(str(s))\n",
    "    return relevant_sentences"
   ]
  },
  {
   "cell_type": "code",
   "execution_count": 228,
   "metadata": {
    "collapsed": true
   },
   "outputs": [],
   "source": [
    "relevant_sentences = []\n",
    "for i, row in df.iterrows():\n",
    "    article_sentences = parse_article(row['content'])\n",
    "    for s in article_sentences:\n",
    "        relevant_sentences.append(s)"
   ]
  },
  {
   "cell_type": "code",
   "execution_count": 229,
   "metadata": {
    "collapsed": false
   },
   "outputs": [
    {
     "data": {
      "text/html": [
       "<div>\n",
       "<table border=\"1\" class=\"dataframe\">\n",
       "  <thead>\n",
       "    <tr style=\"text-align: right;\">\n",
       "      <th></th>\n",
       "      <th>0</th>\n",
       "    </tr>\n",
       "  </thead>\n",
       "  <tbody>\n",
       "    <tr>\n",
       "      <th>0</th>\n",
       "      <td>at least 60 homes were destroyed across three districts, said provincial spokesman mohammad yusufi.</td>\n",
       "    </tr>\n",
       "    <tr>\n",
       "      <th>1</th>\n",
       "      <td>more than fifty homes and shops were destroyed and thousands of acres of farmland flooded.</td>\n",
       "    </tr>\n",
       "    <tr>\n",
       "      <th>2</th>\n",
       "      <td>bna report that at least 7 people were killed and over 1,500 homes damaged.</td>\n",
       "    </tr>\n",
       "    <tr>\n",
       "      <th>3</th>\n",
       "      <td>quoting an official from the badakhshan provincial government, xinhua also said that the foods had damaged or destroyed more than 120 houses in the district.</td>\n",
       "    </tr>\n",
       "    <tr>\n",
       "      <th>4</th>\n",
       "      <td>flash floods struck in the shuhada district of badakhshan on 07 july 2015, leaving at least 7 dead and around 300 families affected. since then the international organization for migration (iom) in afghanistan</td>\n",
       "    </tr>\n",
       "    <tr>\n",
       "      <th>5</th>\n",
       "      <td>authorities have evacuated families from five buildings.</td>\n",
       "    </tr>\n",
       "    <tr>\n",
       "      <th>6</th>\n",
       "      <td>later reports suggest that as many as 1,770 homes have been damaged.</td>\n",
       "    </tr>\n",
       "    <tr>\n",
       "      <th>7</th>\n",
       "      <td>the report reads that the rains of march 28 and 29 left 2,160 people from sumbe and porto amboim in a situation of dire need, as one was killed, three wounded and 150 houses destroyed, laving 483 homeless.</td>\n",
       "    </tr>\n",
       "    <tr>\n",
       "      <th>8</th>\n",
       "      <td>salta governor juan manuel urtubey rushed to the town, promising to help reconstruct damaged homes and buildings and confirming that 15 families have been evacuated to the town hall as a precaution against collapse.</td>\n",
       "    </tr>\n",
       "    <tr>\n",
       "      <th>9</th>\n",
       "      <td>a profiling exercise led by nrc in 2005 found that 65,000 families were displaced during the 1988-1994 conflict between azerbaijan and armenia over nagorno-karabakh.</td>\n",
       "    </tr>\n",
       "    <tr>\n",
       "      <th>10</th>\n",
       "      <td>several homes have been damaged and a woman had to be rescued after her house was washed away in a landslide in victoria's north-east on tuesday night.</td>\n",
       "    </tr>\n",
       "    <tr>\n",
       "      <th>11</th>\n",
       "      <td>four homes were flooded.</td>\n",
       "    </tr>\n",
       "    <tr>\n",
       "      <th>12</th>\n",
       "      <td>country fire authority deputy incident controller mark gunning said 116 houses in wye river and separation creek had been destroyed in the 2200-hectare blaze.</td>\n",
       "    </tr>\n",
       "    <tr>\n",
       "      <th>13</th>\n",
       "      <td>“it will be a very difficult few days, though, indeed many weeks, for those who have lost their homes, or at least have lost a premises.</td>\n",
       "    </tr>\n",
       "    <tr>\n",
       "      <th>14</th>\n",
       "      <td>the czech government declared a state of emergency sunday, deploying 2,000 troops in its rescue drive as more than 8,000 people were evacuated from their homes, officials said.</td>\n",
       "    </tr>\n",
       "  </tbody>\n",
       "</table>\n",
       "</div>"
      ],
      "text/plain": [
       "                                                                                                                                                                                                                          0\n",
       "0   at least 60 homes were destroyed across three districts, said provincial spokesman mohammad yusufi.                                                                                                                    \n",
       "1   more than fifty homes and shops were destroyed and thousands of acres of farmland flooded.                                                                                                                             \n",
       "2   bna report that at least 7 people were killed and over 1,500 homes damaged.                                                                                                                                            \n",
       "3   quoting an official from the badakhshan provincial government, xinhua also said that the foods had damaged or destroyed more than 120 houses in the district.                                                          \n",
       "4   flash floods struck in the shuhada district of badakhshan on 07 july 2015, leaving at least 7 dead and around 300 families affected. since then the international organization for migration (iom) in afghanistan      \n",
       "5   authorities have evacuated families from five buildings.                                                                                                                                                               \n",
       "6   later reports suggest that as many as 1,770 homes have been damaged.                                                                                                                                                   \n",
       "7   the report reads that the rains of march 28 and 29 left 2,160 people from sumbe and porto amboim in a situation of dire need, as one was killed, three wounded and 150 houses destroyed, laving 483 homeless.          \n",
       "8   salta governor juan manuel urtubey rushed to the town, promising to help reconstruct damaged homes and buildings and confirming that 15 families have been evacuated to the town hall as a precaution against collapse.\n",
       "9   a profiling exercise led by nrc in 2005 found that 65,000 families were displaced during the 1988-1994 conflict between azerbaijan and armenia over nagorno-karabakh.                                                  \n",
       "10  several homes have been damaged and a woman had to be rescued after her house was washed away in a landslide in victoria's north-east on tuesday night.                                                                \n",
       "11  four homes were flooded.                                                                                                                                                                                               \n",
       "12  country fire authority deputy incident controller mark gunning said 116 houses in wye river and separation creek had been destroyed in the 2200-hectare blaze.                                                         \n",
       "13  “it will be a very difficult few days, though, indeed many weeks, for those who have lost their homes, or at least have lost a premises.                                                                               \n",
       "14  the czech government declared a state of emergency sunday, deploying 2,000 troops in its rescue drive as more than 8,000 people were evacuated from their homes, officials said.                                       "
      ]
     },
     "execution_count": 229,
     "metadata": {},
     "output_type": "execute_result"
    }
   ],
   "source": [
    "relevant_sentences = pd.DataFrame(relevant_sentences)\n",
    "relevant_sentences.head(15)"
   ]
  },
  {
   "cell_type": "code",
   "execution_count": 232,
   "metadata": {
    "collapsed": false
   },
   "outputs": [],
   "source": [
    "def relevant_article(article):\n",
    "    relevant_sentences = parse_article(article)\n",
    "    if len(relevant_sentences) > 0:\n",
    "        return True\n",
    "    else:\n",
    "        return False"
   ]
  },
  {
   "cell_type": "code",
   "execution_count": 233,
   "metadata": {
    "collapsed": false
   },
   "outputs": [
    {
     "name": "stdout",
     "output_type": "stream",
     "text": [
      "Total articles in sample is 291\n"
     ]
    }
   ],
   "source": [
    "total_sample = len(df)\n",
    "print(\"Total articles in sample is {}\".format(total_sample))"
   ]
  },
  {
   "cell_type": "code",
   "execution_count": 236,
   "metadata": {
    "collapsed": false
   },
   "outputs": [],
   "source": [
    "df['is_relevant'] = df['content'].apply(relevant_article)"
   ]
  },
  {
   "cell_type": "code",
   "execution_count": 238,
   "metadata": {
    "collapsed": true
   },
   "outputs": [],
   "source": [
    "pc_relevant = (df['is_relevant'] == 1).sum() / total_sample * 100"
   ]
  },
  {
   "cell_type": "code",
   "execution_count": 239,
   "metadata": {
    "collapsed": false
   },
   "outputs": [
    {
     "name": "stdout",
     "output_type": "stream",
     "text": [
      "% of apparently relevant articles in sample is 61%\n"
     ]
    }
   ],
   "source": [
    "print(\"% of apparently relevant articles in sample is {:.0f}%\".format(pc_relevant))"
   ]
  },
  {
   "cell_type": "markdown",
   "metadata": {},
   "source": [
    "##### Obviously this is not using a complete list of terms, actions etc., and there are likely other types of phrases that need to be identified"
   ]
  },
  {
   "cell_type": "code",
   "execution_count": null,
   "metadata": {
    "collapsed": true
   },
   "outputs": [],
   "source": []
  }
 ],
 "metadata": {
  "kernelspec": {
   "display_name": "Python [Root]",
   "language": "python",
   "name": "Python [Root]"
  },
  "language_info": {
   "codemirror_mode": {
    "name": "ipython",
    "version": 3
   },
   "file_extension": ".py",
   "mimetype": "text/x-python",
   "name": "python",
   "nbconvert_exporter": "python",
   "pygments_lexer": "ipython3",
   "version": "3.5.2"
  }
 },
 "nbformat": 4,
 "nbformat_minor": 0
}
