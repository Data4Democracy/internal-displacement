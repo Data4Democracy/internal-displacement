{
 "cells": [
  {
   "cell_type": "code",
   "execution_count": 121,
   "metadata": {
    "collapsed": true
   },
   "outputs": [],
   "source": [
    "import pandas as pd\n",
    "import nltk\n",
    "import numpy as np\n",
    "from scipy.sparse import linalg\n",
    "\n",
    "import matplotlib.pyplot as plt\n",
    "%matplotlib inline\n",
    "\n",
    "from sklearn.feature_extraction.text import TfidfVectorizer\n",
    "from sklearn.pipeline import make_pipeline\n",
    "from sklearn import model_selection\n",
    "from sklearn import svm\n",
    "from sklearn.linear_model import RidgeClassifier\n",
    "from sklearn import decomposition\n",
    "from sklearn.metrics import f1_score\n",
    "from sklearn.metrics import precision_score\n",
    "from sklearn.metrics import recall_score\n",
    "from sklearn.model_selection import learning_curve\n",
    "from sklearn.metrics import classification_report\n",
    "from sklearn import exceptions\n",
    "\n",
    "import warnings\n",
    "warnings.simplefilter(action = \"ignore\", category = exceptions.UndefinedMetricWarning)"
   ]
  },
  {
   "cell_type": "code",
   "execution_count": 2,
   "metadata": {
    "collapsed": true
   },
   "outputs": [],
   "source": [
    "df = pd.read_csv('../article_contents.csv')"
   ]
  },
  {
   "cell_type": "code",
   "execution_count": 3,
   "metadata": {
    "collapsed": false
   },
   "outputs": [
    {
     "data": {
      "text/plain": [
       "291"
      ]
     },
     "execution_count": 3,
     "metadata": {},
     "output_type": "execute_result"
    }
   ],
   "source": [
    "len(df)"
   ]
  },
  {
   "cell_type": "code",
   "execution_count": 4,
   "metadata": {
    "collapsed": false
   },
   "outputs": [
    {
     "data": {
      "text/html": [
       "<div>\n",
       "<table border=\"1\" class=\"dataframe\">\n",
       "  <thead>\n",
       "    <tr style=\"text-align: right;\">\n",
       "      <th></th>\n",
       "      <th>country</th>\n",
       "      <th>url</th>\n",
       "      <th>tag</th>\n",
       "      <th>title</th>\n",
       "      <th>meta_description</th>\n",
       "      <th>content</th>\n",
       "    </tr>\n",
       "  </thead>\n",
       "  <tbody>\n",
       "    <tr>\n",
       "      <th>0</th>\n",
       "      <td>Afghanistan</td>\n",
       "      <td>http://www.independent.co.uk/news/world/asia/1...</td>\n",
       "      <td>Disasters</td>\n",
       "      <td>160 killed and hundreds left stranded by flood...</td>\n",
       "      <td>Flash flooding across Afghanistan and Pakistan...</td>\n",
       "      <td>Flash flooding across Afghanistan and Pakistan...</td>\n",
       "    </tr>\n",
       "  </tbody>\n",
       "</table>\n",
       "</div>"
      ],
      "text/plain": [
       "       country                                                url        tag  \\\n",
       "0  Afghanistan  http://www.independent.co.uk/news/world/asia/1...  Disasters   \n",
       "\n",
       "                                               title  \\\n",
       "0  160 killed and hundreds left stranded by flood...   \n",
       "\n",
       "                                    meta_description  \\\n",
       "0  Flash flooding across Afghanistan and Pakistan...   \n",
       "\n",
       "                                             content  \n",
       "0  Flash flooding across Afghanistan and Pakistan...  "
      ]
     },
     "execution_count": 4,
     "metadata": {},
     "output_type": "execute_result"
    }
   ],
   "source": [
    "df.head(1)"
   ]
  },
  {
   "cell_type": "code",
   "execution_count": 5,
   "metadata": {
    "collapsed": true
   },
   "outputs": [],
   "source": [
    "def prepare_data(df):\n",
    "    df['meta_description'].fillna('', inplace=True)\n",
    "    df['content'].fillna('', inplace=True)\n",
    "    df['title'].fillna('', inplace=True)\n",
    "    df['all_text'] = df['title'] + ' ' + df['meta_description'] + ' ' + df['content']\n",
    "    \n",
    "    tokenizer = nltk.tokenize.WordPunctTokenizer()\n",
    "    lemmatizer = nltk.stem.WordNetLemmatizer()\n",
    "    \n",
    "    all_text = df['all_text'].apply(lambda x: tokenizer.tokenize(x))\n",
    "    all_text = all_text.apply(lambda x: [lemmatizer.lemmatize(t) for t in x])\n",
    "    all_text = all_text.apply(lambda x: ' '.join([t for t in x if not any(d.isdigit() for d in t)]))\n",
    "    \n",
    "    \n",
    "    titles = df['title'].apply(lambda x: tokenizer.tokenize(x))\n",
    "    titles = titles.apply(lambda x: [lemmatizer.lemmatize(t) for t in x])\n",
    "    titles = titles.apply(lambda x: ' '.join([t for t in x if not any(d.isdigit() for d in t)]))\n",
    "    \n",
    "    labels = df['tag'].map({'Conflict and violence': 1, 'Disasters': 0})\n",
    "    \n",
    "    return all_text, titles, labels"
   ]
  },
  {
   "cell_type": "code",
   "execution_count": null,
   "metadata": {
    "collapsed": true
   },
   "outputs": [],
   "source": [
    "def lsi_model(tfidf_text=None, svd_text=None, k=50, seed=42):\n",
    "    tfidf = TfidfVectorizer(ngram_range=(1,4), stop_words='english')\n",
    "    tfidf_model = tfidf.fit(tfidf)"
   ]
  },
  {
   "cell_type": "code",
   "execution_count": 10,
   "metadata": {
    "collapsed": false
   },
   "outputs": [],
   "source": [
    "train_text, train_titles, train_labels = prepare_data(df)"
   ]
  },
  {
   "cell_type": "code",
   "execution_count": 11,
   "metadata": {
    "collapsed": false
   },
   "outputs": [],
   "source": [
    "news = nltk.corpus.reuters\n",
    "reuters_docs = [news.raw(n) for n in news.fileids()]"
   ]
  },
  {
   "cell_type": "code",
   "execution_count": 12,
   "metadata": {
    "collapsed": true
   },
   "outputs": [],
   "source": [
    "def remove_newline(text):\n",
    "    ''' Removes new line and &nbsp characters.\n",
    "    '''\n",
    "    text = text.replace('\\n', ' ')\n",
    "    text = text.replace('\\xa0', ' ')\n",
    "    text = text.replace('\\\\', '')\n",
    "    return text\n",
    "\n",
    "for i, _ in enumerate(reuters_docs):\n",
    "    reuters_docs[i] = remove_newline(reuters_docs[i])"
   ]
  },
  {
   "cell_type": "code",
   "execution_count": 13,
   "metadata": {
    "collapsed": true
   },
   "outputs": [],
   "source": [
    "for text in train_text:\n",
    "    reuters_docs.append(text)"
   ]
  },
  {
   "cell_type": "code",
   "execution_count": 160,
   "metadata": {
    "collapsed": true
   },
   "outputs": [],
   "source": [
    "tfidf = TfidfVectorizer(ngram_range=(1,4), stop_words='english')\n",
    "tfidf_reuters = tfidf.fit(reuters_docs)\n",
    "#tfidf_train = tfidf.fit(train_text)"
   ]
  },
  {
   "cell_type": "code",
   "execution_count": 161,
   "metadata": {
    "collapsed": true
   },
   "outputs": [],
   "source": [
    "del(train_text_tfidf)"
   ]
  },
  {
   "cell_type": "code",
   "execution_count": 162,
   "metadata": {
    "collapsed": false
   },
   "outputs": [],
   "source": [
    "#train_text_tfidf = tfidf.transform(train_text)\n",
    "train_titles_tfidf = tfidf.transform(train_titles)"
   ]
  },
  {
   "cell_type": "code",
   "execution_count": 163,
   "metadata": {
    "collapsed": true
   },
   "outputs": [],
   "source": [
    "reuters_tfids = tfidf.transform(train_titles)"
   ]
  },
  {
   "cell_type": "code",
   "execution_count": 100,
   "metadata": {
    "collapsed": false
   },
   "outputs": [
    {
     "data": {
      "text/plain": [
       "<291x1990846 sparse matrix of type '<class 'numpy.float64'>'\n",
       "\twith 5255 stored elements in Compressed Sparse Row format>"
      ]
     },
     "execution_count": 100,
     "metadata": {},
     "output_type": "execute_result"
    }
   ],
   "source": [
    "train_titles_tfidf"
   ]
  },
  {
   "cell_type": "code",
   "execution_count": 173,
   "metadata": {
    "collapsed": false
   },
   "outputs": [
    {
     "data": {
      "text/plain": [
       "TruncatedSVD(algorithm='randomized', n_components=25, n_iter=5,\n",
       "       random_state=None, tol=0.0)"
      ]
     },
     "execution_count": 173,
     "metadata": {},
     "output_type": "execute_result"
    }
   ],
   "source": [
    "svd = decomposition.TruncatedSVD(n_components=25)\n",
    "#svd.fit(train_text_tfidf)\n",
    "#svd.fit(train_titles_tfidf)\n",
    "svd.fit(train_titles_tfidf)"
   ]
  },
  {
   "cell_type": "code",
   "execution_count": 174,
   "metadata": {
    "collapsed": true
   },
   "outputs": [],
   "source": [
    "#train_text_svd = svd.transform(train_text_tfidf)\n",
    "train_titles_svd = svd.transform(train_titles_tfidf)"
   ]
  },
  {
   "cell_type": "code",
   "execution_count": 175,
   "metadata": {
    "collapsed": false
   },
   "outputs": [
    {
     "data": {
      "text/plain": [
       "[<matplotlib.lines.Line2D at 0x7ffad5bdc1d0>]"
      ]
     },
     "execution_count": 175,
     "metadata": {},
     "output_type": "execute_result"
    },
    {
     "data": {
      "image/png": "[encoded data removed]",
      "text/plain": [
       "<matplotlib.figure.Figure at 0x7ffad4d7da58>"
      ]
     },
     "metadata": {},
     "output_type": "display_data"
    }
   ],
   "source": [
    "plt.plot(svd.explained_variance_)"
   ]
  },
  {
   "cell_type": "code",
   "execution_count": 124,
   "metadata": {
    "collapsed": false
   },
   "outputs": [],
   "source": [
    "param_grid = [{'kernel': ['linear'], \n",
    "              'gamma': [.01, .03, 0.1, 0.3, 1.0, 3.0],\n",
    "              'class_weight':[{0:1,1:1}, {0:1, 1:3}, {0:1, 1:4}, {0:1, 1:5}],\n",
    "              'C': [1/x for x in [.003 , .01, .03, 0.1, 0.3, 1.0, 3.0, 10.0]]}]\n",
    "\n",
    "scores = ['precision', 'recall']\n",
    "\n",
    "svc = svm.SVC()\n",
    "clf = model_selection.GridSearchCV(svc, param_grid=param_grid, cv=5, scoring='f1')"
   ]
  },
  {
   "cell_type": "code",
   "execution_count": 194,
   "metadata": {
    "collapsed": false,
    "scrolled": true
   },
   "outputs": [
    {
     "data": {
      "text/plain": [
       "GridSearchCV(cv=5, error_score='raise',\n",
       "       estimator=SVC(C=1.0, cache_size=200, class_weight=None, coef0=0.0,\n",
       "  decision_function_shape=None, degree=3, gamma='auto', kernel='rbf',\n",
       "  max_iter=-1, probability=False, random_state=None, shrinking=True,\n",
       "  tol=0.001, verbose=False),\n",
       "       fit_params={}, iid=True, n_jobs=1,\n",
       "       param_grid=[{'kernel': ['linear'], 'gamma': [0.01, 0.03, 0.1, 0.3, 1.0, 3.0], 'class_weight': [{0: 1, 1: 1}, {0: 1, 1: 3}, {0: 1, 1: 4}, {0: 1, 1: 5}], 'C': [333.3333333333333, 100.0, 33.333333333333336, 10.0, 3.3333333333333335, 1.0, 0.3333333333333333, 0.1]}],\n",
       "       pre_dispatch='2*n_jobs', refit=True, return_train_score=True,\n",
       "       scoring='f1', verbose=0)"
      ]
     },
     "execution_count": 194,
     "metadata": {},
     "output_type": "execute_result"
    }
   ],
   "source": [
    "clf.fit(train_titles_svd, train_labels)"
   ]
  },
  {
   "cell_type": "code",
   "execution_count": 195,
   "metadata": {
    "collapsed": false
   },
   "outputs": [
    {
     "data": {
      "text/plain": [
       "0.52310042000763657"
      ]
     },
     "execution_count": 195,
     "metadata": {},
     "output_type": "execute_result"
    }
   ],
   "source": [
    "clf.best_score_"
   ]
  },
  {
   "cell_type": "code",
   "execution_count": 196,
   "metadata": {
    "collapsed": false
   },
   "outputs": [
    {
     "data": {
      "text/plain": [
       "{'C': 333.3333333333333,\n",
       " 'class_weight': {0: 1, 1: 5},\n",
       " 'gamma': 0.01,\n",
       " 'kernel': 'linear'}"
      ]
     },
     "execution_count": 196,
     "metadata": {},
     "output_type": "execute_result"
    }
   ],
   "source": [
    "clf.best_params_"
   ]
  },
  {
   "cell_type": "code",
   "execution_count": 197,
   "metadata": {
    "collapsed": true
   },
   "outputs": [],
   "source": [
    "best_clf = clf.best_estimator_"
   ]
  },
  {
   "cell_type": "code",
   "execution_count": 200,
   "metadata": {
    "collapsed": false
   },
   "outputs": [],
   "source": [
    "best_predictions = clf.predict(train_titles_svd)"
   ]
  },
  {
   "cell_type": "code",
   "execution_count": 201,
   "metadata": {
    "collapsed": false
   },
   "outputs": [
    {
     "name": "stdout",
     "output_type": "stream",
     "text": [
      "                       precision    recall  f1-score   support\n",
      "\n",
      "            Disasters       0.99      0.94      0.96       260\n",
      "Conflict and violence       0.65      0.90      0.76        31\n",
      "\n",
      "          avg / total       0.95      0.94      0.94       291\n",
      "\n"
     ]
    }
   ],
   "source": [
    "target_names = ['Disasters', 'Conflict and violence']\n",
    "print(classification_report(train_labels, best_predictions, target_names=target_names))"
   ]
  },
  {
   "cell_type": "markdown",
   "metadata": {},
   "source": [
    "# Learning Curves"
   ]
  },
  {
   "cell_type": "code",
   "execution_count": 202,
   "metadata": {
    "collapsed": true
   },
   "outputs": [],
   "source": [
    "train_sizes, train_scores, valid_scores = learning_curve(\n",
    "    best_clf, train_text_svd, train_labels, train_sizes=[50, 60, 100, 150, 200, 231], cv=5)"
   ]
  },
  {
   "cell_type": "code",
   "execution_count": 203,
   "metadata": {
    "collapsed": true
   },
   "outputs": [],
   "source": [
    "train_scores = [np.mean(x) for x in train_scores]\n",
    "valid_scores = [np.mean(x) for x in valid_scores]"
   ]
  },
  {
   "cell_type": "code",
   "execution_count": 204,
   "metadata": {
    "collapsed": false
   },
   "outputs": [
    {
     "data": {
      "text/plain": [
       "[<matplotlib.lines.Line2D at 0x7ff9370922b0>]"
      ]
     },
     "execution_count": 204,
     "metadata": {},
     "output_type": "execute_result"
    },
    {
     "data": {
      "image/png": "[encoded data removed]",
      "text/plain": [
       "<matplotlib.figure.Figure at 0x7ff937092e80>"
      ]
     },
     "metadata": {},
     "output_type": "display_data"
    }
   ],
   "source": [
    "plt.plot(train_sizes, train_scores)\n",
    "plt.plot(train_sizes, valid_scores)"
   ]
  },
  {
   "cell_type": "markdown",
   "metadata": {},
   "source": [
    "# Testing"
   ]
  },
  {
   "cell_type": "code",
   "execution_count": 185,
   "metadata": {
    "collapsed": true
   },
   "outputs": [],
   "source": [
    "df_test = pd.read_csv('../article_contents2.csv')"
   ]
  },
  {
   "cell_type": "code",
   "execution_count": 186,
   "metadata": {
    "collapsed": false
   },
   "outputs": [
    {
     "data": {
      "text/html": [
       "<div>\n",
       "<table border=\"1\" class=\"dataframe\">\n",
       "  <thead>\n",
       "    <tr style=\"text-align: right;\">\n",
       "      <th></th>\n",
       "      <th>Unnamed: 0</th>\n",
       "      <th>title</th>\n",
       "      <th>meta_description</th>\n",
       "      <th>content</th>\n",
       "      <th>url</th>\n",
       "      <th>tag</th>\n",
       "    </tr>\n",
       "  </thead>\n",
       "  <tbody>\n",
       "    <tr>\n",
       "      <th>0</th>\n",
       "      <td>0</td>\n",
       "      <td>Islamist violence strains a poor nation's warm...</td>\n",
       "      <td>DIFFA, Niger (Reuters) - Unlike many victims o...</td>\n",
       "      <td>DIFFA, Niger (Reuters) - Unlike many victims o...</td>\n",
       "      <td>http://www.thefiscaltimes.com/latestnews/2016/...</td>\n",
       "      <td>Conflict and violence</td>\n",
       "    </tr>\n",
       "  </tbody>\n",
       "</table>\n",
       "</div>"
      ],
      "text/plain": [
       "   Unnamed: 0                                              title  \\\n",
       "0           0  Islamist violence strains a poor nation's warm...   \n",
       "\n",
       "                                    meta_description  \\\n",
       "0  DIFFA, Niger (Reuters) - Unlike many victims o...   \n",
       "\n",
       "                                             content  \\\n",
       "0  DIFFA, Niger (Reuters) - Unlike many victims o...   \n",
       "\n",
       "                                                 url                    tag  \n",
       "0  http://www.thefiscaltimes.com/latestnews/2016/...  Conflict and violence  "
      ]
     },
     "execution_count": 186,
     "metadata": {},
     "output_type": "execute_result"
    }
   ],
   "source": [
    "df_test.head(1)"
   ]
  },
  {
   "cell_type": "code",
   "execution_count": null,
   "metadata": {
    "collapsed": true
   },
   "outputs": [],
   "source": [
    "drop 19, 20"
   ]
  },
  {
   "cell_type": "code",
   "execution_count": 187,
   "metadata": {
    "collapsed": true
   },
   "outputs": [],
   "source": [
    "df_test.drop('Unnamed: 0', axis=1, inplace=True)"
   ]
  },
  {
   "cell_type": "code",
   "execution_count": 188,
   "metadata": {
    "collapsed": false
   },
   "outputs": [],
   "source": [
    "df_test.drop(19, inplace=True)\n",
    "df_test.drop(20, inplace=True)"
   ]
  },
  {
   "cell_type": "code",
   "execution_count": 157,
   "metadata": {
    "collapsed": true
   },
   "outputs": [],
   "source": [
    "df_test.drop(20, inplace=True)"
   ]
  },
  {
   "cell_type": "code",
   "execution_count": 189,
   "metadata": {
    "collapsed": false
   },
   "outputs": [
    {
     "data": {
      "text/plain": [
       "title               UN to Place This Nation Under Scrutiny for Gha...\n",
       "meta_description    Sudan's president, Omar al-Bashir, is the worl...\n",
       "content             The Sudanese Church of Christ, Bahri, North Kh...\n",
       "url                 http://www.charismanews.com/world/56936-un-to-...\n",
       "tag                                             Conflict and violence\n",
       "Name: 22, dtype: object"
      ]
     },
     "execution_count": 189,
     "metadata": {},
     "output_type": "execute_result"
    }
   ],
   "source": [
    "df_test.iloc[20]"
   ]
  },
  {
   "cell_type": "code",
   "execution_count": 190,
   "metadata": {
    "collapsed": true
   },
   "outputs": [],
   "source": [
    "test_text, test_titles, test_labels = prepare_data(df_test)\n",
    "test_labels.fillna(0, inplace=True)"
   ]
  },
  {
   "cell_type": "code",
   "execution_count": 191,
   "metadata": {
    "collapsed": true
   },
   "outputs": [],
   "source": [
    "test_text_tfidf = tfidf.transform(test_text)\n",
    "test_text_svd = svd.transform(test_text_tfidf)"
   ]
  },
  {
   "cell_type": "code",
   "execution_count": 192,
   "metadata": {
    "collapsed": true
   },
   "outputs": [],
   "source": [
    "test_titles_tfidf = tfidf.transform(test_titles)\n",
    "test_titles_svd = svd.transform(test_titles_tfidf)"
   ]
  },
  {
   "cell_type": "code",
   "execution_count": 205,
   "metadata": {
    "collapsed": false
   },
   "outputs": [],
   "source": [
    "predictions = best_clf.predict(test_titles_svd)"
   ]
  },
  {
   "cell_type": "code",
   "execution_count": 206,
   "metadata": {
    "collapsed": false
   },
   "outputs": [
    {
     "data": {
      "text/plain": [
       "array([1, 0, 0, 1, 1, 0, 0, 0, 0, 1, 0, 0, 0, 0, 0, 0, 0, 1, 1, 1, 1, 0, 0,\n",
       "       1, 1, 0, 1, 1, 0, 0, 1, 0, 0, 1, 1, 0, 0, 1, 0, 1, 1, 1, 0, 0, 0, 0,\n",
       "       1, 0, 1, 0, 0, 0, 0, 0, 1, 1, 0, 0, 1, 0, 1, 0, 0, 0, 1, 0, 0, 0, 1,\n",
       "       1, 0, 0, 0])"
      ]
     },
     "execution_count": 206,
     "metadata": {},
     "output_type": "execute_result"
    }
   ],
   "source": [
    "predictions"
   ]
  },
  {
   "cell_type": "code",
   "execution_count": 207,
   "metadata": {
    "collapsed": false
   },
   "outputs": [
    {
     "data": {
      "text/plain": [
       "0.60273972602739723"
      ]
     },
     "execution_count": 207,
     "metadata": {},
     "output_type": "execute_result"
    }
   ],
   "source": [
    "sum(predictions == test_labels)/len(test_labels)"
   ]
  },
  {
   "cell_type": "code",
   "execution_count": 143,
   "metadata": {
    "collapsed": false
   },
   "outputs": [
    {
     "name": "stdout",
     "output_type": "stream",
     "text": [
      "                       precision    recall  f1-score   support\n",
      "\n",
      "            Disasters       0.76      0.88      0.81        42\n",
      "Conflict and violence       0.81      0.64      0.71        33\n",
      "\n",
      "          avg / total       0.78      0.77      0.77        75\n",
      "\n"
     ]
    }
   ],
   "source": [
    "target_names = ['Disasters', 'Conflict and violence']\n",
    "print(classification_report(test_labels, predictions, target_names=target_names))"
   ]
  },
  {
   "cell_type": "markdown",
   "metadata": {},
   "source": [
    "# Appendix 1 - Approaches"
   ]
  },
  {
   "cell_type": "markdown",
   "metadata": {},
   "source": [
    "## Approach 1\n",
    "\n",
    "0.59\n",
    "\n",
    "1. Fit TfIdf on training data\n",
    "2. Fit SVD on training data (k=200)\n",
    "3. Transform training data with SVD\n",
    "4. Optimise SVM classifier\n",
    "\n",
    "```\n",
    "precision    recall  f1-score   support\n",
    "\n",
    "            Disasters       1.00      0.99      1.00       260\n",
    "Conflict and violence       0.94      1.00      0.97        31\n",
    "\n",
    "          avg / total       0.99      0.99      0.99       291\n",
    "```          \n",
    "5. Best classifier on test data\n",
    "\n",
    "```\n",
    "precision    recall  f1-score   support\n",
    "\n",
    "            Disasters       0.58      1.00      0.74        42\n",
    "Conflict and violence       1.00      0.09      0.17        33\n",
    "\n",
    "          avg / total       0.77      0.60      0.49        75\n",
    "```"
   ]
  },
  {
   "cell_type": "markdown",
   "metadata": {},
   "source": [
    "## Approach 2\n",
    "\n",
    "0.72\n",
    "\n",
    "1. Fit TfIdf on Reuters corpus\n",
    "2. Fit SVD on training data (k=100)\n",
    "3. Transform training data with SVD\n",
    "4. Optimise SVM classifier\n",
    "\n",
    "```\n",
    "                       precision    recall  f1-score   support\n",
    "\n",
    "            Disasters       1.00      0.98      0.99       260\n",
    "Conflict and violence       0.84      1.00      0.91        31\n",
    "\n",
    "          avg / total       0.98      0.98      0.98       291\n",
    "```          \n",
    "5. Best classifier on test data\n",
    "\n",
    "```\n",
    "                       precision    recall  f1-score   support\n",
    "\n",
    "            Disasters       0.67      0.98      0.80        42\n",
    "Conflict and violence       0.93      0.39      0.55        33\n",
    "\n",
    "          avg / total       0.78      0.72      0.69        75\n",
    "```"
   ]
  },
  {
   "cell_type": "markdown",
   "metadata": {},
   "source": [
    "## Approach 3\n",
    "\n",
    "0.57\n",
    "\n",
    "1. Fit TfIdf on Reuters corpus\n",
    "2. Fit SVD on training data (k=50)\n",
    "3. Transform training data with SVD\n",
    "4. Optimise SVM classifier\n",
    "\n",
    "```\n",
    "                       precision    recall  f1-score   support\n",
    "\n",
    "            Disasters       1.00      0.98      0.99       260\n",
    "Conflict and violence       0.84      1.00      0.91        31\n",
    "\n",
    "          avg / total       0.98      0.98      0.98       291\n",
    "```          \n",
    "5. Best classifier on test data\n",
    "\n",
    "```\n",
    "                       precision    recall  f1-score   support\n",
    "\n",
    "            Disasters       0.67      0.98      0.80        42\n",
    "Conflict and violence       0.93      0.39      0.55        33\n",
    "\n",
    "          avg / total       0.78      0.72      0.69        75\n",
    "```"
   ]
  },
  {
   "cell_type": "markdown",
   "metadata": {},
   "source": [
    "## Approach 4\n",
    "\n",
    "0.77\n",
    "\n",
    "1. Fit TfIdf on Reuters corpus\n",
    "2. Fit SVD on training titles (k=50)\n",
    "3. Transform training data with SVD\n",
    "4. Optimise SVM classifier\n",
    "\n",
    "```\n",
    "                       precision    recall  f1-score   support\n",
    "\n",
    "            Disasters       1.00      0.98      0.99       260\n",
    "Conflict and violence       0.88      0.97      0.92        31\n",
    "\n",
    "          avg / total       0.98      0.98      0.98       291\n",
    "```\n",
    "\n",
    "5. Best classifier on test data\n",
    "\n",
    "```\n",
    "                       precision    recall  f1-score   support\n",
    "\n",
    "            Disasters       0.57      0.93      0.71        42\n",
    "Conflict and violence       0.57      0.12      0.20        33\n",
    "\n",
    "          avg / total       0.57      0.57      0.49        75\n",
    "```\n",
    "\n"
   ]
  },
  {
   "cell_type": "code",
   "execution_count": null,
   "metadata": {
    "collapsed": true
   },
   "outputs": [],
   "source": []
  }
 ],
 "metadata": {
  "kernelspec": {
   "display_name": "Python 3",
   "language": "python",
   "name": "python3"
  },
  "language_info": {
   "codemirror_mode": {
    "name": "ipython",
    "version": 3
   },
   "file_extension": ".py",
   "mimetype": "text/x-python",
   "name": "python",
   "nbconvert_exporter": "python",
   "pygments_lexer": "ipython3",
   "version": "3.6.0"
  }
 },
 "nbformat": 4,
 "nbformat_minor": 2
}
