{
 "cells": [
  {
   "cell_type": "code",
   "execution_count": 1,
   "metadata": {
    "collapsed": false
   },
   "outputs": [],
   "source": [
    "%load_ext autoreload\n",
    "%autoreload 2\n",
    "# Change these to True to set up the DB the first time\n",
    "i_know_this_will_delete_everything = True\n",
    "initialize_id_test = True\n",
    "initialize_id = False\n",
    "\n",
    "import os\n",
    "import sys\n",
    "module_path = os.path.abspath(os.path.join('..'))\n",
    "if module_path not in sys.path:\n",
    "    sys.path.append(module_path)\n",
    "from internal_displacement.model.model import init_db\n",
    "\n",
    "db_host = os.environ.get('DB_HOST')\n",
    "\n",
    "if initialize_id:\n",
    "    db_url = 'postgresql://{user}:{password}@{db_host}/{db}'.format(\n",
    "        user='jupyter', password='jupyter', db_host=db_host, db='id')\n",
    "    init_db(db_url, i_know_this_will_delete_everything=i_know_this_will_delete_everything)\n",
    "    \n",
    "if initialize_id_test:\n",
    "    db_url = 'postgresql://{user}:{password}@{db_host}/{db}'.format(\n",
    "        user='jupyter', password='tester', db_host=db_host, db='id_test')\n",
    "    init_db(db_url, i_know_this_will_delete_everything=i_know_this_will_delete_everything)"
   ]
  },
  {
   "cell_type": "code",
   "execution_count": 2,
   "metadata": {
    "collapsed": true
   },
   "outputs": [],
   "source": [
    "import spacy\n",
    "import json\n",
    "from sqlalchemy import create_engine\n",
    "from sqlalchemy import exc\n",
    "from datetime import datetime\n",
    "from internal_displacement.model.model import Status, Session, Category, Article, Content, Country, CountryTerm, \\\n",
    "    Location, Report, ReportDateSpan, ArticleCategory, Base\n",
    "from internal_displacement.scraper import Scraper\n",
    "from internal_displacement.interpreter import Interpreter\n",
    "from internal_displacement.pipeline import Pipeline\n",
    "from internal_displacement.add_countries import load_countries, delete_countries\n",
    "import pandas as pd"
   ]
  },
  {
   "cell_type": "code",
   "execution_count": 3,
   "metadata": {
    "collapsed": true
   },
   "outputs": [],
   "source": [
    "engine = create_engine(db_url)\n",
    "Session.configure(bind=engine)\n",
    "session = Session()"
   ]
  },
  {
   "cell_type": "code",
   "execution_count": 4,
   "metadata": {
    "collapsed": true
   },
   "outputs": [],
   "source": [
    "load_countries(session)"
   ]
  },
  {
   "cell_type": "code",
   "execution_count": 5,
   "metadata": {
    "collapsed": false
   },
   "outputs": [],
   "source": [
    "scraper = Scraper()\n",
    "nlp = spacy.load('en')\n",
    "person_reporting_terms = [\n",
    "    'displaced', 'evacuated', 'forced', 'flee', 'homeless', 'relief camp',\n",
    "    'sheltered', 'relocated', 'stranded', 'stuck', 'stranded', \"killed\", \"dead\", \"died\", \"drown\"\n",
    "]\n",
    "\n",
    "structure_reporting_terms = [\n",
    "    'destroyed', 'damaged', 'swept', 'collapsed',\n",
    "    'flooded', 'washed', 'inundated', 'evacuate'\n",
    "]\n",
    "\n",
    "person_reporting_units = [\"families\", \"person\", \"people\", \"individuals\", \"locals\", \"villagers\", \"residents\",\n",
    "                            \"occupants\", \"citizens\", \"households\", \"life\"]\n",
    "\n",
    "structure_reporting_units = [\"home\", \"house\", \"hut\", \"dwelling\", \"building\", \"shop\", \"business\", \"apartment\",\n",
    "                                     \"flat\", \"residence\"]\n",
    "\n",
    "relevant_article_terms = ['Rainstorm', 'hurricane',\n",
    "                          'tornado', 'rain', 'storm', 'earthquake']\n",
    "relevant_article_lemmas = [t.lemma_ for t in nlp(\n",
    "    \" \".join(relevant_article_terms))]\n",
    "\n",
    "data_path = '../data'"
   ]
  },
  {
   "cell_type": "code",
   "execution_count": 6,
   "metadata": {
    "collapsed": false
   },
   "outputs": [],
   "source": [
    "interpreter = Interpreter(nlp, person_reporting_terms, structure_reporting_terms, person_reporting_units,\n",
    "                          structure_reporting_units, relevant_article_lemmas, data_path,\n",
    "                          model_path='../internal_displacement/classifiers/default_model.pkl',\n",
    "                          encoder_path='../internal_displacement/classifiers/default_encoder.pkl')"
   ]
  },
  {
   "cell_type": "code",
   "execution_count": 7,
   "metadata": {
    "collapsed": true
   },
   "outputs": [],
   "source": [
    "pipeline = Pipeline(session, scraper, interpreter)"
   ]
  },
  {
   "cell_type": "code",
   "execution_count": 8,
   "metadata": {
    "collapsed": true
   },
   "outputs": [],
   "source": [
    "test_urls = pd.read_csv('../data_extract/idmc_uniteideas_training_dataset.csv')"
   ]
  },
  {
   "cell_type": "code",
   "execution_count": 9,
   "metadata": {
    "collapsed": false
   },
   "outputs": [],
   "source": [
    "test_urls = test_urls['URL'].tolist()"
   ]
  },
  {
   "cell_type": "code",
   "execution_count": 22,
   "metadata": {
    "collapsed": false
   },
   "outputs": [],
   "source": [
    "for url in test_urls[:20]:\n",
    "    try:\n",
    "        pipeline.process_url(url)\n",
    "    except exc.IntegrityError:\n",
    "        session.rollback()"
   ]
  },
  {
   "cell_type": "code",
   "execution_count": 23,
   "metadata": {
    "collapsed": false
   },
   "outputs": [
    {
     "data": {
      "text/plain": [
       "20"
      ]
     },
     "execution_count": 23,
     "metadata": {},
     "output_type": "execute_result"
    }
   ],
   "source": [
    "session.query(Article).count()"
   ]
  },
  {
   "cell_type": "code",
   "execution_count": 24,
   "metadata": {
    "collapsed": true
   },
   "outputs": [],
   "source": [
    "article = session.query(Article).filter_by(id=19).first()"
   ]
  },
  {
   "cell_type": "code",
   "execution_count": 25,
   "metadata": {
    "collapsed": false
   },
   "outputs": [
    {
     "data": {
      "text/plain": [
       "'http://floodlist.com/africa/torrential-rains-destroy-400-homes-in-algeria'"
      ]
     },
     "execution_count": 25,
     "metadata": {},
     "output_type": "execute_result"
    }
   ],
   "source": [
    "article.url"
   ]
  },
  {
   "cell_type": "code",
   "execution_count": 26,
   "metadata": {
    "collapsed": false
   },
   "outputs": [
    {
     "data": {
      "text/plain": [
       "'processed'"
      ]
     },
     "execution_count": 26,
     "metadata": {},
     "output_type": "execute_result"
    }
   ],
   "source": [
    "article.status"
   ]
  },
  {
   "cell_type": "code",
   "execution_count": 27,
   "metadata": {
    "collapsed": false
   },
   "outputs": [
    {
     "data": {
      "text/plain": [
       "'http://floodlist.com'"
      ]
     },
     "execution_count": 27,
     "metadata": {},
     "output_type": "execute_result"
    }
   ],
   "source": [
    "article.domain"
   ]
  },
  {
   "cell_type": "code",
   "execution_count": 28,
   "metadata": {
    "collapsed": false
   },
   "outputs": [
    {
     "data": {
      "text/plain": [
       "datetime.datetime(2015, 3, 25, 13, 7, 44)"
      ]
     },
     "execution_count": 28,
     "metadata": {},
     "output_type": "execute_result"
    }
   ],
   "source": [
    "article.publication_date"
   ]
  },
  {
   "cell_type": "code",
   "execution_count": 29,
   "metadata": {
    "collapsed": false
   },
   "outputs": [
    {
     "data": {
      "text/plain": [
       "'en'"
      ]
     },
     "execution_count": 29,
     "metadata": {},
     "output_type": "execute_result"
    }
   ],
   "source": [
    "article.language"
   ]
  },
  {
   "cell_type": "code",
   "execution_count": 30,
   "metadata": {
    "collapsed": false
   },
   "outputs": [
    {
     "data": {
      "text/plain": [
       "True"
      ]
     },
     "execution_count": 30,
     "metadata": {},
     "output_type": "execute_result"
    }
   ],
   "source": [
    "article.relevance"
   ]
  },
  {
   "cell_type": "code",
   "execution_count": 34,
   "metadata": {
    "collapsed": false
   },
   "outputs": [
    {
     "data": {
      "text/plain": [
       "'other'"
      ]
     },
     "execution_count": 34,
     "metadata": {},
     "output_type": "execute_result"
    }
   ],
   "source": [
    "article.categories[0].category"
   ]
  },
  {
   "cell_type": "code",
   "execution_count": 38,
   "metadata": {
    "collapsed": false
   },
   "outputs": [
    {
     "data": {
      "text/plain": [
       "('destroy', 'residence', 400)"
      ]
     },
     "execution_count": 38,
     "metadata": {},
     "output_type": "execute_result"
    }
   ],
   "source": [
    "article.reports[0].event_term, article.reports[0].subject_term, article.reports[0].quantity"
   ]
  },
  {
   "cell_type": "code",
   "execution_count": 44,
   "metadata": {
    "collapsed": false
   },
   "outputs": [
    {
     "data": {
      "text/plain": [
       "('DZA', 'Tamanrasset')"
      ]
     },
     "execution_count": 44,
     "metadata": {},
     "output_type": "execute_result"
    }
   ],
   "source": [
    "article.reports[0].locations[0].code, article.reports[0].locations[0].description"
   ]
  },
  {
   "cell_type": "code",
   "execution_count": 45,
   "metadata": {
    "collapsed": false
   },
   "outputs": [
    {
     "name": "stdout",
     "output_type": "stream",
     "text": [
      "Algeria\n",
      "People's Democratic Republic of Algeria\n"
     ]
    }
   ],
   "source": [
    "for term in article.reports[0].locations[0].country.terms:\n",
    "    print(term.term)"
   ]
  },
  {
   "cell_type": "code",
   "execution_count": null,
   "metadata": {
    "collapsed": true
   },
   "outputs": [],
   "source": []
  }
 ],
 "metadata": {
  "kernelspec": {
   "display_name": "Python 3",
   "language": "python",
   "name": "python3"
  },
  "language_info": {
   "codemirror_mode": {
    "name": "ipython",
    "version": 3
   },
   "file_extension": ".py",
   "mimetype": "text/x-python",
   "name": "python",
   "nbconvert_exporter": "python",
   "pygments_lexer": "ipython3",
   "version": "3.5.1"
  }
 },
 "nbformat": 4,
 "nbformat_minor": 0
}
