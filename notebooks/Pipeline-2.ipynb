{
 "cells": [
  {
   "cell_type": "markdown",
   "metadata": {},
   "source": [
    "### Example notebook for processing URLs and adding results to database\n",
    "\n",
    "#### Instructions for use:\n",
    "\n",
    "1. To set up DB, set one of `initialize_id_test` or `initialize_id` to True in the cell below\n",
    "2. If you are not using the docker container, you may need to set up your own PostgreSQL db, and manually change the `user`, `password`, `db_host` and `db` variables\n",
    "3. If you have not already downloaded the pre-trained model from Dropbox, then set the `model_path` and `encoder_path` to `None` when initializing `Interpreter()` (cell 6)"
   ]
  },
  {
   "cell_type": "code",
   "execution_count": 1,
   "metadata": {
    "collapsed": false
   },
   "outputs": [],
   "source": [
    "%load_ext autoreload\n",
    "%autoreload 2\n",
    "# Change these to True to set up the DB the first time\n",
    "i_know_this_will_delete_everything = True\n",
    "initialize_id_test = True\n",
    "initialize_id = False\n",
    "\n",
    "import os\n",
    "import sys\n",
    "from sqlalchemy import create_engine\n",
    "from sqlalchemy import exc\n",
    "from sqlalchemy import func\n",
    "from sqlalchemy import Table, text\n",
    "module_path = os.path.abspath(os.path.join('..'))\n",
    "if module_path not in sys.path:\n",
    "    sys.path.append(module_path)\n",
    "from internal_displacement.model.model import Status, Session, Category, Article, Content, Country, CountryTerm, \\\n",
    "    Location, Report, ReportDateSpan, ArticleCategory, Base \n",
    "    \n",
    "def init_db(db_url, i_know_this_will_delete_everything=False):\n",
    "    \"\"\"\n",
    "    Warning! This will delete everything in the database!\n",
    "    :param session: SQLAlchemy session\n",
    "    \"\"\"\n",
    "    if not i_know_this_will_delete_everything:\n",
    "        raise RuntimeError(\"Tried to init_db without knowing it would delete everything!\")\n",
    "    sql_path = '../docker/localdb/schema.sql'\n",
    "    with open(sql_path, 'r') as schema:\n",
    "        session.execute(text(schema.read()))\n",
    "    session.commit()\n",
    "    \n",
    "db_host = os.environ.get('DB_HOST')\n",
    "\n",
    "if initialize_id:\n",
    "    db_url = 'postgresql://{user}:{password}@{db_host}/{db}'.format(\n",
    "        user='jupyter', password='jupyter', db_host=db_host, db='id')\n",
    "    \n",
    "if initialize_id_test:\n",
    "    db_url = 'postgresql://{user}:{password}@{db_host}/{db}'.format(\n",
    "        user='jupyter', password='tester', db_host=db_host, db='id_test')\n",
    "    \n",
    "engine = create_engine(db_url)\n",
    "Session.configure(bind=engine)\n",
    "session = Session()\n",
    "    \n",
    "init_db(db_url, i_know_this_will_delete_everything=i_know_this_will_delete_everything)"
   ]
  },
  {
   "cell_type": "code",
   "execution_count": 2,
   "metadata": {
    "collapsed": true
   },
   "outputs": [],
   "source": [
    "import spacy\n",
    "import json\n",
    "from datetime import datetime\n",
    "from internal_displacement.scraper import Scraper\n",
    "from internal_displacement.interpreter import Interpreter\n",
    "from internal_displacement.pipeline import Pipeline\n",
    "from internal_displacement.add_countries import load_countries, delete_countries\n",
    "import pandas as pd"
   ]
  },
  {
   "cell_type": "code",
   "execution_count": 3,
   "metadata": {
    "collapsed": true
   },
   "outputs": [],
   "source": [
    "from internal_displacement.pipeline import get_coordinates_mapzen"
   ]
  },
  {
   "cell_type": "code",
   "execution_count": 4,
   "metadata": {
    "collapsed": true
   },
   "outputs": [],
   "source": [
    "# Pre-load list of countries into the database\n",
    "load_countries(session)"
   ]
  },
  {
   "cell_type": "code",
   "execution_count": 5,
   "metadata": {
    "collapsed": false
   },
   "outputs": [],
   "source": [
    "scraper = Scraper()\n",
    "nlp = spacy.load('en')\n",
    "person_reporting_terms = [\n",
    "    'displaced', 'evacuated', 'forced', 'flee', 'homeless', 'relief camp',\n",
    "    'sheltered', 'relocated', 'stranded', 'stuck', 'stranded', \"killed\", \"dead\", \"died\", \"drown\"\n",
    "]\n",
    "\n",
    "structure_reporting_terms = [\n",
    "    'destroyed', 'damaged', 'swept', 'collapsed',\n",
    "    'flooded', 'washed', 'inundated', 'evacuate'\n",
    "]\n",
    "\n",
    "person_reporting_units = [\"families\", \"person\", \"people\", \"individuals\", \"locals\", \"villagers\", \"residents\",\n",
    "                            \"occupants\", \"citizens\", \"households\", \"life\"]\n",
    "\n",
    "structure_reporting_units = [\"home\", \"house\", \"hut\", \"dwelling\", \"building\", \"shop\", \"business\", \"apartment\",\n",
    "                                     \"flat\", \"residence\"]\n",
    "\n",
    "relevant_article_terms = ['Rainstorm', 'hurricane',\n",
    "                          'tornado', 'rain', 'storm', 'earthquake']\n",
    "relevant_article_lemmas = [t.lemma_ for t in nlp(\n",
    "    \" \".join(relevant_article_terms))]\n",
    "\n",
    "data_path = '../data'"
   ]
  },
  {
   "cell_type": "code",
   "execution_count": 6,
   "metadata": {
    "collapsed": false
   },
   "outputs": [],
   "source": [
    "interpreter = Interpreter(nlp, person_reporting_terms, structure_reporting_terms, person_reporting_units,\n",
    "                          structure_reporting_units, relevant_article_lemmas, data_path,\n",
    "                          model_path='../internal_displacement/classifiers/default_model.pkl',\n",
    "                          encoder_path='../internal_displacement/classifiers/default_encoder.pkl')"
   ]
  },
  {
   "cell_type": "code",
   "execution_count": 7,
   "metadata": {
    "collapsed": true
   },
   "outputs": [],
   "source": [
    "# Load the pipeline\n",
    "pipeline = Pipeline(session, scraper, interpreter)"
   ]
  },
  {
   "cell_type": "code",
   "execution_count": 8,
   "metadata": {
    "collapsed": true
   },
   "outputs": [],
   "source": [
    "# Load the test urls\n",
    "test_urls = pd.read_csv('../data/idmc_uniteideas_training_dataset.csv')\n",
    "test_urls = test_urls['URL'].tolist()"
   ]
  },
  {
   "cell_type": "code",
   "execution_count": 25,
   "metadata": {
    "collapsed": false
   },
   "outputs": [],
   "source": [
    "# Process the first 40 urls\n",
    "for url in test_urls[20:25]:\n",
    "    try:\n",
    "        pipeline.process_url(url)\n",
    "    except exc.IntegrityError:\n",
    "        session.rollback()"
   ]
  },
  {
   "cell_type": "code",
   "execution_count": 26,
   "metadata": {
    "collapsed": false
   },
   "outputs": [
    {
     "name": "stdout",
     "output_type": "stream",
     "text": [
      "25 articles in database\n"
     ]
    }
   ],
   "source": [
    "print(\"{} articles in database\".format(session.query(Article.id).count()))"
   ]
  },
  {
   "cell_type": "code",
   "execution_count": 18,
   "metadata": {
    "collapsed": false
   },
   "outputs": [
    {
     "name": "stdout",
     "output_type": "stream",
     "text": [
      "Article statuses:\n",
      "processed: 8\n",
      "processing: 3\n"
     ]
    }
   ],
   "source": [
    "article_stats = session.query(Article.status, func.count(Article.status)).group_by(Article.status).all()\n",
    "print(\"Article statuses:\")\n",
    "for status, ct in article_stats:\n",
    "    print(\"{}: {}\".format(status, ct))"
   ]
  },
  {
   "cell_type": "markdown",
   "metadata": {},
   "source": [
    "#### Look at results for a single URL"
   ]
  },
  {
   "cell_type": "code",
   "execution_count": 20,
   "metadata": {
    "collapsed": true
   },
   "outputs": [],
   "source": [
    "url = 'http://floodlist.com/africa/torrential-rains-destroy-400-homes-in-algeria'"
   ]
  },
  {
   "cell_type": "code",
   "execution_count": 15,
   "metadata": {
    "collapsed": true
   },
   "outputs": [],
   "source": [
    "article = session.query(Article).filter_by(url=url).first()"
   ]
  },
  {
   "cell_type": "code",
   "execution_count": 16,
   "metadata": {
    "collapsed": false
   },
   "outputs": [
    {
     "name": "stdout",
     "output_type": "stream",
     "text": [
      "Status: processed\n",
      "Domain: http://floodlist.com\n",
      "Language: en\n",
      "Relevance: True\n",
      "Category: other\n",
      "Num Reports: 1\n"
     ]
    }
   ],
   "source": [
    "print(\"Status: {}\".format(article.status))\n",
    "print(\"Domain: {}\".format(article.domain))\n",
    "print(\"Language: {}\".format(article.language))\n",
    "print(\"Relevance: {}\".format(article.relevance))\n",
    "print(\"Category: {}\".format(article.categories[0].category))\n",
    "print(\"Num Reports: {}\".format(len(article.reports)))"
   ]
  },
  {
   "cell_type": "code",
   "execution_count": 23,
   "metadata": {
    "collapsed": true
   },
   "outputs": [],
   "source": [
    "report = article.reports[0]"
   ]
  },
  {
   "cell_type": "code",
   "execution_count": 24,
   "metadata": {
    "collapsed": false
   },
   "outputs": [
    {
     "name": "stdout",
     "output_type": "stream",
     "text": [
      "Event: destroy\n",
      "Subject: residence\n",
      "Quantity: 400\n"
     ]
    }
   ],
   "source": [
    "print(\"Event: {}\".format(report.event_term))\n",
    "print(\"Subject: {}\".format(report.subject_term))\n",
    "print(\"Quantity: {}\".format(report.quantity))"
   ]
  },
  {
   "cell_type": "code",
   "execution_count": 25,
   "metadata": {
    "collapsed": false
   },
   "outputs": [
    {
     "name": "stdout",
     "output_type": "stream",
     "text": [
      "Report covers period from 2015-02-01 09:00:00 to 2015-02-01 09:00:00\n"
     ]
    }
   ],
   "source": [
    "# Datespan\n",
    "date_span = report.datespans[0]\n",
    "print(\"Report covers period from {} to {}\".format(date_span.start, date_span.finish))"
   ]
  },
  {
   "cell_type": "code",
   "execution_count": 26,
   "metadata": {
    "collapsed": false
   },
   "outputs": [
    {
     "name": "stdout",
     "output_type": "stream",
     "text": [
      "1 locations found\n"
     ]
    }
   ],
   "source": [
    "# Location\n",
    "locations = report.locations\n",
    "print(\"{} locations found\".format(len(locations)))"
   ]
  },
  {
   "cell_type": "code",
   "execution_count": 27,
   "metadata": {
    "collapsed": false
   },
   "outputs": [
    {
     "name": "stdout",
     "output_type": "stream",
     "text": [
      "Location: Tamanrasset\n",
      "City: Tamanrasset\n",
      "State: None\n",
      "Country code: DZA\n",
      "Country name(s): ['Algeria', \"People's Democratic Republic of Algeria\"]\n"
     ]
    }
   ],
   "source": [
    "location = locations[0]\n",
    "country = location.country\n",
    "print(\"Location: {}\".format(location.description))\n",
    "print(\"City: {}\".format(location.city))\n",
    "print(\"State: {}\".format(location.subdivision))\n",
    "print(\"Country code: {}\".format(country.code))\n",
    "print(\"Country name(s): {}\".format([t.term for t in country.terms]))"
   ]
  }
 ],
 "metadata": {
  "kernelspec": {
   "display_name": "Python 3",
   "language": "python",
   "name": "python3"
  },
  "language_info": {
   "codemirror_mode": {
    "name": "ipython",
    "version": 3
   },
   "file_extension": ".py",
   "mimetype": "text/x-python",
   "name": "python",
   "nbconvert_exporter": "python",
   "pygments_lexer": "ipython3",
   "version": "3.5.1"
  }
 },
 "nbformat": 4,
 "nbformat_minor": 0
}
