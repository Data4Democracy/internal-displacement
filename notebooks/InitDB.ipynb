{
 "cells": [
  {
   "cell_type": "code",
   "execution_count": null,
   "metadata": {
    "collapsed": false,
    "deletable": true,
    "editable": true
   },
   "outputs": [],
   "source": [
    "# Change these to True to set up the DB the first time\n",
    "i_know_this_will_delete_everything = False\n",
    "initialize_id_test = False\n",
    "initialize_id = False\n",
    "\n",
    "import os\n",
    "from internal_displacement.model.model import init_db\n",
    "\n",
    "db_host = os.environ.get('DB_HOST')\n",
    "\n",
    "if initialize_id:\n",
    "    db_url = 'postgresql://{user}:{pass}@{db_host}/{db}'.format(\n",
    "        user='jupyter', pass='jupyter', db_host=db_host, db='id')\n",
    "    init_db(db_url, i_know_this_will_delete_everything=i_know_this_will_delete_everything)\n",
    "    \n",
    "if initialize_id_test:\n",
    "    db_url = 'postgresql://{user}:{pass}@{db_host}/{db}'.format(\n",
    "        user='tester', pass='tester', db_host=db_host, db='id_test')\n",
    "    init_db(db_url, i_know_this_will_delete_everything=i_know_this_will_delete_everything)"
   ]
  },
  {
   "cell_type": "code",
   "execution_count": null,
   "metadata": {
    "collapsed": false,
    "deletable": true,
    "editable": true
   },
   "outputs": [],
   "source": [
    "import unittest\n",
    "from internal_displacement.tests.test_model import TestModel\n",
    "suite = unittest.TestLoader().loadTestsFromTestCase(TestModel)\n",
    "unittest.TextTestRunner(verbosity=3).run(suite)"
   ]
  },
  {
   "cell_type": "code",
   "execution_count": null,
   "metadata": {
    "collapsed": true,
    "deletable": true,
    "editable": true
   },
   "outputs": [],
   "source": [
    ""
   ]
  }
 ],
 "metadata": {
  "kernelspec": {
   "display_name": "Python 3",
   "language": "python",
   "name": "python3"
  },
  "language_info": {
   "codemirror_mode": {
    "name": "ipython",
    "version": 3.0
   },
   "file_extension": ".py",
   "mimetype": "text/x-python",
   "name": "python",
   "nbconvert_exporter": "python",
   "pygments_lexer": "ipython3",
   "version": "3.5.2"
  }
 },
 "nbformat": 4,
 "nbformat_minor": 0
}