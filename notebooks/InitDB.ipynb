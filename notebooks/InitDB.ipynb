{
 "cells": [
  {
   "cell_type": "code",
   "execution_count": null,
   "metadata": {
    "collapsed": false,
    "deletable": true,
    "editable": true
   },
   "outputs": [],
   "source": [
    "# Change this to True to set up the DB the first time\n",
    "i_know_this_will_delete_everything = False\n",
    "\n",
    "import os\n",
    "from internal_displacement.model.model import init_db\n",
    "\n",
    "db_url = os.environ.get('DB_URL')\n",
    "if not db_url.endswith('/id_test'):\n",
    "    raise RuntimeError('Refusing to run tests against non-test database')\n",
    "init_db(db_url, i_know_this_will_delete_everything=i_know_this_will_delete_everything)"
   ]
  },
  {
   "cell_type": "code",
   "execution_count": null,
   "metadata": {
    "collapsed": false,
    "deletable": true,
    "editable": true
   },
   "outputs": [],
   "source": [
    "import unittest\n",
    "from internal_displacement.tests.test_model import TestModel\n",
    "suite = unittest.TestLoader().loadTestsFromTestCase(TestModel)\n",
    "unittest.TextTestRunner(verbosity=3).run(suite)"
   ]
  },
  {
   "cell_type": "code",
   "execution_count": null,
   "metadata": {
    "collapsed": true,
    "deletable": true,
    "editable": true
   },
   "outputs": [],
   "source": []
  }
 ],
 "metadata": {
  "kernelspec": {
   "display_name": "Python 3",
   "language": "python",
   "name": "python3"
  },
  "language_info": {
   "codemirror_mode": {
    "name": "ipython",
    "version": 3
   },
   "file_extension": ".py",
   "mimetype": "text/x-python",
   "name": "python",
   "nbconvert_exporter": "python",
   "pygments_lexer": "ipython3",
   "version": "3.5.2"
  }
 },
 "nbformat": 4,
 "nbformat_minor": 0
}
