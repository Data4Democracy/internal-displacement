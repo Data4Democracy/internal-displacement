{
 "cells": [
  {
   "cell_type": "markdown",
   "metadata": {},
   "source": [
    "Exploration of what a possible pipeline could look like for processing a URL from start to finish.\n",
    "\n",
    "Once finalized this can be implemented as a series of methods in `pipeline.py`.\n",
    "\n",
    "Some questions to discuss:\n",
    "    \n",
    "    - Should we attempt end-to-end processing in one shot or split it into steps\n",
    "    - Implemente these as class methods, then initialize Pipeline() and carry out the steps one at a time?\n",
    "\n",
    "This also highlights some pending issues to deal with in the Scraper and/or Interpreter code, i.e.\n",
    "\n",
    "1. Turn extracted dates into Date Windows\n",
    "2. Turn extracted quantities into integers for saving to DB\n",
    "3. Add step for classifying article"
   ]
  },
  {
   "cell_type": "markdown",
   "metadata": {},
   "source": [
    "#### Set up the db"
   ]
  },
  {
   "cell_type": "code",
   "execution_count": 1,
   "metadata": {
    "collapsed": false
   },
   "outputs": [],
   "source": [
    "%load_ext autoreload\n",
    "%autoreload 2\n",
    "# Change these to True to set up the DB the first time\n",
    "i_know_this_will_delete_everything = True\n",
    "initialize_id_test = True\n",
    "initialize_id = False\n",
    "\n",
    "import os\n",
    "import sys\n",
    "module_path = os.path.abspath(os.path.join('..'))\n",
    "if module_path not in sys.path:\n",
    "    sys.path.append(module_path)\n",
    "from internal_displacement.model.model import init_db\n",
    "\n",
    "db_host = os.environ.get('DB_HOST')\n",
    "\n",
    "if initialize_id:\n",
    "    db_url = 'postgresql://{user}:{password}@{db_host}/{db}'.format(\n",
    "        user='jupyter', password='jupyter', db_host=db_host, db='id')\n",
    "    init_db(db_url, i_know_this_will_delete_everything=i_know_this_will_delete_everything)\n",
    "    \n",
    "if initialize_id_test:\n",
    "    db_url = 'postgresql://{user}:{password}@{db_host}/{db}'.format(\n",
    "        user='tester', password='tester', db_host=db_host, db='id_test')\n",
    "    init_db(db_url, i_know_this_will_delete_everything=i_know_this_will_delete_everything)"
   ]
  },
  {
   "cell_type": "code",
   "execution_count": 2,
   "metadata": {
    "collapsed": false
   },
   "outputs": [],
   "source": [
    "import spacy\n",
    "import json\n",
    "from sqlalchemy import create_engine\n",
    "from datetime import datetime\n",
    "from internal_displacement.model.model import Status, Session, Category, Article, Content, Country, CountryTerm, \\\n",
    "    Location, Report, ReportDateSpan, ArticleCategory, Base\n",
    "from internal_displacement.scraper import Scraper\n",
    "from internal_displacement.interpreter import Interpreter\n",
    "from internal_displacement.pipeline import Pipeline"
   ]
  },
  {
   "cell_type": "markdown",
   "metadata": {},
   "source": [
    "#### Set-up the session"
   ]
  },
  {
   "cell_type": "code",
   "execution_count": 3,
   "metadata": {
    "collapsed": true
   },
   "outputs": [],
   "source": [
    "engine = create_engine(db_url)\n",
    "Session.configure(bind=engine)\n",
    "session = Session()"
   ]
  },
  {
   "cell_type": "markdown",
   "metadata": {},
   "source": [
    "#### Initialize scraper and interpreter"
   ]
  },
  {
   "cell_type": "code",
   "execution_count": 4,
   "metadata": {
    "collapsed": true
   },
   "outputs": [],
   "source": [
    "scraper = Scraper()\n",
    "nlp = spacy.load('en')\n",
    "person_reporting_terms = [\n",
    "    'displaced', 'evacuated', 'forced', 'flee', 'homeless', 'relief camp',\n",
    "    'sheltered', 'relocated', 'stranded', 'stuck', 'stranded', \"killed\", \"dead\", \"died\", \"drown\"\n",
    "]\n",
    "\n",
    "structure_reporting_terms = [\n",
    "    'destroyed', 'damaged', 'swept', 'collapsed',\n",
    "    'flooded', 'washed', 'inundated', 'evacuate'\n",
    "]\n",
    "\n",
    "person_reporting_units = [\"families\", \"person\", \"people\", \"individuals\", \"locals\", \"villagers\", \"residents\",\n",
    "                            \"occupants\", \"citizens\", \"households\", \"life\"]\n",
    "\n",
    "structure_reporting_units = [\"home\", \"house\", \"hut\", \"dwelling\", \"building\", \"shop\", \"business\", \"apartment\",\n",
    "                                     \"flat\", \"residence\"]\n",
    "\n",
    "relevant_article_terms = ['Rainstorm', 'hurricane',\n",
    "                          'tornado', 'rain', 'storm', 'earthquake']\n",
    "relevant_article_lemmas = [t.lemma_ for t in nlp(\n",
    "    \" \".join(relevant_article_terms))]\n",
    "\n",
    "data_path = '../data'\n",
    "interpreter = Interpreter(nlp, person_reporting_terms, structure_reporting_terms, person_reporting_units,\n",
    "                          structure_reporting_units, relevant_article_lemmas, data_path)"
   ]
  },
  {
   "cell_type": "markdown",
   "metadata": {},
   "source": [
    "#### Initialize Pipeline"
   ]
  },
  {
   "cell_type": "code",
   "execution_count": 5,
   "metadata": {
    "collapsed": false
   },
   "outputs": [],
   "source": [
    "pipeline = Pipeline(session, scraper, interpreter)"
   ]
  },
  {
   "cell_type": "markdown",
   "metadata": {},
   "source": [
    "#### Invalid url"
   ]
  },
  {
   "cell_type": "code",
   "execution_count": 6,
   "metadata": {
    "collapsed": false
   },
   "outputs": [
    {
     "data": {
      "text/plain": [
       "'fetching failed'"
      ]
     },
     "execution_count": 6,
     "metadata": {},
     "output_type": "execute_result"
    }
   ],
   "source": [
    "url = 'http://www.independent.co.uk/news/somefakenewsstory'\n",
    "pipeline.process_url(url)"
   ]
  },
  {
   "cell_type": "markdown",
   "metadata": {},
   "source": [
    "#### Non-english url"
   ]
  },
  {
   "cell_type": "code",
   "execution_count": 7,
   "metadata": {
    "collapsed": false
   },
   "outputs": [
    {
     "data": {
      "text/plain": [
       "'Processed: Not in English'"
      ]
     },
     "execution_count": 7,
     "metadata": {},
     "output_type": "execute_result"
    }
   ],
   "source": [
    "url = 'http://www.eluniversal.com.mx/articulo/nacion/politica/2017/03/13/manifestantes-obligan-acortar-evento-de-amlo-en-ny'\n",
    "pipeline.process_url(url)"
   ]
  },
  {
   "cell_type": "markdown",
   "metadata": {},
   "source": [
    "#### Irrelevant url"
   ]
  },
  {
   "cell_type": "code",
   "execution_count": 8,
   "metadata": {
    "collapsed": false
   },
   "outputs": [
    {
     "data": {
      "text/plain": [
       "'Processed: Not relevant'"
      ]
     },
     "execution_count": 8,
     "metadata": {},
     "output_type": "execute_result"
    }
   ],
   "source": [
    "url = 'http://www.bbc.com/news/world-europe-39258436'\n",
    "pipeline.process_url(url)"
   ]
  },
  {
   "cell_type": "markdown",
   "metadata": {},
   "source": [
    "#### Relevant url"
   ]
  },
  {
   "cell_type": "code",
   "execution_count": 9,
   "metadata": {
    "collapsed": false
   },
   "outputs": [
    {
     "data": {
      "text/plain": [
       "'processed'"
      ]
     },
     "execution_count": 9,
     "metadata": {},
     "output_type": "execute_result"
    }
   ],
   "source": [
    "url = 'http://www.independent.co.uk/news/world/asia/160-killed-and-hundreds-left-stranded-by-flooding-across-afghanistan-and-pakistan-8746566.html'\n",
    "pipeline.process_url(url)"
   ]
  },
  {
   "cell_type": "markdown",
   "metadata": {
    "collapsed": true
   },
   "source": [
    "#### Clean-up Database"
   ]
  },
  {
   "cell_type": "code",
   "execution_count": 34,
   "metadata": {
    "collapsed": true
   },
   "outputs": [],
   "source": [
    "test_urls = [\n",
    "    'http://www.independent.co.uk/news/somefakenewsstory',\n",
    "    'http://www.eluniversal.com.mx/articulo/nacion/politica/2017/03/13/manifestantes-obligan-acortar-evento-de-amlo-en-ny',\n",
    "    'http://www.bbc.com/news/world-europe-39258436',\n",
    "    'http://www.independent.co.uk/news/world/asia/160-killed-and-hundreds-left-stranded-by-flooding-across-afghanistan-and-pakistan-8746566.html'\n",
    "]"
   ]
  },
  {
   "cell_type": "code",
   "execution_count": 35,
   "metadata": {
    "collapsed": true
   },
   "outputs": [],
   "source": [
    "for url in test_urls:\n",
    "    session.query(Article).filter_by(url=url).delete()"
   ]
  },
  {
   "cell_type": "code",
   "execution_count": 36,
   "metadata": {
    "collapsed": true
   },
   "outputs": [],
   "source": [
    "session.commit()"
   ]
  }
 ],
 "metadata": {
  "kernelspec": {
   "display_name": "Python 3",
   "language": "python",
   "name": "python3"
  },
  "language_info": {
   "codemirror_mode": {
    "name": "ipython",
    "version": 3
   },
   "file_extension": ".py",
   "mimetype": "text/x-python",
   "name": "python",
   "nbconvert_exporter": "python",
   "pygments_lexer": "ipython3",
   "version": "3.5.1"
  }
 },
 "nbformat": 4,
 "nbformat_minor": 0
}
