{
 "cells": [
  {
   "cell_type": "markdown",
   "metadata": {},
   "source": [
    "So far, through a combination of approaches, I have managed to tag 79% of articles as relevant\n",
    "\n",
    "- Fail cases are either appropriate (i.e. irrelevant) or use more complex phrasing\n",
    "- Can some of these approaches be combined into an overarching function?"
   ]
  },
  {
   "cell_type": "code",
   "execution_count": 751,
   "metadata": {
    "collapsed": true
   },
   "outputs": [],
   "source": [
    "import pandas as pd\n",
    "import spacy\n",
    "from sklearn.feature_extraction.text import TfidfVectorizer\n",
    "pd.set_option('display.max_colwidth', -1)\n",
    "import re\n",
    "from collections import Counter\n",
    "import itertools"
   ]
  },
  {
   "cell_type": "code",
   "execution_count": 457,
   "metadata": {
    "collapsed": false
   },
   "outputs": [],
   "source": [
    "nlp = spacy.load('en')"
   ]
  },
  {
   "cell_type": "code",
   "execution_count": 757,
   "metadata": {
    "collapsed": true
   },
   "outputs": [],
   "source": [
    "# Data source is 290 downloaded articles from the Training Data\n",
    "df = pd.read_csv('https://s3-us-west-1.amazonaws.com/simon.bedford/d4d/article_contents.csv')\n",
    "df = df.fillna('')"
   ]
  },
  {
   "cell_type": "code",
   "execution_count": 459,
   "metadata": {
    "collapsed": false
   },
   "outputs": [],
   "source": [
    "# Specified reporting terms from challenge description\n",
    "reporting_terms = [\n",
    "    'displaced', 'evacuated', 'forced to flee', 'homeless', 'in relief camp',\n",
    "    'sheltered', 'relocated', 'destroyed housing', 'partially destroyed housing',\n",
    "    'uninhabitable housing'\n",
    "]"
   ]
  },
  {
   "cell_type": "code",
   "execution_count": 460,
   "metadata": {
    "collapsed": false
   },
   "outputs": [],
   "source": [
    "# Specified reporting units from challenge description\n",
    "reporting_units = {\n",
    "    'people': ['people', 'persons', 'individuals', 'children', 'inhabitants', 'residents', 'migrants'],\n",
    "    'households': ['families', 'households', 'houses', 'homes']\n",
    "}"
   ]
  },
  {
   "cell_type": "code",
   "execution_count": 752,
   "metadata": {
    "collapsed": true
   },
   "outputs": [],
   "source": [
    "direct_phrases = []\n",
    "nouns = 'people|persons|families|individuals|children|inhabitants|residents|migrants|villagers'\n",
    "nouns = nouns.split(\"|\")\n",
    "verbs = 'evacuated|displaced|fled|forced to flee|relocated|forced to leave'\n",
    "verbs = verbs.split(\"|\")\n",
    "\n",
    "for n, v in list(itertools.product(nouns, verbs)):\n",
    "    direct_phrases.append(n + \" \" + v)\n",
    "    direct_phrases.append(v + \" \" + n)"
   ]
  },
  {
   "cell_type": "code",
   "execution_count": 754,
   "metadata": {
    "collapsed": false
   },
   "outputs": [],
   "source": [
    "nouns = 'houses|homes'\n",
    "nouns = nouns.split(\"|\")\n",
    "verbs = 'destroyed|damaged|flooded|inundated|lost|collapsed|submerged|washed away|affected|demolished'\n",
    "verbs = verbs.split(\"|\")\n",
    "\n",
    "for n, v in list(itertools.product(nouns, verbs)):\n",
    "    direct_phrases.append(n + \" \" + v)\n",
    "    direct_phrases.append(v + \" \" + n)"
   ]
  },
  {
   "cell_type": "code",
   "execution_count": 463,
   "metadata": {
    "collapsed": true
   },
   "outputs": [],
   "source": [
    "#\n",
    "housing_units = re.compile('houses|homes')\n",
    "housing_impacts = re.compile(\"destroyed|damaged|flooded|inundated|lost|collapsed|submerged|washed away|affected|demolished\")"
   ]
  },
  {
   "cell_type": "code",
   "execution_count": 521,
   "metadata": {
    "collapsed": true
   },
   "outputs": [],
   "source": [
    "#\n",
    "people_units = re.compile('people|persons|families|individuals|children|inhabitants|residents|migrants')\n",
    "people_impacts = re.compile('evacuated|displaced|fled|forced to flee|relocated|forced to leave')"
   ]
  },
  {
   "cell_type": "code",
   "execution_count": 642,
   "metadata": {
    "collapsed": true
   },
   "outputs": [],
   "source": [
    "units_regex = re.compile('households|houses|homes|people|persons|families|individuals|children|inhabitants|residents|migrants|villagers')\n",
    "impacts_regex = re.compile('destroyed|damaged|flooded|inundated|lost|collapsed|submerged|washed away|affected|demolished|evacuated|displaced|fled|forced to flee|relocated|forced to leave')"
   ]
  },
  {
   "cell_type": "code",
   "execution_count": 546,
   "metadata": {
    "collapsed": true
   },
   "outputs": [],
   "source": [
    "def clean_string(s):\n",
    "    return s.replace('\\xa0', '')"
   ]
  },
  {
   "cell_type": "code",
   "execution_count": 771,
   "metadata": {
    "collapsed": true
   },
   "outputs": [],
   "source": [
    "# This is to test for phrases that are direct combinations of reporting units and terms, for example\n",
    "# evaucated people / people evacuated\n",
    "# destroyed houses / houses destroyed\n",
    "# It is possible that some of these combinations could occur in irrelevant documents\n",
    "\n",
    "def check_initial_combinations(article):\n",
    "    article = article.lower()\n",
    "    regex = re.compile(\"|\".join(direct_phrases))\n",
    "    if re.search(regex, article):\n",
    "        return True"
   ]
  },
  {
   "cell_type": "code",
   "execution_count": 475,
   "metadata": {
    "collapsed": true
   },
   "outputs": [],
   "source": [
    "# Noun phrase with housing units and housing impacts, examples:\n",
    "# at least 60 homes were destroyed across three districts\n",
    "# mark gunning said 116 houses in wye river and separation creek had been destroyed\n",
    "# the landslide, which covered about 2 sq km (0.8 sq miles), damaged at least 11 homes, xinhua reported.\n",
    "# as more than 8,000 people were evacuated from their homes,\n",
    "# some 2,500 people were evacuated from hard-hit grimma, near leipzig.\n",
    "\n",
    "def get_noun_phrase_sentences(article, units_regex, impacts_regex):\n",
    "    sentences = []\n",
    "    doc = nlp(u\"{}\".format(article.lower()))\n",
    "    for s in doc.sents:\n",
    "        d = nlp(u\"{}\".format(s))\n",
    "        for np in d.noun_chunks:\n",
    "            if re.search(units_regex, np.text) and re.search(impacts_regex, np.root.head.text):\n",
    "                sentences.append(str(s))\n",
    "    return sentences\n",
    "\n",
    "def check_noun_phrases(article, units_regex, impacts_regex):\n",
    "    doc = nlp(u\"{}\".format(article.lower()))\n",
    "    for s in doc.sents:\n",
    "        d = nlp(u\"{}\".format(s))\n",
    "        for np in d.noun_chunks:\n",
    "            if re.search(units_regex, np.text) and re.search(impacts_regex, np.root.head.text):\n",
    "                return True"
   ]
  },
  {
   "cell_type": "code",
   "execution_count": 680,
   "metadata": {
    "collapsed": true
   },
   "outputs": [],
   "source": [
    "# Combinations of relevant units and impacts, exmples:\n",
    "# provide assistance to impacted and displaced families\n",
    "# accommodation had been provided for about 600 displaced residents.\n",
    "# it is expected that displaced families will need relief supplies\n",
    "\n",
    "def get_simple_combinations_sentences(article, units_regex, impacts_regex):\n",
    "    sentences = []\n",
    "    doc = nlp(u\"{}\".format(article.lower()))\n",
    "    for s in doc.sents:\n",
    "        d = nlp(u\"{}\".format(s))\n",
    "        for np in d.noun_chunks:\n",
    "            if re.search(units_regex, np.text) and re.search(impacts_regex, np.text):\n",
    "                sentences.append(str(s))\n",
    "    return sentences\n",
    "\n",
    "def check_simple_combinations(article, units_regex, impacts_regex):\n",
    "    doc = nlp(u\"{}\".format(article.lower()))\n",
    "    for s in doc.sents:\n",
    "        d = nlp(u\"{}\".format(s))\n",
    "        for np in d.noun_chunks:\n",
    "            if re.search(units_regex, np.text) and re.search(impacts_regex, np.text):\n",
    "                return True\n",
    "            if re.search(units_regex, np.text) and re.search(impacts_regex, \" \".join([l.text for l in np.rights])):\n",
    "                return True"
   ]
  },
  {
   "cell_type": "code",
   "execution_count": 662,
   "metadata": {
    "collapsed": true
   },
   "outputs": [],
   "source": [
    "# Units as passive subjects, examples:\n",
    "# Hundreds of homes have been destroyed in Algeria‘s southern city of Tamanrasset...\n",
    "# confirming that 15 families have been evacuated to the town hall as a precaution against collapse.\n",
    "\n",
    "def get_passive_subject_sentences(article, units_regex, impacts_regex):\n",
    "    sentences = []\n",
    "    doc = nlp(u\"{}\".format(article.lower()))\n",
    "    for s in doc.sents:\n",
    "        d = nlp(u\"{}\".format(s))\n",
    "        for token in d:\n",
    "            if re.search(impacts_regex, str(token)):\n",
    "                children = [t for t in token.children]\n",
    "                for c in children:\n",
    "                    if c.dep_ in ('nsubjpass', 'nsubj'):\n",
    "                        obj = \" \".join([str(a) for a in c.subtree])\n",
    "                        if re.search(units_regex, obj):\n",
    "                            sentences.append(s)\n",
    "    return sentences\n",
    "\n",
    "def check_passive_subject(article, units_regex, impacts_regex):\n",
    "    sentences = []\n",
    "    doc = nlp(u\"{}\".format(article.lower()))\n",
    "    for s in doc.sents:\n",
    "        d = nlp(u\"{}\".format(s))\n",
    "        for token in d:\n",
    "            if re.search(impacts_regex, str(token)):\n",
    "                children = [t for t in token.children]\n",
    "                for c in children:\n",
    "                    if c.dep_ in ('nsubjpass', 'nsubj'):\n",
    "                        obj = \" \".join([str(a) for a in c.subtree])\n",
    "                        if re.search(units_regex, obj):\n",
    "                            return True"
   ]
  },
  {
   "cell_type": "code",
   "execution_count": 563,
   "metadata": {
    "collapsed": false
   },
   "outputs": [],
   "source": [
    "# Examples\n",
    "# displaced residents said they couldn't believe how quickly the situation escalated\n",
    "# around 20,000 people had to be evacuated from their homes\n",
    "\n",
    "def get_test1_sentences(article, units_regex, impacts_regex):\n",
    "    sentences = []\n",
    "    doc = nlp(u\"{}\".format(article.lower()))\n",
    "    for s in doc.sents:\n",
    "        d = nlp(u\"{}\".format(s))\n",
    "        for token in d:\n",
    "            if re.search(impacts_regex, str(token)):\n",
    "                ancestors = [t for t in token.ancestors]\n",
    "                for a in ancestors:\n",
    "                    if a.dep_ == 'ROOT':\n",
    "                        children = [c for c in a.children]\n",
    "                        for c in children:\n",
    "                            if c.dep_ == 'nsubj' and re.search(units_regex, str(c)):\n",
    "                                sentences.append(s)\n",
    "    return sentences\n",
    "\n",
    "def test1(article, units_regex, impacts_regex):\n",
    "    doc = nlp(u\"{}\".format(article.lower()))\n",
    "    for s in doc.sents:\n",
    "        d = nlp(u\"{}\".format(s))\n",
    "        for token in d:\n",
    "            if re.search(impacts_regex, str(token)):\n",
    "                ancestors = [t for t in token.ancestors]\n",
    "                for a in ancestors:\n",
    "                    if a.dep_ == 'ROOT':\n",
    "                        children = [c for c in a.children]\n",
    "                        for c in children:\n",
    "                            if c.dep_ == 'nsubj' and re.search(units_regex, str(c)):\n",
    "                                return True"
   ]
  },
  {
   "cell_type": "code",
   "execution_count": 737,
   "metadata": {
    "collapsed": false
   },
   "outputs": [],
   "source": [
    "# Simple tests based upon combinations of words\n",
    "# Unlikely to occur elsewhere\n",
    "# Examples 'left homeless'\n",
    "simple_phrases = [\n",
    "    'left homeless',\n",
    "    'families homeless',\n",
    "    'people homeless',\n",
    "    'residents homeless',\n",
    "    'evacuate their homes',\n",
    "    'left their homes',\n",
    "    'fled to relief camps',\n",
    "    'flee from their homes',\n",
    "    'people evacuated',\n",
    "    'houses damaged',\n",
    "    'houses_submerged'\n",
    "]\n",
    "simple_phrases_regex = re.compile(\"|\".join(simple_phrases))\n",
    "def check_simple_phrases(article, simple_phrases_regex=simple_phrases_regex):\n",
    "    if re.search(simple_phrases_regex, article.lower()):\n",
    "        return True"
   ]
  },
  {
   "cell_type": "code",
   "execution_count": 758,
   "metadata": {
    "collapsed": true
   },
   "outputs": [],
   "source": [
    "def check_relevance(article):\n",
    "    article = clean_string(article)\n",
    "    if check_initial_combinations(article):\n",
    "        return True\n",
    "    if check_simple_phrases(article):\n",
    "        return True\n",
    "    if check_simple_combinations(article, units_regex, impacts_regex):\n",
    "        return True\n",
    "    if check_noun_phrases(article, units_regex, impacts_regex):\n",
    "        return True\n",
    "    if check_passive_subject(article, units_regex, impacts_regex):\n",
    "        return True\n",
    "    if test1(article, units_regex, impacts_regex):\n",
    "        return True\n",
    "    return False"
   ]
  },
  {
   "cell_type": "code",
   "execution_count": 759,
   "metadata": {
    "collapsed": false
   },
   "outputs": [],
   "source": [
    "df['is_relevant'] = df['content'].apply(check_relevance)"
   ]
  },
  {
   "cell_type": "code",
   "execution_count": 770,
   "metadata": {
    "collapsed": false
   },
   "outputs": [
    {
     "name": "stdout",
     "output_type": "stream",
     "text": [
      "79% identified as relevant\n"
     ]
    }
   ],
   "source": [
    "total = len(df)\n",
    "relevant = (df['is_relevant'] == 1).sum()\n",
    "print (\"{:.0f}% identified as relevant\".format(relevant/total * 100))"
   ]
  },
  {
   "cell_type": "markdown",
   "metadata": {},
   "source": [
    "#### Fail Cases"
   ]
  },
  {
   "cell_type": "code",
   "execution_count": 769,
   "metadata": {
    "collapsed": false
   },
   "outputs": [
    {
     "name": "stdout",
     "output_type": "stream",
     "text": [
      "UN Office for the Coordination of Humanitarian Affairs:  To learn more about OCHA's activities, please visit http://unocha.org/.\n",
      "\n",
      "\n",
      "When you boat your way somewhere, even if just for a day out of the city,...\n",
      "\n",
      "\n",
      "The Disaster Management Information System (DMIS) is a web-based working tool made accessible only to Red Cross and Red Crescent staff working in National Societies, delegations and Geneva headquarters. It is a system from which users will be able to access:  The DMIS project started in February 2001 as a follow up to Strategy 2010 and in response to the need for informed decisions, speed and efficient operational readiness. DMIS is the result of a major effort made by the Federation in addressing the complexity of information exchange in the humanitarian community and to support an efficient disaster preparedness and response for the whole Federation's Red Cross and Crescent network at a global level. DMIS continues in the same vein with the successor Strategy 2020.\n",
      "\n",
      "\n",
      "Queensland Premier Annastacia Palaszczuk warned the storm remained \"very serious\" and urged the public in affected areas to remain indoors amid the threat of flooding and high winds, which have brought down trees and caused some damage to homes.  During a press conference, she said the storm system was now moving south along the coast from the town of Yeppoon towards Rockhampton, which lies 595 kilometers (370 miles) north of Brisbane, the state capital.  Around 33,000 households in the area are now without power, she said, warning that this number was likely to grow as the day progresses.  \"It is still a dangerous cyclone. We are heartened that it has reduced from a (Category) five to a four, but ... it is heading towards Rockhampton, a heavily populated regional town in Queensland, and we want everyone to be safe. So stay in doors,\" Palaszczuk said.  Queensland's Bureau of Meteorology said the Yeppoon area, where some 800 people were forced into temporary shelters, had seen the most \"destructive winds\" after the storm made landfall at around 8 a.m. Friday (5 p.m. ET Thursday). But it said the winds would weaken further by the time it reached Rockhampton -- though Category 3 winds in excess of 100 kph (62 mph) were still destructive. #CycloneMarcia now Category 4. Very destructive winds still expected at the centre. More at: http://t.co/FBmpsInT9o pic.twitter.com/po2RRmslXq — BOM Queensland (@BOM_Qld) February 20, 2015 Along the coast, the storm brought higher than normal tides and dangerous surf conditions. Chris Campey, a video journalist for the CNN affiliate, described the ocean waves as \"intimidating.\" Intimidating ocean coming at us now at #Yeppoon as #TCMarcia keeps coming @7NewsBrisbane pic.twitter.com/MKzpIOuhJm — Chris Campey (@Chris_Campey) February 19, 2015 Seven News reporter Tom Hartley posted a video that showed winds whipping through palm trees as heavy rains pelted Rosslyn Bay. #TCMarcia is about 30 mins away - I'm at Rosslyn Bay, about 8ks S of Yeppoon pic.twitter.com/WS8mzVn3fZ — Tom Hartley (@TomHartley_7) February 20, 2015\n",
      "\n",
      "\n",
      "The Disaster Management Information System (DMIS) is a web-based working tool made accessible only to Red Cross and Red Crescent staff working in National Societies, delegations and Geneva headquarters. It is a system from which users will be able to access:  The DMIS project started in February 2001 as a follow up to Strategy 2010 and in response to the need for informed decisions, speed and efficient operational readiness. DMIS is the result of a major effort made by the Federation in addressing the complexity of information exchange in the humanitarian community and to support an efficient disaster preparedness and response for the whole Federation's Red Cross and Crescent network at a global level. DMIS continues in the same vein with the successor Strategy 2020.\n",
      "\n",
      "\n",
      "The Disaster Management Information System (DMIS) is a web-based working tool made accessible only to Red Cross and Red Crescent staff working in National Societies, delegations and Geneva headquarters. It is a system from which users will be able to access:  The DMIS project started in February 2001 as a follow up to Strategy 2010 and in response to the need for informed decisions, speed and efficient operational readiness. DMIS is the result of a major effort made by the Federation in addressing the complexity of information exchange in the humanitarian community and to support an efficient disaster preparedness and response for the whole Federation's Red Cross and Crescent network at a global level. DMIS continues in the same vein with the successor Strategy 2020.\n",
      "\n",
      "\n",
      "The flooding has continued in south western China since our report of 02 September here.  On Saturday 06 September, China’s Civil Affairs Ministry said that 44 people have been killed in the floods, and 18 are still missing. The worst affected area is Chongqing Municipality, where 43 of the deaths occurred.  The heavy rain first began on 31 August 2014, bringing floods to Chogqing, and also Sichuan and Guizhou provinces.  The Civil Affairs Ministry also said that:  Heavy rainfall has continued in parts of south west China over the last few days. In the last 24 hours, Haikou in Hainan Province, saw 133 mm.  More heavy rain could fall over the coming days after Tropical Depression Fourteen formed on 07 September 2014 over the South China Sea. The weather system is thought to be heading towards Guangdong Province where it is likely to make landfall around 09 September.\n",
      "\n",
      "\n",
      "The best independent earthquake reporting site in the world\n",
      "\n",
      "\n",
      "Costa Rica saw further heavy rainfall and flooding on Monday 06 July and Tuesday 07 July 2015. WMO report that Puerto Limon saw 174.9 mm of rain fall in 24 hours during that period. Costa Rica’s National Meteorological Institute have warned that the heavy rainfall will continue.  Costa Rica’s National Emergency Commission (Comisión Nacional de Prevención de Riesgos y Atención de Emergencias – CNE) issued a red alert for parts of Heredia and Limón provinces.  Authorities say that the rain and flooding has forced a total of 1057 people to evacuate thier homes and move to one of the 13 temporary shelters set up by CNE, many of them in local community halls or churches. Most of those displaced are in the canton of Sarapiqui.  As of 07 July 2015, 94 communities across 15 cantons were facing access problems after roads had been flooded or damaged.  This latest period of heavy rain means that parts of Costa Rica have suffered flooding for over 2 weeks. Floods in the Caribbean and Northern regions on 21 June 2015 left 25 communities isolated and hundreds displaced.  After a short respite, where some of those affected were able to return to thier homes, northern and eastern parts of the country were faced with further torrential rain on 27 June which caused damage to roads, bridges and houses, and affected over 200 communities across 3 provinces of Limón, Heredia and Cartago.  The heavy rain is continuing to fall in parts of northern Colombia and Venzuela, both of which have been hit by floods over the last 10 days. Over 50 mm of rain fell in 24 hours between 06 and 07 July in Arauca, Colombia, according to WMO. Guanare in Venezuela saw 53 mm of rain in the same period. A state of emergency was recently declared after heavy rain and floods in the state of Apure, Venezuela.\n",
      "\n",
      "\n",
      "GDACS is a cooperation framework between the United Nations, the European Commission and disaster managers worldwide to improve alerts, information exchange and coordination in the first phase after major sudden-onset disasters.\n",
      "\n",
      "\n"
     ]
    }
   ],
   "source": [
    "for i, row in (df[df['is_relevant'] == 0].head(10)).iterrows():\n",
    "    print(row['content'])\n",
    "    print(\"\\n\")"
   ]
  },
  {
   "cell_type": "code",
   "execution_count": null,
   "metadata": {
    "collapsed": true
   },
   "outputs": [],
   "source": []
  }
 ],
 "metadata": {
  "kernelspec": {
   "display_name": "Python 3",
   "language": "python",
   "name": "python3"
  },
  "language_info": {
   "codemirror_mode": {
    "name": "ipython",
    "version": 3
   },
   "file_extension": ".py",
   "mimetype": "text/x-python",
   "name": "python",
   "nbconvert_exporter": "python",
   "pygments_lexer": "ipython3",
   "version": "3.5.1"
  }
 },
 "nbformat": 4,
 "nbformat_minor": 0
}
