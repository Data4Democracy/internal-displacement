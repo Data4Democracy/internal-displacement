{
 "cells": [
  {
   "cell_type": "code",
   "execution_count": 1,
   "metadata": {},
   "outputs": [],
   "source": [
    "%load_ext autoreload\n",
    "%autoreload 2\n",
    "\n",
    "import pandas as pd\n",
    "import numpy as np\n",
    "import gensim\n",
    "import sklearn\n",
    "import nltk\n",
    "import matplotlib.pyplot as plt\n",
    "%matplotlib inline\n",
    "\n",
    "import os\n",
    "import sys\n",
    "\n",
    "module_path = os.path.abspath(os.path.join('..'))\n",
    "if module_path not in sys.path:\n",
    "    sys.path.append(module_path)"
   ]
  },
  {
   "cell_type": "code",
   "execution_count": 87,
   "metadata": {
    "collapsed": true
   },
   "outputs": [],
   "source": [
    "df_cf_agg = pd.read_csv('../../data/crowdflower/cf_report_1008335_aggregated_agg_0_30k_1.csv')"
   ]
  },
  {
   "cell_type": "code",
   "execution_count": 88,
   "metadata": {},
   "outputs": [
    {
     "data": {
      "text/plain": [
       "3696"
      ]
     },
     "execution_count": 88,
     "metadata": {},
     "output_type": "execute_result"
    }
   ],
   "source": [
    "len(df_cf_agg)"
   ]
  },
  {
   "cell_type": "code",
   "execution_count": 89,
   "metadata": {},
   "outputs": [
    {
     "data": {
      "text/html": [
       "<div>\n",
       "<table border=\"1\" class=\"dataframe\">\n",
       "  <thead>\n",
       "    <tr style=\"text-align: right;\">\n",
       "      <th></th>\n",
       "      <th>id</th>\n",
       "      <th>category</th>\n",
       "      <th>is_displacement</th>\n",
       "      <th>number</th>\n",
       "      <th>paragraph</th>\n",
       "      <th>title</th>\n",
       "      <th>url</th>\n",
       "    </tr>\n",
       "  </thead>\n",
       "  <tbody>\n",
       "    <tr>\n",
       "      <th>0</th>\n",
       "      <td>1213938960</td>\n",
       "      <td>disaster</td>\n",
       "      <td>no</td>\n",
       "      <td>636.0</td>\n",
       "      <td>JMA had already issued its highest level of fl...</td>\n",
       "      <td>Japan Floods, Landslides: 8 Dead, 46 Injured; ...</td>\n",
       "      <td>https://weather.com/storms/typhoon/news/tropic...</td>\n",
       "    </tr>\n",
       "    <tr>\n",
       "      <th>1</th>\n",
       "      <td>1213938961</td>\n",
       "      <td>disaster</td>\n",
       "      <td>no</td>\n",
       "      <td>1074.0</td>\n",
       "      <td>A section of US Highway 30 was closed in the a...</td>\n",
       "      <td>Ten Oregon wildfires force hundreds to flee as...</td>\n",
       "      <td>http://www.theguardian.com/world/2014/aug/07/o...</td>\n",
       "    </tr>\n",
       "    <tr>\n",
       "      <th>2</th>\n",
       "      <td>1213938962</td>\n",
       "      <td>disaster</td>\n",
       "      <td>no</td>\n",
       "      <td>99.0</td>\n",
       "      <td>22- Number of confirmed local states of emerge...</td>\n",
       "      <td>By the numbers: 2013 Alberta floods</td>\n",
       "      <td>http://globalnews.ca/news/673236/by-the-number...</td>\n",
       "    </tr>\n",
       "  </tbody>\n",
       "</table>\n",
       "</div>"
      ],
      "text/plain": [
       "           id  category is_displacement  number  \\\n",
       "0  1213938960  disaster              no   636.0   \n",
       "1  1213938961  disaster              no  1074.0   \n",
       "2  1213938962  disaster              no    99.0   \n",
       "\n",
       "                                           paragraph  \\\n",
       "0  JMA had already issued its highest level of fl...   \n",
       "1  A section of US Highway 30 was closed in the a...   \n",
       "2  22- Number of confirmed local states of emerge...   \n",
       "\n",
       "                                               title  \\\n",
       "0  Japan Floods, Landslides: 8 Dead, 46 Injured; ...   \n",
       "1  Ten Oregon wildfires force hundreds to flee as...   \n",
       "2                By the numbers: 2013 Alberta floods   \n",
       "\n",
       "                                                 url  \n",
       "0  https://weather.com/storms/typhoon/news/tropic...  \n",
       "1  http://www.theguardian.com/world/2014/aug/07/o...  \n",
       "2  http://globalnews.ca/news/673236/by-the-number...  "
      ]
     },
     "execution_count": 89,
     "metadata": {},
     "output_type": "execute_result"
    }
   ],
   "source": [
    "df_cf_agg.head(3)"
   ]
  },
  {
   "cell_type": "code",
   "execution_count": 90,
   "metadata": {
    "scrolled": true
   },
   "outputs": [
    {
     "data": {
      "text/plain": [
       "3331"
      ]
     },
     "execution_count": 90,
     "metadata": {},
     "output_type": "execute_result"
    }
   ],
   "source": [
    "len(df_cf_agg['paragraph'].unique())"
   ]
  },
  {
   "cell_type": "code",
   "execution_count": 91,
   "metadata": {
    "collapsed": true
   },
   "outputs": [],
   "source": [
    "df_cf_agg.drop_duplicates(subset=['paragraph'], inplace=True)"
   ]
  },
  {
   "cell_type": "markdown",
   "metadata": {},
   "source": [
    "We have 45% disaster, 25% conflict, and 28% other."
   ]
  },
  {
   "cell_type": "code",
   "execution_count": 92,
   "metadata": {},
   "outputs": [
    {
     "data": {
      "text/plain": [
       "disaster                1530\n",
       "other                    939\n",
       "conflict_or_violence     862\n",
       "Name: category, dtype: int64"
      ]
     },
     "execution_count": 92,
     "metadata": {},
     "output_type": "execute_result"
    }
   ],
   "source": [
    "df_cf_agg['category'].value_counts()"
   ]
  },
  {
   "cell_type": "markdown",
   "metadata": {},
   "source": [
    "I also want to get rid of columns that aren't going to help us classify the text."
   ]
  },
  {
   "cell_type": "code",
   "execution_count": 93,
   "metadata": {
    "collapsed": true
   },
   "outputs": [],
   "source": [
    "df_cf_agg.drop(['id', 'is_displacement', 'number'], axis=1, inplace=True)"
   ]
  },
  {
   "cell_type": "code",
   "execution_count": 94,
   "metadata": {},
   "outputs": [
    {
     "data": {
      "text/plain": [
       "<matplotlib.text.Text at 0x11afee668>"
      ]
     },
     "execution_count": 94,
     "metadata": {},
     "output_type": "execute_result"
    },
    {
     "data": {
      "image/png": "[encoded data removed]",
      "text/plain": [
       "<matplotlib.figure.Figure at 0x11bb02f98>"
      ]
     },
     "metadata": {},
     "output_type": "display_data"
    }
   ],
   "source": [
    "para_lengths = df_cf_agg['paragraph'].str.len()\n",
    "\n",
    "bins = np.arange(0, 10000, 50)\n",
    "ax = plt.figure()\n",
    "ax = plt.hist(para_lengths, bins=bins, cumulative=True, normed=True, histtype='step')\n",
    "plt.axis([0, 2000, 0, 1])\n",
    "plt.xlabel('Paragraph Length')\n",
    "plt.ylabel('Cumulative Frequency')"
   ]
  },
  {
   "cell_type": "markdown",
   "metadata": {},
   "source": [
    "~10% of the paragraphs are under 200 characters. Let's remove them."
   ]
  },
  {
   "cell_type": "code",
   "execution_count": 95,
   "metadata": {
    "collapsed": true
   },
   "outputs": [],
   "source": [
    "mask = (df_cf_agg['paragraph'].str.len() > 200)\n",
    "df_cf_agg = df_cf_agg[mask]"
   ]
  },
  {
   "cell_type": "markdown",
   "metadata": {},
   "source": [
    "This has mostly removed rows in the \"other\" category."
   ]
  },
  {
   "cell_type": "code",
   "execution_count": 96,
   "metadata": {},
   "outputs": [
    {
     "data": {
      "text/plain": [
       "disaster                1453\n",
       "conflict_or_violence     831\n",
       "other                    683\n",
       "Name: category, dtype: int64"
      ]
     },
     "execution_count": 96,
     "metadata": {},
     "output_type": "execute_result"
    }
   ],
   "source": [
    "df_cf_agg['category'].value_counts()"
   ]
  },
  {
   "cell_type": "code",
   "execution_count": 118,
   "metadata": {
    "collapsed": true
   },
   "outputs": [],
   "source": [
    "df_cf_agg.to_csv('../../data/crowdflower/cf_1_category_training.csv')"
   ]
  },
  {
   "cell_type": "markdown",
   "metadata": {},
   "source": [
    "## Relevance"
   ]
  },
  {
   "cell_type": "code",
   "execution_count": 2,
   "metadata": {
    "collapsed": true
   },
   "outputs": [],
   "source": [
    "df_cf_agg = pd.read_csv('../../data/crowdflower/cf_report_1008335_aggregated_agg_0_30k_1.csv')"
   ]
  },
  {
   "cell_type": "code",
   "execution_count": 3,
   "metadata": {},
   "outputs": [
    {
     "data": {
      "text/plain": [
       "no     2565\n",
       "yes    1131\n",
       "Name: is_displacement, dtype: int64"
      ]
     },
     "execution_count": 3,
     "metadata": {},
     "output_type": "execute_result"
    }
   ],
   "source": [
    "df_cf_agg['is_displacement'].value_counts()"
   ]
  },
  {
   "cell_type": "code",
   "execution_count": 4,
   "metadata": {},
   "outputs": [],
   "source": [
    "df_cf_agg.drop_duplicates(subset=['paragraph'], inplace=True)\n",
    "df_cf_agg.drop(['id', 'category', 'number'], axis=1, inplace=True)\n",
    "mask = (df_cf_agg['paragraph'].str.len() > 200)\n",
    "df_cf_agg = df_cf_agg[mask]"
   ]
  },
  {
   "cell_type": "code",
   "execution_count": 5,
   "metadata": {},
   "outputs": [
    {
     "data": {
      "text/plain": [
       "no     1895\n",
       "yes    1072\n",
       "Name: is_displacement, dtype: int64"
      ]
     },
     "execution_count": 5,
     "metadata": {},
     "output_type": "execute_result"
    }
   ],
   "source": [
    "df_cf_agg['is_displacement'].value_counts()"
   ]
  },
  {
   "cell_type": "code",
   "execution_count": 6,
   "metadata": {},
   "outputs": [
    {
     "data": {
      "text/html": [
       "<div>\n",
       "<table border=\"1\" class=\"dataframe\">\n",
       "  <thead>\n",
       "    <tr style=\"text-align: right;\">\n",
       "      <th></th>\n",
       "      <th>is_displacement</th>\n",
       "      <th>paragraph</th>\n",
       "      <th>title</th>\n",
       "      <th>url</th>\n",
       "    </tr>\n",
       "  </thead>\n",
       "  <tbody>\n",
       "    <tr>\n",
       "      <th>0</th>\n",
       "      <td>no</td>\n",
       "      <td>JMA had already issued its highest level of fl...</td>\n",
       "      <td>Japan Floods, Landslides: 8 Dead, 46 Injured; ...</td>\n",
       "      <td>https://weather.com/storms/typhoon/news/tropic...</td>\n",
       "    </tr>\n",
       "    <tr>\n",
       "      <th>1</th>\n",
       "      <td>no</td>\n",
       "      <td>A section of US Highway 30 was closed in the a...</td>\n",
       "      <td>Ten Oregon wildfires force hundreds to flee as...</td>\n",
       "      <td>http://www.theguardian.com/world/2014/aug/07/o...</td>\n",
       "    </tr>\n",
       "    <tr>\n",
       "      <th>2</th>\n",
       "      <td>no</td>\n",
       "      <td>22- Number of confirmed local states of emerge...</td>\n",
       "      <td>By the numbers: 2013 Alberta floods</td>\n",
       "      <td>http://globalnews.ca/news/673236/by-the-number...</td>\n",
       "    </tr>\n",
       "    <tr>\n",
       "      <th>3</th>\n",
       "      <td>no</td>\n",
       "      <td>As of late Wednesday evening, the top reported...</td>\n",
       "      <td>Japan Floods, Landslides: 8 Dead, 46 Injured; ...</td>\n",
       "      <td>https://weather.com/storms/typhoon/news/tropic...</td>\n",
       "    </tr>\n",
       "    <tr>\n",
       "      <th>4</th>\n",
       "      <td>no</td>\n",
       "      <td>What is DMIS ? The Disaster Management Informa...</td>\n",
       "      <td>Disaster Management Information System (DMIS)</td>\n",
       "      <td>https://www-secure.ifrc.org/DMISII/pages/02_Di...</td>\n",
       "    </tr>\n",
       "  </tbody>\n",
       "</table>\n",
       "</div>"
      ],
      "text/plain": [
       "  is_displacement                                          paragraph  \\\n",
       "0              no  JMA had already issued its highest level of fl...   \n",
       "1              no  A section of US Highway 30 was closed in the a...   \n",
       "2              no  22- Number of confirmed local states of emerge...   \n",
       "3              no  As of late Wednesday evening, the top reported...   \n",
       "4              no  What is DMIS ? The Disaster Management Informa...   \n",
       "\n",
       "                                               title  \\\n",
       "0  Japan Floods, Landslides: 8 Dead, 46 Injured; ...   \n",
       "1  Ten Oregon wildfires force hundreds to flee as...   \n",
       "2                By the numbers: 2013 Alberta floods   \n",
       "3  Japan Floods, Landslides: 8 Dead, 46 Injured; ...   \n",
       "4      Disaster Management Information System (DMIS)   \n",
       "\n",
       "                                                 url  \n",
       "0  https://weather.com/storms/typhoon/news/tropic...  \n",
       "1  http://www.theguardian.com/world/2014/aug/07/o...  \n",
       "2  http://globalnews.ca/news/673236/by-the-number...  \n",
       "3  https://weather.com/storms/typhoon/news/tropic...  \n",
       "4  https://www-secure.ifrc.org/DMISII/pages/02_Di...  "
      ]
     },
     "execution_count": 6,
     "metadata": {},
     "output_type": "execute_result"
    }
   ],
   "source": [
    "df_cf_agg.head()"
   ]
  },
  {
   "cell_type": "code",
   "execution_count": 7,
   "metadata": {
    "collapsed": true
   },
   "outputs": [],
   "source": [
    "df_cf_agg.to_csv('../../data/crowdflower/cf_1_relevance_training.csv')"
   ]
  },
  {
   "cell_type": "code",
   "execution_count": 16,
   "metadata": {},
   "outputs": [],
   "source": [
    "df_training = pd.read_csv('../../data/idmc_training_data_text_nopdf.csv')"
   ]
  },
  {
   "cell_type": "code",
   "execution_count": 17,
   "metadata": {},
   "outputs": [],
   "source": [
    "df_training.drop_duplicates(subset=['URL'], inplace=True)\n",
    "df_training.drop(['Country_or_region', 'Tag', 'URL', 'Unnamed: 0'], axis=1, inplace=True)\n",
    "mask = (df_training['text'].str.len() > 300)\n",
    "df_training = df_training[mask]"
   ]
  },
  {
   "cell_type": "code",
   "execution_count": 18,
   "metadata": {},
   "outputs": [
    {
     "data": {
      "text/plain": [
       "<matplotlib.text.Text at 0x119a16f98>"
      ]
     },
     "execution_count": 18,
     "metadata": {},
     "output_type": "execute_result"
    },
    {
     "data": {
      "image/png": "[encoded data removed]",
      "text/plain": [
       "<matplotlib.figure.Figure at 0x1199fee48>"
      ]
     },
     "metadata": {},
     "output_type": "display_data"
    }
   ],
   "source": [
    "para_lengths = df_training['text'].str.len()\n",
    "\n",
    "bins = np.arange(0, 10000, 50)\n",
    "ax = plt.figure()\n",
    "ax = plt.hist(para_lengths, bins=bins, cumulative=True, normed=True, histtype='step')\n",
    "plt.axis([0, 10000, 0, 1])\n",
    "plt.xlabel('Paragraph Length')\n",
    "plt.ylabel('Cumulative Frequency')"
   ]
  },
  {
   "cell_type": "code",
   "execution_count": 26,
   "metadata": {},
   "outputs": [],
   "source": [
    "df_training['is_displacement'] = label"
   ]
  },
  {
   "cell_type": "code",
   "execution_count": 28,
   "metadata": {},
   "outputs": [],
   "source": [
    "df_training = df_training[df_training['is_displacement'] != 'x']"
   ]
  },
  {
   "cell_type": "code",
   "execution_count": 33,
   "metadata": {},
   "outputs": [
    {
     "data": {
      "text/html": [
       "<div>\n",
       "<table border=\"1\" class=\"dataframe\">\n",
       "  <thead>\n",
       "    <tr style=\"text-align: right;\">\n",
       "      <th></th>\n",
       "      <th>text</th>\n",
       "      <th>is_displacement</th>\n",
       "    </tr>\n",
       "  </thead>\n",
       "  <tbody>\n",
       "    <tr>\n",
       "      <th>1</th>\n",
       "      <td>Flash flooding across Afghanistan and Pakistan...</td>\n",
       "      <td>yes</td>\n",
       "    </tr>\n",
       "  </tbody>\n",
       "</table>\n",
       "</div>"
      ],
      "text/plain": [
       "                                                text is_displacement\n",
       "1  Flash flooding across Afghanistan and Pakistan...             yes"
      ]
     },
     "execution_count": 33,
     "metadata": {},
     "output_type": "execute_result"
    }
   ],
   "source": [
    "df_training.head(1)"
   ]
  },
  {
   "cell_type": "code",
   "execution_count": 39,
   "metadata": {},
   "outputs": [
    {
     "data": {
      "text/html": [
       "<div>\n",
       "<table border=\"1\" class=\"dataframe\">\n",
       "  <thead>\n",
       "    <tr style=\"text-align: right;\">\n",
       "      <th></th>\n",
       "      <th>is_displacement</th>\n",
       "      <th>text</th>\n",
       "    </tr>\n",
       "  </thead>\n",
       "  <tbody>\n",
       "    <tr>\n",
       "      <th>0</th>\n",
       "      <td>no</td>\n",
       "      <td>JMA had already issued its highest level of fl...</td>\n",
       "    </tr>\n",
       "  </tbody>\n",
       "</table>\n",
       "</div>"
      ],
      "text/plain": [
       "  is_displacement                                               text\n",
       "0              no  JMA had already issued its highest level of fl..."
      ]
     },
     "execution_count": 39,
     "metadata": {},
     "output_type": "execute_result"
    }
   ],
   "source": [
    "df_cf_agg.head(1)"
   ]
  },
  {
   "cell_type": "code",
   "execution_count": 34,
   "metadata": {},
   "outputs": [
    {
     "name": "stderr",
     "output_type": "stream",
     "text": [
      "/Users/George/miniconda3/envs/nlp3/lib/python3.5/site-packages/pandas/core/generic.py:4485: SettingWithCopyWarning: \n",
      "A value is trying to be set on a copy of a slice from a DataFrame\n",
      "\n",
      "See the caveats in the documentation: http://pandas.pydata.org/pandas-docs/stable/indexing.html#indexing-view-versus-copy\n",
      "  self._update_inplace(new_data)\n",
      "/Users/George/miniconda3/envs/nlp3/lib/python3.5/site-packages/IPython/core/interactiveshell.py:2881: SettingWithCopyWarning: \n",
      "A value is trying to be set on a copy of a slice from a DataFrame\n",
      "\n",
      "See the caveats in the documentation: http://pandas.pydata.org/pandas-docs/stable/indexing.html#indexing-view-versus-copy\n",
      "  exec(code_obj, self.user_global_ns, self.user_ns)\n"
     ]
    }
   ],
   "source": [
    "df_training['is_displacement'][df_training['is_displacement'] == 'n'] = 'no'"
   ]
  },
  {
   "cell_type": "code",
   "execution_count": 37,
   "metadata": {},
   "outputs": [],
   "source": [
    "df_cf_agg = df_cf_agg.rename(index=str, columns={\"paragraph\": \"text\"})"
   ]
  },
  {
   "cell_type": "code",
   "execution_count": 38,
   "metadata": {
    "collapsed": true
   },
   "outputs": [],
   "source": [
    "df_cf_agg.drop(['title', 'url'], axis=1, inplace=True)"
   ]
  },
  {
   "cell_type": "code",
   "execution_count": 40,
   "metadata": {
    "collapsed": true
   },
   "outputs": [],
   "source": [
    "df_relevance = pd.concat([df_training, df_cf_agg])"
   ]
  },
  {
   "cell_type": "code",
   "execution_count": 43,
   "metadata": {},
   "outputs": [],
   "source": [
    "df_relevance.to_csv('../../data/relevance_training.csv')"
   ]
  },
  {
   "cell_type": "code",
   "execution_count": null,
   "metadata": {
    "collapsed": true
   },
   "outputs": [],
   "source": []
  }
 ],
 "metadata": {
  "anaconda-cloud": {},
  "kernelspec": {
   "display_name": "Python [nlp3]",
   "language": "python",
   "name": "Python [nlp3]"
  },
  "language_info": {
   "codemirror_mode": {
    "name": "ipython",
    "version": 3
   },
   "file_extension": ".py",
   "mimetype": "text/x-python",
   "name": "python",
   "nbconvert_exporter": "python",
   "pygments_lexer": "ipython3",
   "version": "3.5.2"
  }
 },
 "nbformat": 4,
 "nbformat_minor": 1
}
