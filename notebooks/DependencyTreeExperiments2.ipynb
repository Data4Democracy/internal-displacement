{
 "cells": [
  {
   "cell_type": "markdown",
   "metadata": {},
   "source": [
    "**Goals:**\n",
    " - Implement and test methods for extracting locations, reporting terms, reporting units, and quantities from text articles.\n",
    " - Incorporate findings from previous experiments."
   ]
  },
  {
   "cell_type": "code",
   "execution_count": 1,
   "metadata": {
    "collapsed": false
   },
   "outputs": [],
   "source": [
    "import pandas as pd\n",
    "import spacy\n",
    "import os\n",
    "import sys\n",
    "from nltk import Tree\n",
    "module_path = os.path.abspath(os.path.join('..'))\n",
    "if module_path not in sys.path:\n",
    "    sys.path.append(module_path)\n",
    "from internal_displacement.pipeline import SQLArticleInterface\n",
    "from itertools import groupby\n",
    "from operator import itemgetter"
   ]
  },
  {
   "cell_type": "code",
   "execution_count": 2,
   "metadata": {
    "collapsed": true
   },
   "outputs": [],
   "source": [
    "nlp = spacy.load('en')\n",
    "\n",
    "def to_nltk_tree(node):\n",
    "    if node.n_lefts + node.n_rights > 0:\n",
    "        return Tree(node.orth_, [to_nltk_tree(child) for child in node.children])\n",
    "    else:\n",
    "        return node.orth_"
   ]
  },
  {
   "cell_type": "code",
   "execution_count": 3,
   "metadata": {
    "collapsed": true
   },
   "outputs": [],
   "source": [
    "pipeline = SQLArticleInterface(\"../sql_db.sqlite\") #Connecting to pre-populated database.\n",
    "labels,features = pipeline.get_training_data()"
   ]
  },
  {
   "cell_type": "code",
   "execution_count": 210,
   "metadata": {
    "collapsed": true
   },
   "outputs": [],
   "source": [
    "class Report:\n",
    "    def __init__(self,locations,date_time,event_term,subject_term,quantity,story):\n",
    "        self.locations = locations\n",
    "        self.date_time = date_time\n",
    "        self.event_term = [t.lemma_ for t in nlp(event_term)][0]\n",
    "        self.subject_term = subject_term\n",
    "        self.quantity = quantity\n",
    "        self.story = story\n",
    "    \n",
    "    def display(self):\n",
    "        print(\"Location: {}  DateTime: {}  EventTerm: {}  SubjectTerm:  {}  Quantity: {}\"\n",
    "              .format(self.locations,self.date_time,self.event_term,self.subject_term,self.quantity))\n",
    "        \n",
    "    def show_story_tree(self):\n",
    "        self.display()\n",
    "        for sentence in nlp(self.story).sents:\n",
    "            for token in sentence:\n",
    "                if token.lemma_ == self.event_term:\n",
    "                    return to_nltk_tree(sentence.root)"
   ]
  },
  {
   "cell_type": "markdown",
   "metadata": {},
   "source": [
    "**Creating Ground Truth Training Examples **"
   ]
  },
  {
   "cell_type": "code",
   "execution_count": 5,
   "metadata": {
    "collapsed": true
   },
   "outputs": [],
   "source": [
    "ground_truth_reports = []"
   ]
  },
  {
   "cell_type": "code",
   "execution_count": 6,
   "metadata": {
    "collapsed": false
   },
   "outputs": [
    {
     "data": {
      "text/plain": [
       "\"Flash flooding across Afghanistan and Pakistan has left more than 160 dead and dozens stranded in one of South Asia's worst natural disasters this year, say officials.  The flooding, caused by unusually heavy rain, has left villagers stuck in remote areas without shelter, food or power.  Mountainous Afghanistan was the worst hit, with 61 people killed and approximately 500 traditional mud-brick homes washed away in more than a dozen villages in Sarobi, a rural district less than an hour from Kabul, officials said.  Floods left a village devastated in the remote eastern Afghan province of Nuristan. At least 60 homes were destroyed across three districts, said provincial spokesman Mohammad Yusufi. No one was killed.  Authorities have been unable to deliver aid to some badly affected villages by land as roads in the area are controlled by the Taliban, Yusufi added.  “We have asked the national government for help as have an overwhelming number of locals asking for assistance, but this is a Taliban-ridden area,” Yusufi said.  At least 24 people were also died in two other eastern border provinces, Khost and Nangarhar, according to local officials. More than fifty homes and shops were destroyed and thousands of acres of farmland flooded.  In Pakistan monsoon rains claimed more than 80 lives, local media reported. Houses collapsing, drowning and electrocution all pushed up the death toll, said Sindh Information Minister Sharjeel Inam Memon.  In Karachi, the commercial capital and a southern port city that is home to 18 million people, poor neighborhoods were submerged waist-deep in water and many precincts suffered long power outages. Deaths were also reported in the north and west of the country.  Additional reporting by Reuters\""
      ]
     },
     "execution_count": 6,
     "metadata": {},
     "output_type": "execute_result"
    }
   ],
   "source": [
    "features[0]"
   ]
  },
  {
   "cell_type": "code",
   "execution_count": 7,
   "metadata": {
    "collapsed": false
   },
   "outputs": [],
   "source": [
    "reports = [\n",
    "    Report([\"Afghanistan\",\"Pakistan\"],\"this year\",\"stranded\",\"person\",\"dozens\",features[0]),\n",
    "    Report([\"Afghanistan\",\"Pakistan\"],\"this year\",\"person\",\"dead\",160,features[0]),\n",
    "    Report([\"Sarobi\"],\"\",\"washed away\",\"home\",500,features[0]),\n",
    "    Report([\"Nuristan\"],\"\",\"devastated\",\"village\",\"a\",features[0]),\n",
    "    Report([\"Nuristan\"],\"\",\"destroyed\",\"home\",60,features[0]),\n",
    "    Report([\"Khost\",\"Nangarhar\"],\"\",\"destroyed\",\"home\",\"fifty\",features[0]),\n",
    "    Report([\"Pakistan\"],\"\",\"house\",\"collapsed\",\"\",features[0])\n",
    "    ]\n",
    "ground_truth_reports.extend(reports)"
   ]
  },
  {
   "cell_type": "code",
   "execution_count": 8,
   "metadata": {
    "collapsed": false
   },
   "outputs": [
    {
     "data": {
      "text/plain": [
       "'Afghanistan state news agency, Bakhtar News Agency (BNA) report that at least 7 people have been killed in flash floods in Faryab Province in the north of the country. Flash floods in Baghlan Province have killed 1 person and injured around 10 others.  Flash floods struck on 08 May 2015 in Faryab Province after a period of heavy rainfall. The districts of Garyzan, Pashtunkot and Belcheragh were worst affected. BNA report that at least 7 people were killed and over 1,500 homes damaged. The Faizabada-Takhar highway have been closed to traffic and wide areas of crops and orchards have suffered damaged.  Kuwaiti News Agency (KUNA) also report that flooding struck in the Baghlan-i-Markazi district of Baghlan province, where 1 person was killed and several injured early on Saturday 09 May 2015.  “There was heavy rain in Baghlan-e-Markazi district Friday evening and the people left their houses to safer areas. It was early Saturday when a flash flood hit the area and washed away more than 500 houses,” district Governor Gohar Khan Babri told reporters in provincial capital Pul-e-Khumri, 160 km north of Kabul.'"
      ]
     },
     "execution_count": 8,
     "metadata": {},
     "output_type": "execute_result"
    }
   ],
   "source": [
    "features[4]"
   ]
  },
  {
   "cell_type": "code",
   "execution_count": 9,
   "metadata": {
    "collapsed": false
   },
   "outputs": [],
   "source": [
    "reports = [\n",
    "    Report([\"Faryab Province\"],\"\",\"killed\",\"people\",7,features[4]),\n",
    "    Report([\"Garyzan\",\"Pashtunkot\",\"Belcheragh\"],\"\",\"damaged\",\"home\",1500,features[4]),\n",
    "    Report([\"Garyzan\",\"Pashtunkot\",\"Belcheragh\"],\"\",\"killed\",\"people\",7,features[4]),\n",
    "    Report([\"Baghlan-e-Markazi\"],\"Saturday 09 May 2015\",\"killed\",\"person\",1,features[4]),\n",
    "    Report([\"Baghlan-e-Markazi\"],\"Saturday 09 May 2015\",\"injured\",\"person\",\"several\",features[4]),\n",
    "    Report([\"Baghlan-e-Markazi\"],\"Saturday\",\"washed_away\",\"house\",500,features[4])\n",
    "]\n",
    "ground_truth_reports.extend(reports)"
   ]
  },
  {
   "cell_type": "markdown",
   "metadata": {},
   "source": [
    "**Defining Reporting Terms**"
   ]
  },
  {
   "cell_type": "code",
   "execution_count": 254,
   "metadata": {
    "collapsed": true
   },
   "outputs": [],
   "source": [
    "person_reporting_terms = [\n",
    "    'displaced', 'evacuated', 'forced flee', 'homeless', 'relief camp',\n",
    "    'sheltered', 'relocated', 'stranded','stuck','stranded',\"killed\",\"dead\",\"died\"\n",
    "]\n",
    "\n",
    "structure_reporting_terms = [\n",
    "    'destroyed','damaged','swept','collapsed','flooded','washed'\n",
    "]\n",
    "\n",
    "person_reporting_units = [\"families\",\"person\",\"people\",\"individuals\",\"locals\",\"villagers\",\"residents\",\"occupants\",\"citizens\"]\n",
    "\n",
    "structure_reporting_units = [\"home\",\"house\",\"hut\",\"dwelling\",\"building\",\"shop\",\"business\",\"apartment\",\"flat\"]\n",
    "\n",
    "\n",
    "person_term_lemmas = [t.lemma_ for t in nlp(\" \".join(person_reporting_terms))]\n",
    "structure_term_lemmas = [t.lemma_ for t in nlp(\" \".join(structure_reporting_terms))]\n",
    "person_unit_lemmas = [t.lemma_ for t in nlp(\" \".join(person_reporting_units))]\n",
    "structure_unit_lemmas = [t.lemma_ for t in nlp(\" \".join(structure_reporting_units))]\n",
    "\n",
    "reporting_term_lemmas = person_term_lemmas + structure_term_lemmas\n",
    "reporting_unit_lemmas = person_unit_lemmas + structure_unit_lemmas"
   ]
  },
  {
   "cell_type": "markdown",
   "metadata": {},
   "source": [
    "**Checking the spacy NER system performance for location detection**"
   ]
  },
  {
   "cell_type": "code",
   "execution_count": 11,
   "metadata": {
    "collapsed": true
   },
   "outputs": [],
   "source": [
    "def spacy_locations_from_text(text):\n",
    "    locations = []\n",
    "    smodel = nlp(text)\n",
    "    for ent in smodel.ents:\n",
    "        if ent.label_ == \"GPE\":\n",
    "            locations.append(ent.text)\n",
    "    return locations"
   ]
  },
  {
   "cell_type": "code",
   "execution_count": 12,
   "metadata": {
    "collapsed": false,
    "scrolled": false
   },
   "outputs": [
    {
     "name": "stdout",
     "output_type": "stream",
     "text": [
      "['Afghanistan', 'Pakistan', 'Afghanistan', 'Sarobi', 'Kabul', 'Nuristan', 'Khost', 'Nangarhar', 'Pakistan', 'Karachi']\n",
      "['Afghanistan', 'Pakistan']\n",
      "=====\n",
      "['Afghanistan', 'Pakistan', 'Afghanistan', 'Sarobi', 'Kabul', 'Nuristan', 'Khost', 'Nangarhar', 'Pakistan', 'Karachi']\n",
      "['Afghanistan', 'Pakistan']\n",
      "=====\n",
      "['Afghanistan', 'Pakistan', 'Afghanistan', 'Sarobi', 'Kabul', 'Nuristan', 'Khost', 'Nangarhar', 'Pakistan', 'Karachi']\n",
      "['Sarobi']\n",
      "=====\n",
      "['Afghanistan', 'Pakistan', 'Afghanistan', 'Sarobi', 'Kabul', 'Nuristan', 'Khost', 'Nangarhar', 'Pakistan', 'Karachi']\n",
      "['Nuristan']\n",
      "=====\n",
      "['Afghanistan', 'Pakistan', 'Afghanistan', 'Sarobi', 'Kabul', 'Nuristan', 'Khost', 'Nangarhar', 'Pakistan', 'Karachi']\n",
      "['Nuristan']\n",
      "=====\n",
      "['Afghanistan', 'Pakistan', 'Afghanistan', 'Sarobi', 'Kabul', 'Nuristan', 'Khost', 'Nangarhar', 'Pakistan', 'Karachi']\n",
      "['Khost', 'Nangarhar']\n",
      "=====\n",
      "['Afghanistan', 'Pakistan', 'Afghanistan', 'Sarobi', 'Kabul', 'Nuristan', 'Khost', 'Nangarhar', 'Pakistan', 'Karachi']\n",
      "['Pakistan']\n",
      "=====\n",
      "['Afghanistan', 'Faryab Province', 'Baghlan Province', 'Faryab Province', 'Garyzan', 'Pashtunkot', 'Belcheragh', 'Baghlan', 'Baghlan-e-Markazi', 'Kabul']\n",
      "['Faryab Province']\n",
      "=====\n",
      "['Afghanistan', 'Faryab Province', 'Baghlan Province', 'Faryab Province', 'Garyzan', 'Pashtunkot', 'Belcheragh', 'Baghlan', 'Baghlan-e-Markazi', 'Kabul']\n",
      "['Garyzan', 'Pashtunkot', 'Belcheragh']\n",
      "=====\n",
      "['Afghanistan', 'Faryab Province', 'Baghlan Province', 'Faryab Province', 'Garyzan', 'Pashtunkot', 'Belcheragh', 'Baghlan', 'Baghlan-e-Markazi', 'Kabul']\n",
      "['Garyzan', 'Pashtunkot', 'Belcheragh']\n",
      "=====\n",
      "['Afghanistan', 'Faryab Province', 'Baghlan Province', 'Faryab Province', 'Garyzan', 'Pashtunkot', 'Belcheragh', 'Baghlan', 'Baghlan-e-Markazi', 'Kabul']\n",
      "['Baghlan-e-Markazi']\n",
      "=====\n",
      "['Afghanistan', 'Faryab Province', 'Baghlan Province', 'Faryab Province', 'Garyzan', 'Pashtunkot', 'Belcheragh', 'Baghlan', 'Baghlan-e-Markazi', 'Kabul']\n",
      "['Baghlan-e-Markazi']\n",
      "=====\n",
      "['Afghanistan', 'Faryab Province', 'Baghlan Province', 'Faryab Province', 'Garyzan', 'Pashtunkot', 'Belcheragh', 'Baghlan', 'Baghlan-e-Markazi', 'Kabul']\n",
      "['Baghlan-e-Markazi']\n",
      "=====\n",
      "Ground Truth Locations Missed by spacy: []\n"
     ]
    }
   ],
   "source": [
    "missed_locations = []\n",
    "for g in ground_truth_reports:\n",
    "    spacy_locs = spacy_locations_from_text(g.story)\n",
    "    print(spacy_locs)\n",
    "    print(g.locations)\n",
    "    for g in g.locations:\n",
    "        if g not in spacy_locs:\n",
    "            missed_locations.append(g)\n",
    "    print(\"=====\")\n",
    "print(\"Ground Truth Locations Missed by spacy: {}\".format(missed_locations))    "
   ]
  },
  {
   "cell_type": "markdown",
   "metadata": {},
   "source": [
    "Spacy appears to be doing a good job of detecting place names. The spacy language model can always be trained with new data if it is found to make a mistake in the future."
   ]
  },
  {
   "cell_type": "markdown",
   "metadata": {},
   "source": [
    "** Generating Reports with Locations **\n",
    "There are frequently multiple locations present within a document, but not all of these locations will apply to each Report."
   ]
  },
  {
   "cell_type": "code",
   "execution_count": 110,
   "metadata": {
    "collapsed": false
   },
   "outputs": [],
   "source": [
    "def get_descendents(sentence,root=None):\n",
    "    \"\"\"\n",
    "    Retrieves all tokens that are descended from the head of the specified root token.\n",
    "    param: root: the root token\n",
    "    param: sentence: a span from which to retrieve tokens.\n",
    "    returns: a list of tokens\n",
    "    \"\"\"\n",
    "    if not root:\n",
    "        root = sentence.root\n",
    "    else:\n",
    "        root = root.head\n",
    "    return [t for t in sentence if root.is_ancestor_of(t)]\n",
    "    \n",
    "def check_if_entity_contains_token(tokens,entity):\n",
    "    \"\"\"\n",
    "    Function to test if a given entity contains at least one of a list of tokens.\n",
    "    param: tokens: A list of tokens\n",
    "    param: entity: A span\n",
    "    \n",
    "    returns: Boolean\n",
    "    \"\"\"\n",
    "    tokens_ = [t.text for t in tokens]\n",
    "    ret = False\n",
    "    for token in entity:\n",
    "        if token.text in tokens_:\n",
    "            return True\n",
    "    return False\n",
    "\n",
    "\n",
    "    \n",
    "\n",
    "testing_document = nlp(\"Flooding in Zimbabwe, South Africa, and China has caused chaos. I am lucky to be in Australia, since there has been havoc in Iceland, South Africa and New Zealand, an island nation south east of Melbourne\")\n",
    "testing_sentences = list(testing_document.sents)\n",
    "\n",
    "havoc_test_2_token = [t for t in testing_sentences[1] if t.text ==\"havoc\" ][0]\n",
    "lower_tokens2 = get_descendents(testing_sentences[1],havoc_test_2_token)\n",
    "lower_token_texts2 = [ t.text for t in lower_tokens2]\n",
    "assert lower_token_texts2 == ['since', 'there', 'has', 'havoc', 'in', 'Iceland', ',', 'South', 'Africa', 'and', 'New', 'Zealand', ',', 'an', 'island','nation', 'south', 'east', 'of', 'Melbourne']\n",
    "\n",
    "\n",
    "testing_location_entities = [ e for e in  testing_document.ents if e.label_ ==\"GPE\"]\n",
    "assert check_if_entity_contains_token(lower_tokens2,testing_location_entities[-1])\n",
    "assert check_if_entity_contains_token(lower_tokens2,testing_location_entities[-2])\n",
    "assert check_if_entity_contains_token(lower_tokens2,testing_location_entities[-3])\n",
    "assert check_if_entity_contains_token(lower_tokens2,testing_location_entities[-4])\n",
    "assert not check_if_entity_contains_token(lower_tokens2,testing_location_entities[3])"
   ]
  },
  {
   "cell_type": "code",
   "execution_count": 113,
   "metadata": {
    "collapsed": false
   },
   "outputs": [
    {
     "data": {
      "image/png": "[encoded data removed]",
      "text/plain": [
       "Tree('am', ['I', Tree('lucky', [Tree('be', ['to', Tree('in', ['Australia']), ',', Tree('been', ['since', 'there', 'has', 'havoc', Tree('in', [Tree('Iceland', [',', Tree('Africa', ['South', 'and', Tree('Zealand', ['New'])]), ',', Tree('nation', ['an', 'island'])])]), Tree('east', ['south', Tree('of', ['Melbourne'])])])])])])"
      ]
     },
     "execution_count": 113,
     "metadata": {},
     "output_type": "execute_result"
    }
   ],
   "source": [
    "to_nltk_tree(testing_sentences[1].root)"
   ]
  },
  {
   "cell_type": "code",
   "execution_count": 225,
   "metadata": {
    "collapsed": false
   },
   "outputs": [],
   "source": [
    "def test_token_equality(token_a,token_b):\n",
    "    if token_a.text == token_b.text:\n",
    "        return True\n",
    "    else:\n",
    "        return False\n",
    "def check_if_collection_contains_token(token,collection):\n",
    "    if any([test_token_equality(token,t) for t in collection]):\n",
    "        return True\n",
    "    else:\n",
    "        return False\n",
    "\n",
    "def get_distance_from_root(token,root):\n",
    "    \"\"\"\n",
    "    Gets the parse tree distance between a token and the sentence root.\n",
    "    :param token: a token\n",
    "    :param root: the root token of the sentence\n",
    "    \n",
    "    returns: an integer distance\n",
    "    \"\"\"\n",
    "    if token == root:\n",
    "        return 0\n",
    "    d = 1\n",
    "    p = token.head\n",
    "    while p is not root:\n",
    "        d+=1\n",
    "        p = p.head\n",
    "    return d\n",
    "\n",
    "assert get_distance_from_root(testing_sentences[1].root,testing_sentences[1].root) == 0\n",
    "assert get_distance_from_root(testing_sentences[1][6],testing_sentences[1].root) == 4\n",
    "assert get_distance_from_root(testing_sentences[1][-1],testing_sentences[1].root) == 6\n",
    "\n",
    "def get_common_ancestors(tokens):\n",
    "    ancestors = [set(t.ancestors) for t in tokens]\n",
    "    if len(ancestors) == 0:\n",
    "        return []\n",
    "    common_ancestors = ancestors[0].intersection(*ancestors)\n",
    "    return common_ancestors\n",
    "    \n",
    "\n",
    "def get_contiguous_tokens(token_list):\n",
    "    common_ancestor_tokens = get_common_ancestors(token_list)\n",
    "    highest_contiguous_block = []\n",
    "    for toke in token_list:\n",
    "        if check_if_collection_contains_token(toke.head,common_ancestor_tokens):\n",
    "            highest_contiguous_block.append(toke)\n",
    "    added_tokens = 1\n",
    "    while added_tokens > 0:\n",
    "        added_tokens = 0\n",
    "        for toke in token_list:\n",
    "            if check_if_collection_contains_token(toke.head,highest_contiguous_block):\n",
    "                if not check_if_collection_contains_token(toke,highest_contiguous_block):\n",
    "                    highest_contiguous_block.append(toke)\n",
    "                    added_tokens +=1\n",
    "    return highest_contiguous_block\n",
    "\n",
    "def match_entities_in_block(entities,token_block):\n",
    "    matched = []\n",
    "    text_block = [t.text for t in token_block] #For some reason comparing identity on tokens does not always work.\n",
    "    for e in entities:\n",
    "        et = [t.text for t in e]\n",
    "        et_in_b = [t for t in et if t in text_block]\n",
    "        if len(et_in_b) == len(et):\n",
    "            matched.append(e)\n",
    "    return matched\n",
    "\n",
    "test_tokes = [t for t in testing_sentences[1]]\n",
    "assert test_token_equality(test_tokes[5],test_tokes[5])\n",
    "assert not test_token_equality(test_tokes[5],test_tokes[3])\n",
    "\n",
    "assert check_if_collection_contains_token(test_tokes[5],test_tokes)\n",
    "assert not check_if_collection_contains_token(test_tokes[-1],test_tokes[:-2])"
   ]
  },
  {
   "cell_type": "code",
   "execution_count": 226,
   "metadata": {
    "collapsed": false
   },
   "outputs": [],
   "source": [
    "def extract_locations(sentence,root=None):\n",
    "    \"\"\"\n",
    "    Examines a sentence and identifies if any of its constituent tokens describe a location.\n",
    "    If a root token is specified, only location tokens below the level of this token in the tree will be examined. \n",
    "    If no root is specified, location tokens will be drawn from the entirety of the span.\n",
    "    param: sentence       a span\n",
    "    param: root           a token\n",
    "    returns: A list of strings, or None\n",
    "    \"\"\"\n",
    "    if not root:\n",
    "        root = sentence.root\n",
    "    descendents = get_descendents(sentence,root)\n",
    "    location_entities = [e for e in nlp(sentence.text).ents if e.label_ == \"GPE\"]\n",
    "    if len(location_entities) > 0:\n",
    "        descendent_location_tokens = []\n",
    "        for location_ent in location_entities:\n",
    "            if check_if_entity_contains_token(location_ent,descendents):\n",
    "                descendent_location_tokens.extend([token for token in location_ent])\n",
    "        contiguous_token_block = get_contiguous_tokens(descendent_location_tokens)\n",
    "\n",
    "        block_locations = match_entities_in_block(location_entities,contiguous_token_block)\n",
    "        return [location.text for location in block_locations]\n",
    "    else:\n",
    "        return []"
   ]
  },
  {
   "cell_type": "code",
   "execution_count": 191,
   "metadata": {
    "collapsed": false
   },
   "outputs": [],
   "source": [
    "assert extract_locations(testing_sentences[1],havoc_test_2_token) == ['Iceland', 'South Africa', 'New Zealand']"
   ]
  },
  {
   "cell_type": "code",
   "execution_count": 192,
   "metadata": {
    "collapsed": false,
    "scrolled": false
   },
   "outputs": [
    {
     "data": {
      "text/plain": [
       "[]"
      ]
     },
     "execution_count": 192,
     "metadata": {},
     "output_type": "execute_result"
    }
   ],
   "source": [
    "block = get_contiguous_tokens(location_tokens)\n",
    "block"
   ]
  },
  {
   "cell_type": "code",
   "execution_count": 193,
   "metadata": {
    "collapsed": false
   },
   "outputs": [
    {
     "data": {
      "text/plain": [
       "['Iceland', 'South Africa', 'New Zealand']"
      ]
     },
     "execution_count": 193,
     "metadata": {},
     "output_type": "execute_result"
    }
   ],
   "source": [
    "extract_locations(testing_sentences[1],havoc_test_2_token)"
   ]
  },
  {
   "cell_type": "code",
   "execution_count": 195,
   "metadata": {
    "collapsed": false
   },
   "outputs": [],
   "source": [
    "test_sent2 = list(nlp(features[0]).sents)[2]\n",
    "test_sent2_term = [t for t in test_sent2 if t.text ==\"washed\"][0]\n",
    "assert extract_locations(test_sent2,test_sent2_term) == [\"Sarobi\"]"
   ]
  },
  {
   "cell_type": "code",
   "execution_count": 251,
   "metadata": {
    "collapsed": true
   },
   "outputs": [],
   "source": [
    "\n",
    "def find_reports(story):\n",
    "    reports = []\n",
    "    sentences = list(nlp(story).sents)\n",
    "    for i,sentence in enumerate(sentences):\n",
    "        for token in sentence:\n",
    "            if token.lemma_ in reporting_term_lemmas:\n",
    "                term_token = token\n",
    "                children = term_token.children\n",
    "                unit_children = list(filter(lambda x: x.lemma_ in reporting_unit_lemmas,children))\n",
    "                possible_locations = extract_locations(sentence,token)\n",
    "                if len(possible_locations) == 0:\n",
    "                    if i > 0:\n",
    "                        possible_locations = extract_locations(sentences[i-1])\n",
    "                for uc in unit_children:\n",
    "                    uc_children = uc.children\n",
    "                    for token in uc_children:\n",
    "                        if token.like_num:\n",
    "                            number = token.text\n",
    "                            reporting_unit = uc.text\n",
    "                            reporting_term = term_token.text\n",
    "                            report = Report(possible_locations,\"\",reporting_term,reporting_unit,number,story)\n",
    "                            reports.append(report)\n",
    "                            report.display()\n",
    "                \n",
    "                \n",
    "            \n",
    "    return reports"
   ]
  },
  {
   "cell_type": "code",
   "execution_count": 221,
   "metadata": {
    "collapsed": false
   },
   "outputs": [
    {
     "data": {
      "text/plain": [
       "\"Flash flooding across Afghanistan and Pakistan has left more than 160 dead and dozens stranded in one of South Asia's worst natural disasters this year, say officials.  The flooding, caused by unusually heavy rain, has left villagers stuck in remote areas without shelter, food or power.  Mountainous Afghanistan was the worst hit, with 61 people killed and approximately 500 traditional mud-brick homes washed away in more than a dozen villages in Sarobi, a rural district less than an hour from Kabul, officials said.  Floods left a village devastated in the remote eastern Afghan province of Nuristan. At least 60 homes were destroyed across three districts, said provincial spokesman Mohammad Yusufi. No one was killed.  Authorities have been unable to deliver aid to some badly affected villages by land as roads in the area are controlled by the Taliban, Yusufi added.  “We have asked the national government for help as have an overwhelming number of locals asking for assistance, but this is a Taliban-ridden area,” Yusufi said.  At least 24 people were also died in two other eastern border provinces, Khost and Nangarhar, according to local officials. More than fifty homes and shops were destroyed and thousands of acres of farmland flooded.  In Pakistan monsoon rains claimed more than 80 lives, local media reported. Houses collapsing, drowning and electrocution all pushed up the death toll, said Sindh Information Minister Sharjeel Inam Memon.  In Karachi, the commercial capital and a southern port city that is home to 18 million people, poor neighborhoods were submerged waist-deep in water and many precincts suffered long power outages. Deaths were also reported in the north and west of the country.  Additional reporting by Reuters\""
      ]
     },
     "execution_count": 221,
     "metadata": {},
     "output_type": "execute_result"
    }
   ],
   "source": [
    "features[0]"
   ]
  },
  {
   "cell_type": "code",
   "execution_count": 238,
   "metadata": {
    "collapsed": false,
    "scrolled": true
   },
   "outputs": [
    {
     "data": {
      "text/plain": [
       "'ALGIERS (AA) – Hundreds of homes have been destroyed in Algeria‘s southern city of Tamanrasset following several days of torrential rainfall, a local humanitarian aid official said Wednesday.  The city was pounded by rainfall from March 19 to March 24, according to Ghanom Sudani, a member of a government-appointed humanitarian aid committee.  He added that heavy rains had destroyed as many as 400 residences.  “Hundreds of families have had to leave their homes after they were inundated with water,” Sudani told The Anadolu Agency.  www.aa.com.tr/en  Last month neighbouring Tunisia experienced heavy rainfall and flooding in Jendouba City.'"
      ]
     },
     "execution_count": 238,
     "metadata": {},
     "output_type": "execute_result"
    }
   ],
   "source": [
    "features[5]"
   ]
  },
  {
   "cell_type": "code",
   "execution_count": 237,
   "metadata": {
    "collapsed": false,
    "scrolled": true
   },
   "outputs": [
    {
     "data": {
      "text/plain": [
       "[]"
      ]
     },
     "execution_count": 237,
     "metadata": {},
     "output_type": "execute_result"
    }
   ],
   "source": [
    "find_reports(features[5])"
   ]
  },
  {
   "cell_type": "code",
   "execution_count": 134,
   "metadata": {
    "collapsed": false
   },
   "outputs": [
    {
     "data": {
      "image/png": "[encoded data removed]",
      "text/plain": [
       "Tree('said', [Tree('was', [Tree('Afghanistan', ['Mountainous']), Tree('hit', ['the', 'worst', ',', Tree('with', [Tree('people', ['61'])]), Tree('killed', ['and', Tree('washed', [Tree('homes', [Tree('500', ['approximately']), 'traditional', Tree('brick', ['mud', '-'])]), 'away', Tree('in', [Tree('villages', ['more', Tree('dozen', ['than', 'a']), Tree('in', [Tree('Sarobi', [',']), Tree('district', ['a', 'rural', Tree('less', [Tree('than', [Tree('hour', ['an', Tree('from', ['Kabul'])])])])])])])])])])])]), ',', 'officials', Tree('.', [' '])])"
      ]
     },
     "execution_count": 134,
     "metadata": {},
     "output_type": "execute_result"
    }
   ],
   "source": [
    "to_nltk_tree(list(nlp(features[0]).sents)[2].root)"
   ]
  },
  {
   "cell_type": "code",
   "execution_count": 247,
   "metadata": {
    "collapsed": false
   },
   "outputs": [
    {
     "data": {
      "text/plain": [
       "'ALGIERS (AA) – Hundreds of homes have been destroyed in Algeria‘s southern city of Tamanrasset following several days of torrential rainfall, a local humanitarian aid official said Wednesday.  The city was pounded by rainfall from March 19 to March 24, according to Ghanom Sudani, a member of a government-appointed humanitarian aid committee.  He added that heavy rains had destroyed as many as 400 residences.  “Hundreds of families have had to leave their homes after they were inundated with water,” Sudani told The Anadolu Agency.  www.aa.com.tr/en  Last month neighbouring Tunisia experienced heavy rainfall and flooding in Jendouba City.'"
      ]
     },
     "execution_count": 247,
     "metadata": {},
     "output_type": "execute_result"
    }
   ],
   "source": [
    "features[5]"
   ]
  },
  {
   "cell_type": "code",
   "execution_count": 241,
   "metadata": {
    "collapsed": false
   },
   "outputs": [
    {
     "name": "stdout",
     "output_type": "stream",
     "text": [
      "Hundreds False\n",
      "Hundreds False\n"
     ]
    }
   ],
   "source": [
    "test = [t for t in nlp(features[5]) if t.text == \"Hundreds\"]\n",
    "for t in test:\n",
    "    print(t,t.like_num)"
   ]
  },
  {
   "cell_type": "code",
   "execution_count": 255,
   "metadata": {
    "collapsed": false,
    "scrolled": false
   },
   "outputs": [
    {
     "name": "stdout",
     "output_type": "stream",
     "text": [
      "=============Story================\n",
      "Flash flooding across Afghanistan and Pakistan has left more than 160 dead and dozens stranded in one of South Asia's worst natural disasters this year, say officials.  The flooding, caused by unusually heavy rain, has left villagers stuck in remote areas without shelter, food or power.  Mountainous Afghanistan was the worst hit, with 61 people killed and approximately 500 traditional mud-brick homes washed away in more than a dozen villages in Sarobi, a rural district less than an hour from Kabul, officials said.  Floods left a village devastated in the remote eastern Afghan province of Nuristan. At least 60 homes were destroyed across three districts, said provincial spokesman Mohammad Yusufi. No one was killed.  Authorities have been unable to deliver aid to some badly affected villages by land as roads in the area are controlled by the Taliban, Yusufi added.  “We have asked the national government for help as have an overwhelming number of locals asking for assistance, but this is a Taliban-ridden area,” Yusufi said.  At least 24 people were also died in two other eastern border provinces, Khost and Nangarhar, according to local officials. More than fifty homes and shops were destroyed and thousands of acres of farmland flooded.  In Pakistan monsoon rains claimed more than 80 lives, local media reported. Houses collapsing, drowning and electrocution all pushed up the death toll, said Sindh Information Minister Sharjeel Inam Memon.  In Karachi, the commercial capital and a southern port city that is home to 18 million people, poor neighborhoods were submerged waist-deep in water and many precincts suffered long power outages. Deaths were also reported in the north and west of the country.  Additional reporting by Reuters\n",
      "=============Reports================\n",
      "Location: ['Sarobi']  DateTime:   EventTerm: wash  SubjectTerm:  homes  Quantity: 500\n",
      "Location: ['Nuristan']  DateTime:   EventTerm: destroy  SubjectTerm:  homes  Quantity: 60\n",
      "Location: ['Khost', 'Nangarhar']  DateTime:   EventTerm: die  SubjectTerm:  people  Quantity: 24\n",
      "Location: ['Khost', 'Nangarhar']  DateTime:   EventTerm: destroy  SubjectTerm:  homes  Quantity: fifty\n",
      "=============Story================\n",
      "UN Office for the Coordination of Humanitarian Affairs:  To learn more about OCHA's activities, please visit http://unocha.org/.\n",
      "=============Reports================\n",
      "=============Story================\n",
      "retrieval_failed\n",
      "=============Reports================\n",
      "=============Story================\n",
      "\n",
      "=============Reports================\n",
      "=============Story================\n",
      "Afghanistan state news agency, Bakhtar News Agency (BNA) report that at least 7 people have been killed in flash floods in Faryab Province in the north of the country. Flash floods in Baghlan Province have killed 1 person and injured around 10 others.  Flash floods struck on 08 May 2015 in Faryab Province after a period of heavy rainfall. The districts of Garyzan, Pashtunkot and Belcheragh were worst affected. BNA report that at least 7 people were killed and over 1,500 homes damaged. The Faizabada-Takhar highway have been closed to traffic and wide areas of crops and orchards have suffered damaged.  Kuwaiti News Agency (KUNA) also report that flooding struck in the Baghlan-i-Markazi district of Baghlan province, where 1 person was killed and several injured early on Saturday 09 May 2015.  “There was heavy rain in Baghlan-e-Markazi district Friday evening and the people left their houses to safer areas. It was early Saturday when a flash flood hit the area and washed away more than 500 houses,” district Governor Gohar Khan Babri told reporters in provincial capital Pul-e-Khumri, 160 km north of Kabul.\n",
      "=============Reports================\n",
      "Location: []  DateTime:   EventTerm: kill  SubjectTerm:  people  Quantity: 7\n",
      "Location: ['Baghlan Province']  DateTime:   EventTerm: kill  SubjectTerm:  person  Quantity: 1\n",
      "Location: ['Garyzan', 'Pashtunkot', 'Belcheragh']  DateTime:   EventTerm: kill  SubjectTerm:  people  Quantity: 7\n",
      "Location: ['Garyzan', 'Pashtunkot', 'Belcheragh']  DateTime:   EventTerm: damage  SubjectTerm:  homes  Quantity: 1,500\n",
      "Location: ['Baghlan']  DateTime:   EventTerm: kill  SubjectTerm:  person  Quantity: 1\n",
      "Location: ['Baghlan-e-Markazi']  DateTime:   EventTerm: wash  SubjectTerm:  houses  Quantity: 500\n",
      "=============Story================\n",
      "ALGIERS (AA) – Hundreds of homes have been destroyed in Algeria‘s southern city of Tamanrasset following several days of torrential rainfall, a local humanitarian aid official said Wednesday.  The city was pounded by rainfall from March 19 to March 24, according to Ghanom Sudani, a member of a government-appointed humanitarian aid committee.  He added that heavy rains had destroyed as many as 400 residences.  “Hundreds of families have had to leave their homes after they were inundated with water,” Sudani told The Anadolu Agency.  www.aa.com.tr/en  Last month neighbouring Tunisia experienced heavy rainfall and flooding in Jendouba City.\n",
      "=============Reports================\n",
      "=============Story================\n",
      "Flash floods have struck once again in the Badakhshan province of Afghanistan.  According to reports from Chinese state news agency, Xinhua, flash floods struck in the Kofab district of Badakhshan province on Saturday, 25 July 2015. Six people, including women and children, were reported as killed in the floods.  Quoting an official from the Badakhshan provincial government, Xinhua also said that the foods had damaged or destroyed more than 120 houses in the district. The official added that authorities were trying to provide necessary assistance to the affected people.  This is the second time this month that Badakhshan has seen deadly flash floods. Flash floods struck in the Shuhada district of Badakhshan on 07 July 2015, leaving at least 7 dead and around 300 families affected. Since then the International Organization for Migration (IOM) in Afghanistan have been distributing aid and relief for the flood-affected families in Shuhada.\n",
      "=============Reports================\n",
      "Location: []  DateTime:   EventTerm: destroy  SubjectTerm:  houses  Quantity: 120\n",
      "=============Story================\n",
      "Heavy rain on Monday 09 March 2015 flooded at least 3 municipalities of Luanda, the capital of Angola.  According to Angola news agency ANGOP, Luanda fire department have reported the flooding has forced at least 800 families from their homes. Later reports suggest that as many as 1,770 homes have been damaged. The municipalities of Viana, Cacuaco and Belas are said to be the worst affected.  Some streets have been completely blocked by the floods, making it difficult for the authorities to carry out full assessments of the damage. Provincial deputy governor for technical area, Agostinho da Silva, told ANGOP that the government are providing assistance to those in flood affected areas, and have set up pumps to help remove the flood water.\n",
      "=============Reports================\n",
      "Location: ['Luanda']  DateTime:   EventTerm: force  SubjectTerm:  families  Quantity: 800\n",
      "Location: ['Luanda']  DateTime:   EventTerm: damage  SubjectTerm:  homes  Quantity: 1,770\n",
      "=============Story================\n",
      "retrieval_failed\n",
      "=============Reports================\n",
      "=============Story================\n",
      "Watch Queue Queue  Watch Queue Queue Remove all  Disconnect\n",
      "=============Reports================\n",
      "=============Story================\n",
      "Luanda - Bairros e residências inundadas, estradas intransitáveis em quase todos os municípios, mas sem registo de vítimas mortais, é o balanço das chuvas que se registaram nas últimas 24 em Luanda, segundo fontes ligadas as administrações municipais e distritais.  Em declarações hoje, domingo, à Angop, o administrador municipal do Cazenga, Victor Nataniel Narciso, informou, em balanço provis'rio, que dados apontam para a inundação de 200 casas na zona 18 (comuna do Cazenga Popular) , inundações em quase todo município , principalmente nas áreas consideradas crónicas, como as bacias e lagoas do Tio-Mingo, Catumbela, Mabululo, Velho-Kimbundu, Tunga-Ngô e o Buraco\", 5ª, 6ª e 7ª avenidas.  No município de Belas, segundo os registos, as maiores vítimas das inundações continuam a ser as mais de 500 famílias que vivem no bairro das Salinas, no Benfica, que tiveram de abandonar as suas residências, bem como os transtornos na via defronte ao Hospital Geral de Luanda, que devido as escavações feitas, no âmbito das obras de ampliação da estrada, encontra-se intransitável.  Regista-se igualmente, no Belas , a submersão da denominada \"Ponte molhada\", onde duas viaturas encontravam-se presas, ainda esta manha.  O cenário do distrito urbano da Ingombota depois das enxurradas da tarde de sábado é também de inundações em residências, quintais e alagamento de ruas dos bairros da Boavista, da Kinanga e Chicala I e II.  Registou igualmente inundações na Avenida 4 de Fevereiro, principalmente na zona do Banco Nacional de Angola, bem como grandes quantidades de resíduos sólidos foram arrastadas para a parte baixa da cidade de Luanda, que abrange a circunscrição.  No distrito da Maianga, os bairros da Polícia e Cassequel são as zonas de maior concentração de água, enquanto no município de Viana, grande parte das ruas, devido as obras de reabilitação das estradas, estão também submersas.  Já no Sambizanga as ruas 12 de Julho, Ndunduma, bairros Rosa e Lixeira registaram enchentes , enquanto no distrito urbano da Samba, a área da Camuxiba continua a ser considerada a mais crítica.  No distrito Sambizanga e no município do Cazenga as administrações realizam trabalhos de limpeza, com motos bombas e carros para absorção da água.\n",
      "=============Reports================\n",
      "=============Story================\n",
      "The information is contained in a report on the consequences of the rains, released by the Civil Protection commission for the municipalities of Sumbe and Porto Amboim.  According to the report presented by the secretary of State for Local Administration, Fernando Pontes Pereira, who travelled to the region for the purpose, the situation requires strong measures to relocate the people affected into safer places.  The report reads that the rains of March 28 and 29 left 2,160 people from Sumbe and Porto Amboim in a situation of dire need, as one was killed, three wounded and 150 houses destroyed, laving 483 homeless.  The source adds that Cuanza Sul Government is currently busy transferring those affected to safer places in the localities of Pomba Nova , near Sumbe, where tents have been installed for the purpose.\n",
      "=============Reports================\n",
      "Location: ['Sumbe']  DateTime:   EventTerm: destroy  SubjectTerm:  houses  Quantity: three\n",
      "Location: ['Sumbe']  DateTime:   EventTerm: destroy  SubjectTerm:  houses  Quantity: 150\n",
      "=============Story================\n",
      "retrieval_failed\n",
      "=============Reports================\n",
      "=============Story================\n",
      "Flooding in Albania has killed at least three people. Torrential rain caused power cuts and water outages. Schools were closed in the west and south of the country.  A 60-year-old man and his 26-year old daughter were found dead after their car was swept away by floodwaters in Lac, northwest of the capital, Tirana, late Tuesday.  A 21-year-old motorcycle driver was also found dead in Lac, while his teenage passenger was rescued.  Army troops were on standby to help emergency workers with evacuation efforts.  “The children were screaming and crying,” said one unidentified woman whose house was flooded. “I did not know what to do. We decided to put them in a room in the second floor where it is higher.”  Authorities have evacuated families from five buildings.  The flooding hindered hospital and other public services and damaged a large area of farmland.  As the bad weather continued, the number of affected areas increased throughout Wednesday.  In neighboring Greece, weather warnings were issued for nearby parts of the country.\n",
      "=============Reports================\n",
      "Location: ['Albania']  DateTime:   EventTerm: kill  SubjectTerm:  people  Quantity: three\n",
      "=============Story================\n",
      "\n",
      "=============Reports================\n",
      "=============Story================\n",
      "When you boat your way somewhere, even if just for a day out of the city,...\n",
      "=============Reports================\n",
      "=============Story================\n",
      "retrieval_failed\n",
      "=============Reports================\n",
      "=============Story================\n",
      "15 families evacuated Sunday, October 18, 2015 Earthquake in Salta kills a 94-year-old woman, injures 30  The debris of collapsed houses is pictured in El Galpón, Salta province, yesterday. A magnitude 5.9 earthquake struck northwest Argentina, the US Geological Survey reported, leaving at least one person dead and damaging homes. Salta Governor Juan Manuel Urtubey visited the town and promised repair works.  A magnitude 5.9 earthquake struck Salta province yesterday, killing one woman, injuring at least 30 people and extensively damaging the town of El Galpón.  The earthquake hit the town of El Galpón, which is roughly 170 kilometres by road from the provincial capital and 50 kilometres from the epicentre of the earthquake, at 8:33 in the morning yesterday, causing roofs to collapse. Ninety-four-year-old Alberta Flores was killed by a falling beam while she slept. Local doctors reported that 30 others were treated for minor cut and scrapes.  Salta Governor Juan Manuel Urtubey rushed to the town, promising to help reconstruct damaged homes and buildings and confirming that 15 families have been evacuated to the town hall as a precaution against collapse. Urtubey and his Cabinet made the trip to a town where 7,000 residents live after Mayor Héctor Romero appealed for assistance on local radio.  “We don’t have water, the power is out, what we are living through is terrible,” said Romero to the Cadena 3 radio station.  “I was at home and I felt a strong movement and noise, I got my kids out of the house — which also suffered damage to the roof — I went outside and saw that the school had been destroyed. Thank God this was on a Saturday because if not, it would have taken all of the kids.”  Urtubey has ordered that a damage assessment be carried out so that works can start tomorrow. He also said that even though the situation was under control, the province’s medical helicopter was available for the residents of El Galpón if necessary.  In addition to the multiple brick buildings that came down as a result of the tremor, there were reports of damage to the local hospital. Images and video from the town featured bricks scattered across the pavement and shattered walls teetering perilously.  The 5.9 quake lasted for approximately 15 seconds and was reported to have taken place 10 kilometres underground and was felt in neighbouring provinces such as Jujuy, Tucumán, Catamarca, Santiago del Estero and even parts of Chaco province according to the DyN news agency.  Northern Argentina commonly experiences low-intensity earthquakes but yesterday’s was the third this calendar year in Salta with an intensity of at least 5 on the Richter scale.  Argentina’s most destructive earthquake dates back to 1944, killing 10,000 people in the province of San Juan and wiped out large sections of the provincial capital.\n",
      "=============Reports================\n",
      "Location: []  DateTime:   EventTerm: evacuate  SubjectTerm:  families  Quantity: 15\n",
      "Location: []  DateTime:   EventTerm: evacuate  SubjectTerm:  families  Quantity: 15\n",
      "Location: ['San Juan']  DateTime:   EventTerm: kill  SubjectTerm:  people  Quantity: 10,000\n",
      "=============Story================\n",
      "\n",
      "=============Reports================\n",
      "=============Story================\n",
      "PRAGUE—Thousands were forced from their homes and at least 10 people were killed as floodwaters deluged swathes of Europe on Monday, including the historic center of the Czech capital Prague.  Shops and schools were shut and road and rail transports were disrupted across the Czech Republic, Austria and Germany following torrential rains.  The flooding caused chaos at Prague Zoo where around 1,000 animals were moved to higher ground after the Vltava river burst its banks late Sunday.  ADVERTISEMENT  Zookeepers had to tranquilize tigers and other large animals in a dramatic overnight operation.  “It’s a terrifying feeling to experience this all over again,” Petr Velensky, the zoo’s reptile specialist, told AFP, recalling how many animals drowned in a 2002 flood.  Czech rescue crews were searching for four more people believed to have died in floodwaters that cut power to tens of thousands of households.  The heavy rainfall has triggered nightmarish memories of the 2002 floods that killed dozens in the region including 17 in the Czech Republic alone.  The Czech government declared a state of emergency Sunday, deploying 2,000 troops in its rescue drive as more than 8,000 people were evacuated from their homes, officials said.  A house collapse claimed two lives south of Prague, while an electrician was killed trying to switch off a transformer as a precaution, a woman perished when she was hit by a falling tree branch and three men drowned in rivers or drains around the country, police said.  “You realize here what nature can do. How helpless we really are despite having all our technology,” Prague pensioner Helena Holubova said, watching the water rise from a bridge over the Vltava in central Prague.  With Prague’s 14th-century Charles Bridge under threat, a 25-ton excavator was at work throughout the day Monday to remove debris piling up around the structure.  Nikol Voborilova, a worker at a riverside restaurant in Prague, told AFP: “We are closed for now, we’ve moved the equipment out and we have 30-40 centimeters (12 to 16 inches) of water inside.”  The river was expected to peak in the capital on Tuesday.  Thousands of households were hit with power outages, while fallen trees snarled rail traffic across western regions of the Czech Republic, where chemical plants were also shut down as a precaution to prevent dangerous spills seen in 2002.  Flooding also deluged neighboring Germany, Austria and Switzerland. Two people were reported dead in Austria and another person died in Switzerland.  “We’re in shock. We had to leave home in the blink of an eye,” a woman in the eastern German city of Dresden which had been severely damaged in 2002 told the NTV channel.  She and her baby spent the night at a community center, like thousands of others evacuated in the eastern region of Saxony, where rescue efforts by police and soldiers were being hampered by power outages.  Some 2,500 people were evacuated from hard-hit Grimma, near Leipzig.  Two people were reported missing in Germany.  German Chancellor Angela Merkel was due to visit flood-hit regions Tuesday.  In Austria, two people were killed in flooding and close to 1,000 were evacuated as landslides threatened their homes, mostly around the western city of Salzburg and in the north.  Authorities in Austria warned that the Danube and the Inn rivers could surpass levels from 2002, when the country suffered up to 7.5 billion euros ($9.8 billion) in damage.  Water levels on the Danube, Inn and Ilz rivers, which meet in the German city of Passau, have already surpassed records from 2002 and 1954.  “A lot of people who already had to cope with major flooding in 2002 are refusing to leave their homes,” Passau mayor Juergen Duppen told Germany’s N24 TV channel.—Jan Flemr\n",
      "=============Reports================\n",
      "Location: ['Prague']  DateTime:   EventTerm: kill  SubjectTerm:  people  Quantity: 10\n",
      "Location: ['the Czech Republic']  DateTime:   EventTerm: evacuate  SubjectTerm:  people  Quantity: 8,000\n",
      "Location: ['Leipzig']  DateTime:   EventTerm: evacuate  SubjectTerm:  people  Quantity: 2,500\n",
      "Location: []  DateTime:   EventTerm: kill  SubjectTerm:  people  Quantity: two\n",
      "=============Story================\n",
      "Several homes have been damaged and a woman had to be rescued after her house was washed away in a landslide in Victoria's north-east on Tuesday night.  Storms lashed towns around Wangaratta and Bright from 6pm on Tuesday, causing flash flooding and bringing golf ball-sized hail to the area.  SHARE  Share on Facebook SHARE  Share on Twitter TWEET  Pin to Pinterest PIN  Link Part of the landslide on the Great Alpine Road at Ovens, north of Bright, where a house was swept away. Photo: Victoria State Emergency Service/Facebook  A woman had to be rescued when her weatherboard home in the small town of Ovens, north of Bright, was washed away.  Mud and debris from the landslip inundated a section of the Great Alpine Road, forcing the closure of one lane.  The woman escaped serious injury, a police spokeswoman said.  At Moyhu, near Wangaratta, a burst of heavy rain caused flash flooding and brought down trees.  Advertisement  The State Emergency Service received more than 100 calls for help as more than 50 millimetres of rain fell in the area in an hour.  The storms brought down more than 70 trees in the area, damaging 14 buildings, an SES spokeswoman said. Four homes were flooded.  The heaviest rainfall was recorded at Carboor​ Upper, where 94.6 millimetres fell in two hours.  The small town of Eurobin received 82.6 millimetres, while Mount Buffalo received 64 millimetres.  Closer to Melbourne, Traralgon received 36 millimetres.  It was fortunate the storms developed just east of Melbourne, Bureau of Meteorology senior forecaster Scott Williams said.  \"It would have been mayhem on our roads if that rain had fallen here,\" he said.  Mr Williams said Wednesday and Thursday would be fine and sunny, ahead of a cooler spell on Friday and Saturday.  A top of 21 degrees is forecast for Friday, while a maximum of 19 is forecast for Saturday, with possible showers in Melbourne and southern Victoria.\n",
      "=============Reports================\n",
      "Location: []  DateTime:   EventTerm: damage  SubjectTerm:  buildings  Quantity: 14\n",
      "=============Story================\n",
      "The number of homes destroyed in the Wye River fire on Victoria’s Great Ocean Road on Christmas Day has risen to 116.  Country Fire Authority deputy incident controller Mark Gunning said 116 houses in Wye River and Separation Creek had been destroyed in the 2200-hectare blaze.  “That will probably be the final number, as we’ve just completed an extensive search,” Gunning said on Saturday evening.  The fire swept through bushland and began to advance toward the town of Lorne on Friday night.    And the emergency management commissioner, Craig Lapsley, said the blaze could continue burning until January or February. Even a dousing of rain on Saturday was unlikely to do much in the long term once the state began to dry out. “This fire doesn’t go away,” Lapsley said.  Great Ocean Road bushfire: homes destroyed as five towns evacuated Read more  More than 300 firefighters spent the night fighting the fire after the town of Lorne was evacuated on Friday evening. Residents were told they could go home after an evacuation recommendation was lifted shortly after 9am on Saturday.  The nearby townships of Wye River, Separation Creek, Kennett River and Grey River were evacuated earlier on Friday afternoon. Emergency warnings remain in place for Wye River and Separation Creek, and both areas remained closed on Saturday afternoon.  “Power is out, though fallen domestic solar power lines remain a threat,” a Country Fire Authority notice said.    “There are a number of hazardous tress that have been burnt and are dangerous, and damage to septic systems can result in leaking sewerage and health hazards.”    Crews were also assessing the full extent of property damage in area.    Watch and act alerts were in place for Lorne, Allenvale, Kennett River and Grey River on Saturday.      Lapsley said on Saturday morning: “Obviously we are very pleased to see the emergency warning lifted for Lorne, and that means VicRoads and VicPol can now go about restoring roads so people can access all the way down the coast to Lorne.    “However, the roads from Lorne south will be closed for days until VicRoads and others, local government, do their assessments of the roads to ensure they are safe and until they are safe people won’t be able to access that area.  “Those people in Wye River and Separation Creek that have lost properties, we’ll do our best in the next 24 hours to get those people back in to have a look at the damage, the impact and destruction that this fire has caused.”  Lapsley said strong local winds on Friday had blown embers over control lines – something that had only been expected to happen on a much hotter, windier day – but the response was well planned.  “That plan played out. It was actioned just before lunchtime on Christmas Day where the community were told to evacuate. And they did that in a very orderly way.  “We always say that primacy of life is the critical issue in the state particularly after the royal commission [into the] fires of 2009. That’s the direct result of why we haven’t lost life for what is a very intense fire yesterday … [people] walked away from the fire that had every potential to be a killer.”  Daniel Andrews, the state premier, said Victorians were “opening up their homes” and assisting people who had “not had a very good Christmas at all – people who are out of their homes, out of their areas and doing it tough at the moment. The very best comes out at the very worst of times.    “This is really a very challenging fire – but in the planning and the execution and indeed in terms of the outcomes, no person has been harmed. That’s something that we can be very proud of.  “It will be a very difficult few days, though, indeed many weeks, for those who have lost their homes, or at least have lost a premises. I can confirm that 35 houses are gone in Wye River, 18 are gone in Separation Creek. And the fire stopped just some 500 metres short of Kennett River. There would have been several more losses if it had kept going.”  Weather over the next few days has been predicted to be favourable for firefighting, with rain and lower temperatures.  The main firefront had not gone through Kennett River, but firefighters defending homes there had put out spot fires and no properties had been reported burnt.  Holidaymakers were being advised on Saturday to stay away, and those away from their homes were told not to return yet.  The Great Ocean Road remained closed from Bellbrae to Skenes Creek on Saturday morning but was reopened between Torquay and Lorne.  Community meetings were due to be held at lunchtime on Saturday at relief centres in Apollo Bay and Torquay.  Organisers of the Falls music festival, due to be held near Lorne from Monday, were due to meet fire authorities at noon on Saturday to discuss whether it could go ahead.    “The township of Lorne is now being evacuated, the Falls farm itself is safe from the path of the fires,” a statement on festival’s website said.    “We are working with the CFA, fire authorities and emergency services to stay across the current situation.”    The festival is scheduled to begin on Monday and run until New Year’s Day.  The Bureau of Meteorology predicted a top of 18C at Lorne on Boxing Day and up to 20mm of rain.  \n",
      "=============Reports================\n",
      "Location: []  DateTime:   EventTerm: destroy  SubjectTerm:  houses  Quantity: 116\n",
      "=============Story================\n",
      "\n",
      "=============Reports================\n",
      "=============Story================\n",
      "Story highlights Storm makes landfall around 8 a.m. Friday  Queensland's Bureau of Meteorology warns that \"very destructive winds\" were on the way  State premier says storm has weakened but remains very serious  (CNN) Australia's Queensland coast continued to be lashed by heavy rain and winds exceeding 250 kilometers per hour (155 mph) Friday, despite Tropical Cyclone Marcia being downgraded to a Category 4 storm.  Queensland Premier Annastacia Palaszczuk warned the storm remained \"very serious\" and urged the public in affected areas to remain indoors amid the threat of flooding and high winds, which have brought down trees and caused some damage to homes.  During a press conference, she said the storm system was now moving south along the coast from the town of Yeppoon towards Rockhampton, which lies 595 kilometers (370 miles) north of Brisbane, the state capital.  Around 33,000 households in the area are now without power, she said, warning that this number was likely to grow as the day progresses.  \"It is still a dangerous cyclone. We are heartened that it has reduced from a (Category) five to a four, but ... it is heading towards Rockhampton, a heavily populated regional town in Queensland, and we want everyone to be safe. So stay in doors,\" Palaszczuk said.  Read More\n",
      "=============Reports================\n",
      "=============Story================\n",
      "A profiling exercise led by NRC in 2005 found that 65,000 families were displaced during the 1988-1994 conflict between Azerbaijan and Armenia over Nagorno-Karabakh. The vast majority were displaced from areas near the border with Azerbaijan, mainly Syunik, Tavush, Gegharkunik, Vayots Dzor and Ararat.  The majority had returned by 2005, when around 8,400 IDPs were still living in displacement. Of that number, 2,615 were from the Armenian enclave of Artsvashen, an outlying district of the Armenian province of Gegharkunik completely surrounded by Azerbaijani territory. Their prospects for return are low in the absence of a resolution to the conflict.  The NRC profiling exercise is the single available source on IDP figures in Armenia. Neither the authorities, nor civil society or international organisations have undertaken a more recent data verification exercise.\n",
      "=============Reports================\n",
      "Location: ['Azerbaijan', 'Armenia']  DateTime:   EventTerm: displace  SubjectTerm:  families  Quantity: 65,000\n",
      "=============Story================\n",
      "\n",
      "=============Reports================\n",
      "=============Story================\n",
      "retrieval_failed\n",
      "=============Reports================\n",
      "=============Story================\n",
      "retrieval_failed\n",
      "=============Reports================\n",
      "=============Story================\n",
      "\n",
      "=============Reports================\n",
      "=============Story================\n",
      "Heavy overnight rainfall has caused rivers in the Sarajevo area to rise and flood homes in the suburbs for the fifth time in the past 20 months.  The city's Civil Protection department said Monday that about 100 homes were underwater. Rescuers evacuated an elderly woman but are complaining that many residents are refusing evacuation.  Bosnians have still not recovered from the devastating floods in May, the worst in 120 years. The flooding displaced 90,000 people from their homes and left 43,000 homes in need of repair. The water wrecked the agriculture industry, infrastructure, farms, buildings and homes in 40 percent of Bosnia.  Rain is expected to continue to fall for the rest of the week.\n",
      "=============Reports================\n",
      "Location: []  DateTime:   EventTerm: displace  SubjectTerm:  people  Quantity: 90,000\n",
      "=============Story================\n",
      "El número de personas fallecidas por el deslizamiento de un cerro en el departamento boliviano de Cochabamba (centro) a causa de las lluvias se elevó a 14, entre ellos varios niños, informaron hoy fuentes oficiales.    El alcalde de Morochata, Juan Vegamonte, señaló que las víctimas son ya 14, aunque hasta ahora sólo se han recuperado cuatro cuerpos, uno de ellos el de un pequeño de cuatro años, según un reporte de radio Erbol.    La avalancha se produjo el pasado sábado por la noche en el municipio de Morochata a consecuencia de las intensas lluvias de las últimas semanas, y sepultó numerosas viviendas a las que los equipos de rescate tratan de acceder con gran dificultad, por lo que aún no se han recuperado los cuerpos de al menos diez personas.    Entre los sepultados hay otros seis niños, según la secretaria de los Derechos de la Madre Tierra en Cochabamba, Cinthia Vargas.    Tareas de rescate van lentas  Las tareas de rescate también se han visto ralentizadas debido a que el terreno aún es inestable y podrían ocurrir nuevos deslizamientos.    Más de diez familias han sido evacuadas por seguridad a otra comunidad de Morochata.    El presidente de Bolivia, Evo Morales, se desplazó esta madrugada a la zona afectada para coordinar las labores de ayuda a los damnificados, anunció por su parte el vicepresidente Álvaro García Linera.    Morales ha sobrevolado las áreas afectadas y aterrizará en Cochabamba si el tiempo lo permite, indicó García Linera a través de un comunicado de la Vicepresidencia.    La temporada de lluvias, que en Bolivia se extiende desde octubre a marzo, ha dejado ya 40 fallecidos, cuatro desaparecidos y casi 47,000 familias afectadas, además de pérdidas millonarias en los sectores agrícola y ganadero.    A esas cifras se suman ahora las 14 víctimas mortales por el derrumbe del cerro en Morochata.    El departamento más afectado por las intensas precipitaciones es el de Cochabamba, seguido por los de Chuquisaca, Potosí, La Paz, Beni, Santa Cruz y Pando.\n",
      "=============Reports================\n",
      "=============Story================\n",
      "\n",
      "=============Reports================\n",
      "=============Story================\n",
      "\n",
      "=============Reports================\n",
      "=============Story================\n",
      "At least 41 people have died in floods that have swept through the country's southeast in recent weeks.  At least 41 people have died and nearly 70,000 have been left homeless following torrential rain in southeast Brazil over the past few weeks, officials have said.  In Espirito Santo state, Civil Defence officials on Thursday reported a total of 27 fatalities, including eight on Thursday, in what they described as the worst rains in 90 years.  They said 61,379 people were forced to leave their homes.  President Dilma Rousseff interrupted her year-end holidays on Friday to tour flood-hit areas of Espirito Santo.  \"We are going to have to rebuild the state,\" said Governor Renato Casagrande amid extensive flooding and damage to bridges and roads.  In neighbouring Minas Gerais state, where the downpours began in October and have worsened in the past few days, have authorities reported 17 deaths and said 4,150 people were forced to evacuate their homes.  A 56-year-old woman died on Wednesday in a landslide that buried her house in Juiz de Fora, 278 kilometres from Belo Horizonte, the capital of Minas Gerais.  Aid pledge  Last week, a family of six, including a seven-year-old child, died when a mudslide swept away their home in Sardoa, in the eastern part of the state.  A total of 79 towns were affected across Minas Gerais and a state of alert was declared in 26 of them.  On Tuesday, Brazilian President Dilma Rousseff flew over flood-hit areas of Espirito Santo and pledged federal aid to the victims.  In early December, a storm also left 16 people dead and flattened more than 200 houses in the city of Lajedinho in the northeastern state of Bahia.  Source: Al Jazeera and agencies\n",
      "=============Reports================\n",
      "Location: []  DateTime:   EventTerm: die  SubjectTerm:  people  Quantity: 41\n",
      "Location: ['Brazil']  DateTime:   EventTerm: die  SubjectTerm:  people  Quantity: 41\n",
      "Location: ['Civil Defence']  DateTime:   EventTerm: force  SubjectTerm:  people  Quantity: 61,379\n",
      "Location: []  DateTime:   EventTerm: force  SubjectTerm:  people  Quantity: 4,150\n",
      "=============Story================\n",
      "\n",
      "=============Reports================\n",
      "=============Story================\n",
      "Verified  Tutong  Description  Continuous downpour has generated heavy flooding and landslide in Tutong district. About 4 subdistricts i.e Rambai, Ukong, Tanjong Maya and Lamunin have been flooded. Ukong and Tanjong Maya are the most suffered area with 4,900 people being affected.IMPACT- at least 5,847 people were affected- 1,026 houses were affected- 51 peole were evacuated- collapsed roadRESPONSE- The Government provided assistance by evacuating the people, distributing logistic supplies and establishing evacuation shelters.\n",
      "=============Reports================\n",
      "=============Story================\n",
      "Furacão Fred em Cabo Verde [YouTube]  Redação / VC/SS - inserida às 10:52\n",
      "=============Reports================\n",
      "=============Story================\n",
      "Verified  Kampong Cham, Kratie, Stung Treng and Kandal  Description  Due to high intensity of rainfall, Mekong River has swell and caused flooding to the surrounding areas. More flooding is expected if the rain continues. The provinces affected so far includes: Kampong Cham, Kratie, Stung Treng and Kandal12 out of Cambodia's 25 cities and provinces are suffering from floods caused by monsoon rains and Mekong River floodingIMPACT45 dead16,000 families were affected and evacuated3,080 houses inundated44,069 hectares of rice field were inundated5,617 hectares of secondary crops were inundatedRESPONSEThe local authorities provided response to the affected communities. More impact assessment is still conducted by provincial and national authorities.The government also prepared 200 units of heavy equipment in Phnom Penh and the provinces of Takeo, Svay Rieng, Oddar Meanchey and Battambang to divert water or mitigate overflows from inundated homes and farmland\n",
      "=============Reports================\n",
      "=============Story================\n",
      "TORONTO – The City of Calgary says only a small number of buildings may still be without power in the downtown core after last week’s devastating floods in southern Alberta that left three dead.  Officials say some structures may not yet have power because of specific electrical or other issues that need to be resolved first and officials say work will continue to restore electrical service to a number of residential neighbourhoods that were also hard hit by flooding.  In Medicine Hat, inspectors will carry on checking homes Wednesday as thousands of homeowners were forced out as a precaution when levels rose dramatically on the South Saskatchewan River.  Owners are being urged to clean their properties if they encounter problems to avoid health concerns.  In dozens of neighbourhoods in flood-ravaged Alberta communities, thousands of volunteers are helping residents struggling to clean up and around their homes. On Monday, approximate 2,500 people showed up at McMahon Stadium in Calgary alone, ready to help strangers.  Earlier this week, Alberta Environment officials said it has completed or is working to implement 13 of the 18 recommendations contained in the flood mitigation report that was presented to the government in 2006.  The work has included mapping the flood risk of 90 rivers and streams.  As residents continue to clean up after the flood, here’s a brief “by the numbers” look at the Alberta floods (please note: numbers below are subject to constant change):  100,000 to 120,000 – The number of people that were forced out of their homes across Alberta due to the floods.  75,000 – Estimated number of Calgarians that were evacuated last week. 10,000 are still waiting to return home.  2,000 – Number of Calgary evacuees still housed in emergency centres or dormitories.  75,000 – Number of citizens who had to flee high water from the Bow and Elbow rivers after last week’s floods.  22- Number of confirmed local states of emergency as of June 25.  10 – The number of years it could take to rebuild the communities in flood affected areas in Alberta.  22 – Number of active local Emergency Operations Centres in southern Alberta.  13,000 to 15,000 – Number of residents evacuated from High River in Alberta.  80 – Percentage of High River that remained without services and the waste-water treatment plant wasn’t working as of Monday.  11,000 – Number of homes and businesses still out of power in Calgary.  9 – Number of community support centres being opened around flood zones Wednesday.  300 – Approximate number of people who ignored the High River evacuation order.  5 – Number of Alberta Search and Rescue teams working with emergency responders in affected communities.  31 – Number of communities directly affected by the floods. Find out the latest info here.  1,000 – Approximate number of homes that were hit by high water in Medicine Hat. Nearly 10,000 residents in that city were forced to head for higher ground.  1,200 – Approximate number of Siksika First Nation residents that were evacuated due to heavy flooding along the Bow River.  1,500 – Number of people registered at Medicine Hat’s emergency centre as of Sunday June 24. Accommodation had been provided for about 600 displaced residents.  $1,000,000,000 – The amount of money the province of Alberta has approved to kick-start flood recovery.  $3 to $5 billion – Initial flood damage estimates according to preliminary report from BMO analyst Tom MacKinnon. BMO predicts 25 per cent will not be covered by insurance.  $1,250 – The amount of money given to displaced adults who qualify for a pre-loaded debit card in order to help with their immediate housing needs and day-to-day purchases. $500 will be given per eligible child.  $400 million – The damage cost of the last major flood to hit Calgary in 2005.\n",
      "=============Reports================\n",
      "Location: []  DateTime:   EventTerm: force  SubjectTerm:  residents  Quantity: 10,000\n",
      "=============Story================\n",
      "Heavy storms over the past week slammed eight provinces, leaving four people dead and hundreds of houses damaged or destroyed, according to Keo Vy, cabinet chief for the National Committee for Disaster Management.  Kompong Cham, Oddar Meanchey, Pailin, Battambang, Banteay Meanchey, Siem Reap, Ratanakkiri and Prey Veng provinces were all affected by the severe weather, Mr. Vy said.  Banteay Meanchey and Battambang were the worst affected by the storm, he said, adding that while small storms may persist, the worst of the bad weather has passed.  The most recent victim was a 60-year-old man in Battambang province’s Kamrieng district who was crushed when his house collapsed during a violent thunderstorm on Wednesday.  In Banteay Meanchey, 31 houses were destroyed and more than 300 damaged, while in Battambang, 36 houses were destroyed and 85 damaged.  sokhean@cambodiadaily.com  © 2014, The Cambodia Daily. All rights reserved. No part of this article may be reproduced in print, electronically, broadcast, rewritten or redistributed without written permission.\n",
      "=============Reports================\n",
      "Location: ['Battambang']  DateTime:   EventTerm: destroy  SubjectTerm:  houses  Quantity: 31\n",
      "Location: ['Battambang']  DateTime:   EventTerm: destroy  SubjectTerm:  houses  Quantity: 36\n",
      "=============Story================\n",
      "Wildfires have forced evacuations in two Alberta communities and in the B.C. interior.  Emergency alerts have been issued for Nordegg and Lodgepole in Alberta because two separate fires are burning within a few kilometres of each community, and a rapidly growing fire in central B.C. has forced the evacuations of about 50 homes.  Between 40 and 250 people were affected by the wildfires in Nordegg, Alta., an official said. (Courtesy Clearwater County Twitter, @clearwtrcnty)  The fire near Nordegg, 200 kilometres southwest of Edmonton, has been burning for several days with residents on a one-hour evacuation notice since Thursday.  The fire grew overnight reaching more than 300 hectares.  Duncan MacDonnell with Alberta Sustainable Resource Development said crews had the fire contained, but officials were still poised to issue an evacuation order if the blaze broke through any containment points.  MacDonnell said the fire near Lodgepole, which is about 100 kilometres southwest of Edmonton, is new.  Wildfire information officers with the province said late Sunday that as the sun set and winds died down, the situation with both fires appeared to be calming down and their spread was slowing.  About 100 Nordegg residents were forced from their homes.  About 140 people from Lodgepole registered at the evacuation centre in Drayton Valley. Displaced residents said they couldn't believe how quickly the situation escalated.  \"Next thing I hear was the siren,\" said Gail Tkaczyk. \"And it's the police officer coming down the driveway and we've got to go. No time to think twice.\"  \"You don't have enough time to really think properly,\" said Evangeline Braun. \"Grabbed my dog and it was get on the road. That was that quick. So there wasn't much time at all.\"  Braun said the volunteers at the evacuation centre have been kind and helpful. \"I want to say thank you to all of them,\" she said.  1,260 hectares burn near Lodgepole  Roughly 1,260 hectares were burning in the fire near Lodgepole by early Monday evening as winds had pushed the blaze towards the community.  About 120 firefighters were on the ground, with more expected on Tuesday.  The fire was considered \"laying low\" as of Monday at noon, but firefighters remained concerned the winds could pick up in the afternoon.  Residents living a few miles east of Lodgepole near Highway 620 and Range Road 90 are taking in stride a one-hour evacuation alert.  \"Nothing we haven't seen before,\" said Ken Newby as he continued doing chores around the yard, noting there was less smoke than yesterday.  George Cook said he \"didn't think it was anything to be concerned about,\" leaving for work as usual in Drayton Valley Monday morning.  Alberta issued a fire weather advisory for the province Sunday, saying that high winds and dry temperatures made the likelihood of uncontrolled wildfires high.  Residents of Nordegg are being told to go to Rocky Mountain House about 100 kilometres east of the community.  Lodgepole residents are being told to go to Drayton Valley, which is about 50 kilometres away.  Last week, a provincial official said conditions in some areas were similar to May 2011 when flames roared through the town of Slave Lake, destroying hundreds of homes and forcing thousands of people to flee. The wildfire caused an estimated $1 billion in damage, including firefighting and relief costs.  In B.C., the 1,100-hectare Spatsum Creek fire, west of Kamloops and about 20 kilometres south of Ashton, has more than doubled in size since Saturday as winds have fanned the flames.  Kevin Skrepnek, spokesman for the B.C. Wildfire Management Branch, says hot weather has caused an increase in the number of wildfires this year. There have already been 177 wildfires in the province since April 1 — all but two have been caused by human error.\n",
      "=============Reports================\n",
      "Location: []  DateTime:   EventTerm: force  SubjectTerm:  residents  Quantity: 100\n",
      "=============Story================\n",
      "By KHRISNA VIRGIL  Tribune Staff Reporter  kvirgil@tribunemedia.net  PRIME Minister Perry Christie said yesterday the government plans to simultaneously rebuild the hurricane-ravaged Family Islands where an estimated 836 homes were completely destroyed.  Mr Christie said based on information from the Department of Social Services, Hurricane Joaquin wiped out 413 homes in Long Island, 227 houses in San Salvador, 123 homes in Acklins, 50 houses in Crooked Island and 23 residences in Rum Cay.  However, Mr Christie suggested that the numbers could increase as teams continue to assess the damage to homes and provide assistance to impacted and displaced families.  Last week, the nation’s leader said an initial estimate of the costs of damage due to Hurricane Joaquin was already at $60m and was expected to rise as the additional assessments came into the Ministry of Finance.  While he has stated the government will most likely borrow money to assist with rebuilding, he revealed yesterday that the government has received grants to assist with the effort. The most recent grant was $1.7m from the Japanese government through its Japanese Aid Programme.  The prime minister yesterday spoke about this matter in the House of Assembly and the progress made on the southern and central islands since the passage of the category four storm earlier this month.  “This is a continuing exercise,” Mr Christie said, “and based on their (the assessors) findings, the government will respond in kind as a part of the work of the National Restoration and Recovery Unit. This will be done in the shortest possible time as the primary consideration of my government is to house and restore the physical comforts of our citizens.”  He continued: “Mr Speaker, I have met personally with the leaders of these teams, the engineers from the Ministry of Works and all the technical people of the government with the view to indicating that the intention of the government, Mr Speaker, which is to restore these matters in the shortest possible time and that we want to have a comprehensive approach to restoration, not one island at a time, but all islands at the same time.  “So, Mr Speaker, I expect as these teams come in that works will commence, in fact work has already commenced on some islands.”  The Department of Housing, he said, has provided designs of houses constructed following previous hurricanes, however, the foundation designs have to be adjusted to account for higher flood levels experienced during Hurricane Joaquin. Local contractors will be given the opportunity to construct the homes in the various Family Islands.  Mr Christie said as the efforts begin, the National Emergency Management Agency (NEMA) has purchased five “homes on wheels” that can each accommodate three adults or two adults and two children. Additionally seven mobile trailer homes were procured that are able to accommodate six to 10 persons.  The temporary units will be assigned to families and government employees on the affected islands who have been displaced due to the destruction of their homes or rental units while the construction of permanent replacements are completed.  Telecommunications  Immediately after the passage of Hurricane Joaquin, BTC discovered that 59 of its cell sites were off line that negatively affected 59 communities in the central and southern islands.  However, over the last two weeks, BTC has been able to restore services to all islands except south Long Island where two cell sites are down in the settlements of Roses and Mortimer’s. This is due to downed poles that are hindering the restoration of normal services, Mr Christie said.  He said at the moment there are no fixed Internet services to the south of Clarence Town, but work is continuing.  In Acklins, all sites are still down and dishes have been destroyed. Mr Christie said in Lovely Bay residents are able to make cellular calls using the site at Crooked Island. Also in Long Cay the dish on the cell tower needs to be re-aligned.  Family Island airports  The Department of Civil Aviation, Mr Christie said, has confirmed that all airports in the islands affected by Hurricane Joaquin are open for normal operations, although some terminal buildings suffered damage.  The last to be re-opened was Deadman’s Cay Airport in Long Island, which was opened for service on October 9.  He said the Department of Civil Aviation is continuing to carry out assessments on the conditions of the airports in the affected areas with a view towards any immediate remediation that may be necessary.  Social Services  In the immediate aftermath of the hurricane, Mr Christie said the Department of Social Services deployed four teams consisting of 14 social workers to conduct rapid initial damage assessments and assist with distribution of food and water to the severely affected islands.  The team deployed to Rum Cay conducted assessments on 29 homes, but were unable to process any of the winter residents whose homes may have been affected. He said the social workers are still compiling data on the number of residents by gender – this includes 10 school age children.  In San Salvador the team assessed 216 homes and counted 62 unoccupied homes. There are 227 students on the island, however, five have relocated to the capital.  During assessments in Crooked Island, the department processed 25 homes. Sixteen people remain in the clinic, as their homes are inhabitable.  There are seven homes remaining in Long Cay, which had 24 persons.  Mr Christie said long-term accommodations need to be identified for them along with the other residents whose homes were destroyed or severely damaged.  In Acklins, social workers completed 107 assessments. This does not include the persons whose homes were destroyed. They are in the process of compiling their data.  A team was deployed for Long Island on October 5. The team reported that the island was severely damaged which resulted in many homes being destroyed.  Mr Christie said it was difficult for the social workers to obtain an accurate count of all the families and homes that were affected by Hurricane Joaquin. However, they continue to process and compile information on the number of men, women and children affected.  Mr Christie said with respect to the restoration and recovery of vital state owned infrastructure, the Ministry of Works and its Urban Planning Department has completed its initial survey of damage, including roads, causeways and bridges and other government installations, including schools, clinics, and official residences.  He said he was in the process of analysing this report to decide on further action.  Staff from the Ministry of Housing are currently reviewing the assessments and compiling lists of building materials required for repairs in the affected islands.  Mr Christie said NEMA is also sourcing building materials which will be shipped to the Family Islands to be distributed to persons who have requested and qualified for assistance with building materials only or for building materials and labour.  The Royal Bahamas Defence Force will assist with some of the smaller repairs and NEMA is compiling a list of contractors and skilled construction craftsmen in the various Family Islands who will be able to assist with labour for repairs.  The technical staff of the Disaster Recovery and Reconstruction Unit with the help of other government agencies is compiling the list of homes that will have to be constructed to accommodate those persons whose homes were destroyed and have no source of permanent shelter.  Mr Christie said it is expected that there will be a close liaison between all of these engineering teams to ensure that there is no overlapping and more importantly that nothing falls between the cracks.\n",
      "=============Reports================\n",
      "Location: []  DateTime:   EventTerm: destroy  SubjectTerm:  homes  Quantity: 836\n",
      "=============Story================\n",
      "As many as 2,214 households have been affected by the rainstorms in Rio Grande do Sul, the Emergency Management Service reported today (Dec. 28). A total of 1,964 households were displaced. The storms hit forty municipalities.  According to the government of Rio Grande do Sul, the State Coordination for Emergency Management continues to monitor and provide assistance to the impacted municipalities and communities.  Last Saturday (26), President Rousseff flew over the region, which borders Argentina and Uruguay, and announced the provision of $6.6 million to help communities hit by the floods.  This has been the fifth flood this year in the state, and the most severe. The Quaraí river rose a record 15.28 meters. The situation got even worse with the rise of the Uruguay river.  The rainstorm has disrupted rice harvest in the municipality of Quaraí and caused the Quaraí-Artigas international bridge between Brazil and Uruguay to remain closed off for 22 hours.    Translated by Mayra Borges\n",
      "=============Reports================\n",
      "=============Story================\n",
      "retrieval_failed\n",
      "=============Reports================\n",
      "=============Story================\n",
      "retrieval_failed\n",
      "=============Reports================\n",
      "=============Story================\n",
      "What is DMIS ? The Disaster Management Information System (DMIS) is a web-based working tool made accessible only to Red Cross and Red Crescent staff working in National Societies, delegations and Geneva headquarters. It is a system from which users will be able to access: real time information on disaster trends  online internal and external resources  tools and databases  The DMIS project started in February 2001 as a follow up to Strategy 2010 and in response to the need for informed decisions, speed and efficient operational readiness. DMIS is the result of a major effort made by the Federation in addressing the complexity of information exchange in the humanitarian community and to support an efficient disaster preparedness and response for the whole Federation's Red Cross and Crescent network at a global level. DMIS continues in the same vein with the successor Strategy 2020.\n",
      "=============Reports================\n",
      "=============Story================\n",
      "retrieval_failed\n",
      "=============Reports================\n",
      "=============Story================\n",
      "retrieval_failed\n",
      "=============Reports================\n",
      "=============Story================\n",
      ":(  Lo sentimos  No se encuentra la página que ha solicitado. No existe o ha sido eliminada de nuestro servidor.  Si has llegado aquí desde algún enlace nuestro, te agradeceremos que nos escribas al formulario de contactos.\n",
      "=============Reports================\n",
      "=============Story================\n",
      "\n",
      "=============Reports================\n",
      "=============Story================\n",
      "ESSA TWP. – Victims of the June tornado which tore through Angus don't qualify for provincial funding under the Ontario Disaster Relief Assistance Program.  Essa Township Mayor Terry Dowdall received a letter to that effect from the Ministry of Municipal Affairs and Housing earlier this month.  “Unfortunately, the province said with our ability to pay and the state of the municipality, because it is in good shape, that we can just afford to eat that,” Dowdall said. “I'm quite disappointed. I know Premier (Kathleen) Wynne was up here. She saw the devastation, the damage.”  The June 17 tornado whipped through Essa Township around the supper hour, leaving 100 families homeless while others had to clean up downed trees and debris.  The EF2 tornado left a 13-kilometre track of destruction - beginning in south Angus, crossing Essa Township and eventually ending due east in the Essa and Athabaska roads area of south Barrie. An EF2 tornado can blow off roofs and uproot trees with wind speeds of 180 to 220 kilometres an hour.  Within hours of the storm, Dowdall had declared a state of emergency and brought in Essa Township emergency departments staff, as well Simcoe County administrators, to assist the 300 people displaced by the storm.  Dowdall said approximately $140,000 has been raised by the community for disaster relief, and he was hoping for two-to-one provincial funding, but would have accepted one-to-one.  Intead, Essa is getting none-to-one.  “We all pitch in, we all pay for part of that fund, all Ontarians, and there certainly was enough damage up here that I think council was of the belief, and the residents were of the belief, that the province should have came forward,” Dowdall said.  “I'm kind of at a bitter loss for words how they don't see even one-to-one funding, to help out these residents, to get their lives back on track.”  A letter from Ontario Minister of Municipal Affairs and Housing Ted McMeekin said the Ontario Disaster Relief Assistance Program is designed to restore essential municipal infrastructure or private property to its pre-disaster condition, so communities can get back on their feet.  Factors include the nature and impact of the disaster on the community, the municipality's ability to pay for damage repairs and the degree of insurance coverage.  “I understand that most of the residents impacted by the tornado had insurance coverage and your excellent fund-raising efforts will be able to support those few residents in your community who may have uninsured losses,” said McMeekin in the letter.  Essa Township was also looking for approximately $55,000 in municipal damages, which Dowdall said was to pay for staff overtime associated with the tornado.  That request was turned down too.  “As these costs represent approximately 1% of your tax revenue this seems well within the ability of the municipality to manage,” McMeekin said.  “We weren't asking for the world. I was a bit shocked,” Dowdall said of the ministry's rejection. “It certainly took a little bit of the wind out of the sails.”  He said Simcoe-Grey MPP Jim Wilson is going to raise the matter with the Ontario government.  But Wilson is a Progressive Conservative, and it's a majority Liberal government that Ontarians elected June 12.  “That's part of, probably, the dynamics of our application, perhaps, which I would hope's not the nature,” Dowdall said, “but I guess that's for others to decide, to read into that.  “From my perspective, when I see what they (the province) have spent a lot of money on, this (fund) is something really to help the grassroots people in the community and even $140,000 on one-to-one isn't a lot in the grand scheme of things.”  Dowdall said the only good news from the province's rejection is the money which has been raised can be dispersed. Previously, it had to held to get those matching dollars.  “We're just holding onto it in trust, we're not actually the ones who are going to divvy it up,” he said. “There's a committee that's going to decide how to do that.  “The community just rallied. The businesses and all the residents just rallied to raise this money, with the hopes that the province would match.”  Asked Thursday how much money was in the Ontario Disaster Relief Assistance Program, a Ministry of Municipal Affairs and Housing spokesman said the government does not have a set budget for it.  With files by Cheryl Browne  bob.bruton@sunmedia.ca\n",
      "=============Reports================\n",
      "=============Story================\n",
      "CHAD (23 Aug.) - Thousands of homes collapsed and schools were damaged in camp Mile for Sudanese refugees in eastern Chad due to heavy rains that struck the region on Thursday.  Sheikh Abbakar Abdullah Al Doum Tajouri, spokesman for the camp’s refugees, told Radio Dabanga that “torrential rains led to the destruction of 2,082 houses. In addition, eight schools were damaged, including desks, books, pamphlets, and stationery. Rains also uprooted 178 trees.”  According to the sheikh, the affected families are currently living in the open. He has asked the UN High Commissioner for Refugees and other agencies to expedite the provision of tents, tarpaulins, blankets, and food.  Heavy rainfall also injured two people, including an elderly woman, in refugee camp Kariari in eastern Chad.  A sheikh told Radio Dabanga that 800 houses were destroyed by rain and that a number of cattle were killed by floods that “washed the region.”  He is calling upon humanitarian organisations to expedite the provision of aid to dozens of families which do not have shelter, food, or medicine.\n",
      "=============Reports================\n",
      "Location: ['Kariari', 'Chad']  DateTime:   EventTerm: destroy  SubjectTerm:  houses  Quantity: 800\n",
      "=============Story================\n",
      "While conditions were not favourable for wildfires in most areas of the country in 2014, it was still a huge wildfire year in Canada. According to the Canadian Interagency Forest Fire Centre, although the absolute number of wildland fires was 10 per cent less than the 20-year average, the area burned was three times higher than the 20-year national average (4.6 million hectares vs. the normal 1.5 million hectares). So even with parts of Canada being, at times, soaked by heavy rains or underwater from floods, the Northwest Territories and British Columbia made up for it all with exceptional warmth and dryness that brought sparks to infernos in no time flat.  ©Environment Canada  In the Northwest Territories it started with a cold winter and scanty snows that left the ground and forest litter dry. With summer came clear skies and record warm temperatures that optimized already perfect conditions for fires to spread. The principal culprit was a stalled ridge of drying air anchored over the Mackenzie River valley for weeks. Temperatures from Tuktoyaktuk to Yellowknife averaged well above historic averages. The Mackenzie region averaged 1.6°C warmer than normal – the seventh warmest summer in 67 years. Yellowknife had 22 days in June and July at or above 25°C, compared to an average of eight, and only two days in June and three in July with rain. In a 91-day span, from the May long-weekend onwards, Yellowknife received only one-half its normal rainfall. As further evidence of the dryness, water levels in the Mackenzie River dropped to some of the lowest seen in more than 30 years. So it was no surprise to anyone that the Northwest Territories had its worst fire season in 30 years with nearly 3.4 million hectares razed. That’s seven times the normal acreage consumed and six times the size of Prince Edward Island. At the peak of the fire season, smoke, ash and moisture from intense fires travelled as high as 15 km in the air, easily circling the globe. Some plumes travelled south and east affecting air quality in the northern plains of the United States, the Canadian Maritimes and even as far as Portugal. The fires caused a host of problems, including highway closures due to reduced visibility, the destruction of fibre optic cables and the interruption of Yellowknife’s main power supply line. Health risks were also a concern as the city’s hospital treated twice the usual number of patients for respiratory and allergy issues. Smoke was so thick that, at times, it was hard to breathe indoors with the windows closed let alone venturing outside. Widespread forest fires also stranded visitors and adversely affected busy tourist camps and attractions. In August, firefighters and residents finally got a breather when cooler and wetter weather took hold. Temperatures dropped significantly and rainfall was 50 per cent more than normal for the month.  ©Environment Canada  In British Columbia, an overheated wildfire season scorched the third-biggest loss of timber in the province since authorities began recording wildfire statistics more than 60 years ago. Fires burned more than 338,000 hectares through the province – seven and a half times the normal area charred on average over 20 years. No homes or notable structures were destroyed, but the province more than quadrupled its firefighting budget, spending $266 million. Conditions for the wildfire season started in 2013 when places like Victoria experienced their driest October-to-December on record. Summer perfected conditions for igniting and spreading wildfires as average temperature across coastal and southern portions of the province made for the third-warmest summer over 67 years of record-keeping and one of the top ten driest summers. Record-high July maximum temperatures soared into the low 40s in several interior communities. Some places claimed it was the driest summer in more than half a century. Among the major fires were those that burned in vast dead pine forests killed by mountain pine beetles or on steep, inaccessible terrain, increasing risks and challenges to firefighters and communities. Nearly 400 firefighters from Ontario, the Maritimes, Alaska and even Australia pitched in to help. The biggest and most difficult forest fire was near the Chelaslie River south of Burns Lake in northwestern British Columbia. It burned 133,162 hectares, accounting for more than 30 per cent of land burned in the province this year. Another big fire occurred in northern British Columbia near the Alberta border when a lightning strike whipped by strong winds caused 3,800 hectares to burn at Red Deer Creek. And a fire at Smith Creek, west of Kelowna, forced 2,500 people out of their homes. Over the course of the summer a series of smoke advisories and special air quality statements, issued by the province and Environment Canada respectively, were put in place for many regions, including the Okanagan Valley where residents of Peachland were urged to keep small children, the elderly and pets inside. On occasion, even Vancouver and the Fraser Valley were subject to air quality advisories as smoke plumes hung heavy over the skies.  ©Environment Canada  Fortunately, timely rains and cool temperatures from September through October saved British Columbia from a second disastrous forest fire season and brought much-needed moisture to the somewhat water-starved province. Rainfall in Victoria and Vancouver totalled more than 40 per cent above normal, with Vancouver experiencing its wettest September-October in 10 years.\n",
      "=============Reports================\n",
      "Location: ['Kelowna']  DateTime:   EventTerm: force  SubjectTerm:  people  Quantity: 2,500\n",
      "=============Story================\n",
      "For the past several years, flooding has been the big story across the Prairie provinces. In 2005, torrential rains produced summer flooding. In 2011, it was the combination of snowmelt and ice jamming that created a massive billion-dollar disaster across Saskatchewan and Manitoba. Last year, the coincidence of rapid snowmelt and heavy spring rains in southern Alberta generated the most disruptive, destructive and expensive flood in Canadian history – a $6 billion flood of floods. Unfortunately, anyone looking for a break in 2014 was sorely disappointed. This time water problems prevailed across the eastern Prairies just a week before summer began. Excessive rains on soggy ground − too much rain too fast over too many days – led to huge flooding and another billion-dollar disaster.  ©Environment Canada  On June 15, two major slow-moving weather systems, hours apart and more typical of spring or fall, combined to bring a few soggy days to the eastern Prairies. The prolonged moisture-laden storms moved up from the northern United States and stalled near the Saskatchewan-Manitoba border. Relentless rains turned into biblical-sized deluges over three days. Almost a year’s worth of rain fell in some places. Prior to the soaking, three weeks of wet weather meant that the latest rains had nowhere to go but overland. With soil saturated and ditches filled, the water cascaded into channels that rapidly fed into creeks and rivers.  Excess precipitation in the days and weeks leading up to July 1 included:  The third wettest spring on record dating back to 1892 for Saskatoon. Total spring (April to June) precipitation was 230 mm or 175 per cent of normal.  Yorkton had 252 mm of rain in June, which was more than triple the normal accumulation and the wettest ever since 1884 when record-keeping began. Nine days in June had more than 10 mm (normal is 2 days) and spring rainfall totalled 357 mm – another record.  With observations at Brandon dating back to the 1890s, June 2014 was the wettest month ever with 252 mm – three times June’s normal total and, incredibly, 34 mm higher than the all-time previous wettest month of August 1980. June had four days with rainfall over 25 mm, including 75 mm on June 19, and three days in a row on the final weekend of the month – all on top of it being Brandon’s wettest spring on record.  One Regina weather site recorded 198 mm of rain in June, which is nearly triple the normal of 70 mm and almost the wettest month on record. Total April-to-June rainfall was 312 mm or 216 per cent of normal, and the second wettest such period with records dating back to 1883.  To the far west, Lethbridge recorded its wettest June and wettest month ever with 280 mm of rain, which is more rain than the city gets in an average year.  ©Environment Canada  Rains and subsequent flooding at the end of June forced the closure of a hundred highways, including a stretch of the TransCanada east of Regina where dozens of bridges, culverts and utilities were washed away and dozens of basements were filled. Sections of country roads were under water for days on end. The rains also led to record flows on 17 southern Manitoba rivers and streams. Nearly 100 communities, including the cities of Melville and Yorkton in Saskatchewan, declared states of emergency. Citizen volunteers and a thousand military reservists scrambled to fill hundreds of thousands of sandbags to fend off rising floodwaters. Some 1,000 residents, mainly in southwestern Manitoba, were displaced and faced mucky basements and debris-strewn yards on their return home.  ©Environment Canada  Flooded pastures resembled rice paddies and crop fields featured lakes with whitecaps, leaving some of the best farmland in Canada too soggy to farm. Farmers feared losing their growing season altogether. In Manitoba and Saskatchewan, well over one million acres of seeded fields were flooded or drowned and another two million were left unseeded. As much as six million acres of farmland in the west were damaged, drowned or lying on still-frozen ground. Even though some crops recovered from flooding, their high yields suffered. Total costs from flooding exceeded $1 billion as farmers lost crops and communities mopped up. Weeks later, waves of mosquitoes emerged from the sodden ground and standing waters. Hardship was especially prevalent in several First Nations communities where flooding is becoming a ritual that brings both emotional and physical health issues.  The seeds of this summer’s flood started in the fall of 2013, when already saturated soils, combined with high over-winter snowfall covered the eastern Prairies. It was magnified by an exceptionally hard winter with a deep snowpack and a late spring melt that kept soils saturated and potholes filled. Another factor leading to worsening Prairie flooding in recent years that has been brought to light by expert hydrometeorologists is altered drainage patterns on agricultural lands in Saskatchewan and Manitoba and the greater incidence of multi-day rainfalls. Storm rainfalls over larger areas are lasting longer than usual. The network of Prairie potholes and sloughs has already filled to the brim, and now the runoffs are moving overland in a “fill and spill process” that is ripping out roads, inundating homes and overwhelming sewer networks. Ducks Unlimited said that wetland drainage on the Prairies has increased average flows by more than 60 per cent, and a study by the University of Saskatchewan found changes in wetland drainage over 50 years increased recent flood peaks by as much as 32 per cent.\n",
      "=============Reports================\n",
      "Location: ['Manitoba']  DateTime:   EventTerm: displace  SubjectTerm:  residents  Quantity: 1,000\n",
      "=============Story================\n",
      "1. Frost Quakes  Much of southern and eastern Ontario and Quebec was abuzz between Christmas and the first week of January after hearing, hearing about or feeling loud banging noises and tremors. Police and media were inundated with calls from the worried to the curious about what most thought were falling trees, sonic booms, gunshots or earthquake activity. In actual fact, they were experiencing what scientists called cryoseisms or “frost quakes” that are the result of freezing water splitting deep soil or rock or causing frost heaving. The sudden expansion of the water in frozen soil or rocks puts stress on the ground and the ensuing cracking, vibrating and booming noise can easily be mistaken for earthquakes and gunshots. Frost quakes are louder if the ground is saturated from previous rains, snowmelt or flooding and there is little snow cover to muffle the sound. They are best heard between midnight and dawn when sound travels better in cold air, there is less background noise and winds are lighter.  2. Freezing Rain Frightens Torontonians  An intensifying low over Arkansas brought 15 to 20 cm of snow east of Lake Huron and significant freezing rain to areas north of lakes Erie and Ontario over January 5-6. Residents in the Greater Toronto Area were especially nervous about the possible repeat of the pre-Christmas ice storm they had just weathered. What they got instead was a brief shot of freezing rain, with hardly any accretion on trees or hydro lines but enough of a coating to make roads treacherous during the commute. Adding to the misery was a dramatic drop in temperature by 17 degrees that created a flash freeze and black ice.  3. Province-wide Whiteouts  A surprise, fast-moving wall of snow caused highway havoc right across southern Ontario on February 27. Huge pileups – three 30-vehicle messes in southwestern Ontario alone – and white-knuckle driving were typical scenes. North of Toronto there was a 96-vehicle pileup on Highway 400. Amid blinding snow, the OPP closed all roads in Huron, Bruce and Perth counties, which led to a kind of reverse snow day as kids were left stuck at school overnight or billeted out.  4. Spring Flooding in First Nations Communities  The threat of rising flood waters on the Albany River and sewer back-ups forced the evacuation of 2,000 residents in the northern Ontario First Nation communities of Kashechewan and Attawapiskat around May 11, where 40 homes and buildings were damaged by sewage and flood waters. In total, eight communities in Ontario’s far north came under states of emergency, including Moosonee, mostly due to rising waters.  5. Another Two-Tornado Day  On June 24 at around 3:30 p.m., an EF1 tornado moved through the community of Laurel Station to the northwest of Orangeville. Peak winds associated with the tornado were between 135 and 175 km/h – strong enough to move a residential vehicle three metres, un-roof a few homes and down several trees. A half-hour later another EF1 tornado struck east of Tottenham. The twister prompted several road closures and damaged a riding stable where it killed a horse.  6. Burlington Rain Gusher  A band of thunderstorms generating massive rains developed in a line from Freelton to Burlington late on August 4. While rainfall amounts of 100 to 150 mm were estimated by radar, an amateur weather observer recorded a highly localized amount of 190 mm – a two-month supply – in four hours. The heavy rain flooded basements and intersections and forced the closure of many roads including Highways 403, 407 and the Queen Elizabeth Way, or QEW. On some roads water reached above the roofs of vehicles, forcing motorists and passengers to swim to safety. The deluge backed up storm drains, caused mudslides and creeks to overflow, and left standing water on 300 properties and in 500 basements. Burlington’s Mayor claimed it was the worst flooding he’d seen in 20 years. Illustrative of how targeted Burlington was, Hamilton recorded no rain, 3 mm fell at Toronto Pearson, Toronto Island got 1 mm and Vineland received 1.3 mm. Damages from flooding were estimated in excess of $90 million.  7. August Deluges in Windsor  A slow-moving storm crossed the Detroit River into Canada on August 11. Torrential downpours in excess of 70 mm over a 10-hour span fell in Windsor and district, filling basements and swamping yards and streets. It was a month’s worth of rain and the second-highest rain total ever recorded at the airport during August. About a week later, another powerful storm ripped through Windsor bringing down huge tree branches and tossing around backyard gazebos that were bolted down in concrete. An Environment Canada storm team later confirmed that at least two EF0 tornadoes touched down − the first in south Windsor and the second northeast of Harrow.  8. Not Buffalo-Sized Snows  Strong cold winds and relatively warm waters off the Great Lakes combined to produce intense snow squalls on November 19-20. The strongest affected regions were near Georgian Bay where the weather system remained nearly stationary for several hours, dumping snow amounts of 90 cm near Parry Sound, 40 cm in Huntsville, and 20 cm in Bracebridge and Barrie. While the numbers were impressive, they had nothing on the close to 200+ cm that fell in similar lake-effect storms over Buffalo, New York. Back in Ontario, multiple collisions on Highway 400 north of Toronto blocked north-south lanes south of Barrie, causing lengthy delays.  9. Down On the Farm  By late September, it was highly unusual to see fields of Ontario corn and soybeans still unharvested. September also featured twice the usual amount of rain, which kept good field and harvest days to a minimum. Fortunately, in late September and October, Ontario experienced warmer weather that allowed the harvest to progress. Still, in mid-November – with early winter cold, snow and winds − half of Ontario’s grain crop remained in the ground. The Ontario Ministry of Food and Agriculture said it was the latest harvest over a broad area of the province since 1992 – so late that the delayed corn harvest cut into winter wheat planting.  10. November Gales  Unseasonably warm air from Texas, along with powerful 100 km/h winds, whipped through Ontario on November 24 leaving 87,000 hydro customers in the dark. In some places between Windsor and Kingston, trees were ripped right out of the ground – roots and all. Just prior to the warmth and winds came heavy rains that flooded streets and forced road closures. Temperatures soared between St. Catharines and Ottawa to record heights, including 21°C in Cornwall. Blowing winds broke hydro poles, felled trees, shattered bus shelters and left traffic lights dangling.\n",
      "=============Reports================\n",
      "Location: []  DateTime:   EventTerm: damage  SubjectTerm:  homes  Quantity: 40\n",
      "=============Story================\n",
      "Etiquetas  Santiago de Chile, 1 ene.- Un incendio forestal destruyó hoy 24 viviendas y obligó a evacuar un centenar de casas en el cerro San Roque, del puerto chileno de Valparaíso, que además ha dejado varios lesionados y ha arrasado con diez hectáreas de vegetación, informaron las autoridades.  El fuego, de acuerdo con informes preliminares de la policía, habría sido causado por niños que manipulaban fuegos de artificio en ese sector de Valparaíso, a 120 kilómetros al oeste de Santiago.  El gobernador del principal puerto chileno, José Pedro Núñez, señaló que por el momento se está preparando la habilitación de un albergue para las familias damnificadas por el incendio, cuya propagación fue favorecida por el intenso calor reinante en la zona y en general en el centro y norte de Chile.  En el asunto también trabaja la secretaria regional de Desarrollo Social, María de los Ángeles De la Paz, dijo Núñez en declaraciones al canal 24Horas, en las que indicó además que cerca de un centenar de casas han sido evacuadas por precaución.  En el control de las llamas participaron bomberos, brigadas de la Corporación Nacional Forestal (Conaf) y personal municipal, dijo por su parte, al mismo medio, el alcalde de Valparaíso, Jorge Castro.  Al lugar concurrieron también bomberos de algunas localidades cercanas, además de un avión y un helicóptero cuya principal función fue evitar la propagación del fuego.  \"El trabajo ha sido dificultoso porque la parte baja del incendio es una quebrada muy profunda con muy difíciles accesos\", dijo por su parte a los periodistas el director regional de la Oficina Nacional de Emergencia (Onemi), Guillermo de la Maza.  Agregó que unas 25 personas han sido atendidos en puestos médicos de avanzada \"por distintas afectaciones, todas leves\",precisando que hay una persona con heridas por cortes por con trozos de lata y cinco con deficiencias respiratorias, aunque no hay heridos graves.  Entre los lesionados se cuentan también ocho bomberos, pero todos ellos leves, acotó.  La región de Valparaíso ha sido afectada por varios incendios desde el pasado lunes y hoy se mantenían activos, según la policía, focos de fuego en Peñuelas, junto a la autopista que une a Valparaíso con Santiago, en Villa Alemana, en Quintero y en el sector de Belloto Norte del municipio de Quilpué.\n",
      "=============Reports================\n",
      "=============Story================\n",
      "retrieval_failed\n",
      "=============Reports================\n",
      "=============Story================\n",
      "LANZHOU, July 23 (Xinhua) -- The death toll in an earthquake that hit northwest China's Gansu Province has risen to 94, local authorities said Tuesday.  A 6.6-magnitude earthquake jolted the juncture area of Minxian and Zhangxian counties in the city of Dingxi on Monday morning, leaving 1,001 injured. One person remained missing as of Tuesday morning, said the Gansu provincial earthquake emergency response center.  An initial investigation showed that the quake had caused the collapse of 51,800 houses and severely damaged about 240,000 homes.  Local governments have relocated 226,700 people.\n",
      "=============Reports================\n",
      "Location: []  DateTime:   EventTerm: relocate  SubjectTerm:  people  Quantity: 226,700\n",
      "=============Story================\n",
      "retrieval_failed\n",
      "=============Reports================\n",
      "=============Story================\n",
      "retrieval_failed\n",
      "=============Reports================\n",
      "=============Story================\n",
      "What is DMIS ? The Disaster Management Information System (DMIS) is a web-based working tool made accessible only to Red Cross and Red Crescent staff working in National Societies, delegations and Geneva headquarters. It is a system from which users will be able to access: real time information on disaster trends  online internal and external resources  tools and databases  The DMIS project started in February 2001 as a follow up to Strategy 2010 and in response to the need for informed decisions, speed and efficient operational readiness. DMIS is the result of a major effort made by the Federation in addressing the complexity of information exchange in the humanitarian community and to support an efficient disaster preparedness and response for the whole Federation's Red Cross and Crescent network at a global level. DMIS continues in the same vein with the successor Strategy 2020.\n",
      "=============Reports================\n",
      "=============Story================\n",
      "Period covered by this update: 25 April 2013 – 31 October 2013.  Summary: CHF 400,000 was allocated from the IFRC’s Disaster Relief Emergency Fund (DREF) on 25 April 2013 to support the National Society in delivering assistance to some 20,000 beneficiaries. A 7.0-magnitude earthquake hit China's Sichuan province at 8.02 a.m. Beijing time on 20 April 2013 with its epicentre near Lushan county, Ya’an City of Sichuan province at a depth of 13 km. A total of 196 people were killed and a total of 14,785 injured. Over two million people have been affected across 19 prefectures and 115 counties of Sichuan province with 237,655 persons displaced. It is reported that 193,000 houses have collapsed, and 510,000 houses were severely damaged.  Red Cross Society of China (RCSC) had sent a total of 25 emergency response teams (ERTs) with 400 team members and mobilized 113 relief vehicles to the affected areas for the emergency operation. These ERTs assisted in the distribution of food, drinking water, tents, quilts, umbrellas and other necessities to affected populations. Red Cross volunteers were also mobilized to participate in the provision of emergency medical services, relief supplies distribution, rescue operations, setting up of tents, providing psychological support and restoring family links.\n",
      "=============Reports================\n",
      "Location: ['Sichuan']  DateTime:   EventTerm: collapse  SubjectTerm:  houses  Quantity: 193,000\n",
      "Location: ['Sichuan']  DateTime:   EventTerm: damage  SubjectTerm:  houses  Quantity: 510,000\n",
      "=============Story================\n",
      "Flood and landslide in Brazil  Type of Event: Flood and landslide Location of Event: Brazil Date of Charter Activation: 14 June 2014 Charter Requestor: Brazilian Disaster and Risk Management National Centre (CENAD) Project Management: INPE  Description of the event  Torrential rainfall, between 07 and 10 June 2014, has caused flooding in southern Brazil where it is estimated that approximately half a million people have been affected.  The weather followed a cold front that passed over the states of Santa Catarina and Paraná, which brought strong winds with the rain. Paraná state has been the worst affected, where ten people have been killed and six were reported missing. Over 130 cities have been affected by the disaster and it was estimated that 40,000 people were evacuated.  Of particular concern was the Paraná River, which burst its banks in places. The rising water level on the river also caused flooding in neighbouring Argentina, and the floodgates at the Yacyreta Dam were opened on 11 June to help control the floodwaters. The dam is located on the border of Argentina, and it was reported that record levels of water passed through the dam.  Floodwaters and landslides have blocked some roads and destroyed bridges, cutting off easy access to some of the affected towns.  The rain was forecast to finish on 15 June, leaving emergency workers with the task of recovering from the flooding.\n",
      "=============Reports================\n",
      "Location: []  DateTime:   EventTerm: evacuate  SubjectTerm:  people  Quantity: 40,000\n",
      "=============Story================\n",
      "retrieval_failed\n",
      "=============Reports================\n",
      "=============Story================\n",
      "retrieval_failed\n",
      "=============Reports================\n",
      "=============Story================\n",
      "Media caption A factory worker is rescued moments before a building is washed away  A landslide has buried between 30 and 40 people in China's Sichuan province following heavy rain, state media say.  Rescue workers with search dogs are at the scene in the city of Dujiangyan, Xinhua news agency reports.  On Tuesday a bridge collapsed in the nearby city of Jiangyou, leaving at least 12 people missing.  Days of heavy rain and floods have damaged hundreds of homes and forced the evacuation of more than 36,000 people in Sichuan and Yunnan provinces.  Footage from Chinese state media, meanwhile, showed the dramatic rescue of a factory worker in the town of Deyang, who was stranded by the floods after the factory was washed away.  \"The water level is so high that vehicles, forklifts and excavators have all been washed away,\" Wei Xiao, another factory worker, told Reuters news agency.  Mud and landslides caused by flooding and strong rains are common in China's mountainous areas, killing hundreds of people every year. Deforestation has also made soil erosion much more of a problem.  'Evacuated'  The landslide occurred in the town of Zhongxing is Dujiangyan - one of the places badly hit by the 2008 Sichuan earthquake.  The landslide, which covered about 2 sq km (0.8 sq miles), damaged at least 11 homes, Xinhua reported.  \"So far we only know 11 families were buried and more than 200 residents have been evacuated,\" a local official told AFP news agency.  Patrol members in Dujiangyan told local media that by the time they arrived at the scene, a few hours after the landslide, \"everything was already a vast expanse of water\".  Eyewitnesses described stones and debris running down the hill and covering around eight homes in less than three minutes.  Meanwhile, rescue teams have been deployed in Jiangyou to search for those missing after Qinglian bridge collapsed, state media said.  At least six vehicles were reported to have plunged into the river when it came down after days of heavy rain.  Jiangyou's local government say the river volume suddenly increased to a 50-year high on Tuesday.  \"The high levels of flood sediment, and strong and destructive force of the water, caused the Qinglian bridge to collapse,\" it said.  Two other bridges, one in Jiangyou and one in Deyang, were also washed away, officials said.  Chinese officials said that the heavy rain had affected more than 500,000 people in Sichuan and Yunnan provinces, damaged about 300 homes, and forced the evacuation of 36,800 people, Xinhua reported.  For the worst affected areas, it appears that there is going to be little respite, says the BBC's Martin Patience in Beijing.  Heavy rainfall is forecast in Sichuan province over the next 24 hours, our correspondent adds.  In 2011, more than five million people were reported to be affected by deadly floods in eastern China.  In 2008, Sichuan was hit by a devastating earthquake which led to almost 90,000 people dead or missing. A swollen river has wrecked exhibits at a memorial to those who died.\n",
      "=============Reports================\n",
      "Location: []  DateTime:   EventTerm: damage  SubjectTerm:  homes  Quantity: 11\n",
      "Location: []  DateTime:   EventTerm: evacuate  SubjectTerm:  residents  Quantity: 200\n",
      "Location: ['Sichuan', 'Yunnan']  DateTime:   EventTerm: damage  SubjectTerm:  homes  Quantity: 300\n",
      "=============Story================\n",
      "HAIKOU, Dec. 15 (Xinhua) -- Some 150,000 people have been evacuated after heavy rainfall has inundated villages and townships in south China's Hainan Province since Friday, local authorities said on Sunday.  Precipitation has reached 510 mm in parts of Wanning City in Hainan, and an average of 300 mm in eight townships around the city since Friday.  Authorities have dispatched speedboats to evacuate local residents from flooded areas.  Hainan Meteorological Service said the rain is expected to last through Monday in the east of the province. It said the weather poses challenges for rescue work and warned of floods and landslides in rain-battered areas.  Editor: An\n",
      "=============Reports================\n",
      "Location: ['China', 'Hainan Province']  DateTime:   EventTerm: evacuate  SubjectTerm:  people  Quantity: 150,000\n",
      "=============Story================\n",
      "\n",
      "=============Reports================\n",
      "=============Story================\n",
      "\n",
      "=============Reports================\n",
      "=============Story================\n",
      "Further to our report of 26 May 2014 about the floods sweeping across southern China, an update from the Chinese Government in the last 24 hours states that the flooding has worsened and has now affected 9 provinces.  The flooding has spread to other provinces in southern and central China. Initially the floods struck in Guangdong, Guizhou, Hunan and Jiangxi, but areas affected now include Chongqing, Sichuan, Yunnan, Fujian and Guangxi.  The severe weather appears to have moved northwards and it is the central province of Hunan that is currently experiencing some of the worst of the flooding. Authorities issued a red alert flood warning after many parts of the proviince saw long periods of heavy rain.  A total of 5.51 million people have been affected in total Around 75,000 houses have either been damaged or destroyed and 447,000 people displaced.  As expected, the death toll has also risen from 19 to 37. This figure may again be revised upwards after authorities have had chance to thoroughly assess the situations. As of early today 27 May 2014, there are some initial reports claiming that the death toll could go up to 45 after 8 more fatalities were recoded in Hunan. 6 people are still missing in floods across the region.  Guangdong has suffered the worst of the flooding, where 17 people have died so far and 3 people remain missing in the province.  Xinhua, the Chinese government News Agency, says that as many as 264,800 hectares of crops have been destroyed by the floods, causing economic losses of around $1.18 billion.  Source and photo: Xinhua\n",
      "=============Reports================\n",
      "Location: []  DateTime:   EventTerm: damage  SubjectTerm:  houses  Quantity: 75,000\n",
      "Location: []  DateTime:   EventTerm: displace  SubjectTerm:  people  Quantity: 447,000\n",
      "Location: []  DateTime:   EventTerm: die  SubjectTerm:  people  Quantity: 17\n",
      "=============Story================\n",
      "\n",
      "=============Reports================\n",
      "=============Story================\n",
      "Further severe weather, floods and landslides have left 14 people dead and 4 missing in southern China.  Yesterday the Chinese government said that the storms and heavy rainfall from 18 to 22 June 2014 affected nine southern provinces. 8,700 homes have been destroyed, 66,000 homes damaged and forced 337,000 people to evacuate. 42,000 hectares of crops have also been destroyed. Further heavy rainfall is forecast for the next 24 hours.  According to Xinhua:  Seven people have died in central China’s Hunan Province, five in the eastern province of Jiangxi and two in Guangxi Zhuang Autonomous Region, south of the country. Hunan provincial civil affairs bureau confirmed that four people are missing.  Southern China has endured relentless severe weather conditions since 8 May 2014 where 3 people died after flooding in 5 southern provinces.  The flooding continued through May, resulting in a further 19 deaths. Earlier this month 25 people died after floods lasting a week hit much of southern China.\n",
      "=============Reports================\n",
      "Location: []  DateTime:   EventTerm: destroy  SubjectTerm:  homes  Quantity: 8,700\n",
      "Location: []  DateTime:   EventTerm: destroy  SubjectTerm:  homes  Quantity: 66,000\n",
      "Location: []  DateTime:   EventTerm: force  SubjectTerm:  people  Quantity: 337,000\n",
      "Location: ['Hunan']  DateTime:   EventTerm: die  SubjectTerm:  people  Quantity: 3\n",
      "Location: ['China']  DateTime:   EventTerm: die  SubjectTerm:  people  Quantity: 25\n",
      "=============Story================\n",
      "KUNMING, April 17 (Xinhua) -- As of 6 p.m., at least 123,000 people have been affected by a 5.0-magnitude earthquake that jolted Dali Bai Autonomous Prefecture in southwest China's Yunnan Province on Wednesday morning, according to the prefecture government.  The epicenter of the quake, which occurred at 9:45 a.m., was located in the border area between Eryuan and Yangbi counties, with a depth of 11 km.  Preliminary statistics show that nine people sustained minor injuries and another 11,300 have been relocated to safety.  The quake destroyed 276 houses and damaged scores of others. Transportation, power, telecommunications, water supply and education facilities have also been affected, the government said.  More than 430 personnel, including armed police, firefighters and medical workers, have been dispatched to the area to assist in rescue efforts.  Yunnan provincial disaster relief and civil affairs authorities said 4,100 tents, 1,200 articles of clothing and 1,200 quilts have been sent to people affected by the quake.  In March, a 5.5-magnitude earthquake injured 30 people in Eryuan.\n",
      "=============Reports================\n",
      "Location: []  DateTime:   EventTerm: destroy  SubjectTerm:  houses  Quantity: 276\n",
      "=============Story================\n",
      "The week-long flooding that has swept across southern parts of China has now killed at least 25 people, with a further 2 people still missing.  China’s National Commission for Disaster Reduction yesterday said that the flooding had forced 239,000 people to evacuate and that 116,000 people were now in urgent need of basic living necessities.  10 people died in Guizhou province and 9 in Chongqing. 3 of the deaths occurred in Sichuan province, and another 3 in Guangxi.  PHOTO via Reuters: Vehicles stuck at a flooded intersection in Guizhou, China pic.twitter.com/QCrSPeqpGS — ABS-CBN News Channel (@ANCALERTS) June 3, 2014  Bus driver & passengers in Chongqing on Tue waited for help on top of the vehicle as roads blocked by rain & floods pic.twitter.com/DgwVjC1HSr — People's Daily,China (@PDChina) June 4, 2014  Severe weather has now also struck in the north of the country, with some flooding seen in northern provinces of Liaoning and Jilin, as well as the Inner Mongolia autonomous region.  Some of Russia’s Siberian regions that border Mongolia have recently experienced severe flooding where as many as 10,000 people were displaced since floods first struck at the end of May 2014.\n",
      "=============Reports================\n",
      "Location: ['China']  DateTime:   EventTerm: kill  SubjectTerm:  people  Quantity: 25\n",
      "Location: ['China']  DateTime:   EventTerm: force  SubjectTerm:  people  Quantity: 239,000\n",
      "Location: ['China']  DateTime:   EventTerm: die  SubjectTerm:  people  Quantity: 10\n",
      "Location: ['Liaoning', 'Jilin']  DateTime:   EventTerm: displace  SubjectTerm:  people  Quantity: 10,000\n",
      "=============Story================\n",
      "The flooding has continued in south western China since our report of 02 September here.  On Saturday 06 September, China’s Civil Affairs Ministry said that 44 people have been killed in the floods, and 18 are still missing. The worst affected area is Chongqing Municipality, where 43 of the deaths occurred.  The heavy rain first began on 31 August 2014, bringing floods to Chogqing, and also Sichuan and Guizhou provinces.  The Civil Affairs Ministry also said that:  121,700 people have been displaced by floods and are staying in temporary shelters  42,000 houses have been severely damaged or completely destroyed  Recent floods have caused damage estimated at 3.3 billion yuan ($538 million)  More Heavy Rain to Come  Heavy rainfall has continued in parts of south west China over the last few days. In the last 24 hours, Haikou in Hainan Province, saw 133 mm.  More heavy rain could fall over the coming days after Tropical Depression Fourteen formed on 07 September 2014 over the South China Sea. The weather system is thought to be heading towards Guangdong Province where it is likely to make landfall around 09 September.\n",
      "=============Reports================\n",
      "Location: ['China']  DateTime:   EventTerm: kill  SubjectTerm:  people  Quantity: 44\n",
      "Location: []  DateTime:   EventTerm: displace  SubjectTerm:  people  Quantity: 121,700\n",
      "Location: []  DateTime:   EventTerm: damage  SubjectTerm:  houses  Quantity: 42,000\n",
      "=============Story================\n",
      "BEIJING, July 27 (Xinhua) -- Typhoon Matmo has claimed 13 lives in China and affected about 2.5 million residents, the Ministry of Civil Affairs announced on Sunday.  Nine deaths were reported in east China's Jiangxi Province and four were reported in south China's Guangdong Province, the ministry said in a statement.  As of 9 a.m. on Sunday, more than 2.54 million people had been affected as the impact of the typhoon spreads to 185 counties in eight provinces including Liaoning, Jiangsu, Zhejiang, Anhui, Fujian, Jiangxi, Shandong and Guangdong.  About 289,000 residents have been relocated and some 37,000 are in urgent need of basic living supplies, according to the statement.  Matmo, the 10th typhoon to affect China this year, has destroyed homes and crops and caused direct economic losses worth 3.37 billion yuan (about 547 million U.S. dollars), it said.  Matmo made landfall in southeast China's Fujian Province on Wednesday and has brought strong winds and heavy downpours to affected areas.\n",
      "=============Reports================\n",
      "Location: ['Liaoning', 'Jiangsu', 'Zhejiang', 'Anhui', 'Fujian', 'Jiangxi', 'Shandong', 'Guangdong']  DateTime:   EventTerm: relocate  SubjectTerm:  residents  Quantity: 289,000\n",
      "=============Story================\n",
      "Earthquake-Report.com  The best independent earthquake reporting site in the world\n",
      "=============Reports================\n",
      "=============Story================\n",
      "Update: 6 June, 2014  Situation and response  On 24 and 30 May respectively, 5.6 and 6.1 magnitude earthquakes jolted Yingjiang County in southwest China's Yunnan Province, injuring 45 people. More than 3,000 houses were destroyed and 21,000 severely damaged, while 90,000 houses were moderately damaged, forcing the evacuation of a further 45,000 people. About 210,000 people were affected. The two earthquakes were only 2km apart, which made the damage more severe.  The local government has already arranged for quilts, tents, foldable beds with mattresses and more to be sent to the quake-affected area to meet the basic needs of the quake survivors. Due to the hot weather in the quake zone, mosquitoes can easily grow and spread diseases in the relocation area. Mosquito nets are in urgent need. As there is currently no electricity in the quake zone, lighting at night is a problem which poses a safety issue for the survivors.  Oxfam has been conducting on-site needs assessments in the severely affected townships with the support of our local partners. After the initial assessment, Oxfam’s office in Kunming has collaborated with a partner organisation, the Disaster Prevention and Mitigation Center of Yunnan Province, to provide6,000 mosquito nets, 3,000 boxes of mosquito repellent and 3,000 torches to three of the quake-stricken townships in the zone: Kachang, Sudian and Mengnong. These were delivered to survivors by 4 and 5 of June.\n",
      "=============Reports================\n",
      "Location: ['China', 'Yunnan Province']  DateTime:   EventTerm: destroy  SubjectTerm:  houses  Quantity: 3,000\n",
      "=============Story================\n",
      "\n",
      "=============Reports================\n",
      "=============Story================\n",
      "Esta tarde el Director Nacional de ONEMI, Ricardo Toro, entregó un nuevo balance a raíz del sismo magnitud 8.2 Richter registrado entre las regiones de Arica y Parinacota y Tarapacá y con posterior alarma de tsunami.  La autoridad señaló que “el total de personas evacuadas a nivel nacional fue de 972.457 de acuerdo a la información proporcionada por los Comités Regionales de Operaciones de Emergencia”. Igualmente, agregó que “hasta el momento, se registran 46 personas albergadas en la localidad de Iquique”, en donde a nivel regional y de acuerdo al reporte de Carabineros hay seis personas fallecidas, tres de ellas por paro cardiorespiratorio, dos de ellas producto de aplastamiento por colapso de material y una por accidente simple asociado a evacuación.  En la ocasión agregó que “su excelencia, la Presidenta de la República, declaró estado de excepción constitucional de catástrofe para las regiones de Arica – Parincota y Tarapacá a partir del día miércoles 2 de abril”.  Por otra parte el Centro Sismológico Nacional informó que hasta el momento se han registrado 96 réplicas instrumentales, de las cuales 8 han sido percibidas por la población, siendo uno de mediana intensidad.  Cabe recordar que el Servicio Hidrográfico y Oceanográfico de la Armada (SHOA) canceló la Alarma de Tsunami para el territorio nacional hoy a las 06:34, sin embargo, la autoridad marítima controlará las actividades que se desarrollen en sus respectivas áreas jurisdiccionales mientras que ONEMI mantiene Alerta Roja para todo el territorio nacional, en consideración a la emergencia.  El Sistema Nacional de Protección Civil se mantiene activo y con los Comités de Operaciones de Emergencia funcionando normalmente.  Evaluación pormenorizada de esta emergencia  Se registran 8 caminos interrumpidos en distintos tramos en la zona norte, éstas son: Ruta 5, 11CH, A35, A315, A27, A31, A23, A345  En la Región de Tarapcá, la Ruta Colchane 15-CH se encuentra habilitada con precaución. La Ruta A-16, Alto Hospicio se encuentra transitable con precaución para vehículos de emergencia en la bajada, en tanto para la subida se encuentra el tránsito habilitado para todo tipo de vehículos con precaución. En el lugar trabaja maquinaria pesada de vialidad. La Ruta A-1 entre Iquique y Antofagasta, se mantiene con acceso solo hasta el aeropuerto.  El Aeropuerto Chacalluta se encuentra operativo y el Hospital de Arica se encuentran totalmente operativos.  En la región de Tarapacá, el aeropuerto Diego Aracena se encuentra habilitado.  El Hospital Regional de Iquique registra daños en evaluación, afectando principalmente los pabellones quirúrgicos, la UCI y UTI.  Se registran inundaciones del terminal de buses Videla, ubicado en el sector de La Puntilla en la comuna de Iquique.  En la caleta Riquelme y sector Esmeralda, existen embarcaciones menores en la vereda con daños que están siendo evaluados por la autoridad.  En Antofagasta el Aeropuerto Cerro Moreno está habilitado, iniciando viajes comerciales a partir de mediodía.  De acuerdo a la información proporcionada por Carabineros y PDI, de las 293 reclusas que se fugaron de la cárcel de Iquique, 131 se presentaron voluntariamente.  Situación de viviendas  En la región de Tarapacá, se registran 2 mil viviendas con daños en la comuna de Alto Hospicio, cuyo catastro está siendo evaluado por personal municipal.  Situación de servicios básicos  En Arica, el 87% de la región se encuentra con suministro eléctrico, en tanto un 67% está con servicio de agua potable.  En Tarapacá 38.509 clientes se encuentran afectados por corte de suministro eléctrico. Además están sin agua potable las comunas de Iquique y Alto Hospicio, con un estimado de reposición de dos horas.  En Antofagasta, la comuna de Ollagüe se encuentra sin suministro eléctrico, el resto de la región está con los servicios básicos operativos.  Volver\n",
      "=============Reports================\n",
      "=============Story================\n",
      "BEIJING, July 17 (Xinhua) -- The Ministry of Civil Affairs on Thursday said heavy rains have left 34 people dead and another 21 missing in south China.  Severe rainfall and ensuing floods have hit the provinces of Guizhou, Hunan, Jiangxi, Hubei, Sichuan, Yunnan, Anhui and the municipality of Chongqing since July 10, affecting more than 8.82 million people, said the ministry.  Guizhou has seen 10 deaths and 10 missing so far, while nine people are dead with 11 missing in Hunan, according to the ministry, adding the disaster has forced evacuation of 403,000 people in the south.  More than 63,000 houses have been destroyed and 44,900 hectares of crops are unharvestable in these areas, with direct economic losses reaching 5.21 billion yuan (839.8 million U.S. dollars), it added.\n",
      "=============Reports================\n",
      "Location: ['Guizhou']  DateTime:   EventTerm: destroy  SubjectTerm:  houses  Quantity: 63,000\n",
      "=============Story================\n",
      "BEIJING - Heavy rainfall in South China over the last few days has left 21 people dead and four others missing, said the Ministry of Civil Affairs on Tuesday.  A woman trudges through a flooded street amid heavy rains in Shantou, South China's Guangdong province, on March 31, 2014. Rain and hailstorms since Saturday have brought landslides and flight delays to south China's Guangdong province and Guangxi Zhuang autonomous region. [Photo/Xinhua] More rain photos: Rainstorm pounds S China  As of 9 am on Tuesday, torrential rains in seven Chinese provincial- level regions -- Fujian, Jiangxi, Hunan, Guangdong, Guangxi, Chongqing and Guizhou, have affected more than 1.16 million people and forced 17,000 to leave their homes, the ministry said in a statement.  A total of 6,600 people are in need of emergency sustenance assistance, it said, while 1,600 houses have been toppled and 55,000 damaged.  The floods inundated 47,600 hectares of crops and caused direct economic losses of 650 million yuan (105.7 million U.S. dollars), according to the statement.  Since Thursday last week, some areas have witnessed as much as 300 mm of rainfall. There have also been thunder and hailstorms.  Weather forecasts indicated that heavy rain may continue this week.\n",
      "=============Reports================\n",
      "=============Story================\n",
      "JINGGU, Yunnan, Oct. 8 (Xinhua) -- A candlelight vigil was held early Wednesday morning as the body of 58-year-old Dao Qiongfen lay in a coffin.  Several hours before, the woman, the sole victim so far in a 6.6-magnitude quake that jolted southwest China's Yunnan Province at 9:49 p.m. on Tuesday, was still fast asleep.  \"When it happened, I had been sleeping for half an hour already,\" said Qiongfen's grieving husband, Dao Wenguang, from Mangla Village of Yongping Town, five kilometers away from the epicenter.  Feeling the tremor, Dao Wenguang and their children soon fled the house. \"But I didn't see her, and there was no reply when we called her name,\" the man said.  Dao Qiongfen was later found under a collapsed wall, unable to breathe and her waist broken.  As of 11 a.m. Wednesday, about 13 hours after the earthquake in Jinggu County, Pu'er, at least one person was dead and 324 others were injured, including eight in critical condition.  A total of 124,600 people from five counties and districts were affected, and some 58,980 people were evacuated. The quake also toppled 6,988 buildings and damaged 13,842 more.  In Mangla Village, where many villagers, like Dao, are of the Dai ethnic minority group, a Xinhua reporter saw cracks on buildings. Some adobe walls had collapsed, and broken bricks and tiles were scattered in the streets.  Villagers spent the night outside, and dozens of tents were pitched.  In nearby Mangfei Village, people gathered on a basketball court. They sat around a bonfire during the cold night.  According to Liu Wei, most of the wounded in his village suffered head and shoulder injuries.  SECOND QUAKE  It was the second strong quake to hit the province in a little over two months. A 6.5-magnitude quake with a depth of 12 kilometers struck Ludian County on August 3, killing at least 615 people.  Although the focal depth of Tuesday's quake was relatively shallow at five kilometers and the quake occurred when many were in bed, it appears to have caused fewer casualties than the August quake so far.  Wang Bin, vice head of the Yunnan provincial seismological bureau, said many buildings in the area featured wooden mortise riveting structures, making them relatively quake-proof.  \"In Jinggu, nearly 20,000 out of 60,000 rural households have improved the quality of their houses to meet the standard for shock-resistance,\" said Wang Tianshou, head of the housing and urban-rural development bureau in the county.  The lower intensity of the quake, lower population density in the quake-hit zone, and concentration of residences in flatter, less mountainous areas also led to fewer casualties.  Li Chunguang, head of the science and technology department of the bureau, said the two quakes happened along different seismic belts and had no direct connections.  Li said the province has entered a seismically active period, but further study is needed to predict whether there will be major earthquakes in the near future.\n",
      "=============Reports================\n",
      "Location: ['Jinggu County', \"Pu'er\"]  DateTime:   EventTerm: evacuate  SubjectTerm:  people  Quantity: 58,980\n",
      "Location: []  DateTime:   EventTerm: kill  SubjectTerm:  people  Quantity: 615\n",
      "=============Story================\n",
      "CHANGSHA, May 11 (Xinhua) -- Heavy rainstorms have killed three people and forced the relocation of more than 54,000 residents after rainstorms hit southern China regions, local authorities said Sunday.  Heavy rains have battered Hunan Province since Thursday, disrupting traffic, power, telecommunications and raising water levels in major rivers and reservoirs, the provincial flood control headquarters said.  A villager in Jinwutang Township was killed in a landslide.  As of 11 a.m. Sunday, the round of heavy rains had affected 461,800 people in 131 townships and destroyed 1,400 housing units in the province.  Local governments have relocated 50,400 people to avoid geological risks from the rainstorms.  In neighboring Guangxi Zhuang Autonomous Region, downpours have left two people dead and affected nearly 200,000 residents, according to the regional department of civil affairs.  As of 5:00 p.m. Sunday, heavy rains had toppled down 522 housing units and seriously damaged another 888 in the region. Direct economic losses were estimated at about 119 million yuan (19 million U.S. dollars).  Local governments have relocated 5,000 residents to safe areas.  As of Sunday noon, power supply had been restored after a rainstorm-triggered flash flood hit Fugong County in southwest China's Yunnan Province, the county publicity department said.  It tore down 14 houses and two bridges, damaging flood-control dikes and inundating a hydropower generation plant.  Local governments in risk-prone areas have relocated residents and allotted them daily necessities.  Shenzhen, a booming town in south China's Guangdong Province, on Sunday experienced its strongest rainfall since 2008, with 2,000 cars submerged in the streets and the operations of more than 5,000 buses suspended.  The city's meteorological bureau issued a red alert for heavy rain, the highest level of the four-tier alert system.  About 130 flights have been canceled at the Shenzhen airport, while another 70 outbound flights have been delayed for more than four hours as of 7:30 p.m. on Sunday evening.  The railway authorities in Shenzhen said they have halted high-speed rail service linking Shenzhen and the provincial capital of Guangzhou.  But no casualties have been reported so far in the city.\n",
      "=============Reports================\n",
      "Location: ['China']  DateTime:   EventTerm: kill  SubjectTerm:  people  Quantity: three\n",
      "Location: []  DateTime:   EventTerm: relocate  SubjectTerm:  people  Quantity: 50,400\n",
      "Location: []  DateTime:   EventTerm: relocate  SubjectTerm:  residents  Quantity: 5,000\n",
      "=============Story================\n",
      "ONEMI se refirió a los 18 incendios activos desde las regiones de Valparaíso a la Araucanía y que han consumido más de 16 mil hectáreas.  Esta mañana el Director Nacional de ONEMI, Ricardo Toro, entregó un nuevo reporte sobre la situación actual de incendios forestales a nivel país y las acciones que se sostienen para su combate y control. A nivel nacional, se registran siete Alertas Rojas para las regiones del Maule, Biobío y La Araucanía; para las provincias de San Antonio, Marga Marga y Melipilla y para las comunas de Valparaíso y San Antonio.  Hasta el momento se reportan 18 incendios activos que abarcan desde las regiones de Valparaíso a la Araucanía, y que comprometen 16 mil 200 hectáreas. Los más complejos son “Santa Zenaida” en la comuna de Angol, en donde hubo peligro de afectación de viviendas pero que fue controlado durante la noche por las medidas tomadas por CONAF y Bomberos logrando asegurar el resguardo del sector, lo mismo ocurrió con el incendio de Ercilla, en la comunidad Temucuicui. Por otra parte, en “El Carrizo”, el más grande en cuanto a la cantidad de hectáreas afectadas, 11 mil entre las regiones Metropolitana y Valparaíso, fueron evacuadas en forma preventiva cinco familias.  “Es necesario destacar que se han desplegado todos los recursos necesarios para cada una de las emergencias: 131 brigadas (CONAF, Bomberos, Ejército y privados), 45 aeronaves, 34 camiones aljibes, 27 técnicos, entre otros; lo que se ha visto reflejado en que no ha habido pérdidas humanas. Además, quiero agradecer a todas las instituciones que componen el Sistema Nacional de Protección Civil, quienes se han esforzado por mantener controlados los incendios”, indicó el Director Nacional de ONEMI.  Finalmente señaló que en comparación al periodo anterior, existe un aumento a la superficie afectada de un 791%, por lo que es necesario extremar las medidas preventivas.  Volver\n",
      "=============Reports================\n",
      "=============Story================\n",
      "A 5.3-magnitude earthquake in rural southwest China has injured at least 21 people and damaged over 2,000 houses.  The tremors in seismically unstable Yongshan County in Yunnan Province began at 6.40 am local time on Saturday. Authorities say the epicenter of the quake was 13 km below the ground surface.  \"We felt the quake strongly, but it did not last long,\" a local resident recounted to Xinhua news agency.  Authorities say that 2,731 houses have been damaged and 75 have collapsed – mostly shacks made from stamped soil.  21,000 people have been evacuated to tent camps, but electricity and communications are continuing to function normally.  Mountainous Yunnan and bordering Sichuan provinces suffer deadly annual earthquakes, with the 8.0-magnitude 2008 earthquake in Sichuan resulting in the deaths of over 70,000 people.  Larger casualties were avoided this time due to the low population density in the affected area, and the unusually deep epicenter, in a place where tremors usually originate less than 5 km from the surface.  According to Chinese media, some locals have linked the event to the Xiluodu hydropower plant – the second biggest in China – located less than 15 km away. While huge amounts of water stored in rivers above the plants have been known to trigger seismic activity, the government has denied that the latest incident has any connection to the Xiluodu facility, which remains undamaged.\n",
      "=============Reports================\n",
      "Location: ['China']  DateTime:   EventTerm: damage  SubjectTerm:  houses  Quantity: 2,000\n",
      "Location: []  DateTime:   EventTerm: damage  SubjectTerm:  houses  Quantity: 2,731\n",
      "Location: []  DateTime:   EventTerm: evacuate  SubjectTerm:  people  Quantity: 21,000\n",
      "=============Story================\n",
      "\n",
      "=============Reports================\n",
      "=============Story================\n",
      "Photo taken on May 10, 2014 shows flooded farmland in Wawutang Township of Suining County, central China's Hunan Province. Heavy rains started to hit Suining County at 3 a.m. Saturday, with precipitation in one township hitting 186 mm by noon. One person was killed in a rain-triggered landslide while flooding has forced the relocation of another 10,000 residents in Suining. (Xinhua)  CHANGSHA, May 10 (Xinhua) -- One person was killed in a rain-triggered landslide while flooding has forced the relocation of another 10,000 residents in a county in central China's Hunan Province, local authorities said Saturday.  Heavy rains started to hit Suining County at 3 a.m. Saturday, with precipitation in one township hitting 186 mm by noon, the office of the county flood control headquarters said in a statement.  The rainstorms disrupted traffic, power and telecommunications in 10 townships. One villager in Jinwutang Township was killed in a landslide.  A total of 112,000 residents were affected and 10,000 have been evacuated, it said.  Also on Saturday, a rainstorm-triggered flash flood tore down 14 houses and two bridges, damaged flood-control dikes and inundated a hydropower generation plant in Fugong County in southwest China's Yunnan Province, local authorities said.  A total of 264 people in risk-prone areas have been relocated to safe places, the county publicity department said.  Earlier the county was battered by rains on Thursday and Friday.\n",
      "=============Reports================\n",
      "=============Story================\n",
      "Activo se mantiene el incendio forestal “Fundo Los Perales, camino La Pólvora” en la comuna de Valparaíso, que conforme a los antecedentes proporcionados por la Dirección Regional de ONEMI, consume una superficie por confirmar de 1.145 hectáreas de pastizal, matorral y eucalipto.  A raíz de esta emergencia, se reportan 15 personas fallecidas, cinco lesionados (dos de ellos funcionarios de la Armada de Chile), 500 personas atendidas de manera ambulatoria, aproximadamente según evaluaciones a la fecha 11.000 damnificados; 943 albergados distribuidos en ocho albergues y 2.500 viviendas destruidas. Cabe mencionar que 157 personas se encontraban en la plaza O’Higgins en condición de campamento y que producto de la Alerta Sanitaria fueron derivados al Estadio O’Higgins que opera como albergue o a casas de familiares.  Hasta el momento, producto del incendio, se registra un corte de suministro eléctrico que afecta un total de 2.258 clientes pertenecientes a los sectores de El Vergel Alto, Cerro La Cruz, Cerro Las Cañas, Cerro El Litre, Cerro Merced, Rocuant, Cuesta Colorada, Ramaditas y Trinquete.  S.E. la Presidenta de la República, decretó Estado de Excepción Constitucional de Catástrofe en la Comuna de Valparaíso, quedando a cargo de la emergencia el Comandante en Jefe de la Primera Zona Naval, Contralmirante Julio Leiva.  Según lo indicado por la Dirección Meteorológica de Chile, para hoy, en la comuna de Valparaíso se espera cielo nublado variando a nubosidad parcial con neblina matinal y viento sur a suroeste de intensidad regular, con una temperatura máxima de 18 °C. Mientras que para el miércoles 16, se espera nubosidad parcial con viento sur a suroeste de intensidad regular y temperaturas extremas de 10°C la mínima y 22°C la máxima.  En consideración a lo anterior, la Intendencia Regional de Valparaíso, en base a información técnica proporcionada por CONAF y en coordinación con la Dirección Regional de ONEMI mantiene la Alerta Roja para las comunas de Viña del Mar y Valparaíso por incendio forestal y Alerta Temprana Preventiva para el resto de la Región por condiciones propicias para la ocurrencia y propagación de incendios forestales.  CURSOS DE ACCIÓN:  Se mantiene la restricción de acceso vehicular a las zonas afectadas por el incendio, entre las 21:00 y las 12:00 horas, con el fin de mantener un acceso expedito de los equipos de emergencia ante la activación de focos y facilitar las labores de remoción de escombros.  Por otra parte, la gestión se mantiene distribuida en tres tareas fundamentales. La primera consiste en el retiro de escombros que será realizado por efectivos de la Armada y Carabineros; la segunda corresponde a la logística de elementos de ayuda, que se encuentra a cargo del Ejército y por último la gestión de los albergues, que será efectuado por la Fuerza Aérea.  Existen habilitados ocho albergues, donde se encuentran 943 personas.  Además, de acuerdo a lo informado por la Seremi de Educación de Valparaíso, se mantiene la suspensión de clases en la comuna de Valparaíso para hoy martes 15 de Abril. La suspensión considera sólo a los alumnos desde la etapa preescolar hasta cuarto medio.  Los elementos de emergencia recibidos en la región consisten en: colchones, frazadas, raciones 12 y 24 horas, bidones y botellas de agua, mascarillas, pañales, carpas, viviendas de emergencia con kit de habilitación, retroexcavadora, guantes quirúrgicos, cascos de seguridad, guantes de cabritilla y baños químicos.  Además, se han desplegado los siguientes equipos en terreno en apoyo a esta emergencia: efectivos de la Armada y Ejército, Carabineros, dos Puestos Médicos Avanzados (PAME) junto a 11 móviles, SAMU, PDI, Equipo de ONEMI Regional, Unidad de Despliegue Territorial de ONEMI.  Hoy se integraron a apoyar en las labores de combate del incendio, los recursos provenientes desde Argentina, consistentes en seis aviones AT, junto a una delegación aproximada de 25 miembros del Plan Nacional de Manejo del Fuego de Argentina. Además, se contará con imágenes satelitales gracias a la activación de un Charter Internacional contando con la colaboración del Gobierno de Estados Unidos a través de su embajada presente en nuestro país.\n",
      "=============Reports================\n",
      "=============Story================\n",
      "\n",
      "=============Reports================\n",
      "=============Story================\n",
      "\n",
      "=============Reports================\n",
      "=============Story================\n",
      "Controlado se encuentra el incendio forestal denominado “La Gruta” ubicado en la comuna de Quilpué, el cual afecta una superficie de 10,6 hectáreas de vegetación. A raíz del incendio se registraron tres personas damnificadas, cinco viviendas destruidas y una desarmaduría con daños. Los damnificados se encuentran en casa de familiares. Dada la cantidad de combustible y las condiciones meteorológicas presente en el sector, se mantiene Alerta Roja para la comuna de Quilpué.  Respecto a las personas de 10 viviendas evacuadas en forma preventiva, fueron trasladados a un recinto dispuesto por el Municipio, y están retornando paulatinamente a sus hogares.  Trabajan en la emergencia CONAF, Bomberos, camiones aljibes Municipales, Carabineros, PDI, Chilquinta, Encargado Comunal y Provincial de Emergencia, Gobernador Provincial (s), Alcalde Municipal y ONEMI Regional.  Consultar recomendaciones\n",
      "=============Reports================\n",
      "=============Story================\n",
      "GUANGZHOU, June 16 (Xinhua) -- About 13,000 people have been evacuated after typhoon Hagibis landed in sea areas of Shantou City in south China's Guangdong Province on Sunday afternoon, local authorities said Monday.  The tropical storm, China's first in 2014, made landfall on the coast of Haojiang District at 4:50 p.m. Sunday, bringing downpours of up to 302 mm in precipitation.  Torrential rain hit 14 villages in two townships, resulting in the relocation of more than 13,000 residents.  No casualties have been reported thus far.  Shantou has dispatched patrols and a rescue team to deal with potential disasters.\n",
      "=============Reports================\n",
      "Location: ['GUANGZHOU']  DateTime:   EventTerm: evacuate  SubjectTerm:  people  Quantity: 13,000\n",
      "=============Story================\n",
      "I. International Chile - Forest Fires UPDATE (DG ECHO, ONEMI, CONAF) A large number of wildfires have been burning across the country over the past weeks, especially in the central and southern regions, causing casualties and damage.  The National Office of Emergencies of Interior Ministry (ONEMI) reported, as of 03 February at 21.00 UTC, 118 forest fires, of which 19 are active, 41 have been controlled and 58 have been extinguished, in the regions of Coquimbo, Valparaiso, Metropolitan, O'Higgins, Biobio, La Araucania, Los Rios.  ONEMI reported, as of 04 February at 09.00 UTC, 11 deaths and 7 314 people affected. 1 610 houses have been destroyed and 465 people are in temporary shelters. II. Europe Reported high discharges/floods warnings during the last 24 hours (National services, EFAS) United Kingdom: 1 Flood Warning (2nd level) is active for North East England.  1 Flood Warning (2nd level) is active for North East England. Hungary: National authorities report the highest alert level exceeded on the Toplica and Pakra rivers.  National authorities report the highest alert level exceeded on the Toplica and Pakra rivers. Romania: National authority issued a warning of the 2nd highest level for Tur, Lapus, Iza, Maramures and Saru Mare basins. Meteoalarm - as of 4 February, 9.00 (UTC) (EUMETNET Meteoalarm) Strong winds in central France , south-western Germany , central Italy , Montenegro , northern Spain and south-western Switzerland - Orange Alert.  , south-western , central , , northern and south-western - Orange Alert. Rain in southern Montenegro - Orange Alert.  - Orange Alert. Snow/Ice in central Poland - Orange Alert.  - Orange Alert. Coastal events in south-western France and northern Spain - Orange Alert. III. Factsheets N/A Reuse is authorised, provided the source is acknowledged and the original meaning of the document is not distorted. Reuse is not applicable to documents subject to intellectual property rights of third parties. The Commission accepts no responsibility or liability whatsoever with regard to the information contained in this document nor for any consequence stemming from the reuse thereof.\n",
      "=============Reports================\n",
      "Location: ['Coquimbo', 'Valparaiso', 'Metropolitan', \"O'Higgins\", 'Biobio', 'La Araucania', 'Los Rios']  DateTime:   EventTerm: destroy  SubjectTerm:  houses  Quantity: 1\n",
      "Location: ['Coquimbo', 'Valparaiso', 'Metropolitan', \"O'Higgins\", 'Biobio', 'La Araucania', 'Los Rios']  DateTime:   EventTerm: destroy  SubjectTerm:  houses  Quantity: 610\n",
      "=============Story================\n",
      "\n",
      "=============Reports================\n",
      "=============Story================\n",
      "BEIJING, March 31 (Xinhua) -- The Ministry of Civil Affairs has sent 1,000 tents, 2,000 sleeping bags, 2,000 folding beds and 1,000 sets of folding desks and chairs to Jianhe County in southwestern Guizhou Province after it was hit by a 5.5-magnitude earthquake on Monday morning.  No deaths have been reported, though the quake was Guizhou's biggest in terms of magnitude since 1949. More than 23,000 people have been affected and 2,536 relocated.  Provincial authorities have sent teams to help with the rescue work and allocated 1 million yuan (about 162,880 U.S. dollars) and 206 tents for disaster relief.\n",
      "=============Reports================\n",
      "=============Story================\n",
      "Southern provinces of China have been plagued by heavy rain over the last 5 weeks, many of them enduring the wettest May for 40 years, according to China’s National Meteorological Center (NMC).  Deadly floods struck on 11 May 2015 in southern China, when 7 people died. Since then, dozens more have lost their lives, including 10 people over the last 2 days, where heavy rainfall has affected 9 provinces and municipalities.  According to China’s Ministry of Civil Affairs, the affected areas are Zhejiang, Anhui, Fujian, Jiangxi, Hubei, Hunan, Chongqing, Sichuan and Guizhou. The Ministry said yesterday that at least 10 people have been killed in flood-related incidents over the last 2 days, including drowning, landslides and collapsed buildings. At least 4 people are still missing.  Rainfall Levels  Changsha, the capital of Hunan Province, saw 89.3 mm of rain fall in 24 hours to 08 June 2015, according to WMO. Huangshan in Anhui province saw 80 mm during the same period. Qinzhou in Guangxi received 176.8 mm of rain in 24 hours to 09 June 2015.  China Natural Disaster Figures, May 2015  Recent official figures from China say that natural disasters such as rainstorms, floods, hail and drought, left 123 people dead, 15 missing and affected more than 20 million people across China in May 2015.  The Chinese Ministry of Civil Affairs said the country suffered economic losses of $3.5 billion as a result, with that more than 70% of the economic damage caused by flooding. The main figures are as follows:  123 people killed  15 missing  518,000 displaced or relocated  354,000 required emergency assistance  27,000 houses destroyed  293,000 houses damaged\n",
      "=============Reports================\n",
      "Location: ['China']  DateTime:   EventTerm: die  SubjectTerm:  people  Quantity: 7\n",
      "Location: ['Zhejiang', 'Anhui', 'Fujian', 'Jiangxi', 'Hubei', 'Hunan', 'Chongqing', 'Sichuan', 'Guizhou']  DateTime:   EventTerm: kill  SubjectTerm:  people  Quantity: 10\n",
      "Location: []  DateTime:   EventTerm: kill  SubjectTerm:  people  Quantity: 123\n",
      "Location: []  DateTime:   EventTerm: destroy  SubjectTerm:  houses  Quantity: 354,000\n",
      "Location: []  DateTime:   EventTerm: destroy  SubjectTerm:  houses  Quantity: 27,000\n",
      "Location: []  DateTime:   EventTerm: damage  SubjectTerm:  houses  Quantity: 293,000\n",
      "=============Story================\n",
      "Heavy rainfall has affected north-western and central-eastern China since 25 June, causing deadly floods and landslides in several provinces.  Henan Province  6 dead  800 people evacuated  Over 100 homes destroyed, 200 damaged  More than 6,700 hectares of crops have been damaged  Shangcheng County worst affected  Shaanxi Province  4 dead, 13 missing  10,400 houses damaged  451,000 people affected  34,000 evacuated  Over 35,00 hectares of crops damaged  Sichuan Province  5 dead, 2 missing  Nanjiang County worst hit  263,000 evacuated  Anhui Province  5 dead, 2 missing  Xinjiang Province  26,000 houses damaged  China National Meteorological Center Warning  Yesterday, 29 June 2015, China’s National Meteorological Center issued warnings for further heavy rainfall over the coming 2 days.  “In the following two days, Jiangsu, Anhui and Sichuan Basin will get severe precipitation. Today, extreme downpours will hit northern Sichuan Basin, northern Anhui and northern Jiangsu. Eastern Qinghai, northeastern Liaoning and southeastern Jilin will see heavy rain or rainstorms”.  Rainfall Figures  Figures from WMO for a 24 hour period.  29 to 30 June 2015  Xuzhou – 74.1 mm  Bengbu -71.8 mm  Chongqing – 65.8 mm  30 June to 01 July 2015  Huang Shan – 67.1 mm  Xiushui – 68.2 mm  Lu Shan – 70.0 mm  Emei Shan – 76.6 mm\n",
      "=============Reports================\n",
      "Location: ['China']  DateTime:   EventTerm: evacuate  SubjectTerm:  homes  Quantity: 100\n",
      "Location: ['China']  DateTime:   EventTerm: damage  SubjectTerm:  people  Quantity: 451,000\n",
      "Location: ['China']  DateTime:   EventTerm: damage  SubjectTerm:  houses  Quantity: 2\n",
      "Location: ['China']  DateTime:   EventTerm: damage  SubjectTerm:  houses  Quantity: 26,000\n",
      "=============Story================\n",
      "NANCHANG/CHANGSHA, April 4 (Xinhua) -- Floods caused by hail and downpours have damaged crops and halted traffic in central and east China, with hundreds of thousands of people affected.  In central China's Hunan Province, hail and storms since Friday evening have damaged 292,000 mu (19,467 hectares) of crops in 52 villages and towns. Of the 239,500 people affected, 12,100 have been evacuated as of 6 p.m. Saturday.  Heavy downpours have flooded houses in Yueyang City in northern part of Hunan, trapping some local residents. Some roads were also flooded, with many vehicles stuck.  More rain is forecasted in the following few days, according to Hunan's provincial meteorological bureau.  In the eastern Jiangxi Province, heavy rain has battered 54 cities and counties as of 6 p.m. Saturday, with some towns flooded and a highway landslide reported on Saturday afternoon. Icy roads have caused several bus accidents in the province.  No casualties have been reported so far.\n",
      "=============Reports================\n",
      "=============Story================\n",
      "Rescuers work at the site of landslide in Yingping Village in Fuquan City, southwest China's Guizhou Province, on Aug. 28, 2014. One person was killed, and eleven remain missing after a landslide struck a village in southwest China's Guizhou Province on Wednesday night. (Xinhua/Liu Xu)  GUIYANG, Aug. 28 (Xinhua) -- At least six people were killed and 21 remained missing as of Thursday morning after a landslide struck a village in southwest China's Guizhou Province on Wednesday night.  The accident happened at around 8 p.m., when a landslide hit Yingping Village in Fuquan City. Twenty-two people were injured as of 6 a.m. on Thursday, according to the rescue headquarters.  A total of 77 houses collapsed or were buried in the landslide and the lives of 154 villagers were affected.  Rescue work is under way.\n",
      "=============Reports================\n",
      "Location: ['China', 'Guizhou Province']  DateTime:   EventTerm: kill  SubjectTerm:  people  Quantity: six\n"
     ]
    }
   ],
   "source": [
    "for s in features[:100]:\n",
    "    print(\"=============Story================\")\n",
    "    print(s)\n",
    "    print(\"=============Reports================\")\n",
    "    find_reports(s)"
   ]
  },
  {
   "cell_type": "code",
   "execution_count": null,
   "metadata": {
    "collapsed": true
   },
   "outputs": [],
   "source": []
  }
 ],
 "metadata": {
  "kernelspec": {
   "display_name": "Python [Root]",
   "language": "python",
   "name": "Python [Root]"
  },
  "language_info": {
   "codemirror_mode": {
    "name": "ipython",
    "version": 3
   },
   "file_extension": ".py",
   "mimetype": "text/x-python",
   "name": "python",
   "nbconvert_exporter": "python",
   "pygments_lexer": "ipython3",
   "version": "3.5.2"
  }
 },
 "nbformat": 4,
 "nbformat_minor": 2
}
